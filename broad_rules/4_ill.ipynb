{
 "cells": [
  {
   "cell_type": "code",
   "execution_count": 2,
   "metadata": {},
   "outputs": [],
   "source": [
    "import sys, os\n",
    "import pandas as pd\n",
    "import numpy as np\n",
    "import ast\n",
    "from bs4 import BeautifulSoup\n",
    "from collections import Counter\n",
    "import wikifunctions as wf\n",
    "import datetime\n",
    "import matplotlib as plt\n",
    "import seaborn as sb\n",
    "import re\n",
    "from pathlib import Path"
   ]
  },
  {
   "cell_type": "code",
   "execution_count": 3,
   "metadata": {},
   "outputs": [],
   "source": [
    "#rules = pd.read_csv(\"202104_rules_withillcolumns\",sep='\\t',header=0)\n",
    "#rules.loc[rules.num_links==5].drop_duplicates(subset=['rc'],keep='first').to_csv('rule_concepts_all_ills.tsv',sep='\\t',index=False, header=True)\n",
    "rules = pd.read_csv(\"rule_concepts_all_ills.tsv\",sep='\\t',header=0)"
   ]
  },
  {
   "cell_type": "code",
   "execution_count": 4,
   "metadata": {},
   "outputs": [
    {
     "name": "stderr",
     "output_type": "stream",
     "text": [
      "C:\\Users\\sohye\\AppData\\Local\\Temp\\ipykernel_10772\\4278710304.py:7: DtypeWarning: Columns (0,3,14) have mixed types. Specify dtype option on import or set low_memory=False.\n",
      "  rev_df_en = pd.read_csv( rev_path / \"en_revisions.tsv\",sep='\\t',header=0,encoding='utf8',parse_dates=['date','timestamp'])\n",
      "C:\\Users\\sohye\\AppData\\Local\\Temp\\ipykernel_10772\\4278710304.py:9: DtypeWarning: Columns (14,15,16,17) have mixed types. Specify dtype option on import or set low_memory=False.\n",
      "  rev_df_fr = pd.read_csv( rev_path / \"fr_revisions.tsv\",sep='\\t',header=0,encoding='utf8',parse_dates=['date','timestamp'])\n"
     ]
    }
   ],
   "source": [
    "#C:\\sohw\\wikipi\\1.0_dataverse\\output_rulepagerevs\\2022-06-06\n",
    "\n",
    "rev_path = Path(os.getcwd()).parent.parent / \"1.0_dataverse\" / \"output_rulepagerevs\" / \"2022-06-06\" #/ \"2020-07-31\"\n",
    "\n",
    "# page revision histories\n",
    "rev_df_de = pd.read_csv( rev_path / \"de_revisions.tsv\",sep='\\t',header=0,encoding='utf8',parse_dates=['date','timestamp'])\n",
    "rev_df_en = pd.read_csv( rev_path / \"en_revisions.tsv\",sep='\\t',header=0,encoding='utf8',parse_dates=['date','timestamp'])\n",
    "rev_df_es = pd.read_csv( rev_path / \"es_revisions.tsv\",sep='\\t',header=0,encoding='utf8',parse_dates=['date','timestamp'])\n",
    "rev_df_fr = pd.read_csv( rev_path / \"fr_revisions.tsv\",sep='\\t',header=0,encoding='utf8',parse_dates=['date','timestamp'])\n",
    "rev_df_ja = pd.read_csv( rev_path / \"ja_revisions.tsv\",sep='\\t',header=0,encoding='utf8',parse_dates=['date','timestamp'])\n",
    "\n",
    "# talk page revision histories\n",
    "talkrev_df_de = pd.read_csv( rev_path / \"de_revisions_talk.tsv\",sep='\\t',header=0,encoding='utf8',parse_dates=['date','timestamp'],low_memory=False)\n",
    "talkrev_df_en = pd.read_csv( rev_path / \"en_revisions_talk.tsv\",sep='\\t',header=0,encoding='utf8',parse_dates=['date','timestamp'],low_memory=False)\n",
    "talkrev_df_es = pd.read_csv( rev_path / \"es_revisions_talk.tsv\",sep='\\t',header=0,encoding='utf8',parse_dates=['date','timestamp'],low_memory=False)\n",
    "talkrev_df_fr = pd.read_csv( rev_path / \"fr_revisions_talk.tsv\",sep='\\t',header=0,encoding='utf8',parse_dates=['date','timestamp'],low_memory=False)\n",
    "talkrev_df_ja = pd.read_csv( rev_path / \"ja_revisions_talk.tsv\",sep='\\t',header=0,encoding='utf8',parse_dates=['date','timestamp'],low_memory=False)"
   ]
  },
  {
   "cell_type": "code",
   "execution_count": 5,
   "metadata": {},
   "outputs": [],
   "source": [
    "# get rid of duplicate revisions for each language edition\n",
    "rev_df_de.drop_duplicates(subset=['revid'],inplace=True)\n",
    "rev_df_en.drop_duplicates(subset=['revid'],inplace=True)\n",
    "rev_df_es.drop_duplicates(subset=['revid'],inplace=True)\n",
    "rev_df_fr.drop_duplicates(subset=['revid'],inplace=True)\n",
    "rev_df_ja.drop_duplicates(subset=['revid'],inplace=True)\n",
    "\n",
    "talkrev_df_de.drop_duplicates(subset=['revid'],inplace=True)\n",
    "talkrev_df_en.drop_duplicates(subset=['revid'],inplace=True)\n",
    "talkrev_df_es.drop_duplicates(subset=['revid'],inplace=True)\n",
    "talkrev_df_fr.drop_duplicates(subset=['revid'],inplace=True)\n",
    "talkrev_df_ja.drop_duplicates(subset=['revid'],inplace=True)\n",
    "\n",
    "# get rid of incomplete data\n",
    "rev_df_de.dropna(subset=['revid','date','diff','lag'],inplace=True)\n",
    "rev_df_en.dropna(subset=['revid','date','diff','lag'],inplace=True)\n",
    "rev_df_es.dropna(subset=['revid','date','diff','lag'],inplace=True)\n",
    "rev_df_fr.dropna(subset=['revid','date','diff','lag'],inplace=True)\n",
    "rev_df_ja.dropna(subset=['revid','date','diff','lag'],inplace=True)\n",
    "\n",
    "talkrev_df_de.dropna(subset=['revid','date','diff','lag'],inplace=True)\n",
    "talkrev_df_en.dropna(subset=['revid','date','diff','lag'],inplace=True)\n",
    "talkrev_df_es.dropna(subset=['revid','date','diff','lag'],inplace=True)\n",
    "talkrev_df_fr.dropna(subset=['revid','date','diff','lag'],inplace=True)\n",
    "talkrev_df_ja.dropna(subset=['revid','date','diff','lag'],inplace=True)"
   ]
  },
  {
   "cell_type": "code",
   "execution_count": 6,
   "metadata": {},
   "outputs": [],
   "source": [
    "# make a column for the year of the revision\n",
    "rev_df_de['year'] = rev_df_de['timestamp'].dt.strftime('%Y')\n",
    "rev_df_de['year'] = rev_df_de['year'].astype(np.int64)\n",
    "talkrev_df_de['year'] = talkrev_df_de['timestamp'].dt.strftime('%Y')\n",
    "talkrev_df_de['year'] = talkrev_df_de['year'].astype(np.int64)\n",
    "\n",
    "rev_df_en['year'] = rev_df_en['date'].dt.strftime('%Y')\n",
    "rev_df_en['year'] = rev_df_en['year'].astype(np.int64)\n",
    "talkrev_df_en['year'] = talkrev_df_en['timestamp'].dt.strftime('%Y')\n",
    "talkrev_df_en['year'] = talkrev_df_en['year'].astype(np.int64)\n",
    "\n",
    "rev_df_es['year'] = rev_df_es['timestamp'].dt.strftime('%Y')\n",
    "rev_df_es['year'] = rev_df_es['year'].astype(np.int64)\n",
    "talkrev_df_es['year'] = talkrev_df_es['timestamp'].dt.strftime('%Y')\n",
    "talkrev_df_es['year'] = talkrev_df_es['year'].astype(np.int64)\n",
    "\n",
    "rev_df_fr['year'] = rev_df_fr['timestamp'].dt.strftime('%Y')\n",
    "rev_df_fr['year'] = rev_df_fr['year'].astype(np.int64)\n",
    "talkrev_df_fr['year'] = talkrev_df_fr['timestamp'].dt.strftime('%Y')\n",
    "talkrev_df_fr['year'] = talkrev_df_fr['year'].astype(np.int64)\n",
    "\n",
    "rev_df_ja['year'] = rev_df_ja['timestamp'].dt.strftime('%Y')\n",
    "rev_df_ja['year'] = rev_df_ja['year'].astype(np.int64)\n",
    "talkrev_df_ja['year'] = talkrev_df_ja['timestamp'].dt.strftime('%Y')\n",
    "talkrev_df_ja['year'] = talkrev_df_ja['year'].astype(np.int64)"
   ]
  },
  {
   "cell_type": "code",
   "execution_count": 7,
   "metadata": {},
   "outputs": [],
   "source": [
    "rev_df_list = [rev_df_en,rev_df_fr,rev_df_de,rev_df_ja,rev_df_es]\n",
    "talkrev_df_list = [talkrev_df_en,talkrev_df_fr,talkrev_df_de,talkrev_df_ja,talkrev_df_es]"
   ]
  },
  {
   "attachments": {},
   "cell_type": "markdown",
   "metadata": {},
   "source": [
    "wikilinks\n",
    "linkcount.toolforge.org\n",
    "\n",
    "3/30/2023\n",
    "direct links to those rule pages\n",
    "```\n",
    "             en       de       es        fr       ja\n",
    "NPOV  1,664,538   66,408   60,689   152,508   74,803\n",
    "   V  3,634,746  250,003  100,905   238,610  254,320\n",
    " NOR  1,271,333    8,089   13,491    75,367   61,404\n",
    "```\n",
    "\n",
    "`2002\t5\tWikipedia:Neutraler Standpunkt\tWikipedia:Neutral point of view\tWikipedia:Punto de vista neutral\tWikipédia:Neutralité de point de vue\tWikipedia:中立的な観点\t131.0`\n",
    "\n",
    "`2005\t5\tWikipedia:Belege\tWikipedia:Verifiability\tWikipedia:Verificabilidad\tWikipédia:Vérifiabilité\tWikipedia:検証可能性\t41.0`\n",
    "\n",
    "`2006\t5\tWikipedia:Keine Theoriefindung\tWikipedia:No original research\tWikipedia:Wikipedia no es una fuente primaria\tWikipédia:Travaux inédits\tWikipedia:独自研究は載せない\t85.0`"
   ]
  },
  {
   "cell_type": "code",
   "execution_count": 8,
   "metadata": {},
   "outputs": [],
   "source": [
    "#`2002\t5\tWikipedia:Neutraler Standpunkt\tWikipedia:Neutral point of view\tWikipedia:Punto de vista neutral\tWikipédia:Neutralité de point de vue\tWikipedia:中立的な観点\t131.0`\n",
    "\n",
    "npov_en = rev_df_en.loc[rev_df_en.page==\"Wikipedia:Neutral point of view\"]\n",
    "npov_en_talk = talkrev_df_en.loc[talkrev_df_en.page==\"Wikipedia talk:Neutral point of view\"]\n",
    "\n",
    "npov_fr = rev_df_fr.loc[rev_df_fr.page==\"Wikipédia:Neutralité de point de vue\"]\n",
    "npov_fr_talk = talkrev_df_fr.loc[talkrev_df_fr.page==\"Discussion Wikipédia:Neutralité de point de vue\"]\n",
    "\n",
    "npov_de = rev_df_de.loc[rev_df_de.page==\"Wikipedia:Neutraler Standpunkt\"]\n",
    "npov_de_talk = talkrev_df_de.loc[talkrev_df_de.page==\"Wikipedia Diskussion:Neutraler Standpunkt\"]\n",
    "\n",
    "npov_es = rev_df_es.loc[rev_df_es.page==\"Wikipedia:Punto de vista neutral\"]\n",
    "npov_es_talk = talkrev_df_es.loc[talkrev_df_es.page==\"Wikipedia discusión:Punto de vista neutral\"]\n",
    "\n",
    "npov_ja = rev_df_ja.loc[rev_df_ja.page==\"Wikipedia:中立的な観点\"]\n",
    "npov_ja_talk = talkrev_df_ja.loc[talkrev_df_ja.page==\"Wikipedia‐ノート:中立的な観点\"]\n"
   ]
  },
  {
   "cell_type": "code",
   "execution_count": 8,
   "metadata": {},
   "outputs": [
    {
     "data": {
      "text/plain": [
       "['http://www.bbc.co.uk/bbctrust/news/press_releases/2011/science_impartiality.html',\n",
       " 'https://web.archive.org/web/20121221081200/http://www.bbc.co.uk/bbctrust/news/press_releases/2011/science_impartiality.html',\n",
       " 'http://downloads.bbc.co.uk/bbctrust/assets/files/pdf/our_work/science_impartiality/trust_conclusions.pdf',\n",
       " 'https://web.archive.org/web/20140707232459/http://downloads.bbc.co.uk/bbctrust/assets/files/pdf/our_work/science_impartiality/trust_conclusions.pdf',\n",
       " 'https://lists.wikimedia.org/pipermail/wikien-l/2003-September/006715.html',\n",
       " 'https://web.archive.org/web/20001205000200/http://www.nupedia.com/policy.shtml#III',\n",
       " 'https://web.archive.org/web/20010416035716/www.wikipedia.com/wiki/RulesToConsider',\n",
       " 'http://cyber.law.harvard.edu/~reagle/wp-redux/NeutralPointOfView/982358834.html',\n",
       " 'https://web.archive.org/web/20010416035757/http://www.wikipedia.com/wiki/NeutralPointOfView',\n",
       " 'https://web.archive.org/web/20110406110157/http://lists.wikimedia.org/pipermail/wikien-l/2003-November/008096.html',\n",
       " 'http://lists.wikimedia.org/pipermail/wikien-l/2006-April/044386.html',\n",
       " 'https://web.archive.org/web/20110217075343/http://www.gossamer-threads.com/lists/wiki/foundation/123928#123928',\n",
       " 'http://mail.wikipedia.org/pipermail/wikien-l/2003-September/006715.html']"
      ]
     },
     "execution_count": 8,
     "metadata": {},
     "output_type": "execute_result"
    }
   ],
   "source": [
    "wf.get_page_externallinks(\"Wikipédia:Neutralité de point de vue\",endpoint='fr.wikipedia.org/w/api.php')\n",
    "wf.get_page_externallinks(\"Wikipedia:Punto de vista neutral\",endpoint='es.wikipedia.org/w/api.php')\n",
    "wf.get_page_externallinks(\"Wikipedia:Neutraler Standpunkt\",endpoint='de.wikipedia.org/w/api.php')\n",
    "wf.get_page_externallinks(\"Wikipedia:中立的な観点\",endpoint='ja.wikipedia.org/w/api.php')\n",
    "wf.get_page_externallinks(\"Wikipedia:Neutral point of view\")\n"
   ]
  },
  {
   "cell_type": "code",
   "execution_count": 9,
   "metadata": {},
   "outputs": [],
   "source": [
    "npov = [npov_en,npov_fr,npov_de,npov_ja,npov_es]\n",
    "npov_talk = [npov_en_talk,npov_fr_talk,npov_de_talk,npov_ja_talk,npov_es_talk]"
   ]
  },
  {
   "cell_type": "code",
   "execution_count": 10,
   "metadata": {},
   "outputs": [
    {
     "name": "stdout",
     "output_type": "stream",
     "text": [
      "all revs 5497 anon 836 non-anon 4661 percent anon 0.1520829543387302\n",
      "2126 anon 624 percent anon 0.29350893697083724\n",
      "not anon 1502\n",
      "all revs 633 anon 96 non-anon 537 percent anon 0.15165876777251186\n",
      "289 anon 82 percent anon 0.2837370242214533\n",
      "not anon 207\n",
      "all revs 1039 anon 120 non-anon 919 percent anon 0.1154956689124158\n",
      "406 anon 93 percent anon 0.229064039408867\n",
      "not anon 313\n",
      "all revs 246 anon 46 non-anon 200 percent anon 0.1869918699186992\n",
      "126 anon 35 percent anon 0.2777777777777778\n",
      "not anon 91\n",
      "all revs 352 anon 83 non-anon 269 percent anon 0.23579545454545459\n",
      "196 anon 70 percent anon 0.35714285714285715\n",
      "not anon 126\n"
     ]
    }
   ],
   "source": [
    "for _df in npov:\n",
    "    _df_noAnon = _df.loc[_df.anon!=True]\n",
    "    _df_Anon = _df.loc[_df.anon==True]\n",
    "    print('all revs', len(_df), 'anon', len(_df_Anon),'non-anon', len(_df_noAnon), 'percent anon', 1-len(_df_noAnon)/len(_df))\n",
    "    print(len(set(_df.user.values.tolist())), 'anon', len(set(_df_Anon.user.values.tolist())), 'percent anon', len(set(_df_Anon.user.values.tolist()))/len(set(_df.user.values.tolist())))\n",
    "    print('not anon',len(set(_df_noAnon.user.values.tolist())))"
   ]
  },
  {
   "cell_type": "code",
   "execution_count": 11,
   "metadata": {},
   "outputs": [
    {
     "name": "stdout",
     "output_type": "stream",
     "text": [
      "all revs 15503 anon 435 non-anon 15068 percent anon 0.028059085338321577\n",
      "1411 anon 218 percent anon 0.15450035435861093\n",
      "not anon 1193\n",
      "all revs 713 anon 23 non-anon 690 percent anon 0.032258064516129004\n",
      "114 anon 14 percent anon 0.12280701754385964\n",
      "not anon 100\n",
      "all revs 3280 anon 189 non-anon 3091 percent anon 0.05762195121951219\n",
      "363 anon 109 percent anon 0.3002754820936639\n",
      "not anon 254\n",
      "all revs 575 anon 19 non-anon 556 percent anon 0.03304347826086962\n",
      "93 anon 9 percent anon 0.0967741935483871\n",
      "not anon 84\n",
      "all revs 202 anon 43 non-anon 159 percent anon 0.21287128712871284\n",
      "121 anon 34 percent anon 0.2809917355371901\n",
      "not anon 87\n"
     ]
    }
   ],
   "source": [
    "for _df in npov_talk:\n",
    "    _df_noAnon = _df.loc[_df.anon!=True]\n",
    "    _df_Anon = _df.loc[_df.anon==True]\n",
    "    print('all revs', len(_df), 'anon', len(_df_Anon),'non-anon', len(_df_noAnon), 'percent anon', 1-len(_df_noAnon)/len(_df))\n",
    "    print(len(set(_df.user.values.tolist())), 'anon', len(set(_df_Anon.user.values.tolist())), 'percent anon', len(set(_df_Anon.user.values.tolist()))/len(set(_df.user.values.tolist())))\n",
    "    print('not anon',len(set(_df_noAnon.user.values.tolist())))"
   ]
  },
  {
   "cell_type": "code",
   "execution_count": 12,
   "metadata": {},
   "outputs": [
    {
     "name": "stdout",
     "output_type": "stream",
     "text": [
      "2126\n",
      "2.585606773283161\n",
      "289\n",
      "2.190311418685121\n",
      "406\n",
      "2.5591133004926108\n",
      "126\n",
      "1.9523809523809523\n",
      "196\n",
      "1.7959183673469388\n",
      "\n",
      "1411\n",
      "10.987243090007087\n",
      "114\n",
      "6.254385964912281\n",
      "363\n",
      "9.03581267217631\n",
      "93\n",
      "6.182795698924731\n",
      "121\n",
      "1.6694214876033058\n"
     ]
    }
   ],
   "source": [
    "for _df in npov:\n",
    "    print(len(set(_df.user.values.tolist())))\n",
    "    print(len(_df) / len(set(_df.user.values.tolist())))\n",
    "print(\"\")\n",
    "for _df in npov_talk:\n",
    "    print(len(set(_df.user.values.tolist())))\n",
    "    print(len(_df) / len(set(_df.user.values.tolist())))"
   ]
  },
  {
   "cell_type": "code",
   "execution_count": 13,
   "metadata": {},
   "outputs": [
    {
     "data": {
      "text/plain": [
       "26"
      ]
     },
     "execution_count": 13,
     "metadata": {},
     "output_type": "execute_result"
    }
   ],
   "source": [
    "len(set(npov_es.user.values.tolist()).intersection(set(npov_es_talk.user.values.tolist())))"
   ]
  },
  {
   "cell_type": "code",
   "execution_count": 14,
   "metadata": {},
   "outputs": [
    {
     "data": {
      "text/plain": [
       "{'212.24.201.79',\n",
       " '88.17.28.245',\n",
       " 'Addbot',\n",
       " 'Almabot',\n",
       " 'BOTarate',\n",
       " 'BodhisattvaBot',\n",
       " 'Brion VIBBER',\n",
       " 'EmausBot',\n",
       " 'JAnDbot',\n",
       " 'Michelet',\n",
       " 'Obersachsebot',\n",
       " 'OffsBlink',\n",
       " 'Rama',\n",
       " 'Rezabot',\n",
       " 'SashatoBot',\n",
       " 'Synthebot',\n",
       " 'VolkovBot',\n",
       " 'Xqbot',\n",
       " 'YurikBot'}"
      ]
     },
     "execution_count": 14,
     "metadata": {},
     "output_type": "execute_result"
    }
   ],
   "source": [
    "set(npov_en.user.values.tolist()).intersection(set(npov_fr.user.values.tolist()))"
   ]
  },
  {
   "cell_type": "code",
   "execution_count": 15,
   "metadata": {},
   "outputs": [
    {
     "data": {
      "text/plain": [
       "{'Addbot', 'Almabot', 'EmausBot', 'JAnDbot', 'VolkovBot', 'Xqbot'}"
      ]
     },
     "execution_count": 15,
     "metadata": {},
     "output_type": "execute_result"
    }
   ],
   "source": [
    "set(npov_en.user.values.tolist()).intersection(set(npov_fr.user.values.tolist())).intersection(set(npov_es.user.values.tolist())).intersection(set(npov_de.user.values.tolist())).intersection(set(npov_ja.user.values.tolist()))"
   ]
  },
  {
   "cell_type": "code",
   "execution_count": 16,
   "metadata": {},
   "outputs": [
    {
     "data": {
      "text/html": [
       "<div>\n",
       "<style scoped>\n",
       "    .dataframe tbody tr th:only-of-type {\n",
       "        vertical-align: middle;\n",
       "    }\n",
       "\n",
       "    .dataframe tbody tr th {\n",
       "        vertical-align: top;\n",
       "    }\n",
       "\n",
       "    .dataframe thead th {\n",
       "        text-align: right;\n",
       "    }\n",
       "</style>\n",
       "<table border=\"1\" class=\"dataframe\">\n",
       "  <thead>\n",
       "    <tr style=\"text-align: right;\">\n",
       "      <th></th>\n",
       "      <th>revid</th>\n",
       "      <th>parentid</th>\n",
       "      <th>user</th>\n",
       "      <th>userid</th>\n",
       "      <th>timestamp</th>\n",
       "      <th>size</th>\n",
       "      <th>sha1</th>\n",
       "      <th>comment</th>\n",
       "      <th>anon</th>\n",
       "      <th>page</th>\n",
       "      <th>date</th>\n",
       "      <th>diff</th>\n",
       "      <th>lag</th>\n",
       "      <th>age</th>\n",
       "      <th>sha1hidden</th>\n",
       "      <th>commenthidden</th>\n",
       "      <th>userhidden</th>\n",
       "      <th>suppressed</th>\n",
       "      <th>year</th>\n",
       "    </tr>\n",
       "  </thead>\n",
       "  <tbody>\n",
       "    <tr>\n",
       "      <th>4874</th>\n",
       "      <td>50078</td>\n",
       "      <td>37573</td>\n",
       "      <td>142.166.250.244</td>\n",
       "      <td>0</td>\n",
       "      <td>2003-07-29 19:12:08+00:00</td>\n",
       "      <td>64568</td>\n",
       "      <td>edbe77338c0c0f8f32bed59f391c3164b03161e3</td>\n",
       "      <td>NaN</td>\n",
       "      <td>True</td>\n",
       "      <td>Wikipedia:中立的な観点</td>\n",
       "      <td>2003-07-29</td>\n",
       "      <td>151.0</td>\n",
       "      <td>3302236.0</td>\n",
       "      <td>177.525336</td>\n",
       "      <td>NaN</td>\n",
       "      <td>NaN</td>\n",
       "      <td>NaN</td>\n",
       "      <td>NaN</td>\n",
       "      <td>2003</td>\n",
       "    </tr>\n",
       "  </tbody>\n",
       "</table>\n",
       "</div>"
      ],
      "text/plain": [
       "      revid  parentid             user  userid                 timestamp  \\\n",
       "4874  50078     37573  142.166.250.244       0 2003-07-29 19:12:08+00:00   \n",
       "\n",
       "       size                                      sha1 comment  anon  \\\n",
       "4874  64568  edbe77338c0c0f8f32bed59f391c3164b03161e3     NaN  True   \n",
       "\n",
       "                  page       date   diff        lag         age sha1hidden  \\\n",
       "4874  Wikipedia:中立的な観点 2003-07-29  151.0  3302236.0  177.525336        NaN   \n",
       "\n",
       "     commenthidden userhidden suppressed  year  \n",
       "4874           NaN        NaN        NaN  2003  "
      ]
     },
     "execution_count": 16,
     "metadata": {},
     "output_type": "execute_result"
    }
   ],
   "source": [
    "npov_ja.loc[npov_ja.user=='142.166.250.244']"
   ]
  },
  {
   "cell_type": "code",
   "execution_count": 17,
   "metadata": {},
   "outputs": [],
   "source": [
    "overlapping_ip_addresses = ['88.17.28.245', '142.166.250.244', '80.185.166.55', '195.98.8.3', '212.24.201.79']"
   ]
  },
  {
   "cell_type": "code",
   "execution_count": 18,
   "metadata": {},
   "outputs": [
    {
     "data": {
      "text/html": [
       "<div>\n",
       "<style scoped>\n",
       "    .dataframe tbody tr th:only-of-type {\n",
       "        vertical-align: middle;\n",
       "    }\n",
       "\n",
       "    .dataframe tbody tr th {\n",
       "        vertical-align: top;\n",
       "    }\n",
       "\n",
       "    .dataframe thead th {\n",
       "        text-align: right;\n",
       "    }\n",
       "</style>\n",
       "<table border=\"1\" class=\"dataframe\">\n",
       "  <thead>\n",
       "    <tr style=\"text-align: right;\">\n",
       "      <th></th>\n",
       "      <th>index</th>\n",
       "      <th>user</th>\n",
       "      <th>0</th>\n",
       "    </tr>\n",
       "  </thead>\n",
       "  <tbody>\n",
       "    <tr>\n",
       "      <th>0</th>\n",
       "      <td>0</td>\n",
       "      <td>Francis Schonken</td>\n",
       "      <td>121</td>\n",
       "    </tr>\n",
       "    <tr>\n",
       "      <th>1</th>\n",
       "      <td>1</td>\n",
       "      <td>SlimVirgin</td>\n",
       "      <td>112</td>\n",
       "    </tr>\n",
       "    <tr>\n",
       "      <th>2</th>\n",
       "      <td>2</td>\n",
       "      <td>QuackGuru</td>\n",
       "      <td>99</td>\n",
       "    </tr>\n",
       "    <tr>\n",
       "      <th>3</th>\n",
       "      <td>3</td>\n",
       "      <td>Kotniski</td>\n",
       "      <td>86</td>\n",
       "    </tr>\n",
       "    <tr>\n",
       "      <th>4</th>\n",
       "      <td>4</td>\n",
       "      <td>Crum375</td>\n",
       "      <td>85</td>\n",
       "    </tr>\n",
       "    <tr>\n",
       "      <th>...</th>\n",
       "      <td>...</td>\n",
       "      <td>...</td>\n",
       "      <td>...</td>\n",
       "    </tr>\n",
       "    <tr>\n",
       "      <th>2120</th>\n",
       "      <td>2120</td>\n",
       "      <td>Ben Standeven</td>\n",
       "      <td>1</td>\n",
       "    </tr>\n",
       "    <tr>\n",
       "      <th>2121</th>\n",
       "      <td>2121</td>\n",
       "      <td>Bemoeial</td>\n",
       "      <td>1</td>\n",
       "    </tr>\n",
       "    <tr>\n",
       "      <th>2122</th>\n",
       "      <td>2122</td>\n",
       "      <td>Beland</td>\n",
       "      <td>1</td>\n",
       "    </tr>\n",
       "    <tr>\n",
       "      <th>2123</th>\n",
       "      <td>2123</td>\n",
       "      <td>Behaafarid</td>\n",
       "      <td>1</td>\n",
       "    </tr>\n",
       "    <tr>\n",
       "      <th>2124</th>\n",
       "      <td>2124</td>\n",
       "      <td>Ethan Charles Rogers</td>\n",
       "      <td>1</td>\n",
       "    </tr>\n",
       "  </tbody>\n",
       "</table>\n",
       "<p>2125 rows × 3 columns</p>\n",
       "</div>"
      ],
      "text/plain": [
       "      index                  user    0\n",
       "0         0      Francis Schonken  121\n",
       "1         1            SlimVirgin  112\n",
       "2         2             QuackGuru   99\n",
       "3         3              Kotniski   86\n",
       "4         4               Crum375   85\n",
       "...     ...                   ...  ...\n",
       "2120   2120         Ben Standeven    1\n",
       "2121   2121              Bemoeial    1\n",
       "2122   2122                Beland    1\n",
       "2123   2123            Behaafarid    1\n",
       "2124   2124  Ethan Charles Rogers    1\n",
       "\n",
       "[2125 rows x 3 columns]"
      ]
     },
     "execution_count": 18,
     "metadata": {},
     "output_type": "execute_result"
    }
   ],
   "source": [
    "npov_en.groupby(by=['user']).size().sort_values(ascending=False).reset_index().reset_index()"
   ]
  },
  {
   "cell_type": "code",
   "execution_count": 19,
   "metadata": {},
   "outputs": [
    {
     "data": {
      "text/html": [
       "<svg  width=\"550\" height=\"55\"><rect x=\"0\" y=\"0\" width=\"55\" height=\"55\" style=\"fill:#0173b2;stroke-width:2;stroke:rgb(255,255,255)\"/><rect x=\"55\" y=\"0\" width=\"55\" height=\"55\" style=\"fill:#de8f05;stroke-width:2;stroke:rgb(255,255,255)\"/><rect x=\"110\" y=\"0\" width=\"55\" height=\"55\" style=\"fill:#029e73;stroke-width:2;stroke:rgb(255,255,255)\"/><rect x=\"165\" y=\"0\" width=\"55\" height=\"55\" style=\"fill:#d55e00;stroke-width:2;stroke:rgb(255,255,255)\"/><rect x=\"220\" y=\"0\" width=\"55\" height=\"55\" style=\"fill:#cc78bc;stroke-width:2;stroke:rgb(255,255,255)\"/><rect x=\"275\" y=\"0\" width=\"55\" height=\"55\" style=\"fill:#ca9161;stroke-width:2;stroke:rgb(255,255,255)\"/><rect x=\"330\" y=\"0\" width=\"55\" height=\"55\" style=\"fill:#fbafe4;stroke-width:2;stroke:rgb(255,255,255)\"/><rect x=\"385\" y=\"0\" width=\"55\" height=\"55\" style=\"fill:#949494;stroke-width:2;stroke:rgb(255,255,255)\"/><rect x=\"440\" y=\"0\" width=\"55\" height=\"55\" style=\"fill:#ece133;stroke-width:2;stroke:rgb(255,255,255)\"/><rect x=\"495\" y=\"0\" width=\"55\" height=\"55\" style=\"fill:#56b4e9;stroke-width:2;stroke:rgb(255,255,255)\"/></svg>"
      ],
      "text/plain": [
       "[(0.00392156862745098, 0.45098039215686275, 0.6980392156862745),\n",
       " (0.8705882352941177, 0.5607843137254902, 0.0196078431372549),\n",
       " (0.00784313725490196, 0.6196078431372549, 0.45098039215686275),\n",
       " (0.8352941176470589, 0.3686274509803922, 0.0),\n",
       " (0.8, 0.47058823529411764, 0.7372549019607844),\n",
       " (0.792156862745098, 0.5686274509803921, 0.3803921568627451),\n",
       " (0.984313725490196, 0.6862745098039216, 0.8941176470588236),\n",
       " (0.5803921568627451, 0.5803921568627451, 0.5803921568627451),\n",
       " (0.9254901960784314, 0.8823529411764706, 0.2),\n",
       " (0.33725490196078434, 0.7058823529411765, 0.9137254901960784)]"
      ]
     },
     "execution_count": 19,
     "metadata": {},
     "output_type": "execute_result"
    }
   ],
   "source": [
    "sb.color_palette(palette='colorblind')"
   ]
  },
  {
   "cell_type": "code",
   "execution_count": 21,
   "metadata": {},
   "outputs": [
    {
     "name": "stdout",
     "output_type": "stream",
     "text": [
      "10.135084716211894\n",
      "6.092775216519009\n",
      "7.847779976266905\n",
      "4.498674053370019\n",
      "3.9984650979058505\n"
     ]
    }
   ],
   "source": [
    "for _df in npov:\n",
    "    print(\n",
    "        _df.groupby(by=['user']).size().sort_values(ascending=False).reset_index().reset_index().rename(columns={\"index\":\"x\",0:\"y\"}).y.skew()\n",
    "    )"
   ]
  },
  {
   "cell_type": "code",
   "execution_count": 22,
   "metadata": {},
   "outputs": [
    {
     "name": "stdout",
     "output_type": "stream",
     "text": [
      "7.244707947756974\n",
      "2.6796212074741512\n",
      "13.485867598445305\n",
      "3.2403139116306106\n",
      "3.677751469125286\n"
     ]
    }
   ],
   "source": [
    "for _df in npov_talk:\n",
    "    print(\n",
    "        _df.groupby(by=['user']).size().sort_values(ascending=False).reset_index().reset_index().rename(columns={\"index\":\"x\",0:\"y\"}).y.skew()\n",
    "    )"
   ]
  },
  {
   "cell_type": "code",
   "execution_count": 23,
   "metadata": {},
   "outputs": [
    {
     "data": {
      "text/html": [
       "<div>\n",
       "<style scoped>\n",
       "    .dataframe tbody tr th:only-of-type {\n",
       "        vertical-align: middle;\n",
       "    }\n",
       "\n",
       "    .dataframe tbody tr th {\n",
       "        vertical-align: top;\n",
       "    }\n",
       "\n",
       "    .dataframe thead th {\n",
       "        text-align: right;\n",
       "    }\n",
       "</style>\n",
       "<table border=\"1\" class=\"dataframe\">\n",
       "  <thead>\n",
       "    <tr style=\"text-align: right;\">\n",
       "      <th></th>\n",
       "      <th>index</th>\n",
       "      <th>user</th>\n",
       "      <th>0</th>\n",
       "    </tr>\n",
       "  </thead>\n",
       "  <tbody>\n",
       "    <tr>\n",
       "      <th>0</th>\n",
       "      <td>0</td>\n",
       "      <td>VolkovBot</td>\n",
       "      <td>17</td>\n",
       "    </tr>\n",
       "    <tr>\n",
       "      <th>1</th>\n",
       "      <td>1</td>\n",
       "      <td>MerlIwBot</td>\n",
       "      <td>11</td>\n",
       "    </tr>\n",
       "    <tr>\n",
       "      <th>2</th>\n",
       "      <td>2</td>\n",
       "      <td>Ferbr1</td>\n",
       "      <td>9</td>\n",
       "    </tr>\n",
       "    <tr>\n",
       "      <th>3</th>\n",
       "      <td>3</td>\n",
       "      <td>AVBOT</td>\n",
       "      <td>8</td>\n",
       "    </tr>\n",
       "    <tr>\n",
       "      <th>4</th>\n",
       "      <td>4</td>\n",
       "      <td>Libertad y Saber</td>\n",
       "      <td>8</td>\n",
       "    </tr>\n",
       "    <tr>\n",
       "      <th>...</th>\n",
       "      <td>...</td>\n",
       "      <td>...</td>\n",
       "      <td>...</td>\n",
       "    </tr>\n",
       "    <tr>\n",
       "      <th>191</th>\n",
       "      <td>191</td>\n",
       "      <td>Ambil</td>\n",
       "      <td>1</td>\n",
       "    </tr>\n",
       "    <tr>\n",
       "      <th>192</th>\n",
       "      <td>192</td>\n",
       "      <td>Anthere</td>\n",
       "      <td>1</td>\n",
       "    </tr>\n",
       "    <tr>\n",
       "      <th>193</th>\n",
       "      <td>193</td>\n",
       "      <td>Antonio-lanceta</td>\n",
       "      <td>1</td>\n",
       "    </tr>\n",
       "    <tr>\n",
       "      <th>194</th>\n",
       "      <td>194</td>\n",
       "      <td>Antony eduardo</td>\n",
       "      <td>1</td>\n",
       "    </tr>\n",
       "    <tr>\n",
       "      <th>195</th>\n",
       "      <td>195</td>\n",
       "      <td>dup-200-66-191-1.prodigy.net.mx</td>\n",
       "      <td>1</td>\n",
       "    </tr>\n",
       "  </tbody>\n",
       "</table>\n",
       "<p>196 rows × 3 columns</p>\n",
       "</div>"
      ],
      "text/plain": [
       "     index                             user   0\n",
       "0        0                        VolkovBot  17\n",
       "1        1                        MerlIwBot  11\n",
       "2        2                           Ferbr1   9\n",
       "3        3                            AVBOT   8\n",
       "4        4                 Libertad y Saber   8\n",
       "..     ...                              ...  ..\n",
       "191    191                            Ambil   1\n",
       "192    192                          Anthere   1\n",
       "193    193                  Antonio-lanceta   1\n",
       "194    194                   Antony eduardo   1\n",
       "195    195  dup-200-66-191-1.prodigy.net.mx   1\n",
       "\n",
       "[196 rows x 3 columns]"
      ]
     },
     "execution_count": 23,
     "metadata": {},
     "output_type": "execute_result"
    }
   ],
   "source": [
    "npov_es.groupby(by=['user']).size().sort_values(ascending=False).reset_index().reset_index()"
   ]
  },
  {
   "cell_type": "code",
   "execution_count": 47,
   "metadata": {},
   "outputs": [
    {
     "data": {
      "text/plain": [
       "<AxesSubplot:xlabel='Spanish', ylabel='# contributions'>"
      ]
     },
     "execution_count": 47,
     "metadata": {},
     "output_type": "execute_result"
    },
    {
     "data": {
      "image/png": "[encoded data removed]",
      "text/plain": [
       "<Figure size 108x108 with 1 Axes>"
      ]
     },
     "metadata": {
      "needs_background": "light"
     },
     "output_type": "display_data"
    }
   ],
   "source": [
    "f, ax = plt.pyplot.subplots(figsize=(1.5,1.5))\n",
    "sb.despine(f, left=True, bottom=True)\n",
    "clarity_ranking = [\"I1\", \"SI2\", \"SI1\", \"VS2\", \"VS1\", \"VVS2\", \"VVS1\", \"IF\"]\n",
    "sb.scatterplot(x=\"Spanish\", y=\"# contributions\",\n",
    "                #hue=\"clarity\", size=\"depth\",\n",
    "                palette=\"ch:r=-.2,d=.3_r\",\n",
    "                hue_order=clarity_ranking,\n",
    "                sizes=(1, 8), linewidth=0,\n",
    "                data=npov_es_talk.groupby(by=['user']).size().sort_values(ascending=False).reset_index().reset_index().rename(columns={\"index\":\"Spanish\",0:\"# contributions\"}), \n",
    "                ax=ax)"
   ]
  },
  {
   "cell_type": "code",
   "execution_count": 56,
   "metadata": {},
   "outputs": [
    {
     "data": {
      "text/plain": [
       "46"
      ]
     },
     "execution_count": 56,
     "metadata": {},
     "output_type": "execute_result"
    }
   ],
   "source": [
    "len(set(wf.get_page_outlinks(\"Wikipedia:Neutral Point of View\")))"
   ]
  },
  {
   "cell_type": "code",
   "execution_count": 59,
   "metadata": {},
   "outputs": [
    {
     "data": {
      "text/plain": [
       "{\"Argument d'autorité\",\n",
       " 'Charles Darwin',\n",
       " 'Créationnisme',\n",
       " 'Discussion Wikipédia:Neutralité de point de vue',\n",
       " \"Jack l'Éventreur\",\n",
       " 'Jimmy Wales',\n",
       " 'Jugement (philosophie)',\n",
       " 'Larry Sanger',\n",
       " 'Massacre de Boston',\n",
       " 'Massacre de Haymarket Square',\n",
       " 'Point de vue cognitif',\n",
       " 'Relativisme',\n",
       " 'Scandale de Panama',\n",
       " 'Sélection naturelle',\n",
       " 'The Atlantic Monthly',\n",
       " 'Wikipédia',\n",
       " 'Wikipédia:Autobiographie',\n",
       " \"Wikipédia:Conflit d'intérêts\",\n",
       " 'Wikipédia:Contenu évasif',\n",
       " 'Wikipédia:Controverse de neutralité',\n",
       " 'Wikipédia:Convention sur les titres',\n",
       " 'Wikipédia:Importance disproportionnée',\n",
       " 'Wikipédia:Liste des articles non neutres/FAQ',\n",
       " 'Wikipédia:Notoriété',\n",
       " 'Wikipédia:P',\n",
       " 'Wikipédia:POV-fork',\n",
       " 'Wikipédia:Principes fondateurs',\n",
       " 'Wikipédia:Proportion',\n",
       " 'Wikipédia:Règles et recommandations',\n",
       " 'Wikipédia:SQ',\n",
       " 'Wikipédia:Théorie controversée',\n",
       " 'Wikipédia:UNDUE',\n",
       " 'Wikipédia:Vérifiabilité',\n",
       " 'Wikipédia:Wikipédia est une encyclopédie',\n",
       " 'YouTube',\n",
       " 'meta:La neutralité de point de vue',\n",
       " 'Évolution (biologie)'}"
      ]
     },
     "execution_count": 59,
     "metadata": {},
     "output_type": "execute_result"
    }
   ],
   "source": [
    "set(wf.get_page_outlinks(\"Wikipédia:Neutralité de point de vue\",endpoint='fr.wikipedia.org/w/api.php'))"
   ]
  },
  {
   "cell_type": "code",
   "execution_count": 17,
   "metadata": {},
   "outputs": [
    {
     "data": {
      "text/plain": [
       "['Wikipedia',\n",
       " 'Jimbo Wales',\n",
       " 'Ayuda:Punto de vista neutral',\n",
       " 'Enciclopedia',\n",
       " 'Humano',\n",
       " 'Propaganda',\n",
       " 'Pseudociencia',\n",
       " 'Wiki',\n",
       " 'Plantilla:No neutralidad']"
      ]
     },
     "execution_count": 17,
     "metadata": {},
     "output_type": "execute_result"
    }
   ],
   "source": [
    "wf.get_page_outlinks(\"Wikipedia:Punto de vista neutral\",endpoint='es.wikipedia.org/w/api.php')"
   ]
  },
  {
   "cell_type": "code",
   "execution_count": 58,
   "metadata": {},
   "outputs": [
    {
     "data": {
      "text/plain": [
       "['Wertfreiheit',\n",
       " 'Quellenangabe',\n",
       " 'Objektivität',\n",
       " 'Deutscher Gewerkschaftsbund',\n",
       " 'Beschäftigtendatenschutz',\n",
       " 'Vorratsdatenspeicherung',\n",
       " 'Musikalbum',\n",
       " 'Rolling Stone',\n",
       " 'Sgt. Pepper’s Lonely Hearts Club Band',\n",
       " 'Beatles',\n",
       " 'Objektivität',\n",
       " 'Erörterung',\n",
       " 'Mindermeinung',\n",
       " 'Herrschende Meinung',\n",
       " 'Offenkundige Tatsache',\n",
       " 'Vincent van Gogh',\n",
       " 'Brasilien',\n",
       " 'Südamerika',\n",
       " 'Werturteil',\n",
       " 'Naturalistischer Fehlschluss',\n",
       " 'Humes Gesetz',\n",
       " 'Entwicklungsland',\n",
       " 'Vorlage:Neutralität',\n",
       " 'Ultima Ratio',\n",
       " 'Medienmanipulation',\n",
       " 'Ausgewogenheit']"
      ]
     },
     "execution_count": 58,
     "metadata": {},
     "output_type": "execute_result"
    }
   ],
   "source": [
    "wf.get_page_outlinks(\"Wikipedia:Neutraler Standpunkt\",endpoint='de.wikipedia.org/w/api.php')"
   ]
  },
  {
   "cell_type": "code",
   "execution_count": 57,
   "metadata": {},
   "outputs": [
    {
     "data": {
      "text/plain": [
       "['ウィキペディア',\n",
       " 'meta:Founding principles/ja',\n",
       " '地球',\n",
       " '地球平面説',\n",
       " 'ジミー・ウェールズ',\n",
       " 'メインストリーム',\n",
       " '地球平面協会',\n",
       " 'テンプル騎士団',\n",
       " '聖杯',\n",
       " 'アポロ計画陰謀論',\n",
       " '疑似科学',\n",
       " '偽史',\n",
       " '陰謀論',\n",
       " '国際連合',\n",
       " '切り裂きジャック',\n",
       " 'スペインかぜ',\n",
       " 'タタールのくびき',\n",
       " 'パラフレーズ',\n",
       " 'ヌーペディア',\n",
       " 'ラリー・サンガー',\n",
       " 'ジミー・ウェールズ',\n",
       " 'Wikipedia‐ノート:中立的な観点',\n",
       " 'ホロコースト否認',\n",
       " 'ウィキペディアへの批判',\n",
       " 'en:Consensus reality',\n",
       " 'en:Journalistic objectivity',\n",
       " 'チェリー・ピッキング']"
      ]
     },
     "execution_count": 57,
     "metadata": {},
     "output_type": "execute_result"
    }
   ],
   "source": [
    "wf.get_page_outlinks(\"Wikipedia:中立的な観点\",endpoint='ja.wikipedia.org/w/api.php')"
   ]
  },
  {
   "cell_type": "code",
   "execution_count": null,
   "metadata": {},
   "outputs": [],
   "source": [
    "# get the interlanguage links of these other pages - are they community specific? \n",
    "# def get_interlanguage_links(page_title, endpoint='en.wikipedia.org/w/api.php', redirects=1):\n"
   ]
  },
  {
   "cell_type": "code",
   "execution_count": 55,
   "metadata": {},
   "outputs": [
    {
     "data": {
      "text/plain": [
       "user\n",
       "A3nm               1\n",
       "LucienBOT          1\n",
       "Marc BERTIER       1\n",
       "MedBot             1\n",
       "Michel Abada       1\n",
       "                  ..\n",
       "Dominic Mayers    14\n",
       "Nouill            14\n",
       "VolkovBot         16\n",
       "Ethernaute        18\n",
       "Marc Mongenet     38\n",
       "Length: 207, dtype: int64"
      ]
     },
     "execution_count": 55,
     "metadata": {},
     "output_type": "execute_result"
    }
   ],
   "source": [
    "npov_fr.loc[npov_fr.anon!=True].groupby(by=['user']).size().sort_values()"
   ]
  },
  {
   "cell_type": "code",
   "execution_count": null,
   "metadata": {},
   "outputs": [],
   "source": [
    "# `2005\t5\tWikipedia:Belege\tWikipedia:Verifiability\tWikipedia:Verificabilidad\tWikipédia:Vérifiabilité\tWikipedia:検証可能性\t41.0`\n",
    "\n",
    "v_en = rev_df_en.loc[rev_df_en.page==\"Wikipedia:Verifiability\"]\n",
    "v_en_talk = talkrev_df_en.loc[talkrev_df_en.page==\"Wikipedia talk:Verifiability\"]\n",
    "\n",
    "v_fr = rev_df_fr.loc[rev_df_fr.page==\"Wikipédia:Vérifiabilité\"]\n",
    "v_fr_talk = talkrev_df_fr.loc[talkrev_df_fr.page==\"Discussion Wikipédia:Vérifiabilité\"]\n",
    "\n",
    "v_de = rev_df_de.loc[rev_df_de.page==\"Wikipedia:Belege\"]\n",
    "v_de_talk = talkrev_df_de.loc[talkrev_df_de.page==\"Wikipedia Diskussion:Belege\"]\n",
    "\n",
    "v_es = rev_df_es.loc[rev_df_es.page==\"Wikipedia:Verificabilidad\"]\n",
    "v_es_talk = talkrev_df_es.loc[talkrev_df_es.page==\"Wikipedia discusión:Verificabilidad\"]\n",
    "\n",
    "v_ja = rev_df_ja.loc[rev_df_ja.page==\"Wikipedia:検証可能性\"]\n",
    "v_ja_talk = talkrev_df_ja.loc[talkrev_df_ja.page==\"Wikipedia‐ノート:検証可能性\"]\n"
   ]
  },
  {
   "cell_type": "code",
   "execution_count": 39,
   "metadata": {},
   "outputs": [],
   "source": [
    "# `2006\t5\tWikipedia:Keine Theoriefindung\tWikipedia:No original research\tWikipedia:Wikipedia no es una fuente primaria\tWikipédia:Travaux inédits\tWikipedia:独自研究は載せない\t85.0`\n",
    "\n",
    "nor_en = rev_df_en.loc[rev_df_en.page==\"Wikipedia:No original research\"]\n",
    "nor_en_talk = talkrev_df_en.loc[talkrev_df_en.page==\"Wikipedia talk:No original research\"]\n",
    "\n",
    "nor_fr = rev_df_fr.loc[rev_df_fr.page==\"Wikipédia:Travaux inédits\"]\n",
    "nor_fr_talk = talkrev_df_fr.loc[talkrev_df_fr.page==\"Discussion Wikipédia:Travaux inédits\"]\n",
    "\n",
    "nor_de = rev_df_de.loc[rev_df_de.page==\"Wikipedia:Keine Theoriefindung\"]\n",
    "nor_de_talk = talkrev_df_de.loc[talkrev_df_de.page==\"Wikipedia Diskussion:Keine Theoriefindung\"]\n",
    "\n",
    "nor_es = rev_df_es.loc[rev_df_es.page==\"Wikipedia:Wikipedia no es una fuente primaria\"]\n",
    "nor_es_talk = talkrev_df_es.loc[talkrev_df_es.page==\"Wikipedia discusión:Wikipedia no es una fuente primaria\"]\n",
    "\n",
    "nor_ja = rev_df_ja.loc[rev_df_ja.page==\"Wikipedia:独自研究は載せない\"]\n",
    "nor_ja_talk = talkrev_df_ja.loc[talkrev_df_ja.page==\"Wikipedia‐ノート:独自研究は載せない\"]\n"
   ]
  },
  {
   "cell_type": "code",
   "execution_count": 41,
   "metadata": {},
   "outputs": [
    {
     "data": {
      "text/html": [
       "<div>\n",
       "<style scoped>\n",
       "    .dataframe tbody tr th:only-of-type {\n",
       "        vertical-align: middle;\n",
       "    }\n",
       "\n",
       "    .dataframe tbody tr th {\n",
       "        vertical-align: top;\n",
       "    }\n",
       "\n",
       "    .dataframe thead th {\n",
       "        text-align: right;\n",
       "    }\n",
       "</style>\n",
       "<table border=\"1\" class=\"dataframe\">\n",
       "  <thead>\n",
       "    <tr style=\"text-align: right;\">\n",
       "      <th></th>\n",
       "      <th>revid</th>\n",
       "      <th>parentid</th>\n",
       "      <th>user</th>\n",
       "      <th>userid</th>\n",
       "      <th>timestamp</th>\n",
       "      <th>size</th>\n",
       "      <th>sha1</th>\n",
       "      <th>comment</th>\n",
       "      <th>page</th>\n",
       "      <th>date</th>\n",
       "      <th>diff</th>\n",
       "      <th>lag</th>\n",
       "      <th>age</th>\n",
       "      <th>anon</th>\n",
       "      <th>sha1hidden</th>\n",
       "      <th>commenthidden</th>\n",
       "      <th>userhidden</th>\n",
       "      <th>year</th>\n",
       "    </tr>\n",
       "  </thead>\n",
       "  <tbody>\n",
       "    <tr>\n",
       "      <th>28055</th>\n",
       "      <td>1324710</td>\n",
       "      <td>1028791</td>\n",
       "      <td>Taragui</td>\n",
       "      <td>26886</td>\n",
       "      <td>2005-09-14 17:20:29+00:00</td>\n",
       "      <td>7473</td>\n",
       "      <td>dcb72b41aedbfa8a587ccedf542706ee58cc1c6c</td>\n",
       "      <td>NaN</td>\n",
       "      <td>Wikipedia:Wikipedia no es una fuente primaria</td>\n",
       "      <td>2005-09-14</td>\n",
       "      <td>7427.0</td>\n",
       "      <td>4597923.0</td>\n",
       "      <td>53.216701</td>\n",
       "      <td>NaN</td>\n",
       "      <td>NaN</td>\n",
       "      <td>NaN</td>\n",
       "      <td>NaN</td>\n",
       "      <td>2005</td>\n",
       "    </tr>\n",
       "    <tr>\n",
       "      <th>28056</th>\n",
       "      <td>1331839</td>\n",
       "      <td>1324710</td>\n",
       "      <td>Joseaperez</td>\n",
       "      <td>1299</td>\n",
       "      <td>2005-09-16 10:39:39+00:00</td>\n",
       "      <td>7493</td>\n",
       "      <td>7c9901ff3646e788babb67721b1079173742eebf</td>\n",
       "      <td>NaN</td>\n",
       "      <td>Wikipedia:Wikipedia no es una fuente primaria</td>\n",
       "      <td>2005-09-16</td>\n",
       "      <td>20.0</td>\n",
       "      <td>148750.0</td>\n",
       "      <td>54.938345</td>\n",
       "      <td>NaN</td>\n",
       "      <td>NaN</td>\n",
       "      <td>NaN</td>\n",
       "      <td>NaN</td>\n",
       "      <td>2005</td>\n",
       "    </tr>\n",
       "    <tr>\n",
       "      <th>28057</th>\n",
       "      <td>1475143</td>\n",
       "      <td>1331839</td>\n",
       "      <td>Sanbec</td>\n",
       "      <td>7856</td>\n",
       "      <td>2005-10-12 23:22:29+00:00</td>\n",
       "      <td>7493</td>\n",
       "      <td>302ed039560fbdc40910f73fa326cdd68ccd0aa8</td>\n",
       "      <td>NaN</td>\n",
       "      <td>Wikipedia:Wikipedia no es una fuente primaria</td>\n",
       "      <td>2005-10-12</td>\n",
       "      <td>0.0</td>\n",
       "      <td>2292170.0</td>\n",
       "      <td>81.468090</td>\n",
       "      <td>NaN</td>\n",
       "      <td>NaN</td>\n",
       "      <td>NaN</td>\n",
       "      <td>NaN</td>\n",
       "      <td>2005</td>\n",
       "    </tr>\n",
       "    <tr>\n",
       "      <th>28058</th>\n",
       "      <td>1514665</td>\n",
       "      <td>1475143</td>\n",
       "      <td>Taragui</td>\n",
       "      <td>26886</td>\n",
       "      <td>2005-10-20 15:08:16+00:00</td>\n",
       "      <td>7481</td>\n",
       "      <td>d23e41b715234b3fd2613bf5c77c568b7b75599d</td>\n",
       "      <td>a falta de objeciones a la traducción, oficializo</td>\n",
       "      <td>Wikipedia:Wikipedia no es una fuente primaria</td>\n",
       "      <td>2005-10-20</td>\n",
       "      <td>-12.0</td>\n",
       "      <td>661547.0</td>\n",
       "      <td>89.124884</td>\n",
       "      <td>NaN</td>\n",
       "      <td>NaN</td>\n",
       "      <td>NaN</td>\n",
       "      <td>NaN</td>\n",
       "      <td>2005</td>\n",
       "    </tr>\n",
       "    <tr>\n",
       "      <th>28059</th>\n",
       "      <td>1699222</td>\n",
       "      <td>1514665</td>\n",
       "      <td>Sanbec</td>\n",
       "      <td>7856</td>\n",
       "      <td>2005-11-24 11:29:34+00:00</td>\n",
       "      <td>7488</td>\n",
       "      <td>7e650287c38afcec69f2b16760fe020647ae068d</td>\n",
       "      <td>NaN</td>\n",
       "      <td>Wikipedia:Wikipedia no es una fuente primaria</td>\n",
       "      <td>2005-11-24</td>\n",
       "      <td>7.0</td>\n",
       "      <td>3010878.0</td>\n",
       "      <td>123.973009</td>\n",
       "      <td>NaN</td>\n",
       "      <td>NaN</td>\n",
       "      <td>NaN</td>\n",
       "      <td>NaN</td>\n",
       "      <td>2005</td>\n",
       "    </tr>\n",
       "    <tr>\n",
       "      <th>...</th>\n",
       "      <td>...</td>\n",
       "      <td>...</td>\n",
       "      <td>...</td>\n",
       "      <td>...</td>\n",
       "      <td>...</td>\n",
       "      <td>...</td>\n",
       "      <td>...</td>\n",
       "      <td>...</td>\n",
       "      <td>...</td>\n",
       "      <td>...</td>\n",
       "      <td>...</td>\n",
       "      <td>...</td>\n",
       "      <td>...</td>\n",
       "      <td>...</td>\n",
       "      <td>...</td>\n",
       "      <td>...</td>\n",
       "      <td>...</td>\n",
       "      <td>...</td>\n",
       "    </tr>\n",
       "    <tr>\n",
       "      <th>28410</th>\n",
       "      <td>133641545</td>\n",
       "      <td>132112994</td>\n",
       "      <td>CristianTheMaster</td>\n",
       "      <td>1845726</td>\n",
       "      <td>2021-03-02 05:32:54+00:00</td>\n",
       "      <td>11179</td>\n",
       "      <td>135302f1dfe107269bfecc16e0850956fbfc1148</td>\n",
       "      <td>Agrego atajo</td>\n",
       "      <td>Wikipedia:Wikipedia no es una fuente primaria</td>\n",
       "      <td>2021-03-02</td>\n",
       "      <td>19.0</td>\n",
       "      <td>5050169.0</td>\n",
       "      <td>5700.725324</td>\n",
       "      <td>NaN</td>\n",
       "      <td>NaN</td>\n",
       "      <td>NaN</td>\n",
       "      <td>NaN</td>\n",
       "      <td>2021</td>\n",
       "    </tr>\n",
       "    <tr>\n",
       "      <th>28411</th>\n",
       "      <td>133646787</td>\n",
       "      <td>133641545</td>\n",
       "      <td>CristianTheMaster</td>\n",
       "      <td>1845726</td>\n",
       "      <td>2021-03-02 13:20:06+00:00</td>\n",
       "      <td>11206</td>\n",
       "      <td>0955b0bc538b3f1c016cb77a62c02a6f90c366b3</td>\n",
       "      <td>NaN</td>\n",
       "      <td>Wikipedia:Wikipedia no es una fuente primaria</td>\n",
       "      <td>2021-03-02</td>\n",
       "      <td>27.0</td>\n",
       "      <td>28032.0</td>\n",
       "      <td>5701.049769</td>\n",
       "      <td>NaN</td>\n",
       "      <td>NaN</td>\n",
       "      <td>NaN</td>\n",
       "      <td>NaN</td>\n",
       "      <td>2021</td>\n",
       "    </tr>\n",
       "    <tr>\n",
       "      <th>28412</th>\n",
       "      <td>133648748</td>\n",
       "      <td>133646787</td>\n",
       "      <td>Jcfidy</td>\n",
       "      <td>1132599</td>\n",
       "      <td>2021-03-02 14:58:55+00:00</td>\n",
       "      <td>11160</td>\n",
       "      <td>4619e9cc0ec69f42378fb483d0e5da3f0fee0505</td>\n",
       "      <td>Deshago ediciones [[usuario:Cristianocampo93|C...</td>\n",
       "      <td>Wikipedia:Wikipedia no es una fuente primaria</td>\n",
       "      <td>2021-03-02</td>\n",
       "      <td>-46.0</td>\n",
       "      <td>5929.0</td>\n",
       "      <td>5701.118391</td>\n",
       "      <td>NaN</td>\n",
       "      <td>NaN</td>\n",
       "      <td>NaN</td>\n",
       "      <td>NaN</td>\n",
       "      <td>2021</td>\n",
       "    </tr>\n",
       "    <tr>\n",
       "      <th>28413</th>\n",
       "      <td>134229574</td>\n",
       "      <td>133648748</td>\n",
       "      <td>Anthere</td>\n",
       "      <td>12237</td>\n",
       "      <td>2021-03-24 11:15:27+00:00</td>\n",
       "      <td>11195</td>\n",
       "      <td>9e0bc28ba2e678f654f4dfbd15a6e44f7c70e828</td>\n",
       "      <td>NaN</td>\n",
       "      <td>Wikipedia:Wikipedia no es una fuente primaria</td>\n",
       "      <td>2021-03-24</td>\n",
       "      <td>35.0</td>\n",
       "      <td>1887392.0</td>\n",
       "      <td>5722.963206</td>\n",
       "      <td>NaN</td>\n",
       "      <td>NaN</td>\n",
       "      <td>NaN</td>\n",
       "      <td>NaN</td>\n",
       "      <td>2021</td>\n",
       "    </tr>\n",
       "    <tr>\n",
       "      <th>28414</th>\n",
       "      <td>134234070</td>\n",
       "      <td>134229574</td>\n",
       "      <td>Odalcet</td>\n",
       "      <td>15658</td>\n",
       "      <td>2021-03-24 15:37:26+00:00</td>\n",
       "      <td>11160</td>\n",
       "      <td>4619e9cc0ec69f42378fb483d0e5da3f0fee0505</td>\n",
       "      <td>Deshecha la edición 134229574 de [[Especial:Co...</td>\n",
       "      <td>Wikipedia:Wikipedia no es una fuente primaria</td>\n",
       "      <td>2021-03-24</td>\n",
       "      <td>-35.0</td>\n",
       "      <td>15719.0</td>\n",
       "      <td>5723.145139</td>\n",
       "      <td>NaN</td>\n",
       "      <td>NaN</td>\n",
       "      <td>NaN</td>\n",
       "      <td>NaN</td>\n",
       "      <td>2021</td>\n",
       "    </tr>\n",
       "  </tbody>\n",
       "</table>\n",
       "<p>360 rows × 18 columns</p>\n",
       "</div>"
      ],
      "text/plain": [
       "           revid   parentid               user   userid  \\\n",
       "28055    1324710    1028791            Taragui    26886   \n",
       "28056    1331839    1324710         Joseaperez     1299   \n",
       "28057    1475143    1331839             Sanbec     7856   \n",
       "28058    1514665    1475143            Taragui    26886   \n",
       "28059    1699222    1514665             Sanbec     7856   \n",
       "...          ...        ...                ...      ...   \n",
       "28410  133641545  132112994  CristianTheMaster  1845726   \n",
       "28411  133646787  133641545  CristianTheMaster  1845726   \n",
       "28412  133648748  133646787             Jcfidy  1132599   \n",
       "28413  134229574  133648748            Anthere    12237   \n",
       "28414  134234070  134229574            Odalcet    15658   \n",
       "\n",
       "                      timestamp   size  \\\n",
       "28055 2005-09-14 17:20:29+00:00   7473   \n",
       "28056 2005-09-16 10:39:39+00:00   7493   \n",
       "28057 2005-10-12 23:22:29+00:00   7493   \n",
       "28058 2005-10-20 15:08:16+00:00   7481   \n",
       "28059 2005-11-24 11:29:34+00:00   7488   \n",
       "...                         ...    ...   \n",
       "28410 2021-03-02 05:32:54+00:00  11179   \n",
       "28411 2021-03-02 13:20:06+00:00  11206   \n",
       "28412 2021-03-02 14:58:55+00:00  11160   \n",
       "28413 2021-03-24 11:15:27+00:00  11195   \n",
       "28414 2021-03-24 15:37:26+00:00  11160   \n",
       "\n",
       "                                           sha1  \\\n",
       "28055  dcb72b41aedbfa8a587ccedf542706ee58cc1c6c   \n",
       "28056  7c9901ff3646e788babb67721b1079173742eebf   \n",
       "28057  302ed039560fbdc40910f73fa326cdd68ccd0aa8   \n",
       "28058  d23e41b715234b3fd2613bf5c77c568b7b75599d   \n",
       "28059  7e650287c38afcec69f2b16760fe020647ae068d   \n",
       "...                                         ...   \n",
       "28410  135302f1dfe107269bfecc16e0850956fbfc1148   \n",
       "28411  0955b0bc538b3f1c016cb77a62c02a6f90c366b3   \n",
       "28412  4619e9cc0ec69f42378fb483d0e5da3f0fee0505   \n",
       "28413  9e0bc28ba2e678f654f4dfbd15a6e44f7c70e828   \n",
       "28414  4619e9cc0ec69f42378fb483d0e5da3f0fee0505   \n",
       "\n",
       "                                                 comment  \\\n",
       "28055                                                NaN   \n",
       "28056                                                NaN   \n",
       "28057                                                NaN   \n",
       "28058  a falta de objeciones a la traducción, oficializo   \n",
       "28059                                                NaN   \n",
       "...                                                  ...   \n",
       "28410                                       Agrego atajo   \n",
       "28411                                                NaN   \n",
       "28412  Deshago ediciones [[usuario:Cristianocampo93|C...   \n",
       "28413                                                NaN   \n",
       "28414  Deshecha la edición 134229574 de [[Especial:Co...   \n",
       "\n",
       "                                                page       date    diff  \\\n",
       "28055  Wikipedia:Wikipedia no es una fuente primaria 2005-09-14  7427.0   \n",
       "28056  Wikipedia:Wikipedia no es una fuente primaria 2005-09-16    20.0   \n",
       "28057  Wikipedia:Wikipedia no es una fuente primaria 2005-10-12     0.0   \n",
       "28058  Wikipedia:Wikipedia no es una fuente primaria 2005-10-20   -12.0   \n",
       "28059  Wikipedia:Wikipedia no es una fuente primaria 2005-11-24     7.0   \n",
       "...                                              ...        ...     ...   \n",
       "28410  Wikipedia:Wikipedia no es una fuente primaria 2021-03-02    19.0   \n",
       "28411  Wikipedia:Wikipedia no es una fuente primaria 2021-03-02    27.0   \n",
       "28412  Wikipedia:Wikipedia no es una fuente primaria 2021-03-02   -46.0   \n",
       "28413  Wikipedia:Wikipedia no es una fuente primaria 2021-03-24    35.0   \n",
       "28414  Wikipedia:Wikipedia no es una fuente primaria 2021-03-24   -35.0   \n",
       "\n",
       "             lag          age anon sha1hidden commenthidden userhidden  year  \n",
       "28055  4597923.0    53.216701  NaN        NaN           NaN        NaN  2005  \n",
       "28056   148750.0    54.938345  NaN        NaN           NaN        NaN  2005  \n",
       "28057  2292170.0    81.468090  NaN        NaN           NaN        NaN  2005  \n",
       "28058   661547.0    89.124884  NaN        NaN           NaN        NaN  2005  \n",
       "28059  3010878.0   123.973009  NaN        NaN           NaN        NaN  2005  \n",
       "...          ...          ...  ...        ...           ...        ...   ...  \n",
       "28410  5050169.0  5700.725324  NaN        NaN           NaN        NaN  2021  \n",
       "28411    28032.0  5701.049769  NaN        NaN           NaN        NaN  2021  \n",
       "28412     5929.0  5701.118391  NaN        NaN           NaN        NaN  2021  \n",
       "28413  1887392.0  5722.963206  NaN        NaN           NaN        NaN  2021  \n",
       "28414    15719.0  5723.145139  NaN        NaN           NaN        NaN  2021  \n",
       "\n",
       "[360 rows x 18 columns]"
      ]
     },
     "execution_count": 41,
     "metadata": {},
     "output_type": "execute_result"
    }
   ],
   "source": [
    "nor_es"
   ]
  }
 ],
 "metadata": {
  "kernelspec": {
   "display_name": "Python 3",
   "language": "python",
   "name": "python3"
  },
  "language_info": {
   "codemirror_mode": {
    "name": "ipython",
    "version": 3
   },
   "file_extension": ".py",
   "mimetype": "text/x-python",
   "name": "python",
   "nbconvert_exporter": "python",
   "pygments_lexer": "ipython3",
   "version": "3.10.4"
  },
  "orig_nbformat": 4,
  "vscode": {
   "interpreter": {
    "hash": "219346b13714f768f9488e9b37d2a769c34fb63960c6dbb9230676da542bbf26"
   }
  }
 },
 "nbformat": 4,
 "nbformat_minor": 2
}
