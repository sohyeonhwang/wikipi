{
 "cells": [
  {
   "cell_type": "markdown",
   "metadata": {},
   "source": [
    "English\tEnglish\ten\t6,519,984\t56,055,628\t1,090,881,532\t1,034\t43,816,165\t119,491\t893,446\t1,123\n",
    "French\tfrançais\tfr\t2,430,972\t12,072,721\t194,127,648\t159\t4,402,490\t18,320\t68,683\t252\n",
    "German\tDeutsch\tde\t2,698,991\t7,454,772\t222,264,504\t194\t3,944,103\t17,489\t128,610\t92\n",
    "Japanese\t日本語\tja\t1,330,152\t3,930,190\t89,847,591\t40\t1,943,075\t15,099\t33,664\t87\n",
    "Spanish\tespañol\tes\t1,783,096\t7,675,975\t143,773,321\t63\t6,569,908\t14,720\t0\t204\n",
    "Russian\tрусский\tru\t1,828,528\t7,376,221\t123,027,378\t76\t3,201,398\t11,037\t236,620\t153\n",
    "Mandarin\t中文\tzh\t1,283,503\t7,062,397\t71,878,020\t66\t3,231,960\t9,091\t59,906\t206\n",
    "Italian\titaliano\tit\t1,759,047\t7,449,115\t127,630,202\t120\t2,263,048\t8,544\t142,345\t179\n",
    "Portuguese\tportuguês\tpt\t1,093,349\t5,371,168\t63,621,213\t55\t2,767,066\t8,458\t58,209\t181\n",
    "Persian\tفارسی\tfa\t915,756\t5,302,982\t34,834,527\t34\t1,127,550\t5,815\t81,080\t150\n"
   ]
  },
  {
   "cell_type": "code",
   "execution_count": 1,
   "metadata": {},
   "outputs": [],
   "source": [
    "from bs4 import BeautifulSoup\n",
    "import requests\n",
    "import re, os, csv\n",
    "import wikifunctions_s as wfs\n",
    "import pandas as pd\n",
    "import multiprocessing as mp"
   ]
  },
  {
   "cell_type": "code",
   "execution_count": 2,
   "metadata": {},
   "outputs": [],
   "source": [
    "langs_10 = ['en','fr','de','ja','es','ru','zh','it','pt','fa']\n",
    "langs_5 = ['en','fr','de','ja','es']"
   ]
  },
  {
   "cell_type": "markdown",
   "metadata": {},
   "source": [
    "```\n",
    "# get all pages in the Wikipedia namespace\n",
    "rule_dfs_dict = {}\n",
    "rule_dfs_list = []\n",
    "\n",
    "for l in langs_10:\n",
    "    #print(l)\n",
    "    _temp = wfs.get_all_pages_in_namespace(l)\n",
    "    rule_dfs_dict[l] = _temp\n",
    "    rule_dfs_list.append(_temp)\n",
    "\n",
    "len(rule_dfs_list)\n",
    "\n",
    "# export each df in rule_dfs_list so that we don't have to get them all over again\n",
    "output_directory = 'rules_list_all'\n",
    "\n",
    "if not os.path.isdir(output_directory):\n",
    "    os.mkdir(output_directory)\n",
    "\n",
    "for df in rule_dfs_list:\n",
    "    _lang = df.lang.values.tolist()[0]\n",
    "    path = './{}/rule_list_{}.tsv'.format(output_directory,_lang)\n",
    "    df.to_csv(path,index=False,sep='\\t')\n",
    "```"
   ]
  },
  {
   "cell_type": "code",
   "execution_count": 4,
   "metadata": {},
   "outputs": [],
   "source": [
    "# now load those dfs and get all the ILLs for the pages\n",
    "rule_dfs_dict = {}\n",
    "rule_dfs_list = []\n",
    "\n",
    "for l in langs_10:\n",
    "    path = './rules_list_all/rule_list_{}.tsv'.format(l)\n",
    "    _df = pd.read_csv(path, sep='\\t',header=0)\n",
    "    rule_dfs_dict[l] = _df\n",
    "    rule_dfs_list.append(_df)"
   ]
  },
  {
   "cell_type": "code",
   "execution_count": 9,
   "metadata": {},
   "outputs": [
    {
     "name": "stdout",
     "output_type": "stream",
     "text": [
      "en\n",
      "fr\n",
      "de\n",
      "ja\n",
      "es\n",
      "ru\n",
      "zh\n",
      "it\n",
      "pt\n",
      "fa\n"
     ]
    }
   ],
   "source": [
    "interlanguage_links = {}\n",
    "\n",
    "for lang in langs_10:\n",
    "    print(lang)\n",
    "    interlanguage_links[lang] = {}\n",
    "    # get the list of pages\n",
    "    _df = rule_dfs_dict[lang]\n",
    "    rule_list = _df['title'].values.tolist()\n",
    "\n",
    "    for rule in rule_list: #[:10]:\n",
    "        ill_dict = wfs.get_interlanguage_links(rule, endpoint=lang, redirects=1)\n",
    "        interlanguage_links[lang][rule] = {}\n",
    "        interlanguage_links[lang][rule]['count'] = len(list(ill_dict.keys()))\n",
    "        interlanguage_links[lang][rule]['langs'] = list(ill_dict.keys())\n",
    "        interlanguage_links[lang][rule]['links'] = ill_dict"
   ]
  },
  {
   "cell_type": "code",
   "execution_count": 16,
   "metadata": {},
   "outputs": [
    {
     "data": {
      "text/plain": [
       "8"
      ]
     },
     "execution_count": 16,
     "metadata": {},
     "output_type": "execute_result"
    }
   ],
   "source": [
    "import multiprocessing as mp\n",
    "\n",
    "mp.cpu_count()\n",
    "\n",
    "pool = mp.Pool(mp.cpu_count())"
   ]
  }
 ],
 "metadata": {
  "kernelspec": {
   "display_name": "Python 3.10.4 64-bit",
   "language": "python",
   "name": "python3"
  },
  "language_info": {
   "codemirror_mode": {
    "name": "ipython",
    "version": 3
   },
   "file_extension": ".py",
   "mimetype": "text/x-python",
   "name": "python",
   "nbconvert_exporter": "python",
   "pygments_lexer": "ipython3",
   "version": "3.10.4"
  },
  "orig_nbformat": 4,
  "vscode": {
   "interpreter": {
    "hash": "219346b13714f768f9488e9b37d2a769c34fb63960c6dbb9230676da542bbf26"
   }
  }
 },
 "nbformat": 4,
 "nbformat_minor": 2
}
