{
 "cells": [
  {
   "cell_type": "code",
   "execution_count": 1,
   "metadata": {},
   "outputs": [],
   "source": [
    "from bs4 import BeautifulSoup\n",
    "import requests\n",
    "import re, os, csv\n",
    "import wikifunctions_s as wfs\n",
    "import pandas as pd"
   ]
  },
  {
   "cell_type": "code",
   "execution_count": 2,
   "metadata": {},
   "outputs": [],
   "source": [
    "langs_10 = ['en','fr','de','ja','es','ru','zh','it','pt','fa']\n",
    "langs_5 = ['en','fr','de','ja','es']"
   ]
  },
  {
   "cell_type": "code",
   "execution_count": 3,
   "metadata": {},
   "outputs": [],
   "source": [
    "# now load those dfs and get all the ILLs for the pages\n",
    "rule_dfs_dict = {}\n",
    "rule_dfs_list = []\n",
    "\n",
    "for l in langs_10:\n",
    "    path = './rules_all_list/rule_list_{}.tsv'.format(l)\n",
    "    _df = pd.read_csv(path, sep='\\t',header=0)\n",
    "    rule_dfs_dict[l] = _df\n",
    "    rule_dfs_list.append(_df)"
   ]
  }
 ],
 "metadata": {
  "kernelspec": {
   "display_name": "Python 3.6.9 64-bit",
   "language": "python",
   "name": "python3"
  },
  "language_info": {
   "codemirror_mode": {
    "name": "ipython",
    "version": 3
   },
   "file_extension": ".py",
   "mimetype": "text/x-python",
   "name": "python",
   "nbconvert_exporter": "python",
   "pygments_lexer": "ipython3",
   "version": "3.6.9"
  },
  "orig_nbformat": 4,
  "vscode": {
   "interpreter": {
    "hash": "31f2aee4e71d21fbe5cf8b01ff0e069b9275f58929596ceb00d14d90e3e16cd6"
   }
  }
 },
 "nbformat": 4,
 "nbformat_minor": 2
}
