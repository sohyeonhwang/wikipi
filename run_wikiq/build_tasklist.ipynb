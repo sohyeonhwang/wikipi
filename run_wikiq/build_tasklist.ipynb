{
 "cells": [
  {
   "cell_type": "code",
   "execution_count": 2,
   "metadata": {},
   "outputs": [],
   "source": [
    "import requests\n",
    "import re, os, csv\n",
    "import pandas as pd\n",
    "import time\n",
    "import json\n",
    "from collections import Counter\n",
    "from pathlib import Path"
   ]
  },
  {
   "cell_type": "code",
   "execution_count": 3,
   "metadata": {},
   "outputs": [],
   "source": [
    "langs = ['de','en','es','fr','ja']"
   ]
  },
  {
   "cell_type": "code",
   "execution_count": 4,
   "metadata": {},
   "outputs": [],
   "source": [
    "# list of rules\n",
    "rules_every_lang = pd.read_csv(\"wikipi_subset_crosslang.tsv\",sep=\"\\t\",header=0)\n",
    "rules_de = rules_every_lang.de.values.tolist()\n",
    "rules_en = rules_every_lang.en.values.tolist()\n",
    "rules_es = rules_every_lang.es.values.tolist()\n",
    "rules_fr = rules_every_lang.fr.values.tolist()\n",
    "rules_ja = rules_every_lang.ja.values.tolist()\n",
    "\n",
    "rulesets = {'de':rules_de,'en':rules_en,'es':rules_es,'fr':rules_fr,'ja':rules_ja}"
   ]
  },
  {
   "cell_type": "code",
   "execution_count": 6,
   "metadata": {},
   "outputs": [
    {
     "data": {
      "text/html": [
       "<div>\n",
       "<style scoped>\n",
       "    .dataframe tbody tr th:only-of-type {\n",
       "        vertical-align: middle;\n",
       "    }\n",
       "\n",
       "    .dataframe tbody tr th {\n",
       "        vertical-align: top;\n",
       "    }\n",
       "\n",
       "    .dataframe thead th {\n",
       "        text-align: right;\n",
       "    }\n",
       "</style>\n",
       "<table border=\"1\" class=\"dataframe\">\n",
       "  <thead>\n",
       "    <tr style=\"text-align: right;\">\n",
       "      <th></th>\n",
       "      <th>lang</th>\n",
       "      <th>label</th>\n",
       "      <th>rule</th>\n",
       "      <th>shortcuts</th>\n",
       "      <th>regex</th>\n",
       "    </tr>\n",
       "  </thead>\n",
       "  <tbody>\n",
       "    <tr>\n",
       "      <th>0</th>\n",
       "      <td>de</td>\n",
       "      <td>R1</td>\n",
       "      <td>Wikipedia:Grundprinzipien</td>\n",
       "      <td>['Wikipedia:Grundprinzipien', 'Wikipedia:GP', ...</td>\n",
       "      <td>(?^:W(?:ikipedia:G(?:rundprinzipien|P)|P:G(?:r...</td>\n",
       "    </tr>\n",
       "    <tr>\n",
       "      <th>1</th>\n",
       "      <td>de</td>\n",
       "      <td>R2</td>\n",
       "      <td>Wikipedia:Ignoriere alle Regeln</td>\n",
       "      <td>['Wikipedia:Ignoriere alle Regeln', 'Wikipedia...</td>\n",
       "      <td>(?^:W(?:ikipedia:I(?:gnoriere alle Regeln|AR)|...</td>\n",
       "    </tr>\n",
       "    <tr>\n",
       "      <th>2</th>\n",
       "      <td>de</td>\n",
       "      <td>R3</td>\n",
       "      <td>Wikipedia:Neutraler Standpunkt</td>\n",
       "      <td>['Wikipedia:Neutraler Standpunkt', 'Wikipedia:...</td>\n",
       "      <td>(?^:W(?:ikipedia:N(?:eutraler Standpunkt|N?POV...</td>\n",
       "    </tr>\n",
       "  </tbody>\n",
       "</table>\n",
       "</div>"
      ],
      "text/plain": [
       "  lang label                             rule  \\\n",
       "0   de    R1        Wikipedia:Grundprinzipien   \n",
       "1   de    R2  Wikipedia:Ignoriere alle Regeln   \n",
       "2   de    R3   Wikipedia:Neutraler Standpunkt   \n",
       "\n",
       "                                           shortcuts  \\\n",
       "0  ['Wikipedia:Grundprinzipien', 'Wikipedia:GP', ...   \n",
       "1  ['Wikipedia:Ignoriere alle Regeln', 'Wikipedia...   \n",
       "2  ['Wikipedia:Neutraler Standpunkt', 'Wikipedia:...   \n",
       "\n",
       "                                               regex  \n",
       "0  (?^:W(?:ikipedia:G(?:rundprinzipien|P)|P:G(?:r...  \n",
       "1  (?^:W(?:ikipedia:I(?:gnoriere alle Regeln|AR)|...  \n",
       "2  (?^:W(?:ikipedia:N(?:eutraler Standpunkt|N?POV...  "
      ]
     },
     "execution_count": 6,
     "metadata": {},
     "output_type": "execute_result"
    }
   ],
   "source": [
    "# regexes\n",
    "regexes = pd.read_csv(\"rule_regex_generated.tsv\",sep=\"\\t\",header=0)\n",
    "regexes.head(3)"
   ]
  },
  {
   "cell_type": "code",
   "execution_count": null,
   "metadata": {},
   "outputs": [],
   "source": [
    "def make_task_command(row):\n"
   ]
  }
 ],
 "metadata": {
  "kernelspec": {
   "display_name": "Python 3.10.4 64-bit",
   "language": "python",
   "name": "python3"
  },
  "language_info": {
   "codemirror_mode": {
    "name": "ipython",
    "version": 3
   },
   "file_extension": ".py",
   "mimetype": "text/x-python",
   "name": "python",
   "nbconvert_exporter": "python",
   "pygments_lexer": "ipython3",
   "version": "3.10.4"
  },
  "orig_nbformat": 4,
  "vscode": {
   "interpreter": {
    "hash": "219346b13714f768f9488e9b37d2a769c34fb63960c6dbb9230676da542bbf26"
   }
  }
 },
 "nbformat": 4,
 "nbformat_minor": 2
}
