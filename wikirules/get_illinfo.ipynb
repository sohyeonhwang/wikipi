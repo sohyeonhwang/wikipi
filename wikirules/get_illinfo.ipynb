{
 "cells": [
  {
   "cell_type": "markdown",
   "metadata": {},
   "source": [
    "Get interlanguage link information for all of our rule pages and export as tsv"
   ]
  },
  {
   "cell_type": "code",
   "execution_count": 1,
   "metadata": {},
   "outputs": [],
   "source": [
    "import argparse\n",
    "import re, random, urllib, simplejson, copy, itertools\n",
    "import urllib.parse, urllib.request, urllib.error\n",
    "from datetime import datetime\n",
    "\n",
    "import pandas as pd\n",
    "import numpy as np\n",
    "import matplotlib.pyplot as plt\n",
    "import seaborn as sb\n",
    "sb.set_style('whitegrid')\n",
    "\n",
    "import requests, json, time, os\n",
    "from pathlib import Path\n",
    "\n",
    "import networkx as nx\n",
    "from operator import itemgetter\n",
    "from collections import Counter\n",
    "from bs4 import BeautifulSoup\n",
    "\n",
    "import wikifunctions as wf\n",
    "\n",
    "from functools import partial"
   ]
  },
  {
   "cell_type": "code",
   "execution_count": 2,
   "metadata": {},
   "outputs": [],
   "source": [
    "# Some helpful structures\n",
    "\"\"\"\n",
    "Subject Talk    Name        Description\n",
    "0       1       Main        Articles, lists, & redirects\n",
    "2       3       User        User pages & sandboxes\n",
    "4       5       Wikipedia   Policy, essay, & processes\n",
    "-6       7       File        Media file descriptions\n",
    "-8       9       MediaWiki   Auto-generated pages\n",
    "10      11      Template    Infoboxes, nav boxes\n",
    "-12      13      Help        Software help\n",
    "14      15      Category    Categorized pages\n",
    "100     101     Portal      Topics & WikiProjects\n",
    "\"\"\"\n",
    "langs = [\"de\",\"en\",\"es\",\"fr\",\"ja\"]\n",
    "namespaces = [0, 1, 2, 3, 4, 5, 10, 11, 14, 15, 100, 101]"
   ]
  },
  {
   "cell_type": "markdown",
   "metadata": {},
   "source": [
    "## Load data\n",
    "(1) Source data (lists of rules)\n",
    "\n",
    "(2) Revision history tsvs"
   ]
  },
  {
   "cell_type": "code",
   "execution_count": 3,
   "metadata": {},
   "outputs": [],
   "source": [
    "# list of rules\n",
    "rules_df_es = pd.read_csv(Path(os.getcwd()) / \"dewiki.tsv\",sep=\"\\t\",header=None)\n",
    "rules_df_en = pd.read_csv(Path(os.getcwd()) / \"enwiki.tsv\",sep=\"\\t\",header=None)\n",
    "rules_df_es = pd.read_csv(Path(os.getcwd()) / \"eswiki.tsv\",sep=\"\\t\",header=None)\n",
    "rules_df_fr = pd.read_csv(Path(os.getcwd()) / \"frwiki.tsv\",sep=\"\\t\",header=None)\n",
    "rules_df_ja = pd.read_csv(Path(os.getcwd()) / \"jawiki.tsv\",sep=\"\\t\",header=None)\n",
    "rules_dfs = [rules_df_es,rules_df_en,rules_df_es,rules_df_fr,rules_df_ja]"
   ]
  },
  {
   "cell_type": "code",
   "execution_count": 5,
   "metadata": {},
   "outputs": [],
   "source": [
    "# page revision histories\n",
    "rev_path = Path(os.getcwd()) / \"output_rulepagerevs\" / \"2020-07-31\"\n",
    "\n",
    "rev_df_de = pd.read_csv( rev_path / \"de_revisions.tsv\",sep='\\t',header=0,encoding='utf8',parse_dates=['date','timestamp'])\n",
    "rev_df_en = pd.read_csv( rev_path / \"en_revisions.tsv\",sep='\\t',header=0,encoding='utf8',parse_dates=['date','timestamp'])\n",
    "rev_df_es = pd.read_csv( rev_path / \"es_revisions.tsv\",sep='\\t',header=0,encoding='utf8',parse_dates=['date','timestamp'])\n",
    "rev_df_fr = pd.read_csv( rev_path / \"fr_revisions.tsv\",sep='\\t',header=0,encoding='utf8',parse_dates=['date','timestamp'])\n",
    "rev_df_ja = pd.read_csv( rev_path / \"ja_revisions.tsv\",sep='\\t',header=0,encoding='utf8',parse_dates=['date','timestamp'])\n",
    "\n",
    "rev_dfs = [rev_df_de,rev_df_en,rev_df_es,rev_df_fr,rev_df_ja]\n",
    "rev_dfs_dict = { \"rev_df_de\":rev_df_de, \"rev_df_en\":rev_df_en, \"rev_df_es\":rev_df_es, \"rev_df_fr\":rev_df_fr, \"rev_df_ja\":rev_df_ja}"
   ]
  },
  {
   "cell_type": "code",
   "execution_count": 6,
   "metadata": {},
   "outputs": [],
   "source": [
    "# talk page revision histories\n",
    "talkrev_df_de = pd.read_csv( rev_path / \"de_revisions_talk.tsv\",sep='\\t',header=0,encoding='utf8',parse_dates=['date','timestamp'],low_memory=False)\n",
    "talkrev_df_en = pd.read_csv( rev_path / \"en_revisions_talk.tsv\",sep='\\t',header=0,encoding='utf8',parse_dates=['date','timestamp'],low_memory=False)\n",
    "talkrev_df_es = pd.read_csv( rev_path / \"es_revisions_talk.tsv\",sep='\\t',header=0,encoding='utf8',parse_dates=['date','timestamp'],low_memory=False)\n",
    "talkrev_df_fr = pd.read_csv( rev_path / \"fr_revisions_talk.tsv\",sep='\\t',header=0,encoding='utf8',parse_dates=['date','timestamp'],low_memory=False)\n",
    "talkrev_df_ja = pd.read_csv( rev_path / \"ja_revisions_talk.tsv\",sep='\\t',header=0,encoding='utf8',parse_dates=['date','timestamp'],low_memory=False)"
   ]
  },
  {
   "cell_type": "code",
   "execution_count": 7,
   "metadata": {},
   "outputs": [],
   "source": [
    "# get rid of duplicate revisions for each language edition\n",
    "rev_df_de.drop_duplicates(subset=['revid'],inplace=True)\n",
    "rev_df_en.drop_duplicates(subset=['revid'],inplace=True)\n",
    "rev_df_es.drop_duplicates(subset=['revid'],inplace=True)\n",
    "rev_df_fr.drop_duplicates(subset=['revid'],inplace=True)\n",
    "rev_df_ja.drop_duplicates(subset=['revid'],inplace=True)\n",
    "\n",
    "talkrev_df_de.drop_duplicates(subset=['revid'],inplace=True)\n",
    "talkrev_df_en.drop_duplicates(subset=['revid'],inplace=True)\n",
    "talkrev_df_es.drop_duplicates(subset=['revid'],inplace=True)\n",
    "talkrev_df_fr.drop_duplicates(subset=['revid'],inplace=True)\n",
    "talkrev_df_ja.drop_duplicates(subset=['revid'],inplace=True)"
   ]
  },
  {
   "cell_type": "markdown",
   "metadata": {},
   "source": [
    "## get interlanguage links"
   ]
  },
  {
   "cell_type": "code",
   "execution_count": null,
   "metadata": {},
   "outputs": [],
   "source": [
    "def get_ills(pagetitle,endpoint):\n",
    "    ill_list = list()\n",
    "    return ill_list"
   ]
  },
  {
   "cell_type": "markdown",
   "metadata": {},
   "source": [
    "## Parse revision histories to find when the interlanguage links happened"
   ]
  },
  {
   "cell_type": "code",
   "execution_count": null,
   "metadata": {},
   "outputs": [],
   "source": [
    "# get page revisions"
   ]
  },
  {
   "cell_type": "code",
   "execution_count": null,
   "metadata": {},
   "outputs": [],
   "source": [
    "# parse page revisions "
   ]
  }
 ],
 "metadata": {
  "kernelspec": {
   "display_name": "Python 3.8.2 64-bit",
   "language": "python",
   "name": "python_defaultSpec_1596921742846"
  },
  "language_info": {
   "codemirror_mode": {
    "name": "ipython",
    "version": 3
   },
   "file_extension": ".py",
   "mimetype": "text/x-python",
   "name": "python",
   "nbconvert_exporter": "python",
   "pygments_lexer": "ipython3",
   "version": "3.5.2"
  }
 },
 "nbformat": 4,
 "nbformat_minor": 4
}