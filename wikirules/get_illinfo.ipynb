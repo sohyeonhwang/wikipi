{
 "cells": [
  {
   "cell_type": "markdown",
   "metadata": {},
   "source": [
    "Get interlanguage link information for all of our rule pages and export as tsv"
   ]
  },
  {
   "cell_type": "code",
   "execution_count": 1,
   "metadata": {},
   "outputs": [],
   "source": [
    "import argparse\n",
    "import re, random, urllib, simplejson, copy, itertools\n",
    "import urllib.parse, urllib.request, urllib.error\n",
    "from datetime import datetime\n",
    "\n",
    "import pandas as pd\n",
    "import numpy as np\n",
    "import matplotlib.pyplot as plt\n",
    "import seaborn as sb\n",
    "sb.set_style('whitegrid')\n",
    "\n",
    "import requests, json, time, os\n",
    "from pathlib import Path\n",
    "\n",
    "from operator import itemgetter\n",
    "from collections import Counter\n",
    "from bs4 import BeautifulSoup\n",
    "\n",
    "import wikifunctions as wf"
   ]
  },
  {
   "cell_type": "code",
   "execution_count": 2,
   "metadata": {},
   "outputs": [],
   "source": [
    "# Some helpful structures\n",
    "\"\"\"\n",
    "Subject Talk    Name        Description\n",
    "0       1       Main        Articles, lists, & redirects\n",
    "2       3       User        User pages & sandboxes\n",
    "4       5       Wikipedia   Policy, essay, & processes\n",
    "-6       7       File        Media file descriptions\n",
    "-8       9       MediaWiki   Auto-generated pages\n",
    "10      11      Template    Infoboxes, nav boxes\n",
    "-12      13      Help        Software help\n",
    "14      15      Category    Categorized pages\n",
    "100     101     Portal      Topics & WikiProjects\n",
    "\"\"\"\n",
    "langs = [\"de\",\"en\",\"es\",\"fr\",\"ja\"]\n",
    "namespaces = [0, 1, 2, 3, 4, 5, 10, 11, 14, 15, 100, 101]"
   ]
  },
  {
   "cell_type": "markdown",
   "metadata": {},
   "source": [
    "## Load data\n",
    "(1) Source data (lists of rules)\n",
    "\n",
    "(2) Revision history tsvs"
   ]
  },
  {
   "cell_type": "code",
   "execution_count": 3,
   "metadata": {},
   "outputs": [],
   "source": [
    "# list of rules\n",
    "rules_df_de = pd.read_csv(Path(os.getcwd()) / \"rules\" / \"dewiki.tsv\",sep=\"\\t\",header=None)\n",
    "rules_df_de = rules_df_de.rename(columns={0: \"NA\", 1: \"links\",2:\"titles\"})\n",
    "rules_df_en = pd.read_csv(Path(os.getcwd()) / \"rules\" / \"enwiki.tsv\",sep=\"\\t\",header=None)\n",
    "rules_df_en = rules_df_en.rename(columns={0: \"NA\", 1: \"links\", 2: \"titles\", 3:\"shortcuts\"})\n",
    "rules_df_es = pd.read_csv(Path(os.getcwd()) / \"rules\" / \"eswiki.tsv\",sep=\"\\t\",header=None)\n",
    "rules_df_es = rules_df_es.rename(columns={0: \"NA\", 1: \"links\", 2: \"titles\", 3:\"shortcuts\"})\n",
    "rules_df_fr = pd.read_csv(Path(os.getcwd()) / \"rules\" / \"frwiki.tsv\",sep=\"\\t\",header=None)\n",
    "rules_df_fr = rules_df_fr.rename(columns={0: \"NA\", 1: \"links\", 2: \"titles\", 3:\"shortcuts\"})\n",
    "rules_df_ja = pd.read_csv(Path(os.getcwd()) / \"rules\" / \"jawiki.tsv\",sep=\"\\t\",header=None)\n",
    "rules_df_ja = rules_df_ja.rename(columns={0: \"NA\", 1: \"links\", 2: \"titles\", 3:\"shortcuts\"})\n",
    "\n",
    "rules_dfs = [rules_df_de,rules_df_en,rules_df_es,rules_df_fr,rules_df_ja]\n",
    "rules_dfs_dict = {'de':rules_df_de,'en':rules_df_en,'es':rules_df_es,'fr':rules_df_fr,'ja':rules_df_ja}"
   ]
  },
  {
   "cell_type": "code",
   "execution_count": 4,
   "metadata": {},
   "outputs": [
    {
     "output_type": "execute_result",
     "data": {
      "text/plain": [
       "      NA                                              links  \\\n",
       "0      0  https://de.wikipedia.org/wiki/Wikipedia:Richtl...   \n",
       "1      1  https://de.wikipedia.org/wiki/Wikipedia:Grundp...   \n",
       "2      2  https://de.wikipedia.org/wiki/Wikipedia:Was_Wi...   \n",
       "3      3  https://de.wikipedia.org/wiki/Wikipedia:Wikipe...   \n",
       "4      4  https://de.wikipedia.org/wiki/Wikipedia:Keine_...   \n",
       "..   ...                                                ...   \n",
       "117  119  https://de.wikipedia.org/wiki/Wikipedia:Namens...   \n",
       "118  120  https://de.wikipedia.org/wiki/Portal:Luftfahrt...   \n",
       "119  121  https://de.wikipedia.org/wiki/Portal:Antarktis...   \n",
       "120  122  https://de.wikipedia.org/wiki/Wikipedia:Namens...   \n",
       "121  123  https://de.wikipedia.org/wiki/Portal:Waffen/Na...   \n",
       "\n",
       "                                      titles  \n",
       "0                      Wikipedia:Richtlinien  \n",
       "1                  Wikipedia:Grundprinzipien  \n",
       "2          Wikipedia:Was Wikipedia nicht ist  \n",
       "3    Wikipedia:Wikipedia ist kein Wörterbuch  \n",
       "4             Wikipedia:Keine Theoriefindung  \n",
       "..                                       ...  \n",
       "117     Wikipedia:Namenskonventionen/Medizin  \n",
       "118      Portal:Luftfahrt/Namenskonventionen  \n",
       "119            Portal:Antarktis/Konventionen  \n",
       "120   Wikipedia:Namenskonventionen/Usbekisch  \n",
       "121         Portal:Waffen/Namenskonventionen  \n",
       "\n",
       "[122 rows x 3 columns]"
      ],
      "text/html": "<div>\n<style scoped>\n    .dataframe tbody tr th:only-of-type {\n        vertical-align: middle;\n    }\n\n    .dataframe tbody tr th {\n        vertical-align: top;\n    }\n\n    .dataframe thead th {\n        text-align: right;\n    }\n</style>\n<table border=\"1\" class=\"dataframe\">\n  <thead>\n    <tr style=\"text-align: right;\">\n      <th></th>\n      <th>NA</th>\n      <th>links</th>\n      <th>titles</th>\n    </tr>\n  </thead>\n  <tbody>\n    <tr>\n      <th>0</th>\n      <td>0</td>\n      <td>https://de.wikipedia.org/wiki/Wikipedia:Richtl...</td>\n      <td>Wikipedia:Richtlinien</td>\n    </tr>\n    <tr>\n      <th>1</th>\n      <td>1</td>\n      <td>https://de.wikipedia.org/wiki/Wikipedia:Grundp...</td>\n      <td>Wikipedia:Grundprinzipien</td>\n    </tr>\n    <tr>\n      <th>2</th>\n      <td>2</td>\n      <td>https://de.wikipedia.org/wiki/Wikipedia:Was_Wi...</td>\n      <td>Wikipedia:Was Wikipedia nicht ist</td>\n    </tr>\n    <tr>\n      <th>3</th>\n      <td>3</td>\n      <td>https://de.wikipedia.org/wiki/Wikipedia:Wikipe...</td>\n      <td>Wikipedia:Wikipedia ist kein Wörterbuch</td>\n    </tr>\n    <tr>\n      <th>4</th>\n      <td>4</td>\n      <td>https://de.wikipedia.org/wiki/Wikipedia:Keine_...</td>\n      <td>Wikipedia:Keine Theoriefindung</td>\n    </tr>\n    <tr>\n      <th>...</th>\n      <td>...</td>\n      <td>...</td>\n      <td>...</td>\n    </tr>\n    <tr>\n      <th>117</th>\n      <td>119</td>\n      <td>https://de.wikipedia.org/wiki/Wikipedia:Namens...</td>\n      <td>Wikipedia:Namenskonventionen/Medizin</td>\n    </tr>\n    <tr>\n      <th>118</th>\n      <td>120</td>\n      <td>https://de.wikipedia.org/wiki/Portal:Luftfahrt...</td>\n      <td>Portal:Luftfahrt/Namenskonventionen</td>\n    </tr>\n    <tr>\n      <th>119</th>\n      <td>121</td>\n      <td>https://de.wikipedia.org/wiki/Portal:Antarktis...</td>\n      <td>Portal:Antarktis/Konventionen</td>\n    </tr>\n    <tr>\n      <th>120</th>\n      <td>122</td>\n      <td>https://de.wikipedia.org/wiki/Wikipedia:Namens...</td>\n      <td>Wikipedia:Namenskonventionen/Usbekisch</td>\n    </tr>\n    <tr>\n      <th>121</th>\n      <td>123</td>\n      <td>https://de.wikipedia.org/wiki/Portal:Waffen/Na...</td>\n      <td>Portal:Waffen/Namenskonventionen</td>\n    </tr>\n  </tbody>\n</table>\n<p>122 rows × 3 columns</p>\n</div>"
     },
     "metadata": {},
     "execution_count": 4
    }
   ],
   "source": [
    "rules_df_de"
   ]
  },
  {
   "cell_type": "markdown",
   "metadata": {},
   "source": [
    "'''\n",
    "### page revision histories\n",
    "rev_path = Path(os.getcwd()) / \"output_rulepagerevs\" / \"2020-07-31\"\n",
    "\n",
    "rev_df_de = pd.read_csv( rev_path / \"de_revisions.tsv\",sep='\\t',header=0,encoding='utf8',parse_dates=['date','timestamp'])\n",
    "rev_df_en = pd.read_csv( rev_path / \"en_revisions.tsv\",sep='\\t',header=0,encoding='utf8',parse_dates=['date','timestamp'])\n",
    "rev_df_es = pd.read_csv( rev_path / \"es_revisions.tsv\",sep='\\t',header=0,encoding='utf8',parse_dates=['date','timestamp'])\n",
    "rev_df_fr = pd.read_csv( rev_path / \"fr_revisions.tsv\",sep='\\t',header=0,encoding='utf8',parse_dates=['date','timestamp'])\n",
    "rev_df_ja = pd.read_csv( rev_path / \"ja_revisions.tsv\",sep='\\t',header=0,encoding='utf8',parse_dates=['date','timestamp'])\n",
    "\n",
    "rev_dfs = [rev_df_de,rev_df_en,rev_df_es,rev_df_fr,rev_df_ja]\n",
    "rev_dfs_dict = { \"rev_df_de\":rev_df_de, \"rev_df_en\":rev_df_en, \"rev_df_es\":rev_df_es, \"rev_df_fr\":rev_df_fr, \"rev_df_ja\":rev_df_ja}\n",
    "'''"
   ]
  },
  {
   "cell_type": "markdown",
   "metadata": {},
   "source": [
    "'''\n",
    "### get rid of duplicate revisions for each language edition\n",
    "rev_df_de.drop_duplicates(subset=['revid'],inplace=True)\n",
    "rev_df_en.drop_duplicates(subset=['revid'],inplace=True)\n",
    "rev_df_es.drop_duplicates(subset=['revid'],inplace=True)\n",
    "rev_df_fr.drop_duplicates(subset=['revid'],inplace=True)\n",
    "rev_df_ja.drop_duplicates(subset=['revid'],inplace=True)\n",
    "'''"
   ]
  },
  {
   "cell_type": "markdown",
   "metadata": {},
   "source": [
    "## get interlanguage links"
   ]
  },
  {
   "cell_type": "code",
   "execution_count": 5,
   "metadata": {},
   "outputs": [],
   "source": [
    "def get_interlanguage_links(page_title, endpoint='en.wikipedia.org/w/api.php', redirects=1, multicore_dict=None):\n",
    "    \"\"\"The function accepts a page_title and returns a dictionary containing \n",
    "    the title of the page in its other languages\n",
    "       \n",
    "    page_title - a string with the title of the page on Wikipedia\n",
    "    endpoint - a string that points to the web address of the API.\n",
    "        This defaults to the English Wikipedia endpoint: 'en.wikipedia.org/w/api.php'\n",
    "        Changing the two letter language code will return a different language edition\n",
    "        The Wikia endpoints are slightly different, e.g. 'starwars.wikia.com/api.php'\n",
    "    redirects - 1 or 0 for whether to follow page redirects, defaults to 1\n",
    "       \n",
    "    Returns:\n",
    "    langlink_dict - a dictionary keyed by lang codes and page title as values\n",
    "    \"\"\"\n",
    "    \n",
    "    #query_string = \"https://{1}.wikipedia.org/w/api.php?action=query&format=json&prop=langlinks&formatversion=2&titles={0}&llprop=autonym|langname&lllimit=500\".format(page_title,lang)\n",
    "    query_url = \"https://{0}\".format(endpoint)\n",
    "    query_params = {}\n",
    "    query_params['action'] = 'query'\n",
    "    query_params['prop'] = 'langlinks'\n",
    "    query_params['titles'] = page_title\n",
    "    query_params['redirects'] = redirects\n",
    "    query_params['llprop'] = 'autonym|langname'\n",
    "    query_params['lllimit'] = 500\n",
    "    query_params['format'] = 'json'\n",
    "    query_params['formatversion'] = 2\n",
    "    json_response = requests.get(url=query_url,params=query_params).json()\n",
    "    #print(json_response)\n",
    "    \n",
    "    interlanguage_link_dict = dict()\n",
    "    start_lang = endpoint.split('.')[0]\n",
    "    #print(json_response['query']['pages'][0])\n",
    "    if 'title' in json_response['query']['pages'][0]:\n",
    "        final_title = json_response['query']['pages'][0]['title']\n",
    "        interlanguage_link_dict[start_lang] = final_title\n",
    "    else:\n",
    "        final_title = page_title\n",
    "        interlanguage_link_dict[start_lang] = final_title\n",
    "\n",
    "    if 'langlinks' in json_response['query']['pages'][0]:\n",
    "        langlink_dict = json_response['query']['pages'][0]['langlinks']\n",
    "\n",
    "        for d in langlink_dict:\n",
    "            lang = d['lang']\n",
    "            title = d['title']\n",
    "            interlanguage_link_dict[lang] = title\n",
    "            \n",
    "    if multicore_dict is None:\n",
    "        return {final_title:interlanguage_link_dict}\n",
    "    else:\n",
    "        multicore_dict[final_title] = interlanguage_link_dict\n"
   ]
  },
  {
   "cell_type": "code",
   "execution_count": 6,
   "metadata": {
    "tags": []
   },
   "outputs": [],
   "source": [
    "test_ills = dict()\n",
    "endpoint = \"{}.wikipedia.org/w/api.php\".format('de')\n",
    "p = 'Wikipedia:Neutraler Standpunkt'\n",
    "testtemp = get_interlanguage_links(p,endpoint)\n",
    "\n",
    "test_ills['test'] = testtemp"
   ]
  },
  {
   "cell_type": "code",
   "execution_count": 7,
   "metadata": {},
   "outputs": [],
   "source": [
    "langs = [\"de\",\"en\",\"es\",\"fr\",\"ja\"]\n",
    "ills = {}"
   ]
  },
  {
   "cell_type": "code",
   "execution_count": 8,
   "metadata": {
    "tags": []
   },
   "outputs": [
    {
     "output_type": "stream",
     "name": "stdout",
     "text": [
      "de\n",
      "en\n",
      "es\n",
      "fr\n",
      "ja\n"
     ]
    }
   ],
   "source": [
    "for lang in langs:\n",
    "    print(lang)\n",
    "    endpoint = \"{}.wikipedia.org/w/api.php\".format(lang)\n",
    "    df = rules_dfs_dict[lang]\n",
    "    pagetitles = df[\"titles\"].tolist()\n",
    "\n",
    "    temp = {}\n",
    "    prev = \"\"\n",
    "    for p in sorted(pagetitles):\n",
    "        #print(p)\n",
    "\n",
    "        if p == prev:\n",
    "            print(\"\\n\",\"Error! A repeat: \",p)\n",
    "        prev = p\n",
    "\n",
    "        try:\n",
    "            temp.update(get_interlanguage_links(p,endpoint))\n",
    "        except KeyboardInterrupt:\n",
    "            break\n",
    "        except:\n",
    "            print('!!! FAILED > {}'.format(p))\n",
    "            pass\n",
    "\n",
    "    ills[lang] = temp"
   ]
  },
  {
   "cell_type": "code",
   "execution_count": 9,
   "metadata": {},
   "outputs": [],
   "source": [
    "def get_ills_aslist(langlinks_dict):\n",
    "    '''\n",
    "    Takes in the langlinks dict and returns a dictionary that has page titles as keys and a list of ILL language codes as values.\n",
    "    '''\n",
    "    ill_list = dict()\n",
    "    for pagekey in langlinks_dict.keys():\n",
    "        _temp = list()\n",
    "        for langkey in langlinks_dict[pagekey].keys():\n",
    "            _temp.append(langkey)\n",
    "        ill_list[pagekey] = _temp\n",
    "    return ill_list"
   ]
  },
  {
   "cell_type": "code",
   "execution_count": 10,
   "metadata": {},
   "outputs": [],
   "source": [
    "rule_interlanguagelinks = dict()"
   ]
  },
  {
   "cell_type": "code",
   "execution_count": 11,
   "metadata": {
    "tags": []
   },
   "outputs": [
    {
     "output_type": "stream",
     "name": "stdout",
     "text": [
      "de\nen\nes\nfr\nja\n"
     ]
    }
   ],
   "source": [
    "for lang in langs:\n",
    "    print(lang)\n",
    "    rule_interlanguagelinks[lang] = get_ills_aslist(ills[lang])"
   ]
  },
  {
   "cell_type": "code",
   "execution_count": 12,
   "metadata": {},
   "outputs": [
    {
     "output_type": "execute_result",
     "data": {
      "text/plain": [
       "122"
      ]
     },
     "metadata": {},
     "execution_count": 12
    }
   ],
   "source": [
    "len(rule_interlanguagelinks['de'].keys())"
   ]
  },
  {
   "cell_type": "code",
   "execution_count": 13,
   "metadata": {},
   "outputs": [
    {
     "output_type": "stream",
     "name": "stdout",
     "text": [
      "ja Wikipedia:復帰の方針\nen Wikipedia:Deletion policy#Deletion review\nka ვიკიპედია:წაშლილი გვერდის აღდგენა\n"
     ]
    }
   ],
   "source": [
    "for r in ills['ja']['Wikipedia:復帰の方針']:\n",
    "    print(r,ills['ja']['Wikipedia:復帰の方針'][r])"
   ]
  },
  {
   "cell_type": "code",
   "execution_count": 63,
   "metadata": {},
   "outputs": [],
   "source": [
    "all_ills = []\n",
    "no_ills = []"
   ]
  },
  {
   "cell_type": "code",
   "execution_count": 64,
   "metadata": {},
   "outputs": [],
   "source": [
    "for lang in ['en','es','de','fr','ja']:\n",
    "    for rule in rule_interlanguagelinks[lang]:\n",
    "        if set(['en','es','de','fr','ja']).issubset(set(rule_interlanguagelinks[lang][rule])):\n",
    "            all_ills.append([lang,rule])\n",
    "        elif len(rule_interlanguagelinks[lang][rule]) == 1:\n",
    "            no_ills.append([lang,rule])"
   ]
  },
  {
   "cell_type": "code",
   "execution_count": 65,
   "metadata": {},
   "outputs": [
    {
     "output_type": "execute_result",
     "data": {
      "text/plain": [
       "(221, 170)"
      ]
     },
     "metadata": {},
     "execution_count": 65
    }
   ],
   "source": [
    "len(all_ills), len(no_ills)"
   ]
  },
  {
   "cell_type": "code",
   "execution_count": 66,
   "metadata": {},
   "outputs": [],
   "source": [
    "pd.DataFrame(all_ills).to_csv('ills_all.tsv',sep='\\t',index=False)"
   ]
  },
  {
   "cell_type": "code",
   "execution_count": 67,
   "metadata": {},
   "outputs": [],
   "source": [
    "pd.DataFrame(no_ills).to_csv('ills_none.tsv',sep='\\t',index=False)"
   ]
  },
  {
   "source": [
    "## Assign each rule as a Rule Concept, and see which Rule Concepts have however languages linked"
   ],
   "cell_type": "markdown",
   "metadata": {}
  },
  {
   "cell_type": "code",
   "execution_count": 37,
   "metadata": {},
   "outputs": [],
   "source": [
    "rule_concepts = dict()\n",
    "# rule_page : RC1"
   ]
  },
  {
   "cell_type": "code",
   "execution_count": 38,
   "metadata": {
    "tags": []
   },
   "outputs": [],
   "source": [
    "rc_count = 0\n",
    "\n",
    "for lang in ills.keys():\n",
    "    lang_rules = ills[lang]\n",
    "    for rule in lang_rules:\n",
    "        is_assigned = False\n",
    "        # we go through all the ILL'd rules, including itself\n",
    "        for r in lang_rules[rule]:\n",
    "            sub_a_rule = '{}:{}'.format(r,lang_rules[rule][r])\n",
    "            # if find a possible rule page names in the rule_concepts keys, we know we have already assigned a rule concept number\n",
    "            if sub_a_rule in rule_concepts.keys():\n",
    "                is_assigned = True\n",
    "                assigned_concept = rule_concepts[sub_a_rule]\n",
    "                break\n",
    "            else:\n",
    "                is_assigned = False\n",
    "        # if assigned, we use the already assigned concept to add to rule concepts\n",
    "        if is_assigned == True:\n",
    "            for r in lang_rules[rule]:\n",
    "                sub_a_rule = '{}:{}'.format(r,lang_rules[rule][r])\n",
    "                rule_concepts[sub_a_rule] = assigned_concept\n",
    "            #print('example assigned: {}'.format(sub_a_rule))\n",
    "        # else, that means that there was no assigned concept num yet\n",
    "        else:\n",
    "            rc_count += 1\n",
    "            for r in lang_rules[rule]:\n",
    "                sub_a_rule = '{}:{}'.format(r,lang_rules[rule][r])\n",
    "                rule_concepts[sub_a_rule] = 'RC{}'.format(rc_count)"
   ]
  },
  {
   "cell_type": "code",
   "execution_count": 39,
   "metadata": {},
   "outputs": [
    {
     "output_type": "execute_result",
     "data": {
      "text/plain": [
       "513"
      ]
     },
     "metadata": {},
     "execution_count": 39
    }
   ],
   "source": [
    "len(set(rule_concepts.values()))"
   ]
  },
  {
   "cell_type": "code",
   "execution_count": 40,
   "metadata": {},
   "outputs": [],
   "source": [
    "rule_concepts_reversed = dict()"
   ]
  },
  {
   "cell_type": "code",
   "execution_count": 43,
   "metadata": {},
   "outputs": [
    {
     "output_type": "stream",
     "name": "stdout",
     "text": [
      "RC155 ['en:Wikipedia:Criteria for speedy deletion', 'ace:Wikipedia:Sampôh rijang', 'af:Wikipedia:Spoedige verwyderings', 'ar:ويكيبيديا:معايير الحذف السريع', 'arz:ويكيبيديا:مسح سريع', 'ba:Википедия:Битте тиҙ юйыу критерийҙары', 'be:Вікіпедыя:Хуткае выдаленне', 'be-x-old:Вікіпэдыя:Крытэры хуткага выдаленьня', 'bh:विकिपीडिया:जल्दी से हटवले के पैमाना', 'bn:উইকিপিডিয়া:দ্রুত অপসারণের জন্য বিচারধারা', 'br:Wikipedia:Goulenn diverkañ raktal', 'ca:Viquipèdia:Criteris de supressió ràpida', 'ckb:ویکیپیدیا:پێوەرەکانی سڕینەوەی خێرا', 'cs:Wikipedie:Rychlé smazání', 'cv:Википеди:Хăвăрт пăрахăçлас критерисем', 'de:Wikipedia:Schnelllöschantrag', 'el:Βικιπαίδεια:Γρήγορη διαγραφή σελίδων', 'eo:Vikipedio:Regularo pri tuja forigado', 'es:Wikipedia:Criterios para el borrado rápido', 'fa:ویکی\\u200cپدیا:معیارهای حذف سریع', 'fi:Wikipedia:Pikapoisto', 'fr:Wikipédia:Critères de suppression immédiate', 'gl:Wikipedia:Eliminación rápida', 'gom:विकिपीडिया:Quick deletion', 'hak:Wikipedia:CSD', 'hr:Wikipedija:Glasovanje', 'id:Wikipedia:Kriteria penghapusan cepat', 'ig:Wikipedia:Criteria for speedy deletion', 'ik:Wikipedia:Speedy deletions', 'it:Wikipedia:Cancellazioni immediate', 'ja:Wikipedia:即時削除の方針', 'ka:ვიკიპედია:სწრაფი წაშლის კრიტერიუმები', 'kk:Уикипедия:Жедел жою сынбағалары', 'km:វិគីភីឌា:លក្ខណៈវិនិច្ឆ័យនៃលុបជាបន្ទាន់', 'kn:ವಿಕಿಪೀಡಿಯ:Criteria for speedy deletion', 'ko:위키백과:빠른 삭제 기준', 'la:Vicipaedia:Deletio/en', 'lb:Wikipedia:Direkt Läschen', 'lv:Vikipēdija:Paātrinātās dzēšanas kritēriji', 'mai:विकिपिडिया:शीघ्र मेटबैक आधार', 'mk:Википедија:Критериуми за брзо бришење', 'ml:വിക്കിപീഡിയ:പെട്ടെന്ന് നീക്കം ചെയ്യപ്പെടേണ്ടതിന്റെ മാനദണ്ഡങ്ങൾ', 'ms:Wikipedia:Kriteria untuk penghapusan segera', 'my:ဝီကီပီးဒီးယား:မဆိုင်းမတွ ဖျက်ပစ်ရန်အတွက် သတ်မှတ်ချက်များ', 'nds:Wikipedia:Gauweg', 'ne:विकिपिडिया:शीघ्र मेट्नुपर्ने आधार', 'nl:Wikipedia:Criteria voor directe verwijdering', 'oc:Wikipèdia:Demanda de supression immediata', 'pap:Wikipedia:Páginanan pa sea kitá', 'pl:Wikipedia:Ekspresowe kasowanie', 'pt:Wikipédia:Eliminação rápida', 'ro:Wikipedia:Criterii de ștergere rapidă', 'ru:Википедия:Критерии быстрого удаления', 'rue:Вікіпедія:Крітерії швыдкого вылучіня', 'sco:Wikipedia:Criteria for speedy deletion', 'sd:وڪيپيڊيا:ترت ڊاهڻ جا معيار', 'sh:Wikipedia:Kriteriji za brzo brisanje', 'shn:ဝီႇၶီႇၽီးတီးယႃး:လွင်ႈမၵ်းမၢႆ တႃႇမွတ်ႇပႅတ်ႈၵမ်းလဵဝ်', 'si:විකිපීඩියා:ඉක්මන් මකාදැමීමේ උපමාන', 'simple:Wikipedia:Quick deletion', 'sk:Wikipédia:Kritériá na rýchle zmazanie', 'sl:Wikipedija:Merila za hitri izbris', 'sr:Википедија:Критеријуми за брзо брисање', 'sv:Wikipedia:Snabbraderingar', 'szl:Wikipedyjo:Gibke wyćepowańy', 'ta:விக்கிப்பீடியா:துரித நீக்கல் தகுதிகள்', 'te:వికీపీడియా:త్వరిత తొలగింపు', 'tg:Википедиа:Меъёрҳои ҳазфи сареъ', 'th:วิกิพีเดีย:เงื่อนไขสำหรับการลบทันที', 'tl:Wikipedia:Mga mabilisang pagbura', 'tr:Vikipedi:Hızlı silme', 'ts:Wikipedia:Speedy deletions', 'tt:Википедия:Тиз бетерү критерийлары', 'uk:Вікіпедія:Критерії швидкого вилучення', 'ur:ویکیپیڈیا:فوری حذف شدگی کے معیارات', 'uz:Vikipediya:Tezda oʻchirish mezonlari', 'vec:Juto:Descançełasion imediata', 'vi:Wikipedia:Tiêu chí xóa nhanh', 'yo:WP:CSD', 'zh:Wikipedia:快速删除方针', 'zh-classical:維基大典:速刪', 'zh-yue:Wikipedia:即刻刪除嘅標準', 'en:Wikipedia:Deletion policy', 'af:Wikipedia:Verwyderingsbeleid', 'ar:ويكيبيديا:سياسة الحذف', 'arz:ويكيبيديا:مسح', 'as:ৱিকিপিডিয়া:বিলোপন নীতি', 'ast:Wikipedia:Páxines pa borrar', 'az:Vikipediya:Səhifə silmə kriteriyaları', 'azb:ویکی\\u200cپدیا:سیلمه سیاستی', 'ba:Википедия:Биттәрҙе юйыу', 'be:Вікіпедыя:Выдаленне старонак', 'be-x-old:Вікіпэдыя:Выдаленьне артыкулаў', 'bg:Уикипедия:Изтриване на страници и файлове', 'bh:विकिपीडिया:हटावे के नीति', 'bn:উইকিপিডিয়া:অপসারণ নীতি', 'bs:Wikipedia:Pravila za brisanje', 'ca:Viquipèdia:Esborrar pàgines', 'ckb:ویکیپیدیا:سیاسەتی سڕینەوە', 'de:Wikipedia:Löschregeln', 'el:Βικιπαίδεια:Πολιτική διαγραφής', 'eo:Vikipedio:Reguloj pri forigado', 'es:Wikipedia:Política de borrado', 'et:Vikipeedia:Artiklite kustutamise kord', 'fa:ویکی\\u200cپدیا:سیاست حذف', 'fi:Wikipedia:Poistokäytäntö', 'fr:Wikipédia:Pages à supprimer/Aide', 'gl:Wikipedia:Borrar', 'gom:विकिपीडिया:Deletion policy', 'he:ויקיפדיה:מדיניות המחיקה', 'hi:विकिपीडिया:पृष्ठ हटाने की नीति', 'hu:Wikipédia:Törlés', 'hy:Վիքիպեդիա:Ջնջման կանոնակարգ', 'id:Wikipedia:Kebijakan penghapusan', 'ilo:Wikipedia:Annuroten ti panagikkat', 'is:Wikipedia:Viðmið um eyðingu greina', 'it:Wikipedia:Regole per la cancellazione', 'ja:Wikipedia:削除の方針', 'ka:ვიკიპედია:გვერდის წაშლა', 'kk:Уикипедия:Бетті жою', 'ko:위키백과:삭제 정책', 'lv:Vikipēdija:Rakstu dzēšanas vadlīnijas', 'map-bms:Wikipedia:Kawicaksanan kanggo mbusak kaca', 'min:Wikipedia:Kabijakan dalam maapuih laman', 'mk:Википедија:Начела за бришење', 'ml:വിക്കിപീഡിയ:ഒഴിവാക്കൽ നയം', 'mn:Wikipedia:Хуудас устгахтай холбоотой баримтлах бодлого', 'mr:विकिपीडिया:वगळण्याविषयीचे धोरण', 'ms:Wikipedia:Menghapuskan laman', 'mt:Wikipedija:Politika dwar it-tħassir', 'my:Wikipedia:Deletion policy', 'ne:विकिपिडिया:पृष्ठ हटाउने नीति', 'nb:Wikipedia:Retningslinjer for sletting', 'oc:Ajuda:Cossí suprimir una pagina', 'pl:Wikipedia:Zasady usuwania stron', 'pt:Wikipédia:Política de eliminação', 'ro:Wikipedia:Ștergere', 'roa-tara:Wikipedia:Regole per la cancellazione', 'ru:Википедия:Удаление страниц', 'sd:وڪيپيڊيا:ڊليشن پاليسي', 'si:විකිපීඩියා:මකා දැමීමේ ප්\\u200dරතිපත්තිය', 'simple:Wikipedia:Deletion policy', 'so:Wikipedia:Xeerka Tirtirka', 'sv:Wikipedia:Raderingar', 'sw:Wikipedia:Kufuta makala', 'ta:விக்கிப்பீடியா:நீக்கல் கொள்கை', 'te:వికీపీడియా:తొలగింపు విధానం', 'th:วิกิพีเดีย:นโยบายการลบ', 'tl:Wikipedia:Pagbura ng mga pahina', 'tr:Vikipedi:Silme politikası', 'tt:Википедия:Мәкалә бетерү', 'uk:Вікіпедія:Критерії вилучення статей', 'ur:ویکیپیڈیا:حذف حکمت عملی', 'uz:Vikipediya:Sahifalarni oʻchirish qoidalari', 'vi:Wikipedia:Quy định xóa trang', 'wuu:Wikipedia:删除准则', 'yi:װיקיפּעדיע:אויסמעקן פאליסי', 'zh:Wikipedia:删除方针', 'zh-yue:Wikipedia:刪版', 'la:Vicipaedia:Deletio', 'simple:Wikipedia:Deletion policy#Quick deletion']\n",
      "RC494 ['ja:Wikipedia:復帰の方針', 'en:Wikipedia:Deletion policy#Deletion review', 'ka:ვიკიპედია:წაშლილი გვერდის აღდგენა']\n"
     ]
    }
   ],
   "source": [
    "for r_concept in set(rule_concepts.values()):\n",
    "    r_list = [k for k,v in rule_concepts.items() if v == r_concept]\n",
    "    rule_concepts_reversed[r_concept] = r_list\n",
    "\n",
    "    if 'ja:Wikipedia:復帰の方針' in r_list:\n",
    "        print(r_concept,rule_concepts_reversed[r_concept])\n",
    "    if 'en:Wikipedia:Deletion policy' in r_list:\n",
    "        print(r_concept,rule_concepts_reversed[r_concept])"
   ]
  },
  {
   "cell_type": "code",
   "execution_count": 31,
   "metadata": {},
   "outputs": [
    {
     "output_type": "execute_result",
     "data": {
      "text/plain": [
       "ikipedia:Relevantie/Personen',\n",
       "  'or:ଉଇକିପିଡ଼ିଆ:Notability (people)',\n",
       "  'pt:Wikipédia:Critérios de notoriedade/Biografias',\n",
       "  'ro:Wikipedia:Articole biografice',\n",
       "  'ru:Википедия:Критерии значимости персоналий',\n",
       "  'sah:Бикипиэдьийэ:Дьон суолтатын киритиэрийдэрэ',\n",
       "  'si:විකිපීඩියා:විශ්වකෝෂයකට වැදගත්බව (පුද්ගලයෝ)',\n",
       "  'simple:Wikipedia:Notability (people)',\n",
       "  'sk:Wikipédia:Významnosť (ľudia)',\n",
       "  'sr:Википедија:Значај (људи)',\n",
       "  'ta:விக்கிப்பீடியா:குறிப்பிடத்தக்கவர்',\n",
       "  'tg:Википедиа:Саршиносӣ (афрод)',\n",
       "  'th:วิกิพีเดีย:ความโดดเด่น (บุคคล)',\n",
       "  'tr:Vikipedi:Kayda değerlik (kişiler)',\n",
       "  'uk:Вікіпедія:Критерії значущості/Особи',\n",
       "  'uz:Vikipediya:Ensiklopedik ahamiyat (kishilar)',\n",
       "  'vi:Wikipedia:Độ nổi bật (người)',\n",
       "  'zh:Wikipedia:关注度 (人物)'],\n",
       " 'RC375': ['en:Wikipedia:WikiProject Council/Guide',\n",
       "  'ar:ويكيبيديا:سياسة مشاريع ويكيبيديا',\n",
       "  'be:Вікіпедыя:Рэкамендацыі па вядзенні праектаў',\n",
       "  'bn:উইকিপিডিয়া:উইকিপ্রকল্প পরিষদ/সহায়িকা',\n",
       "  'cs:Wikipedie:Nejlepší postupy WikiProjektů',\n",
       "  'fr:Aide:Démarrer un nouveau projet',\n",
       "  'id:Wikipedia:ProyekWiki/Pedoman',\n",
       "  'km:វិគីភីឌា:WikiProject Council/Guide',\n",
       "  'ko:위키백과:위키프로젝트/설명',\n",
       "  'ms:Wikipedia:Majlis WikiProjek/Panduan',\n",
       "  'nl:Wikipedia:Wikiproject/Projectgroep/Gids',\n",
       "  'or:ଉଇକିପିଡ଼ିଆ:WikiProject Council/Guide',\n",
       "  'pl:Pomoc:Jak utworzyć nowy wikiprojekt',\n",
       "  'ru:Википедия:Совет вики-проектов/Руководство',\n",
       "  'sl:Wikipedija:Svet WikiProjekta/Vodič',\n",
       "  'tg:Википедиа:Шӯрои ВикиЛоиҳаҳо/Роҳнамо',\n",
       "  'uk:Вікіпедія:Рада вікіпроєктів/Посібник',\n",
       "  'zh:Wikipedia:专题委员会/专题指引'],\n",
       " 'RC496': ['ja:Wikipedia:箇条書き',\n",
       "  'bn:উইকিপিডিয়া:রচনাশৈলী নির্দেশনা/অন্তর্নিবন্ধ তালিকা',\n",
       "  'en:Wikipedia:Manual of Style/Embedded lists',\n",
       "  'id:Wikipedia:Daftar dalam artikel',\n",
       "  'uk:Вікіпедія:Оформлення/Включення списків',\n",
       "  'zh:Wikipedia:格式手册/嵌入列表'],\n",
       " 'RC471': ['fr:Wikipédia:Style encyclopédique',\n",
       "  'hyw:Ուիքիփետիա:Հանրագիտականութիւն',\n",
       "  'lt:Vikipedija:Stilius',\n",
       "  'oc:Wikipèdia:Estil enciclopedic',\n",
       "  'ru:Википедия:Энциклопедичность',\n",
       "  'rue:Вікіпедія:Енціклопедічный штіл',\n",
       "  'sk:Wikipédia:Encyklopedický štýl'],\n",
       " 'RC368': ['en:Wikipedia:Username policy',\n",
       "  'ar:ويكيبيديا:سياسة اسم المستخدم',\n",
       "  \"ast:Wikipedia:Política de nomes d'usuariu\",\n",
       "  'av:Wikipedia:ГӀахьалчагӀазул цӀарал',\n",
       "  'az:Vikipediya:İstifadəçi adları',\n",
       "  'azb:ویکی\\u200cپدیا:ایشلدن آدی سیاستی',\n",
       "  'bg:Уикипедия:Потребителско име',\n",
       "  'bh:विकिपीडिया:प्रयोगकर्तानाँव नीति',\n",
       "  'bn:উইকিপিডিয়া:ব্যবহারকারী নামের নীতি',\n",
       "  'bs:Wikipedia:Korisničko ime',\n",
       "  \"ca:Viquipèdia:Nom d'usuari\",\n",
       "  'ckb:ویکیپیدیا:سیاسەتی ناوی بەکارھێنەر',\n",
       "  'cs:Wikipedie:Uživatelské jméno',\n",
       "  'da:Wikipedia:Brugerkonti og -navne',\n",
       "  'el:Βικιπαίδεια:Πολιτική ονομασίας χρηστών',\n",
       "  'eo:Vikipedio:Uzantnomo',\n",
       "  'es:Wikipedia:Nombres de usuario',\n",
       "  'et:Vikipeedia:Kasutajanimi',\n",
       "  'eu:Wikipedia:Lankideen izenak',\n",
       "  'fa:ویکی\\u200cپدیا:سیاست نام کاربری',\n",
       "  'fi:Wikipedia:Käyttäjätunnus',\n",
       "  \"fr:Wikipédia:Nom d'utilisateur\",\n",
       "  'gl:Wikipedia:Nomes de usuario',\n",
       "  'gu:વિકિપીડિયા:સભ્યનામ નીતિ',\n",
       "  'hi:विकिपीडिया:सदस्यनाम नीति',\n",
       "  'hr:Wikipedija:Suradničko ime',\n",
       "  'hsb:Wikipedija:Wužiwarske mjeno',\n",
       "  'hu:Wikipédia:Azonosító',\n",
       "  'hy:Վիքիպեդիա:Մասնակիցների անուններ',\n",
       "  'ia:Wikipedia:Nomine de usator',\n",
       "  'id:Wikipedia:Kebijakan nama pengguna',\n",
       "  'ilo:Wikipedia:Annuroten ti nagan ti agar-aramat',\n",
       "  'it:Aiuto:Nome utente',\n",
       "  'ja:Wikipedia:利用者名',\n",
       "  'jv:Wikipedia:Pranatan bab jeneng panganggo',\n",
       "  'kg:Wikipedia:Username policy',\n",
       "  'kk:Уикипедия:Қатысушы аты',\n",
       "  'ko:위키백과:계정 이름',\n",
       "  'la:Vicipaedia:Nomina usorum',\n",
       "  'mk:Википедија:Начела за кориснички имиња',\n",
       "  'ml:വിക്കിപീഡിയ:ഉപയോക്തൃനാമനയം',\n",
       "  'mn:Wikipedia:Хэрэглэгчийн нэр',\n",
       "  'mr:विकिपीडिया:सदस्यनाव नीती',\n",
       "  'ms:Wikipedia:Dasar nama pengguna',\n",
       "  'my:ဝီကီပီးဒီးယား:အသုံးပြုသူအမည် မူဝါဒ',\n",
       "  'ne:विकिपिडिया:प्रयोगकर्ता नाम नीति',\n",
       "  'nl:Wikipedia:Gebruikersnaam',\n",
       "  'or:ଉଇକିପିଡ଼ିଆ:Username policy',\n",
       "  'pl:Wikipedia:Nazwa użytkownika',\n",
       "  'ps:ويکيپېډيا:د کارن-نوم تگلاره',\n",
       "  'ro:Wikipedia:Nume de utilizator',\n",
       "  'roa-tara:Aiuto:Cambiare il nome utente',\n",
       "  'ru:Википедия:Имена участников',\n",
       "  'sah:Бикипиэдьийэ:Ааттаныы сиэрэ',\n",
       "  'sd:وڪيپيڊيا:يوزرنالو پاليسي',\n",
       "  'sh:Wikipedia:Korisničko ime',\n",
       "  'si:විකිපීඩියා:පරිශීලක නාම ප්\\u200dරතිපත්තිය',\n",
       "  'simple:Wikipedia:Username',\n",
       "  'sk:Wikipédia:Používateľské meno',\n",
       "  'sl:Wikipedija:Uporabniško ime',\n",
       "  'so:Wikipedia:Username policy',\n",
       "  'sq:Wikipedia:Politika e emrave të përdoruesve',\n",
       "  'sr:Википедија:Кориснички налог',\n",
       "  'su:Wikipedia:Ngaran pamaké',\n",
       "  'sv:Wikipedia:Användarkonto',\n",
       "  'ta:விக்கிப்பீடியா:பயனர் பெயர்',\n",
       "  'te:వికీపీడియా:వాడుకరిపేరు',\n",
       "  'th:วิกิพีเดีย:ชื่อผู้ใช้',\n",
       "  'tr:Vikipedi:Kullanıcı adı',\n",
       "  'uk:Вікіпедія:Імена користувачів',\n",
       "  'ur:ویکیپیڈیا:صارف نام حکمت عملی',\n",
       "  'vi:Wikipedia:Tên người dùng',\n",
       "  'wuu:Wikipedia:用户名方针',\n",
       "  'zh:Wikipedia:用户名',\n",
       "  'zh-yue:Wikipedia:用戶名政策',\n",
       "  'is:Wikipedia:Notandanafn'],\n",
       " 'RC23': ['de:Wikipedia:Enzyklopädische Fotografie'],\n",
       " 'RC277': ['en:Wikipedia:Naming conventions (music)',\n",
       "  'pt:Wikipédia:Convenção de nomenclatura/Música',\n",
       "  'zh:Wikipedia:命名常规 (音乐)'],\n",
       " 'RC2': ['de:Portal:Bahn/Anforderungen an Bahnartikel',\n",
       "  'en:Wikipedia:WikiProject Trains/Style advice',\n",
       "  'es:Wikiproyecto:Ferrocarriles/Convenciones y estilos',\n",
       "  'pl:Wikiprojekt:Transport szynowy/Zalecenia edycyjne'],\n",
       " 'RC385': ['es:Wikipedia:Burócratas',\n",
       "  'af:Wikipedia:Burokraat',\n",
       "  'ak:Wikipedia:Bureaucrats',\n",
       "  'an:Wikipedia:Burocratas',\n",
       "  'ar:ويكيبيديا:بيروقراطيون',\n",
       "  'ary:ويكيپيديا:بيروقراطيون',\n",
       "  'arz:ويكيبيديا:بيروقراطيين',\n",
       "  'ast:Wikipedia:Burócrates',\n",
       "  'az:Vikipediya:Bürokratlar',\n",
       "  'azb:ویکی\\u200cپدیا:بوروکراتلار',\n",
       "  'ba:Википедия:Бейҙәр',\n",
       "  'be:Вікіпедыя:Бюракраты',\n",
       "  'be-x-old:Вікіпэдыя:Бюракраты',\n",
       "  'bg:Уикипедия:Бюрократи',\n",
       "  'bn:উইকিপিডিয়া:ব্যুরোক্র্যাট',\n",
       "  'br:Wikipedia:Burevidi',\n",
       "  'bs:Wikipedia:Birokrati',\n",
       "  'ca:Viquipèdia:Buròcrates',\n",
       "  'ckb:ویکیپیدیا:بیوروکراتەکان',\n",
       "  'cs:Wikipedie:Byrokraté',\n",
       "  'cv:Википеди:Бюрократсем',\n",
       "  'cy:Wicipedia:Biwrocratiaid',\n",
       "  'da:Wikipedia:Bureaukrater',\n",
       "  'de:Wikipedia:Bürokraten',\n",
       "  'diq:Wikipediya:Burokrati',\n",
       "  'dv:ވިކިޕީޑިއާ:Bureaucrats',\n",
       "  'eml:Wikipedia:Burocrati',\n",
       "  'en:Wikipedia:Bureaucrats',\n",
       "  'eo:Vikipedio:Burokratoj',\n",
       "  'eu:Wikipedia:Burokratak',\n",
       "  'fa:ویکی\\u200cپدیا:دیوان\\u200cسالاران',\n",
       "  'fi:Wikipedia:Byrokraatit',\n",
       "  'fiu-vro:Wikipedia:Pääkõrraldajaq',\n",
       "  'fr:Wikipédia:Bureaucrate',\n",
       "  'fy:Wikipedy:Rjochtenútfurders',\n",
       "  'gl:Wikipedia:Burócratas',\n",
       "  'hak:Wikipedia:Hàng-tsṳn-yèn',\n",
       "  'he:ויקיפדיה:בירוקרט',\n",
       "  'hi:विकिपीडिया:प्रशासक',\n",
       "  'hr:Wikipedija:Birokrati',\n",
       "  'hsb:Wikipedija:Běrokraća',\n",
       "  'hu:Wikipédia:Bürokraták',\n",
       "  'id:Wikipedia:Birokrat',\n",
       "  'ig:Wikipedia:Bureaucrats',\n",
       "  'it:Wikipedia:Burocrati',\n",
       "  'ja:Wikipedia:ビューロクラット',\n",
       "  'jv:Wikipedia:Birokrat',\n",
       "  'ka:ვიკიპედია:ბიუროკრატები',\n",
       "  'kk:Уикипедия:Бітікшілер',\n",
       "  'ko:위키백과:사무관',\n",
       "  'krc:Википедия:Бюрократла',\n",
       "  'ksh:Wikipedia:Bürokrad',\n",
       "  'ku:Wîkîpediya:Burokrat',\n",
       "  'ky:Wikipedia:Bureaucrats',\n",
       "  'la:Vicipaedia:Grapheocrates',\n",
       "  'lad:Vikipedya:Burócratas',\n",
       "  'lb:Wikipedia:Bürokraten',\n",
       "  'li:Wikipedia:Bureaucrate',\n",
       "  'lij:Wikipedia:Buròcrati',\n",
       "  'lmo:Wikipedia:Buròcrat',\n",
       "  'lt:Vikipedija:Biurokratai',\n",
       "  'lv:Vikipēdija:Birokrāti',\n",
       "  'mi:Wikipedia:Bureaucrats',\n",
       "  'mk:Википедија:Бирократи',\n",
       "  'ml:വിക്കിപീഡിയ:ബ്യൂറോക്രാറ്റ്',\n",
       "  'mr:विकिपीडिया:प्रशासक',\n",
       "  'ms:Wikipedia:Birokrat',\n",
       "  'mt:Wikipedija:Burokrati',\n",
       "  'my:ဝီကီပီးဒီးယား:ဗျူရိုကရက်များ',\n",
       "  'nds:Wikipedia:Bürokraten',\n",
       "  'ne:विकिपिडिया:प्रशासकहरू',\n",
       "  'nl:Wikipedia:Bureaucraat',\n",
       "  'nn:Wikipedia:Byråkratar',\n",
       "  'oc:Wikipèdia:Burocrata',\n",
       "  'or:ଉଇକିପିଡ଼ିଆ:Bureaucrats',\n",
       "  'os:Википеди:Бюрократтæ',\n",
       "  'pl:Wikipedia:Biurokraci',\n",
       "  'pt:Wikipédia:Burocratas',\n",
       "  'rmy:Vikipidiya:Birokraturya',\n",
       "  'ro:Wikipedia:Birocrați',\n",
       "  'roa-tara:Wikipedia:Burocrate',\n",
       "  'ru:Википедия:Бюрократы',\n",
       "  'rue:Вікіпедія:Бірократы',\n",
       "  'scn:Wikipedia:Buròcrati',\n",
       "  'sco:Wikipedia:Bureaucrats',\n",
       "  'sd:وڪيپيڊيا:ڪامورا',\n",
       "  'se:Wikipedia:Byrokráhtat',\n",
       "  'sh:Wikipedia:Birokrati',\n",
       "  'si:විකිපීඩියා:නිලබලධාරියෝ',\n",
       "  'sk:Wikipédia:Byrokrati',\n",
       "  'sl:Wikipedija:Birokrati',\n",
       "  'sq:Wikipedia:Burokratë',\n",
       "  'sr:Википедија:Бирократе',\n",
       "  'su:Wikipedia:Birokrat',\n",
       "  'sv:Wikipedia:Byråkrater',\n",
       "  'sw:Wikipedia:Bureaucrats',\n",
       "  'ta:விக்கிப்பீடியா:அதிகாரிகள்',\n",
       "  'tg:Википедиа:Девонсолорон',\n",
       "  'th:วิกิพีเดีย:ผู้ดูแลระบบสิทธิ์แต่งตั้ง',\n",
       "  'tr:Vikipedi:Bürokratlar',\n",
       "  'tt:Википедия:Бюрократлар',\n",
       "  'uk:Вікіпедія:Бюрократи',\n",
       "  'ur:ویکیپیڈیا:مامورین اداری',\n",
       "  'uz:Vikipediya:Rasmiyatchilar',\n",
       "  'vec:Wikipedia:Burocrati',\n",
       "  'vi:Wikipedia:Hành chính viên',\n",
       "  'vls:Wikipedia:Burocrat',\n",
       "  'wo:Wikipedia:Bureaucrats',\n",
       "  'yi:װיקיפּעדיע:ביוראקראט',\n",
       "  'zh:Wikipedia:行政员',\n",
       "  'zh-yue:Wikipedia:事務員',\n",
       "  'ga:Vicipéid:Riarthóirí#Maorlathaigh',\n",
       "  'simple:Wikipedia:Administrators#Bureaucrat',\n",
       "  'ss:Wikipedia:Administrators#Bureaucrats'],\n",
       " 'RC89': ['de:Wikipedia:Richtlinien Geschichte',\n",
       "  'eo:Helpo:Kiel verki artikolon pri historio'],\n",
       " 'RC307': ['en:Wikipedia:Notability (music)',\n",
       "  'ar:ويكيبيديا:ملحوظية (موسيقى)',\n",
       "  'az:Vikipediya:Ensiklopedik əhəmiyyətlilik (musiqi)',\n",
       "  'bn:উইকিপিডিয়া:উল্লেখযোগ্যতা (সঙ্গীত)',\n",
       "  'cs:Wikipedie:Významnost (hudba)',\n",
       "  'da:Wikipedia:Kriterier for musikerartikler',\n",
       "  'el:Βικιπαίδεια:Εγκυκλοπαιδικότητα (μουσική)',\n",
       "  'es:Wikiproyecto:Wikipedia/Políticas/IdeasRelevancia/en música',\n",
       "  'fa:ویکی\\u200cپدیا:سرشناسی (موسیقی)',\n",
       "  'fi:Wikipedia:Bändiopas',\n",
       "  'fr:Wikipédia:Notoriété de la musique',\n",
       "  'he:ויקיפדיה:עקרונות וקווים מנחים ליצירת ערכים/סינגלים ופזמונים',\n",
       "  'hu:Wikipédia:Nevezetesség (zene)',\n",
       "  'hy:Վիքիպեդիա:Նշանակալիություն (երաժշտություն)',\n",
       "  'id:Wikipedia:Kelayakan artikel/Musik',\n",
       "  'is:Wikipedia:Markverðugleiki (tónlist)',\n",
       "  'it:Aiuto:Criteri di enciclopedicità/Gruppi e artisti musicali',\n",
       "  'ja:Wikipedia:特筆性 (音楽)',\n",
       "  'ko:위키백과:문서 등재 기준 (음악)',\n",
       "  'ms:Wikipedia:Kepentingan rencana (muzik)',\n",
       "  'nl:Wikipedia:Relevantie van muziekgerelateerde artikelen',\n",
       "  'pt:Wikipédia:Critérios de notoriedade/Música',\n",
       "  'ru:Википедия:Критерии значимости музыкантов',\n",
       "  'simple:Wikipedia:Notability (music)',\n",
       "  'sr:Википедија:Значај (музика)',\n",
       "  'sv:Wikipedia:Att skriva om musik',\n",
       "  'th:วิกิพีเดีย:ความโดดเด่น (ดนตรี)',\n",
       "  'tr:Vikipedi:Kayda değerlik (müzik)',\n",
       "  'vi:Wikipedia:Độ nổi bật (âm nhạc)',\n",
       "  'zh:Wikipedia:關注度 (音樂)'],\n",
       " 'RC21': ['de:Wikipedia:Diskussionsseiten',\n",
       "  'ar:ويكيبيديا:إرشادات صفحة النقاش',\n",
       "  'arz:ويكيبيديا:قواعد صفحات الكلام',\n",
       "  'az:Vikipediya:Müzakirə səhifəsi',\n",
       "  'azb:ویکی\\u200cپدیا:دانیشیق صفحه\\u200cسی',\n",
       "  'bh:विकिपीडिया:बातचीत पन्ना दिसानिर्देस',\n",
       "  'bs:Wikipedia:Smjernice za korištenje stranice za razgovor',\n",
       "  'ckb:ویکیپیدیا:ڕێساکانی پەڕەی وتووێژ',\n",
       "  'cy:Wicipedia:Canllawiau tudalennau sgwrs',\n",
       "  'el:Βικιπαίδεια:Οδηγός σελίδας συζήτησης',\n",
       "  'en:Wikipedia:Talk page guidelines',\n",
       "  'et:Vikipeedia:Arutelulehekülg',\n",
       "  'fa:ویکی\\u200cپدیا:رهنمودهای صفحه بحث',\n",
       "  'hi:विकिपीडिया:वार्ता दिशानिर्देश',\n",
       "  'hu:Wikipédia:Vitalapok használata',\n",
       "  'ilo:Wikipedia:Dagiti alagaden ti tungtungan a panid',\n",
       "  'ja:Wikipedia:ノートページのガイドライン',\n",
       "  'ka:ვიკიპედია:განხილვის გვერდების მართვა',\n",
       "  'ko:위키백과:토론 문서 지침',\n",
       "  'ms:Wikipedia:Laman perbincangan',\n",
       "  'my:Wikipedia:ဆွေးနွေးချက်စာမျက်နှာ လမ်းညွှန်ချက်များ',\n",
       "  'nl:Wikipedia:Overlegpagina',\n",
       "  'pt:Wikipédia:Página de discussão de artigo',\n",
       "  'ru:Википедия:Правила обсуждений',\n",
       "  'sco:Wikipedia:Collogue page guidelines',\n",
       "  'sd:وڪيپيڊيا:بحث صفحو اصول',\n",
       "  'simple:Wikipedia:Talk page',\n",
       "  'sl:Wikipedija:Smernice pogovornih strani',\n",
       "  'sr:Википедија:Смернице за коришћење странице за разговор',\n",
       "  'su:Wikipedia:Kaca obrolan',\n",
       "  'ta:விக்கிப்பீடியா:பேச்சுப் பக்கம்',\n",
       "  'tr:Vikipedi:Tartışma sayfası',\n",
       "  'ur:ویکیپیڈیا:ہدایات برائے تبادلۂ خیال صفحہ',\n",
       "  'vi:Wikipedia:Trang thảo luận',\n",
       "  'zh:Wikipedia:討論頁指引',\n",
       "  'bn:Wikipedia:Talk page guidelines',\n",
       "  'ca:Viquipèdia:Pàgines de discussió',\n",
       "  'es:Wikipedia:Políticas de edición y páginas de discusión',\n",
       "  'ml:വിക്കിപീഡിയ:സംവാദം താളുകള്\\u200dക്കായുള്ള മാര്\\u200dഗ്ഗരേഖകള്\\u200d',\n",
       "  'es:Wikipedia:Páginas de discusión',\n",
       "  'als:Hilfe:Diskussionsseiten',\n",
       "  'ang:Help:Mōtungtramet',\n",
       "  'ar:مساعدة:صفحات النقاش',\n",
       "  'as:সহায়:আলোচনা পৃষ্ঠা',\n",
       "  'be:Вікіпедыя:Старонкі размоў',\n",
       "  'be-x-old:Вікіпэдыя:Старонкі абмеркаваньняў',\n",
       "  'bg:Уикипедия:Дискусионна страница',\n",
       "  'bh:मदद:बातचीत पन्ना के इस्तेमाल',\n",
       "  'bjn:Wikipidia:Tungkaran pamandiran',\n",
       "  'bn:উইকিপিডিয়া:আলাপ পাতার নির্দেশাবলী',\n",
       "  'br:Wikipedia:Pajenn gaozeal',\n",
       "  'ce:Википеди:Дийцаре бакъо',\n",
       "  'ckb:یارمەتی:بەکارھێنانی پەڕەکانی وتووێژ',\n",
       "  'cs:Wikipedie:Diskusní stránka',\n",
       "  'cy:Cymorth:Tudalen sgwrs',\n",
       "  'da:Hjælp:Diskussionssider',\n",
       "  'de:Hilfe:Diskussionsseiten',\n",
       "  'el:Βοήθεια:Σελίδες συζήτησης',\n",
       "  'en:Help:Talk pages',\n",
       "  'eo:Vikipedio:Diskutpaĝo',\n",
       "  'eu:Laguntza:Eztabaida orria',\n",
       "  'fa:راهنما:صفحه بحث',\n",
       "  'fi:Wikipedia:Keskustelusivu',\n",
       "  'fr:Aide:Discussion',\n",
       "  'gl:Wikipedia:Páxina de conversa',\n",
       "  \"gor:Wikipedia:Halaman lo'iya\",\n",
       "  'ha:Wikipedia:Shafin tattaunawa',\n",
       "  'he:ויקיפדיה:דף שיחה',\n",
       "  'hr:Wikipedija:Stranice za razgovor',\n",
       "  'hu:Wikipédia:Vitalap',\n",
       "  'hy:Օգնություն:Քննարկման էջերի օգտագործում',\n",
       "  'ia:Wikipedia:Pagina de discussion',\n",
       "  'id:Wikipedia:Halaman pembicaraan',\n",
       "  'ilo:Tulong:Panagusar kadagiti tungtungan a panid',\n",
       "  'is:Hjálp:Spjallsíður',\n",
       "  'it:Aiuto:Pagina di discussione',\n",
       "  'ja:Help:ノートページ',\n",
       "  'jv:Pitulung:Kaca parembugan',\n",
       "  'ko:위키백과:토론 문서',\n",
       "  'lt:Vikipedija:Aptarimai',\n",
       "  'min:Wikipedia:Laman rundiang',\n",
       "  'mk:Помош:Разговорна страница',\n",
       "  'mnw:ရီု:Talk pages',\n",
       "  'ms:Bantuan:Mengguna laman perbincangan',\n",
       "  \"nap:Ajùto:Paggene 'e chiacchiera\",\n",
       "  'nl:Help:Overleg',\n",
       "  'nn:Hjelp:Diskusjonsside',\n",
       "  'nb:Hjelp:Hvordan bruke diskusjonssidene',\n",
       "  'or:ସହଯୋଗ:Using talk pages',\n",
       "  'pl:Pomoc:Strona dyskusji',\n",
       "  'pt:Wikipédia:Página de discussão',\n",
       "  'ro:Wikipedia:Pagină de discuție',\n",
       "  'ru:Википедия:Страницы обсуждений#Правила дискуссий',\n",
       "  'rue:Вікіпедія:Діскузна сторінка',\n",
       "  'sah:Бикипиэдьийэ:Ырытыы уонна кэпсэтии сиэрэ',\n",
       "  'sco:Wikipedia:Collogue page',\n",
       "  'sd:مدد:بحث صفحا',\n",
       "  'sh:Wikipedia:Stranica za razgovor',\n",
       "  'si:විකිපීඩියා:TP',\n",
       "  'simple:Help:Talk page',\n",
       "  'sk:Wikipédia:Diskusná stránka',\n",
       "  'sl:Pomoč:Pogovorna stran',\n",
       "  'sq:Ndihmë:Faqja e diskutimit',\n",
       "  'sr:Помоћ:Странице за разговор',\n",
       "  'sv:Wikipedia:Diskussionssidor',\n",
       "  'th:วิธีใช้:หน้าคุย',\n",
       "  'tl:Tulong:Paggamit ng pahina ng usapan',\n",
       "  'tr:Yardım:Tartışma sayfaları',\n",
       "  'tt:Википедия:Бәхәс битләре',\n",
       "  'uk:Довідка:Обговорення статей',\n",
       "  'ur:معاونت:تبادلۂ خیال صفحات کا استعمال',\n",
       "  'uz:Vikipediya:Munozara sahifalari',\n",
       "  'vec:Ajuto:Pajina de discusion',\n",
       "  'yi:װיקיפּעדיע:שמועס',\n",
       "  'zh:Wikipedia:讨论页',\n",
       "  'zh-min-nan:Pang-chān:Thó-lūn-ia̍h',\n",
       "  'zh-yue:Wikipedia:討論版'],\n",
       " 'RC468': ['fr:Wikipédia:Règles de savoir-vivre'],\n",
       " 'RC97': ['de:Wikipedia:Richtlinien bildende Kunst',\n",
       "  'en:Wikipedia:Manual of Style/Visual arts',\n",
       "  'es:Wikipedia:Convención sobre fuentes de relevancia para artistas plásticos contemporáneos'],\n",
       " 'RC351': ['en:Wikipedia:Spellchecking'],\n",
       " 'RC123': ['en:Template:Taxobox/doc'],\n",
       " 'RC427': [\"fr:Projet:Tennis/Critères d'admissibilité\"],\n",
       " 'RC453': ['fr:Wikipédia:Mobile',\n",
       "  'als:Wikipedia:Mobil',\n",
       "  'ar:مساعدة:تصفح من الجوال',\n",
       "  'da:Hjælp:Mobilvisning',\n",
       "  'de:Wikipedia:Unterwegs',\n",
       "  'el:Βικιπαίδεια:Πρόσβαση WAP',\n",
       "  'en:Help:Mobile access',\n",
       "  'eo:Vikipedio:Vikipedio tra SAP',\n",
       "  'fi:Wikipedia:Mobiilikäyttö',\n",
       "  'he:עזרה:ויקיפדיה במכשירים ניידים',\n",
       "  'hu:Wikipédia:Mobil változat',\n",
       "  'it:Wikipedia:Wikipedia su dispositivi mobili',\n",
       "  'ja:Help:携帯端末でのアクセス',\n",
       "  'ko:위키백과:모바일 접속',\n",
       "  'nb:Wikipedia:Wapedia',\n",
       "  'or:ସହଯୋଗ:Mobile access',\n",
       "  'pt:Wikipédia:Acesso móvel',\n",
       "  'ro:Wikipedia:Acces WAP',\n",
       "  'si:උදවු:ජංගම පිවිසුම',\n",
       "  'sl:Wikipedija:Dostopanje z WAP',\n",
       "  'th:วิธีใช้:การเข้าถึงอุปกรณ์เคลื่อนที่',\n",
       "  'wuu:Wikipedia:WAP存取',\n",
       "  'zh:Wikipedia:移動存取'],\n",
       " 'RC73': ['de:Wikipedia:Neutraler Standpunkt',\n",
       "  'af:Wikipedia:Neutrale standpunt',\n",
       "  'am:ውክፔዲያ:የማያደላ አስተያየት',\n",
       "  \"an:Wikipedia:Neutralidat d'o punto d'anvista\",\n",
       "  'ar:ويكيبيديا:وجهة النظر المحايدة',\n",
       "  'as:ৱিকিপিডিয়া:নিৰপেক্ষ দৃষ্টিভংগী',\n",
       "  'ast:Wikipedia:Puntu de vista neutral',\n",
       "  'az:Vikipediya:Neytral mövqe',\n",
       "  'azb:ویکی\\u200cپدیا:طرف\\u200cسیزلیک',\n",
       "  'ba:Википедия:Нейтраль ҡараш',\n",
       "  'be:Вікіпедыя:Нейтральны пункт гледжання',\n",
       "  'be-x-old:Вікіпэдыя:Нэўтральны пункт гледжаньня',\n",
       "  'bg:Уикипедия:Неутрална гледна точка',\n",
       "  'bh:विकिपीडिया:तटस्थ नजरिया',\n",
       "  'bn:উইকিপিডিয়া:নিরপেক্ষ দৃষ্টিভঙ্গি',\n",
       "  'br:Wikipedia:Kumuniezh/Chom neptu',\n",
       "  'bs:Wikipedia:Neutralno gledište',\n",
       "  'ca:Viquipèdia:Punt de vista neutral',\n",
       "  'ce:Википеди:Цхьангахьа озабезам цахилар',\n",
       "  'chr:Wikipedia:Neutral point of view',\n",
       "  'ckb:ویکیپیدیا:بێلایەنی ڕوانگە',\n",
       "  'co:Wikipedia:Puntu di vista neutru',\n",
       "  'cs:Wikipedie:Nezaujatý úhel pohledu',\n",
       "  'csb:Wiki:Neùtralny pùnkt zdrzeniégò',\n",
       "  'cy:Wicipedia:Safbwynt niwtral',\n",
       "  'da:Wikipedia:Skriv Wikipedia fra et neutralt synspunkt',\n",
       "  'diq:Wikipediya:Objektivite',\n",
       "  'el:Βικιπαίδεια:Ουδέτερη οπτική γωνία',\n",
       "  'en:Wikipedia:Neutral point of view',\n",
       "  'eo:Vikipedio:Neŭtrala vidpunkto',\n",
       "  'es:Wikipedia:Punto de vista neutral',\n",
       "  'et:Vikipeedia:Neutraalne vaatepunkt',\n",
       "  'eu:Wikipedia:Ikuspegi neutrala',\n",
       "  'fa:ویکی\\u200cپدیا:دیدگاه بی\\u200cطرف',\n",
       "  'fi:Wikipedia:Neutraali näkökulma',\n",
       "  'fiu-vro:Wikipedia:Eräpoolõlda saisukotus',\n",
       "  'fr:Wikipédia:Neutralité de point de vue',\n",
       "  'fy:Wikipedy:Objektivens',\n",
       "  'gl:Wikipedia:Punto de vista neutral',\n",
       "  'glk:ویکی\\u200cپدیا:بيطرفي',\n",
       "  'gu:વિકિપીડિયા:નિષ્પક્ષ દૃષ્ટિકોણ',\n",
       "  'ha:Wikipedia:Mahangar da ba son rai',\n",
       "  'he:ויקיפדיה:נקודת מבט נייטרלית',\n",
       "  'hi:विकिपीडिया:तटस्थ दृष्टिकोण',\n",
       "  'hr:Wikipedija:Nepristrano gledište',\n",
       "  'hsb:Wikipedija:NPOV',\n",
       "  'hu:Wikipédia:Semleges nézőpont',\n",
       "  'hy:Վիքիպեդիա:Չեզոք տեսակետ',\n",
       "  'ia:Wikipedia:Puncto de vista neutral',\n",
       "  'id:Wikipedia:Sudut pandang netral',\n",
       "  'ig:Wikipedia:Neutral point of view',\n",
       "  'is:Wikipedia:Hlutleysisreglan',\n",
       "  'it:Wikipedia:Punto di vista neutrale',\n",
       "  'ja:Wikipedia:中立的な観点',\n",
       "  'jv:Wikipedia:Cara ndeleng nétral',\n",
       "  'ka:ვიკიპედია:ნეიტრალური თვალსაზრისი',\n",
       "  'kk:Уикипедия:Бейтарап көзқарас',\n",
       "  'kl:Wikipedia:Kalluunnaveersaartoq',\n",
       "  'kn:ವಿಕಿಪೀಡಿಯ:ತಟಸ್ಥ ದೃಷ್ಟಿಕೋನ',\n",
       "  'ko:위키백과:중립적 시각',\n",
       "  'lb:Wikipedia:Neutralitéit',\n",
       "  'ln:Wikipedia:Neutralité de point de vue',\n",
       "  'lt:Vikipedija:Neutralus požiūris',\n",
       "  'map-bms:Wikipedia:Cara ndeleng netral',\n",
       "  'mg:Wikipedia:Fijerena tsy mitongilana',\n",
       "  'min:Wikipedia:Suduik pandang nan indak mamihak',\n",
       "  'mk:Википедија:Неутрална гледна точка',\n",
       "  'ml:വിക്കിപീഡിയ:സന്തുലിതമായ കാഴ്ച്ചപ്പാട്',\n",
       "  'mn:Wikipedia:Төвийг сахисан байр суурь',\n",
       "  'mr:विकिपीडिया:तटस्थ दृष्टीकोन',\n",
       "  'ms:Wikipedia:Pandangan berkecuali',\n",
       "  'mzn:ویکی\\u200cپدیا:بی\\u200cطرفی',\n",
       "  \"nap:Wikipedia:Scrivite Wikipedia 'a nu punto 'e vista neutrale\",\n",
       "  'ne:विकिपिडिया:तटस्थ दृष्टिकोण',\n",
       "  'nl:Wikipedia:Neutraal standpunt',\n",
       "  'nn:Wikipedia:Objektivitet',\n",
       "  'nb:Wikipedia:Nøytralt ståsted',\n",
       "  'oc:Wikipèdia:Neutralitat de punt de vista',\n",
       "  'or:ଉଇକିପିଡ଼ିଆ:ନିରପେକ୍ଷ ଦୃଷ୍ଟିକୋଣ',\n",
       "  'pa:ਵਿਕੀਪੀਡੀਆ:ਨਿਰਪੱਖ ਨਜ਼ਰੀਆ',\n",
       "  'pl:Wikipedia:Neutralny punkt widzenia',\n",
       "  'pt:Wikipédia:Princípio da imparcialidade',\n",
       "  'qu:Wikipidiya:Mana hukllap qhawariyninlla',\n",
       "  'rmy:Vikipidiya:Birigyardo jalipen',\n",
       "  'ro:Wikipedia:Punct de vedere neutru',\n",
       "  'ru:Википедия:Нейтральная точка зрения',\n",
       "  'sah:Бикипиэдьийэ:Кытыга суох сыһыан',\n",
       "  'scn:Wikipedia:Puntu di vista niutrali',\n",
       "  'sco:Wikipedia:Whit NPOV is',\n",
       "  'sd:وڪيپيڊيا:غير جانبدار نقطي نظر',\n",
       "  'sh:Wikipedia:Neutralan stav',\n",
       "  'si:විකිපීඩියා:NPOV',\n",
       "  'simple:Wikipedia:Neutral point of view',\n",
       "  'sk:Wikipédia:Nestranný uhol pohľadu',\n",
       "  'sl:Wikipedija:Nepristranskost',\n",
       "  'sq:Wikipedia:Pikëpamje neutrale',\n",
       "  'sr:Википедија:Неутрална тачка гледишта',\n",
       "  'su:Wikipedia:Puseur panitén nétral',\n",
       "  'sv:Wikipedia:Neutral synvinkel',\n",
       "  'sw:Wikipedia:Msimamo wa kutopendelea upande',\n",
       "  'szl:Wikipedyjo:Uobojyntne wezdrzyńy',\n",
       "  'ta:விக்கிப்பீடியா:நடுநிலை நோக்கு',\n",
       "  'te:వికీపీడియా:తటస్థ దృక్కోణం',\n",
       "  'tg:Википедиа:Дидгоҳи бетараф',\n",
       "  'th:วิกิพีเดีย:มุมมองที่เป็นกลาง',\n",
       "  'tk:Wikipediýa:Bitarap nukdaýnazar',\n",
       "  'tl:Wikipedia:Walang pinapanigang pananaw',\n",
       "  'tr:Vikipedi:Tarafsız bakış açısı',\n",
       "  'tt:Википедия:Нейтраль караш',\n",
       "  'uk:Вікіпедія:Нейтральна точка зору',\n",
       "  'ur:ویکیپیڈیا:معتدل نقطہ نظر',\n",
       "  'uz:Vikipediya:Betaraf nuqtai nazar',\n",
       "  'vec:Ajuto:Ponto de vista neutrałe',\n",
       "  'vi:Wikipedia:Thái độ trung lập',\n",
       "  'yi:װיקיפּעדיע:נייטראל',\n",
       "  'zh:Wikipedia:中立的观点',\n",
       "  'zh-min-nan:Wikipedia:Tiong-li̍p ê koan-tiám',\n",
       "  'zh-yue:Wikipedia:中立嘅觀點']}"
      ]
     },
     "metadata": {},
     "execution_count": 31
    }
   ],
   "source": [
    "rule_concepts_reversed"
   ]
  },
  {
   "cell_type": "code",
   "execution_count": null,
   "metadata": {},
   "outputs": [],
   "source": []
  },
  {
   "cell_type": "markdown",
   "metadata": {},
   "source": [
    "## Parse revision histories to find when the interlanguage links happened"
   ]
  },
  {
   "cell_type": "code",
   "execution_count": 17,
   "metadata": {},
   "outputs": [],
   "source": [
    "#https://en.wikipedia.org/w/index.php?title=Wikipedia:Neutral_point_of_view&diff=prev&oldid=270458\n",
    "def get_addedcontent(pagetitle,revid,lang):\n",
    "    pagetitle = pagetitle.replace(\" \",\"_\")\n",
    "    url = \"https://{}.wikipedia.org/w/index.php?title={}&diff=prev&oldid={}\".format(lang,pagetitle,revid)\n",
    "    #if lang == 'de':\n",
    "    #    url = \"https://{}.wikipedia.org/w/index.php?title={}&dir=prev&oldid={}\".format(lang,pagetitle,revid)\n",
    "    # if en,es,ja,fr, diff=prev. if de, dir=prev\n",
    "    #print(url)\n",
    "\n",
    "    soup = BeautifulSoup(requests.get(url).text, \"html.parser\")\n",
    "    revadds = soup.find_all(\"td\", class_=\"diff-addedline\")\n",
    "    revadds = [ str(r) for r in revadds if \"<div>\" in str(r) ]\n",
    "    \n",
    "    if len(revadds) != 0:\n",
    "        cleaned_revadds = list()\n",
    "        \n",
    "        for r in revadds:\n",
    "            minisoup = BeautifulSoup(r,\"html.parser\")\n",
    "            text = minisoup.get_text()\n",
    "            #print(text)\n",
    "            cleaned_revadds.append(text)\n",
    "        return ' '.join(cleaned_revadds)\n",
    "    \n",
    "    # else, there are no additions in this revision\n",
    "    else:\n",
    "        return None"
   ]
  },
  {
   "cell_type": "markdown",
   "metadata": {},
   "source": [
    "Starting with a test version"
   ]
  },
  {
   "cell_type": "markdown",
   "metadata": {},
   "source": [
    "'''# test\n",
    "_testtemp = dict()\n",
    "_testtemp.update(wf.get_all_page_revisions('Wikipedia:Neutral point of view',endpoint='en.wikipedia.org/w/api.php'))\n",
    "revdf = pd.concat(_testtemp)\n",
    "revdf = revdf.drop(columns=['sha1','anon','userhidden','suppressed','sha1hidden','user'])\n",
    "revdf = revdf.sort_values(by='timestamp')\n",
    "\n",
    "tupled_df = pd.DataFrame()\n",
    "tupled_df['tuples'] = list(zip(revdf.timestamp, revdf.revid))\n",
    "oldestfirst_revs = tupled_df['tuples'].tolist()\n",
    "\n",
    "for i in oldestfirst_revs[:2]:\n",
    "    timestamp,revid = i[0],i[1]\n",
    "    print(timestamp,revid)\n",
    "\n",
    "if not os.path.isdir(\"./ill_tester\"):\n",
    "    os.mkdir(\"./ill_tester\")\n",
    "\n",
    "tester = dict()\n",
    "for r in sorted_revids[15:30]:\n",
    "    print(r)\n",
    "    data = get_addedcontent('Wikipedia:Neutral point of view',r,'en')\n",
    "    with open('./ill_tester/tester_{}.json'.format(r),'w') as f:\n",
    "        json.dump(data, f)\n",
    "'''"
   ]
  },
  {
   "cell_type": "markdown",
   "metadata": {},
   "source": [
    "Actual get"
   ]
  },
  {
   "cell_type": "code",
   "execution_count": 18,
   "metadata": {},
   "outputs": [
    {
     "output_type": "execute_result",
     "data": {
      "text/plain": "['de',\n 'af',\n 'am',\n 'ar',\n 'arz',\n 'as',\n 'av',\n 'az',\n 'azb',\n 'ba',\n 'be',\n 'be-x-old',\n 'bg',\n 'bh',\n 'bjn',\n 'bn',\n 'br',\n 'bs',\n 'ca',\n 'ce',\n 'ckb',\n 'cs',\n 'cy',\n 'da',\n 'el',\n 'en',\n 'eo',\n 'es',\n 'eu',\n 'fa',\n 'fi',\n 'fr',\n 'ga',\n 'gl',\n 'glk',\n 'gor',\n 'he',\n 'hi',\n 'hr',\n 'hsb',\n 'hu',\n 'hy',\n 'ia',\n 'id',\n 'inh',\n 'is',\n 'it',\n 'ja',\n 'ka',\n 'kk',\n 'kl',\n 'kn',\n 'ko',\n 'ku',\n 'ky',\n 'lb',\n 'mai',\n 'min',\n 'mk',\n 'ml',\n 'ms',\n 'mzn',\n 'nap',\n 'ne',\n 'nl',\n 'nn',\n 'no',\n 'nv',\n 'pl',\n 'ps',\n 'pt',\n 'rmy',\n 'ro',\n 'ru',\n 'scn',\n 'sco',\n 'sd',\n 'sh',\n 'si',\n 'simple',\n 'sk',\n 'sl',\n 'sq',\n 'sr',\n 'su',\n 'sv',\n 'ta',\n 'tg',\n 'th',\n 'tr',\n 'tt',\n 'udm',\n 'uk',\n 'ur',\n 'uz',\n 'vi',\n 'yi',\n 'zh',\n 'zh-yue']"
     },
     "metadata": {},
     "execution_count": 18
    }
   ],
   "source": [
    "rule_interlanguagelinks['de']['Wikipedia:Richtlinien']"
   ]
  },
  {
   "cell_type": "code",
   "execution_count": 29,
   "metadata": {},
   "outputs": [],
   "source": [
    "def process_languagelinksdates(lang):\n",
    "    # initialize output\n",
    "    ill_dates = dict()\n",
    "\n",
    "    pageslist = list(rule_interlanguagelinks[lang].keys())\n",
    "    #test = [\"Wikipedia:Richtlinien\",\"Wikipedia:Grundprinzipien\",\"Wikipedia:Was Wikipedia nicht ist\"]\n",
    "\n",
    "    for page in pageslist:\n",
    "        #print(page)\n",
    "        found_langs = list()\n",
    "        ill_dates[page] = dict()\n",
    "\n",
    "        _temprevs = wf.get_all_page_revisions(str(page),endpoint='{}.wikipedia.org/w/api.php'.format(lang))\n",
    "        _revdf = pd.concat(_temprevs).sort_values(by='timestamp')\n",
    "\n",
    "        _revdf['tuples'] = list(zip(_revdf.timestamp, _revdf.revid))\n",
    "        _tuples = _revdf['tuples'].tolist()\n",
    "\n",
    "        # the interlanguage links that this page has\n",
    "        _ills = rule_interlanguagelinks[lang][page]\n",
    "        #print(_ills)\n",
    "        if lang in _ills:\n",
    "            _ills.remove(lang)\n",
    "        _ills_full = ['{}:{}'.format(key,value) for (key,value) in ills[lang][page].items()]\n",
    "        #print(_ills_full)\n",
    "        otherlangs = ['de','en','fr','es','ja']\n",
    "        # remove self lang\n",
    "        otherlangs.remove(lang)\n",
    "\n",
    "        # ill subset should the subset of ills that this page has that are in the langs we care about\n",
    "        _ills_subset = ['{}:{}'.format(key,value) for (key,value) in ills[lang][page].items() if key in otherlangs]\n",
    "        _ills_subset = set(_ills_subset)\n",
    "\n",
    "        print(page, len(_tuples),_revdf.shape)\n",
    "        #print(_ills)\n",
    "\n",
    "        pattern = re.compile(r\"\\[\\[[^\\]\\d]+?\\:.+?\\]\\]\")\n",
    "\n",
    "        for revision in _tuples:\n",
    "            currentilldateswehave = set(list(ill_dates[page].keys()))\n",
    "            if _ills_subset.issubset(currentilldateswehave):\n",
    "                break\n",
    "\n",
    "            timestamp,revid = revision[0],revision[1]\n",
    "\n",
    "            bit = get_addedcontent(page,revid,lang)\n",
    "            if bit == None:\n",
    "                continue\n",
    "            #print(timestamp,revid)\n",
    "\n",
    "            finds = re.findall(pattern,bit)\n",
    "            if len(finds) == 0:\n",
    "                continue\n",
    "            else:\n",
    "                for f in finds:\n",
    "                    # change this to a set of langs of interest\n",
    "                    if f[2:4] in _ills:\n",
    "                        if f[2:-2] not in ill_dates[page].keys():\n",
    "                            ill_dates[page][f[2:-2]] = timestamp.to_pydatetime().strftime('%Y-%m-%d %H:%M:%S %z')\n",
    "                            found_langs.append(f[2:4])                            \n",
    "                        else:\n",
    "                            continue\n",
    "                    else:\n",
    "                        continue\n",
    "        print(ill_dates[page])\n",
    "\n",
    "    return ill_dates\n"
   ]
  },
  {
   "cell_type": "markdown",
   "metadata": {},
   "source": [
    "Running the get ill dates for reals"
   ]
  },
  {
   "cell_type": "code",
   "execution_count": 30,
   "metadata": {
    "tags": []
   },
   "outputs": [
    {
     "output_type": "stream",
     "name": "stdout",
     "text": "Portal:Antarktis/Konventionen 3 (3, 14)\n{}\nPortal:Bahn/Anforderungen an Bahnartikel 188 (188, 15)\n<class 'str'>\n2006-10-08 15:15:34 UTC\n<class 'str'>\n2006-10-09 21:37:52 UTC\n<class 'str'>\n2006-12-26 17:23:23 UTC\n<class 'str'>\n2007-01-29 13:40:01 UTC\n<class 'str'>\n2007-02-16 13:06:30 UTC\n<class 'str'>\n2007-02-17 13:38:52 UTC\n<class 'str'>\n2007-02-17 18:16:11 UTC\n<class 'str'>\n2007-04-17 10:35:59 UTC\n<class 'str'>\n2007-05-21 18:59:32 UTC\n<class 'str'>\n2007-06-18 18:23:47 UTC\n<class 'str'>\n2007-06-18 18:24:55 UTC\n<class 'str'>\n2007-07-26 12:55:53 UTC\n<class 'str'>\n2008-01-02 15:01:16 UTC\n<class 'str'>\n2008-01-02 16:23:44 UTC\n"
    },
    {
     "output_type": "error",
     "ename": "KeyboardInterrupt",
     "evalue": "",
     "traceback": [
      "\u001b[1;31m---------------------------------------------------------------------------\u001b[0m",
      "\u001b[1;31mKeyboardInterrupt\u001b[0m                         Traceback (most recent call last)",
      "\u001b[1;32m<ipython-input-30-5e4d18528835>\u001b[0m in \u001b[0;36m<module>\u001b[1;34m\u001b[0m\n\u001b[1;32m----> 1\u001b[1;33m \u001b[0mde_illdates\u001b[0m \u001b[1;33m=\u001b[0m \u001b[0mprocess_languagelinksdates\u001b[0m\u001b[1;33m(\u001b[0m\u001b[1;34m'de'\u001b[0m\u001b[1;33m)\u001b[0m\u001b[1;33m\u001b[0m\u001b[1;33m\u001b[0m\u001b[0m\n\u001b[0m",
      "\u001b[1;32m<ipython-input-29-2321fa355a10>\u001b[0m in \u001b[0;36mprocess_languagelinksdates\u001b[1;34m(lang)\u001b[0m\n\u001b[0;32m     46\u001b[0m             \u001b[0mprint\u001b[0m\u001b[1;33m(\u001b[0m\u001b[0mtimestamp\u001b[0m\u001b[1;33m.\u001b[0m\u001b[0mto_pydatetime\u001b[0m\u001b[1;33m(\u001b[0m\u001b[1;33m)\u001b[0m\u001b[1;33m.\u001b[0m\u001b[0mstrftime\u001b[0m\u001b[1;33m(\u001b[0m\u001b[1;34m'%Y-%m-%d %H:%M:%S %Z'\u001b[0m\u001b[1;33m)\u001b[0m\u001b[1;33m)\u001b[0m\u001b[1;33m\u001b[0m\u001b[1;33m\u001b[0m\u001b[0m\n\u001b[0;32m     47\u001b[0m \u001b[1;33m\u001b[0m\u001b[0m\n\u001b[1;32m---> 48\u001b[1;33m             \u001b[0mbit\u001b[0m \u001b[1;33m=\u001b[0m \u001b[0mget_addedcontent\u001b[0m\u001b[1;33m(\u001b[0m\u001b[0mpage\u001b[0m\u001b[1;33m,\u001b[0m\u001b[0mrevid\u001b[0m\u001b[1;33m,\u001b[0m\u001b[0mlang\u001b[0m\u001b[1;33m)\u001b[0m\u001b[1;33m\u001b[0m\u001b[1;33m\u001b[0m\u001b[0m\n\u001b[0m\u001b[0;32m     49\u001b[0m             \u001b[1;32mif\u001b[0m \u001b[0mbit\u001b[0m \u001b[1;33m==\u001b[0m \u001b[1;32mNone\u001b[0m\u001b[1;33m:\u001b[0m\u001b[1;33m\u001b[0m\u001b[1;33m\u001b[0m\u001b[0m\n\u001b[0;32m     50\u001b[0m                 \u001b[1;32mcontinue\u001b[0m\u001b[1;33m\u001b[0m\u001b[1;33m\u001b[0m\u001b[0m\n",
      "\u001b[1;32m<ipython-input-17-7bf847d6968b>\u001b[0m in \u001b[0;36mget_addedcontent\u001b[1;34m(pagetitle, revid, lang)\u001b[0m\n\u001b[0;32m      8\u001b[0m     \u001b[1;31m#print(url)\u001b[0m\u001b[1;33m\u001b[0m\u001b[1;33m\u001b[0m\u001b[1;33m\u001b[0m\u001b[0m\n\u001b[0;32m      9\u001b[0m \u001b[1;33m\u001b[0m\u001b[0m\n\u001b[1;32m---> 10\u001b[1;33m     \u001b[0msoup\u001b[0m \u001b[1;33m=\u001b[0m \u001b[0mBeautifulSoup\u001b[0m\u001b[1;33m(\u001b[0m\u001b[0mrequests\u001b[0m\u001b[1;33m.\u001b[0m\u001b[0mget\u001b[0m\u001b[1;33m(\u001b[0m\u001b[0murl\u001b[0m\u001b[1;33m)\u001b[0m\u001b[1;33m.\u001b[0m\u001b[0mtext\u001b[0m\u001b[1;33m,\u001b[0m \u001b[1;34m\"html.parser\"\u001b[0m\u001b[1;33m)\u001b[0m\u001b[1;33m\u001b[0m\u001b[1;33m\u001b[0m\u001b[0m\n\u001b[0m\u001b[0;32m     11\u001b[0m     \u001b[0mrevadds\u001b[0m \u001b[1;33m=\u001b[0m \u001b[0msoup\u001b[0m\u001b[1;33m.\u001b[0m\u001b[0mfind_all\u001b[0m\u001b[1;33m(\u001b[0m\u001b[1;34m\"td\"\u001b[0m\u001b[1;33m,\u001b[0m \u001b[0mclass_\u001b[0m\u001b[1;33m=\u001b[0m\u001b[1;34m\"diff-addedline\"\u001b[0m\u001b[1;33m)\u001b[0m\u001b[1;33m\u001b[0m\u001b[1;33m\u001b[0m\u001b[0m\n\u001b[0;32m     12\u001b[0m     \u001b[0mrevadds\u001b[0m \u001b[1;33m=\u001b[0m \u001b[1;33m[\u001b[0m \u001b[0mstr\u001b[0m\u001b[1;33m(\u001b[0m\u001b[0mr\u001b[0m\u001b[1;33m)\u001b[0m \u001b[1;32mfor\u001b[0m \u001b[0mr\u001b[0m \u001b[1;32min\u001b[0m \u001b[0mrevadds\u001b[0m \u001b[1;32mif\u001b[0m \u001b[1;34m\"<div>\"\u001b[0m \u001b[1;32min\u001b[0m \u001b[0mstr\u001b[0m\u001b[1;33m(\u001b[0m\u001b[0mr\u001b[0m\u001b[1;33m)\u001b[0m \u001b[1;33m]\u001b[0m\u001b[1;33m\u001b[0m\u001b[1;33m\u001b[0m\u001b[0m\n",
      "\u001b[1;32mC:\\Python38\\lib\\site-packages\\requests\\api.py\u001b[0m in \u001b[0;36mget\u001b[1;34m(url, params, **kwargs)\u001b[0m\n\u001b[0;32m     74\u001b[0m \u001b[1;33m\u001b[0m\u001b[0m\n\u001b[0;32m     75\u001b[0m     \u001b[0mkwargs\u001b[0m\u001b[1;33m.\u001b[0m\u001b[0msetdefault\u001b[0m\u001b[1;33m(\u001b[0m\u001b[1;34m'allow_redirects'\u001b[0m\u001b[1;33m,\u001b[0m \u001b[1;32mTrue\u001b[0m\u001b[1;33m)\u001b[0m\u001b[1;33m\u001b[0m\u001b[1;33m\u001b[0m\u001b[0m\n\u001b[1;32m---> 76\u001b[1;33m     \u001b[1;32mreturn\u001b[0m \u001b[0mrequest\u001b[0m\u001b[1;33m(\u001b[0m\u001b[1;34m'get'\u001b[0m\u001b[1;33m,\u001b[0m \u001b[0murl\u001b[0m\u001b[1;33m,\u001b[0m \u001b[0mparams\u001b[0m\u001b[1;33m=\u001b[0m\u001b[0mparams\u001b[0m\u001b[1;33m,\u001b[0m \u001b[1;33m**\u001b[0m\u001b[0mkwargs\u001b[0m\u001b[1;33m)\u001b[0m\u001b[1;33m\u001b[0m\u001b[1;33m\u001b[0m\u001b[0m\n\u001b[0m\u001b[0;32m     77\u001b[0m \u001b[1;33m\u001b[0m\u001b[0m\n\u001b[0;32m     78\u001b[0m \u001b[1;33m\u001b[0m\u001b[0m\n",
      "\u001b[1;32mC:\\Python38\\lib\\site-packages\\requests\\api.py\u001b[0m in \u001b[0;36mrequest\u001b[1;34m(method, url, **kwargs)\u001b[0m\n\u001b[0;32m     59\u001b[0m     \u001b[1;31m# cases, and look like a memory leak in others.\u001b[0m\u001b[1;33m\u001b[0m\u001b[1;33m\u001b[0m\u001b[1;33m\u001b[0m\u001b[0m\n\u001b[0;32m     60\u001b[0m     \u001b[1;32mwith\u001b[0m \u001b[0msessions\u001b[0m\u001b[1;33m.\u001b[0m\u001b[0mSession\u001b[0m\u001b[1;33m(\u001b[0m\u001b[1;33m)\u001b[0m \u001b[1;32mas\u001b[0m \u001b[0msession\u001b[0m\u001b[1;33m:\u001b[0m\u001b[1;33m\u001b[0m\u001b[1;33m\u001b[0m\u001b[0m\n\u001b[1;32m---> 61\u001b[1;33m         \u001b[1;32mreturn\u001b[0m \u001b[0msession\u001b[0m\u001b[1;33m.\u001b[0m\u001b[0mrequest\u001b[0m\u001b[1;33m(\u001b[0m\u001b[0mmethod\u001b[0m\u001b[1;33m=\u001b[0m\u001b[0mmethod\u001b[0m\u001b[1;33m,\u001b[0m \u001b[0murl\u001b[0m\u001b[1;33m=\u001b[0m\u001b[0murl\u001b[0m\u001b[1;33m,\u001b[0m \u001b[1;33m**\u001b[0m\u001b[0mkwargs\u001b[0m\u001b[1;33m)\u001b[0m\u001b[1;33m\u001b[0m\u001b[1;33m\u001b[0m\u001b[0m\n\u001b[0m\u001b[0;32m     62\u001b[0m \u001b[1;33m\u001b[0m\u001b[0m\n\u001b[0;32m     63\u001b[0m \u001b[1;33m\u001b[0m\u001b[0m\n",
      "\u001b[1;32mC:\\Python38\\lib\\site-packages\\requests\\sessions.py\u001b[0m in \u001b[0;36mrequest\u001b[1;34m(self, method, url, params, data, headers, cookies, files, auth, timeout, allow_redirects, proxies, hooks, stream, verify, cert, json)\u001b[0m\n\u001b[0;32m    528\u001b[0m         }\n\u001b[0;32m    529\u001b[0m         \u001b[0msend_kwargs\u001b[0m\u001b[1;33m.\u001b[0m\u001b[0mupdate\u001b[0m\u001b[1;33m(\u001b[0m\u001b[0msettings\u001b[0m\u001b[1;33m)\u001b[0m\u001b[1;33m\u001b[0m\u001b[1;33m\u001b[0m\u001b[0m\n\u001b[1;32m--> 530\u001b[1;33m         \u001b[0mresp\u001b[0m \u001b[1;33m=\u001b[0m \u001b[0mself\u001b[0m\u001b[1;33m.\u001b[0m\u001b[0msend\u001b[0m\u001b[1;33m(\u001b[0m\u001b[0mprep\u001b[0m\u001b[1;33m,\u001b[0m \u001b[1;33m**\u001b[0m\u001b[0msend_kwargs\u001b[0m\u001b[1;33m)\u001b[0m\u001b[1;33m\u001b[0m\u001b[1;33m\u001b[0m\u001b[0m\n\u001b[0m\u001b[0;32m    531\u001b[0m \u001b[1;33m\u001b[0m\u001b[0m\n\u001b[0;32m    532\u001b[0m         \u001b[1;32mreturn\u001b[0m \u001b[0mresp\u001b[0m\u001b[1;33m\u001b[0m\u001b[1;33m\u001b[0m\u001b[0m\n",
      "\u001b[1;32mC:\\Python38\\lib\\site-packages\\requests\\sessions.py\u001b[0m in \u001b[0;36msend\u001b[1;34m(self, request, **kwargs)\u001b[0m\n\u001b[0;32m    641\u001b[0m \u001b[1;33m\u001b[0m\u001b[0m\n\u001b[0;32m    642\u001b[0m         \u001b[1;31m# Send the request\u001b[0m\u001b[1;33m\u001b[0m\u001b[1;33m\u001b[0m\u001b[1;33m\u001b[0m\u001b[0m\n\u001b[1;32m--> 643\u001b[1;33m         \u001b[0mr\u001b[0m \u001b[1;33m=\u001b[0m \u001b[0madapter\u001b[0m\u001b[1;33m.\u001b[0m\u001b[0msend\u001b[0m\u001b[1;33m(\u001b[0m\u001b[0mrequest\u001b[0m\u001b[1;33m,\u001b[0m \u001b[1;33m**\u001b[0m\u001b[0mkwargs\u001b[0m\u001b[1;33m)\u001b[0m\u001b[1;33m\u001b[0m\u001b[1;33m\u001b[0m\u001b[0m\n\u001b[0m\u001b[0;32m    644\u001b[0m \u001b[1;33m\u001b[0m\u001b[0m\n\u001b[0;32m    645\u001b[0m         \u001b[1;31m# Total elapsed time of the request (approximately)\u001b[0m\u001b[1;33m\u001b[0m\u001b[1;33m\u001b[0m\u001b[1;33m\u001b[0m\u001b[0m\n",
      "\u001b[1;32mC:\\Python38\\lib\\site-packages\\requests\\adapters.py\u001b[0m in \u001b[0;36msend\u001b[1;34m(self, request, stream, timeout, verify, cert, proxies)\u001b[0m\n\u001b[0;32m    437\u001b[0m         \u001b[1;32mtry\u001b[0m\u001b[1;33m:\u001b[0m\u001b[1;33m\u001b[0m\u001b[1;33m\u001b[0m\u001b[0m\n\u001b[0;32m    438\u001b[0m             \u001b[1;32mif\u001b[0m \u001b[1;32mnot\u001b[0m \u001b[0mchunked\u001b[0m\u001b[1;33m:\u001b[0m\u001b[1;33m\u001b[0m\u001b[1;33m\u001b[0m\u001b[0m\n\u001b[1;32m--> 439\u001b[1;33m                 resp = conn.urlopen(\n\u001b[0m\u001b[0;32m    440\u001b[0m                     \u001b[0mmethod\u001b[0m\u001b[1;33m=\u001b[0m\u001b[0mrequest\u001b[0m\u001b[1;33m.\u001b[0m\u001b[0mmethod\u001b[0m\u001b[1;33m,\u001b[0m\u001b[1;33m\u001b[0m\u001b[1;33m\u001b[0m\u001b[0m\n\u001b[0;32m    441\u001b[0m                     \u001b[0murl\u001b[0m\u001b[1;33m=\u001b[0m\u001b[0murl\u001b[0m\u001b[1;33m,\u001b[0m\u001b[1;33m\u001b[0m\u001b[1;33m\u001b[0m\u001b[0m\n",
      "\u001b[1;32mC:\\Python38\\lib\\site-packages\\urllib3\\connectionpool.py\u001b[0m in \u001b[0;36murlopen\u001b[1;34m(self, method, url, body, headers, retries, redirect, assert_same_host, timeout, pool_timeout, release_conn, chunked, body_pos, **response_kw)\u001b[0m\n\u001b[0;32m    668\u001b[0m \u001b[1;33m\u001b[0m\u001b[0m\n\u001b[0;32m    669\u001b[0m             \u001b[1;31m# Make the request on the httplib connection object.\u001b[0m\u001b[1;33m\u001b[0m\u001b[1;33m\u001b[0m\u001b[1;33m\u001b[0m\u001b[0m\n\u001b[1;32m--> 670\u001b[1;33m             httplib_response = self._make_request(\n\u001b[0m\u001b[0;32m    671\u001b[0m                 \u001b[0mconn\u001b[0m\u001b[1;33m,\u001b[0m\u001b[1;33m\u001b[0m\u001b[1;33m\u001b[0m\u001b[0m\n\u001b[0;32m    672\u001b[0m                 \u001b[0mmethod\u001b[0m\u001b[1;33m,\u001b[0m\u001b[1;33m\u001b[0m\u001b[1;33m\u001b[0m\u001b[0m\n",
      "\u001b[1;32mC:\\Python38\\lib\\site-packages\\urllib3\\connectionpool.py\u001b[0m in \u001b[0;36m_make_request\u001b[1;34m(self, conn, method, url, timeout, chunked, **httplib_request_kw)\u001b[0m\n\u001b[0;32m    424\u001b[0m                     \u001b[1;31m# Python 3 (including for exceptions like SystemExit).\u001b[0m\u001b[1;33m\u001b[0m\u001b[1;33m\u001b[0m\u001b[1;33m\u001b[0m\u001b[0m\n\u001b[0;32m    425\u001b[0m                     \u001b[1;31m# Otherwise it looks like a bug in the code.\u001b[0m\u001b[1;33m\u001b[0m\u001b[1;33m\u001b[0m\u001b[1;33m\u001b[0m\u001b[0m\n\u001b[1;32m--> 426\u001b[1;33m                     \u001b[0msix\u001b[0m\u001b[1;33m.\u001b[0m\u001b[0mraise_from\u001b[0m\u001b[1;33m(\u001b[0m\u001b[0me\u001b[0m\u001b[1;33m,\u001b[0m \u001b[1;32mNone\u001b[0m\u001b[1;33m)\u001b[0m\u001b[1;33m\u001b[0m\u001b[1;33m\u001b[0m\u001b[0m\n\u001b[0m\u001b[0;32m    427\u001b[0m         \u001b[1;32mexcept\u001b[0m \u001b[1;33m(\u001b[0m\u001b[0mSocketTimeout\u001b[0m\u001b[1;33m,\u001b[0m \u001b[0mBaseSSLError\u001b[0m\u001b[1;33m,\u001b[0m \u001b[0mSocketError\u001b[0m\u001b[1;33m)\u001b[0m \u001b[1;32mas\u001b[0m \u001b[0me\u001b[0m\u001b[1;33m:\u001b[0m\u001b[1;33m\u001b[0m\u001b[1;33m\u001b[0m\u001b[0m\n\u001b[0;32m    428\u001b[0m             \u001b[0mself\u001b[0m\u001b[1;33m.\u001b[0m\u001b[0m_raise_timeout\u001b[0m\u001b[1;33m(\u001b[0m\u001b[0merr\u001b[0m\u001b[1;33m=\u001b[0m\u001b[0me\u001b[0m\u001b[1;33m,\u001b[0m \u001b[0murl\u001b[0m\u001b[1;33m=\u001b[0m\u001b[0murl\u001b[0m\u001b[1;33m,\u001b[0m \u001b[0mtimeout_value\u001b[0m\u001b[1;33m=\u001b[0m\u001b[0mread_timeout\u001b[0m\u001b[1;33m)\u001b[0m\u001b[1;33m\u001b[0m\u001b[1;33m\u001b[0m\u001b[0m\n",
      "\u001b[1;32mC:\\Python38\\lib\\site-packages\\urllib3\\packages\\six.py\u001b[0m in \u001b[0;36mraise_from\u001b[1;34m(value, from_value)\u001b[0m\n",
      "\u001b[1;32mC:\\Python38\\lib\\site-packages\\urllib3\\connectionpool.py\u001b[0m in \u001b[0;36m_make_request\u001b[1;34m(self, conn, method, url, timeout, chunked, **httplib_request_kw)\u001b[0m\n\u001b[0;32m    419\u001b[0m                 \u001b[1;31m# Python 3\u001b[0m\u001b[1;33m\u001b[0m\u001b[1;33m\u001b[0m\u001b[1;33m\u001b[0m\u001b[0m\n\u001b[0;32m    420\u001b[0m                 \u001b[1;32mtry\u001b[0m\u001b[1;33m:\u001b[0m\u001b[1;33m\u001b[0m\u001b[1;33m\u001b[0m\u001b[0m\n\u001b[1;32m--> 421\u001b[1;33m                     \u001b[0mhttplib_response\u001b[0m \u001b[1;33m=\u001b[0m \u001b[0mconn\u001b[0m\u001b[1;33m.\u001b[0m\u001b[0mgetresponse\u001b[0m\u001b[1;33m(\u001b[0m\u001b[1;33m)\u001b[0m\u001b[1;33m\u001b[0m\u001b[1;33m\u001b[0m\u001b[0m\n\u001b[0m\u001b[0;32m    422\u001b[0m                 \u001b[1;32mexcept\u001b[0m \u001b[0mBaseException\u001b[0m \u001b[1;32mas\u001b[0m \u001b[0me\u001b[0m\u001b[1;33m:\u001b[0m\u001b[1;33m\u001b[0m\u001b[1;33m\u001b[0m\u001b[0m\n\u001b[0;32m    423\u001b[0m                     \u001b[1;31m# Remove the TypeError from the exception chain in\u001b[0m\u001b[1;33m\u001b[0m\u001b[1;33m\u001b[0m\u001b[1;33m\u001b[0m\u001b[0m\n",
      "\u001b[1;32mC:\\Python38\\lib\\http\\client.py\u001b[0m in \u001b[0;36mgetresponse\u001b[1;34m(self)\u001b[0m\n\u001b[0;32m   1320\u001b[0m         \u001b[1;32mtry\u001b[0m\u001b[1;33m:\u001b[0m\u001b[1;33m\u001b[0m\u001b[1;33m\u001b[0m\u001b[0m\n\u001b[0;32m   1321\u001b[0m             \u001b[1;32mtry\u001b[0m\u001b[1;33m:\u001b[0m\u001b[1;33m\u001b[0m\u001b[1;33m\u001b[0m\u001b[0m\n\u001b[1;32m-> 1322\u001b[1;33m                 \u001b[0mresponse\u001b[0m\u001b[1;33m.\u001b[0m\u001b[0mbegin\u001b[0m\u001b[1;33m(\u001b[0m\u001b[1;33m)\u001b[0m\u001b[1;33m\u001b[0m\u001b[1;33m\u001b[0m\u001b[0m\n\u001b[0m\u001b[0;32m   1323\u001b[0m             \u001b[1;32mexcept\u001b[0m \u001b[0mConnectionError\u001b[0m\u001b[1;33m:\u001b[0m\u001b[1;33m\u001b[0m\u001b[1;33m\u001b[0m\u001b[0m\n\u001b[0;32m   1324\u001b[0m                 \u001b[0mself\u001b[0m\u001b[1;33m.\u001b[0m\u001b[0mclose\u001b[0m\u001b[1;33m(\u001b[0m\u001b[1;33m)\u001b[0m\u001b[1;33m\u001b[0m\u001b[1;33m\u001b[0m\u001b[0m\n",
      "\u001b[1;32mC:\\Python38\\lib\\http\\client.py\u001b[0m in \u001b[0;36mbegin\u001b[1;34m(self)\u001b[0m\n\u001b[0;32m    301\u001b[0m         \u001b[1;31m# read until we get a non-100 response\u001b[0m\u001b[1;33m\u001b[0m\u001b[1;33m\u001b[0m\u001b[1;33m\u001b[0m\u001b[0m\n\u001b[0;32m    302\u001b[0m         \u001b[1;32mwhile\u001b[0m \u001b[1;32mTrue\u001b[0m\u001b[1;33m:\u001b[0m\u001b[1;33m\u001b[0m\u001b[1;33m\u001b[0m\u001b[0m\n\u001b[1;32m--> 303\u001b[1;33m             \u001b[0mversion\u001b[0m\u001b[1;33m,\u001b[0m \u001b[0mstatus\u001b[0m\u001b[1;33m,\u001b[0m \u001b[0mreason\u001b[0m \u001b[1;33m=\u001b[0m \u001b[0mself\u001b[0m\u001b[1;33m.\u001b[0m\u001b[0m_read_status\u001b[0m\u001b[1;33m(\u001b[0m\u001b[1;33m)\u001b[0m\u001b[1;33m\u001b[0m\u001b[1;33m\u001b[0m\u001b[0m\n\u001b[0m\u001b[0;32m    304\u001b[0m             \u001b[1;32mif\u001b[0m \u001b[0mstatus\u001b[0m \u001b[1;33m!=\u001b[0m \u001b[0mCONTINUE\u001b[0m\u001b[1;33m:\u001b[0m\u001b[1;33m\u001b[0m\u001b[1;33m\u001b[0m\u001b[0m\n\u001b[0;32m    305\u001b[0m                 \u001b[1;32mbreak\u001b[0m\u001b[1;33m\u001b[0m\u001b[1;33m\u001b[0m\u001b[0m\n",
      "\u001b[1;32mC:\\Python38\\lib\\http\\client.py\u001b[0m in \u001b[0;36m_read_status\u001b[1;34m(self)\u001b[0m\n\u001b[0;32m    262\u001b[0m \u001b[1;33m\u001b[0m\u001b[0m\n\u001b[0;32m    263\u001b[0m     \u001b[1;32mdef\u001b[0m \u001b[0m_read_status\u001b[0m\u001b[1;33m(\u001b[0m\u001b[0mself\u001b[0m\u001b[1;33m)\u001b[0m\u001b[1;33m:\u001b[0m\u001b[1;33m\u001b[0m\u001b[1;33m\u001b[0m\u001b[0m\n\u001b[1;32m--> 264\u001b[1;33m         \u001b[0mline\u001b[0m \u001b[1;33m=\u001b[0m \u001b[0mstr\u001b[0m\u001b[1;33m(\u001b[0m\u001b[0mself\u001b[0m\u001b[1;33m.\u001b[0m\u001b[0mfp\u001b[0m\u001b[1;33m.\u001b[0m\u001b[0mreadline\u001b[0m\u001b[1;33m(\u001b[0m\u001b[0m_MAXLINE\u001b[0m \u001b[1;33m+\u001b[0m \u001b[1;36m1\u001b[0m\u001b[1;33m)\u001b[0m\u001b[1;33m,\u001b[0m \u001b[1;34m\"iso-8859-1\"\u001b[0m\u001b[1;33m)\u001b[0m\u001b[1;33m\u001b[0m\u001b[1;33m\u001b[0m\u001b[0m\n\u001b[0m\u001b[0;32m    265\u001b[0m         \u001b[1;32mif\u001b[0m \u001b[0mlen\u001b[0m\u001b[1;33m(\u001b[0m\u001b[0mline\u001b[0m\u001b[1;33m)\u001b[0m \u001b[1;33m>\u001b[0m \u001b[0m_MAXLINE\u001b[0m\u001b[1;33m:\u001b[0m\u001b[1;33m\u001b[0m\u001b[1;33m\u001b[0m\u001b[0m\n\u001b[0;32m    266\u001b[0m             \u001b[1;32mraise\u001b[0m \u001b[0mLineTooLong\u001b[0m\u001b[1;33m(\u001b[0m\u001b[1;34m\"status line\"\u001b[0m\u001b[1;33m)\u001b[0m\u001b[1;33m\u001b[0m\u001b[1;33m\u001b[0m\u001b[0m\n",
      "\u001b[1;32mC:\\Python38\\lib\\socket.py\u001b[0m in \u001b[0;36mreadinto\u001b[1;34m(self, b)\u001b[0m\n\u001b[0;32m    667\u001b[0m         \u001b[1;32mwhile\u001b[0m \u001b[1;32mTrue\u001b[0m\u001b[1;33m:\u001b[0m\u001b[1;33m\u001b[0m\u001b[1;33m\u001b[0m\u001b[0m\n\u001b[0;32m    668\u001b[0m             \u001b[1;32mtry\u001b[0m\u001b[1;33m:\u001b[0m\u001b[1;33m\u001b[0m\u001b[1;33m\u001b[0m\u001b[0m\n\u001b[1;32m--> 669\u001b[1;33m                 \u001b[1;32mreturn\u001b[0m \u001b[0mself\u001b[0m\u001b[1;33m.\u001b[0m\u001b[0m_sock\u001b[0m\u001b[1;33m.\u001b[0m\u001b[0mrecv_into\u001b[0m\u001b[1;33m(\u001b[0m\u001b[0mb\u001b[0m\u001b[1;33m)\u001b[0m\u001b[1;33m\u001b[0m\u001b[1;33m\u001b[0m\u001b[0m\n\u001b[0m\u001b[0;32m    670\u001b[0m             \u001b[1;32mexcept\u001b[0m \u001b[0mtimeout\u001b[0m\u001b[1;33m:\u001b[0m\u001b[1;33m\u001b[0m\u001b[1;33m\u001b[0m\u001b[0m\n\u001b[0;32m    671\u001b[0m                 \u001b[0mself\u001b[0m\u001b[1;33m.\u001b[0m\u001b[0m_timeout_occurred\u001b[0m \u001b[1;33m=\u001b[0m \u001b[1;32mTrue\u001b[0m\u001b[1;33m\u001b[0m\u001b[1;33m\u001b[0m\u001b[0m\n",
      "\u001b[1;32mC:\\Python38\\lib\\ssl.py\u001b[0m in \u001b[0;36mrecv_into\u001b[1;34m(self, buffer, nbytes, flags)\u001b[0m\n\u001b[0;32m   1239\u001b[0m                   \u001b[1;34m\"non-zero flags not allowed in calls to recv_into() on %s\"\u001b[0m \u001b[1;33m%\u001b[0m\u001b[1;33m\u001b[0m\u001b[1;33m\u001b[0m\u001b[0m\n\u001b[0;32m   1240\u001b[0m                   self.__class__)\n\u001b[1;32m-> 1241\u001b[1;33m             \u001b[1;32mreturn\u001b[0m \u001b[0mself\u001b[0m\u001b[1;33m.\u001b[0m\u001b[0mread\u001b[0m\u001b[1;33m(\u001b[0m\u001b[0mnbytes\u001b[0m\u001b[1;33m,\u001b[0m \u001b[0mbuffer\u001b[0m\u001b[1;33m)\u001b[0m\u001b[1;33m\u001b[0m\u001b[1;33m\u001b[0m\u001b[0m\n\u001b[0m\u001b[0;32m   1242\u001b[0m         \u001b[1;32melse\u001b[0m\u001b[1;33m:\u001b[0m\u001b[1;33m\u001b[0m\u001b[1;33m\u001b[0m\u001b[0m\n\u001b[0;32m   1243\u001b[0m             \u001b[1;32mreturn\u001b[0m \u001b[0msuper\u001b[0m\u001b[1;33m(\u001b[0m\u001b[1;33m)\u001b[0m\u001b[1;33m.\u001b[0m\u001b[0mrecv_into\u001b[0m\u001b[1;33m(\u001b[0m\u001b[0mbuffer\u001b[0m\u001b[1;33m,\u001b[0m \u001b[0mnbytes\u001b[0m\u001b[1;33m,\u001b[0m \u001b[0mflags\u001b[0m\u001b[1;33m)\u001b[0m\u001b[1;33m\u001b[0m\u001b[1;33m\u001b[0m\u001b[0m\n",
      "\u001b[1;32mC:\\Python38\\lib\\ssl.py\u001b[0m in \u001b[0;36mread\u001b[1;34m(self, len, buffer)\u001b[0m\n\u001b[0;32m   1097\u001b[0m         \u001b[1;32mtry\u001b[0m\u001b[1;33m:\u001b[0m\u001b[1;33m\u001b[0m\u001b[1;33m\u001b[0m\u001b[0m\n\u001b[0;32m   1098\u001b[0m             \u001b[1;32mif\u001b[0m \u001b[0mbuffer\u001b[0m \u001b[1;32mis\u001b[0m \u001b[1;32mnot\u001b[0m \u001b[1;32mNone\u001b[0m\u001b[1;33m:\u001b[0m\u001b[1;33m\u001b[0m\u001b[1;33m\u001b[0m\u001b[0m\n\u001b[1;32m-> 1099\u001b[1;33m                 \u001b[1;32mreturn\u001b[0m \u001b[0mself\u001b[0m\u001b[1;33m.\u001b[0m\u001b[0m_sslobj\u001b[0m\u001b[1;33m.\u001b[0m\u001b[0mread\u001b[0m\u001b[1;33m(\u001b[0m\u001b[0mlen\u001b[0m\u001b[1;33m,\u001b[0m \u001b[0mbuffer\u001b[0m\u001b[1;33m)\u001b[0m\u001b[1;33m\u001b[0m\u001b[1;33m\u001b[0m\u001b[0m\n\u001b[0m\u001b[0;32m   1100\u001b[0m             \u001b[1;32melse\u001b[0m\u001b[1;33m:\u001b[0m\u001b[1;33m\u001b[0m\u001b[1;33m\u001b[0m\u001b[0m\n\u001b[0;32m   1101\u001b[0m                 \u001b[1;32mreturn\u001b[0m \u001b[0mself\u001b[0m\u001b[1;33m.\u001b[0m\u001b[0m_sslobj\u001b[0m\u001b[1;33m.\u001b[0m\u001b[0mread\u001b[0m\u001b[1;33m(\u001b[0m\u001b[0mlen\u001b[0m\u001b[1;33m)\u001b[0m\u001b[1;33m\u001b[0m\u001b[1;33m\u001b[0m\u001b[0m\n",
      "\u001b[1;31mKeyboardInterrupt\u001b[0m: "
     ]
    }
   ],
   "source": [
    "de_illdates = process_languagelinksdates('de')"
   ]
  },
  {
   "cell_type": "code",
   "execution_count": null,
   "metadata": {},
   "outputs": [],
   "source": [
    "with open('interlanguagelinks_dates_de.json', 'w') as f:\n",
    "    json.dump(de_illdates, f)"
   ]
  },
  {
   "cell_type": "code",
   "execution_count": null,
   "metadata": {
    "tags": []
   },
   "outputs": [],
   "source": [
    "es_illdates = process_languagelinksdates('es')"
   ]
  },
  {
   "cell_type": "code",
   "execution_count": null,
   "metadata": {},
   "outputs": [],
   "source": [
    "with open('interlanguagelinks_dates_es.json', 'w') as f:\n",
    "    json.dump(es_illdates, f)"
   ]
  },
  {
   "cell_type": "code",
   "execution_count": null,
   "metadata": {
    "tags": []
   },
   "outputs": [],
   "source": [
    "ja_illdates = process_languagelinksdates('ja')"
   ]
  },
  {
   "cell_type": "code",
   "execution_count": null,
   "metadata": {},
   "outputs": [],
   "source": [
    "with open('interlanguagelinks_dates_ja.json', 'w') as f:\n",
    "    json.dump(ja_illdates, f)"
   ]
  },
  {
   "cell_type": "code",
   "execution_count": null,
   "metadata": {},
   "outputs": [],
   "source": [
    "fr_illdates = process_languagelinksdates('fr')"
   ]
  },
  {
   "cell_type": "code",
   "execution_count": null,
   "metadata": {},
   "outputs": [],
   "source": [
    "with open('interlanguagelinks_dates_fr.json', 'w') as f:\n",
    "    json.dump(fr_illdates, f)"
   ]
  },
  {
   "cell_type": "code",
   "execution_count": null,
   "metadata": {},
   "outputs": [],
   "source": [
    "en_illdates = process_languagelinksdates('en')"
   ]
  },
  {
   "cell_type": "code",
   "execution_count": null,
   "metadata": {},
   "outputs": [],
   "source": [
    "with open('interlanguagelinks_dates_en.json', 'w') as f:\n",
    "    json.dump(en_illdates, f)"
   ]
  },
  {
   "cell_type": "markdown",
   "metadata": {},
   "source": [
    "# Load ``interlanguagelinks_dates_[lang].json`` from disk and clean\n",
    "Output ``interlanguagelinks_dates_[lang]_cleaned.json``"
   ]
  },
  {
   "cell_type": "code",
   "execution_count": null,
   "metadata": {},
   "outputs": [],
   "source": [
    "de_illdates_load = json.load(\"interlanguagelinks_dates_de.json\")\n",
    "en_illdates_load = json.load(\"interlanguagelinks_dates_en.json\")\n",
    "es_illdates_load = json.load(\"interlanguagelinks_dates_es.json\")\n",
    "fr_illdates_load = json.load(\"interlanguagelinks_dates_fr.json\")\n",
    "ja_illdates_load = json.load(\"interlanguagelinks_dates_ja.json\")"
   ]
  },
  {
   "cell_type": "code",
   "execution_count": null,
   "metadata": {},
   "outputs": [],
   "source": [
    "# clean the ill info data\n"
   ]
  },
  {
   "cell_type": "code",
   "execution_count": null,
   "metadata": {},
   "outputs": [],
   "source": [
    "# output the cleaned data\n",
    "with open('interlanguagelinks_dates_de_cleaned.json', 'w') as f:\n",
    "    json.dump(de_illdates_cleaned, f)"
   ]
  }
 ],
 "metadata": {
  "kernelspec": {
   "name": "python382jvsc74a57bd016e3f6170213bc8b93f4af10cda404198c09c84502cee13f546aa00fc3fa8f5f",
   "display_name": "Python 3.8.2 64-bit"
  },
  "language_info": {
   "codemirror_mode": {
    "name": "ipython",
    "version": 3
   },
   "file_extension": ".py",
   "mimetype": "text/x-python",
   "name": "python",
   "nbconvert_exporter": "python",
   "pygments_lexer": "ipython3",
   "version": "3.8.2"
  },
  "metadata": {
   "interpreter": {
    "hash": "16e3f6170213bc8b93f4af10cda404198c09c84502cee13f546aa00fc3fa8f5f"
   }
  }
 },
 "nbformat": 4,
 "nbformat_minor": 4
}