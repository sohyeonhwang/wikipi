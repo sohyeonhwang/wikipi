{
 "cells": [
  {
   "cell_type": "markdown",
   "metadata": {},
   "source": [
    "Get interlanguage link information for all of our rule pages and export as tsv"
   ]
  },
  {
   "cell_type": "code",
   "execution_count": 1,
   "metadata": {},
   "outputs": [],
   "source": [
    "import argparse\n",
    "import re, random, urllib, simplejson, copy, itertools\n",
    "import urllib.parse, urllib.request, urllib.error\n",
    "from datetime import datetime\n",
    "\n",
    "import pandas as pd\n",
    "import numpy as np\n",
    "import matplotlib.pyplot as plt\n",
    "import seaborn as sb\n",
    "sb.set_style('whitegrid')\n",
    "\n",
    "import requests, json, time, os\n",
    "from pathlib import Path\n",
    "\n",
    "from operator import itemgetter\n",
    "from collections import Counter\n",
    "from bs4 import BeautifulSoup\n",
    "\n",
    "import wikifunctions as wf"
   ]
  },
  {
   "cell_type": "code",
   "execution_count": 2,
   "metadata": {},
   "outputs": [],
   "source": [
    "# Some helpful structures\n",
    "\"\"\"\n",
    "Subject Talk    Name        Description\n",
    "0       1       Main        Articles, lists, & redirects\n",
    "2       3       User        User pages & sandboxes\n",
    "4       5       Wikipedia   Policy, essay, & processes\n",
    "-6       7       File        Media file descriptions\n",
    "-8       9       MediaWiki   Auto-generated pages\n",
    "10      11      Template    Infoboxes, nav boxes\n",
    "-12      13      Help        Software help\n",
    "14      15      Category    Categorized pages\n",
    "100     101     Portal      Topics & WikiProjects\n",
    "\"\"\"\n",
    "langs = [\"de\",\"en\",\"es\",\"fr\",\"ja\"]\n",
    "namespaces = [0, 1, 2, 3, 4, 5, 10, 11, 14, 15, 100, 101]"
   ]
  },
  {
   "cell_type": "markdown",
   "metadata": {},
   "source": [
    "## Load data\n",
    "(1) Source data (lists of rules)\n",
    "\n",
    "(2) Revision history tsvs"
   ]
  },
  {
   "cell_type": "code",
   "execution_count": 3,
   "metadata": {},
   "outputs": [],
   "source": [
    "# list of rules\n",
    "rules_df_de = pd.read_csv(Path(os.getcwd()) / \"dewiki.tsv\",sep=\"\\t\",header=None)\n",
    "rules_df_de = rules_df_de.rename(columns={0: \"NA\", 1: \"links\",2:\"titles\"})\n",
    "rules_df_en = pd.read_csv(Path(os.getcwd()) / \"enwiki.tsv\",sep=\"\\t\",header=None)\n",
    "rules_df_en = rules_df_en.rename(columns={0: \"NA\", 1: \"links\", 2: \"titles\", 3:\"shortcuts\"})\n",
    "rules_df_es = pd.read_csv(Path(os.getcwd()) / \"eswiki.tsv\",sep=\"\\t\",header=None)\n",
    "rules_df_es = rules_df_es.rename(columns={0: \"NA\", 1: \"links\", 2: \"titles\", 3:\"shortcuts\"})\n",
    "rules_df_fr = pd.read_csv(Path(os.getcwd()) / \"frwiki.tsv\",sep=\"\\t\",header=None)\n",
    "rules_df_fr = rules_df_fr.rename(columns={0: \"NA\", 1: \"links\", 2: \"titles\", 3:\"shortcuts\"})\n",
    "rules_df_ja = pd.read_csv(Path(os.getcwd()) / \"jawiki.tsv\",sep=\"\\t\",header=None)\n",
    "rules_df_ja = rules_df_ja.rename(columns={0: \"NA\", 1: \"links\", 2: \"titles\", 3:\"shortcuts\"})\n",
    "\n",
    "rules_dfs = [rules_df_de,rules_df_en,rules_df_es,rules_df_fr,rules_df_ja]\n",
    "rules_dfs_dict = {'de':rules_df_de,'en':rules_df_en,'es':rules_df_es,'fr':rules_df_fr,'ja':rules_df_ja}"
   ]
  },
  {
   "cell_type": "code",
   "execution_count": 4,
   "metadata": {},
   "outputs": [
    {
     "output_type": "execute_result",
     "data": {
      "text/plain": "      NA                                              links  \\\n0      0  https://de.wikipedia.org/wiki/Wikipedia:Richtl...   \n1      1  https://de.wikipedia.org/wiki/Wikipedia:Grundp...   \n2      2  https://de.wikipedia.org/wiki/Wikipedia:Was_Wi...   \n3      3  https://de.wikipedia.org/wiki/Wikipedia:Wikipe...   \n4      4  https://de.wikipedia.org/wiki/Wikipedia:Keine_...   \n..   ...                                                ...   \n117  119  https://de.wikipedia.org/wiki/Wikipedia:Namens...   \n118  120  https://de.wikipedia.org/wiki/Portal:Luftfahrt...   \n119  121  https://de.wikipedia.org/wiki/Portal:Antarktis...   \n120  122  https://de.wikipedia.org/wiki/Wikipedia:Namens...   \n121  123  https://de.wikipedia.org/wiki/Portal:Waffen/Na...   \n\n                                      titles  \n0                      Wikipedia:Richtlinien  \n1                  Wikipedia:Grundprinzipien  \n2          Wikipedia:Was Wikipedia nicht ist  \n3    Wikipedia:Wikipedia ist kein Wörterbuch  \n4             Wikipedia:Keine Theoriefindung  \n..                                       ...  \n117     Wikipedia:Namenskonventionen/Medizin  \n118      Portal:Luftfahrt/Namenskonventionen  \n119            Portal:Antarktis/Konventionen  \n120   Wikipedia:Namenskonventionen/Usbekisch  \n121         Portal:Waffen/Namenskonventionen  \n\n[122 rows x 3 columns]",
      "text/html": "<div>\n<style scoped>\n    .dataframe tbody tr th:only-of-type {\n        vertical-align: middle;\n    }\n\n    .dataframe tbody tr th {\n        vertical-align: top;\n    }\n\n    .dataframe thead th {\n        text-align: right;\n    }\n</style>\n<table border=\"1\" class=\"dataframe\">\n  <thead>\n    <tr style=\"text-align: right;\">\n      <th></th>\n      <th>NA</th>\n      <th>links</th>\n      <th>titles</th>\n    </tr>\n  </thead>\n  <tbody>\n    <tr>\n      <th>0</th>\n      <td>0</td>\n      <td>https://de.wikipedia.org/wiki/Wikipedia:Richtl...</td>\n      <td>Wikipedia:Richtlinien</td>\n    </tr>\n    <tr>\n      <th>1</th>\n      <td>1</td>\n      <td>https://de.wikipedia.org/wiki/Wikipedia:Grundp...</td>\n      <td>Wikipedia:Grundprinzipien</td>\n    </tr>\n    <tr>\n      <th>2</th>\n      <td>2</td>\n      <td>https://de.wikipedia.org/wiki/Wikipedia:Was_Wi...</td>\n      <td>Wikipedia:Was Wikipedia nicht ist</td>\n    </tr>\n    <tr>\n      <th>3</th>\n      <td>3</td>\n      <td>https://de.wikipedia.org/wiki/Wikipedia:Wikipe...</td>\n      <td>Wikipedia:Wikipedia ist kein Wörterbuch</td>\n    </tr>\n    <tr>\n      <th>4</th>\n      <td>4</td>\n      <td>https://de.wikipedia.org/wiki/Wikipedia:Keine_...</td>\n      <td>Wikipedia:Keine Theoriefindung</td>\n    </tr>\n    <tr>\n      <th>...</th>\n      <td>...</td>\n      <td>...</td>\n      <td>...</td>\n    </tr>\n    <tr>\n      <th>117</th>\n      <td>119</td>\n      <td>https://de.wikipedia.org/wiki/Wikipedia:Namens...</td>\n      <td>Wikipedia:Namenskonventionen/Medizin</td>\n    </tr>\n    <tr>\n      <th>118</th>\n      <td>120</td>\n      <td>https://de.wikipedia.org/wiki/Portal:Luftfahrt...</td>\n      <td>Portal:Luftfahrt/Namenskonventionen</td>\n    </tr>\n    <tr>\n      <th>119</th>\n      <td>121</td>\n      <td>https://de.wikipedia.org/wiki/Portal:Antarktis...</td>\n      <td>Portal:Antarktis/Konventionen</td>\n    </tr>\n    <tr>\n      <th>120</th>\n      <td>122</td>\n      <td>https://de.wikipedia.org/wiki/Wikipedia:Namens...</td>\n      <td>Wikipedia:Namenskonventionen/Usbekisch</td>\n    </tr>\n    <tr>\n      <th>121</th>\n      <td>123</td>\n      <td>https://de.wikipedia.org/wiki/Portal:Waffen/Na...</td>\n      <td>Portal:Waffen/Namenskonventionen</td>\n    </tr>\n  </tbody>\n</table>\n<p>122 rows × 3 columns</p>\n</div>"
     },
     "metadata": {},
     "execution_count": 4
    }
   ],
   "source": [
    "rules_df_de"
   ]
  },
  {
   "cell_type": "markdown",
   "metadata": {},
   "source": [
    "'''\n",
    "### page revision histories\n",
    "rev_path = Path(os.getcwd()) / \"output_rulepagerevs\" / \"2020-07-31\"\n",
    "\n",
    "rev_df_de = pd.read_csv( rev_path / \"de_revisions.tsv\",sep='\\t',header=0,encoding='utf8',parse_dates=['date','timestamp'])\n",
    "rev_df_en = pd.read_csv( rev_path / \"en_revisions.tsv\",sep='\\t',header=0,encoding='utf8',parse_dates=['date','timestamp'])\n",
    "rev_df_es = pd.read_csv( rev_path / \"es_revisions.tsv\",sep='\\t',header=0,encoding='utf8',parse_dates=['date','timestamp'])\n",
    "rev_df_fr = pd.read_csv( rev_path / \"fr_revisions.tsv\",sep='\\t',header=0,encoding='utf8',parse_dates=['date','timestamp'])\n",
    "rev_df_ja = pd.read_csv( rev_path / \"ja_revisions.tsv\",sep='\\t',header=0,encoding='utf8',parse_dates=['date','timestamp'])\n",
    "\n",
    "rev_dfs = [rev_df_de,rev_df_en,rev_df_es,rev_df_fr,rev_df_ja]\n",
    "rev_dfs_dict = { \"rev_df_de\":rev_df_de, \"rev_df_en\":rev_df_en, \"rev_df_es\":rev_df_es, \"rev_df_fr\":rev_df_fr, \"rev_df_ja\":rev_df_ja}\n",
    "'''"
   ]
  },
  {
   "cell_type": "markdown",
   "metadata": {},
   "source": [
    "'''\n",
    "### get rid of duplicate revisions for each language edition\n",
    "rev_df_de.drop_duplicates(subset=['revid'],inplace=True)\n",
    "rev_df_en.drop_duplicates(subset=['revid'],inplace=True)\n",
    "rev_df_es.drop_duplicates(subset=['revid'],inplace=True)\n",
    "rev_df_fr.drop_duplicates(subset=['revid'],inplace=True)\n",
    "rev_df_ja.drop_duplicates(subset=['revid'],inplace=True)\n",
    "'''"
   ]
  },
  {
   "cell_type": "markdown",
   "metadata": {},
   "source": [
    "## get interlanguage links"
   ]
  },
  {
   "cell_type": "code",
   "execution_count": 5,
   "metadata": {},
   "outputs": [],
   "source": [
    "def get_interlanguage_links(page_title, endpoint='en.wikipedia.org/w/api.php', redirects=1, multicore_dict=None):\n",
    "    \"\"\"The function accepts a page_title and returns a dictionary containing \n",
    "    the title of the page in its other languages\n",
    "       \n",
    "    page_title - a string with the title of the page on Wikipedia\n",
    "    endpoint - a string that points to the web address of the API.\n",
    "        This defaults to the English Wikipedia endpoint: 'en.wikipedia.org/w/api.php'\n",
    "        Changing the two letter language code will return a different language edition\n",
    "        The Wikia endpoints are slightly different, e.g. 'starwars.wikia.com/api.php'\n",
    "    redirects - 1 or 0 for whether to follow page redirects, defaults to 1\n",
    "       \n",
    "    Returns:\n",
    "    langlink_dict - a dictionary keyed by lang codes and page title as values\n",
    "    \"\"\"\n",
    "    \n",
    "    #query_string = \"https://{1}.wikipedia.org/w/api.php?action=query&format=json&prop=langlinks&formatversion=2&titles={0}&llprop=autonym|langname&lllimit=500\".format(page_title,lang)\n",
    "    query_url = \"https://{0}\".format(endpoint)\n",
    "    query_params = {}\n",
    "    query_params['action'] = 'query'\n",
    "    query_params['prop'] = 'langlinks'\n",
    "    query_params['titles'] = page_title\n",
    "    query_params['redirects'] = redirects\n",
    "    query_params['llprop'] = 'autonym|langname'\n",
    "    query_params['lllimit'] = 500\n",
    "    query_params['format'] = 'json'\n",
    "    query_params['formatversion'] = 2\n",
    "    json_response = requests.get(url=query_url,params=query_params).json()\n",
    "    #print(json_response)\n",
    "    \n",
    "    interlanguage_link_dict = dict()\n",
    "    start_lang = endpoint.split('.')[0]\n",
    "    #print(json_response['query']['pages'][0])\n",
    "    if 'title' in json_response['query']['pages'][0]:\n",
    "        final_title = json_response['query']['pages'][0]['title']\n",
    "        interlanguage_link_dict[start_lang] = final_title\n",
    "    else:\n",
    "        final_title = page_title\n",
    "        interlanguage_link_dict[start_lang] = final_title\n",
    "\n",
    "    if 'langlinks' in json_response['query']['pages'][0]:\n",
    "        langlink_dict = json_response['query']['pages'][0]['langlinks']\n",
    "\n",
    "        for d in langlink_dict:\n",
    "            lang = d['lang']\n",
    "            title = d['title']\n",
    "            interlanguage_link_dict[lang] = title\n",
    "            \n",
    "    if multicore_dict is None:\n",
    "        return {final_title:interlanguage_link_dict}\n",
    "    else:\n",
    "        multicore_dict[final_title] = interlanguage_link_dict\n"
   ]
  },
  {
   "cell_type": "code",
   "execution_count": 6,
   "metadata": {
    "tags": []
   },
   "outputs": [],
   "source": [
    "test_ills = dict()\n",
    "endpoint = \"{}.wikipedia.org/w/api.php\".format('de')\n",
    "p = 'Wikipedia:Neutraler Standpunkt'\n",
    "testtemp = get_interlanguage_links(p,endpoint)\n",
    "\n",
    "test_ills['test'] = testtemp"
   ]
  },
  {
   "cell_type": "code",
   "execution_count": 7,
   "metadata": {},
   "outputs": [],
   "source": [
    "langs = [\"de\",\"en\",\"es\",\"fr\",\"ja\"]\n",
    "ills = {}"
   ]
  },
  {
   "cell_type": "code",
   "execution_count": 8,
   "metadata": {
    "tags": []
   },
   "outputs": [
    {
     "output_type": "stream",
     "name": "stdout",
     "text": "de\nen\nes\nfr\nja\n"
    }
   ],
   "source": [
    "for lang in langs:\n",
    "    print(lang)\n",
    "    endpoint = \"{}.wikipedia.org/w/api.php\".format(lang)\n",
    "    df = rules_dfs_dict[lang]\n",
    "    pagetitles = df[\"titles\"].tolist()\n",
    "\n",
    "    temp = {}\n",
    "    prev = \"\"\n",
    "    for p in sorted(pagetitles):\n",
    "        #print(p)\n",
    "\n",
    "        if p == prev:\n",
    "            print(\"\\n\",\"Error! A repeat: \",p)\n",
    "        prev = p\n",
    "\n",
    "        try:\n",
    "            temp.update(get_interlanguage_links(p,endpoint))\n",
    "        except KeyboardInterrupt:\n",
    "            break\n",
    "        except:\n",
    "            print('!!! FAILED > {}'.format(p))\n",
    "            pass\n",
    "\n",
    "    ills[lang] = temp"
   ]
  },
  {
   "cell_type": "code",
   "execution_count": 9,
   "metadata": {},
   "outputs": [],
   "source": [
    "def get_ills_aslist(langlinks_dict):\n",
    "    '''\n",
    "    Takes in the langlinks dict and returns a dictionary that has page titles as keys and a list of ILL language codes as values.\n",
    "    '''\n",
    "    ill_list = dict()\n",
    "    for pagekey in langlinks_dict.keys():\n",
    "        _temp = list()\n",
    "        for langkey in langlinks_dict[pagekey].keys():\n",
    "            _temp.append(langkey)\n",
    "        ill_list[pagekey] = _temp\n",
    "    return ill_list"
   ]
  },
  {
   "cell_type": "code",
   "execution_count": 10,
   "metadata": {},
   "outputs": [],
   "source": [
    "rule_interlanguagelinks = dict()"
   ]
  },
  {
   "cell_type": "code",
   "execution_count": 11,
   "metadata": {
    "tags": []
   },
   "outputs": [
    {
     "output_type": "stream",
     "name": "stdout",
     "text": "de\nen\nes\nfr\nja\n"
    }
   ],
   "source": [
    "for lang in langs:\n",
    "    print(lang)\n",
    "    rule_interlanguagelinks[lang] = get_ills_aslist(ills[lang])"
   ]
  },
  {
   "cell_type": "code",
   "execution_count": 12,
   "metadata": {},
   "outputs": [
    {
     "output_type": "execute_result",
     "data": {
      "text/plain": "122"
     },
     "metadata": {},
     "execution_count": 12
    }
   ],
   "source": [
    "len(rule_interlanguagelinks['de'].keys())"
   ]
  },
  {
   "cell_type": "code",
   "execution_count": 13,
   "metadata": {},
   "outputs": [],
   "source": [
    "#ills['de']['Wikipedia:Richtlinien']"
   ]
  },
  {
   "cell_type": "markdown",
   "metadata": {},
   "source": [
    "## Parse revision histories to find when the interlanguage links happened"
   ]
  },
  {
   "cell_type": "code",
   "execution_count": 14,
   "metadata": {},
   "outputs": [],
   "source": [
    "#https://en.wikipedia.org/w/index.php?title=Wikipedia:Neutral_point_of_view&diff=prev&oldid=270458\n",
    "def get_addedcontent(pagetitle,revid,lang):\n",
    "    pagetitle = pagetitle.replace(\" \",\"_\")\n",
    "    url = \"https://{}.wikipedia.org/w/index.php?title={}&diff=prev&oldid={}\".format(lang,pagetitle,revid)\n",
    "    #if lang == 'de':\n",
    "    #    url = \"https://{}.wikipedia.org/w/index.php?title={}&dir=prev&oldid={}\".format(lang,pagetitle,revid)\n",
    "    # if en,es,ja,fr, diff=prev. if de, dir=prev\n",
    "    #print(url)\n",
    "\n",
    "    soup = BeautifulSoup(requests.get(url).text, \"html.parser\")\n",
    "    revadds = soup.find_all(\"td\", class_=\"diff-addedline\")\n",
    "    revadds = [ str(r) for r in revadds if \"<div>\" in str(r) ]\n",
    "    \n",
    "    if len(revadds) != 0:\n",
    "        cleaned_revadds = list()\n",
    "        \n",
    "        for r in revadds:\n",
    "            minisoup = BeautifulSoup(r,\"html.parser\")\n",
    "            text = minisoup.get_text()\n",
    "            #print(text)\n",
    "            cleaned_revadds.append(text)\n",
    "        return ' '.join(cleaned_revadds)\n",
    "    \n",
    "    # else, there are no additions in this revision\n",
    "    else:\n",
    "        return None"
   ]
  },
  {
   "cell_type": "markdown",
   "metadata": {},
   "source": [
    "Starting with a test version"
   ]
  },
  {
   "cell_type": "markdown",
   "metadata": {},
   "source": [
    "'''# test\n",
    "_testtemp = dict()\n",
    "_testtemp.update(wf.get_all_page_revisions('Wikipedia:Neutral point of view',endpoint='en.wikipedia.org/w/api.php'))\n",
    "revdf = pd.concat(_testtemp)\n",
    "revdf = revdf.drop(columns=['sha1','anon','userhidden','suppressed','sha1hidden','user'])\n",
    "revdf = revdf.sort_values(by='timestamp')\n",
    "\n",
    "tupled_df = pd.DataFrame()\n",
    "tupled_df['tuples'] = list(zip(revdf.timestamp, revdf.revid))\n",
    "oldestfirst_revs = tupled_df['tuples'].tolist()\n",
    "\n",
    "for i in oldestfirst_revs[:2]:\n",
    "    timestamp,revid = i[0],i[1]\n",
    "    print(timestamp,revid)\n",
    "\n",
    "if not os.path.isdir(\"./ill_tester\"):\n",
    "    os.mkdir(\"./ill_tester\")\n",
    "\n",
    "tester = dict()\n",
    "for r in sorted_revids[15:30]:\n",
    "    print(r)\n",
    "    data = get_addedcontent('Wikipedia:Neutral point of view',r,'en')\n",
    "    with open('./ill_tester/tester_{}.json'.format(r),'w') as f:\n",
    "        json.dump(data, f)\n",
    "'''"
   ]
  },
  {
   "cell_type": "markdown",
   "metadata": {},
   "source": [
    "Actual get"
   ]
  },
  {
   "cell_type": "code",
   "execution_count": 15,
   "metadata": {},
   "outputs": [
    {
     "output_type": "execute_result",
     "data": {
      "text/plain": "['de',\n 'af',\n 'am',\n 'ar',\n 'arz',\n 'as',\n 'av',\n 'az',\n 'azb',\n 'ba',\n 'be',\n 'be-x-old',\n 'bg',\n 'bh',\n 'bjn',\n 'bn',\n 'br',\n 'bs',\n 'ca',\n 'ce',\n 'ckb',\n 'cs',\n 'cy',\n 'da',\n 'el',\n 'en',\n 'eo',\n 'es',\n 'eu',\n 'fa',\n 'fi',\n 'fr',\n 'ga',\n 'gl',\n 'glk',\n 'gor',\n 'he',\n 'hi',\n 'hr',\n 'hsb',\n 'hu',\n 'hy',\n 'ia',\n 'id',\n 'inh',\n 'is',\n 'it',\n 'ja',\n 'ka',\n 'kk',\n 'kl',\n 'kn',\n 'ko',\n 'ku',\n 'ky',\n 'lb',\n 'mai',\n 'min',\n 'mk',\n 'ml',\n 'ms',\n 'mzn',\n 'nap',\n 'ne',\n 'nl',\n 'nn',\n 'no',\n 'nv',\n 'pl',\n 'ps',\n 'pt',\n 'rmy',\n 'ro',\n 'ru',\n 'scn',\n 'sco',\n 'sd',\n 'sh',\n 'si',\n 'simple',\n 'sk',\n 'sl',\n 'sq',\n 'sr',\n 'su',\n 'sv',\n 'ta',\n 'tg',\n 'th',\n 'tr',\n 'tt',\n 'udm',\n 'uk',\n 'ur',\n 'uz',\n 'vi',\n 'yi',\n 'zh',\n 'zh-yue']"
     },
     "metadata": {},
     "execution_count": 15
    }
   ],
   "source": [
    "rule_interlanguagelinks['de']['Wikipedia:Richtlinien']"
   ]
  },
  {
   "cell_type": "code",
   "execution_count": 31,
   "metadata": {},
   "outputs": [],
   "source": [
    "def process_languagelinksdates(lang):\n",
    "    # initialize output\n",
    "    ill_dates = dict()\n",
    "\n",
    "    pageslist = list(rule_interlanguagelinks[lang].keys())\n",
    "    #test = [\"Wikipedia:Richtlinien\",\"Wikipedia:Grundprinzipien\",\"Wikipedia:Was Wikipedia nicht ist\"]\n",
    "\n",
    "    for page in pageslist:\n",
    "        print(page)\n",
    "        found_langs = list()\n",
    "        ill_dates[page] = dict()\n",
    "\n",
    "        _temprevs = wf.get_all_page_revisions(str(page),endpoint='{}.wikipedia.org/w/api.php'.format(lang))\n",
    "        _revdf = pd.concat(_temprevs).sort_values(by='timestamp')\n",
    "\n",
    "        _revdf['tuples'] = list(zip(_revdf.timestamp, _revdf.revid))\n",
    "        _tuples = _revdf['tuples'].tolist()\n",
    "\n",
    "        # the interlanguage links that this page has\n",
    "        _ills = rule_interlanguagelinks[lang][page]\n",
    "        print(_ills)\n",
    "        if lang in _ills:\n",
    "            _ills.remove(lang)\n",
    "        _ills_full = ['{}:{}'.format(key,value) for (key,value) in ills[lang][page].items()]\n",
    "        print(_ills_full)\n",
    "        otherlangs = ['de','en','fr','es','ja']\n",
    "        # remove self lang\n",
    "        otherlangs.remove(lang)\n",
    "\n",
    "        # ill subset should the subset of ills that this page has that are in the langs we care about\n",
    "        _ills_subset = ['{}:{}'.format(key,value) for (key,value) in ills[lang][page].items() if key in otherlangs] #otherlangs or _ills\n",
    "        _ills_subset = set(_ills_subset)\n",
    "\n",
    "        print(page, len(_tuples),_revdf.shape)\n",
    "        #print(_ills)\n",
    "\n",
    "        pattern = re.compile(r\"\\[\\[[^\\]\\d]+?\\:.+?\\]\\]\")\n",
    "\n",
    "        for revision in _tuples:\n",
    "            currentilldateswehave = set(list(ill_dates[page].keys()))\n",
    "            if _ills_subset.issubset(currentilldateswehave):\n",
    "                break\n",
    "\n",
    "            timestamp,revid = revision[0],revision[1]\n",
    "\n",
    "            bit = get_addedcontent(page,revid,lang)\n",
    "            if bit == None:\n",
    "                continue\n",
    "            #print(timestamp,revid)\n",
    "\n",
    "            finds = re.findall(pattern,bit)\n",
    "            if len(finds) == 0:\n",
    "                continue\n",
    "            else:\n",
    "                for f in finds:\n",
    "                    # change this to a set of langs of interest\n",
    "                    if f[2:4] in _ills:\n",
    "                        if f[2:-2] not in ill_dates[page].keys():\n",
    "                            ill_dates[page][f[2:-2]] = timestamp\n",
    "                            found_langs.append(f[2:4])                            \n",
    "                        else:\n",
    "                            continue\n",
    "                    else:\n",
    "                        continue\n",
    "\n",
    "    return ill_dates\n"
   ]
  },
  {
   "cell_type": "markdown",
   "metadata": {},
   "source": [
    "Running the get ill dates for reals"
   ]
  },
  {
   "cell_type": "code",
   "execution_count": 32,
   "metadata": {
    "tags": [
     "outputPrepend"
    ]
   },
   "outputs": [
    {
     "output_type": "stream",
     "name": "stdout",
     "text": "к?', 'su:Wikipedia:Artikel téh naon?', 'sv:Wikipedia:Artikel', 'tg:Википедиа:Мақола', 'th:วิกิพีเดีย:บทความหมายถึงอะไร', 'tl:Wikipedia:Ano ang isang artikulo', 'tr:Vikipedi:Madde', 'tt:Википедия:Мәкалә', 'uk:Вікіпедія:Стаття', 'ur:ویکیپیڈیا:مضمون کیا ہے؟', 'uz:Vikipediya:Maqola', 'vi:Wikipedia:Bài bách khoa là gì?', 'zh:Wikipedia:什么是条目', 'zh-min-nan:Wikipedia:Bûn-chiuⁿ', 'zh-yue:Wikipedia:乜嘢係文章']\nWikipedia:Artikel 609 (609, 16)\n['af', 'als', 'ar', 'as', 'ast', 'azb', 'be', 'bg', 'bh', 'bjn', 'bs', 'ca', 'ckb', 'cs', 'cv', 'cy', 'da', 'diq', 'el', 'en', 'eo', 'es', 'et', 'eu', 'fa', 'fo', 'gl', 'he', 'hi', 'hr', 'hsb', 'hu', 'ia', 'id', 'ilo', 'it', 'ja', 'jv', 'kk', 'ko', 'ksh', 'ky', 'map-bms', 'min', 'mk', 'ml', 'mr', 'mwl', 'nl', 'no', 'pa', 'pam', 'pt', 'ro', 'roa-tara', 'ru', 'sd', 'si', 'simple', 'sk', 'sl', 'sq', 'sr', 'su', 'sv', 'tg', 'th', 'tl', 'tr', 'tt', 'uk', 'ur', 'uz', 'vi', 'zh', 'zh-min-nan', 'zh-yue']\n[[en:Wikipedia:What is an article]]\n[[eo:Vikipedio:Kio estas artikolo]]\n[[da:Wikipedia:Hvad er en artikel]]\n[[th:วิกิพีเดีย:หัวข้อหมายถึงอะไร]]\n[[vi:Wikipedia:Bài bách khoa là cái gi?]]\n[[ja:Wikipedia:記事とは何か]]\n[[ar:ويكيبيديا:بذرة]]\n[[be:Вікіпэдыя:Накід]]\n[[ca:Viquipèdia:Esborrany]]\n[[cs:Wikipedie:Pahýl]]\n[[da:Wikipedia:Udvide en stub]]\n[[en:Wikipedia:Find or fix a stub]]\n[[es:Wikipedia:Encontrar o fijar un esbozo]]\n[[eo:Vikipedio:Trovi aux ripari stumpon]]\n[[fo:Wikipedia:Stubbi]]\n[[he:ויקיפדיה:קצרמר]]\n[[id:Wikipedia:Tulisan rintisan]]\n[[it:Wikipedia:Stub]]\n[[ja:Wikipedia:スタブ]]\n[[jv:Wikipedia:Stub]]\n[[ko:위키백과:토막글]]\n[[nl:Wikipedia:Beginnetje]]\n[[no:Wikipedia:Stubb]]\n[[pt:Wikipedia:Esboço]]\n[[ro:Wikipedia:Găseşte şi repară un ciot]]\n[[ru:Википедия:Болванка статьи]]\n[[simple:Wikipedia:Stub]]\n[[sk:Wikipédia:Stub]]\n[[sl:Wikipedija:&#352;krbina]]\n[[sq:Wikipedia:Gjej_ose_rregullo_nj%C3%AB_cung]]\n[[sv:Wikipedia:Stumpartikel]]\n[[tl:Wikipedia:Maghanap o magkumpuni ng stub]]\n[[tr:Wikipedia:Madde taslağı]]\n[[vi:Wikipedia:Bài mớm]]\n[[zh:Wikipedia:小作品]]\n[[zh-min-nan:Wikipedia:Phí]]\n[[ar:ويكيبيديا:بذرة]]\n[[da:Wikipedia:Hvad er en artikel]]\n[[en:Wikipedia:What is an article]]\n[[eo:Vikipedio:Kio estas artikolo]]\n[[ja:Wikipedia:記事とは何か]]\n[[th:วิกิพีเดีย:หัวข้อหมายถึงอะไร]]\n[[vi:Wikipedia:Bài bách khoa là cái gi?]]\n[[ar:ويكيبيديا:بذرة]]\n[[be:Вікіпэдыя:Накід]]\n[[ca:Viquipèdia:Esborrany]]\n[[cs:Wikipedie:Pahýl]]\n[[da:Wikipedia:Hvad er en artikel]]\n[[en:Wikipedia:What is an article]]\n[[eo:Vikipedio:Kio estas artikolo]]\n[[es:Wikipedia:Encontrar o fijar un esbozo]]\n[[fo:Wikipedia:Stubbi]]\n[[he:ויקיפדיה:קצרמר]]\n[[id:Wikipedia:Tulisan rintisan]]\n[[it:Wikipedia:Stub]]\n[[ja:Wikipedia:記事とは何か]]\n[[jv:Wikipedia:Stub]]\n[[ko:위키백과:토막글]]\n[[nl:Wikipedia:Beginnetje]]\n[[no:Wikipedia:Stubb]]\n[[pt:Wikipedia:Esboço]]\n[[ro:Wikipedia:Găseşte şi repară un ciot]]\n[[ru:Википедия:Болванка статьи]]\n[[simple:Wikipedia:Stub]]\n[[sk:Wikipédia:Stub]]\n[[sl:Wikipedija:&#352;krbina]]\n[[sq:Wikipedia:Gjej_ose_rregullo_nj%C3%AB_cung]]\n[[sv:Wikipedia:Stumpartikel]]\n[[th:วิกิพีเดีย:หัวข้อหมายถึงอะไร]]\n[[tl:Wikipedia:Maghanap o magkumpuni ng stub]]\n[[tr:Wikipedia:Madde taslağı]]\n[[vi:Wikipedia:Bài bách khoa là cái gi?]]\n[[zh:Wikipedia:小作品]]\n[[zh-min-nan:Wikipedia:Phí]]\n[[ar:ويكيبيديا:بذرة]]\n[[be:Вікіпэдыя:Накід]]\n[[ca:Viquipèdia:Esborrany]]\n[[cs:Wikipedie:Pahýl]]\n[[da:Wikipedia:Hvad er en artikel]]\n[[en:Wikipedia:What is an article]]\n[[eo:Vikipedio:Kio estas artikolo]]\n[[es:Wikipedia:Encontrar o fijar un esbozo]]\n[[fo:Wikipedia:Stubbi]]\n[[he:ויקיפדיה:קצרמר]]\n[[id:Wikipedia:Tulisan rintisan]]\n[[it:Wikipedia:Stub]]\n[[ja:Wikipedia:記事とは何か]]\n[[jv:Wikipedia:Stub]]\n[[ko:위키백과:토막글]]\n[[nl:Wikipedia:Beginnetje]]\n[[no:Wikipedia:Stubb]]\n[[pt:Wikipedia:Esboço]]\n[[ro:Wikipedia:Găseşte şi repară un ciot]]\n[[ru:Википедия:Болванка статьи]]\n[[simple:Wikipedia:Stub]]\n[[sk:Wikipédia:Stub]]\n[[sl:Wikipedija:&#352;krbina]]\n[[sq:Wikipedia:Gjej_ose_rregullo_nj%C3%AB_cung]]\n[[sv:Wikipedia:Stumpartikel]]\n[[th:วิกิพีเดีย:หัวข้อหมายถึงอะไร]]\n[[tl:Wikipedia:Maghanap o magkumpuni ng stub]]\n[[tr:Wikipedia:Madde taslağı]]\n[[vi:Wikipedia:Bài bách khoa là cái gi?]]\n[[zh:Wikipedia:小作品]]\n[[zh-min-nan:Wikipedia:Phí]]\n[[ar:ويكيبيديا:بذرة]]\n[[be:Вікіпэдыя:Накід]]\n[[ca:Viquipèdia:Esborrany]]\n[[cs:Wikipedie:Pahýl]]\n[[da:Wikipedia:Hvad er en artikel]]\n[[en:Wikipedia:What is an article]]\n[[eo:Vikipedio:Kio estas artikolo]]\n[[es:Wikipedia:Encontrar o fijar un esbozo]]\n[[fo:Wikipedia:Stubbi]]\n[[he:ויקיפדיה:קצרמר]]\n[[id:Wikipedia:Tulisan rintisan]]\n[[it:Wikipedia:Stub]]\n[[ja:Wikipedia:記事とは何か]]\n[[jv:Wikipedia:Stub]]\n[[ko:위키백과:토막글]]\n[[nl:Wikipedia:Beginnetje]]\n[[no:Wikipedia:Stubb]]\n[[pt:Wikipedia:Esboço]]\n[[ro:Wikipedia:Găseşte şi repară un ciot]]\n[[ru:Википедия:Болванка статьи]]\n[[simple:Wikipedia:Stub]]\n[[sk:Wikipédia:Stub]]\n[[sl:Wikipedija:&#352;krbina]]\n[[sq:Wikipedia:Gjej_ose_rregullo_nj%C3%AB_cung]]\n[[sv:Wikipedia:Stumpartikel]]\n[[th:วิกิพีเดีย:หัวข้อหมายถึงอะไร]]\n[[tl:Wikipedia:Maghanap o magkumpuni ng stub]]\n[[tr:Wikipedia:Madde taslağı]]\n[[vi:Wikipedia:Bài bách khoa là cái gi?]]\n[[zh:Wikipedia:小作品]]\n[[zh-min-nan:Wikipedia:Phí]]\n[[ar:ويكيبيديا:بذرة]]\n[[be:Вікіпэдыя:Накід]]\n[[ca:Viquipèdia:Esborrany]]\n[[cs:Wikipedie:Pahýl]]\n[[da:Wikipedia:Hvad er en artikel]]\n[[en:Wikipedia:What is an article]]\n[[eo:Vikipedio:Kio estas artikolo]]\n[[es:Wikipedia:Encontrar o fijar un esbozo]]\n[[fo:Wikipedia:Stubbi]]\n[[he:ויקיפדיה:קצרמר]]\n[[id:Wikipedia:Tulisan rintisan]]\n[[it:Wikipedia:Stub]]\n[[ja:Wikipedia:記事とは何か]]\n[[jv:Wikipedia:Stub]]\n[[ko:위키백과:토막글]]\n[[nl:Wikipedia:Beginnetje]]\n[[no:Wikipedia:Stubb]]\n[[pt:Wikipedia:Esboço]]\n[[ro:Wikipedia:Găseşte şi repară un ciot]]\n[[ru:Википедия:Болванка статьи]]\n[[simple:Wikipedia:Stub]]\n[[sk:Wikipédia:Stub]]\n[[sl:Wikipedija:&#352;krbina]]\n[[sq:Wikipedia:Gjej_ose_rregullo_nj%C3%AB_cung]]\n[[sv:Wikipedia:Stumpartikel]]\n[[th:วิกิพีเดีย:หัวข้อหมายถึงอะไร]]\n[[tl:Wikipedia:Maghanap o magkumpuni ng stub]]\n[[tr:Wikipedia:Madde taslağı]]\n[[vi:Wikipedia:Bài bách khoa là cái gi?]]\n[[zh:Wikipedia:小作品]]\n[[zh-min-nan:Wikipedia:Phí]]\n[[ar:ويكيبيديا:بذرة]]\n[[be:Вікіпэдыя:Накід]]\n[[ca:Viquipèdia:Esborrany]]\n[[cs:Wikipedie:Pahýl]]\n[[da:Wikipedia:Hvad er en artikel]]\n[[en:Wikipedia:What is an article]]\n[[eo:Vikipedio:Kio estas artikolo]]\n[[es:Wikipedia:Encontrar o fijar un esbozo]]\n[[fo:Wikipedia:Stubbi]]\n[[he:ויקיפדיה:קצרמר]]\n[[id:Wikipedia:Tulisan rintisan]]\n[[it:Wikipedia:Stub]]\n[[ja:Wikipedia:記事とは何か]]\n[[jv:Wikipedia:Stub]]\n[[ko:위키백과:토막글]]\n[[nl:Wikipedia:Beginnetje]]\n[[no:Wikipedia:Stubb]]\n[[pt:Wikipedia:Esboço]]\n[[ro:Wikipedia:Găseşte şi repară un ciot]]\n[[ru:Википедия:Болванка статьи]]\n[[simple:Wikipedia:Stub]]\n[[sk:Wikipédia:Stub]]\n[[sl:Wikipedija:&#352;krbina]]\n[[sq:Wikipedia:Gjej_ose_rregullo_nj%C3%AB_cung]]\n[[sv:Wikipedia:Stumpartikel]]\n[[th:วิกิพีเดีย:หัวข้อหมายถึงอะไร]]\n[[tl:Wikipedia:Maghanap o magkumpuni ng stub]]\n[[tr:Wikipedia:Madde taslağı]]\n[[vi:Wikipedia:Bài bách khoa là cái gi?]]\n[[zh:Wikipedia:小作品]]\n[[zh-min-nan:Wikipedia:Phí]]\n[[ar:ويكيبيديا:بذرة]]\n[[be:Вікіпэдыя:Накід]]\n[[ca:Viquipèdia:Esborrany]]\n[[cs:Wikipedie:Pahýl]]\n[[da:Wikipedia:Hvad er en artikel]]\n[[en:Wikipedia:What is an article]]\n[[eo:Vikipedio:Kio estas artikolo]]\n[[es:Wikipedia:Encontrar o fijar un esbozo]]\n[[fo:Wikipedia:Stubbi]]\n[[he:ויקיפדיה:קצרמר]]\n[[id:Wikipedia:Tulisan rintisan]]\n[[it:Wikipedia:Stub]]\n[[ja:Wikipedia:記事とは何か]]\n[[jv:Wikipedia:Stub]]\n[[ko:위키백과:토막글]]\n[[nl:Wikipedia:Beginnetje]]\n[[no:Wikipedia:Stubb]]\n[[pt:Wikipedia:Esboço]]\n[[ro:Wikipedia:Găseşte şi repară un ciot]]\n[[ru:Википедия:Болванка статьи]]\n[[simple:Wikipedia:Stub]]\n[[sk:Wikipédia:Stub]]\n[[sl:Wikipedija:&#352;krbina]]\n[[sq:Wikipedia:Gjej_ose_rregullo_nj%C3%AB_cung]]\n[[sv:Wikipedia:Stumpartikel]]\n[[th:วิกิพีเดีย:หัวข้อหมายถึงอะไร]]\n[[tl:Wikipedia:Maghanap o magkumpuni ng stub]]\n[[tr:Wikipedia:Madde taslağı]]\n[[vi:Wikipedia:Bài bách khoa là cái gi?]]\n[[zh:Wikipedia:小作品]]\n[[zh-min-nan:Wikipedia:Phí]]\n[[ar:ويكيبيديا:بذرة]]\n[[be:Вікіпэдыя:Накід]]\n[[ca:Viquipèdia:Esborrany]]\n[[cs:Wikipedie:Pahýl]]\n[[da:Wikipedia:Hvad er en artikel]]\n[[en:Wikipedia:What is an article]]\n[[eo:Vikipedio:Kio estas artikolo]]\n[[es:Wikipedia:Encontrar o fijar un esbozo]]\n[[fo:Wikipedia:Stubbi]]\n[[he:ויקיפדיה:קצרמר]]\n[[id:Wikipedia:Tulisan rintisan]]\n[[it:Wikipedia:Stub]]\n[[ja:Wikipedia:記事とは何か]]\n[[jv:Wikipedia:Stub]]\n[[ko:위키백과:토막글]]\n[[nl:Wikipedia:Beginnetje]]\n[[no:Wikipedia:Stubb]]\n[[pt:Wikipedia:Esboço]]\n[[ro:Wikipedia:Găseşte şi repară un ciot]]\n[[ru:Википедия:Болванка статьи]]\n[[simple:Wikipedia:Stub]]\n[[sk:Wikipédia:Stub]]\n[[sl:Wikipedija:&#352;krbina]]\n[[sq:Wikipedia:Gjej_ose_rregullo_nj%C3%AB_cung]]\n[[sv:Wikipedia:Stumpartikel]]\n[[th:วิกิพีเดีย:หัวข้อหมายถึงอะไร]]\n[[tl:Wikipedia:Maghanap o magkumpuni ng stub]]\n[[tr:Wikipedia:Madde taslağı]]\n[[vi:Wikipedia:Bài bách khoa là cái gi?]]\n[[zh:Wikipedia:小作品]]\n[[zh-min-nan:Wikipedia:Phí]]\n[[it:Aiuto:Abbozzo]]\n[[ar:ويكيبيديا:بذرة]]\n[[be:Вікіпэдыя:Накід]]\n[[ca:Viquipèdia:Esborrany]]\n[[cs:Wikipedie:Pahýl]]\n[[da:Wikipedia:Hvad er en artikel]]\n[[en:Wikipedia:What is an article]]\n[[eo:Vikipedio:Kio estas artikolo]]\n[[es:Wikipedia:Encontrar o fijar un esbozo]]\n[[fo:Wikipedia:Stubbi]]\n[[he:ויקיפדיה:קצרמר]]\n[[id:Wikipedia:Tulisan rintisan]]\n[[it:Aiuto:Abbozzo]]\n[[ja:Wikipedia:記事とは何か]]\n[[jv:Wikipedia:Stub]]\n[[ko:위키백과:토막글]]\n[[nl:Wikipedia:Beginnetje]]\n[[no:Wikipedia:Stubb]]\n[[pt:Wikipedia:Esboço]]\n[[ro:Wikipedia:Găseşte şi repară un ciot]]\n[[ru:Википедия:Болванка статьи]]\n[[simple:Wikipedia:Stub]]\n[[sk:Wikipédia:Stub]]\n[[sl:Wikipedija:&#352;krbina]]\n[[sq:Wikipedia:Gjej_ose_rregullo_nj%C3%AB_cung]]\n[[sv:Wikipedia:Stumpartikel]]\n[[th:วิกิพีเดีย:หัวข้อหมายถึงอะไร]]\n[[tl:Wikipedia:Maghanap o magkumpuni ng stub]]\n[[tr:Wikipedia:Madde taslağı]]\n[[vi:Wikipedia:Bài bách khoa là cái gi?]]\n[[zh:Wikipedia:小作品]]\n[[zh-min-nan:Wikipedia:Phí]]\n[[pt:Wikipedia:Esboço]]\n[[ro:Wikipedia:Găseşte şi repară un ciot]]\n[[ru:Википедия:Болванка статьи]]\n[[simple:Wikipedia:Stub]]\n[[sk:Wikipédia:Stub]]\n[[sl:Wikipedija:&#352;krbina]]\n[[sq:Wikipedia:Gjej_ose_rregullo_nj%C3%AB_cung]]\n[[sv:Wikipedia:Stumpartikel]]\n[[th:วิกิพีเดีย:หัวข้อหมายถึงอะไร]]\n[[tl:Wikipedia:Maghanap o magkumpuni ng stub]]\n[[tr:Vikipedi:Madde]]\n[[be:Вікіпэдыя:Накід]]\n[[ca:Viquipèdia:Esborrany]]\n[[cs:Wikipedie:Pahýl]]\n[[da:Wikipedia:Hvad er en artikel]]\n[[en:Wikipedia:What is an article]]\n[[eo:Vikipedio:Kio estas artikolo]]\n[[es:Wikipedia:Encontrar o fijar un esbozo]]\n[[fo:Wikipedia:Stubbi]]\n[[he:ויקיפדיה:קצרמר]]\n[[id:Wikipedia:Tulisan rintisan]]\n[[it:Aiuto:Abbozzo]]\n[[ja:Wikipedia:記事とは何か]]\n[[jv:Wikipedia:Stub]]\n[[ko:위키백과:토막글]]\n[[nl:Wikipedia:Beginnetje]]\n[[no:Wikipedia:Stubb]]\n[[pt:Wikipedia:Esboço]]\n[[ro:Wikipedia:Găseşte şi repară un ciot]]\n[[ru:Википедия:Болванка статьи]]\n[[simple:Wikipedia:Stub]]\n[[sk:Wikipédia:Stub]]\n[[sl:Wikipedija:&#352;krbina]]\n[[sq:Wikipedia:Gjej_ose_rregullo_nj%C3%AB_cung]]\n[[sv:Wikipedia:Stumpartikel]]\n[[th:วิกิพีเดีย:หัวข้อหมายถึงอะไร]]\n[[tl:Wikipedia:Maghanap o magkumpuni ng stub]]\n[[tr:Vikipedi:Madde]]\n[[vi:Wikipedia:Bài bách khoa là cái gi?]]\n[[zh:Wikipedia:小作品]]\n[[zh-min-nan:Wikipedia:Phí]]\n[[be:Вікіпэдыя:Накід]]\n[[ca:Viquipèdia:Esborrany]]\n[[cs:Wikipedie:Pahýl]]\n[[da:Wikipedia:Hvad er en artikel]]\n[[en:Wikipedia:What is an article]]\n[[eo:Vikipedio:Kio estas artikolo]]\n[[es:Wikipedia:Encontrar o fijar un esbozo]]\n[[fo:Wikipedia:Stubbi]]\n[[he:ויקיפדיה:קצרמר]]\n[[id:Wikipedia:Tulisan rintisan]]\n[[it:Aiuto:Abbozzo]]\n[[ja:Wikipedia:記事とは何か]]\n[[jv:Wikipedia:Stub]]\n[[ko:위키백과:토막글]]\n[[nl:Wikipedia:Beginnetje]]\n[[no:Wikipedia:Stubb]]\n[[pt:Wikipedia:Esboço]]\n[[ro:Wikipedia:Găseşte şi repară un ciot]]\n[[ru:Википедия:Болванка статьи]]\n[[simple:Wikipedia:Stub]]\n[[sk:Wikipédia:Stub]]\n[[sl:Wikipedija:&#352;krbina]]\n[[sq:Wikipedia:Gjej_ose_rregullo_nj%C3%AB_cung]]\n[[sv:Wikipedia:Stumpartikel]]\n[[th:วิกิพีเดีย:หัวข้อหมายถึงอะไร]]\n[[tl:Wikipedia:Maghanap o magkumpuni ng stub]]\n[[tr:Vikipedi:Madde]]\n[[vi:Wikipedia:Bài bách khoa là cái gi?]]\n[[zh:Wikipedia:小作品]]\n[[zh-min-nan:Wikipedia:Phí]]\n[[be:Вікіпэдыя:Накід]]\n[[ca:Viquipèdia:Esborrany]]\n[[cs:Wikipedie:Pahýl]]\n[[da:Wikipedia:Hvad er en artikel]]\n[[en:Wikipedia:What is an article]]\n[[eo:Vikipedio:Kio estas artikolo]]\n[[es:Wikipedia:Encontrar o fijar un esbozo]]\n[[fo:Wikipedia:Stubbi]]\n[[he:ויקיפדיה:קצרמר]]\n[[id:Wikipedia:Tulisan rintisan]]\n[[it:Aiuto:Abbozzo]]\n[[ja:Wikipedia:記事とは何か]]\n[[jv:Wikipedia:Stub]]\n[[ko:위키백과:토막글]]\n[[nl:Wikipedia:Beginnetje]]\n[[no:Wikipedia:Stubb]]\n[[pt:Wikipedia:Esboço]]\n[[ro:Wikipedia:Găseşte şi repară un ciot]]\n[[ru:Википедия:Болванка статьи]]\n[[simple:Wikipedia:Stub]]\n[[sk:Wikipédia:Stub]]\n[[sl:Wikipedija:&#352;krbina]]\n[[sq:Wikipedia:Gjej_ose_rregullo_nj%C3%AB_cung]]\n[[sv:Wikipedia:Stumpartikel]]\n[[th:วิกิพีเดีย:หัวข้อหมายถึงอะไร]]\n[[tl:Wikipedia:Maghanap o magkumpuni ng stub]]\n[[tr:Vikipedi:Madde]]\n[[vi:Wikipedia:Bài bách khoa là cái gi?]]\n[[zh:Wikipedia:小作品]]\n[[zh-min-nan:Wikipedia:Phí]]\n[[sq:Wikipedia:Gjej ose rregullo një cung]]\n[[be:Вікіпэдыя:Накід]]\n[[ca:Viquipèdia:Esborrany]]\n[[cs:Wikipedie:Pahýl]]\n[[da:Wikipedia:Hvad er en artikel]]\n[[en:Wikipedia:What is an article]]\n[[eo:Vikipedio:Kio estas artikolo]]\n[[es:Wikipedia:Encontrar o fijar un esbozo]]\n[[fo:Wikipedia:Stubbi]]\n[[he:ויקיפדיה:קצרמר]]\n[[id:Wikipedia:Tulisan rintisan]]\n[[it:Aiuto:Abbozzo]]\n[[ja:Wikipedia:記事とは何か]]\n[[jv:Wikipedia:Stub]]\n[[ko:위키백과:토막글]]\n[[nl:Wikipedia:Beginnetje]]\n[[no:Wikipedia:Stubb]]\n[[pt:Wikipedia:Esboço]]\n[[ro:Wikipedia:Găseşte şi repară un ciot]]\n[[ru:Википедия:Болванка статьи]]\n[[simple:Wikipedia:Stub]]\n[[sk:Wikipédia:Stub]]\n[[sl:Wikipedija:&#352;krbina]]\n[[sq:Wikipedia:Gjej ose rregullo një cung]]\n[[sv:Wikipedia:Stumpartikel]]\n[[th:วิกิพีเดีย:หัวข้อหมายถึงอะไร]]\n[[tl:Wikipedia:Maghanap o magkumpuni ng stub]]\n[[tr:Vikipedi:Madde]]\n[[vi:Wikipedia:Bài bách khoa là cái gi?]]\n[[zh:Wikipedia:小作品]]\n[[zh-min-nan:Wikipedia:Phí]]\n[[et:Vikipeedia:Artikkel]]\n[[hr:Wikipedija:Članak]]\n[[be:Вікіпэдыя:Накід]]\n[[ca:Viquipèdia:Esborrany]]\n[[cs:Wikipedie:Pahýl]]\n[[da:Wikipedia:Hvad er en artikel]]\n[[en:Wikipedia:What is an article]]\n[[eo:Vikipedio:Kio estas artikolo]]\n[[es:Wikipedia:Encontrar o fijar un esbozo]]\n[[et:Vikipeedia:Artikkel]]\n[[fo:Wikipedia:Stubbi]]\n[[he:ויקיפדיה:קצרמר]]\n[[hr:Wikipedija:Članak]]\n[[id:Wikipedia:Tulisan rintisan]]\n[[it:Aiuto:Abbozzo]]\n[[ja:Wikipedia:記事とは何か]]\n[[jv:Wikipedia:Stub]]\n[[ko:위키백과:토막글]]\n[[nl:Wikipedia:Beginnetje]]\n[[no:Wikipedia:Stubb]]\n[[pt:Wikipedia:Esboço]]\n[[ro:Wikipedia:Găseşte şi repară un ciot]]\n[[ru:Википедия:Болванка статьи]]\n[[simple:Wikipedia:Stub]]\n[[sk:Wikipédia:Stub]]\n[[sl:Wikipedija:&#352;krbina]]\n[[sq:Wikipedia:Gjej ose rregullo një cung]]\n[[sv:Wikipedia:Stumpartikel]]\n[[th:วิกิพีเดีย:หัวข้อหมายถึงอะไร]]\n[[tl:Wikipedia:Maghanap o magkumpuni ng stub]]\n[[tr:Vikipedi:Madde]]\n[[vi:Wikipedia:Bài bách khoa là cái gi?]]\n[[zh:Wikipedia:小作品]]\n[[zh-min-nan:Wikipedia:Phí]]\n[[be:Вікіпэдыя:Накід]]\n[[ca:Viquipèdia:Esborrany]]\n[[cs:Wikipedie:Pahýl]]\n[[da:Wikipedia:Hvad er en artikel]]\n[[en:Wikipedia:What is an article]]\n[[eo:Vikipedio:Kio estas artikolo]]\n[[es:Wikipedia:Encontrar o fijar un esbozo]]\n[[et:Vikipeedia:Artikkel]]\n[[fo:Wikipedia:Stubbi]]\n[[he:ויקיפדיה:קצרמר]]\n[[hr:Wikipedija:Članak]]\n[[id:Wikipedia:Tulisan rintisan]]\n[[it:Aiuto:Abbozzo]]\n[[ja:Wikipedia:記事とは何か]]\n[[jv:Wikipedia:Stub]]\n[[ko:위키백과:토막글]]\n[[nl:Wikipedia:Beginnetje]]\n[[no:Wikipedia:Stubb]]\n[[pt:Wikipedia:Esboço]]\n[[ro:Wikipedia:Găseşte şi repară un ciot]]\n[[ru:Википедия:Болванка статьи]]\n[[simple:Wikipedia:Stub]]\n[[sk:Wikipédia:Stub]]\n[[sl:Wikipedija:&#352;krbina]]\n[[sq:Wikipedia:Gjej ose rregullo një cung]]\n[[sv:Wikipedia:Stumpartikel]]\n[[th:วิกิพีเดีย:หัวข้อหมายถึงอะไร]]\n[[tl:Wikipedia:Maghanap o magkumpuni ng stub]]\n[[tr:Vikipedi:Madde]]\n[[vi:Wikipedia:Bài bách khoa là cái gi?]]\n[[zh:Wikipedia:小作品]]\n[[zh-min-nan:Wikipedia:Phí]]\n[[af:Wikipedia:Wat is 'n artikel]]\n[[bg:Уикипедия:Статия]]\n[[cs:Wikipedie:Článek]]\n[[cy:Wicipedia:Beth ydy erthygl]]\n[[da:Hjælp:Hvad er en artikel]]\n[[el:Βικιπαίδεια:Τι είναι ένα άρθρο]]\n[[en:Wikipedia:What is an article?]]\n[[eo:Helpo:Artikolo]]\n[[es:Ayuda:Artículo]]\n[[et:Vikipeedia:Artikkel]]\n[[eu:Wikipedia:Zer da artikulu bat?]]\n[[fa:ویکی‌پدیا:مقاله چیست؟]]\n[[fo:Wikipedia:Hvat er ein grein]]\n[[hr:Wikipedija:Članak]]\n[[hu:Wikipédia:Szócikk]]\n[[id:Wikipedia:Apa yang dinamakan artikel]]\n[[it:Aiuto:Voce]]\n[[ja:Help:記事とは何か]]\n[[jv:Wikipedia:Apa sing diarani artikel]]\n[[ml:വിക്കിപീഡിയ:ലേഖനം]]\n[[nl:Wikipedia:Lemma]]\n[[pt:Wikipedia:Artigo]]\n[[roa-tara:Help:Vôsce]]\n[[ru:Википедия:Статья]]\n[[simple:Wikipedia:What is an article?]]\n[[sk:Wikipédia:Článok]]\n[[sl:Wikipedija:Kaj je članek]]\n[[su:Wikipedia:Artikel téh naon?]]\n[[sv:Wikipedia:Artikel]]\n[[th:วิกิพีเดีย:บทความหมายถึงอะไร]]\n[[tl:Wikipedia:Ano ang isang artikulo]]\n[[tr:Vikipedi:Madde]]\n[[uz:Vikipediya:Maqola]]\n[[vi:Wikipedia:Bài bách khoa là gì?]]\n[[zh:Wikipedia:什么是条目]]\n[[mk:Википедија:Што е статија?]]\n[[pt:Wikipédia:Artigo]]\n[[as:ৱিকিপিডিয়া:প্ৰবন্ধ কি?]]\n[[af:Wikipedia:Wat is 'n artikel]]\n[[as:ৱিকিপিডিয়া:প্ৰবন্ধ কি?]]\n[[bg:Уикипедия:Статия]]\n[[cs:Wikipedie:Článek]]\n[[cy:Wicipedia:Beth ydy erthygl]]\n[[da:Hjælp:Hvad er en artikel]]\n[[en:Wikipedia:What is an article?]]\n[[eo:Helpo:Artikolo]]\n[[es:Ayuda:Artículo]]\n[[et:Vikipeedia:Artikkel]]\n[[eu:Wikipedia:Zer da artikulu bat?]]\n[[fa:ویکی‌پدیا:مقاله چیست؟]]\n[[fo:Wikipedia:Hvat er ein grein]]\n[[hr:Wikipedija:Članak]]\n[[hu:Wikipédia:Szócikk]]\n[[id:Wikipedia:Apa yang dinamakan artikel]]\n[[it:Aiuto:Voce]]\n[[ja:Help:記事とは何か]]\n[[jv:Wikipedia:Apa sing diarani artikel]]\n[[mk:Википедија:Што е статија?]]\n[[ml:വിക്കിപീഡിയ:ലേഖനം]]\n[[nl:Wikipedia:Lemma]]\n[[roa-tara:Help:Vôsce]]\n[[ru:Википедия:Статья]]\n[[simple:Wikipedia:What is an article?]]\n[[sk:Wikipédia:Článok]]\n[[sl:Wikipedija:Kaj je članek]]\n[[su:Wikipedia:Artikel téh naon?]]\n[[sv:Wikipedia:Artikel]]\n[[th:วิกิพีเดีย:บทความหมายถึงอะไร]]\n[[tl:Wikipedia:Ano ang isang artikulo]]\n[[tr:Vikipedi:Madde]]\n[[uz:Vikipediya:Maqola]]\n[[vi:Wikipedia:Bài bách khoa là gì?]]\n[[zh:Wikipedia:什么是条目]]\n[[af:Wikipedia:Wat is 'n artikel]]\n[[as:ৱিকিপিডিয়া:প্ৰবন্ধ কি?]]\n[[bg:Уикипедия:Статия]]\n[[cs:Wikipedie:Článek]]\n[[cy:Wicipedia:Beth ydy erthygl]]\n[[el:Βικιπαίδεια:Τι είναι ένα λήμμα]]\n[[en:Wikipedia:What is an article?]]\n[[et:Vikipeedia:Artikkel]]\n[[eu:Wikipedia:Zer da artikulu bat?]]\n[[fa:ویکی‌پدیا:مقاله چیست؟]]\n[[fo:Wikipedia:Hvat er ein grein]]\n[[hr:Wikipedija:Članak]]\n[[hu:Wikipédia:Szócikk]]\n[[id:Wikipedia:Apa yang dinamakan artikel]]\n[[jv:Wikipedia:Apa sing diarani artikel]]\n[[mk:Википедија:Што е статија?]]\n[[ml:വിക്കിപീഡിയ:ലേഖനം]]\n[[nl:Wikipedia:Lemma]]\n[[ru:Википедия:Статья]]\n[[simple:Wikipedia:What is an article?]]\n[[sk:Wikipédia:Článok]]\n[[sl:Wikipedija:Kaj je članek]]\n[[su:Wikipedia:Artikel téh naon?]]\n[[sv:Wikipedia:Artikel]]\n[[th:วิกิพีเดีย:บทความหมายถึงอะไร]]\n[[tl:Wikipedia:Ano ang isang artikulo]]\n[[tr:Vikipedi:Madde]]\n[[uz:Vikipediya:Maqola]]\n[[vi:Wikipedia:Bài bách khoa là gì?]]\n[[zh:Wikipedia:什么是条目]]\n[[be:Вікіпедыя:Артыкул]]\n[[kk:Уикипедия:Мақала]]\n[[da:Hjælp:Hvad er en artikel]]\n[[eo:Helpo:Artikolo]]\n[[es:Ayuda:Artículo]]\n[[it:Aiuto:Voce]]\n[[ja:Help:記事とは何か]]\n[[roa-tara:Help:Vôsce]]\n[[ky:Уикипедия:Макала]]\nWikipedia:Artikel illustrieren\n['de', 'af', 'ar', 'bg', 'bs', 'ckb', 'en', 'eo', 'fy', 'he', 'hr', 'ilo', 'is', 'ja', 'km', 'ko', 'lb', 'mk', 'mr', 'ro', 'sh', 'sl', 'te', 'th', 'tl', 'tt', 'uk', 'yi', 'zh']\n['de:Wikipedia:Artikel illustrieren', 'af:Wikipedia:Beelde', 'ar:مساعدة:ملفات', 'bg:Уикипедия:Картинки', 'bs:Wikipedia:Slike', 'ckb:یارمەتی:پەڕگەکان', 'en:Help:Files', 'eo:Vikipedio:Kiel uzi bildojn', 'fy:Wikipedy:Ofbylden', 'he:עזרה:תמונות', 'hr:Wikipedija:Slike', 'ilo:Tulong:Pappapeles', 'is:Hjálp:Skrár', 'ja:Help:画像などのファイルのアップロードと利用', 'km:ជំនួយ:Files', 'ko:위키백과:파일', 'lb:Wikipedia:Biller', 'mk:Википедија:Слики', 'mr:सहाय्य:संचिका', 'ro:Wikipedia:Imagini', 'sh:Wikipedia:Slike', 'sl:Wikipedija:Slike', 'te:సహాయం:Files', 'th:วิธีใช้:ไฟล์', 'tl:Wikipedia:Paglalagay ng mga larawan', 'tt:Ярдәм:Räsem', 'uk:Довідка:Файли', 'yi:װיקיפּעדיע:בילדער', 'zh:Help:文件']\nWikipedia:Artikel illustrieren 347 (347, 15)\n['af', 'ar', 'bg', 'bs', 'ckb', 'en', 'eo', 'fy', 'he', 'hr', 'ilo', 'is', 'ja', 'km', 'ko', 'lb', 'mk', 'mr', 'ro', 'sh', 'sl', 'te', 'th', 'tl', 'tt', 'uk', 'yi', 'zh']\n"
    },
    {
     "output_type": "error",
     "ename": "ConnectionError",
     "evalue": "HTTPSConnectionPool(host='de.wikipedia.org', port=443): Max retries exceeded with url: /w/index.php?title=Wikipedia:Artikel_illustrieren&diff=prev&oldid=47220746 (Caused by NewConnectionError('<urllib3.connection.HTTPSConnection object at 0x000001A2C9E9C4F0>: Failed to establish a new connection: [WinError 10060] A connection attempt failed because the connected party did not properly respond after a period of time, or established connection failed because connected host has failed to respond'))",
     "traceback": [
      "\u001b[1;31m---------------------------------------------------------------------------\u001b[0m",
      "\u001b[1;31mTimeoutError\u001b[0m                              Traceback (most recent call last)",
      "\u001b[1;32mC:\\Python38\\lib\\site-packages\\urllib3\\connection.py\u001b[0m in \u001b[0;36m_new_conn\u001b[1;34m(self)\u001b[0m\n\u001b[0;32m    158\u001b[0m         \u001b[1;32mtry\u001b[0m\u001b[1;33m:\u001b[0m\u001b[1;33m\u001b[0m\u001b[1;33m\u001b[0m\u001b[0m\n\u001b[1;32m--> 159\u001b[1;33m             conn = connection.create_connection(\n\u001b[0m\u001b[0;32m    160\u001b[0m                 \u001b[1;33m(\u001b[0m\u001b[0mself\u001b[0m\u001b[1;33m.\u001b[0m\u001b[0m_dns_host\u001b[0m\u001b[1;33m,\u001b[0m \u001b[0mself\u001b[0m\u001b[1;33m.\u001b[0m\u001b[0mport\u001b[0m\u001b[1;33m)\u001b[0m\u001b[1;33m,\u001b[0m \u001b[0mself\u001b[0m\u001b[1;33m.\u001b[0m\u001b[0mtimeout\u001b[0m\u001b[1;33m,\u001b[0m \u001b[1;33m**\u001b[0m\u001b[0mextra_kw\u001b[0m\u001b[1;33m\u001b[0m\u001b[1;33m\u001b[0m\u001b[0m\n",
      "\u001b[1;32mC:\\Python38\\lib\\site-packages\\urllib3\\util\\connection.py\u001b[0m in \u001b[0;36mcreate_connection\u001b[1;34m(address, timeout, source_address, socket_options)\u001b[0m\n\u001b[0;32m     83\u001b[0m     \u001b[1;32mif\u001b[0m \u001b[0merr\u001b[0m \u001b[1;32mis\u001b[0m \u001b[1;32mnot\u001b[0m \u001b[1;32mNone\u001b[0m\u001b[1;33m:\u001b[0m\u001b[1;33m\u001b[0m\u001b[1;33m\u001b[0m\u001b[0m\n\u001b[1;32m---> 84\u001b[1;33m         \u001b[1;32mraise\u001b[0m \u001b[0merr\u001b[0m\u001b[1;33m\u001b[0m\u001b[1;33m\u001b[0m\u001b[0m\n\u001b[0m\u001b[0;32m     85\u001b[0m \u001b[1;33m\u001b[0m\u001b[0m\n",
      "\u001b[1;32mC:\\Python38\\lib\\site-packages\\urllib3\\util\\connection.py\u001b[0m in \u001b[0;36mcreate_connection\u001b[1;34m(address, timeout, source_address, socket_options)\u001b[0m\n\u001b[0;32m     73\u001b[0m                 \u001b[0msock\u001b[0m\u001b[1;33m.\u001b[0m\u001b[0mbind\u001b[0m\u001b[1;33m(\u001b[0m\u001b[0msource_address\u001b[0m\u001b[1;33m)\u001b[0m\u001b[1;33m\u001b[0m\u001b[1;33m\u001b[0m\u001b[0m\n\u001b[1;32m---> 74\u001b[1;33m             \u001b[0msock\u001b[0m\u001b[1;33m.\u001b[0m\u001b[0mconnect\u001b[0m\u001b[1;33m(\u001b[0m\u001b[0msa\u001b[0m\u001b[1;33m)\u001b[0m\u001b[1;33m\u001b[0m\u001b[1;33m\u001b[0m\u001b[0m\n\u001b[0m\u001b[0;32m     75\u001b[0m             \u001b[1;32mreturn\u001b[0m \u001b[0msock\u001b[0m\u001b[1;33m\u001b[0m\u001b[1;33m\u001b[0m\u001b[0m\n",
      "\u001b[1;31mTimeoutError\u001b[0m: [WinError 10060] A connection attempt failed because the connected party did not properly respond after a period of time, or established connection failed because connected host has failed to respond",
      "\nDuring handling of the above exception, another exception occurred:\n",
      "\u001b[1;31mNewConnectionError\u001b[0m                        Traceback (most recent call last)",
      "\u001b[1;32mC:\\Python38\\lib\\site-packages\\urllib3\\connectionpool.py\u001b[0m in \u001b[0;36murlopen\u001b[1;34m(self, method, url, body, headers, retries, redirect, assert_same_host, timeout, pool_timeout, release_conn, chunked, body_pos, **response_kw)\u001b[0m\n\u001b[0;32m    669\u001b[0m             \u001b[1;31m# Make the request on the httplib connection object.\u001b[0m\u001b[1;33m\u001b[0m\u001b[1;33m\u001b[0m\u001b[1;33m\u001b[0m\u001b[0m\n\u001b[1;32m--> 670\u001b[1;33m             httplib_response = self._make_request(\n\u001b[0m\u001b[0;32m    671\u001b[0m                 \u001b[0mconn\u001b[0m\u001b[1;33m,\u001b[0m\u001b[1;33m\u001b[0m\u001b[1;33m\u001b[0m\u001b[0m\n",
      "\u001b[1;32mC:\\Python38\\lib\\site-packages\\urllib3\\connectionpool.py\u001b[0m in \u001b[0;36m_make_request\u001b[1;34m(self, conn, method, url, timeout, chunked, **httplib_request_kw)\u001b[0m\n\u001b[0;32m    380\u001b[0m         \u001b[1;32mtry\u001b[0m\u001b[1;33m:\u001b[0m\u001b[1;33m\u001b[0m\u001b[1;33m\u001b[0m\u001b[0m\n\u001b[1;32m--> 381\u001b[1;33m             \u001b[0mself\u001b[0m\u001b[1;33m.\u001b[0m\u001b[0m_validate_conn\u001b[0m\u001b[1;33m(\u001b[0m\u001b[0mconn\u001b[0m\u001b[1;33m)\u001b[0m\u001b[1;33m\u001b[0m\u001b[1;33m\u001b[0m\u001b[0m\n\u001b[0m\u001b[0;32m    382\u001b[0m         \u001b[1;32mexcept\u001b[0m \u001b[1;33m(\u001b[0m\u001b[0mSocketTimeout\u001b[0m\u001b[1;33m,\u001b[0m \u001b[0mBaseSSLError\u001b[0m\u001b[1;33m)\u001b[0m \u001b[1;32mas\u001b[0m \u001b[0me\u001b[0m\u001b[1;33m:\u001b[0m\u001b[1;33m\u001b[0m\u001b[1;33m\u001b[0m\u001b[0m\n",
      "\u001b[1;32mC:\\Python38\\lib\\site-packages\\urllib3\\connectionpool.py\u001b[0m in \u001b[0;36m_validate_conn\u001b[1;34m(self, conn)\u001b[0m\n\u001b[0;32m    975\u001b[0m         \u001b[1;32mif\u001b[0m \u001b[1;32mnot\u001b[0m \u001b[0mgetattr\u001b[0m\u001b[1;33m(\u001b[0m\u001b[0mconn\u001b[0m\u001b[1;33m,\u001b[0m \u001b[1;34m\"sock\"\u001b[0m\u001b[1;33m,\u001b[0m \u001b[1;32mNone\u001b[0m\u001b[1;33m)\u001b[0m\u001b[1;33m:\u001b[0m  \u001b[1;31m# AppEngine might not have  `.sock`\u001b[0m\u001b[1;33m\u001b[0m\u001b[1;33m\u001b[0m\u001b[0m\n\u001b[1;32m--> 976\u001b[1;33m             \u001b[0mconn\u001b[0m\u001b[1;33m.\u001b[0m\u001b[0mconnect\u001b[0m\u001b[1;33m(\u001b[0m\u001b[1;33m)\u001b[0m\u001b[1;33m\u001b[0m\u001b[1;33m\u001b[0m\u001b[0m\n\u001b[0m\u001b[0;32m    977\u001b[0m \u001b[1;33m\u001b[0m\u001b[0m\n",
      "\u001b[1;32mC:\\Python38\\lib\\site-packages\\urllib3\\connection.py\u001b[0m in \u001b[0;36mconnect\u001b[1;34m(self)\u001b[0m\n\u001b[0;32m    307\u001b[0m         \u001b[1;31m# Add certificate verification\u001b[0m\u001b[1;33m\u001b[0m\u001b[1;33m\u001b[0m\u001b[1;33m\u001b[0m\u001b[0m\n\u001b[1;32m--> 308\u001b[1;33m         \u001b[0mconn\u001b[0m \u001b[1;33m=\u001b[0m \u001b[0mself\u001b[0m\u001b[1;33m.\u001b[0m\u001b[0m_new_conn\u001b[0m\u001b[1;33m(\u001b[0m\u001b[1;33m)\u001b[0m\u001b[1;33m\u001b[0m\u001b[1;33m\u001b[0m\u001b[0m\n\u001b[0m\u001b[0;32m    309\u001b[0m         \u001b[0mhostname\u001b[0m \u001b[1;33m=\u001b[0m \u001b[0mself\u001b[0m\u001b[1;33m.\u001b[0m\u001b[0mhost\u001b[0m\u001b[1;33m\u001b[0m\u001b[1;33m\u001b[0m\u001b[0m\n",
      "\u001b[1;32mC:\\Python38\\lib\\site-packages\\urllib3\\connection.py\u001b[0m in \u001b[0;36m_new_conn\u001b[1;34m(self)\u001b[0m\n\u001b[0;32m    170\u001b[0m         \u001b[1;32mexcept\u001b[0m \u001b[0mSocketError\u001b[0m \u001b[1;32mas\u001b[0m \u001b[0me\u001b[0m\u001b[1;33m:\u001b[0m\u001b[1;33m\u001b[0m\u001b[1;33m\u001b[0m\u001b[0m\n\u001b[1;32m--> 171\u001b[1;33m             raise NewConnectionError(\n\u001b[0m\u001b[0;32m    172\u001b[0m                 \u001b[0mself\u001b[0m\u001b[1;33m,\u001b[0m \u001b[1;34m\"Failed to establish a new connection: %s\"\u001b[0m \u001b[1;33m%\u001b[0m \u001b[0me\u001b[0m\u001b[1;33m\u001b[0m\u001b[1;33m\u001b[0m\u001b[0m\n",
      "\u001b[1;31mNewConnectionError\u001b[0m: <urllib3.connection.HTTPSConnection object at 0x000001A2C9E9C4F0>: Failed to establish a new connection: [WinError 10060] A connection attempt failed because the connected party did not properly respond after a period of time, or established connection failed because connected host has failed to respond",
      "\nDuring handling of the above exception, another exception occurred:\n",
      "\u001b[1;31mMaxRetryError\u001b[0m                             Traceback (most recent call last)",
      "\u001b[1;32mC:\\Python38\\lib\\site-packages\\requests\\adapters.py\u001b[0m in \u001b[0;36msend\u001b[1;34m(self, request, stream, timeout, verify, cert, proxies)\u001b[0m\n\u001b[0;32m    438\u001b[0m             \u001b[1;32mif\u001b[0m \u001b[1;32mnot\u001b[0m \u001b[0mchunked\u001b[0m\u001b[1;33m:\u001b[0m\u001b[1;33m\u001b[0m\u001b[1;33m\u001b[0m\u001b[0m\n\u001b[1;32m--> 439\u001b[1;33m                 resp = conn.urlopen(\n\u001b[0m\u001b[0;32m    440\u001b[0m                     \u001b[0mmethod\u001b[0m\u001b[1;33m=\u001b[0m\u001b[0mrequest\u001b[0m\u001b[1;33m.\u001b[0m\u001b[0mmethod\u001b[0m\u001b[1;33m,\u001b[0m\u001b[1;33m\u001b[0m\u001b[1;33m\u001b[0m\u001b[0m\n",
      "\u001b[1;32mC:\\Python38\\lib\\site-packages\\urllib3\\connectionpool.py\u001b[0m in \u001b[0;36murlopen\u001b[1;34m(self, method, url, body, headers, retries, redirect, assert_same_host, timeout, pool_timeout, release_conn, chunked, body_pos, **response_kw)\u001b[0m\n\u001b[0;32m    723\u001b[0m \u001b[1;33m\u001b[0m\u001b[0m\n\u001b[1;32m--> 724\u001b[1;33m             retries = retries.increment(\n\u001b[0m\u001b[0;32m    725\u001b[0m                 \u001b[0mmethod\u001b[0m\u001b[1;33m,\u001b[0m \u001b[0murl\u001b[0m\u001b[1;33m,\u001b[0m \u001b[0merror\u001b[0m\u001b[1;33m=\u001b[0m\u001b[0me\u001b[0m\u001b[1;33m,\u001b[0m \u001b[0m_pool\u001b[0m\u001b[1;33m=\u001b[0m\u001b[0mself\u001b[0m\u001b[1;33m,\u001b[0m \u001b[0m_stacktrace\u001b[0m\u001b[1;33m=\u001b[0m\u001b[0msys\u001b[0m\u001b[1;33m.\u001b[0m\u001b[0mexc_info\u001b[0m\u001b[1;33m(\u001b[0m\u001b[1;33m)\u001b[0m\u001b[1;33m[\u001b[0m\u001b[1;36m2\u001b[0m\u001b[1;33m]\u001b[0m\u001b[1;33m\u001b[0m\u001b[1;33m\u001b[0m\u001b[0m\n",
      "\u001b[1;32mC:\\Python38\\lib\\site-packages\\urllib3\\util\\retry.py\u001b[0m in \u001b[0;36mincrement\u001b[1;34m(self, method, url, response, error, _pool, _stacktrace)\u001b[0m\n\u001b[0;32m    438\u001b[0m         \u001b[1;32mif\u001b[0m \u001b[0mnew_retry\u001b[0m\u001b[1;33m.\u001b[0m\u001b[0mis_exhausted\u001b[0m\u001b[1;33m(\u001b[0m\u001b[1;33m)\u001b[0m\u001b[1;33m:\u001b[0m\u001b[1;33m\u001b[0m\u001b[1;33m\u001b[0m\u001b[0m\n\u001b[1;32m--> 439\u001b[1;33m             \u001b[1;32mraise\u001b[0m \u001b[0mMaxRetryError\u001b[0m\u001b[1;33m(\u001b[0m\u001b[0m_pool\u001b[0m\u001b[1;33m,\u001b[0m \u001b[0murl\u001b[0m\u001b[1;33m,\u001b[0m \u001b[0merror\u001b[0m \u001b[1;32mor\u001b[0m \u001b[0mResponseError\u001b[0m\u001b[1;33m(\u001b[0m\u001b[0mcause\u001b[0m\u001b[1;33m)\u001b[0m\u001b[1;33m)\u001b[0m\u001b[1;33m\u001b[0m\u001b[1;33m\u001b[0m\u001b[0m\n\u001b[0m\u001b[0;32m    440\u001b[0m \u001b[1;33m\u001b[0m\u001b[0m\n",
      "\u001b[1;31mMaxRetryError\u001b[0m: HTTPSConnectionPool(host='de.wikipedia.org', port=443): Max retries exceeded with url: /w/index.php?title=Wikipedia:Artikel_illustrieren&diff=prev&oldid=47220746 (Caused by NewConnectionError('<urllib3.connection.HTTPSConnection object at 0x000001A2C9E9C4F0>: Failed to establish a new connection: [WinError 10060] A connection attempt failed because the connected party did not properly respond after a period of time, or established connection failed because connected host has failed to respond'))",
      "\nDuring handling of the above exception, another exception occurred:\n",
      "\u001b[1;31mConnectionError\u001b[0m                           Traceback (most recent call last)",
      "\u001b[1;32m<ipython-input-32-5e4d18528835>\u001b[0m in \u001b[0;36m<module>\u001b[1;34m\u001b[0m\n\u001b[1;32m----> 1\u001b[1;33m \u001b[0mde_illdates\u001b[0m \u001b[1;33m=\u001b[0m \u001b[0mprocess_languagelinksdates\u001b[0m\u001b[1;33m(\u001b[0m\u001b[1;34m'de'\u001b[0m\u001b[1;33m)\u001b[0m\u001b[1;33m\u001b[0m\u001b[1;33m\u001b[0m\u001b[0m\n\u001b[0m",
      "\u001b[1;32m<ipython-input-31-773a115fa4c6>\u001b[0m in \u001b[0;36mprocess_languagelinksdates\u001b[1;34m(lang)\u001b[0m\n\u001b[0;32m     44\u001b[0m             \u001b[0mtimestamp\u001b[0m\u001b[1;33m,\u001b[0m\u001b[0mrevid\u001b[0m \u001b[1;33m=\u001b[0m \u001b[0mrevision\u001b[0m\u001b[1;33m[\u001b[0m\u001b[1;36m0\u001b[0m\u001b[1;33m]\u001b[0m\u001b[1;33m,\u001b[0m\u001b[0mrevision\u001b[0m\u001b[1;33m[\u001b[0m\u001b[1;36m1\u001b[0m\u001b[1;33m]\u001b[0m\u001b[1;33m\u001b[0m\u001b[1;33m\u001b[0m\u001b[0m\n\u001b[0;32m     45\u001b[0m \u001b[1;33m\u001b[0m\u001b[0m\n\u001b[1;32m---> 46\u001b[1;33m             \u001b[0mbit\u001b[0m \u001b[1;33m=\u001b[0m \u001b[0mget_addedcontent\u001b[0m\u001b[1;33m(\u001b[0m\u001b[0mpage\u001b[0m\u001b[1;33m,\u001b[0m\u001b[0mrevid\u001b[0m\u001b[1;33m,\u001b[0m\u001b[0mlang\u001b[0m\u001b[1;33m)\u001b[0m\u001b[1;33m\u001b[0m\u001b[1;33m\u001b[0m\u001b[0m\n\u001b[0m\u001b[0;32m     47\u001b[0m             \u001b[1;32mif\u001b[0m \u001b[0mbit\u001b[0m \u001b[1;33m==\u001b[0m \u001b[1;32mNone\u001b[0m\u001b[1;33m:\u001b[0m\u001b[1;33m\u001b[0m\u001b[1;33m\u001b[0m\u001b[0m\n\u001b[0;32m     48\u001b[0m                 \u001b[1;32mcontinue\u001b[0m\u001b[1;33m\u001b[0m\u001b[1;33m\u001b[0m\u001b[0m\n",
      "\u001b[1;32m<ipython-input-14-7bf847d6968b>\u001b[0m in \u001b[0;36mget_addedcontent\u001b[1;34m(pagetitle, revid, lang)\u001b[0m\n\u001b[0;32m      8\u001b[0m     \u001b[1;31m#print(url)\u001b[0m\u001b[1;33m\u001b[0m\u001b[1;33m\u001b[0m\u001b[1;33m\u001b[0m\u001b[0m\n\u001b[0;32m      9\u001b[0m \u001b[1;33m\u001b[0m\u001b[0m\n\u001b[1;32m---> 10\u001b[1;33m     \u001b[0msoup\u001b[0m \u001b[1;33m=\u001b[0m \u001b[0mBeautifulSoup\u001b[0m\u001b[1;33m(\u001b[0m\u001b[0mrequests\u001b[0m\u001b[1;33m.\u001b[0m\u001b[0mget\u001b[0m\u001b[1;33m(\u001b[0m\u001b[0murl\u001b[0m\u001b[1;33m)\u001b[0m\u001b[1;33m.\u001b[0m\u001b[0mtext\u001b[0m\u001b[1;33m,\u001b[0m \u001b[1;34m\"html.parser\"\u001b[0m\u001b[1;33m)\u001b[0m\u001b[1;33m\u001b[0m\u001b[1;33m\u001b[0m\u001b[0m\n\u001b[0m\u001b[0;32m     11\u001b[0m     \u001b[0mrevadds\u001b[0m \u001b[1;33m=\u001b[0m \u001b[0msoup\u001b[0m\u001b[1;33m.\u001b[0m\u001b[0mfind_all\u001b[0m\u001b[1;33m(\u001b[0m\u001b[1;34m\"td\"\u001b[0m\u001b[1;33m,\u001b[0m \u001b[0mclass_\u001b[0m\u001b[1;33m=\u001b[0m\u001b[1;34m\"diff-addedline\"\u001b[0m\u001b[1;33m)\u001b[0m\u001b[1;33m\u001b[0m\u001b[1;33m\u001b[0m\u001b[0m\n\u001b[0;32m     12\u001b[0m     \u001b[0mrevadds\u001b[0m \u001b[1;33m=\u001b[0m \u001b[1;33m[\u001b[0m \u001b[0mstr\u001b[0m\u001b[1;33m(\u001b[0m\u001b[0mr\u001b[0m\u001b[1;33m)\u001b[0m \u001b[1;32mfor\u001b[0m \u001b[0mr\u001b[0m \u001b[1;32min\u001b[0m \u001b[0mrevadds\u001b[0m \u001b[1;32mif\u001b[0m \u001b[1;34m\"<div>\"\u001b[0m \u001b[1;32min\u001b[0m \u001b[0mstr\u001b[0m\u001b[1;33m(\u001b[0m\u001b[0mr\u001b[0m\u001b[1;33m)\u001b[0m \u001b[1;33m]\u001b[0m\u001b[1;33m\u001b[0m\u001b[1;33m\u001b[0m\u001b[0m\n",
      "\u001b[1;32mC:\\Python38\\lib\\site-packages\\requests\\api.py\u001b[0m in \u001b[0;36mget\u001b[1;34m(url, params, **kwargs)\u001b[0m\n\u001b[0;32m     74\u001b[0m \u001b[1;33m\u001b[0m\u001b[0m\n\u001b[0;32m     75\u001b[0m     \u001b[0mkwargs\u001b[0m\u001b[1;33m.\u001b[0m\u001b[0msetdefault\u001b[0m\u001b[1;33m(\u001b[0m\u001b[1;34m'allow_redirects'\u001b[0m\u001b[1;33m,\u001b[0m \u001b[1;32mTrue\u001b[0m\u001b[1;33m)\u001b[0m\u001b[1;33m\u001b[0m\u001b[1;33m\u001b[0m\u001b[0m\n\u001b[1;32m---> 76\u001b[1;33m     \u001b[1;32mreturn\u001b[0m \u001b[0mrequest\u001b[0m\u001b[1;33m(\u001b[0m\u001b[1;34m'get'\u001b[0m\u001b[1;33m,\u001b[0m \u001b[0murl\u001b[0m\u001b[1;33m,\u001b[0m \u001b[0mparams\u001b[0m\u001b[1;33m=\u001b[0m\u001b[0mparams\u001b[0m\u001b[1;33m,\u001b[0m \u001b[1;33m**\u001b[0m\u001b[0mkwargs\u001b[0m\u001b[1;33m)\u001b[0m\u001b[1;33m\u001b[0m\u001b[1;33m\u001b[0m\u001b[0m\n\u001b[0m\u001b[0;32m     77\u001b[0m \u001b[1;33m\u001b[0m\u001b[0m\n\u001b[0;32m     78\u001b[0m \u001b[1;33m\u001b[0m\u001b[0m\n",
      "\u001b[1;32mC:\\Python38\\lib\\site-packages\\requests\\api.py\u001b[0m in \u001b[0;36mrequest\u001b[1;34m(method, url, **kwargs)\u001b[0m\n\u001b[0;32m     59\u001b[0m     \u001b[1;31m# cases, and look like a memory leak in others.\u001b[0m\u001b[1;33m\u001b[0m\u001b[1;33m\u001b[0m\u001b[1;33m\u001b[0m\u001b[0m\n\u001b[0;32m     60\u001b[0m     \u001b[1;32mwith\u001b[0m \u001b[0msessions\u001b[0m\u001b[1;33m.\u001b[0m\u001b[0mSession\u001b[0m\u001b[1;33m(\u001b[0m\u001b[1;33m)\u001b[0m \u001b[1;32mas\u001b[0m \u001b[0msession\u001b[0m\u001b[1;33m:\u001b[0m\u001b[1;33m\u001b[0m\u001b[1;33m\u001b[0m\u001b[0m\n\u001b[1;32m---> 61\u001b[1;33m         \u001b[1;32mreturn\u001b[0m \u001b[0msession\u001b[0m\u001b[1;33m.\u001b[0m\u001b[0mrequest\u001b[0m\u001b[1;33m(\u001b[0m\u001b[0mmethod\u001b[0m\u001b[1;33m=\u001b[0m\u001b[0mmethod\u001b[0m\u001b[1;33m,\u001b[0m \u001b[0murl\u001b[0m\u001b[1;33m=\u001b[0m\u001b[0murl\u001b[0m\u001b[1;33m,\u001b[0m \u001b[1;33m**\u001b[0m\u001b[0mkwargs\u001b[0m\u001b[1;33m)\u001b[0m\u001b[1;33m\u001b[0m\u001b[1;33m\u001b[0m\u001b[0m\n\u001b[0m\u001b[0;32m     62\u001b[0m \u001b[1;33m\u001b[0m\u001b[0m\n\u001b[0;32m     63\u001b[0m \u001b[1;33m\u001b[0m\u001b[0m\n",
      "\u001b[1;32mC:\\Python38\\lib\\site-packages\\requests\\sessions.py\u001b[0m in \u001b[0;36mrequest\u001b[1;34m(self, method, url, params, data, headers, cookies, files, auth, timeout, allow_redirects, proxies, hooks, stream, verify, cert, json)\u001b[0m\n\u001b[0;32m    528\u001b[0m         }\n\u001b[0;32m    529\u001b[0m         \u001b[0msend_kwargs\u001b[0m\u001b[1;33m.\u001b[0m\u001b[0mupdate\u001b[0m\u001b[1;33m(\u001b[0m\u001b[0msettings\u001b[0m\u001b[1;33m)\u001b[0m\u001b[1;33m\u001b[0m\u001b[1;33m\u001b[0m\u001b[0m\n\u001b[1;32m--> 530\u001b[1;33m         \u001b[0mresp\u001b[0m \u001b[1;33m=\u001b[0m \u001b[0mself\u001b[0m\u001b[1;33m.\u001b[0m\u001b[0msend\u001b[0m\u001b[1;33m(\u001b[0m\u001b[0mprep\u001b[0m\u001b[1;33m,\u001b[0m \u001b[1;33m**\u001b[0m\u001b[0msend_kwargs\u001b[0m\u001b[1;33m)\u001b[0m\u001b[1;33m\u001b[0m\u001b[1;33m\u001b[0m\u001b[0m\n\u001b[0m\u001b[0;32m    531\u001b[0m \u001b[1;33m\u001b[0m\u001b[0m\n\u001b[0;32m    532\u001b[0m         \u001b[1;32mreturn\u001b[0m \u001b[0mresp\u001b[0m\u001b[1;33m\u001b[0m\u001b[1;33m\u001b[0m\u001b[0m\n",
      "\u001b[1;32mC:\\Python38\\lib\\site-packages\\requests\\sessions.py\u001b[0m in \u001b[0;36msend\u001b[1;34m(self, request, **kwargs)\u001b[0m\n\u001b[0;32m    641\u001b[0m \u001b[1;33m\u001b[0m\u001b[0m\n\u001b[0;32m    642\u001b[0m         \u001b[1;31m# Send the request\u001b[0m\u001b[1;33m\u001b[0m\u001b[1;33m\u001b[0m\u001b[1;33m\u001b[0m\u001b[0m\n\u001b[1;32m--> 643\u001b[1;33m         \u001b[0mr\u001b[0m \u001b[1;33m=\u001b[0m \u001b[0madapter\u001b[0m\u001b[1;33m.\u001b[0m\u001b[0msend\u001b[0m\u001b[1;33m(\u001b[0m\u001b[0mrequest\u001b[0m\u001b[1;33m,\u001b[0m \u001b[1;33m**\u001b[0m\u001b[0mkwargs\u001b[0m\u001b[1;33m)\u001b[0m\u001b[1;33m\u001b[0m\u001b[1;33m\u001b[0m\u001b[0m\n\u001b[0m\u001b[0;32m    644\u001b[0m \u001b[1;33m\u001b[0m\u001b[0m\n\u001b[0;32m    645\u001b[0m         \u001b[1;31m# Total elapsed time of the request (approximately)\u001b[0m\u001b[1;33m\u001b[0m\u001b[1;33m\u001b[0m\u001b[1;33m\u001b[0m\u001b[0m\n",
      "\u001b[1;32mC:\\Python38\\lib\\site-packages\\requests\\adapters.py\u001b[0m in \u001b[0;36msend\u001b[1;34m(self, request, stream, timeout, verify, cert, proxies)\u001b[0m\n\u001b[0;32m    514\u001b[0m                 \u001b[1;32mraise\u001b[0m \u001b[0mSSLError\u001b[0m\u001b[1;33m(\u001b[0m\u001b[0me\u001b[0m\u001b[1;33m,\u001b[0m \u001b[0mrequest\u001b[0m\u001b[1;33m=\u001b[0m\u001b[0mrequest\u001b[0m\u001b[1;33m)\u001b[0m\u001b[1;33m\u001b[0m\u001b[1;33m\u001b[0m\u001b[0m\n\u001b[0;32m    515\u001b[0m \u001b[1;33m\u001b[0m\u001b[0m\n\u001b[1;32m--> 516\u001b[1;33m             \u001b[1;32mraise\u001b[0m \u001b[0mConnectionError\u001b[0m\u001b[1;33m(\u001b[0m\u001b[0me\u001b[0m\u001b[1;33m,\u001b[0m \u001b[0mrequest\u001b[0m\u001b[1;33m=\u001b[0m\u001b[0mrequest\u001b[0m\u001b[1;33m)\u001b[0m\u001b[1;33m\u001b[0m\u001b[1;33m\u001b[0m\u001b[0m\n\u001b[0m\u001b[0;32m    517\u001b[0m \u001b[1;33m\u001b[0m\u001b[0m\n\u001b[0;32m    518\u001b[0m         \u001b[1;32mexcept\u001b[0m \u001b[0mClosedPoolError\u001b[0m \u001b[1;32mas\u001b[0m \u001b[0me\u001b[0m\u001b[1;33m:\u001b[0m\u001b[1;33m\u001b[0m\u001b[1;33m\u001b[0m\u001b[0m\n",
      "\u001b[1;31mConnectionError\u001b[0m: HTTPSConnectionPool(host='de.wikipedia.org', port=443): Max retries exceeded with url: /w/index.php?title=Wikipedia:Artikel_illustrieren&diff=prev&oldid=47220746 (Caused by NewConnectionError('<urllib3.connection.HTTPSConnection object at 0x000001A2C9E9C4F0>: Failed to establish a new connection: [WinError 10060] A connection attempt failed because the connected party did not properly respond after a period of time, or established connection failed because connected host has failed to respond'))"
     ]
    }
   ],
   "source": [
    "de_illdates = process_languagelinksdates('de')"
   ]
  },
  {
   "cell_type": "code",
   "execution_count": null,
   "metadata": {},
   "outputs": [],
   "source": [
    "with open('interlanguagelinks_dates_de.json', 'w') as f:\n",
    "    json.dump(de_illdates, f)"
   ]
  },
  {
   "cell_type": "code",
   "execution_count": null,
   "metadata": {
    "tags": []
   },
   "outputs": [],
   "source": [
    "es_illdates = process_languagelinksdates('es')"
   ]
  },
  {
   "cell_type": "code",
   "execution_count": null,
   "metadata": {},
   "outputs": [],
   "source": [
    "with open('interlanguagelinks_dates_es.json', 'w') as f:\n",
    "    json.dump(es_illdates, f)"
   ]
  },
  {
   "cell_type": "code",
   "execution_count": null,
   "metadata": {
    "tags": []
   },
   "outputs": [],
   "source": [
    "ja_illdates = process_languagelinksdates('ja')"
   ]
  },
  {
   "cell_type": "code",
   "execution_count": null,
   "metadata": {},
   "outputs": [],
   "source": [
    "with open('interlanguagelinks_dates_ja.json', 'w') as f:\n",
    "    json.dump(ja_illdates, f)"
   ]
  },
  {
   "cell_type": "code",
   "execution_count": null,
   "metadata": {},
   "outputs": [],
   "source": [
    "fr_illdates = process_languagelinksdates('fr')"
   ]
  },
  {
   "cell_type": "code",
   "execution_count": null,
   "metadata": {},
   "outputs": [],
   "source": [
    "with open('interlanguagelinks_dates_fr.json', 'w') as f:\n",
    "    json.dump(fr_illdates, f)"
   ]
  },
  {
   "cell_type": "code",
   "execution_count": null,
   "metadata": {},
   "outputs": [],
   "source": [
    "en_illdates = process_languagelinksdates('en')"
   ]
  },
  {
   "cell_type": "code",
   "execution_count": null,
   "metadata": {},
   "outputs": [],
   "source": [
    "with open('interlanguagelinks_dates_en.json', 'w') as f:\n",
    "    json.dump(en_illdates, f)"
   ]
  },
  {
   "cell_type": "markdown",
   "metadata": {},
   "source": [
    "# Load ``interlanguagelinks_dates_[lang].json`` from disk and clean\n",
    "Output ``interlanguagelinks_dates_[lang]_cleaned.json``"
   ]
  },
  {
   "cell_type": "code",
   "execution_count": null,
   "metadata": {},
   "outputs": [],
   "source": [
    "de_illdates_load = json.load(\"interlanguagelinks_dates_de.json\")\n",
    "en_illdates_load = json.load(\"interlanguagelinks_dates_en.json\")\n",
    "es_illdates_load = json.load(\"interlanguagelinks_dates_es.json\")\n",
    "fr_illdates_load = json.load(\"interlanguagelinks_dates_fr.json\")\n",
    "ja_illdates_load = json.load(\"interlanguagelinks_dates_ja.json\")"
   ]
  },
  {
   "cell_type": "code",
   "execution_count": null,
   "metadata": {},
   "outputs": [],
   "source": [
    "# clean the ill info data\n"
   ]
  },
  {
   "cell_type": "code",
   "execution_count": null,
   "metadata": {},
   "outputs": [],
   "source": [
    "# output the cleaned data\n",
    "with open('interlanguagelinks_dates_de_cleaned.json', 'w') as f:\n",
    "    json.dump(de_illdates_cleaned, f)"
   ]
  }
 ],
 "metadata": {
  "kernelspec": {
   "display_name": "Python 3.8.2 64-bit",
   "language": "python",
   "name": "python_defaultSpec_1598471241742"
  },
  "language_info": {
   "codemirror_mode": {
    "name": "ipython",
    "version": 3
   },
   "file_extension": ".py",
   "mimetype": "text/x-python",
   "name": "python",
   "nbconvert_exporter": "python",
   "pygments_lexer": "ipython3",
   "version": "3.8.2-final"
  }
 },
 "nbformat": 4,
 "nbformat_minor": 4
}