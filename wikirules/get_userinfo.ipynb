{
 "cells": [
  {
   "cell_type": "markdown",
   "metadata": {},
   "source": [
    "# Get user information \n",
    "\n",
    "This code is heavily taken from Brian Keegan's script, \"Analysis_2017.ipynb\", shared in 2020. It relies on wikifunctions.py, also shared by Brian Keegan. Sohyeon Hwang put together this .ipynb in July + August 2020"
   ]
  },
  {
   "cell_type": "code",
   "execution_count": 2,
   "metadata": {},
   "outputs": [],
   "source": [
    "import argparse\n",
    "import re, random, urllib, simplejson, copy, itertools\n",
    "import urllib.parse, urllib.request, urllib.error\n",
    "from datetime import datetime\n",
    "# urllib.parse, urllib.request and urllib.error\n",
    "\n",
    "import pandas as pd\n",
    "import numpy as np\n",
    "import matplotlib.pyplot as plt\n",
    "import seaborn as sb\n",
    "sb.set_style('whitegrid')\n",
    "\n",
    "import requests, json, time, os\n",
    "from pathlib import Path\n",
    "from copy import deepcopy\n",
    "\n",
    "import networkx as nx\n",
    "from operator import itemgetter\n",
    "from collections import Counter\n",
    "from bs4 import BeautifulSoup\n",
    "\n",
    "import wikifunctions as wf\n",
    "\n",
    "from multiprocessing import Pool, Manager, Process, cpu_count\n",
    "from functools import partial"
   ]
  },
  {
   "cell_type": "code",
   "execution_count": 3,
   "metadata": {},
   "outputs": [],
   "source": [
    "# Some helpful structures\n",
    "\"\"\"\n",
    "Subject Talk    Name        Description\n",
    "0       1       Main        Articles, lists, & redirects\n",
    "2       3       User        User pages & sandboxes\n",
    "4       5       Wikipedia   Policy, essay, & processes\n",
    "-6       7       File        Media file descriptions\n",
    "-8       9       MediaWiki   Auto-generated pages\n",
    "10      11      Template    Infoboxes, nav boxes\n",
    "-12      13      Help        Software help\n",
    "14      15      Category    Categorized pages\n",
    "100     101     Portal      Topics & WikiProjects\n",
    "\"\"\"\n",
    "langs = [\"de\",\"en\",\"es\",\"fr\",\"ja\"]\n",
    "namespaces = [0, 1, 2, 3, 4, 5, 10, 11, 14, 15, 100, 101]\n"
   ]
  },
  {
   "cell_type": "markdown",
   "metadata": {},
   "source": [
    "## Load data\n",
    "(1) Source data (lists of rules)\n",
    "\n",
    "(2) Revision history tsvs"
   ]
  },
  {
   "cell_type": "code",
   "execution_count": 4,
   "metadata": {},
   "outputs": [],
   "source": [
    "# list of rules\n",
    "rules_df_es = pd.read_csv(Path(os.getcwd()) / \"dewiki.tsv\",sep=\"\\t\",header=None)\n",
    "rules_df_en = pd.read_csv(Path(os.getcwd()) / \"enwiki.tsv\",sep=\"\\t\",header=None)\n",
    "rules_df_es = pd.read_csv(Path(os.getcwd()) / \"eswiki.tsv\",sep=\"\\t\",header=None)\n",
    "rules_df_fr = pd.read_csv(Path(os.getcwd()) / \"frwiki.tsv\",sep=\"\\t\",header=None)\n",
    "rules_df_ja = pd.read_csv(Path(os.getcwd()) / \"jawiki.tsv\",sep=\"\\t\",header=None)\n",
    "rules_dfs = [rules_df_es,rules_df_en,rules_df_es,rules_df_fr,rules_df_ja]"
   ]
  },
  {
   "cell_type": "code",
   "execution_count": 5,
   "metadata": {},
   "outputs": [],
   "source": [
    "# revision history tsvs\n",
    "rev_path = Path(os.getcwd()) / \"output_rulepagerevs\" / \"2020-07-31\"\n",
    "\n",
    "rev_df_de = pd.read_csv( rev_path / \"de_revisions.tsv\",sep='\\t',header=0,encoding='utf8',parse_dates=['date','timestamp'])\n",
    "rev_df_en = pd.read_csv( rev_path / \"en_revisions.tsv\",sep='\\t',header=0,encoding='utf8',parse_dates=['date','timestamp'])\n",
    "rev_df_es = pd.read_csv( rev_path / \"es_revisions.tsv\",sep='\\t',header=0,encoding='utf8',parse_dates=['date','timestamp'])\n",
    "rev_df_fr = pd.read_csv( rev_path / \"fr_revisions.tsv\",sep='\\t',header=0,encoding='utf8',parse_dates=['date','timestamp'])\n",
    "rev_df_ja = pd.read_csv( rev_path / \"ja_revisions.tsv\",sep='\\t',header=0,encoding='utf8',parse_dates=['date','timestamp'])\n",
    "rev_dfs = [rev_df_de,rev_df_en,rev_df_es,rev_df_fr,rev_df_ja]\n",
    "rev_dfs_dict = { \"rev_df_de\":rev_df_de, \"rev_df_en\":rev_df_en, \"rev_df_es\":rev_df_es, \"rev_df_fr\":rev_df_fr, \"rev_df_ja\":rev_df_ja}"
   ]
  },
  {
   "cell_type": "code",
   "execution_count": 6,
   "metadata": {},
   "outputs": [],
   "source": [
    "# and talk page revision history tsvs\n",
    "talkrev_df_de = pd.read_csv( rev_path / \"de_revisions_talk.tsv\",sep='\\t',header=0,encoding='utf8',parse_dates=['date','timestamp'],low_memory=False)\n",
    "talkrev_df_en = pd.read_csv( rev_path / \"en_revisions_talk.tsv\",sep='\\t',header=0,encoding='utf8',parse_dates=['date','timestamp'],low_memory=False)\n",
    "talkrev_df_es = pd.read_csv( rev_path / \"es_revisions_talk.tsv\",sep='\\t',header=0,encoding='utf8',parse_dates=['date','timestamp'],low_memory=False)\n",
    "talkrev_df_fr = pd.read_csv( rev_path / \"fr_revisions_talk.tsv\",sep='\\t',header=0,encoding='utf8',parse_dates=['date','timestamp'],low_memory=False)\n",
    "talkrev_df_ja = pd.read_csv( rev_path / \"ja_revisions_talk.tsv\",sep='\\t',header=0,encoding='utf8',parse_dates=['date','timestamp'],low_memory=False)\n",
    "talkrev_dfs = [talkrev_df_de,talkrev_df_en,talkrev_df_es,talkrev_df_fr,talkrev_df_ja]\n",
    "talkrev_dfs_list = {\"talkrev_df_de\":talkrev_df_de,\"talkrev_df_en\":talkrev_df_en,\"talkrev_df_es\":talkrev_df_es,\"talkrev_df_fr\":talkrev_df_fr,\"talkrev_df_ja\":talkrev_df_ja}"
   ]
  },
  {
   "cell_type": "code",
   "execution_count": 7,
   "metadata": {},
   "outputs": [],
   "source": [
    "# get rid of duplicate revisions for each language edition\n",
    "for df in rev_dfs:\n",
    "    df.drop_duplicates(subset=['revid'],inplace=True)\n",
    "for df in talkrev_dfs:\n",
    "    df.drop_duplicates(subset=['revid'],inplace=True)"
   ]
  },
  {
   "cell_type": "markdown",
   "metadata": {},
   "source": [
    "## Bots\n",
    "Collect all known bots for each language edition so that we can exclude them from analysis.\n",
    "\n",
    "de\n",
    "- https://de.wikipedia.org/wiki/Kategorie:Wikipedia:Bots >>> https://de.wikipedia.org/wiki/Wikipedia:Bots/Liste_der_Bots\n",
    "- https://de.wikipedia.org/wiki/Kategorie:Benutzer:Bot\n",
    "\n",
    "en\n",
    "- https://en.wikipedia.org/wiki/Category:Wikipedia_bots\n",
    "- https://en.wikipedia.org/wiki/Category:All_Wikipedia_bots\n",
    "\n",
    "es\n",
    "- https://es.wikipedia.org/wiki/Categor%C3%ADa:Wikipedia:Bots\n",
    "\n",
    "fr\n",
    "- https://fr.wikipedia.org/wiki/Cat%C3%A9gorie:Bot_Wikip%C3%A9dia\n",
    "\n",
    "ja\n",
    "- https://ja.wikipedia.org/wiki/Wikipedia:Bot >>> https://ja.wikipedia.org/wiki/Wikipedia:Bot/%E3%82%B9%E3%83%86%E3%83%BC%E3%82%BF%E3%82%B9\n",
    "- https://ja.wikipedia.org/wiki/Category:Wikipedia_bots\n",
    "- https://ja.wikipedia.org/wiki/%E7%89%B9%E5%88%A5:%E7%99%BB%E9%8C%B2%E5%88%A9%E7%94%A8%E8%80%85%E4%B8%80%E8%A6%A7/bot"
   ]
  },
  {
   "cell_type": "code",
   "execution_count": 8,
   "metadata": {
    "tags": []
   },
   "outputs": [],
   "source": [
    "# Some functions in wikifunctions that need to be adapted here for some reason\n",
    "\n",
    "def get_cat_subcats(category_title,endpoint='en.wikipedia.org/w/api.php'):\n",
    "    \"\"\" \n",
    "    Mildy modified from Brian Keegan's code\n",
    "    \"\"\"\n",
    "    # Replace spaces with underscores\n",
    "    category_title = category_title.replace(' ','_')\n",
    "    \n",
    "    query_url = \"https://{0}\".format(endpoint)\n",
    "    query_params = {}\n",
    "    query_params['action'] = 'query'\n",
    "    query_params['list'] = 'categorymembers'\n",
    "    query_params['cmtitle'] = category_title\n",
    "    query_params['cmtype'] = 'subcat'\n",
    "    query_params['cmprop'] = 'title'\n",
    "    query_params['cmlimit'] = 500\n",
    "    query_params['format'] = 'json'\n",
    "    query_params['formatversion'] = 2\n",
    "        \n",
    "    json_response = requests.get(url = query_url, params = query_params).json()\n",
    "    \n",
    "    members = list()\n",
    "    \n",
    "    if 'categorymembers' in json_response['query']:\n",
    "        for member in json_response['query']['categorymembers']:\n",
    "            members.append(member['title'])\n",
    "    return members\n",
    "\n",
    "def get_cat_members(category_title,depth,endpoint,namespace):\n",
    "    # Replace spaces with underscores\n",
    "    category_title = category_title.replace(' ','_')\n",
    "    \n",
    "    query_url = \"https://{0}\".format(endpoint)\n",
    "    query_params = {}\n",
    "    query_params['action'] = 'query'\n",
    "    query_params['list'] = 'categorymembers'\n",
    "    query_params['cmtitle'] = category_title\n",
    "    query_params['cmprop'] = 'title'\n",
    "    query_params['cmnamespace'] = namespace\n",
    "    query_params['cmlimit'] = 500\n",
    "    query_params['format'] = 'json'\n",
    "    query_params['formatversion'] = 2\n",
    "        \n",
    "    json_response = requests.get(url = query_url, params = query_params).json()\n",
    "\n",
    "    members = list()\n",
    "    \n",
    "    if depth < 0:\n",
    "        return members\n",
    "    \n",
    "    if 'categorymembers' in json_response['query']:\n",
    "        for member in json_response['query']['categorymembers']:\n",
    "            members.append(member['title'])\n",
    "            \n",
    "    while True:\n",
    "        if 'continue' in json_response:\n",
    "            query_continue_params = deepcopy(query_params)\n",
    "            query_continue_params['cmcontinue'] = json_response['continue']['cmcontinue']\n",
    "            json_response = requests.get(url = query_url, params = query_continue_params).json()\n",
    "            if 'categorymembers' in json_response['query']:\n",
    "                for member in json_response['query']['categorymembers']:\n",
    "                    members.append(member['title'])\n",
    "        else:\n",
    "            break\n",
    "            \n",
    "    subcats = get_cat_subcats(category_title,endpoint=endpoint)\n",
    "    \n",
    "    for subcat in subcats:\n",
    "        members += get_cat_members(subcat,depth=depth-1,endpoint=endpoint,namespace=namespace)\n",
    "            \n",
    "    return members"
   ]
  },
  {
   "cell_type": "code",
   "execution_count": 9,
   "metadata": {
    "tags": []
   },
   "outputs": [
    {
     "output_type": "stream",
     "name": "stdout",
     "text": "There are 1934 bots in the All Wikipedia bots category.\n"
    }
   ],
   "source": [
    "# category_title,depth=1,endpoint='en.wikipedia.org/w/api.php',namespace=0\n",
    "# en / Category:Wikipedia bots / https://en.wikipedia.org/wiki/Category:Wikipedia_bots\n",
    "# this should incldue the All Wikipedia bots; otherwise, no other list to cross-check\n",
    "# User:\n",
    "bots_en = get_cat_members('Category:All Wikipedia bots',depth=3,endpoint='en.wikipedia.org/w/api.php',namespace='2')\n",
    "bots_en = [i[5:] for i in bots_en if 'User:' in i]\n",
    "bots_en += ['Cydebot', 'CommonsDelinker'] # from our user processing\n",
    "bots_en = list(set(bots_en))\n",
    "print(\"There are {} bots in the All Wikipedia bots category.\".format(len(bots_en)))\n",
    "\n",
    "with open('./bots/bots_en.json','w') as f:\n",
    "    json.dump(bots_en,f)"
   ]
  },
  {
   "cell_type": "code",
   "execution_count": 10,
   "metadata": {
    "tags": []
   },
   "outputs": [
    {
     "output_type": "stream",
     "name": "stdout",
     "text": "There are 459 bots in the Categoría:Wikipedia:Bots category.\n"
    }
   ],
   "source": [
    "# es / Categoría:Wikipedia:Bots / https://es.wikipedia.org/wiki/Categor%C3%ADa:Wikipedia:Bots / no cross check list\n",
    "# Usuario:\n",
    "bots_es = get_cat_members('Categoría:Wikipedia:Bots',depth=3,endpoint='es.wikipedia.org/w/api.php',namespace=\"2\")\n",
    "badsubcats = ['Categoría:Wikipedia:Plantillas de bots','Categoría:Wikipedia:Páginas que los bots no tienen permiso para editar']\n",
    "# 'Categoría:Wikipedia:Bots (en pruebas)' ?\n",
    "ignore = []\n",
    "for subcat in badsubcats:\n",
    "    ignore += get_cat_members(subcat,depth=3,endpoint='es.wikipedia.org/w/api.php',namespace=\"2\")\n",
    "\n",
    "bots_es = [i[8:] for i in bots_es if i not in ignore and 'Usuario:' in i]\n",
    "bots_es += ['LauraBot','Panderine!'] #Usuaria and a page from one of the badcats\n",
    "bots_es += ['CommonsDelinker', 'Maintenance script']\n",
    "bots_es = list(set(bots_es))\n",
    "print(\"There are {} bots in the Categoría:Wikipedia:Bots category.\".format(len(bots_es)))\n",
    "\n",
    "with open('./bots/bots_es.json','w') as f:\n",
    "    json.dump(bots_es,f)"
   ]
  },
  {
   "cell_type": "code",
   "execution_count": 11,
   "metadata": {
    "tags": []
   },
   "outputs": [
    {
     "output_type": "stream",
     "name": "stdout",
     "text": "There are 584 bots in the Kategorie:Benutzer:Bot category.\n"
    }
   ],
   "source": [
    "# de / Kategorie:Benutzer:Bot / https://de.wikipedia.org/wiki/Kategorie:Benutzer:Bot\n",
    "# List of: https://de.wikipedia.org/wiki/Wikipedia:Bots/Liste_der_Bots\n",
    "bots_de =  get_cat_members('Kategorie:Benutzer:Bot',depth=3,endpoint='de.wikipedia.org/w/api.php',namespace=\"2\")\n",
    "bots_de = [i[9:] for i in bots_de if 'Benutzer:' in i]\n",
    "bots_de += ['TaxonBota'] #Benutzerin manually added\n",
    "bots_de += ['Addbot', 'Sebbot']\n",
    "bots_de = list(set(bots_de))\n",
    "print(\"There are {} bots in the Kategorie:Benutzer:Bot category.\".format(len(bots_de)))\n",
    "\n",
    "with open('./bots/bots_de.json','w') as f:\n",
    "    json.dump(bots_de,f)"
   ]
  },
  {
   "cell_type": "code",
   "execution_count": 12,
   "metadata": {
    "tags": []
   },
   "outputs": [
    {
     "output_type": "stream",
     "name": "stdout",
     "text": "There are 581 bots in the Catégorie:Bot Wikipédia category.\n"
    }
   ],
   "source": [
    "# fr / Catégorie:Bot Wikipédia / https://fr.wikipedia.org/wiki/Cat%C3%A9gorie:Bot_Wikip%C3%A9dia\n",
    "# Utilisateur:\n",
    "# also retrieve from full list, group: https://fr.wikipedia.org/wiki/Sp%C3%A9cial:Liste_des_utilisateurs/bot\n",
    "bots_fr = get_cat_members('Catégorie:Bot Wikipédia',depth=3,endpoint='fr.wikipedia.org/w/api.php',namespace=\"2\")\n",
    "bots_fr = [i[12:] for i in bots_fr if 'Utilisateur:' in i]\n",
    "bots_fr += ['YiFeiBot']\n",
    "bots_fr = list(set(bots_fr))\n",
    "print(\"There are {} bots in the Catégorie:Bot Wikipédia category.\".format(len(bots_fr)))\n",
    "\n",
    "with open('./bots/bots_fr.json','w') as f:\n",
    "    json.dump(bots_fr,f)"
   ]
  },
  {
   "cell_type": "code",
   "execution_count": 13,
   "metadata": {
    "tags": []
   },
   "outputs": [
    {
     "output_type": "stream",
     "name": "stdout",
     "text": "There are 319 bots in the Category:Wikipedia bots (jawp) category.\n"
    }
   ],
   "source": [
    "# ja / Category:Wikipedia bots / https://ja.wikipedia.org/wiki/Category:Wikipedia_bots\n",
    "# 利用者:\n",
    "# List of bots (and their status): https://ja.wikipedia.org/wiki/Wikipedia:Bot/%E3%82%B9%E3%83%86%E3%83%BC%E3%82%BF%E3%82%B9\n",
    "# List of users to check against: https://ja.wikipedia.org/wiki/%E7%89%B9%E5%88%A5:%E7%99%BB%E9%8C%B2%E5%88%A9%E7%94%A8%E8%80%85%E4%B8%80%E8%A6%A7/bot\n",
    "bots_ja = get_cat_members('Category:Wikipedia bots',depth=3,endpoint='ja.wikipedia.org/w/api.php',namespace=\"2\")\n",
    "badsubcats = ['Category:Pywikipedia','Category:ボット関連テンプレート']\n",
    "# bad user: 利用者:クールトレイン７７７/bot/Ct777Bot/Userpage\n",
    "ignore = []\n",
    "for subcat in badsubcats:\n",
    "    ignore += get_cat_members(subcat,depth=3,endpoint='ja.wikipedia.org/w/api.php',namespace=\"2\")\n",
    "\n",
    "bots_ja = [i[4:] for i in bots_ja if i not in ignore and '利用者:' in i]\n",
    "bots_ja += ['SpBot', 'Aibot', 'CarsracBot']\n",
    "bots_ja = list(set(bots_ja))\n",
    "bots_ja.remove('クールトレイン７７７/bot/Ct777Bot/Userpage')\n",
    "print(\"There are {} bots in the Category:Wikipedia bots (jawp) category.\".format(len(bots_ja)))\n",
    "\n",
    "with open('./bots/bots_ja.json','w') as f:\n",
    "    json.dump(bots_ja,f)"
   ]
  },
  {
   "cell_type": "markdown",
   "metadata": {},
   "source": [
    "## Users\n",
    "From Keegan / Wikipedia_Scraping_2017.ipynb:\n",
    "\n",
    "Compute a list of the most active (most revisions in rule pages) and well-connected (most rules editied) users. Exclude IP editors and bots. Subset to only users who edited more than N pages and made more than N revisions."
   ]
  },
  {
   "cell_type": "code",
   "execution_count": 14,
   "metadata": {},
   "outputs": [],
   "source": [
    "\"\"\"\n",
    "handy function\n",
    "Adapted from Brian Keegan's code, Wikipedia_Scraping_2017.ipynb\n",
    "\"\"\"\n",
    "def compute_users(revdf,bots_var):\n",
    "    print(revdf.shape)\n",
    "    _df0 = revdf.loc[(revdf['userid'] != 0) & (~revdf['user'].isin(bots_var))]\n",
    "    print(_df0.shape)\n",
    "\n",
    "    _temp_revs = _df0.groupby('user')['revid'].agg(revs=pd.Series.nunique).reset_index().set_index('user')\n",
    "    _temp_pages = _df0.groupby('user')['page'].agg(pages=pd.Series.nunique).reset_index().set_index('user')\n",
    "    _df0['timestamp']=pd.to_datetime(_df0['timestamp'], utc=True)\n",
    "    _temp_time_min = _df0.groupby('user')['timestamp'].agg(ts_min='min').reset_index().set_index('user')\n",
    "    _temp_time_max = _df0.groupby('user')['timestamp'].agg(ts_max='max').reset_index().set_index('user')\n",
    "\n",
    "    _temp1 = _temp_revs.join(_temp_pages, on='user', how='outer',lsuffix='revsdf', rsuffix='pagesdf')\n",
    "    _temp2 = _temp_time_min.join(_temp_time_max, on='user', how='outer',lsuffix='mindf', rsuffix='maxdf')\n",
    "\n",
    "    _df1 = _temp1.join(_temp2, on='user', how='outer')\n",
    "\n",
    "    _num_pages = 1\n",
    "    _num_revisions = 2\n",
    "\n",
    "    top_users = _df1.query('pages > {0} & revs > {1}'.format(_num_pages,_num_revisions)).sort_values('pages',ascending=False)\n",
    "    _num_users = len(top_users)\n",
    "    print(\"There are {0} users who revised more than {1} page and made more than {2} revisions\".format(_num_users,_num_pages,_num_revisions))\n",
    "    return top_users\n"
   ]
  },
  {
   "cell_type": "code",
   "execution_count": 15,
   "metadata": {
    "tags": []
   },
   "outputs": [],
   "source": [
    "# combine all_revs per language edition (page + talk)\n",
    "allrevs_de = pd.concat([rev_df_de,talkrev_df_de])\n",
    "allrevs_en = pd.concat([rev_df_en,talkrev_df_en])\n",
    "allrevs_es = pd.concat([rev_df_es,talkrev_df_es])\n",
    "allrevs_fr = pd.concat([rev_df_fr,talkrev_df_fr])\n",
    "allrevs_ja = pd.concat([rev_df_ja,talkrev_df_ja])\n",
    "\n",
    "allrevs_langs = {'de':allrevs_de,'en':allrevs_en,'es':allrevs_es,'fr':allrevs_fr,'ja':allrevs_ja}"
   ]
  },
  {
   "cell_type": "code",
   "execution_count": 16,
   "metadata": {
    "tags": []
   },
   "outputs": [
    {
     "output_type": "stream",
     "name": "stdout",
     "text": "(175797, 18)\n(159668, 18)\nThere are 3024 users who revised more than 1 page and made more than 2 revisions\n"
    },
    {
     "output_type": "execute_result",
     "data": {
      "text/plain": "             revs  pages                    ts_min                    ts_max\nuser                                                                        \nKmhkmh       2539     22 2008-05-16 16:49:27+00:00 2020-07-29 19:36:01+00:00\nMatthiasb    2370     82 2006-11-02 20:08:17+00:00 2020-06-27 16:45:08+00:00\nCepheiden    2211     73 2006-03-04 22:53:31+00:00 2020-07-24 15:23:45+00:00\nW!B:         1719     70 2005-06-06 21:27:48+00:00 2020-03-18 06:57:28+00:00\nOliver S.Y.  1482     37 2006-08-27 16:23:38+00:00 2020-07-22 09:11:09+00:00",
      "text/html": "<div>\n<style scoped>\n    .dataframe tbody tr th:only-of-type {\n        vertical-align: middle;\n    }\n\n    .dataframe tbody tr th {\n        vertical-align: top;\n    }\n\n    .dataframe thead th {\n        text-align: right;\n    }\n</style>\n<table border=\"1\" class=\"dataframe\">\n  <thead>\n    <tr style=\"text-align: right;\">\n      <th></th>\n      <th>revs</th>\n      <th>pages</th>\n      <th>ts_min</th>\n      <th>ts_max</th>\n    </tr>\n    <tr>\n      <th>user</th>\n      <th></th>\n      <th></th>\n      <th></th>\n      <th></th>\n    </tr>\n  </thead>\n  <tbody>\n    <tr>\n      <th>Kmhkmh</th>\n      <td>2539</td>\n      <td>22</td>\n      <td>2008-05-16 16:49:27+00:00</td>\n      <td>2020-07-29 19:36:01+00:00</td>\n    </tr>\n    <tr>\n      <th>Matthiasb</th>\n      <td>2370</td>\n      <td>82</td>\n      <td>2006-11-02 20:08:17+00:00</td>\n      <td>2020-06-27 16:45:08+00:00</td>\n    </tr>\n    <tr>\n      <th>Cepheiden</th>\n      <td>2211</td>\n      <td>73</td>\n      <td>2006-03-04 22:53:31+00:00</td>\n      <td>2020-07-24 15:23:45+00:00</td>\n    </tr>\n    <tr>\n      <th>W!B:</th>\n      <td>1719</td>\n      <td>70</td>\n      <td>2005-06-06 21:27:48+00:00</td>\n      <td>2020-03-18 06:57:28+00:00</td>\n    </tr>\n    <tr>\n      <th>Oliver S.Y.</th>\n      <td>1482</td>\n      <td>37</td>\n      <td>2006-08-27 16:23:38+00:00</td>\n      <td>2020-07-22 09:11:09+00:00</td>\n    </tr>\n  </tbody>\n</table>\n</div>"
     },
     "metadata": {},
     "execution_count": 16
    }
   ],
   "source": [
    "# de\n",
    "top_users_de = compute_users(allrevs_de,bots_de)\n",
    "top_users_de.sort_values('revs',ascending=False).head(5)"
   ]
  },
  {
   "cell_type": "code",
   "execution_count": 17,
   "metadata": {
    "tags": []
   },
   "outputs": [
    {
     "output_type": "stream",
     "name": "stdout",
     "text": "(1314883, 18)\n(1227040, 18)\nThere are 13858 users who revised more than 1 page and made more than 2 revisions\n"
    },
    {
     "output_type": "execute_result",
     "data": {
      "text/plain": "               revs  pages                    ts_min                    ts_max\nuser                                                                          \nSMcCandlish   19004    356 2006-02-23 20:59:57+00:00 2020-07-25 03:40:39+00:00\nBlueboar      13597    128 2006-06-18 19:56:17+00:00 2020-07-28 12:46:08+00:00\nSlimVirgin    12618    167 2004-11-29 17:48:47+00:00 2020-07-24 20:04:08+00:00\nMasem         11351    127 2007-09-19 23:15:36+00:00 2020-07-30 14:47:44+00:00\nWhatamIdoing  11301    235 2007-09-15 04:51:30+00:00 2020-07-24 00:14:30+00:00",
      "text/html": "<div>\n<style scoped>\n    .dataframe tbody tr th:only-of-type {\n        vertical-align: middle;\n    }\n\n    .dataframe tbody tr th {\n        vertical-align: top;\n    }\n\n    .dataframe thead th {\n        text-align: right;\n    }\n</style>\n<table border=\"1\" class=\"dataframe\">\n  <thead>\n    <tr style=\"text-align: right;\">\n      <th></th>\n      <th>revs</th>\n      <th>pages</th>\n      <th>ts_min</th>\n      <th>ts_max</th>\n    </tr>\n    <tr>\n      <th>user</th>\n      <th></th>\n      <th></th>\n      <th></th>\n      <th></th>\n    </tr>\n  </thead>\n  <tbody>\n    <tr>\n      <th>SMcCandlish</th>\n      <td>19004</td>\n      <td>356</td>\n      <td>2006-02-23 20:59:57+00:00</td>\n      <td>2020-07-25 03:40:39+00:00</td>\n    </tr>\n    <tr>\n      <th>Blueboar</th>\n      <td>13597</td>\n      <td>128</td>\n      <td>2006-06-18 19:56:17+00:00</td>\n      <td>2020-07-28 12:46:08+00:00</td>\n    </tr>\n    <tr>\n      <th>SlimVirgin</th>\n      <td>12618</td>\n      <td>167</td>\n      <td>2004-11-29 17:48:47+00:00</td>\n      <td>2020-07-24 20:04:08+00:00</td>\n    </tr>\n    <tr>\n      <th>Masem</th>\n      <td>11351</td>\n      <td>127</td>\n      <td>2007-09-19 23:15:36+00:00</td>\n      <td>2020-07-30 14:47:44+00:00</td>\n    </tr>\n    <tr>\n      <th>WhatamIdoing</th>\n      <td>11301</td>\n      <td>235</td>\n      <td>2007-09-15 04:51:30+00:00</td>\n      <td>2020-07-24 00:14:30+00:00</td>\n    </tr>\n  </tbody>\n</table>\n</div>"
     },
     "metadata": {},
     "execution_count": 17
    }
   ],
   "source": [
    "#en\n",
    "allrevs_en['timestamp'] = pd.to_datetime(allrevs_en['timestamp'], errors='coerce', utc=True)\n",
    "top_users_en = compute_users(allrevs_en,bots_en)\n",
    "top_users_en.sort_values('revs',ascending=False).head(5)"
   ]
  },
  {
   "cell_type": "code",
   "execution_count": 18,
   "metadata": {
    "tags": []
   },
   "outputs": [
    {
     "output_type": "stream",
     "name": "stdout",
     "text": "(37569, 17)\n(31093, 17)\nThere are 890 users who revised more than 1 page and made more than 2 revisions\n"
    },
    {
     "output_type": "execute_result",
     "data": {
      "text/plain": "             revs  pages                    ts_min                    ts_max\nuser                                                                        \nDalton2       799     25 2008-06-27 11:53:42+00:00 2012-11-22 03:29:29+00:00\nAngus         330     45 2005-03-19 02:53:46+00:00 2018-11-27 05:58:10+00:00\nPoco a poco   330     42 2008-07-17 00:10:57+00:00 2019-05-08 18:16:09+00:00\nSanbec        329     52 2004-05-11 11:46:57+00:00 2010-12-22 11:22:41+00:00\nGanímedes     309     44 2010-09-04 20:01:21+00:00 2019-01-14 11:13:34+00:00",
      "text/html": "<div>\n<style scoped>\n    .dataframe tbody tr th:only-of-type {\n        vertical-align: middle;\n    }\n\n    .dataframe tbody tr th {\n        vertical-align: top;\n    }\n\n    .dataframe thead th {\n        text-align: right;\n    }\n</style>\n<table border=\"1\" class=\"dataframe\">\n  <thead>\n    <tr style=\"text-align: right;\">\n      <th></th>\n      <th>revs</th>\n      <th>pages</th>\n      <th>ts_min</th>\n      <th>ts_max</th>\n    </tr>\n    <tr>\n      <th>user</th>\n      <th></th>\n      <th></th>\n      <th></th>\n      <th></th>\n    </tr>\n  </thead>\n  <tbody>\n    <tr>\n      <th>Dalton2</th>\n      <td>799</td>\n      <td>25</td>\n      <td>2008-06-27 11:53:42+00:00</td>\n      <td>2012-11-22 03:29:29+00:00</td>\n    </tr>\n    <tr>\n      <th>Angus</th>\n      <td>330</td>\n      <td>45</td>\n      <td>2005-03-19 02:53:46+00:00</td>\n      <td>2018-11-27 05:58:10+00:00</td>\n    </tr>\n    <tr>\n      <th>Poco a poco</th>\n      <td>330</td>\n      <td>42</td>\n      <td>2008-07-17 00:10:57+00:00</td>\n      <td>2019-05-08 18:16:09+00:00</td>\n    </tr>\n    <tr>\n      <th>Sanbec</th>\n      <td>329</td>\n      <td>52</td>\n      <td>2004-05-11 11:46:57+00:00</td>\n      <td>2010-12-22 11:22:41+00:00</td>\n    </tr>\n    <tr>\n      <th>Ganímedes</th>\n      <td>309</td>\n      <td>44</td>\n      <td>2010-09-04 20:01:21+00:00</td>\n      <td>2019-01-14 11:13:34+00:00</td>\n    </tr>\n  </tbody>\n</table>\n</div>"
     },
     "metadata": {},
     "execution_count": 18
    }
   ],
   "source": [
    "#es\n",
    "top_users_es = compute_users(allrevs_es,bots_es)\n",
    "top_users_es.sort_values('revs',ascending=False).head(5)"
   ]
  },
  {
   "cell_type": "code",
   "execution_count": 19,
   "metadata": {
    "tags": []
   },
   "outputs": [
    {
     "output_type": "stream",
     "name": "stdout",
     "text": "(66967, 18)\n(61329, 18)\nThere are 1303 users who revised more than 1 page and made more than 2 revisions\n"
    },
    {
     "output_type": "execute_result",
     "data": {
      "text/plain": "          revs  pages                    ts_min                    ts_max\nuser                                                                     \nDaniel*D  2815     74 2006-10-25 19:25:17+00:00 2020-05-13 14:50:36+00:00\nAzurfrog  2701     90 2009-10-30 23:49:03+00:00 2020-07-10 11:14:20+00:00\nGkml      2159     25 2014-02-11 05:03:23+00:00 2019-03-27 07:51:38+00:00\nRyoga     2014     17 2016-11-12 02:10:22+00:00 2020-07-29 00:56:48+00:00\nArorae    1558     14 2004-09-04 13:07:24+00:00 2019-07-02 07:43:34+00:00",
      "text/html": "<div>\n<style scoped>\n    .dataframe tbody tr th:only-of-type {\n        vertical-align: middle;\n    }\n\n    .dataframe tbody tr th {\n        vertical-align: top;\n    }\n\n    .dataframe thead th {\n        text-align: right;\n    }\n</style>\n<table border=\"1\" class=\"dataframe\">\n  <thead>\n    <tr style=\"text-align: right;\">\n      <th></th>\n      <th>revs</th>\n      <th>pages</th>\n      <th>ts_min</th>\n      <th>ts_max</th>\n    </tr>\n    <tr>\n      <th>user</th>\n      <th></th>\n      <th></th>\n      <th></th>\n      <th></th>\n    </tr>\n  </thead>\n  <tbody>\n    <tr>\n      <th>Daniel*D</th>\n      <td>2815</td>\n      <td>74</td>\n      <td>2006-10-25 19:25:17+00:00</td>\n      <td>2020-05-13 14:50:36+00:00</td>\n    </tr>\n    <tr>\n      <th>Azurfrog</th>\n      <td>2701</td>\n      <td>90</td>\n      <td>2009-10-30 23:49:03+00:00</td>\n      <td>2020-07-10 11:14:20+00:00</td>\n    </tr>\n    <tr>\n      <th>Gkml</th>\n      <td>2159</td>\n      <td>25</td>\n      <td>2014-02-11 05:03:23+00:00</td>\n      <td>2019-03-27 07:51:38+00:00</td>\n    </tr>\n    <tr>\n      <th>Ryoga</th>\n      <td>2014</td>\n      <td>17</td>\n      <td>2016-11-12 02:10:22+00:00</td>\n      <td>2020-07-29 00:56:48+00:00</td>\n    </tr>\n    <tr>\n      <th>Arorae</th>\n      <td>1558</td>\n      <td>14</td>\n      <td>2004-09-04 13:07:24+00:00</td>\n      <td>2019-07-02 07:43:34+00:00</td>\n    </tr>\n  </tbody>\n</table>\n</div>"
     },
     "metadata": {},
     "execution_count": 19
    }
   ],
   "source": [
    "#fr\n",
    "top_users_fr = compute_users(allrevs_fr,bots_fr)\n",
    "top_users_fr.sort_values('revs',ascending=False).head(5)"
   ]
  },
  {
   "cell_type": "code",
   "execution_count": 20,
   "metadata": {
    "tags": []
   },
   "outputs": [
    {
     "output_type": "stream",
     "name": "stdout",
     "text": "(53750, 17)\n(48948, 17)\nThere are 1243 users who revised more than 1 page and made more than 2 revisions\n"
    },
    {
     "output_type": "execute_result",
     "data": {
      "text/plain": "           revs  pages                    ts_min                    ts_max\nuser                                                                      \nJms        1168     38 2007-10-20 22:30:53+00:00 2011-03-04 17:04:01+00:00\nKs aka 98   914     81 2006-06-15 18:16:29+00:00 2020-02-28 05:13:05+00:00\n青子守歌        550     78 2007-04-18 07:43:44+00:00 2020-06-13 03:05:24+00:00\nAotake      539    105 2006-09-08 04:55:24+00:00 2018-02-02 15:57:58+00:00\nAphaia      537     65 2004-02-19 12:53:19+00:00 2007-08-10 16:20:17+00:00",
      "text/html": "<div>\n<style scoped>\n    .dataframe tbody tr th:only-of-type {\n        vertical-align: middle;\n    }\n\n    .dataframe tbody tr th {\n        vertical-align: top;\n    }\n\n    .dataframe thead th {\n        text-align: right;\n    }\n</style>\n<table border=\"1\" class=\"dataframe\">\n  <thead>\n    <tr style=\"text-align: right;\">\n      <th></th>\n      <th>revs</th>\n      <th>pages</th>\n      <th>ts_min</th>\n      <th>ts_max</th>\n    </tr>\n    <tr>\n      <th>user</th>\n      <th></th>\n      <th></th>\n      <th></th>\n      <th></th>\n    </tr>\n  </thead>\n  <tbody>\n    <tr>\n      <th>Jms</th>\n      <td>1168</td>\n      <td>38</td>\n      <td>2007-10-20 22:30:53+00:00</td>\n      <td>2011-03-04 17:04:01+00:00</td>\n    </tr>\n    <tr>\n      <th>Ks aka 98</th>\n      <td>914</td>\n      <td>81</td>\n      <td>2006-06-15 18:16:29+00:00</td>\n      <td>2020-02-28 05:13:05+00:00</td>\n    </tr>\n    <tr>\n      <th>青子守歌</th>\n      <td>550</td>\n      <td>78</td>\n      <td>2007-04-18 07:43:44+00:00</td>\n      <td>2020-06-13 03:05:24+00:00</td>\n    </tr>\n    <tr>\n      <th>Aotake</th>\n      <td>539</td>\n      <td>105</td>\n      <td>2006-09-08 04:55:24+00:00</td>\n      <td>2018-02-02 15:57:58+00:00</td>\n    </tr>\n    <tr>\n      <th>Aphaia</th>\n      <td>537</td>\n      <td>65</td>\n      <td>2004-02-19 12:53:19+00:00</td>\n      <td>2007-08-10 16:20:17+00:00</td>\n    </tr>\n  </tbody>\n</table>\n</div>"
     },
     "metadata": {},
     "execution_count": 20
    }
   ],
   "source": [
    "#ja\n",
    "top_users_ja = compute_users(allrevs_ja,bots_ja)\n",
    "top_users_ja.sort_values('revs',ascending=False).head(5)"
   ]
  },
  {
   "cell_type": "code",
   "execution_count": 109,
   "metadata": {},
   "outputs": [],
   "source": [
    "# export top users information\n",
    "\n",
    "top_users_de.to_csv('top_users_de.tsv',sep='\\t',encoding='utf8')\n",
    "top_users_en.to_csv('top_users_en.tsv',sep='\\t',encoding='utf8')\n",
    "top_users_es.to_csv('top_users_es.tsv',sep='\\t',encoding='utf8')\n",
    "top_users_fr.to_csv('top_users_fr.tsv',sep='\\t',encoding='utf8')\n",
    "top_users_ja.to_csv('top_users_ja.tsv',sep='\\t',encoding='utf8')"
   ]
  },
  {
   "cell_type": "markdown",
   "metadata": {},
   "source": [
    "### IP editors\n",
    "Check the number of IP editors + number of revisions by IP editors. Also check the number of bot revisions."
   ]
  },
  {
   "cell_type": "code",
   "execution_count": 21,
   "metadata": {
    "tags": []
   },
   "outputs": [],
   "source": [
    "# Info about ip editors\n",
    "def get_ipinfo(revsdf):\n",
    "    ip = revsdf.loc[(revsdf['userid'] == 0)]\n",
    "\n",
    "    _tdf1 = ip.groupby('user')['revid'].agg(revs=pd.Series.nunique).reset_index().set_index('user')\n",
    "    _tdf2 = ip.groupby('user')['page'].agg(pages=pd.Series.nunique).reset_index().set_index('user')\n",
    "    ip['timestamp'] = pd.to_datetime(ip['timestamp'], errors='coerce', utc=True)\n",
    "    _tdf3 = ip.groupby('user')['timestamp'].agg(ts_min='min').reset_index().set_index('user')\n",
    "    _tdf4 = ip.groupby('user')['timestamp'].agg(ts_max='max').reset_index().set_index('user')\n",
    "\n",
    "    _temp1 = _tdf1.join(_tdf2, on='user', how='outer',lsuffix='revsdf', rsuffix='pagesdf')\n",
    "    _temp2 = _tdf3.join(_tdf4, on='user', how='outer',lsuffix='mindf', rsuffix='maxdf')\n",
    "\n",
    "    _tdf = _temp1.join(_temp2, on='user', how='outer')\n",
    "\n",
    "    _num_pages = 0\n",
    "    _num_revisions = 0\n",
    "\n",
    "    top_users = _tdf.query('pages > {0} & revs > {1}'.format(_num_pages,_num_revisions)).sort_values('pages',ascending=False)\n",
    "    _num_users = len(top_users)\n",
    "    print(\"There are {0} IP users who revised more than {1} page and made more than {2} revisions\".format(_num_users,_num_pages,_num_revisions))\n",
    "\n",
    "    _num_pages = 1\n",
    "    _num_revisions = 2\n",
    "\n",
    "    top_users = _tdf.query('pages > {0} & revs > {1}'.format(_num_pages,_num_revisions)).sort_values('pages',ascending=False)\n",
    "    _num_users = len(top_users)\n",
    "    print(\"There are {0} IP users who revised more than {1} page and made more than {2} revisions\".format(_num_users,_num_pages,_num_revisions))\n",
    "\n",
    "    return top_users"
   ]
  },
  {
   "cell_type": "code",
   "execution_count": 23,
   "metadata": {
    "tags": []
   },
   "outputs": [
    {
     "output_type": "stream",
     "name": "stdout",
     "text": "de\nThere are 5868 IP users who revised more than 0 page and made more than 0 revisions\nThere are 175 IP users who revised more than 1 page and made more than 2 revisions\n\nen\nThere are 29198 IP users who revised more than 0 page and made more than 0 revisions\nThere are 828 IP users who revised more than 1 page and made more than 2 revisions\n\nes\nThere are 3268 IP users who revised more than 0 page and made more than 0 revisions\nThere are 57 IP users who revised more than 1 page and made more than 2 revisions\n\nfr\nThere are 2366 IP users who revised more than 0 page and made more than 0 revisions\nThere are 62 IP users who revised more than 1 page and made more than 2 revisions\n\nja\nThere are 2109 IP users who revised more than 0 page and made more than 0 revisions\nThere are 122 IP users who revised more than 1 page and made more than 2 revisions\n\n"
    }
   ],
   "source": [
    "ip_user_info = {}\n",
    "for lang in langs:\n",
    "    print(lang)\n",
    "    thislang_allrevs = allrevs_langs[lang]\n",
    "    ip = get_ipinfo(thislang_allrevs)\n",
    "    ip_user_info[lang] = ip\n",
    "    print('')\n"
   ]
  },
  {
   "cell_type": "code",
   "execution_count": 24,
   "metadata": {
    "tags": []
   },
   "outputs": [
    {
     "output_type": "stream",
     "name": "stdout",
     "text": "(1438, 18)\n"
    }
   ],
   "source": [
    "# Number of revisions by IP editors\n",
    "iprevs_de = allrevs_de.loc[(allrevs_de['user'].isin( list(ip_user_info['de'].index.values) ))]\n",
    "iprevs_en = allrevs_en.loc[(allrevs_en['user'].isin( list(ip_user_info['en'].index.values) ))]\n",
    "iprevs_es = allrevs_es.loc[(allrevs_es['user'].isin( list(ip_user_info['es'].index.values) ))]\n",
    "iprevs_fr = allrevs_fr.loc[(allrevs_fr['user'].isin( list(ip_user_info['fr'].index.values) ))]\n",
    "iprevs_ja = allrevs_ja.loc[(allrevs_ja['user'].isin( list(ip_user_info['ja'].index.values) ))]\n",
    "\n",
    "print(iprevs_de.shape)"
   ]
  },
  {
   "cell_type": "code",
   "execution_count": 25,
   "metadata": {
    "tags": []
   },
   "outputs": [
    {
     "output_type": "stream",
     "name": "stdout",
     "text": "(36810, 18)\n"
    }
   ],
   "source": [
    "# Number of bot revisions\n",
    "# de\n",
    "botrevs_de = allrevs_de.loc[(allrevs_de['user'].isin(bots_de))]\n",
    "botrevs_en = allrevs_en.loc[(allrevs_en['user'].isin(bots_en))]\n",
    "botrevs_es = allrevs_es.loc[(allrevs_es['user'].isin(bots_es))]\n",
    "botrevs_fr = allrevs_fr.loc[(allrevs_fr['user'].isin(bots_fr))]\n",
    "botrevs_ja = allrevs_ja.loc[(allrevs_ja['user'].isin(bots_ja))]\n",
    "\n",
    "print(botrevs_en.shape)"
   ]
  },
  {
   "cell_type": "markdown",
   "metadata": {},
   "source": [
    "## Processing user info\n",
    "\n",
    "Keegan & Fiesler (2017): In particular, we perform “time-aware analyses” (Barbosa et al. 2016) of user cohorts and differentiate users by the year they began contributing to rules in the sample, not their first edit to Wikipedia.\n",
    "\n",
    "Keegan & Fiesler (2017) code uses wikitools to grab all of a user's revisions. We don't have wikitools (it is unavailable for Python 3) but we do have all the revisions for the rule pages we care about, with the users. We can grab user info of these users using the API:Users ourselves, but getting all of the user contributions seems to be a bit iffier (no API options), so we'll just use our existing dataset to track rule-related edits by user X in cohort A.\n",
    "\n",
    "Update: https://www.mediawiki.org/wiki/API:Usercontribs to build the equivalent. We follow the same process and analysis."
   ]
  },
  {
   "cell_type": "code",
   "execution_count": 60,
   "metadata": {},
   "outputs": [],
   "source": [
    "# helpful function\n",
    "def chunks(l, n): \n",
    "    \"\"\"Yield successive n-sized chunks from l.\"\"\"\n",
    "    for i in range(0, len(l), n):\n",
    "        yield l[i:i+n]\n",
    "\n",
    "def get_user_info(usernames,endpoint):\n",
    "    \"\"\"\n",
    "    Get user info / https://www.mediawiki.org/wiki/API:Users\n",
    "    \"\"\"\n",
    "    if type(usernames) != list:\n",
    "        raise ValueError('Usernames is not a list')\n",
    "\n",
    "    query_params = {'action': 'query',\n",
    "                    'format':'json',\n",
    "                    'list': 'users',\n",
    "                    'usprop':'groups|editcount|registration|gender'}\n",
    "    query_url = \"https://{}\".format(endpoint)\n",
    "    \n",
    "    user_info = list()\n",
    "    \n",
    "    if len(usernames) <= 50:\n",
    "        query_params['ususers'] = query_params['ususers'] = '|'.join(usernames)\n",
    "        json_response = requests.get(url = query_url, params = query_params).json()\n",
    "        user_info = json_response['query']['users']\n",
    "    else:\n",
    "        for chunk in chunks(usernames,50):\n",
    "            query_params['ususers'] = query_params['ususers'] = '|'.join(chunk)\n",
    "            json_response = requests.get(url = query_url, params = query_params).json()\n",
    "            for i in json_response['query']['users']:\n",
    "                user_info.append(i)\n",
    "    return user_info\n",
    "\n",
    "def get_links(username,endpoint,userword):\n",
    "    print(username)\n",
    "    query_params = {'action': 'query',\n",
    "                    'format':'json',\n",
    "                    'prop':'links'}\n",
    "    query_url = \"https://{}\".format(endpoint)\n",
    "\n",
    "    query_params['titles'] = '{}:{}'.format(userword,username)\n",
    "\n",
    "    json_response = requests.get(url = query_url, params = query_params).json()\n",
    "    print(json_response)\n",
    "\n",
    "    pages = json_response['query']['pages']\n",
    "    \n",
    "    for k in pages.items():\n",
    "        keys = list(k[1].keys())\n",
    "        links = []\n",
    "        if 'links' in keys:\n",
    "            for l in k[1]['links']:\n",
    "                links.append(l['title'])\n",
    "            #print(links)\n",
    "            return links\n",
    "        # or the page is missing\n",
    "        else:\n",
    "            #print(\"no page exists\")\n",
    "            return links"
   ]
  },
  {
   "cell_type": "markdown",
   "metadata": {},
   "source": [
    "### English language edition - user processing"
   ]
  },
  {
   "cell_type": "code",
   "execution_count": 61,
   "metadata": {
    "tags": []
   },
   "outputs": [
    {
     "output_type": "stream",
     "name": "stdout",
     "text": "13858\n13815 43 0\nPeeJay2K3\n{'batchcomplete': '', 'query': {'pages': {'64733788': {'pageid': 64733788, 'ns': 2, 'title': 'User:PeeJay2K3', 'links': [{'ns': 2, 'title': 'User:PeeJay'}, {'ns': 4, 'title': 'Wikipedia:Protection policy'}, {'ns': 4, 'title': 'Wikipedia:Redirect'}, {'ns': 14, 'title': 'Category:Redirects from moves'}]}}}}\n142.160.131.202\n{'batchcomplete': '', 'query': {'pages': {'54527727': {'pageid': 54527727, 'ns': 2, 'title': 'User:142.160.131.202', 'links': [{'ns': 3, 'title': 'User talk:142.160.131.202'}]}}}}\n195.40.200.146\n{'batchcomplete': '', 'query': {'pages': {'-1': {'ns': 2, 'title': 'User:195.40.200.146', 'missing': ''}}}}\n67.14.236.50\n{'batchcomplete': '', 'query': {'pages': {'-1': {'ns': 2, 'title': 'User:67.14.236.50', 'missing': ''}}}}\n142.160.89.97\n{'batchcomplete': '', 'query': {'pages': {'-1': {'ns': 2, 'title': 'User:142.160.89.97', 'missing': ''}}}}\nGT\n{'batchcomplete': '', 'query': {'pages': {'-1': {'ns': 2, 'title': 'User:GT', 'missing': ''}}}}\n174.141.182.82\n{'batchcomplete': '', 'query': {'pages': {'-1': {'ns': 2, 'title': 'User:174.141.182.82', 'missing': ''}}}}\n174.3.98.236\n{'batchcomplete': '', 'query': {'pages': {'27656268': {'pageid': 27656268, 'ns': 2, 'title': 'User:174.3.98.236', 'links': [{'ns': 0, 'title': 'IP address'}, {'ns': 2, 'title': 'User:100110100'}, {'ns': 4, 'title': 'Wikipedia:Sockpuppet investigations/100110100'}]}}}}\n62.178.100.7\n{'batchcomplete': '', 'query': {'pages': {'-1': {'ns': 2, 'title': 'User:62.178.100.7', 'missing': ''}}}}\n2601:586:4405:38E6:8C10:AED4:7F56:22F5\n{'batchcomplete': '', 'query': {'pages': {'-1': {'ns': 2, 'title': 'User:2601:586:4405:38E6:8C10:AED4:7F56:22F5', 'missing': ''}}}}\n142.161.81.20\n{'batchcomplete': '', 'query': {'pages': {'56428288': {'pageid': 56428288, 'ns': 2, 'title': 'User:142.161.81.20', 'links': [{'ns': 1, 'title': 'Talk:Hebrew language'}, {'ns': 1, 'title': 'Talk:Major Archeparchy of Kiev–Galicia (Kyiv-Halych)'}, {'ns': 2, 'title': 'User:Anthony Appleyard'}, {'ns': 3, 'title': 'User talk:Anthony Appleyard'}]}}}}\n220.246.157.222\n{'batchcomplete': '', 'query': {'pages': {'-1': {'ns': 2, 'title': 'User:220.246.157.222', 'missing': ''}}}}\n193.95.165.190\n{'batchcomplete': '', 'query': {'pages': {'-1': {'ns': 2, 'title': 'User:193.95.165.190', 'missing': ''}}}}\n70.29.60.170\n{'batchcomplete': '', 'query': {'pages': {'-1': {'ns': 2, 'title': 'User:70.29.60.170', 'missing': ''}}}}\n66.199.69.117\n{'batchcomplete': '', 'query': {'pages': {'-1': {'ns': 2, 'title': 'User:66.199.69.117', 'missing': ''}}}}\nGrammarFascist\n{'batchcomplete': '', 'query': {'pages': {'64775794': {'pageid': 64775794, 'ns': 2, 'title': 'User:GrammarFascist', 'links': [{'ns': 2, 'title': 'User:GrammarEnthusiast'}, {'ns': 4, 'title': 'Wikipedia:Protection policy'}, {'ns': 4, 'title': 'Wikipedia:Redirect'}, {'ns': 14, 'title': 'Category:Redirects from moves'}]}}}}\n108.25.123.18\n{'batchcomplete': '', 'query': {'pages': {'-1': {'ns': 2, 'title': 'User:108.25.123.18', 'missing': ''}}}}\n110.20.227.40\n{'batchcomplete': '', 'query': {'pages': {'-1': {'ns': 2, 'title': 'User:110.20.227.40', 'missing': ''}}}}\n117.205.96.240\n{'batchcomplete': '', 'query': {'pages': {'-1': {'ns': 2, 'title': 'User:117.205.96.240', 'missing': ''}}}}\n114.25.189.86\n{'batchcomplete': '', 'query': {'pages': {'-1': {'ns': 2, 'title': 'User:114.25.189.86', 'missing': ''}}}}\n207.161.217.209\n{'batchcomplete': '', 'query': {'pages': {'-1': {'ns': 2, 'title': 'User:207.161.217.209', 'missing': ''}}}}\n203.164.189.227\n{'batchcomplete': '', 'query': {'pages': {'-1': {'ns': 2, 'title': 'User:203.164.189.227', 'missing': ''}}}}\n86.3.205.99\n{'batchcomplete': '', 'query': {'pages': {'-1': {'ns': 2, 'title': 'User:86.3.205.99', 'missing': ''}}}}\n203.94.135.134\n{'batchcomplete': '', 'query': {'pages': {'-1': {'ns': 2, 'title': 'User:203.94.135.134', 'missing': ''}}}}\n86.161.251.139\n{'batchcomplete': '', 'query': {'pages': {'-1': {'ns': 2, 'title': 'User:86.161.251.139', 'missing': ''}}}}\n217.140.193.123\n{'batchcomplete': '', 'query': {'pages': {'2604335': {'pageid': 2604335, 'ns': 2, 'title': 'User:217.140.193.123', 'links': [{'ns': 2, 'title': 'User:Arrigo'}, {'ns': 4, 'title': 'Wikipedia:Sock puppetry'}, {'ns': 4, 'title': 'Wikipedia:Wikiquette alerts/archive'}]}}}}\n208.102.156.55\n{'batchcomplete': '', 'query': {'pages': {'-1': {'ns': 2, 'title': 'User:208.102.156.55', 'missing': ''}}}}\n74.61.25.82\n{'batchcomplete': '', 'query': {'pages': {'-1': {'ns': 2, 'title': 'User:74.61.25.82', 'missing': ''}}}}\n99.238.201.9\n{'batchcomplete': '', 'query': {'pages': {'-1': {'ns': 2, 'title': 'User:99.238.201.9', 'missing': ''}}}}\n99.130.33.77\n{'batchcomplete': '', 'query': {'pages': {'-1': {'ns': 2, 'title': 'User:99.130.33.77', 'missing': ''}}}}\n223.24.111.191\n{'batchcomplete': '', 'query': {'pages': {'-1': {'ns': 2, 'title': 'User:223.24.111.191', 'missing': ''}}}}\n67.121.112.210\n{'batchcomplete': '', 'query': {'pages': {'-1': {'ns': 2, 'title': 'User:67.121.112.210', 'missing': ''}}}}\n68.0.124.33\n{'batchcomplete': '', 'query': {'pages': {'-1': {'ns': 2, 'title': 'User:68.0.124.33', 'missing': ''}}}}\n68.173.113.106\n{'batchcomplete': '', 'query': {'pages': {'-1': {'ns': 2, 'title': 'User:68.173.113.106', 'missing': ''}}}}\n222.67.210.32\n{'batchcomplete': '', 'query': {'pages': {'-1': {'ns': 2, 'title': 'User:222.67.210.32', 'missing': ''}}}}\n50.53.15.51\n{'batchcomplete': '', 'query': {'pages': {'-1': {'ns': 2, 'title': 'User:50.53.15.51', 'missing': ''}}}}\n58.11.26.201\n{'batchcomplete': '', 'query': {'pages': {'-1': {'ns': 2, 'title': 'User:58.11.26.201', 'missing': ''}}}}\n50.73.236.141\n{'batchcomplete': '', 'query': {'pages': {'-1': {'ns': 2, 'title': 'User:50.73.236.141', 'missing': ''}}}}\n144.85.233.138\n{'batchcomplete': '', 'query': {'pages': {'-1': {'ns': 2, 'title': 'User:144.85.233.138', 'missing': ''}}}}\n142.205.241.254\n{'batchcomplete': '', 'query': {'pages': {'29486769': {'pageid': 29486769, 'ns': 2, 'title': 'User:142.205.241.254', 'links': [{'ns': 0, 'title': 'IP address'}, {'ns': 2, 'title': 'User:GoldDragon'}, {'ns': 4, 'title': 'Wikipedia:Sockpuppet investigations/GoldDragon'}]}}}}\n122.108.141.214\n{'batchcomplete': '', 'query': {'pages': {'-1': {'ns': 2, 'title': 'User:122.108.141.214', 'missing': ''}}}}\n151.251.245.122\n{'batchcomplete': '', 'query': {'pages': {'-1': {'ns': 2, 'title': 'User:151.251.245.122', 'missing': ''}}}}\n174.3.110.108\n{'batchcomplete': '', 'query': {'pages': {'27656263': {'pageid': 27656263, 'ns': 2, 'title': 'User:174.3.110.108', 'links': [{'ns': 0, 'title': 'IP address'}, {'ns': 2, 'title': 'User:100110100'}, {'ns': 4, 'title': 'Wikipedia:Sockpuppet investigations/100110100'}]}}}}\n13815 6 36\n"
    }
   ],
   "source": [
    "# df of the top users en\n",
    "user_info = get_user_info(list(top_users_en.index),endpoint='en.wikipedia.org/w/api.php')\n",
    "print(len(user_info))\n",
    "\n",
    "_df0 = pd.DataFrame(user_info)\n",
    "nonmissing_users = _df0[~_df0['editcount'].isnull()]['name'].values\n",
    "missing_users = _df0[_df0['editcount'].isnull()]['name'].values\n",
    "no_page_users = list()\n",
    "\n",
    "print(len(list(nonmissing_users)),len(list(missing_users)),len(list(no_page_users)))\n",
    "\n",
    "name_redirects = {}\n",
    "# 42 users are missing\n",
    "for missing_user in missing_users:\n",
    "    links_on_missing = get_links(missing_user,endpoint='en.wikipedia.org/w/api.php',userword='User')\n",
    "    if len(links_on_missing) == 0:\n",
    "        no_page_users.append(missing_user)\n",
    "    else:\n",
    "        redirected_name = [i for i in links_on_missing if 'User:' in i]\n",
    "        if len(redirected_name) == 0:\n",
    "            no_page_users.append(missing_user)\n",
    "        else:\n",
    "            name_redirects[missing_user] = redirected_name[0]\n",
    "\n",
    "missing_user_info = get_user_info(list(name_redirects.values()),endpoint='en.wikipedia.org/w/api.php')\n",
    "print(len(list(nonmissing_users)),len(missing_user_info),len(no_page_users))\n",
    "\n",
    "with open('name_redirects_en.json','w',encoding='utf8') as f:\n",
    "    json.dump(name_redirects,f)"
   ]
  },
  {
   "cell_type": "code",
   "execution_count": 29,
   "metadata": {
    "tags": []
   },
   "outputs": [
    {
     "output_type": "stream",
     "name": "stdout",
     "text": "['PeeJay', '100110100', 'Anthony Appleyard', 'GrammarEnthusiast', 'Arrigo', 'GoldDragon']\nPeeJay2K3 has a page\nnot in the missing user info\nPeeJay\n174.3.98.236 has a page\nnot in the missing user info\n100110100\n142.161.81.20 has a page\nnot in the missing user info\nAnthony Appleyard\nGrammarFascist has a page\nnot in the missing user info\nGrammarEnthusiast\n217.140.193.123 has a page\nnot in the missing user info\nArrigo\n142.205.241.254 has a page\nnot in the missing user info\nGoldDragon\n174.3.110.108 has a page\nnot in the missing user info\n100110100\n"
    }
   ],
   "source": [
    "#trying to figure out what's missing from our lists...\n",
    "# temp is all the missing user infos\n",
    "temp = []\n",
    "for user in missing_user_info:\n",
    "    temp.append(user['name'])\n",
    "\n",
    "print(temp)\n",
    "\n",
    "for u in missing_users:\n",
    "    if u not in no_page_users:\n",
    "        print(u, 'has a page')\n",
    "        if u not in temp:\n",
    "            print('not in the missing user info')\n",
    "            redirect_u = name_redirects[u][5:]\n",
    "            print(redirect_u)\n",
    "            if redirect_u not in temp:\n",
    "                print('the redirect not in missing user info')\n",
    "\n",
    "# the reason why we go down from 6 to 5 is that two of the IP addresses go to 100110100"
   ]
  },
  {
   "cell_type": "code",
   "execution_count": 30,
   "metadata": {
    "tags": []
   },
   "outputs": [
    {
     "output_type": "stream",
     "name": "stdout",
     "text": "13821\n36\n"
    }
   ],
   "source": [
    "_df0 = pd.DataFrame(user_info)\n",
    "_df1 = _df0[~_df0['name'].isin(missing_users)]\n",
    "_df2 = pd.DataFrame(missing_user_info)\n",
    "user_info_df = pd.concat([_df1,_df2])\n",
    "print(len(user_info_df))\n",
    "print(len(no_page_users))"
   ]
  },
  {
   "cell_type": "code",
   "execution_count": 31,
   "metadata": {},
   "outputs": [
    {
     "output_type": "execute_result",
     "data": {
      "text/plain": "      userid          name  editcount          registration   gender missing  \\\n0   378390.0   SMcCandlish   166280.0  2005-08-11T07:42:31Z     male     NaN   \n1   190359.0      Radiant!    36918.0  2005-02-12T09:10:11Z  unknown     NaN   \n2  1998764.0  WhatamIdoing    93775.0  2006-08-14T03:52:08Z   female     NaN   \n3  5950998.0          Dank   108190.0  2007-12-05T09:37:34Z     male     NaN   \n4  7181920.0     OlEnglish    73884.0  2008-05-26T02:19:19Z     male     NaN   \n\n  invalid  abusefilter  checkuser  ipblock-exempt  researcher  \\\n0     NaN        False      False           False       False   \n1     NaN        False      False           False       False   \n2     NaN        False      False           False       False   \n3     NaN        False      False           False       False   \n4     NaN        False      False           False       False   \n\n   abusefilter-helper  extendedmover  sysop  massmessage-sender  user  \\\n0               False           True  False               False  True   \n1               False          False  False               False  True   \n2               False          False  False               False  True   \n3               False          False   True               False  True   \n4               False          False   True               False  True   \n\n   extendedconfirmed  epadmin  autoreviewer  import  accountcreator  \\\n0               True    False          True   False           False   \n1              False    False         False   False           False   \n2               True    False          True   False           False   \n3              False    False         False   False           False   \n4              False    False         False   False           False   \n\n   templateeditor  autoconfirmed  eventcoordinator  oversight  rollbacker  \\\n0            True           True             False      False        True   \n1           False           True             False      False       False   \n2           False           True             False      False       False   \n3           False           True             False      False       False   \n4           False           True             False      False       False   \n\n   patroller  founder  bureaucrat  interface-admin  reviewer  filemover  \n0       True    False       False            False      True       True  \n1      False    False       False            False     False      False  \n2      False    False       False            False      True      False  \n3      False    False       False            False     False      False  \n4      False    False       False            False     False      False  ",
      "text/html": "<div>\n<style scoped>\n    .dataframe tbody tr th:only-of-type {\n        vertical-align: middle;\n    }\n\n    .dataframe tbody tr th {\n        vertical-align: top;\n    }\n\n    .dataframe thead th {\n        text-align: right;\n    }\n</style>\n<table border=\"1\" class=\"dataframe\">\n  <thead>\n    <tr style=\"text-align: right;\">\n      <th></th>\n      <th>userid</th>\n      <th>name</th>\n      <th>editcount</th>\n      <th>registration</th>\n      <th>gender</th>\n      <th>missing</th>\n      <th>invalid</th>\n      <th>abusefilter</th>\n      <th>checkuser</th>\n      <th>ipblock-exempt</th>\n      <th>researcher</th>\n      <th>abusefilter-helper</th>\n      <th>extendedmover</th>\n      <th>sysop</th>\n      <th>massmessage-sender</th>\n      <th>user</th>\n      <th>extendedconfirmed</th>\n      <th>epadmin</th>\n      <th>autoreviewer</th>\n      <th>import</th>\n      <th>accountcreator</th>\n      <th>templateeditor</th>\n      <th>autoconfirmed</th>\n      <th>eventcoordinator</th>\n      <th>oversight</th>\n      <th>rollbacker</th>\n      <th>patroller</th>\n      <th>founder</th>\n      <th>bureaucrat</th>\n      <th>interface-admin</th>\n      <th>reviewer</th>\n      <th>filemover</th>\n    </tr>\n  </thead>\n  <tbody>\n    <tr>\n      <th>0</th>\n      <td>378390.0</td>\n      <td>SMcCandlish</td>\n      <td>166280.0</td>\n      <td>2005-08-11T07:42:31Z</td>\n      <td>male</td>\n      <td>NaN</td>\n      <td>NaN</td>\n      <td>False</td>\n      <td>False</td>\n      <td>False</td>\n      <td>False</td>\n      <td>False</td>\n      <td>True</td>\n      <td>False</td>\n      <td>False</td>\n      <td>True</td>\n      <td>True</td>\n      <td>False</td>\n      <td>True</td>\n      <td>False</td>\n      <td>False</td>\n      <td>True</td>\n      <td>True</td>\n      <td>False</td>\n      <td>False</td>\n      <td>True</td>\n      <td>True</td>\n      <td>False</td>\n      <td>False</td>\n      <td>False</td>\n      <td>True</td>\n      <td>True</td>\n    </tr>\n    <tr>\n      <th>1</th>\n      <td>190359.0</td>\n      <td>Radiant!</td>\n      <td>36918.0</td>\n      <td>2005-02-12T09:10:11Z</td>\n      <td>unknown</td>\n      <td>NaN</td>\n      <td>NaN</td>\n      <td>False</td>\n      <td>False</td>\n      <td>False</td>\n      <td>False</td>\n      <td>False</td>\n      <td>False</td>\n      <td>False</td>\n      <td>False</td>\n      <td>True</td>\n      <td>False</td>\n      <td>False</td>\n      <td>False</td>\n      <td>False</td>\n      <td>False</td>\n      <td>False</td>\n      <td>True</td>\n      <td>False</td>\n      <td>False</td>\n      <td>False</td>\n      <td>False</td>\n      <td>False</td>\n      <td>False</td>\n      <td>False</td>\n      <td>False</td>\n      <td>False</td>\n    </tr>\n    <tr>\n      <th>2</th>\n      <td>1998764.0</td>\n      <td>WhatamIdoing</td>\n      <td>93775.0</td>\n      <td>2006-08-14T03:52:08Z</td>\n      <td>female</td>\n      <td>NaN</td>\n      <td>NaN</td>\n      <td>False</td>\n      <td>False</td>\n      <td>False</td>\n      <td>False</td>\n      <td>False</td>\n      <td>False</td>\n      <td>False</td>\n      <td>False</td>\n      <td>True</td>\n      <td>True</td>\n      <td>False</td>\n      <td>True</td>\n      <td>False</td>\n      <td>False</td>\n      <td>False</td>\n      <td>True</td>\n      <td>False</td>\n      <td>False</td>\n      <td>False</td>\n      <td>False</td>\n      <td>False</td>\n      <td>False</td>\n      <td>False</td>\n      <td>True</td>\n      <td>False</td>\n    </tr>\n    <tr>\n      <th>3</th>\n      <td>5950998.0</td>\n      <td>Dank</td>\n      <td>108190.0</td>\n      <td>2007-12-05T09:37:34Z</td>\n      <td>male</td>\n      <td>NaN</td>\n      <td>NaN</td>\n      <td>False</td>\n      <td>False</td>\n      <td>False</td>\n      <td>False</td>\n      <td>False</td>\n      <td>False</td>\n      <td>True</td>\n      <td>False</td>\n      <td>True</td>\n      <td>False</td>\n      <td>False</td>\n      <td>False</td>\n      <td>False</td>\n      <td>False</td>\n      <td>False</td>\n      <td>True</td>\n      <td>False</td>\n      <td>False</td>\n      <td>False</td>\n      <td>False</td>\n      <td>False</td>\n      <td>False</td>\n      <td>False</td>\n      <td>False</td>\n      <td>False</td>\n    </tr>\n    <tr>\n      <th>4</th>\n      <td>7181920.0</td>\n      <td>OlEnglish</td>\n      <td>73884.0</td>\n      <td>2008-05-26T02:19:19Z</td>\n      <td>male</td>\n      <td>NaN</td>\n      <td>NaN</td>\n      <td>False</td>\n      <td>False</td>\n      <td>False</td>\n      <td>False</td>\n      <td>False</td>\n      <td>False</td>\n      <td>True</td>\n      <td>False</td>\n      <td>True</td>\n      <td>False</td>\n      <td>False</td>\n      <td>False</td>\n      <td>False</td>\n      <td>False</td>\n      <td>False</td>\n      <td>True</td>\n      <td>False</td>\n      <td>False</td>\n      <td>False</td>\n      <td>False</td>\n      <td>False</td>\n      <td>False</td>\n      <td>False</td>\n      <td>False</td>\n      <td>False</td>\n    </tr>\n  </tbody>\n</table>\n</div>"
     },
     "metadata": {},
     "execution_count": 31
    }
   ],
   "source": [
    "group_types = list(set([j for i in user_info_df['groups'].dropna().values for j in i]) - set(['*']))\n",
    "#_ix = user_info_df['groups'].dropna().index\n",
    "#subgroup = user_info_df.ix[_ix]\n",
    "\n",
    "for group in group_types:\n",
    "    user_info_df[group] = user_info_df['groups'].apply(lambda x:group in x)\n",
    "\n",
    "user_info_cleaned_df = user_info_df[[i for i in user_info_df.columns if i not in ['groups','*']]]\n",
    "user_info_cleaned_df.to_csv('user_info_en.csv',encoding='utf8')\n",
    "user_info_cleaned_df.head()"
   ]
  },
  {
   "cell_type": "code",
   "execution_count": 32,
   "metadata": {
    "tags": []
   },
   "outputs": [
    {
     "output_type": "stream",
     "name": "stdout",
     "text": "No bots!\n"
    }
   ],
   "source": [
    "try:\n",
    "    bots_test = user_info_cleaned_df[user_info_cleaned_df['bot'] == True]['name'].values\n",
    "    print(bots_test)\n",
    "except KeyError:\n",
    "    print(\"No bots!\")"
   ]
  },
  {
   "cell_type": "code",
   "execution_count": 33,
   "metadata": {},
   "outputs": [
    {
     "output_type": "execute_result",
     "data": {
      "text/plain": "<matplotlib.axes._subplots.AxesSubplot at 0x22f88ff52e0>"
     },
     "metadata": {},
     "execution_count": 33
    },
    {
     "output_type": "display_data",
     "data": {
      "text/plain": "<Figure size 216x432 with 1 Axes>",
      "image/svg+xml": "<?xml version=\"1.0\" encoding=\"utf-8\" standalone=\"no\"?>\r\n<!DOCTYPE svg PUBLIC \"-//W3C//DTD SVG 1.1//EN\"\r\n  \"http://www.w3.org/Graphics/SVG/1.1/DTD/svg11.dtd\">\r\n<!-- Created with matplotlib (https://matplotlib.org/) -->\r\n<svg height=\"359.86pt\" version=\"1.1\" viewBox=\"0 0 287.167187 359.86\" width=\"287.167187pt\" xmlns=\"http://www.w3.org/2000/svg\" xmlns:xlink=\"http://www.w3.org/1999/xlink\">\r\n <defs>\r\n  <style type=\"text/css\">\r\n*{stroke-linecap:butt;stroke-linejoin:round;}\r\n  </style>\r\n </defs>\r\n <g id=\"figure_1\">\r\n  <g id=\"patch_1\">\r\n   <path d=\"M 0 359.86 \r\nL 287.167187 359.86 \r\nL 287.167187 0 \r\nL 0 0 \r\nz\r\n\" style=\"fill:#ffffff;\"/>\r\n  </g>\r\n  <g id=\"axes_1\">\r\n   <g id=\"patch_2\">\r\n    <path d=\"M 112.567188 333.36 \r\nL 279.967188 333.36 \r\nL 279.967188 7.2 \r\nL 112.567188 7.2 \r\nz\r\n\" style=\"fill:#ffffff;\"/>\r\n   </g>\r\n   <g id=\"matplotlib.axis_1\">\r\n    <g id=\"xtick_1\">\r\n     <g id=\"line2d_1\">\r\n      <path clip-path=\"url(#p6f2d689db9)\" d=\"M 158.642139 333.36 \r\nL 158.642139 7.2 \r\n\" style=\"fill:none;stroke:#cccccc;stroke-linecap:round;stroke-width:0.8;\"/>\r\n     </g>\r\n     <g id=\"text_1\">\r\n      <!-- $\\mathdefault{10^{-3}}$ -->\r\n      <defs>\r\n       <path d=\"M 37.25 0 \r\nL 28.46875 0 \r\nL 28.46875 56 \r\nQ 25.296875 52.984375 20.140625 49.953125 \r\nQ 14.984375 46.921875 10.890625 45.40625 \r\nL 10.890625 53.90625 \r\nQ 18.265625 57.375 23.78125 62.296875 \r\nQ 29.296875 67.234375 31.59375 71.875 \r\nL 37.25 71.875 \r\nz\r\n\" id=\"ArialMT-49\"/>\r\n       <path d=\"M 4.15625 35.296875 \r\nQ 4.15625 48 6.765625 55.734375 \r\nQ 9.375 63.484375 14.515625 67.671875 \r\nQ 19.671875 71.875 27.484375 71.875 \r\nQ 33.25 71.875 37.59375 69.546875 \r\nQ 41.9375 67.234375 44.765625 62.859375 \r\nQ 47.609375 58.5 49.21875 52.21875 \r\nQ 50.828125 45.953125 50.828125 35.296875 \r\nQ 50.828125 22.703125 48.234375 14.96875 \r\nQ 45.65625 7.234375 40.5 3 \r\nQ 35.359375 -1.21875 27.484375 -1.21875 \r\nQ 17.140625 -1.21875 11.234375 6.203125 \r\nQ 4.15625 15.140625 4.15625 35.296875 \r\nz\r\nM 13.1875 35.296875 \r\nQ 13.1875 17.671875 17.3125 11.828125 \r\nQ 21.4375 6 27.484375 6 \r\nQ 33.546875 6 37.671875 11.859375 \r\nQ 41.796875 17.71875 41.796875 35.296875 \r\nQ 41.796875 52.984375 37.671875 58.78125 \r\nQ 33.546875 64.59375 27.390625 64.59375 \r\nQ 21.34375 64.59375 17.71875 59.46875 \r\nQ 13.1875 52.9375 13.1875 35.296875 \r\nz\r\n\" id=\"ArialMT-48\"/>\r\n       <path d=\"M 52.828125 31.203125 \r\nL 5.5625 31.203125 \r\nL 5.5625 39.40625 \r\nL 52.828125 39.40625 \r\nz\r\n\" id=\"ArialMT-8722\"/>\r\n       <path d=\"M 4.203125 18.890625 \r\nL 12.984375 20.0625 \r\nQ 14.5 12.59375 18.140625 9.296875 \r\nQ 21.78125 6 27 6 \r\nQ 33.203125 6 37.46875 10.296875 \r\nQ 41.75 14.59375 41.75 20.953125 \r\nQ 41.75 27 37.796875 30.921875 \r\nQ 33.84375 34.859375 27.734375 34.859375 \r\nQ 25.25 34.859375 21.53125 33.890625 \r\nL 22.515625 41.609375 \r\nQ 23.390625 41.5 23.921875 41.5 \r\nQ 29.546875 41.5 34.03125 44.421875 \r\nQ 38.53125 47.359375 38.53125 53.46875 \r\nQ 38.53125 58.296875 35.25 61.46875 \r\nQ 31.984375 64.65625 26.8125 64.65625 \r\nQ 21.6875 64.65625 18.265625 61.421875 \r\nQ 14.84375 58.203125 13.875 51.765625 \r\nL 5.078125 53.328125 \r\nQ 6.6875 62.15625 12.390625 67.015625 \r\nQ 18.109375 71.875 26.609375 71.875 \r\nQ 32.46875 71.875 37.390625 69.359375 \r\nQ 42.328125 66.84375 44.9375 62.5 \r\nQ 47.5625 58.15625 47.5625 53.265625 \r\nQ 47.5625 48.640625 45.0625 44.828125 \r\nQ 42.578125 41.015625 37.703125 38.765625 \r\nQ 44.046875 37.3125 47.5625 32.6875 \r\nQ 51.078125 28.078125 51.078125 21.140625 \r\nQ 51.078125 11.765625 44.234375 5.25 \r\nQ 37.40625 -1.265625 26.953125 -1.265625 \r\nQ 17.53125 -1.265625 11.296875 4.34375 \r\nQ 5.078125 9.96875 4.203125 18.890625 \r\nz\r\n\" id=\"ArialMT-51\"/>\r\n      </defs>\r\n      <g style=\"fill:#262626;\" transform=\"translate(148.742139 350.6725)scale(0.1 -0.1)\">\r\n       <use transform=\"translate(0 0.99375)\" xlink:href=\"#ArialMT-49\"/>\r\n       <use transform=\"translate(55.615234 0.99375)\" xlink:href=\"#ArialMT-48\"/>\r\n       <use transform=\"translate(112.972813 70.6875)scale(0.7)\" xlink:href=\"#ArialMT-8722\"/>\r\n       <use transform=\"translate(153.851719 70.6875)scale(0.7)\" xlink:href=\"#ArialMT-51\"/>\r\n      </g>\r\n     </g>\r\n    </g>\r\n    <g id=\"xtick_2\">\r\n     <g id=\"line2d_2\">\r\n      <path clip-path=\"url(#p6f2d689db9)\" d=\"M 232.150347 333.36 \r\nL 232.150347 7.2 \r\n\" style=\"fill:none;stroke:#cccccc;stroke-linecap:round;stroke-width:0.8;\"/>\r\n     </g>\r\n     <g id=\"text_2\">\r\n      <!-- $\\mathdefault{10^{-1}}$ -->\r\n      <g style=\"fill:#262626;\" transform=\"translate(222.250347 350.6725)scale(0.1 -0.1)\">\r\n       <use transform=\"translate(0 0.99375)\" xlink:href=\"#ArialMT-49\"/>\r\n       <use transform=\"translate(55.615234 0.99375)\" xlink:href=\"#ArialMT-48\"/>\r\n       <use transform=\"translate(112.972813 70.6875)scale(0.7)\" xlink:href=\"#ArialMT-8722\"/>\r\n       <use transform=\"translate(153.851719 70.6875)scale(0.7)\" xlink:href=\"#ArialMT-49\"/>\r\n      </g>\r\n     </g>\r\n    </g>\r\n   </g>\r\n   <g id=\"matplotlib.axis_2\">\r\n    <g id=\"ytick_1\">\r\n     <g id=\"line2d_3\">\r\n      <path clip-path=\"url(#p6f2d689db9)\" d=\"M 112.567188 326.8368 \r\nL 279.967188 326.8368 \r\n\" style=\"fill:none;stroke:#cccccc;stroke-linecap:round;stroke-width:0.8;\"/>\r\n     </g>\r\n     <g id=\"text_3\">\r\n      <!-- founder -->\r\n      <defs>\r\n       <path d=\"M 8.6875 0 \r\nL 8.6875 45.015625 \r\nL 0.921875 45.015625 \r\nL 0.921875 51.859375 \r\nL 8.6875 51.859375 \r\nL 8.6875 57.375 \r\nQ 8.6875 62.59375 9.625 65.140625 \r\nQ 10.890625 68.5625 14.078125 70.671875 \r\nQ 17.28125 72.796875 23.046875 72.796875 \r\nQ 26.765625 72.796875 31.25 71.921875 \r\nL 29.9375 64.265625 \r\nQ 27.203125 64.75 24.75 64.75 \r\nQ 20.75 64.75 19.09375 63.03125 \r\nQ 17.4375 61.328125 17.4375 56.640625 \r\nL 17.4375 51.859375 \r\nL 27.546875 51.859375 \r\nL 27.546875 45.015625 \r\nL 17.4375 45.015625 \r\nL 17.4375 0 \r\nz\r\n\" id=\"ArialMT-102\"/>\r\n       <path d=\"M 3.328125 25.921875 \r\nQ 3.328125 40.328125 11.328125 47.265625 \r\nQ 18.015625 53.03125 27.640625 53.03125 \r\nQ 38.328125 53.03125 45.109375 46.015625 \r\nQ 51.90625 39.015625 51.90625 26.65625 \r\nQ 51.90625 16.65625 48.90625 10.90625 \r\nQ 45.90625 5.171875 40.15625 2 \r\nQ 34.421875 -1.171875 27.640625 -1.171875 \r\nQ 16.75 -1.171875 10.03125 5.8125 \r\nQ 3.328125 12.796875 3.328125 25.921875 \r\nz\r\nM 12.359375 25.921875 \r\nQ 12.359375 15.96875 16.703125 11.015625 \r\nQ 21.046875 6.0625 27.640625 6.0625 \r\nQ 34.1875 6.0625 38.53125 11.03125 \r\nQ 42.875 16.015625 42.875 26.21875 \r\nQ 42.875 35.84375 38.5 40.796875 \r\nQ 34.125 45.75 27.640625 45.75 \r\nQ 21.046875 45.75 16.703125 40.8125 \r\nQ 12.359375 35.890625 12.359375 25.921875 \r\nz\r\n\" id=\"ArialMT-111\"/>\r\n       <path d=\"M 40.578125 0 \r\nL 40.578125 7.625 \r\nQ 34.515625 -1.171875 24.125 -1.171875 \r\nQ 19.53125 -1.171875 15.546875 0.578125 \r\nQ 11.578125 2.34375 9.640625 5 \r\nQ 7.71875 7.671875 6.9375 11.53125 \r\nQ 6.390625 14.109375 6.390625 19.734375 \r\nL 6.390625 51.859375 \r\nL 15.1875 51.859375 \r\nL 15.1875 23.09375 \r\nQ 15.1875 16.21875 15.71875 13.8125 \r\nQ 16.546875 10.359375 19.234375 8.375 \r\nQ 21.921875 6.390625 25.875 6.390625 \r\nQ 29.828125 6.390625 33.296875 8.421875 \r\nQ 36.765625 10.453125 38.203125 13.9375 \r\nQ 39.65625 17.4375 39.65625 24.078125 \r\nL 39.65625 51.859375 \r\nL 48.4375 51.859375 \r\nL 48.4375 0 \r\nz\r\n\" id=\"ArialMT-117\"/>\r\n       <path d=\"M 6.59375 0 \r\nL 6.59375 51.859375 \r\nL 14.5 51.859375 \r\nL 14.5 44.484375 \r\nQ 20.21875 53.03125 31 53.03125 \r\nQ 35.6875 53.03125 39.625 51.34375 \r\nQ 43.5625 49.65625 45.515625 46.921875 \r\nQ 47.46875 44.1875 48.25 40.4375 \r\nQ 48.734375 37.984375 48.734375 31.890625 \r\nL 48.734375 0 \r\nL 39.9375 0 \r\nL 39.9375 31.546875 \r\nQ 39.9375 36.921875 38.90625 39.578125 \r\nQ 37.890625 42.234375 35.28125 43.8125 \r\nQ 32.671875 45.40625 29.15625 45.40625 \r\nQ 23.53125 45.40625 19.453125 41.84375 \r\nQ 15.375 38.28125 15.375 28.328125 \r\nL 15.375 0 \r\nz\r\n\" id=\"ArialMT-110\"/>\r\n       <path d=\"M 40.234375 0 \r\nL 40.234375 6.546875 \r\nQ 35.296875 -1.171875 25.734375 -1.171875 \r\nQ 19.53125 -1.171875 14.328125 2.25 \r\nQ 9.125 5.671875 6.265625 11.796875 \r\nQ 3.421875 17.921875 3.421875 25.875 \r\nQ 3.421875 33.640625 6 39.96875 \r\nQ 8.59375 46.296875 13.765625 49.65625 \r\nQ 18.953125 53.03125 25.34375 53.03125 \r\nQ 30.03125 53.03125 33.6875 51.046875 \r\nQ 37.359375 49.078125 39.65625 45.90625 \r\nL 39.65625 71.578125 \r\nL 48.390625 71.578125 \r\nL 48.390625 0 \r\nz\r\nM 12.453125 25.875 \r\nQ 12.453125 15.921875 16.640625 10.984375 \r\nQ 20.84375 6.0625 26.5625 6.0625 \r\nQ 32.328125 6.0625 36.34375 10.765625 \r\nQ 40.375 15.484375 40.375 25.140625 \r\nQ 40.375 35.796875 36.265625 40.765625 \r\nQ 32.171875 45.75 26.171875 45.75 \r\nQ 20.3125 45.75 16.375 40.96875 \r\nQ 12.453125 36.1875 12.453125 25.875 \r\nz\r\n\" id=\"ArialMT-100\"/>\r\n       <path d=\"M 42.09375 16.703125 \r\nL 51.171875 15.578125 \r\nQ 49.03125 7.625 43.21875 3.21875 \r\nQ 37.40625 -1.171875 28.375 -1.171875 \r\nQ 17 -1.171875 10.328125 5.828125 \r\nQ 3.65625 12.84375 3.65625 25.484375 \r\nQ 3.65625 38.578125 10.390625 45.796875 \r\nQ 17.140625 53.03125 27.875 53.03125 \r\nQ 38.28125 53.03125 44.875 45.953125 \r\nQ 51.46875 38.875 51.46875 26.03125 \r\nQ 51.46875 25.25 51.421875 23.6875 \r\nL 12.75 23.6875 \r\nQ 13.234375 15.140625 17.578125 10.59375 \r\nQ 21.921875 6.0625 28.421875 6.0625 \r\nQ 33.25 6.0625 36.671875 8.59375 \r\nQ 40.09375 11.140625 42.09375 16.703125 \r\nz\r\nM 13.234375 30.90625 \r\nL 42.1875 30.90625 \r\nQ 41.609375 37.453125 38.875 40.71875 \r\nQ 34.671875 45.796875 27.984375 45.796875 \r\nQ 21.921875 45.796875 17.796875 41.75 \r\nQ 13.671875 37.703125 13.234375 30.90625 \r\nz\r\n\" id=\"ArialMT-101\"/>\r\n       <path d=\"M 6.5 0 \r\nL 6.5 51.859375 \r\nL 14.40625 51.859375 \r\nL 14.40625 44 \r\nQ 17.4375 49.515625 20 51.265625 \r\nQ 22.5625 53.03125 25.640625 53.03125 \r\nQ 30.078125 53.03125 34.671875 50.203125 \r\nL 31.640625 42.046875 \r\nQ 28.421875 43.953125 25.203125 43.953125 \r\nQ 22.3125 43.953125 20.015625 42.21875 \r\nQ 17.71875 40.484375 16.75 37.40625 \r\nQ 15.28125 32.71875 15.28125 27.15625 \r\nL 15.28125 0 \r\nz\r\n\" id=\"ArialMT-114\"/>\r\n      </defs>\r\n      <g style=\"fill:#262626;\" transform=\"translate(71.654687 330.415706)scale(0.1 -0.1)\">\r\n       <use xlink:href=\"#ArialMT-102\"/>\r\n       <use x=\"27.783203\" xlink:href=\"#ArialMT-111\"/>\r\n       <use x=\"83.398438\" xlink:href=\"#ArialMT-117\"/>\r\n       <use x=\"139.013672\" xlink:href=\"#ArialMT-110\"/>\r\n       <use x=\"194.628906\" xlink:href=\"#ArialMT-100\"/>\r\n       <use x=\"250.244141\" xlink:href=\"#ArialMT-101\"/>\r\n       <use x=\"305.859375\" xlink:href=\"#ArialMT-114\"/>\r\n      </g>\r\n     </g>\r\n    </g>\r\n    <g id=\"ytick_2\">\r\n     <g id=\"line2d_4\">\r\n      <path clip-path=\"url(#p6f2d689db9)\" d=\"M 112.567188 313.7904 \r\nL 279.967188 313.7904 \r\n\" style=\"fill:none;stroke:#cccccc;stroke-linecap:round;stroke-width:0.8;\"/>\r\n     </g>\r\n     <g id=\"text_4\">\r\n      <!-- epadmin -->\r\n      <defs>\r\n       <path d=\"M 6.59375 -19.875 \r\nL 6.59375 51.859375 \r\nL 14.59375 51.859375 \r\nL 14.59375 45.125 \r\nQ 17.4375 49.078125 21 51.046875 \r\nQ 24.5625 53.03125 29.640625 53.03125 \r\nQ 36.28125 53.03125 41.359375 49.609375 \r\nQ 46.4375 46.1875 49.015625 39.953125 \r\nQ 51.609375 33.734375 51.609375 26.3125 \r\nQ 51.609375 18.359375 48.75 11.984375 \r\nQ 45.90625 5.609375 40.453125 2.21875 \r\nQ 35.015625 -1.171875 29 -1.171875 \r\nQ 24.609375 -1.171875 21.109375 0.6875 \r\nQ 17.625 2.546875 15.375 5.375 \r\nL 15.375 -19.875 \r\nz\r\nM 14.546875 25.640625 \r\nQ 14.546875 15.625 18.59375 10.84375 \r\nQ 22.65625 6.0625 28.421875 6.0625 \r\nQ 34.28125 6.0625 38.453125 11.015625 \r\nQ 42.625 15.96875 42.625 26.375 \r\nQ 42.625 36.28125 38.546875 41.203125 \r\nQ 34.46875 46.140625 28.8125 46.140625 \r\nQ 23.1875 46.140625 18.859375 40.890625 \r\nQ 14.546875 35.640625 14.546875 25.640625 \r\nz\r\n\" id=\"ArialMT-112\"/>\r\n       <path d=\"M 40.4375 6.390625 \r\nQ 35.546875 2.25 31.03125 0.53125 \r\nQ 26.515625 -1.171875 21.34375 -1.171875 \r\nQ 12.796875 -1.171875 8.203125 3 \r\nQ 3.609375 7.171875 3.609375 13.671875 \r\nQ 3.609375 17.484375 5.34375 20.625 \r\nQ 7.078125 23.78125 9.890625 25.6875 \r\nQ 12.703125 27.59375 16.21875 28.5625 \r\nQ 18.796875 29.25 24.03125 29.890625 \r\nQ 34.671875 31.15625 39.703125 32.90625 \r\nQ 39.75 34.71875 39.75 35.203125 \r\nQ 39.75 40.578125 37.25 42.78125 \r\nQ 33.890625 45.75 27.25 45.75 \r\nQ 21.046875 45.75 18.09375 43.578125 \r\nQ 15.140625 41.40625 13.71875 35.890625 \r\nL 5.125 37.0625 \r\nQ 6.296875 42.578125 8.984375 45.96875 \r\nQ 11.671875 49.359375 16.75 51.1875 \r\nQ 21.828125 53.03125 28.515625 53.03125 \r\nQ 35.15625 53.03125 39.296875 51.46875 \r\nQ 43.453125 49.90625 45.40625 47.53125 \r\nQ 47.359375 45.171875 48.140625 41.546875 \r\nQ 48.578125 39.3125 48.578125 33.453125 \r\nL 48.578125 21.734375 \r\nQ 48.578125 9.46875 49.140625 6.21875 \r\nQ 49.703125 2.984375 51.375 0 \r\nL 42.1875 0 \r\nQ 40.828125 2.734375 40.4375 6.390625 \r\nz\r\nM 39.703125 26.03125 \r\nQ 34.90625 24.078125 25.34375 22.703125 \r\nQ 19.921875 21.921875 17.671875 20.9375 \r\nQ 15.4375 19.96875 14.203125 18.09375 \r\nQ 12.984375 16.21875 12.984375 13.921875 \r\nQ 12.984375 10.40625 15.640625 8.0625 \r\nQ 18.3125 5.71875 23.4375 5.71875 \r\nQ 28.515625 5.71875 32.46875 7.9375 \r\nQ 36.421875 10.15625 38.28125 14.015625 \r\nQ 39.703125 17 39.703125 22.796875 \r\nz\r\n\" id=\"ArialMT-97\"/>\r\n       <path d=\"M 6.59375 0 \r\nL 6.59375 51.859375 \r\nL 14.453125 51.859375 \r\nL 14.453125 44.578125 \r\nQ 16.890625 48.390625 20.9375 50.703125 \r\nQ 25 53.03125 30.171875 53.03125 \r\nQ 35.9375 53.03125 39.625 50.640625 \r\nQ 43.3125 48.25 44.828125 43.953125 \r\nQ 50.984375 53.03125 60.84375 53.03125 \r\nQ 68.5625 53.03125 72.703125 48.75 \r\nQ 76.859375 44.484375 76.859375 35.59375 \r\nL 76.859375 0 \r\nL 68.109375 0 \r\nL 68.109375 32.671875 \r\nQ 68.109375 37.9375 67.25 40.25 \r\nQ 66.40625 42.578125 64.15625 43.984375 \r\nQ 61.921875 45.40625 58.890625 45.40625 \r\nQ 53.421875 45.40625 49.796875 41.765625 \r\nQ 46.1875 38.140625 46.1875 30.125 \r\nL 46.1875 0 \r\nL 37.40625 0 \r\nL 37.40625 33.6875 \r\nQ 37.40625 39.546875 35.25 42.46875 \r\nQ 33.109375 45.40625 28.21875 45.40625 \r\nQ 24.515625 45.40625 21.359375 43.453125 \r\nQ 18.21875 41.5 16.796875 37.734375 \r\nQ 15.375 33.984375 15.375 26.90625 \r\nL 15.375 0 \r\nz\r\n\" id=\"ArialMT-109\"/>\r\n       <path d=\"M 6.640625 61.46875 \r\nL 6.640625 71.578125 \r\nL 15.4375 71.578125 \r\nL 15.4375 61.46875 \r\nz\r\nM 6.640625 0 \r\nL 6.640625 51.859375 \r\nL 15.4375 51.859375 \r\nL 15.4375 0 \r\nz\r\n\" id=\"ArialMT-105\"/>\r\n      </defs>\r\n      <g style=\"fill:#262626;\" transform=\"translate(67.210938 317.369306)scale(0.1 -0.1)\">\r\n       <use xlink:href=\"#ArialMT-101\"/>\r\n       <use x=\"55.615234\" xlink:href=\"#ArialMT-112\"/>\r\n       <use x=\"111.230469\" xlink:href=\"#ArialMT-97\"/>\r\n       <use x=\"166.845703\" xlink:href=\"#ArialMT-100\"/>\r\n       <use x=\"222.460938\" xlink:href=\"#ArialMT-109\"/>\r\n       <use x=\"305.761719\" xlink:href=\"#ArialMT-105\"/>\r\n       <use x=\"327.978516\" xlink:href=\"#ArialMT-110\"/>\r\n      </g>\r\n     </g>\r\n    </g>\r\n    <g id=\"ytick_3\">\r\n     <g id=\"line2d_5\">\r\n      <path clip-path=\"url(#p6f2d689db9)\" d=\"M 112.567188 300.744 \r\nL 279.967188 300.744 \r\n\" style=\"fill:none;stroke:#cccccc;stroke-linecap:round;stroke-width:0.8;\"/>\r\n     </g>\r\n     <g id=\"text_5\">\r\n      <!-- import -->\r\n      <defs>\r\n       <path d=\"M 25.78125 7.859375 \r\nL 27.046875 0.09375 \r\nQ 23.34375 -0.6875 20.40625 -0.6875 \r\nQ 15.625 -0.6875 12.984375 0.828125 \r\nQ 10.359375 2.34375 9.28125 4.8125 \r\nQ 8.203125 7.28125 8.203125 15.1875 \r\nL 8.203125 45.015625 \r\nL 1.765625 45.015625 \r\nL 1.765625 51.859375 \r\nL 8.203125 51.859375 \r\nL 8.203125 64.703125 \r\nL 16.9375 69.96875 \r\nL 16.9375 51.859375 \r\nL 25.78125 51.859375 \r\nL 25.78125 45.015625 \r\nL 16.9375 45.015625 \r\nL 16.9375 14.703125 \r\nQ 16.9375 10.9375 17.40625 9.859375 \r\nQ 17.875 8.796875 18.921875 8.15625 \r\nQ 19.96875 7.515625 21.921875 7.515625 \r\nQ 23.390625 7.515625 25.78125 7.859375 \r\nz\r\n\" id=\"ArialMT-116\"/>\r\n      </defs>\r\n      <g style=\"fill:#262626;\" transform=\"translate(77.785938 304.322906)scale(0.1 -0.1)\">\r\n       <use xlink:href=\"#ArialMT-105\"/>\r\n       <use x=\"22.216797\" xlink:href=\"#ArialMT-109\"/>\r\n       <use x=\"105.517578\" xlink:href=\"#ArialMT-112\"/>\r\n       <use x=\"161.132812\" xlink:href=\"#ArialMT-111\"/>\r\n       <use x=\"216.748047\" xlink:href=\"#ArialMT-114\"/>\r\n       <use x=\"250.048828\" xlink:href=\"#ArialMT-116\"/>\r\n      </g>\r\n     </g>\r\n    </g>\r\n    <g id=\"ytick_4\">\r\n     <g id=\"line2d_6\">\r\n      <path clip-path=\"url(#p6f2d689db9)\" d=\"M 112.567188 287.6976 \r\nL 279.967188 287.6976 \r\n\" style=\"fill:none;stroke:#cccccc;stroke-linecap:round;stroke-width:0.8;\"/>\r\n     </g>\r\n     <g id=\"text_6\">\r\n      <!-- researcher -->\r\n      <defs>\r\n       <path d=\"M 3.078125 15.484375 \r\nL 11.765625 16.84375 \r\nQ 12.5 11.625 15.84375 8.84375 \r\nQ 19.1875 6.0625 25.203125 6.0625 \r\nQ 31.25 6.0625 34.171875 8.515625 \r\nQ 37.109375 10.984375 37.109375 14.3125 \r\nQ 37.109375 17.28125 34.515625 19 \r\nQ 32.71875 20.171875 25.53125 21.96875 \r\nQ 15.875 24.421875 12.140625 26.203125 \r\nQ 8.40625 27.984375 6.46875 31.125 \r\nQ 4.546875 34.28125 4.546875 38.09375 \r\nQ 4.546875 41.546875 6.125 44.5 \r\nQ 7.71875 47.46875 10.453125 49.421875 \r\nQ 12.5 50.921875 16.03125 51.96875 \r\nQ 19.578125 53.03125 23.640625 53.03125 \r\nQ 29.734375 53.03125 34.34375 51.265625 \r\nQ 38.96875 49.515625 41.15625 46.5 \r\nQ 43.359375 43.5 44.1875 38.484375 \r\nL 35.59375 37.3125 \r\nQ 35.015625 41.3125 32.203125 43.546875 \r\nQ 29.390625 45.796875 24.265625 45.796875 \r\nQ 18.21875 45.796875 15.625 43.796875 \r\nQ 13.03125 41.796875 13.03125 39.109375 \r\nQ 13.03125 37.40625 14.109375 36.03125 \r\nQ 15.1875 34.625 17.484375 33.6875 \r\nQ 18.796875 33.203125 25.25 31.453125 \r\nQ 34.578125 28.953125 38.25 27.359375 \r\nQ 41.9375 25.78125 44.03125 22.75 \r\nQ 46.140625 19.734375 46.140625 15.234375 \r\nQ 46.140625 10.84375 43.578125 6.953125 \r\nQ 41.015625 3.078125 36.171875 0.953125 \r\nQ 31.34375 -1.171875 25.25 -1.171875 \r\nQ 15.140625 -1.171875 9.84375 3.03125 \r\nQ 4.546875 7.234375 3.078125 15.484375 \r\nz\r\n\" id=\"ArialMT-115\"/>\r\n       <path d=\"M 40.4375 19 \r\nL 49.078125 17.875 \r\nQ 47.65625 8.9375 41.8125 3.875 \r\nQ 35.984375 -1.171875 27.484375 -1.171875 \r\nQ 16.84375 -1.171875 10.375 5.78125 \r\nQ 3.90625 12.75 3.90625 25.734375 \r\nQ 3.90625 34.125 6.6875 40.421875 \r\nQ 9.46875 46.734375 15.15625 49.875 \r\nQ 20.84375 53.03125 27.546875 53.03125 \r\nQ 35.984375 53.03125 41.359375 48.75 \r\nQ 46.734375 44.484375 48.25 36.625 \r\nL 39.703125 35.296875 \r\nQ 38.484375 40.53125 35.375 43.15625 \r\nQ 32.28125 45.796875 27.875 45.796875 \r\nQ 21.234375 45.796875 17.078125 41.03125 \r\nQ 12.9375 36.28125 12.9375 25.984375 \r\nQ 12.9375 15.53125 16.9375 10.796875 \r\nQ 20.953125 6.0625 27.390625 6.0625 \r\nQ 32.5625 6.0625 36.03125 9.234375 \r\nQ 39.5 12.40625 40.4375 19 \r\nz\r\n\" id=\"ArialMT-99\"/>\r\n       <path d=\"M 6.59375 0 \r\nL 6.59375 71.578125 \r\nL 15.375 71.578125 \r\nL 15.375 45.90625 \r\nQ 21.53125 53.03125 30.90625 53.03125 \r\nQ 36.671875 53.03125 40.921875 50.75 \r\nQ 45.171875 48.484375 47 44.484375 \r\nQ 48.828125 40.484375 48.828125 32.859375 \r\nL 48.828125 0 \r\nL 40.046875 0 \r\nL 40.046875 32.859375 \r\nQ 40.046875 39.453125 37.1875 42.453125 \r\nQ 34.328125 45.453125 29.109375 45.453125 \r\nQ 25.203125 45.453125 21.75 43.421875 \r\nQ 18.3125 41.40625 16.84375 37.9375 \r\nQ 15.375 34.46875 15.375 28.375 \r\nL 15.375 0 \r\nz\r\n\" id=\"ArialMT-104\"/>\r\n      </defs>\r\n      <g style=\"fill:#262626;\" transform=\"translate(57.773438 291.276506)scale(0.1 -0.1)\">\r\n       <use xlink:href=\"#ArialMT-114\"/>\r\n       <use x=\"33.300781\" xlink:href=\"#ArialMT-101\"/>\r\n       <use x=\"88.916016\" xlink:href=\"#ArialMT-115\"/>\r\n       <use x=\"138.916016\" xlink:href=\"#ArialMT-101\"/>\r\n       <use x=\"194.53125\" xlink:href=\"#ArialMT-97\"/>\r\n       <use x=\"250.146484\" xlink:href=\"#ArialMT-114\"/>\r\n       <use x=\"283.447266\" xlink:href=\"#ArialMT-99\"/>\r\n       <use x=\"333.447266\" xlink:href=\"#ArialMT-104\"/>\r\n       <use x=\"389.0625\" xlink:href=\"#ArialMT-101\"/>\r\n       <use x=\"444.677734\" xlink:href=\"#ArialMT-114\"/>\r\n      </g>\r\n     </g>\r\n    </g>\r\n    <g id=\"ytick_5\">\r\n     <g id=\"line2d_7\">\r\n      <path clip-path=\"url(#p6f2d689db9)\" d=\"M 112.567188 274.6512 \r\nL 279.967188 274.6512 \r\n\" style=\"fill:none;stroke:#cccccc;stroke-linecap:round;stroke-width:0.8;\"/>\r\n     </g>\r\n     <g id=\"text_7\">\r\n      <!-- interface-admin -->\r\n      <defs>\r\n       <path d=\"M 3.171875 21.484375 \r\nL 3.171875 30.328125 \r\nL 30.171875 30.328125 \r\nL 30.171875 21.484375 \r\nz\r\n\" id=\"ArialMT-45\"/>\r\n      </defs>\r\n      <g style=\"fill:#262626;\" transform=\"translate(36.651562 278.230106)scale(0.1 -0.1)\">\r\n       <use xlink:href=\"#ArialMT-105\"/>\r\n       <use x=\"22.216797\" xlink:href=\"#ArialMT-110\"/>\r\n       <use x=\"77.832031\" xlink:href=\"#ArialMT-116\"/>\r\n       <use x=\"105.615234\" xlink:href=\"#ArialMT-101\"/>\r\n       <use x=\"161.230469\" xlink:href=\"#ArialMT-114\"/>\r\n       <use x=\"194.53125\" xlink:href=\"#ArialMT-102\"/>\r\n       <use x=\"222.314453\" xlink:href=\"#ArialMT-97\"/>\r\n       <use x=\"277.929688\" xlink:href=\"#ArialMT-99\"/>\r\n       <use x=\"327.929688\" xlink:href=\"#ArialMT-101\"/>\r\n       <use x=\"383.544922\" xlink:href=\"#ArialMT-45\"/>\r\n       <use x=\"416.845703\" xlink:href=\"#ArialMT-97\"/>\r\n       <use x=\"472.460938\" xlink:href=\"#ArialMT-100\"/>\r\n       <use x=\"528.076172\" xlink:href=\"#ArialMT-109\"/>\r\n       <use x=\"611.376953\" xlink:href=\"#ArialMT-105\"/>\r\n       <use x=\"633.59375\" xlink:href=\"#ArialMT-110\"/>\r\n      </g>\r\n     </g>\r\n    </g>\r\n    <g id=\"ytick_6\">\r\n     <g id=\"line2d_8\">\r\n      <path clip-path=\"url(#p6f2d689db9)\" d=\"M 112.567188 261.6048 \r\nL 279.967188 261.6048 \r\n\" style=\"fill:none;stroke:#cccccc;stroke-linecap:round;stroke-width:0.8;\"/>\r\n     </g>\r\n     <g id=\"text_8\">\r\n      <!-- abusefilter-helper -->\r\n      <defs>\r\n       <path d=\"M 14.703125 0 \r\nL 6.546875 0 \r\nL 6.546875 71.578125 \r\nL 15.328125 71.578125 \r\nL 15.328125 46.046875 \r\nQ 20.90625 53.03125 29.546875 53.03125 \r\nQ 34.328125 53.03125 38.59375 51.09375 \r\nQ 42.875 49.171875 45.625 45.671875 \r\nQ 48.390625 42.1875 49.953125 37.25 \r\nQ 51.515625 32.328125 51.515625 26.703125 \r\nQ 51.515625 13.375 44.921875 6.09375 \r\nQ 38.328125 -1.171875 29.109375 -1.171875 \r\nQ 19.921875 -1.171875 14.703125 6.5 \r\nz\r\nM 14.59375 26.3125 \r\nQ 14.59375 17 17.140625 12.84375 \r\nQ 21.296875 6.0625 28.375 6.0625 \r\nQ 34.125 6.0625 38.328125 11.0625 \r\nQ 42.53125 16.0625 42.53125 25.984375 \r\nQ 42.53125 36.140625 38.5 40.96875 \r\nQ 34.46875 45.796875 28.765625 45.796875 \r\nQ 23 45.796875 18.796875 40.796875 \r\nQ 14.59375 35.796875 14.59375 26.3125 \r\nz\r\n\" id=\"ArialMT-98\"/>\r\n       <path d=\"M 6.390625 0 \r\nL 6.390625 71.578125 \r\nL 15.1875 71.578125 \r\nL 15.1875 0 \r\nz\r\n\" id=\"ArialMT-108\"/>\r\n      </defs>\r\n      <g style=\"fill:#262626;\" transform=\"translate(28.307812 265.244644)scale(0.1 -0.1)\">\r\n       <use xlink:href=\"#ArialMT-97\"/>\r\n       <use x=\"55.615234\" xlink:href=\"#ArialMT-98\"/>\r\n       <use x=\"111.230469\" xlink:href=\"#ArialMT-117\"/>\r\n       <use x=\"166.845703\" xlink:href=\"#ArialMT-115\"/>\r\n       <use x=\"216.845703\" xlink:href=\"#ArialMT-101\"/>\r\n       <use x=\"272.460938\" xlink:href=\"#ArialMT-102\"/>\r\n       <use x=\"300.244141\" xlink:href=\"#ArialMT-105\"/>\r\n       <use x=\"322.460938\" xlink:href=\"#ArialMT-108\"/>\r\n       <use x=\"344.677734\" xlink:href=\"#ArialMT-116\"/>\r\n       <use x=\"372.460938\" xlink:href=\"#ArialMT-101\"/>\r\n       <use x=\"428.076172\" xlink:href=\"#ArialMT-114\"/>\r\n       <use x=\"461.376953\" xlink:href=\"#ArialMT-45\"/>\r\n       <use x=\"494.677734\" xlink:href=\"#ArialMT-104\"/>\r\n       <use x=\"550.292969\" xlink:href=\"#ArialMT-101\"/>\r\n       <use x=\"605.908203\" xlink:href=\"#ArialMT-108\"/>\r\n       <use x=\"628.125\" xlink:href=\"#ArialMT-112\"/>\r\n       <use x=\"683.740234\" xlink:href=\"#ArialMT-101\"/>\r\n       <use x=\"739.355469\" xlink:href=\"#ArialMT-114\"/>\r\n      </g>\r\n     </g>\r\n    </g>\r\n    <g id=\"ytick_7\">\r\n     <g id=\"line2d_9\">\r\n      <path clip-path=\"url(#p6f2d689db9)\" d=\"M 112.567188 248.5584 \r\nL 279.967188 248.5584 \r\n\" style=\"fill:none;stroke:#cccccc;stroke-linecap:round;stroke-width:0.8;\"/>\r\n     </g>\r\n     <g id=\"text_9\">\r\n      <!-- bureaucrat -->\r\n      <g style=\"fill:#262626;\" transform=\"translate(57.764063 252.137306)scale(0.1 -0.1)\">\r\n       <use xlink:href=\"#ArialMT-98\"/>\r\n       <use x=\"55.615234\" xlink:href=\"#ArialMT-117\"/>\r\n       <use x=\"111.230469\" xlink:href=\"#ArialMT-114\"/>\r\n       <use x=\"144.53125\" xlink:href=\"#ArialMT-101\"/>\r\n       <use x=\"200.146484\" xlink:href=\"#ArialMT-97\"/>\r\n       <use x=\"255.761719\" xlink:href=\"#ArialMT-117\"/>\r\n       <use x=\"311.376953\" xlink:href=\"#ArialMT-99\"/>\r\n       <use x=\"361.376953\" xlink:href=\"#ArialMT-114\"/>\r\n       <use x=\"394.677734\" xlink:href=\"#ArialMT-97\"/>\r\n       <use x=\"450.292969\" xlink:href=\"#ArialMT-116\"/>\r\n      </g>\r\n     </g>\r\n    </g>\r\n    <g id=\"ytick_8\">\r\n     <g id=\"line2d_10\">\r\n      <path clip-path=\"url(#p6f2d689db9)\" d=\"M 112.567188 235.512 \r\nL 279.967188 235.512 \r\n\" style=\"fill:none;stroke:#cccccc;stroke-linecap:round;stroke-width:0.8;\"/>\r\n     </g>\r\n     <g id=\"text_10\">\r\n      <!-- accountcreator -->\r\n      <g style=\"fill:#262626;\" transform=\"translate(39.425 239.090906)scale(0.1 -0.1)\">\r\n       <use xlink:href=\"#ArialMT-97\"/>\r\n       <use x=\"55.615234\" xlink:href=\"#ArialMT-99\"/>\r\n       <use x=\"105.615234\" xlink:href=\"#ArialMT-99\"/>\r\n       <use x=\"155.615234\" xlink:href=\"#ArialMT-111\"/>\r\n       <use x=\"211.230469\" xlink:href=\"#ArialMT-117\"/>\r\n       <use x=\"266.845703\" xlink:href=\"#ArialMT-110\"/>\r\n       <use x=\"322.460938\" xlink:href=\"#ArialMT-116\"/>\r\n       <use x=\"350.244141\" xlink:href=\"#ArialMT-99\"/>\r\n       <use x=\"400.244141\" xlink:href=\"#ArialMT-114\"/>\r\n       <use x=\"433.544922\" xlink:href=\"#ArialMT-101\"/>\r\n       <use x=\"489.160156\" xlink:href=\"#ArialMT-97\"/>\r\n       <use x=\"544.775391\" xlink:href=\"#ArialMT-116\"/>\r\n       <use x=\"572.558594\" xlink:href=\"#ArialMT-111\"/>\r\n       <use x=\"628.173828\" xlink:href=\"#ArialMT-114\"/>\r\n      </g>\r\n     </g>\r\n    </g>\r\n    <g id=\"ytick_9\">\r\n     <g id=\"line2d_11\">\r\n      <path clip-path=\"url(#p6f2d689db9)\" d=\"M 112.567188 222.4656 \r\nL 279.967188 222.4656 \r\n\" style=\"fill:none;stroke:#cccccc;stroke-linecap:round;stroke-width:0.8;\"/>\r\n     </g>\r\n     <g id=\"text_11\">\r\n      <!-- checkuser -->\r\n      <defs>\r\n       <path d=\"M 6.640625 0 \r\nL 6.640625 71.578125 \r\nL 15.4375 71.578125 \r\nL 15.4375 30.765625 \r\nL 36.234375 51.859375 \r\nL 47.609375 51.859375 \r\nL 27.78125 32.625 \r\nL 49.609375 0 \r\nL 38.765625 0 \r\nL 21.625 26.515625 \r\nL 15.4375 20.5625 \r\nL 15.4375 0 \r\nz\r\n\" id=\"ArialMT-107\"/>\r\n      </defs>\r\n      <g style=\"fill:#262626;\" transform=\"translate(59.99375 226.044506)scale(0.1 -0.1)\">\r\n       <use xlink:href=\"#ArialMT-99\"/>\r\n       <use x=\"50\" xlink:href=\"#ArialMT-104\"/>\r\n       <use x=\"105.615234\" xlink:href=\"#ArialMT-101\"/>\r\n       <use x=\"161.230469\" xlink:href=\"#ArialMT-99\"/>\r\n       <use x=\"211.230469\" xlink:href=\"#ArialMT-107\"/>\r\n       <use x=\"261.230469\" xlink:href=\"#ArialMT-117\"/>\r\n       <use x=\"316.845703\" xlink:href=\"#ArialMT-115\"/>\r\n       <use x=\"366.845703\" xlink:href=\"#ArialMT-101\"/>\r\n       <use x=\"422.460938\" xlink:href=\"#ArialMT-114\"/>\r\n      </g>\r\n     </g>\r\n    </g>\r\n    <g id=\"ytick_10\">\r\n     <g id=\"line2d_12\">\r\n      <path clip-path=\"url(#p6f2d689db9)\" d=\"M 112.567188 209.4192 \r\nL 279.967188 209.4192 \r\n\" style=\"fill:none;stroke:#cccccc;stroke-linecap:round;stroke-width:0.8;\"/>\r\n     </g>\r\n     <g id=\"text_12\">\r\n      <!-- eventcoordinator -->\r\n      <defs>\r\n       <path d=\"M 21 0 \r\nL 1.265625 51.859375 \r\nL 10.546875 51.859375 \r\nL 21.6875 20.796875 \r\nQ 23.484375 15.765625 25 10.359375 \r\nQ 26.171875 14.453125 28.265625 20.21875 \r\nL 39.796875 51.859375 \r\nL 48.828125 51.859375 \r\nL 29.203125 0 \r\nz\r\n\" id=\"ArialMT-118\"/>\r\n      </defs>\r\n      <g style=\"fill:#262626;\" transform=\"translate(31.08125 212.998106)scale(0.1 -0.1)\">\r\n       <use xlink:href=\"#ArialMT-101\"/>\r\n       <use x=\"55.615234\" xlink:href=\"#ArialMT-118\"/>\r\n       <use x=\"105.615234\" xlink:href=\"#ArialMT-101\"/>\r\n       <use x=\"161.230469\" xlink:href=\"#ArialMT-110\"/>\r\n       <use x=\"216.845703\" xlink:href=\"#ArialMT-116\"/>\r\n       <use x=\"244.628906\" xlink:href=\"#ArialMT-99\"/>\r\n       <use x=\"294.628906\" xlink:href=\"#ArialMT-111\"/>\r\n       <use x=\"350.244141\" xlink:href=\"#ArialMT-111\"/>\r\n       <use x=\"405.859375\" xlink:href=\"#ArialMT-114\"/>\r\n       <use x=\"439.160156\" xlink:href=\"#ArialMT-100\"/>\r\n       <use x=\"494.775391\" xlink:href=\"#ArialMT-105\"/>\r\n       <use x=\"516.992188\" xlink:href=\"#ArialMT-110\"/>\r\n       <use x=\"572.607422\" xlink:href=\"#ArialMT-97\"/>\r\n       <use x=\"628.222656\" xlink:href=\"#ArialMT-116\"/>\r\n       <use x=\"656.005859\" xlink:href=\"#ArialMT-111\"/>\r\n       <use x=\"711.621094\" xlink:href=\"#ArialMT-114\"/>\r\n      </g>\r\n     </g>\r\n    </g>\r\n    <g id=\"ytick_11\">\r\n     <g id=\"line2d_13\">\r\n      <path clip-path=\"url(#p6f2d689db9)\" d=\"M 112.567188 196.3728 \r\nL 279.967188 196.3728 \r\n\" style=\"fill:none;stroke:#cccccc;stroke-linecap:round;stroke-width:0.8;\"/>\r\n     </g>\r\n     <g id=\"text_13\">\r\n      <!-- massmessage-sender -->\r\n      <defs>\r\n       <path d=\"M 4.984375 -4.296875 \r\nL 13.53125 -5.5625 \r\nQ 14.0625 -9.515625 16.5 -11.328125 \r\nQ 19.78125 -13.765625 25.4375 -13.765625 \r\nQ 31.546875 -13.765625 34.859375 -11.328125 \r\nQ 38.1875 -8.890625 39.359375 -4.5 \r\nQ 40.046875 -1.8125 39.984375 6.78125 \r\nQ 34.234375 0 25.640625 0 \r\nQ 14.9375 0 9.078125 7.71875 \r\nQ 3.21875 15.4375 3.21875 26.21875 \r\nQ 3.21875 33.640625 5.90625 39.90625 \r\nQ 8.59375 46.1875 13.6875 49.609375 \r\nQ 18.796875 53.03125 25.6875 53.03125 \r\nQ 34.859375 53.03125 40.828125 45.609375 \r\nL 40.828125 51.859375 \r\nL 48.921875 51.859375 \r\nL 48.921875 7.03125 \r\nQ 48.921875 -5.078125 46.453125 -10.125 \r\nQ 44 -15.1875 38.640625 -18.109375 \r\nQ 33.296875 -21.046875 25.484375 -21.046875 \r\nQ 16.21875 -21.046875 10.5 -16.875 \r\nQ 4.78125 -12.703125 4.984375 -4.296875 \r\nz\r\nM 12.25 26.859375 \r\nQ 12.25 16.65625 16.296875 11.96875 \r\nQ 20.359375 7.28125 26.46875 7.28125 \r\nQ 32.515625 7.28125 36.609375 11.9375 \r\nQ 40.71875 16.609375 40.71875 26.5625 \r\nQ 40.71875 36.078125 36.5 40.90625 \r\nQ 32.28125 45.75 26.3125 45.75 \r\nQ 20.453125 45.75 16.34375 40.984375 \r\nQ 12.25 36.234375 12.25 26.859375 \r\nz\r\n\" id=\"ArialMT-103\"/>\r\n      </defs>\r\n      <g style=\"fill:#262626;\" transform=\"translate(7.2 199.951706)scale(0.1 -0.1)\">\r\n       <use xlink:href=\"#ArialMT-109\"/>\r\n       <use x=\"83.300781\" xlink:href=\"#ArialMT-97\"/>\r\n       <use x=\"138.916016\" xlink:href=\"#ArialMT-115\"/>\r\n       <use x=\"188.916016\" xlink:href=\"#ArialMT-115\"/>\r\n       <use x=\"238.916016\" xlink:href=\"#ArialMT-109\"/>\r\n       <use x=\"322.216797\" xlink:href=\"#ArialMT-101\"/>\r\n       <use x=\"377.832031\" xlink:href=\"#ArialMT-115\"/>\r\n       <use x=\"427.832031\" xlink:href=\"#ArialMT-115\"/>\r\n       <use x=\"477.832031\" xlink:href=\"#ArialMT-97\"/>\r\n       <use x=\"533.447266\" xlink:href=\"#ArialMT-103\"/>\r\n       <use x=\"589.0625\" xlink:href=\"#ArialMT-101\"/>\r\n       <use x=\"644.677734\" xlink:href=\"#ArialMT-45\"/>\r\n       <use x=\"677.978516\" xlink:href=\"#ArialMT-115\"/>\r\n       <use x=\"727.978516\" xlink:href=\"#ArialMT-101\"/>\r\n       <use x=\"783.59375\" xlink:href=\"#ArialMT-110\"/>\r\n       <use x=\"839.208984\" xlink:href=\"#ArialMT-100\"/>\r\n       <use x=\"894.824219\" xlink:href=\"#ArialMT-101\"/>\r\n       <use x=\"950.439453\" xlink:href=\"#ArialMT-114\"/>\r\n      </g>\r\n     </g>\r\n    </g>\r\n    <g id=\"ytick_12\">\r\n     <g id=\"line2d_14\">\r\n      <path clip-path=\"url(#p6f2d689db9)\" d=\"M 112.567188 183.3264 \r\nL 279.967188 183.3264 \r\n\" style=\"fill:none;stroke:#cccccc;stroke-linecap:round;stroke-width:0.8;\"/>\r\n     </g>\r\n     <g id=\"text_14\">\r\n      <!-- oversight -->\r\n      <g style=\"fill:#262626;\" transform=\"translate(64.99375 186.905306)scale(0.1 -0.1)\">\r\n       <use xlink:href=\"#ArialMT-111\"/>\r\n       <use x=\"55.615234\" xlink:href=\"#ArialMT-118\"/>\r\n       <use x=\"105.615234\" xlink:href=\"#ArialMT-101\"/>\r\n       <use x=\"161.230469\" xlink:href=\"#ArialMT-114\"/>\r\n       <use x=\"194.53125\" xlink:href=\"#ArialMT-115\"/>\r\n       <use x=\"244.53125\" xlink:href=\"#ArialMT-105\"/>\r\n       <use x=\"266.748047\" xlink:href=\"#ArialMT-103\"/>\r\n       <use x=\"322.363281\" xlink:href=\"#ArialMT-104\"/>\r\n       <use x=\"377.978516\" xlink:href=\"#ArialMT-116\"/>\r\n      </g>\r\n     </g>\r\n    </g>\r\n    <g id=\"ytick_13\">\r\n     <g id=\"line2d_15\">\r\n      <path clip-path=\"url(#p6f2d689db9)\" d=\"M 112.567188 170.28 \r\nL 279.967188 170.28 \r\n\" style=\"fill:none;stroke:#cccccc;stroke-linecap:round;stroke-width:0.8;\"/>\r\n     </g>\r\n     <g id=\"text_15\">\r\n      <!-- ipblock-exempt -->\r\n      <defs>\r\n       <path d=\"M 0.734375 0 \r\nL 19.671875 26.953125 \r\nL 2.15625 51.859375 \r\nL 13.140625 51.859375 \r\nL 21.09375 39.703125 \r\nQ 23.34375 36.234375 24.703125 33.890625 \r\nQ 26.859375 37.109375 28.65625 39.59375 \r\nL 37.40625 51.859375 \r\nL 47.90625 51.859375 \r\nL 29.984375 27.4375 \r\nL 49.265625 0 \r\nL 38.484375 0 \r\nL 27.828125 16.109375 \r\nL 25 20.453125 \r\nL 11.375 0 \r\nz\r\n\" id=\"ArialMT-120\"/>\r\n      </defs>\r\n      <g style=\"fill:#262626;\" transform=\"translate(38.320312 173.858906)scale(0.1 -0.1)\">\r\n       <use xlink:href=\"#ArialMT-105\"/>\r\n       <use x=\"22.216797\" xlink:href=\"#ArialMT-112\"/>\r\n       <use x=\"77.832031\" xlink:href=\"#ArialMT-98\"/>\r\n       <use x=\"133.447266\" xlink:href=\"#ArialMT-108\"/>\r\n       <use x=\"155.664062\" xlink:href=\"#ArialMT-111\"/>\r\n       <use x=\"211.279297\" xlink:href=\"#ArialMT-99\"/>\r\n       <use x=\"261.279297\" xlink:href=\"#ArialMT-107\"/>\r\n       <use x=\"311.279297\" xlink:href=\"#ArialMT-45\"/>\r\n       <use x=\"344.580078\" xlink:href=\"#ArialMT-101\"/>\r\n       <use x=\"400.195312\" xlink:href=\"#ArialMT-120\"/>\r\n       <use x=\"450.195312\" xlink:href=\"#ArialMT-101\"/>\r\n       <use x=\"505.810547\" xlink:href=\"#ArialMT-109\"/>\r\n       <use x=\"589.111328\" xlink:href=\"#ArialMT-112\"/>\r\n       <use x=\"644.726562\" xlink:href=\"#ArialMT-116\"/>\r\n      </g>\r\n     </g>\r\n    </g>\r\n    <g id=\"ytick_14\">\r\n     <g id=\"line2d_16\">\r\n      <path clip-path=\"url(#p6f2d689db9)\" d=\"M 112.567188 157.2336 \r\nL 279.967188 157.2336 \r\n\" style=\"fill:none;stroke:#cccccc;stroke-linecap:round;stroke-width:0.8;\"/>\r\n     </g>\r\n     <g id=\"text_16\">\r\n      <!-- templateeditor -->\r\n      <g style=\"fill:#262626;\" transform=\"translate(42.203125 160.812506)scale(0.1 -0.1)\">\r\n       <use xlink:href=\"#ArialMT-116\"/>\r\n       <use x=\"27.783203\" xlink:href=\"#ArialMT-101\"/>\r\n       <use x=\"83.398438\" xlink:href=\"#ArialMT-109\"/>\r\n       <use x=\"166.699219\" xlink:href=\"#ArialMT-112\"/>\r\n       <use x=\"222.314453\" xlink:href=\"#ArialMT-108\"/>\r\n       <use x=\"244.53125\" xlink:href=\"#ArialMT-97\"/>\r\n       <use x=\"300.146484\" xlink:href=\"#ArialMT-116\"/>\r\n       <use x=\"327.929688\" xlink:href=\"#ArialMT-101\"/>\r\n       <use x=\"383.544922\" xlink:href=\"#ArialMT-101\"/>\r\n       <use x=\"439.160156\" xlink:href=\"#ArialMT-100\"/>\r\n       <use x=\"494.775391\" xlink:href=\"#ArialMT-105\"/>\r\n       <use x=\"516.992188\" xlink:href=\"#ArialMT-116\"/>\r\n       <use x=\"544.775391\" xlink:href=\"#ArialMT-111\"/>\r\n       <use x=\"600.390625\" xlink:href=\"#ArialMT-114\"/>\r\n      </g>\r\n     </g>\r\n    </g>\r\n    <g id=\"ytick_15\">\r\n     <g id=\"line2d_17\">\r\n      <path clip-path=\"url(#p6f2d689db9)\" d=\"M 112.567188 144.1872 \r\nL 279.967188 144.1872 \r\n\" style=\"fill:none;stroke:#cccccc;stroke-linecap:round;stroke-width:0.8;\"/>\r\n     </g>\r\n     <g id=\"text_17\">\r\n      <!-- abusefilter -->\r\n      <g style=\"fill:#262626;\" transform=\"translate(59.432812 147.766106)scale(0.1 -0.1)\">\r\n       <use xlink:href=\"#ArialMT-97\"/>\r\n       <use x=\"55.615234\" xlink:href=\"#ArialMT-98\"/>\r\n       <use x=\"111.230469\" xlink:href=\"#ArialMT-117\"/>\r\n       <use x=\"166.845703\" xlink:href=\"#ArialMT-115\"/>\r\n       <use x=\"216.845703\" xlink:href=\"#ArialMT-101\"/>\r\n       <use x=\"272.460938\" xlink:href=\"#ArialMT-102\"/>\r\n       <use x=\"300.244141\" xlink:href=\"#ArialMT-105\"/>\r\n       <use x=\"322.460938\" xlink:href=\"#ArialMT-108\"/>\r\n       <use x=\"344.677734\" xlink:href=\"#ArialMT-116\"/>\r\n       <use x=\"372.460938\" xlink:href=\"#ArialMT-101\"/>\r\n       <use x=\"428.076172\" xlink:href=\"#ArialMT-114\"/>\r\n      </g>\r\n     </g>\r\n    </g>\r\n    <g id=\"ytick_16\">\r\n     <g id=\"line2d_18\">\r\n      <path clip-path=\"url(#p6f2d689db9)\" d=\"M 112.567188 131.1408 \r\nL 279.967188 131.1408 \r\n\" style=\"fill:none;stroke:#cccccc;stroke-linecap:round;stroke-width:0.8;\"/>\r\n     </g>\r\n     <g id=\"text_18\">\r\n      <!-- extendedmover -->\r\n      <g style=\"fill:#262626;\" transform=\"translate(36.642188 134.719706)scale(0.1 -0.1)\">\r\n       <use xlink:href=\"#ArialMT-101\"/>\r\n       <use x=\"55.615234\" xlink:href=\"#ArialMT-120\"/>\r\n       <use x=\"105.615234\" xlink:href=\"#ArialMT-116\"/>\r\n       <use x=\"133.398438\" xlink:href=\"#ArialMT-101\"/>\r\n       <use x=\"189.013672\" xlink:href=\"#ArialMT-110\"/>\r\n       <use x=\"244.628906\" xlink:href=\"#ArialMT-100\"/>\r\n       <use x=\"300.244141\" xlink:href=\"#ArialMT-101\"/>\r\n       <use x=\"355.859375\" xlink:href=\"#ArialMT-100\"/>\r\n       <use x=\"411.474609\" xlink:href=\"#ArialMT-109\"/>\r\n       <use x=\"494.775391\" xlink:href=\"#ArialMT-111\"/>\r\n       <use x=\"550.390625\" xlink:href=\"#ArialMT-118\"/>\r\n       <use x=\"600.390625\" xlink:href=\"#ArialMT-101\"/>\r\n       <use x=\"656.005859\" xlink:href=\"#ArialMT-114\"/>\r\n      </g>\r\n     </g>\r\n    </g>\r\n    <g id=\"ytick_17\">\r\n     <g id=\"line2d_19\">\r\n      <path clip-path=\"url(#p6f2d689db9)\" d=\"M 112.567188 118.0944 \r\nL 279.967188 118.0944 \r\n\" style=\"fill:none;stroke:#cccccc;stroke-linecap:round;stroke-width:0.8;\"/>\r\n     </g>\r\n     <g id=\"text_19\">\r\n      <!-- filemover -->\r\n      <g style=\"fill:#262626;\" transform=\"translate(65.003125 121.673306)scale(0.1 -0.1)\">\r\n       <use xlink:href=\"#ArialMT-102\"/>\r\n       <use x=\"27.783203\" xlink:href=\"#ArialMT-105\"/>\r\n       <use x=\"50\" xlink:href=\"#ArialMT-108\"/>\r\n       <use x=\"72.216797\" xlink:href=\"#ArialMT-101\"/>\r\n       <use x=\"127.832031\" xlink:href=\"#ArialMT-109\"/>\r\n       <use x=\"211.132812\" xlink:href=\"#ArialMT-111\"/>\r\n       <use x=\"266.748047\" xlink:href=\"#ArialMT-118\"/>\r\n       <use x=\"316.748047\" xlink:href=\"#ArialMT-101\"/>\r\n       <use x=\"372.363281\" xlink:href=\"#ArialMT-114\"/>\r\n      </g>\r\n     </g>\r\n    </g>\r\n    <g id=\"ytick_18\">\r\n     <g id=\"line2d_20\">\r\n      <path clip-path=\"url(#p6f2d689db9)\" d=\"M 112.567188 105.048 \r\nL 279.967188 105.048 \r\n\" style=\"fill:none;stroke:#cccccc;stroke-linecap:round;stroke-width:0.8;\"/>\r\n     </g>\r\n     <g id=\"text_20\">\r\n      <!-- patroller -->\r\n      <g style=\"fill:#262626;\" transform=\"translate(69.442188 108.626906)scale(0.1 -0.1)\">\r\n       <use xlink:href=\"#ArialMT-112\"/>\r\n       <use x=\"55.615234\" xlink:href=\"#ArialMT-97\"/>\r\n       <use x=\"111.230469\" xlink:href=\"#ArialMT-116\"/>\r\n       <use x=\"139.013672\" xlink:href=\"#ArialMT-114\"/>\r\n       <use x=\"172.314453\" xlink:href=\"#ArialMT-111\"/>\r\n       <use x=\"227.929688\" xlink:href=\"#ArialMT-108\"/>\r\n       <use x=\"250.146484\" xlink:href=\"#ArialMT-108\"/>\r\n       <use x=\"272.363281\" xlink:href=\"#ArialMT-101\"/>\r\n       <use x=\"327.978516\" xlink:href=\"#ArialMT-114\"/>\r\n      </g>\r\n     </g>\r\n    </g>\r\n    <g id=\"ytick_19\">\r\n     <g id=\"line2d_21\">\r\n      <path clip-path=\"url(#p6f2d689db9)\" d=\"M 112.567188 92.0016 \r\nL 279.967188 92.0016 \r\n\" style=\"fill:none;stroke:#cccccc;stroke-linecap:round;stroke-width:0.8;\"/>\r\n     </g>\r\n     <g id=\"text_21\">\r\n      <!-- sysop -->\r\n      <defs>\r\n       <path d=\"M 6.203125 -19.96875 \r\nL 5.21875 -11.71875 \r\nQ 8.109375 -12.5 10.25 -12.5 \r\nQ 13.1875 -12.5 14.9375 -11.515625 \r\nQ 16.703125 -10.546875 17.828125 -8.796875 \r\nQ 18.65625 -7.46875 20.515625 -2.25 \r\nQ 20.75 -1.515625 21.296875 -0.09375 \r\nL 1.609375 51.859375 \r\nL 11.078125 51.859375 \r\nL 21.875 21.828125 \r\nQ 23.96875 16.109375 25.640625 9.8125 \r\nQ 27.15625 15.875 29.25 21.625 \r\nL 40.328125 51.859375 \r\nL 49.125 51.859375 \r\nL 29.390625 -0.875 \r\nQ 26.21875 -9.421875 24.46875 -12.640625 \r\nQ 22.125 -17 19.09375 -19.015625 \r\nQ 16.0625 -21.046875 11.859375 -21.046875 \r\nQ 9.328125 -21.046875 6.203125 -19.96875 \r\nz\r\n\" id=\"ArialMT-121\"/>\r\n      </defs>\r\n      <g style=\"fill:#262626;\" transform=\"translate(79.445312 95.521912)scale(0.1 -0.1)\">\r\n       <use xlink:href=\"#ArialMT-115\"/>\r\n       <use x=\"50\" xlink:href=\"#ArialMT-121\"/>\r\n       <use x=\"100\" xlink:href=\"#ArialMT-115\"/>\r\n       <use x=\"150\" xlink:href=\"#ArialMT-111\"/>\r\n       <use x=\"205.615234\" xlink:href=\"#ArialMT-112\"/>\r\n      </g>\r\n     </g>\r\n    </g>\r\n    <g id=\"ytick_20\">\r\n     <g id=\"line2d_22\">\r\n      <path clip-path=\"url(#p6f2d689db9)\" d=\"M 112.567188 78.9552 \r\nL 279.967188 78.9552 \r\n\" style=\"fill:none;stroke:#cccccc;stroke-linecap:round;stroke-width:0.8;\"/>\r\n     </g>\r\n     <g id=\"text_22\">\r\n      <!-- autoreviewer -->\r\n      <defs>\r\n       <path d=\"M 16.15625 0 \r\nL 0.296875 51.859375 \r\nL 9.375 51.859375 \r\nL 17.625 21.921875 \r\nL 20.703125 10.796875 \r\nQ 20.90625 11.625 23.390625 21.484375 \r\nL 31.640625 51.859375 \r\nL 40.671875 51.859375 \r\nL 48.4375 21.78125 \r\nL 51.03125 11.859375 \r\nL 54 21.875 \r\nL 62.890625 51.859375 \r\nL 71.4375 51.859375 \r\nL 55.21875 0 \r\nL 46.09375 0 \r\nL 37.84375 31.0625 \r\nL 35.84375 39.890625 \r\nL 25.34375 0 \r\nz\r\n\" id=\"ArialMT-119\"/>\r\n      </defs>\r\n      <g style=\"fill:#262626;\" transform=\"translate(48.320312 82.534106)scale(0.1 -0.1)\">\r\n       <use xlink:href=\"#ArialMT-97\"/>\r\n       <use x=\"55.615234\" xlink:href=\"#ArialMT-117\"/>\r\n       <use x=\"111.230469\" xlink:href=\"#ArialMT-116\"/>\r\n       <use x=\"139.013672\" xlink:href=\"#ArialMT-111\"/>\r\n       <use x=\"194.628906\" xlink:href=\"#ArialMT-114\"/>\r\n       <use x=\"227.929688\" xlink:href=\"#ArialMT-101\"/>\r\n       <use x=\"283.544922\" xlink:href=\"#ArialMT-118\"/>\r\n       <use x=\"333.544922\" xlink:href=\"#ArialMT-105\"/>\r\n       <use x=\"355.761719\" xlink:href=\"#ArialMT-101\"/>\r\n       <use x=\"411.376953\" xlink:href=\"#ArialMT-119\"/>\r\n       <use x=\"483.59375\" xlink:href=\"#ArialMT-101\"/>\r\n       <use x=\"539.208984\" xlink:href=\"#ArialMT-114\"/>\r\n      </g>\r\n     </g>\r\n    </g>\r\n    <g id=\"ytick_21\">\r\n     <g id=\"line2d_23\">\r\n      <path clip-path=\"url(#p6f2d689db9)\" d=\"M 112.567188 65.9088 \r\nL 279.967188 65.9088 \r\n\" style=\"fill:none;stroke:#cccccc;stroke-linecap:round;stroke-width:0.8;\"/>\r\n     </g>\r\n     <g id=\"text_23\">\r\n      <!-- rollbacker -->\r\n      <g style=\"fill:#262626;\" transform=\"translate(62.220312 69.487706)scale(0.1 -0.1)\">\r\n       <use xlink:href=\"#ArialMT-114\"/>\r\n       <use x=\"33.300781\" xlink:href=\"#ArialMT-111\"/>\r\n       <use x=\"88.916016\" xlink:href=\"#ArialMT-108\"/>\r\n       <use x=\"111.132812\" xlink:href=\"#ArialMT-108\"/>\r\n       <use x=\"133.349609\" xlink:href=\"#ArialMT-98\"/>\r\n       <use x=\"188.964844\" xlink:href=\"#ArialMT-97\"/>\r\n       <use x=\"244.580078\" xlink:href=\"#ArialMT-99\"/>\r\n       <use x=\"294.580078\" xlink:href=\"#ArialMT-107\"/>\r\n       <use x=\"344.580078\" xlink:href=\"#ArialMT-101\"/>\r\n       <use x=\"400.195312\" xlink:href=\"#ArialMT-114\"/>\r\n      </g>\r\n     </g>\r\n    </g>\r\n    <g id=\"ytick_22\">\r\n     <g id=\"line2d_24\">\r\n      <path clip-path=\"url(#p6f2d689db9)\" d=\"M 112.567188 52.8624 \r\nL 279.967188 52.8624 \r\n\" style=\"fill:none;stroke:#cccccc;stroke-linecap:round;stroke-width:0.8;\"/>\r\n     </g>\r\n     <g id=\"text_24\">\r\n      <!-- reviewer -->\r\n      <g style=\"fill:#262626;\" transform=\"translate(67.78125 56.441306)scale(0.1 -0.1)\">\r\n       <use xlink:href=\"#ArialMT-114\"/>\r\n       <use x=\"33.300781\" xlink:href=\"#ArialMT-101\"/>\r\n       <use x=\"88.916016\" xlink:href=\"#ArialMT-118\"/>\r\n       <use x=\"138.916016\" xlink:href=\"#ArialMT-105\"/>\r\n       <use x=\"161.132812\" xlink:href=\"#ArialMT-101\"/>\r\n       <use x=\"216.748047\" xlink:href=\"#ArialMT-119\"/>\r\n       <use x=\"288.964844\" xlink:href=\"#ArialMT-101\"/>\r\n       <use x=\"344.580078\" xlink:href=\"#ArialMT-114\"/>\r\n      </g>\r\n     </g>\r\n    </g>\r\n    <g id=\"ytick_23\">\r\n     <g id=\"line2d_25\">\r\n      <path clip-path=\"url(#p6f2d689db9)\" d=\"M 112.567188 39.816 \r\nL 279.967188 39.816 \r\n\" style=\"fill:none;stroke:#cccccc;stroke-linecap:round;stroke-width:0.8;\"/>\r\n     </g>\r\n     <g id=\"text_25\">\r\n      <!-- extendedconfirmed -->\r\n      <g style=\"fill:#262626;\" transform=\"translate(20.520313 43.394906)scale(0.1 -0.1)\">\r\n       <use xlink:href=\"#ArialMT-101\"/>\r\n       <use x=\"55.615234\" xlink:href=\"#ArialMT-120\"/>\r\n       <use x=\"105.615234\" xlink:href=\"#ArialMT-116\"/>\r\n       <use x=\"133.398438\" xlink:href=\"#ArialMT-101\"/>\r\n       <use x=\"189.013672\" xlink:href=\"#ArialMT-110\"/>\r\n       <use x=\"244.628906\" xlink:href=\"#ArialMT-100\"/>\r\n       <use x=\"300.244141\" xlink:href=\"#ArialMT-101\"/>\r\n       <use x=\"355.859375\" xlink:href=\"#ArialMT-100\"/>\r\n       <use x=\"411.474609\" xlink:href=\"#ArialMT-99\"/>\r\n       <use x=\"461.474609\" xlink:href=\"#ArialMT-111\"/>\r\n       <use x=\"517.089844\" xlink:href=\"#ArialMT-110\"/>\r\n       <use x=\"572.705078\" xlink:href=\"#ArialMT-102\"/>\r\n       <use x=\"600.488281\" xlink:href=\"#ArialMT-105\"/>\r\n       <use x=\"622.705078\" xlink:href=\"#ArialMT-114\"/>\r\n       <use x=\"656.005859\" xlink:href=\"#ArialMT-109\"/>\r\n       <use x=\"739.306641\" xlink:href=\"#ArialMT-101\"/>\r\n       <use x=\"794.921875\" xlink:href=\"#ArialMT-100\"/>\r\n      </g>\r\n     </g>\r\n    </g>\r\n    <g id=\"ytick_24\">\r\n     <g id=\"line2d_26\">\r\n      <path clip-path=\"url(#p6f2d689db9)\" d=\"M 112.567188 26.7696 \r\nL 279.967188 26.7696 \r\n\" style=\"fill:none;stroke:#cccccc;stroke-linecap:round;stroke-width:0.8;\"/>\r\n     </g>\r\n     <g id=\"text_26\">\r\n      <!-- autoconfirmed -->\r\n      <g style=\"fill:#262626;\" transform=\"translate(42.203125 30.348506)scale(0.1 -0.1)\">\r\n       <use xlink:href=\"#ArialMT-97\"/>\r\n       <use x=\"55.615234\" xlink:href=\"#ArialMT-117\"/>\r\n       <use x=\"111.230469\" xlink:href=\"#ArialMT-116\"/>\r\n       <use x=\"139.013672\" xlink:href=\"#ArialMT-111\"/>\r\n       <use x=\"194.628906\" xlink:href=\"#ArialMT-99\"/>\r\n       <use x=\"244.628906\" xlink:href=\"#ArialMT-111\"/>\r\n       <use x=\"300.244141\" xlink:href=\"#ArialMT-110\"/>\r\n       <use x=\"355.859375\" xlink:href=\"#ArialMT-102\"/>\r\n       <use x=\"383.642578\" xlink:href=\"#ArialMT-105\"/>\r\n       <use x=\"405.859375\" xlink:href=\"#ArialMT-114\"/>\r\n       <use x=\"439.160156\" xlink:href=\"#ArialMT-109\"/>\r\n       <use x=\"522.460938\" xlink:href=\"#ArialMT-101\"/>\r\n       <use x=\"578.076172\" xlink:href=\"#ArialMT-100\"/>\r\n      </g>\r\n     </g>\r\n    </g>\r\n    <g id=\"ytick_25\">\r\n     <g id=\"line2d_27\">\r\n      <path clip-path=\"url(#p6f2d689db9)\" d=\"M 112.567188 13.7232 \r\nL 279.967188 13.7232 \r\n\" style=\"fill:none;stroke:#cccccc;stroke-linecap:round;stroke-width:0.8;\"/>\r\n     </g>\r\n     <g id=\"text_27\">\r\n      <!-- user -->\r\n      <g style=\"fill:#262626;\" transform=\"translate(86.115625 17.302106)scale(0.1 -0.1)\">\r\n       <use xlink:href=\"#ArialMT-117\"/>\r\n       <use x=\"55.615234\" xlink:href=\"#ArialMT-115\"/>\r\n       <use x=\"105.615234\" xlink:href=\"#ArialMT-101\"/>\r\n       <use x=\"161.230469\" xlink:href=\"#ArialMT-114\"/>\r\n      </g>\r\n     </g>\r\n    </g>\r\n   </g>\r\n   <g id=\"patch_3\">\r\n    <path clip-path=\"url(#p6f2d689db9)\" d=\"M -36485.199549 330.0984 \r\nL 120.176278 330.0984 \r\nL 120.176278 323.5752 \r\nL -36485.199549 323.5752 \r\nz\r\n\" style=\"fill:#1f77b4;stroke:#ffffff;stroke-linejoin:miter;\"/>\r\n   </g>\r\n   <g id=\"patch_4\">\r\n    <path clip-path=\"url(#p6f2d689db9)\" d=\"M -36485.199549 317.052 \r\nL 120.176278 317.052 \r\nL 120.176278 310.5288 \r\nL -36485.199549 310.5288 \r\nz\r\n\" style=\"fill:#1f77b4;stroke:#ffffff;stroke-linejoin:miter;\"/>\r\n   </g>\r\n   <g id=\"patch_5\">\r\n    <path clip-path=\"url(#p6f2d689db9)\" d=\"M -36485.199549 304.0056 \r\nL 131.240366 304.0056 \r\nL 131.240366 297.4824 \r\nL -36485.199549 297.4824 \r\nz\r\n\" style=\"fill:#1f77b4;stroke:#ffffff;stroke-linejoin:miter;\"/>\r\n   </g>\r\n   <g id=\"patch_6\">\r\n    <path clip-path=\"url(#p6f2d689db9)\" d=\"M -36485.199549 290.9592 \r\nL 131.240366 290.9592 \r\nL 131.240366 284.436 \r\nL -36485.199549 284.436 \r\nz\r\n\" style=\"fill:#1f77b4;stroke:#ffffff;stroke-linejoin:miter;\"/>\r\n   </g>\r\n   <g id=\"patch_7\">\r\n    <path clip-path=\"url(#p6f2d689db9)\" d=\"M -36485.199549 277.9128 \r\nL 158.451733 277.9128 \r\nL 158.451733 271.3896 \r\nL -36485.199549 271.3896 \r\nz\r\n\" style=\"fill:#1f77b4;stroke:#ffffff;stroke-linejoin:miter;\"/>\r\n   </g>\r\n   <g id=\"patch_8\">\r\n    <path clip-path=\"url(#p6f2d689db9)\" d=\"M -36485.199549 264.8664 \r\nL 162.301187 264.8664 \r\nL 162.301187 258.3432 \r\nL -36485.199549 258.3432 \r\nz\r\n\" style=\"fill:#1f77b4;stroke:#ffffff;stroke-linejoin:miter;\"/>\r\n   </g>\r\n   <g id=\"patch_9\">\r\n    <path clip-path=\"url(#p6f2d689db9)\" d=\"M -36485.199549 251.82 \r\nL 167.175721 251.82 \r\nL 167.175721 245.2968 \r\nL -36485.199549 245.2968 \r\nz\r\n\" style=\"fill:#1f77b4;stroke:#ffffff;stroke-linejoin:miter;\"/>\r\n   </g>\r\n   <g id=\"patch_10\">\r\n    <path clip-path=\"url(#p6f2d689db9)\" d=\"M -36485.199549 238.7736 \r\nL 169.515821 238.7736 \r\nL 169.515821 232.2504 \r\nL -36485.199549 232.2504 \r\nz\r\n\" style=\"fill:#1f77b4;stroke:#ffffff;stroke-linejoin:miter;\"/>\r\n   </g>\r\n   <g id=\"patch_11\">\r\n    <path clip-path=\"url(#p6f2d689db9)\" d=\"M -36485.199549 225.7272 \r\nL 179.837352 225.7272 \r\nL 179.837352 219.204 \r\nL -36485.199549 219.204 \r\nz\r\n\" style=\"fill:#1f77b4;stroke:#ffffff;stroke-linejoin:miter;\"/>\r\n   </g>\r\n   <g id=\"patch_12\">\r\n    <path clip-path=\"url(#p6f2d689db9)\" d=\"M -36485.199549 212.6808 \r\nL 179.837352 212.6808 \r\nL 179.837352 206.1576 \r\nL -36485.199549 206.1576 \r\nz\r\n\" style=\"fill:#1f77b4;stroke:#ffffff;stroke-linejoin:miter;\"/>\r\n   </g>\r\n   <g id=\"patch_13\">\r\n    <path clip-path=\"url(#p6f2d689db9)\" d=\"M -36485.199549 199.6344 \r\nL 180.212948 199.6344 \r\nL 180.212948 193.1112 \r\nL -36485.199549 193.1112 \r\nz\r\n\" style=\"fill:#1f77b4;stroke:#ffffff;stroke-linejoin:miter;\"/>\r\n   </g>\r\n   <g id=\"patch_14\">\r\n    <path clip-path=\"url(#p6f2d689db9)\" d=\"M -36485.199549 186.588 \r\nL 180.212948 186.588 \r\nL 180.212948 180.0648 \r\nL -36485.199549 180.0648 \r\nz\r\n\" style=\"fill:#1f77b4;stroke:#ffffff;stroke-linejoin:miter;\"/>\r\n   </g>\r\n   <g id=\"patch_15\">\r\n    <path clip-path=\"url(#p6f2d689db9)\" d=\"M -36485.199549 173.5416 \r\nL 197.872372 173.5416 \r\nL 197.872372 167.0184 \r\nL -36485.199549 167.0184 \r\nz\r\n\" style=\"fill:#1f77b4;stroke:#ffffff;stroke-linejoin:miter;\"/>\r\n   </g>\r\n   <g id=\"patch_16\">\r\n    <path clip-path=\"url(#p6f2d689db9)\" d=\"M -36485.199549 160.4952 \r\nL 199.615423 160.4952 \r\nL 199.615423 153.972 \r\nL -36485.199549 153.972 \r\nz\r\n\" style=\"fill:#1f77b4;stroke:#ffffff;stroke-linejoin:miter;\"/>\r\n   </g>\r\n   <g id=\"patch_17\">\r\n    <path clip-path=\"url(#p6f2d689db9)\" d=\"M -36485.199549 147.4488 \r\nL 199.942303 147.4488 \r\nL 199.942303 140.9256 \r\nL -36485.199549 140.9256 \r\nz\r\n\" style=\"fill:#1f77b4;stroke:#ffffff;stroke-linejoin:miter;\"/>\r\n   </g>\r\n   <g id=\"patch_18\">\r\n    <path clip-path=\"url(#p6f2d689db9)\" d=\"M -36485.199549 134.4024 \r\nL 208.437604 134.4024 \r\nL 208.437604 127.8792 \r\nL -36485.199549 127.8792 \r\nz\r\n\" style=\"fill:#1f77b4;stroke:#ffffff;stroke-linejoin:miter;\"/>\r\n   </g>\r\n   <g id=\"patch_19\">\r\n    <path clip-path=\"url(#p6f2d689db9)\" d=\"M -36485.199549 121.356 \r\nL 210.898173 121.356 \r\nL 210.898173 114.8328 \r\nL -36485.199549 114.8328 \r\nz\r\n\" style=\"fill:#1f77b4;stroke:#ffffff;stroke-linejoin:miter;\"/>\r\n   </g>\r\n   <g id=\"patch_20\">\r\n    <path clip-path=\"url(#p6f2d689db9)\" d=\"M -36485.199549 108.3096 \r\nL 218.589323 108.3096 \r\nL 218.589323 101.7864 \r\nL -36485.199549 101.7864 \r\nz\r\n\" style=\"fill:#1f77b4;stroke:#ffffff;stroke-linejoin:miter;\"/>\r\n   </g>\r\n   <g id=\"patch_21\">\r\n    <path clip-path=\"url(#p6f2d689db9)\" d=\"M -36485.199549 95.2632 \r\nL 231.50364 95.2632 \r\nL 231.50364 88.74 \r\nL -36485.199549 88.74 \r\nz\r\n\" style=\"fill:#1f77b4;stroke:#ffffff;stroke-linejoin:miter;\"/>\r\n   </g>\r\n   <g id=\"patch_22\">\r\n    <path clip-path=\"url(#p6f2d689db9)\" d=\"M -36485.199549 82.2168 \r\nL 240.041073 82.2168 \r\nL 240.041073 75.6936 \r\nL -36485.199549 75.6936 \r\nz\r\n\" style=\"fill:#1f77b4;stroke:#ffffff;stroke-linejoin:miter;\"/>\r\n   </g>\r\n   <g id=\"patch_23\">\r\n    <path clip-path=\"url(#p6f2d689db9)\" d=\"M -36485.199549 69.1704 \r\nL 247.586992 69.1704 \r\nL 247.586992 62.6472 \r\nL -36485.199549 62.6472 \r\nz\r\n\" style=\"fill:#1f77b4;stroke:#ffffff;stroke-linejoin:miter;\"/>\r\n   </g>\r\n   <g id=\"patch_24\">\r\n    <path clip-path=\"url(#p6f2d689db9)\" d=\"M -36485.199549 56.124 \r\nL 250.760355 56.124 \r\nL 250.760355 49.6008 \r\nL -36485.199549 49.6008 \r\nz\r\n\" style=\"fill:#1f77b4;stroke:#ffffff;stroke-linejoin:miter;\"/>\r\n   </g>\r\n   <g id=\"patch_25\">\r\n    <path clip-path=\"url(#p6f2d689db9)\" d=\"M -36485.199549 43.0776 \r\nL 262.369158 43.0776 \r\nL 262.369158 36.5544 \r\nL -36485.199549 36.5544 \r\nz\r\n\" style=\"fill:#1f77b4;stroke:#ffffff;stroke-linejoin:miter;\"/>\r\n   </g>\r\n   <g id=\"patch_26\">\r\n    <path clip-path=\"url(#p6f2d689db9)\" d=\"M -36485.199549 30.0312 \r\nL 272.258463 30.0312 \r\nL 272.258463 23.508 \r\nL -36485.199549 23.508 \r\nz\r\n\" style=\"fill:#1f77b4;stroke:#ffffff;stroke-linejoin:miter;\"/>\r\n   </g>\r\n   <g id=\"patch_27\">\r\n    <path clip-path=\"url(#p6f2d689db9)\" d=\"M -36485.199549 16.9848 \r\nL 272.358097 16.9848 \r\nL 272.358097 10.4616 \r\nL -36485.199549 10.4616 \r\nz\r\n\" style=\"fill:#1f77b4;stroke:#ffffff;stroke-linejoin:miter;\"/>\r\n   </g>\r\n   <g id=\"patch_28\">\r\n    <path d=\"M 112.567188 333.36 \r\nL 112.567188 7.2 \r\n\" style=\"fill:none;stroke:#cccccc;stroke-linecap:square;stroke-linejoin:miter;stroke-width:0.8;\"/>\r\n   </g>\r\n   <g id=\"patch_29\">\r\n    <path d=\"M 279.967188 333.36 \r\nL 279.967188 7.2 \r\n\" style=\"fill:none;stroke:#cccccc;stroke-linecap:square;stroke-linejoin:miter;stroke-width:0.8;\"/>\r\n   </g>\r\n   <g id=\"patch_30\">\r\n    <path d=\"M 112.567188 333.36 \r\nL 279.967188 333.36 \r\n\" style=\"fill:none;stroke:#cccccc;stroke-linecap:square;stroke-linejoin:miter;stroke-width:0.8;\"/>\r\n   </g>\r\n   <g id=\"patch_31\">\r\n    <path d=\"M 112.567188 7.2 \r\nL 279.967188 7.2 \r\n\" style=\"fill:none;stroke:#cccccc;stroke-linecap:square;stroke-linejoin:miter;stroke-width:0.8;\"/>\r\n   </g>\r\n  </g>\r\n </g>\r\n <defs>\r\n  <clipPath id=\"p6f2d689db9\">\r\n   <rect height=\"326.16\" width=\"167.4\" x=\"112.567188\" y=\"7.2\"/>\r\n  </clipPath>\r\n </defs>\r\n</svg>\r\n",
      "image/png": "[encoded data removed]"
     },
     "metadata": {}
    }
   ],
   "source": [
    "_s = (user_info_cleaned_df[group_types].sum()/11132.).sort_values()\n",
    "_s.plot(kind='barh',logx=True,figsize=(3,6))"
   ]
  },
  {
   "cell_type": "markdown",
   "metadata": {},
   "source": [
    "### German language edition - user processing"
   ]
  },
  {
   "cell_type": "code",
   "execution_count": 64,
   "metadata": {
    "tags": []
   },
   "outputs": [
    {
     "output_type": "stream",
     "name": "stdout",
     "text": "3024\n3024 0 0\n3024 0 0\n"
    }
   ],
   "source": [
    "#de \n",
    "# df of the top users de\n",
    "user_info = get_user_info(list(top_users_de.index),endpoint='de.wikipedia.org/w/api.php')\n",
    "print(len(user_info))\n",
    "\n",
    "_df0 = pd.DataFrame(user_info)\n",
    "nonmissing_users = _df0[~_df0['editcount'].isnull()]['name'].values\n",
    "missing_users = _df0[_df0['editcount'].isnull()]['name'].values\n",
    "no_page_users = list()\n",
    "\n",
    "print(len(list(nonmissing_users)),len(list(missing_users)),len(list(no_page_users)))\n",
    "\n",
    "name_redirects = {}\n",
    "for missing_user in missing_users:\n",
    "    links_on_missing = get_links(missing_user,endpoint='de.wikipedia.org/w/api.php',userword='Benutzer')\n",
    "    links_on_missing_1 = get_links(missing_user,endpoint='de.wikipedia.org/w/api.php',userword='Benutzerin')\n",
    "    links_on_missing = links_on_missing + links_on_missing_1\n",
    "    if len(links_on_missing) == 0:\n",
    "        no_page_users.append(missing_user)\n",
    "    else:\n",
    "        redirected_name = [i for i in links_on_missing if 'Benutzer:' in i or 'Benutzerin' in i]\n",
    "        if len(redirected_name) == 0:\n",
    "            no_page_users.append(missing_user)\n",
    "        else:\n",
    "            name_redirects[missing_user] = redirected_name[0]\n",
    "\n",
    "missing_user_info = get_user_info(list(name_redirects.values()),endpoint='de.wikipedia.org/w/api.php')\n",
    "print(len(list(nonmissing_users)),len(missing_user_info),len(no_page_users))\n",
    "\n",
    "with open('name_redirects_de.json','w',encoding='utf8') as f:\n",
    "    json.dump(name_redirects,f)"
   ]
  },
  {
   "cell_type": "code",
   "execution_count": 35,
   "metadata": {},
   "outputs": [],
   "source": [
    "# apparently there are no missing users"
   ]
  },
  {
   "cell_type": "code",
   "execution_count": 65,
   "metadata": {
    "tags": []
   },
   "outputs": [
    {
     "output_type": "stream",
     "name": "stdout",
     "text": "3024\n0\n"
    }
   ],
   "source": [
    "# df of the top users de\n",
    "_df0 = pd.DataFrame(user_info)\n",
    "_df1 = _df0[~_df0['name'].isin(missing_users)]\n",
    "_df2 = pd.DataFrame(missing_user_info)\n",
    "user_info_df = pd.concat([_df1,_df2])\n",
    "print(len(user_info_df))\n",
    "print(len(no_page_users))\n",
    "#print(top_users_de)"
   ]
  },
  {
   "cell_type": "code",
   "execution_count": 66,
   "metadata": {},
   "outputs": [
    {
     "output_type": "execute_result",
     "data": {
      "text/plain": "   userid       name  editcount          registration   gender  editor  \\\n0  127709   DerHexer     170006                  None     male    True   \n1      44      Elian      27553                  None  unknown    True   \n2  250642  Matthiasb     182922  2006-07-15T09:44:32Z     male    True   \n3   29427  Cepheiden      73006                  None  unknown    True   \n4   91108       W!B:     276594                  None  unknown    True   \n\n   checkuser  ipblock-exempt  autoconfirmed  oversight  user  interface-admin  \\\n0      False           False           True      False  True            False   \n1      False           False           True      False  True            False   \n2      False           False           True      False  True            False   \n3      False           False           True      False  True            False   \n4      False           False           True      False  True            False   \n\n   bureaucrat  noratelimit  import  autoreview  sysop  \n0       False        False   False       False   True  \n1       False        False   False        True  False  \n2       False        False   False        True  False  \n3       False        False   False        True  False  \n4       False        False   False        True  False  ",
      "text/html": "<div>\n<style scoped>\n    .dataframe tbody tr th:only-of-type {\n        vertical-align: middle;\n    }\n\n    .dataframe tbody tr th {\n        vertical-align: top;\n    }\n\n    .dataframe thead th {\n        text-align: right;\n    }\n</style>\n<table border=\"1\" class=\"dataframe\">\n  <thead>\n    <tr style=\"text-align: right;\">\n      <th></th>\n      <th>userid</th>\n      <th>name</th>\n      <th>editcount</th>\n      <th>registration</th>\n      <th>gender</th>\n      <th>editor</th>\n      <th>checkuser</th>\n      <th>ipblock-exempt</th>\n      <th>autoconfirmed</th>\n      <th>oversight</th>\n      <th>user</th>\n      <th>interface-admin</th>\n      <th>bureaucrat</th>\n      <th>noratelimit</th>\n      <th>import</th>\n      <th>autoreview</th>\n      <th>sysop</th>\n    </tr>\n  </thead>\n  <tbody>\n    <tr>\n      <th>0</th>\n      <td>127709</td>\n      <td>DerHexer</td>\n      <td>170006</td>\n      <td>None</td>\n      <td>male</td>\n      <td>True</td>\n      <td>False</td>\n      <td>False</td>\n      <td>True</td>\n      <td>False</td>\n      <td>True</td>\n      <td>False</td>\n      <td>False</td>\n      <td>False</td>\n      <td>False</td>\n      <td>False</td>\n      <td>True</td>\n    </tr>\n    <tr>\n      <th>1</th>\n      <td>44</td>\n      <td>Elian</td>\n      <td>27553</td>\n      <td>None</td>\n      <td>unknown</td>\n      <td>True</td>\n      <td>False</td>\n      <td>False</td>\n      <td>True</td>\n      <td>False</td>\n      <td>True</td>\n      <td>False</td>\n      <td>False</td>\n      <td>False</td>\n      <td>False</td>\n      <td>True</td>\n      <td>False</td>\n    </tr>\n    <tr>\n      <th>2</th>\n      <td>250642</td>\n      <td>Matthiasb</td>\n      <td>182922</td>\n      <td>2006-07-15T09:44:32Z</td>\n      <td>male</td>\n      <td>True</td>\n      <td>False</td>\n      <td>False</td>\n      <td>True</td>\n      <td>False</td>\n      <td>True</td>\n      <td>False</td>\n      <td>False</td>\n      <td>False</td>\n      <td>False</td>\n      <td>True</td>\n      <td>False</td>\n    </tr>\n    <tr>\n      <th>3</th>\n      <td>29427</td>\n      <td>Cepheiden</td>\n      <td>73006</td>\n      <td>None</td>\n      <td>unknown</td>\n      <td>True</td>\n      <td>False</td>\n      <td>False</td>\n      <td>True</td>\n      <td>False</td>\n      <td>True</td>\n      <td>False</td>\n      <td>False</td>\n      <td>False</td>\n      <td>False</td>\n      <td>True</td>\n      <td>False</td>\n    </tr>\n    <tr>\n      <th>4</th>\n      <td>91108</td>\n      <td>W!B:</td>\n      <td>276594</td>\n      <td>None</td>\n      <td>unknown</td>\n      <td>True</td>\n      <td>False</td>\n      <td>False</td>\n      <td>True</td>\n      <td>False</td>\n      <td>True</td>\n      <td>False</td>\n      <td>False</td>\n      <td>False</td>\n      <td>False</td>\n      <td>True</td>\n      <td>False</td>\n    </tr>\n  </tbody>\n</table>\n</div>"
     },
     "metadata": {},
     "execution_count": 66
    }
   ],
   "source": [
    "group_types = list(set([j for i in user_info_df['groups'].dropna().values for j in i]) - set(['*']))\n",
    "#_ix = user_info_df['groups'].dropna().index\n",
    "#subgroup = user_info_df.ix[_ix]\n",
    "\n",
    "for group in group_types:\n",
    "    user_info_df[group] = user_info_df['groups'].apply(lambda x:group in x)\n",
    "\n",
    "user_info_cleaned_df = user_info_df[[i for i in user_info_df.columns if i not in ['groups','*']]]\n",
    "user_info_cleaned_df.to_csv('user_info_de.csv',encoding='utf8')\n",
    "user_info_cleaned_df.head()"
   ]
  },
  {
   "cell_type": "code",
   "execution_count": 67,
   "metadata": {
    "tags": []
   },
   "outputs": [
    {
     "output_type": "stream",
     "name": "stdout",
     "text": "No bots!\n"
    }
   ],
   "source": [
    "try:\n",
    "    bots_test = user_info_cleaned_df[user_info_cleaned_df['bot'] == True]['name'].values\n",
    "    print(bots_test)\n",
    "except KeyError:\n",
    "    print(\"No bots!\")"
   ]
  },
  {
   "cell_type": "code",
   "execution_count": 41,
   "metadata": {},
   "outputs": [
    {
     "output_type": "execute_result",
     "data": {
      "text/plain": "<matplotlib.axes._subplots.AxesSubplot at 0x22f88595730>"
     },
     "metadata": {},
     "execution_count": 41
    },
    {
     "output_type": "display_data",
     "data": {
      "text/plain": "<Figure size 216x432 with 1 Axes>",
      "image/svg+xml": "<?xml version=\"1.0\" encoding=\"utf-8\" standalone=\"no\"?>\r\n<!DOCTYPE svg PUBLIC \"-//W3C//DTD SVG 1.1//EN\"\r\n  \"http://www.w3.org/Graphics/SVG/1.1/DTD/svg11.dtd\">\r\n<!-- Created with matplotlib (https://matplotlib.org/) -->\r\n<svg height=\"359.86pt\" version=\"1.1\" viewBox=\"0 0 257.715625 359.86\" width=\"257.715625pt\" xmlns=\"http://www.w3.org/2000/svg\" xmlns:xlink=\"http://www.w3.org/1999/xlink\">\r\n <defs>\r\n  <style type=\"text/css\">\r\n*{stroke-linecap:butt;stroke-linejoin:round;}\r\n  </style>\r\n </defs>\r\n <g id=\"figure_1\">\r\n  <g id=\"patch_1\">\r\n   <path d=\"M 0 359.86 \r\nL 257.715625 359.86 \r\nL 257.715625 0 \r\nL 0 0 \r\nz\r\n\" style=\"fill:#ffffff;\"/>\r\n  </g>\r\n  <g id=\"axes_1\">\r\n   <g id=\"patch_2\">\r\n    <path d=\"M 83.115625 333.36 \r\nL 250.515625 333.36 \r\nL 250.515625 7.2 \r\nL 83.115625 7.2 \r\nz\r\n\" style=\"fill:#ffffff;\"/>\r\n   </g>\r\n   <g id=\"matplotlib.axis_1\">\r\n    <g id=\"xtick_1\">\r\n     <g id=\"line2d_1\">\r\n      <path clip-path=\"url(#p4c206ea1e3)\" d=\"M 114.22526 333.36 \r\nL 114.22526 7.2 \r\n\" style=\"fill:none;stroke:#cccccc;stroke-linecap:round;stroke-width:0.8;\"/>\r\n     </g>\r\n     <g id=\"text_1\">\r\n      <!-- $\\mathdefault{10^{-3}}$ -->\r\n      <defs>\r\n       <path d=\"M 37.25 0 \r\nL 28.46875 0 \r\nL 28.46875 56 \r\nQ 25.296875 52.984375 20.140625 49.953125 \r\nQ 14.984375 46.921875 10.890625 45.40625 \r\nL 10.890625 53.90625 \r\nQ 18.265625 57.375 23.78125 62.296875 \r\nQ 29.296875 67.234375 31.59375 71.875 \r\nL 37.25 71.875 \r\nz\r\n\" id=\"ArialMT-49\"/>\r\n       <path d=\"M 4.15625 35.296875 \r\nQ 4.15625 48 6.765625 55.734375 \r\nQ 9.375 63.484375 14.515625 67.671875 \r\nQ 19.671875 71.875 27.484375 71.875 \r\nQ 33.25 71.875 37.59375 69.546875 \r\nQ 41.9375 67.234375 44.765625 62.859375 \r\nQ 47.609375 58.5 49.21875 52.21875 \r\nQ 50.828125 45.953125 50.828125 35.296875 \r\nQ 50.828125 22.703125 48.234375 14.96875 \r\nQ 45.65625 7.234375 40.5 3 \r\nQ 35.359375 -1.21875 27.484375 -1.21875 \r\nQ 17.140625 -1.21875 11.234375 6.203125 \r\nQ 4.15625 15.140625 4.15625 35.296875 \r\nz\r\nM 13.1875 35.296875 \r\nQ 13.1875 17.671875 17.3125 11.828125 \r\nQ 21.4375 6 27.484375 6 \r\nQ 33.546875 6 37.671875 11.859375 \r\nQ 41.796875 17.71875 41.796875 35.296875 \r\nQ 41.796875 52.984375 37.671875 58.78125 \r\nQ 33.546875 64.59375 27.390625 64.59375 \r\nQ 21.34375 64.59375 17.71875 59.46875 \r\nQ 13.1875 52.9375 13.1875 35.296875 \r\nz\r\n\" id=\"ArialMT-48\"/>\r\n       <path d=\"M 52.828125 31.203125 \r\nL 5.5625 31.203125 \r\nL 5.5625 39.40625 \r\nL 52.828125 39.40625 \r\nz\r\n\" id=\"ArialMT-8722\"/>\r\n       <path d=\"M 4.203125 18.890625 \r\nL 12.984375 20.0625 \r\nQ 14.5 12.59375 18.140625 9.296875 \r\nQ 21.78125 6 27 6 \r\nQ 33.203125 6 37.46875 10.296875 \r\nQ 41.75 14.59375 41.75 20.953125 \r\nQ 41.75 27 37.796875 30.921875 \r\nQ 33.84375 34.859375 27.734375 34.859375 \r\nQ 25.25 34.859375 21.53125 33.890625 \r\nL 22.515625 41.609375 \r\nQ 23.390625 41.5 23.921875 41.5 \r\nQ 29.546875 41.5 34.03125 44.421875 \r\nQ 38.53125 47.359375 38.53125 53.46875 \r\nQ 38.53125 58.296875 35.25 61.46875 \r\nQ 31.984375 64.65625 26.8125 64.65625 \r\nQ 21.6875 64.65625 18.265625 61.421875 \r\nQ 14.84375 58.203125 13.875 51.765625 \r\nL 5.078125 53.328125 \r\nQ 6.6875 62.15625 12.390625 67.015625 \r\nQ 18.109375 71.875 26.609375 71.875 \r\nQ 32.46875 71.875 37.390625 69.359375 \r\nQ 42.328125 66.84375 44.9375 62.5 \r\nQ 47.5625 58.15625 47.5625 53.265625 \r\nQ 47.5625 48.640625 45.0625 44.828125 \r\nQ 42.578125 41.015625 37.703125 38.765625 \r\nQ 44.046875 37.3125 47.5625 32.6875 \r\nQ 51.078125 28.078125 51.078125 21.140625 \r\nQ 51.078125 11.765625 44.234375 5.25 \r\nQ 37.40625 -1.265625 26.953125 -1.265625 \r\nQ 17.53125 -1.265625 11.296875 4.34375 \r\nQ 5.078125 9.96875 4.203125 18.890625 \r\nz\r\n\" id=\"ArialMT-51\"/>\r\n      </defs>\r\n      <g style=\"fill:#262626;\" transform=\"translate(104.32526 350.6725)scale(0.1 -0.1)\">\r\n       <use transform=\"translate(0 0.99375)\" xlink:href=\"#ArialMT-49\"/>\r\n       <use transform=\"translate(55.615234 0.99375)\" xlink:href=\"#ArialMT-48\"/>\r\n       <use transform=\"translate(112.972813 70.6875)scale(0.7)\" xlink:href=\"#ArialMT-8722\"/>\r\n       <use transform=\"translate(153.851719 70.6875)scale(0.7)\" xlink:href=\"#ArialMT-51\"/>\r\n      </g>\r\n     </g>\r\n    </g>\r\n    <g id=\"xtick_2\">\r\n     <g id=\"line2d_2\">\r\n      <path clip-path=\"url(#p4c206ea1e3)\" d=\"M 167.093304 333.36 \r\nL 167.093304 7.2 \r\n\" style=\"fill:none;stroke:#cccccc;stroke-linecap:round;stroke-width:0.8;\"/>\r\n     </g>\r\n     <g id=\"text_2\">\r\n      <!-- $\\mathdefault{10^{-2}}$ -->\r\n      <defs>\r\n       <path d=\"M 50.34375 8.453125 \r\nL 50.34375 0 \r\nL 3.03125 0 \r\nQ 2.9375 3.171875 4.046875 6.109375 \r\nQ 5.859375 10.9375 9.828125 15.625 \r\nQ 13.8125 20.3125 21.34375 26.46875 \r\nQ 33.015625 36.03125 37.109375 41.625 \r\nQ 41.21875 47.21875 41.21875 52.203125 \r\nQ 41.21875 57.421875 37.46875 61 \r\nQ 33.734375 64.59375 27.734375 64.59375 \r\nQ 21.390625 64.59375 17.578125 60.78125 \r\nQ 13.765625 56.984375 13.71875 50.25 \r\nL 4.6875 51.171875 \r\nQ 5.609375 61.28125 11.65625 66.578125 \r\nQ 17.71875 71.875 27.9375 71.875 \r\nQ 38.234375 71.875 44.234375 66.15625 \r\nQ 50.25 60.453125 50.25 52 \r\nQ 50.25 47.703125 48.484375 43.546875 \r\nQ 46.734375 39.40625 42.65625 34.8125 \r\nQ 38.578125 30.21875 29.109375 22.21875 \r\nQ 21.1875 15.578125 18.9375 13.203125 \r\nQ 16.703125 10.84375 15.234375 8.453125 \r\nz\r\n\" id=\"ArialMT-50\"/>\r\n      </defs>\r\n      <g style=\"fill:#262626;\" transform=\"translate(157.193304 350.6725)scale(0.1 -0.1)\">\r\n       <use transform=\"translate(0 0.99375)\" xlink:href=\"#ArialMT-49\"/>\r\n       <use transform=\"translate(55.615234 0.99375)\" xlink:href=\"#ArialMT-48\"/>\r\n       <use transform=\"translate(112.972813 70.6875)scale(0.7)\" xlink:href=\"#ArialMT-8722\"/>\r\n       <use transform=\"translate(153.851719 70.6875)scale(0.7)\" xlink:href=\"#ArialMT-50\"/>\r\n      </g>\r\n     </g>\r\n    </g>\r\n    <g id=\"xtick_3\">\r\n     <g id=\"line2d_3\">\r\n      <path clip-path=\"url(#p4c206ea1e3)\" d=\"M 219.961349 333.36 \r\nL 219.961349 7.2 \r\n\" style=\"fill:none;stroke:#cccccc;stroke-linecap:round;stroke-width:0.8;\"/>\r\n     </g>\r\n     <g id=\"text_3\">\r\n      <!-- $\\mathdefault{10^{-1}}$ -->\r\n      <g style=\"fill:#262626;\" transform=\"translate(210.061349 350.6725)scale(0.1 -0.1)\">\r\n       <use transform=\"translate(0 0.99375)\" xlink:href=\"#ArialMT-49\"/>\r\n       <use transform=\"translate(55.615234 0.99375)\" xlink:href=\"#ArialMT-48\"/>\r\n       <use transform=\"translate(112.972813 70.6875)scale(0.7)\" xlink:href=\"#ArialMT-8722\"/>\r\n       <use transform=\"translate(153.851719 70.6875)scale(0.7)\" xlink:href=\"#ArialMT-49\"/>\r\n      </g>\r\n     </g>\r\n    </g>\r\n    <g id=\"xtick_4\"/>\r\n    <g id=\"xtick_5\"/>\r\n    <g id=\"xtick_6\"/>\r\n    <g id=\"xtick_7\"/>\r\n    <g id=\"xtick_8\"/>\r\n    <g id=\"xtick_9\"/>\r\n    <g id=\"xtick_10\"/>\r\n    <g id=\"xtick_11\"/>\r\n    <g id=\"xtick_12\"/>\r\n    <g id=\"xtick_13\"/>\r\n    <g id=\"xtick_14\"/>\r\n    <g id=\"xtick_15\"/>\r\n    <g id=\"xtick_16\"/>\r\n    <g id=\"xtick_17\"/>\r\n    <g id=\"xtick_18\"/>\r\n    <g id=\"xtick_19\"/>\r\n    <g id=\"xtick_20\"/>\r\n    <g id=\"xtick_21\"/>\r\n    <g id=\"xtick_22\"/>\r\n    <g id=\"xtick_23\"/>\r\n    <g id=\"xtick_24\"/>\r\n    <g id=\"xtick_25\"/>\r\n    <g id=\"xtick_26\"/>\r\n    <g id=\"xtick_27\"/>\r\n    <g id=\"xtick_28\"/>\r\n   </g>\r\n   <g id=\"matplotlib.axis_2\">\r\n    <g id=\"ytick_1\">\r\n     <g id=\"line2d_4\">\r\n      <path clip-path=\"url(#p4c206ea1e3)\" d=\"M 83.115625 319.77 \r\nL 250.515625 319.77 \r\n\" style=\"fill:none;stroke:#cccccc;stroke-linecap:round;stroke-width:0.8;\"/>\r\n     </g>\r\n     <g id=\"text_4\">\r\n      <!-- checkuser -->\r\n      <defs>\r\n       <path d=\"M 40.4375 19 \r\nL 49.078125 17.875 \r\nQ 47.65625 8.9375 41.8125 3.875 \r\nQ 35.984375 -1.171875 27.484375 -1.171875 \r\nQ 16.84375 -1.171875 10.375 5.78125 \r\nQ 3.90625 12.75 3.90625 25.734375 \r\nQ 3.90625 34.125 6.6875 40.421875 \r\nQ 9.46875 46.734375 15.15625 49.875 \r\nQ 20.84375 53.03125 27.546875 53.03125 \r\nQ 35.984375 53.03125 41.359375 48.75 \r\nQ 46.734375 44.484375 48.25 36.625 \r\nL 39.703125 35.296875 \r\nQ 38.484375 40.53125 35.375 43.15625 \r\nQ 32.28125 45.796875 27.875 45.796875 \r\nQ 21.234375 45.796875 17.078125 41.03125 \r\nQ 12.9375 36.28125 12.9375 25.984375 \r\nQ 12.9375 15.53125 16.9375 10.796875 \r\nQ 20.953125 6.0625 27.390625 6.0625 \r\nQ 32.5625 6.0625 36.03125 9.234375 \r\nQ 39.5 12.40625 40.4375 19 \r\nz\r\n\" id=\"ArialMT-99\"/>\r\n       <path d=\"M 6.59375 0 \r\nL 6.59375 71.578125 \r\nL 15.375 71.578125 \r\nL 15.375 45.90625 \r\nQ 21.53125 53.03125 30.90625 53.03125 \r\nQ 36.671875 53.03125 40.921875 50.75 \r\nQ 45.171875 48.484375 47 44.484375 \r\nQ 48.828125 40.484375 48.828125 32.859375 \r\nL 48.828125 0 \r\nL 40.046875 0 \r\nL 40.046875 32.859375 \r\nQ 40.046875 39.453125 37.1875 42.453125 \r\nQ 34.328125 45.453125 29.109375 45.453125 \r\nQ 25.203125 45.453125 21.75 43.421875 \r\nQ 18.3125 41.40625 16.84375 37.9375 \r\nQ 15.375 34.46875 15.375 28.375 \r\nL 15.375 0 \r\nz\r\n\" id=\"ArialMT-104\"/>\r\n       <path d=\"M 42.09375 16.703125 \r\nL 51.171875 15.578125 \r\nQ 49.03125 7.625 43.21875 3.21875 \r\nQ 37.40625 -1.171875 28.375 -1.171875 \r\nQ 17 -1.171875 10.328125 5.828125 \r\nQ 3.65625 12.84375 3.65625 25.484375 \r\nQ 3.65625 38.578125 10.390625 45.796875 \r\nQ 17.140625 53.03125 27.875 53.03125 \r\nQ 38.28125 53.03125 44.875 45.953125 \r\nQ 51.46875 38.875 51.46875 26.03125 \r\nQ 51.46875 25.25 51.421875 23.6875 \r\nL 12.75 23.6875 \r\nQ 13.234375 15.140625 17.578125 10.59375 \r\nQ 21.921875 6.0625 28.421875 6.0625 \r\nQ 33.25 6.0625 36.671875 8.59375 \r\nQ 40.09375 11.140625 42.09375 16.703125 \r\nz\r\nM 13.234375 30.90625 \r\nL 42.1875 30.90625 \r\nQ 41.609375 37.453125 38.875 40.71875 \r\nQ 34.671875 45.796875 27.984375 45.796875 \r\nQ 21.921875 45.796875 17.796875 41.75 \r\nQ 13.671875 37.703125 13.234375 30.90625 \r\nz\r\n\" id=\"ArialMT-101\"/>\r\n       <path d=\"M 6.640625 0 \r\nL 6.640625 71.578125 \r\nL 15.4375 71.578125 \r\nL 15.4375 30.765625 \r\nL 36.234375 51.859375 \r\nL 47.609375 51.859375 \r\nL 27.78125 32.625 \r\nL 49.609375 0 \r\nL 38.765625 0 \r\nL 21.625 26.515625 \r\nL 15.4375 20.5625 \r\nL 15.4375 0 \r\nz\r\n\" id=\"ArialMT-107\"/>\r\n       <path d=\"M 40.578125 0 \r\nL 40.578125 7.625 \r\nQ 34.515625 -1.171875 24.125 -1.171875 \r\nQ 19.53125 -1.171875 15.546875 0.578125 \r\nQ 11.578125 2.34375 9.640625 5 \r\nQ 7.71875 7.671875 6.9375 11.53125 \r\nQ 6.390625 14.109375 6.390625 19.734375 \r\nL 6.390625 51.859375 \r\nL 15.1875 51.859375 \r\nL 15.1875 23.09375 \r\nQ 15.1875 16.21875 15.71875 13.8125 \r\nQ 16.546875 10.359375 19.234375 8.375 \r\nQ 21.921875 6.390625 25.875 6.390625 \r\nQ 29.828125 6.390625 33.296875 8.421875 \r\nQ 36.765625 10.453125 38.203125 13.9375 \r\nQ 39.65625 17.4375 39.65625 24.078125 \r\nL 39.65625 51.859375 \r\nL 48.4375 51.859375 \r\nL 48.4375 0 \r\nz\r\n\" id=\"ArialMT-117\"/>\r\n       <path d=\"M 3.078125 15.484375 \r\nL 11.765625 16.84375 \r\nQ 12.5 11.625 15.84375 8.84375 \r\nQ 19.1875 6.0625 25.203125 6.0625 \r\nQ 31.25 6.0625 34.171875 8.515625 \r\nQ 37.109375 10.984375 37.109375 14.3125 \r\nQ 37.109375 17.28125 34.515625 19 \r\nQ 32.71875 20.171875 25.53125 21.96875 \r\nQ 15.875 24.421875 12.140625 26.203125 \r\nQ 8.40625 27.984375 6.46875 31.125 \r\nQ 4.546875 34.28125 4.546875 38.09375 \r\nQ 4.546875 41.546875 6.125 44.5 \r\nQ 7.71875 47.46875 10.453125 49.421875 \r\nQ 12.5 50.921875 16.03125 51.96875 \r\nQ 19.578125 53.03125 23.640625 53.03125 \r\nQ 29.734375 53.03125 34.34375 51.265625 \r\nQ 38.96875 49.515625 41.15625 46.5 \r\nQ 43.359375 43.5 44.1875 38.484375 \r\nL 35.59375 37.3125 \r\nQ 35.015625 41.3125 32.203125 43.546875 \r\nQ 29.390625 45.796875 24.265625 45.796875 \r\nQ 18.21875 45.796875 15.625 43.796875 \r\nQ 13.03125 41.796875 13.03125 39.109375 \r\nQ 13.03125 37.40625 14.109375 36.03125 \r\nQ 15.1875 34.625 17.484375 33.6875 \r\nQ 18.796875 33.203125 25.25 31.453125 \r\nQ 34.578125 28.953125 38.25 27.359375 \r\nQ 41.9375 25.78125 44.03125 22.75 \r\nQ 46.140625 19.734375 46.140625 15.234375 \r\nQ 46.140625 10.84375 43.578125 6.953125 \r\nQ 41.015625 3.078125 36.171875 0.953125 \r\nQ 31.34375 -1.171875 25.25 -1.171875 \r\nQ 15.140625 -1.171875 9.84375 3.03125 \r\nQ 4.546875 7.234375 3.078125 15.484375 \r\nz\r\n\" id=\"ArialMT-115\"/>\r\n       <path d=\"M 6.5 0 \r\nL 6.5 51.859375 \r\nL 14.40625 51.859375 \r\nL 14.40625 44 \r\nQ 17.4375 49.515625 20 51.265625 \r\nQ 22.5625 53.03125 25.640625 53.03125 \r\nQ 30.078125 53.03125 34.671875 50.203125 \r\nL 31.640625 42.046875 \r\nQ 28.421875 43.953125 25.203125 43.953125 \r\nQ 22.3125 43.953125 20.015625 42.21875 \r\nQ 17.71875 40.484375 16.75 37.40625 \r\nQ 15.28125 32.71875 15.28125 27.15625 \r\nL 15.28125 0 \r\nz\r\n\" id=\"ArialMT-114\"/>\r\n      </defs>\r\n      <g style=\"fill:#262626;\" transform=\"translate(30.542188 323.348906)scale(0.1 -0.1)\">\r\n       <use xlink:href=\"#ArialMT-99\"/>\r\n       <use x=\"50\" xlink:href=\"#ArialMT-104\"/>\r\n       <use x=\"105.615234\" xlink:href=\"#ArialMT-101\"/>\r\n       <use x=\"161.230469\" xlink:href=\"#ArialMT-99\"/>\r\n       <use x=\"211.230469\" xlink:href=\"#ArialMT-107\"/>\r\n       <use x=\"261.230469\" xlink:href=\"#ArialMT-117\"/>\r\n       <use x=\"316.845703\" xlink:href=\"#ArialMT-115\"/>\r\n       <use x=\"366.845703\" xlink:href=\"#ArialMT-101\"/>\r\n       <use x=\"422.460938\" xlink:href=\"#ArialMT-114\"/>\r\n      </g>\r\n     </g>\r\n    </g>\r\n    <g id=\"ytick_2\">\r\n     <g id=\"line2d_5\">\r\n      <path clip-path=\"url(#p4c206ea1e3)\" d=\"M 83.115625 292.59 \r\nL 250.515625 292.59 \r\n\" style=\"fill:none;stroke:#cccccc;stroke-linecap:round;stroke-width:0.8;\"/>\r\n     </g>\r\n     <g id=\"text_5\">\r\n      <!-- oversight -->\r\n      <defs>\r\n       <path d=\"M 3.328125 25.921875 \r\nQ 3.328125 40.328125 11.328125 47.265625 \r\nQ 18.015625 53.03125 27.640625 53.03125 \r\nQ 38.328125 53.03125 45.109375 46.015625 \r\nQ 51.90625 39.015625 51.90625 26.65625 \r\nQ 51.90625 16.65625 48.90625 10.90625 \r\nQ 45.90625 5.171875 40.15625 2 \r\nQ 34.421875 -1.171875 27.640625 -1.171875 \r\nQ 16.75 -1.171875 10.03125 5.8125 \r\nQ 3.328125 12.796875 3.328125 25.921875 \r\nz\r\nM 12.359375 25.921875 \r\nQ 12.359375 15.96875 16.703125 11.015625 \r\nQ 21.046875 6.0625 27.640625 6.0625 \r\nQ 34.1875 6.0625 38.53125 11.03125 \r\nQ 42.875 16.015625 42.875 26.21875 \r\nQ 42.875 35.84375 38.5 40.796875 \r\nQ 34.125 45.75 27.640625 45.75 \r\nQ 21.046875 45.75 16.703125 40.8125 \r\nQ 12.359375 35.890625 12.359375 25.921875 \r\nz\r\n\" id=\"ArialMT-111\"/>\r\n       <path d=\"M 21 0 \r\nL 1.265625 51.859375 \r\nL 10.546875 51.859375 \r\nL 21.6875 20.796875 \r\nQ 23.484375 15.765625 25 10.359375 \r\nQ 26.171875 14.453125 28.265625 20.21875 \r\nL 39.796875 51.859375 \r\nL 48.828125 51.859375 \r\nL 29.203125 0 \r\nz\r\n\" id=\"ArialMT-118\"/>\r\n       <path d=\"M 6.640625 61.46875 \r\nL 6.640625 71.578125 \r\nL 15.4375 71.578125 \r\nL 15.4375 61.46875 \r\nz\r\nM 6.640625 0 \r\nL 6.640625 51.859375 \r\nL 15.4375 51.859375 \r\nL 15.4375 0 \r\nz\r\n\" id=\"ArialMT-105\"/>\r\n       <path d=\"M 4.984375 -4.296875 \r\nL 13.53125 -5.5625 \r\nQ 14.0625 -9.515625 16.5 -11.328125 \r\nQ 19.78125 -13.765625 25.4375 -13.765625 \r\nQ 31.546875 -13.765625 34.859375 -11.328125 \r\nQ 38.1875 -8.890625 39.359375 -4.5 \r\nQ 40.046875 -1.8125 39.984375 6.78125 \r\nQ 34.234375 0 25.640625 0 \r\nQ 14.9375 0 9.078125 7.71875 \r\nQ 3.21875 15.4375 3.21875 26.21875 \r\nQ 3.21875 33.640625 5.90625 39.90625 \r\nQ 8.59375 46.1875 13.6875 49.609375 \r\nQ 18.796875 53.03125 25.6875 53.03125 \r\nQ 34.859375 53.03125 40.828125 45.609375 \r\nL 40.828125 51.859375 \r\nL 48.921875 51.859375 \r\nL 48.921875 7.03125 \r\nQ 48.921875 -5.078125 46.453125 -10.125 \r\nQ 44 -15.1875 38.640625 -18.109375 \r\nQ 33.296875 -21.046875 25.484375 -21.046875 \r\nQ 16.21875 -21.046875 10.5 -16.875 \r\nQ 4.78125 -12.703125 4.984375 -4.296875 \r\nz\r\nM 12.25 26.859375 \r\nQ 12.25 16.65625 16.296875 11.96875 \r\nQ 20.359375 7.28125 26.46875 7.28125 \r\nQ 32.515625 7.28125 36.609375 11.9375 \r\nQ 40.71875 16.609375 40.71875 26.5625 \r\nQ 40.71875 36.078125 36.5 40.90625 \r\nQ 32.28125 45.75 26.3125 45.75 \r\nQ 20.453125 45.75 16.34375 40.984375 \r\nQ 12.25 36.234375 12.25 26.859375 \r\nz\r\n\" id=\"ArialMT-103\"/>\r\n       <path d=\"M 25.78125 7.859375 \r\nL 27.046875 0.09375 \r\nQ 23.34375 -0.6875 20.40625 -0.6875 \r\nQ 15.625 -0.6875 12.984375 0.828125 \r\nQ 10.359375 2.34375 9.28125 4.8125 \r\nQ 8.203125 7.28125 8.203125 15.1875 \r\nL 8.203125 45.015625 \r\nL 1.765625 45.015625 \r\nL 1.765625 51.859375 \r\nL 8.203125 51.859375 \r\nL 8.203125 64.703125 \r\nL 16.9375 69.96875 \r\nL 16.9375 51.859375 \r\nL 25.78125 51.859375 \r\nL 25.78125 45.015625 \r\nL 16.9375 45.015625 \r\nL 16.9375 14.703125 \r\nQ 16.9375 10.9375 17.40625 9.859375 \r\nQ 17.875 8.796875 18.921875 8.15625 \r\nQ 19.96875 7.515625 21.921875 7.515625 \r\nQ 23.390625 7.515625 25.78125 7.859375 \r\nz\r\n\" id=\"ArialMT-116\"/>\r\n      </defs>\r\n      <g style=\"fill:#262626;\" transform=\"translate(35.542188 296.168906)scale(0.1 -0.1)\">\r\n       <use xlink:href=\"#ArialMT-111\"/>\r\n       <use x=\"55.615234\" xlink:href=\"#ArialMT-118\"/>\r\n       <use x=\"105.615234\" xlink:href=\"#ArialMT-101\"/>\r\n       <use x=\"161.230469\" xlink:href=\"#ArialMT-114\"/>\r\n       <use x=\"194.53125\" xlink:href=\"#ArialMT-115\"/>\r\n       <use x=\"244.53125\" xlink:href=\"#ArialMT-105\"/>\r\n       <use x=\"266.748047\" xlink:href=\"#ArialMT-103\"/>\r\n       <use x=\"322.363281\" xlink:href=\"#ArialMT-104\"/>\r\n       <use x=\"377.978516\" xlink:href=\"#ArialMT-116\"/>\r\n      </g>\r\n     </g>\r\n    </g>\r\n    <g id=\"ytick_3\">\r\n     <g id=\"line2d_6\">\r\n      <path clip-path=\"url(#p4c206ea1e3)\" d=\"M 83.115625 265.41 \r\nL 250.515625 265.41 \r\n\" style=\"fill:none;stroke:#cccccc;stroke-linecap:round;stroke-width:0.8;\"/>\r\n     </g>\r\n     <g id=\"text_6\">\r\n      <!-- bureaucrat -->\r\n      <defs>\r\n       <path d=\"M 14.703125 0 \r\nL 6.546875 0 \r\nL 6.546875 71.578125 \r\nL 15.328125 71.578125 \r\nL 15.328125 46.046875 \r\nQ 20.90625 53.03125 29.546875 53.03125 \r\nQ 34.328125 53.03125 38.59375 51.09375 \r\nQ 42.875 49.171875 45.625 45.671875 \r\nQ 48.390625 42.1875 49.953125 37.25 \r\nQ 51.515625 32.328125 51.515625 26.703125 \r\nQ 51.515625 13.375 44.921875 6.09375 \r\nQ 38.328125 -1.171875 29.109375 -1.171875 \r\nQ 19.921875 -1.171875 14.703125 6.5 \r\nz\r\nM 14.59375 26.3125 \r\nQ 14.59375 17 17.140625 12.84375 \r\nQ 21.296875 6.0625 28.375 6.0625 \r\nQ 34.125 6.0625 38.328125 11.0625 \r\nQ 42.53125 16.0625 42.53125 25.984375 \r\nQ 42.53125 36.140625 38.5 40.96875 \r\nQ 34.46875 45.796875 28.765625 45.796875 \r\nQ 23 45.796875 18.796875 40.796875 \r\nQ 14.59375 35.796875 14.59375 26.3125 \r\nz\r\n\" id=\"ArialMT-98\"/>\r\n       <path d=\"M 40.4375 6.390625 \r\nQ 35.546875 2.25 31.03125 0.53125 \r\nQ 26.515625 -1.171875 21.34375 -1.171875 \r\nQ 12.796875 -1.171875 8.203125 3 \r\nQ 3.609375 7.171875 3.609375 13.671875 \r\nQ 3.609375 17.484375 5.34375 20.625 \r\nQ 7.078125 23.78125 9.890625 25.6875 \r\nQ 12.703125 27.59375 16.21875 28.5625 \r\nQ 18.796875 29.25 24.03125 29.890625 \r\nQ 34.671875 31.15625 39.703125 32.90625 \r\nQ 39.75 34.71875 39.75 35.203125 \r\nQ 39.75 40.578125 37.25 42.78125 \r\nQ 33.890625 45.75 27.25 45.75 \r\nQ 21.046875 45.75 18.09375 43.578125 \r\nQ 15.140625 41.40625 13.71875 35.890625 \r\nL 5.125 37.0625 \r\nQ 6.296875 42.578125 8.984375 45.96875 \r\nQ 11.671875 49.359375 16.75 51.1875 \r\nQ 21.828125 53.03125 28.515625 53.03125 \r\nQ 35.15625 53.03125 39.296875 51.46875 \r\nQ 43.453125 49.90625 45.40625 47.53125 \r\nQ 47.359375 45.171875 48.140625 41.546875 \r\nQ 48.578125 39.3125 48.578125 33.453125 \r\nL 48.578125 21.734375 \r\nQ 48.578125 9.46875 49.140625 6.21875 \r\nQ 49.703125 2.984375 51.375 0 \r\nL 42.1875 0 \r\nQ 40.828125 2.734375 40.4375 6.390625 \r\nz\r\nM 39.703125 26.03125 \r\nQ 34.90625 24.078125 25.34375 22.703125 \r\nQ 19.921875 21.921875 17.671875 20.9375 \r\nQ 15.4375 19.96875 14.203125 18.09375 \r\nQ 12.984375 16.21875 12.984375 13.921875 \r\nQ 12.984375 10.40625 15.640625 8.0625 \r\nQ 18.3125 5.71875 23.4375 5.71875 \r\nQ 28.515625 5.71875 32.46875 7.9375 \r\nQ 36.421875 10.15625 38.28125 14.015625 \r\nQ 39.703125 17 39.703125 22.796875 \r\nz\r\n\" id=\"ArialMT-97\"/>\r\n      </defs>\r\n      <g style=\"fill:#262626;\" transform=\"translate(28.3125 268.988906)scale(0.1 -0.1)\">\r\n       <use xlink:href=\"#ArialMT-98\"/>\r\n       <use x=\"55.615234\" xlink:href=\"#ArialMT-117\"/>\r\n       <use x=\"111.230469\" xlink:href=\"#ArialMT-114\"/>\r\n       <use x=\"144.53125\" xlink:href=\"#ArialMT-101\"/>\r\n       <use x=\"200.146484\" xlink:href=\"#ArialMT-97\"/>\r\n       <use x=\"255.761719\" xlink:href=\"#ArialMT-117\"/>\r\n       <use x=\"311.376953\" xlink:href=\"#ArialMT-99\"/>\r\n       <use x=\"361.376953\" xlink:href=\"#ArialMT-114\"/>\r\n       <use x=\"394.677734\" xlink:href=\"#ArialMT-97\"/>\r\n       <use x=\"450.292969\" xlink:href=\"#ArialMT-116\"/>\r\n      </g>\r\n     </g>\r\n    </g>\r\n    <g id=\"ytick_4\">\r\n     <g id=\"line2d_7\">\r\n      <path clip-path=\"url(#p4c206ea1e3)\" d=\"M 83.115625 238.23 \r\nL 250.515625 238.23 \r\n\" style=\"fill:none;stroke:#cccccc;stroke-linecap:round;stroke-width:0.8;\"/>\r\n     </g>\r\n     <g id=\"text_7\">\r\n      <!-- noratelimit -->\r\n      <defs>\r\n       <path d=\"M 6.59375 0 \r\nL 6.59375 51.859375 \r\nL 14.5 51.859375 \r\nL 14.5 44.484375 \r\nQ 20.21875 53.03125 31 53.03125 \r\nQ 35.6875 53.03125 39.625 51.34375 \r\nQ 43.5625 49.65625 45.515625 46.921875 \r\nQ 47.46875 44.1875 48.25 40.4375 \r\nQ 48.734375 37.984375 48.734375 31.890625 \r\nL 48.734375 0 \r\nL 39.9375 0 \r\nL 39.9375 31.546875 \r\nQ 39.9375 36.921875 38.90625 39.578125 \r\nQ 37.890625 42.234375 35.28125 43.8125 \r\nQ 32.671875 45.40625 29.15625 45.40625 \r\nQ 23.53125 45.40625 19.453125 41.84375 \r\nQ 15.375 38.28125 15.375 28.328125 \r\nL 15.375 0 \r\nz\r\n\" id=\"ArialMT-110\"/>\r\n       <path d=\"M 6.390625 0 \r\nL 6.390625 71.578125 \r\nL 15.1875 71.578125 \r\nL 15.1875 0 \r\nz\r\n\" id=\"ArialMT-108\"/>\r\n       <path d=\"M 6.59375 0 \r\nL 6.59375 51.859375 \r\nL 14.453125 51.859375 \r\nL 14.453125 44.578125 \r\nQ 16.890625 48.390625 20.9375 50.703125 \r\nQ 25 53.03125 30.171875 53.03125 \r\nQ 35.9375 53.03125 39.625 50.640625 \r\nQ 43.3125 48.25 44.828125 43.953125 \r\nQ 50.984375 53.03125 60.84375 53.03125 \r\nQ 68.5625 53.03125 72.703125 48.75 \r\nQ 76.859375 44.484375 76.859375 35.59375 \r\nL 76.859375 0 \r\nL 68.109375 0 \r\nL 68.109375 32.671875 \r\nQ 68.109375 37.9375 67.25 40.25 \r\nQ 66.40625 42.578125 64.15625 43.984375 \r\nQ 61.921875 45.40625 58.890625 45.40625 \r\nQ 53.421875 45.40625 49.796875 41.765625 \r\nQ 46.1875 38.140625 46.1875 30.125 \r\nL 46.1875 0 \r\nL 37.40625 0 \r\nL 37.40625 33.6875 \r\nQ 37.40625 39.546875 35.25 42.46875 \r\nQ 33.109375 45.40625 28.21875 45.40625 \r\nQ 24.515625 45.40625 21.359375 43.453125 \r\nQ 18.21875 41.5 16.796875 37.734375 \r\nQ 15.375 33.984375 15.375 26.90625 \r\nL 15.375 0 \r\nz\r\n\" id=\"ArialMT-109\"/>\r\n      </defs>\r\n      <g style=\"fill:#262626;\" transform=\"translate(29.990625 241.808906)scale(0.1 -0.1)\">\r\n       <use xlink:href=\"#ArialMT-110\"/>\r\n       <use x=\"55.615234\" xlink:href=\"#ArialMT-111\"/>\r\n       <use x=\"111.230469\" xlink:href=\"#ArialMT-114\"/>\r\n       <use x=\"144.53125\" xlink:href=\"#ArialMT-97\"/>\r\n       <use x=\"200.146484\" xlink:href=\"#ArialMT-116\"/>\r\n       <use x=\"227.929688\" xlink:href=\"#ArialMT-101\"/>\r\n       <use x=\"283.544922\" xlink:href=\"#ArialMT-108\"/>\r\n       <use x=\"305.761719\" xlink:href=\"#ArialMT-105\"/>\r\n       <use x=\"327.978516\" xlink:href=\"#ArialMT-109\"/>\r\n       <use x=\"411.279297\" xlink:href=\"#ArialMT-105\"/>\r\n       <use x=\"433.496094\" xlink:href=\"#ArialMT-116\"/>\r\n      </g>\r\n     </g>\r\n    </g>\r\n    <g id=\"ytick_5\">\r\n     <g id=\"line2d_8\">\r\n      <path clip-path=\"url(#p4c206ea1e3)\" d=\"M 83.115625 211.05 \r\nL 250.515625 211.05 \r\n\" style=\"fill:none;stroke:#cccccc;stroke-linecap:round;stroke-width:0.8;\"/>\r\n     </g>\r\n     <g id=\"text_8\">\r\n      <!-- import -->\r\n      <defs>\r\n       <path d=\"M 6.59375 -19.875 \r\nL 6.59375 51.859375 \r\nL 14.59375 51.859375 \r\nL 14.59375 45.125 \r\nQ 17.4375 49.078125 21 51.046875 \r\nQ 24.5625 53.03125 29.640625 53.03125 \r\nQ 36.28125 53.03125 41.359375 49.609375 \r\nQ 46.4375 46.1875 49.015625 39.953125 \r\nQ 51.609375 33.734375 51.609375 26.3125 \r\nQ 51.609375 18.359375 48.75 11.984375 \r\nQ 45.90625 5.609375 40.453125 2.21875 \r\nQ 35.015625 -1.171875 29 -1.171875 \r\nQ 24.609375 -1.171875 21.109375 0.6875 \r\nQ 17.625 2.546875 15.375 5.375 \r\nL 15.375 -19.875 \r\nz\r\nM 14.546875 25.640625 \r\nQ 14.546875 15.625 18.59375 10.84375 \r\nQ 22.65625 6.0625 28.421875 6.0625 \r\nQ 34.28125 6.0625 38.453125 11.015625 \r\nQ 42.625 15.96875 42.625 26.375 \r\nQ 42.625 36.28125 38.546875 41.203125 \r\nQ 34.46875 46.140625 28.8125 46.140625 \r\nQ 23.1875 46.140625 18.859375 40.890625 \r\nQ 14.546875 35.640625 14.546875 25.640625 \r\nz\r\n\" id=\"ArialMT-112\"/>\r\n      </defs>\r\n      <g style=\"fill:#262626;\" transform=\"translate(48.334375 214.628906)scale(0.1 -0.1)\">\r\n       <use xlink:href=\"#ArialMT-105\"/>\r\n       <use x=\"22.216797\" xlink:href=\"#ArialMT-109\"/>\r\n       <use x=\"105.517578\" xlink:href=\"#ArialMT-112\"/>\r\n       <use x=\"161.132812\" xlink:href=\"#ArialMT-111\"/>\r\n       <use x=\"216.748047\" xlink:href=\"#ArialMT-114\"/>\r\n       <use x=\"250.048828\" xlink:href=\"#ArialMT-116\"/>\r\n      </g>\r\n     </g>\r\n    </g>\r\n    <g id=\"ytick_6\">\r\n     <g id=\"line2d_9\">\r\n      <path clip-path=\"url(#p4c206ea1e3)\" d=\"M 83.115625 183.87 \r\nL 250.515625 183.87 \r\n\" style=\"fill:none;stroke:#cccccc;stroke-linecap:round;stroke-width:0.8;\"/>\r\n     </g>\r\n     <g id=\"text_9\">\r\n      <!-- interface-admin -->\r\n      <defs>\r\n       <path d=\"M 8.6875 0 \r\nL 8.6875 45.015625 \r\nL 0.921875 45.015625 \r\nL 0.921875 51.859375 \r\nL 8.6875 51.859375 \r\nL 8.6875 57.375 \r\nQ 8.6875 62.59375 9.625 65.140625 \r\nQ 10.890625 68.5625 14.078125 70.671875 \r\nQ 17.28125 72.796875 23.046875 72.796875 \r\nQ 26.765625 72.796875 31.25 71.921875 \r\nL 29.9375 64.265625 \r\nQ 27.203125 64.75 24.75 64.75 \r\nQ 20.75 64.75 19.09375 63.03125 \r\nQ 17.4375 61.328125 17.4375 56.640625 \r\nL 17.4375 51.859375 \r\nL 27.546875 51.859375 \r\nL 27.546875 45.015625 \r\nL 17.4375 45.015625 \r\nL 17.4375 0 \r\nz\r\n\" id=\"ArialMT-102\"/>\r\n       <path d=\"M 3.171875 21.484375 \r\nL 3.171875 30.328125 \r\nL 30.171875 30.328125 \r\nL 30.171875 21.484375 \r\nz\r\n\" id=\"ArialMT-45\"/>\r\n       <path d=\"M 40.234375 0 \r\nL 40.234375 6.546875 \r\nQ 35.296875 -1.171875 25.734375 -1.171875 \r\nQ 19.53125 -1.171875 14.328125 2.25 \r\nQ 9.125 5.671875 6.265625 11.796875 \r\nQ 3.421875 17.921875 3.421875 25.875 \r\nQ 3.421875 33.640625 6 39.96875 \r\nQ 8.59375 46.296875 13.765625 49.65625 \r\nQ 18.953125 53.03125 25.34375 53.03125 \r\nQ 30.03125 53.03125 33.6875 51.046875 \r\nQ 37.359375 49.078125 39.65625 45.90625 \r\nL 39.65625 71.578125 \r\nL 48.390625 71.578125 \r\nL 48.390625 0 \r\nz\r\nM 12.453125 25.875 \r\nQ 12.453125 15.921875 16.640625 10.984375 \r\nQ 20.84375 6.0625 26.5625 6.0625 \r\nQ 32.328125 6.0625 36.34375 10.765625 \r\nQ 40.375 15.484375 40.375 25.140625 \r\nQ 40.375 35.796875 36.265625 40.765625 \r\nQ 32.171875 45.75 26.171875 45.75 \r\nQ 20.3125 45.75 16.375 40.96875 \r\nQ 12.453125 36.1875 12.453125 25.875 \r\nz\r\n\" id=\"ArialMT-100\"/>\r\n      </defs>\r\n      <g style=\"fill:#262626;\" transform=\"translate(7.2 187.448906)scale(0.1 -0.1)\">\r\n       <use xlink:href=\"#ArialMT-105\"/>\r\n       <use x=\"22.216797\" xlink:href=\"#ArialMT-110\"/>\r\n       <use x=\"77.832031\" xlink:href=\"#ArialMT-116\"/>\r\n       <use x=\"105.615234\" xlink:href=\"#ArialMT-101\"/>\r\n       <use x=\"161.230469\" xlink:href=\"#ArialMT-114\"/>\r\n       <use x=\"194.53125\" xlink:href=\"#ArialMT-102\"/>\r\n       <use x=\"222.314453\" xlink:href=\"#ArialMT-97\"/>\r\n       <use x=\"277.929688\" xlink:href=\"#ArialMT-99\"/>\r\n       <use x=\"327.929688\" xlink:href=\"#ArialMT-101\"/>\r\n       <use x=\"383.544922\" xlink:href=\"#ArialMT-45\"/>\r\n       <use x=\"416.845703\" xlink:href=\"#ArialMT-97\"/>\r\n       <use x=\"472.460938\" xlink:href=\"#ArialMT-100\"/>\r\n       <use x=\"528.076172\" xlink:href=\"#ArialMT-109\"/>\r\n       <use x=\"611.376953\" xlink:href=\"#ArialMT-105\"/>\r\n       <use x=\"633.59375\" xlink:href=\"#ArialMT-110\"/>\r\n      </g>\r\n     </g>\r\n    </g>\r\n    <g id=\"ytick_7\">\r\n     <g id=\"line2d_10\">\r\n      <path clip-path=\"url(#p4c206ea1e3)\" d=\"M 83.115625 156.69 \r\nL 250.515625 156.69 \r\n\" style=\"fill:none;stroke:#cccccc;stroke-linecap:round;stroke-width:0.8;\"/>\r\n     </g>\r\n     <g id=\"text_10\">\r\n      <!-- ipblock-exempt -->\r\n      <defs>\r\n       <path d=\"M 0.734375 0 \r\nL 19.671875 26.953125 \r\nL 2.15625 51.859375 \r\nL 13.140625 51.859375 \r\nL 21.09375 39.703125 \r\nQ 23.34375 36.234375 24.703125 33.890625 \r\nQ 26.859375 37.109375 28.65625 39.59375 \r\nL 37.40625 51.859375 \r\nL 47.90625 51.859375 \r\nL 29.984375 27.4375 \r\nL 49.265625 0 \r\nL 38.484375 0 \r\nL 27.828125 16.109375 \r\nL 25 20.453125 \r\nL 11.375 0 \r\nz\r\n\" id=\"ArialMT-120\"/>\r\n      </defs>\r\n      <g style=\"fill:#262626;\" transform=\"translate(8.86875 160.268906)scale(0.1 -0.1)\">\r\n       <use xlink:href=\"#ArialMT-105\"/>\r\n       <use x=\"22.216797\" xlink:href=\"#ArialMT-112\"/>\r\n       <use x=\"77.832031\" xlink:href=\"#ArialMT-98\"/>\r\n       <use x=\"133.447266\" xlink:href=\"#ArialMT-108\"/>\r\n       <use x=\"155.664062\" xlink:href=\"#ArialMT-111\"/>\r\n       <use x=\"211.279297\" xlink:href=\"#ArialMT-99\"/>\r\n       <use x=\"261.279297\" xlink:href=\"#ArialMT-107\"/>\r\n       <use x=\"311.279297\" xlink:href=\"#ArialMT-45\"/>\r\n       <use x=\"344.580078\" xlink:href=\"#ArialMT-101\"/>\r\n       <use x=\"400.195312\" xlink:href=\"#ArialMT-120\"/>\r\n       <use x=\"450.195312\" xlink:href=\"#ArialMT-101\"/>\r\n       <use x=\"505.810547\" xlink:href=\"#ArialMT-109\"/>\r\n       <use x=\"589.111328\" xlink:href=\"#ArialMT-112\"/>\r\n       <use x=\"644.726562\" xlink:href=\"#ArialMT-116\"/>\r\n      </g>\r\n     </g>\r\n    </g>\r\n    <g id=\"ytick_8\">\r\n     <g id=\"line2d_11\">\r\n      <path clip-path=\"url(#p4c206ea1e3)\" d=\"M 83.115625 129.51 \r\nL 250.515625 129.51 \r\n\" style=\"fill:none;stroke:#cccccc;stroke-linecap:round;stroke-width:0.8;\"/>\r\n     </g>\r\n     <g id=\"text_11\">\r\n      <!-- sysop -->\r\n      <defs>\r\n       <path d=\"M 6.203125 -19.96875 \r\nL 5.21875 -11.71875 \r\nQ 8.109375 -12.5 10.25 -12.5 \r\nQ 13.1875 -12.5 14.9375 -11.515625 \r\nQ 16.703125 -10.546875 17.828125 -8.796875 \r\nQ 18.65625 -7.46875 20.515625 -2.25 \r\nQ 20.75 -1.515625 21.296875 -0.09375 \r\nL 1.609375 51.859375 \r\nL 11.078125 51.859375 \r\nL 21.875 21.828125 \r\nQ 23.96875 16.109375 25.640625 9.8125 \r\nQ 27.15625 15.875 29.25 21.625 \r\nL 40.328125 51.859375 \r\nL 49.125 51.859375 \r\nL 29.390625 -0.875 \r\nQ 26.21875 -9.421875 24.46875 -12.640625 \r\nQ 22.125 -17 19.09375 -19.015625 \r\nQ 16.0625 -21.046875 11.859375 -21.046875 \r\nQ 9.328125 -21.046875 6.203125 -19.96875 \r\nz\r\n\" id=\"ArialMT-121\"/>\r\n      </defs>\r\n      <g style=\"fill:#262626;\" transform=\"translate(49.99375 133.030312)scale(0.1 -0.1)\">\r\n       <use xlink:href=\"#ArialMT-115\"/>\r\n       <use x=\"50\" xlink:href=\"#ArialMT-121\"/>\r\n       <use x=\"100\" xlink:href=\"#ArialMT-115\"/>\r\n       <use x=\"150\" xlink:href=\"#ArialMT-111\"/>\r\n       <use x=\"205.615234\" xlink:href=\"#ArialMT-112\"/>\r\n      </g>\r\n     </g>\r\n    </g>\r\n    <g id=\"ytick_9\">\r\n     <g id=\"line2d_12\">\r\n      <path clip-path=\"url(#p4c206ea1e3)\" d=\"M 83.115625 102.33 \r\nL 250.515625 102.33 \r\n\" style=\"fill:none;stroke:#cccccc;stroke-linecap:round;stroke-width:0.8;\"/>\r\n     </g>\r\n     <g id=\"text_12\">\r\n      <!-- autoreview -->\r\n      <defs>\r\n       <path d=\"M 16.15625 0 \r\nL 0.296875 51.859375 \r\nL 9.375 51.859375 \r\nL 17.625 21.921875 \r\nL 20.703125 10.796875 \r\nQ 20.90625 11.625 23.390625 21.484375 \r\nL 31.640625 51.859375 \r\nL 40.671875 51.859375 \r\nL 48.4375 21.78125 \r\nL 51.03125 11.859375 \r\nL 54 21.875 \r\nL 62.890625 51.859375 \r\nL 71.4375 51.859375 \r\nL 55.21875 0 \r\nL 46.09375 0 \r\nL 37.84375 31.0625 \r\nL 35.84375 39.890625 \r\nL 25.34375 0 \r\nz\r\n\" id=\"ArialMT-119\"/>\r\n      </defs>\r\n      <g style=\"fill:#262626;\" transform=\"translate(27.759375 105.908906)scale(0.1 -0.1)\">\r\n       <use xlink:href=\"#ArialMT-97\"/>\r\n       <use x=\"55.615234\" xlink:href=\"#ArialMT-117\"/>\r\n       <use x=\"111.230469\" xlink:href=\"#ArialMT-116\"/>\r\n       <use x=\"139.013672\" xlink:href=\"#ArialMT-111\"/>\r\n       <use x=\"194.628906\" xlink:href=\"#ArialMT-114\"/>\r\n       <use x=\"227.929688\" xlink:href=\"#ArialMT-101\"/>\r\n       <use x=\"283.544922\" xlink:href=\"#ArialMT-118\"/>\r\n       <use x=\"333.544922\" xlink:href=\"#ArialMT-105\"/>\r\n       <use x=\"355.761719\" xlink:href=\"#ArialMT-101\"/>\r\n       <use x=\"411.376953\" xlink:href=\"#ArialMT-119\"/>\r\n      </g>\r\n     </g>\r\n    </g>\r\n    <g id=\"ytick_10\">\r\n     <g id=\"line2d_13\">\r\n      <path clip-path=\"url(#p4c206ea1e3)\" d=\"M 83.115625 75.15 \r\nL 250.515625 75.15 \r\n\" style=\"fill:none;stroke:#cccccc;stroke-linecap:round;stroke-width:0.8;\"/>\r\n     </g>\r\n     <g id=\"text_13\">\r\n      <!-- editor -->\r\n      <g style=\"fill:#262626;\" transform=\"translate(51.103125 78.728906)scale(0.1 -0.1)\">\r\n       <use xlink:href=\"#ArialMT-101\"/>\r\n       <use x=\"55.615234\" xlink:href=\"#ArialMT-100\"/>\r\n       <use x=\"111.230469\" xlink:href=\"#ArialMT-105\"/>\r\n       <use x=\"133.447266\" xlink:href=\"#ArialMT-116\"/>\r\n       <use x=\"161.230469\" xlink:href=\"#ArialMT-111\"/>\r\n       <use x=\"216.845703\" xlink:href=\"#ArialMT-114\"/>\r\n      </g>\r\n     </g>\r\n    </g>\r\n    <g id=\"ytick_11\">\r\n     <g id=\"line2d_14\">\r\n      <path clip-path=\"url(#p4c206ea1e3)\" d=\"M 83.115625 47.97 \r\nL 250.515625 47.97 \r\n\" style=\"fill:none;stroke:#cccccc;stroke-linecap:round;stroke-width:0.8;\"/>\r\n     </g>\r\n     <g id=\"text_14\">\r\n      <!-- autoconfirmed -->\r\n      <g style=\"fill:#262626;\" transform=\"translate(12.751563 51.548906)scale(0.1 -0.1)\">\r\n       <use xlink:href=\"#ArialMT-97\"/>\r\n       <use x=\"55.615234\" xlink:href=\"#ArialMT-117\"/>\r\n       <use x=\"111.230469\" xlink:href=\"#ArialMT-116\"/>\r\n       <use x=\"139.013672\" xlink:href=\"#ArialMT-111\"/>\r\n       <use x=\"194.628906\" xlink:href=\"#ArialMT-99\"/>\r\n       <use x=\"244.628906\" xlink:href=\"#ArialMT-111\"/>\r\n       <use x=\"300.244141\" xlink:href=\"#ArialMT-110\"/>\r\n       <use x=\"355.859375\" xlink:href=\"#ArialMT-102\"/>\r\n       <use x=\"383.642578\" xlink:href=\"#ArialMT-105\"/>\r\n       <use x=\"405.859375\" xlink:href=\"#ArialMT-114\"/>\r\n       <use x=\"439.160156\" xlink:href=\"#ArialMT-109\"/>\r\n       <use x=\"522.460938\" xlink:href=\"#ArialMT-101\"/>\r\n       <use x=\"578.076172\" xlink:href=\"#ArialMT-100\"/>\r\n      </g>\r\n     </g>\r\n    </g>\r\n    <g id=\"ytick_12\">\r\n     <g id=\"line2d_15\">\r\n      <path clip-path=\"url(#p4c206ea1e3)\" d=\"M 83.115625 20.79 \r\nL 250.515625 20.79 \r\n\" style=\"fill:none;stroke:#cccccc;stroke-linecap:round;stroke-width:0.8;\"/>\r\n     </g>\r\n     <g id=\"text_15\">\r\n      <!-- user -->\r\n      <g style=\"fill:#262626;\" transform=\"translate(56.664063 24.368906)scale(0.1 -0.1)\">\r\n       <use xlink:href=\"#ArialMT-117\"/>\r\n       <use x=\"55.615234\" xlink:href=\"#ArialMT-115\"/>\r\n       <use x=\"105.615234\" xlink:href=\"#ArialMT-101\"/>\r\n       <use x=\"161.230469\" xlink:href=\"#ArialMT-114\"/>\r\n      </g>\r\n     </g>\r\n    </g>\r\n   </g>\r\n   <g id=\"patch_3\">\r\n    <path clip-path=\"url(#p4c206ea1e3)\" d=\"M -52595.215038 326.565 \r\nL 90.724716 326.565 \r\nL 90.724716 312.975 \r\nL -52595.215038 312.975 \r\nz\r\n\" style=\"fill:#1f77b4;stroke:#ffffff;stroke-linejoin:miter;\"/>\r\n   </g>\r\n   <g id=\"patch_4\">\r\n    <path clip-path=\"url(#p4c206ea1e3)\" d=\"M -52595.215038 299.385 \r\nL 95.848159 299.385 \r\nL 95.848159 285.795 \r\nL -52595.215038 285.795 \r\nz\r\n\" style=\"fill:#1f77b4;stroke:#ffffff;stroke-linejoin:miter;\"/>\r\n   </g>\r\n   <g id=\"patch_5\">\r\n    <path clip-path=\"url(#p4c206ea1e3)\" d=\"M -52595.215038 272.205 \r\nL 95.848159 272.205 \r\nL 95.848159 258.615 \r\nL -52595.215038 258.615 \r\nz\r\n\" style=\"fill:#1f77b4;stroke:#ffffff;stroke-linejoin:miter;\"/>\r\n   </g>\r\n   <g id=\"patch_6\">\r\n    <path clip-path=\"url(#p4c206ea1e3)\" d=\"M -52595.215038 245.025 \r\nL 113.951376 245.025 \r\nL 113.951376 231.435 \r\nL -52595.215038 231.435 \r\nz\r\n\" style=\"fill:#1f77b4;stroke:#ffffff;stroke-linejoin:miter;\"/>\r\n   </g>\r\n   <g id=\"patch_7\">\r\n    <path clip-path=\"url(#p4c206ea1e3)\" d=\"M -52595.215038 217.845 \r\nL 117.786988 217.845 \r\nL 117.786988 204.255 \r\nL -52595.215038 204.255 \r\nz\r\n\" style=\"fill:#1f77b4;stroke:#ffffff;stroke-linejoin:miter;\"/>\r\n   </g>\r\n   <g id=\"patch_8\">\r\n    <path clip-path=\"url(#p4c206ea1e3)\" d=\"M -52595.215038 190.665 \r\nL 128.79813 190.665 \r\nL 128.79813 177.075 \r\nL -52595.215038 177.075 \r\nz\r\n\" style=\"fill:#1f77b4;stroke:#ffffff;stroke-linejoin:miter;\"/>\r\n   </g>\r\n   <g id=\"patch_9\">\r\n    <path clip-path=\"url(#p4c206ea1e3)\" d=\"M -52595.215038 163.485 \r\nL 167.233131 163.485 \r\nL 167.233131 149.895 \r\nL -52595.215038 149.895 \r\nz\r\n\" style=\"fill:#1f77b4;stroke:#ffffff;stroke-linejoin:miter;\"/>\r\n   </g>\r\n   <g id=\"patch_10\">\r\n    <path clip-path=\"url(#p4c206ea1e3)\" d=\"M -52595.215038 136.305 \r\nL 176.405655 136.305 \r\nL 176.405655 122.715 \r\nL -52595.215038 122.715 \r\nz\r\n\" style=\"fill:#1f77b4;stroke:#ffffff;stroke-linejoin:miter;\"/>\r\n   </g>\r\n   <g id=\"patch_11\">\r\n    <path clip-path=\"url(#p4c206ea1e3)\" d=\"M -52595.215038 109.125 \r\nL 236.138716 109.125 \r\nL 236.138716 95.535 \r\nL -52595.215038 95.535 \r\nz\r\n\" style=\"fill:#1f77b4;stroke:#ffffff;stroke-linejoin:miter;\"/>\r\n   </g>\r\n   <g id=\"patch_12\">\r\n    <path clip-path=\"url(#p4c206ea1e3)\" d=\"M -52595.215038 81.945 \r\nL 239.648913 81.945 \r\nL 239.648913 68.355 \r\nL -52595.215038 68.355 \r\nz\r\n\" style=\"fill:#1f77b4;stroke:#ffffff;stroke-linejoin:miter;\"/>\r\n   </g>\r\n   <g id=\"patch_13\">\r\n    <path clip-path=\"url(#p4c206ea1e3)\" d=\"M -52595.215038 54.765 \r\nL 242.906534 54.765 \r\nL 242.906534 41.175 \r\nL -52595.215038 41.175 \r\nz\r\n\" style=\"fill:#1f77b4;stroke:#ffffff;stroke-linejoin:miter;\"/>\r\n   </g>\r\n   <g id=\"patch_14\">\r\n    <path clip-path=\"url(#p4c206ea1e3)\" d=\"M -52595.215038 27.585 \r\nL 242.906534 27.585 \r\nL 242.906534 13.995 \r\nL -52595.215038 13.995 \r\nz\r\n\" style=\"fill:#1f77b4;stroke:#ffffff;stroke-linejoin:miter;\"/>\r\n   </g>\r\n   <g id=\"patch_15\">\r\n    <path d=\"M 83.115625 333.36 \r\nL 83.115625 7.2 \r\n\" style=\"fill:none;stroke:#cccccc;stroke-linecap:square;stroke-linejoin:miter;stroke-width:0.8;\"/>\r\n   </g>\r\n   <g id=\"patch_16\">\r\n    <path d=\"M 250.515625 333.36 \r\nL 250.515625 7.2 \r\n\" style=\"fill:none;stroke:#cccccc;stroke-linecap:square;stroke-linejoin:miter;stroke-width:0.8;\"/>\r\n   </g>\r\n   <g id=\"patch_17\">\r\n    <path d=\"M 83.115625 333.36 \r\nL 250.515625 333.36 \r\n\" style=\"fill:none;stroke:#cccccc;stroke-linecap:square;stroke-linejoin:miter;stroke-width:0.8;\"/>\r\n   </g>\r\n   <g id=\"patch_18\">\r\n    <path d=\"M 83.115625 7.2 \r\nL 250.515625 7.2 \r\n\" style=\"fill:none;stroke:#cccccc;stroke-linecap:square;stroke-linejoin:miter;stroke-width:0.8;\"/>\r\n   </g>\r\n  </g>\r\n </g>\r\n <defs>\r\n  <clipPath id=\"p4c206ea1e3\">\r\n   <rect height=\"326.16\" width=\"167.4\" x=\"83.115625\" y=\"7.2\"/>\r\n  </clipPath>\r\n </defs>\r\n</svg>\r\n",
      "image/png": "[encoded data removed]"
     },
     "metadata": {}
    }
   ],
   "source": [
    "_s = (user_info_cleaned_df[group_types].sum()/11132.).sort_values()\n",
    "_s.plot(kind='barh',logx=True,figsize=(3,6))"
   ]
  },
  {
   "cell_type": "markdown",
   "metadata": {},
   "source": [
    "### Spanish language edition - user processing"
   ]
  },
  {
   "cell_type": "code",
   "execution_count": 57,
   "metadata": {
    "tags": []
   },
   "outputs": [
    {
     "output_type": "stream",
     "name": "stdout",
     "text": "890\n890 0 0\n890 0 0\n"
    }
   ],
   "source": [
    "#es - df of the top users\n",
    "user_info = get_user_info(list(top_users_es.index),endpoint='es.wikipedia.org/w/api.php')\n",
    "print(len(user_info))\n",
    "\n",
    "_df0 = pd.DataFrame(user_info)\n",
    "nonmissing_users = _df0[~_df0['editcount'].isnull()]['name'].values\n",
    "missing_users = _df0[_df0['editcount'].isnull()]['name'].values\n",
    "no_page_users = list()\n",
    "\n",
    "print(len(list(nonmissing_users)),len(list(missing_users)),len(list(no_page_users)))\n",
    "\n",
    "name_redirects = {}\n",
    "for missing_user in missing_users:\n",
    "    links_on_missing = get_links(missing_user,endpoint='es.wikipedia.org/w/api.php',userword='Usuario')\n",
    "    links_on_missing_1 = get_links(missing_user,endpoint='es.wikipedia.org/w/api.php',userword='Usuaria')\n",
    "    links_on_missing = links_on_missing + links_on_missing_1\n",
    "    if len(links_on_missing) == 0:\n",
    "        no_page_users.append(missing_user)\n",
    "    else:\n",
    "        redirected_name = [i for i in links_on_missing if 'Usuario:' in i or 'Usuaria' in i]\n",
    "        if len(redirected_name) == 0:\n",
    "            no_page_users.append(missing_user)\n",
    "        else:\n",
    "            name_redirects[missing_user] = redirected_name[0]\n",
    "\n",
    "missing_user_info = get_user_info(list(name_redirects.values()),endpoint='es.wikipedia.org/w/api.php')\n",
    "print(len(list(nonmissing_users)),len(missing_user_info),len(no_page_users))\n",
    "\n",
    "with open('name_redirects_es.json','w',encoding='utf8') as f:\n",
    "    json.dump(name_redirects,f)"
   ]
  },
  {
   "cell_type": "code",
   "execution_count": 43,
   "metadata": {
    "tags": []
   },
   "outputs": [
    {
     "output_type": "stream",
     "name": "stdout",
     "text": "890\n0\n"
    }
   ],
   "source": [
    "# apparently there are no missing users\n",
    "_df0 = pd.DataFrame(user_info)\n",
    "_df1 = _df0[~_df0['name'].isin(missing_users)]\n",
    "_df2 = pd.DataFrame(missing_user_info)\n",
    "user_info_df = pd.concat([_df1,_df2])\n",
    "print(len(user_info_df))\n",
    "print(len(no_page_users))"
   ]
  },
  {
   "cell_type": "code",
   "execution_count": 44,
   "metadata": {},
   "outputs": [
    {
     "output_type": "execute_result",
     "data": {
      "text/plain": "    userid       name  editcount          registration   gender  checkuser  \\\n0  1122788  Hprmedina      29182  2009-06-21T04:23:57Z     male      False   \n1    80935   Paintman      30550                  None  unknown      False   \n2    32328     Taichi     125624                  None     male      False   \n3  2545358     Addbot     305587  2013-03-01T15:57:34Z  unknown      False   \n4   305784   Belgrano      20752  2007-02-09T14:08:22Z     male      False   \n\n   ipblock-exempt  autopatrolled  autoconfirmed  rollbacker  oversight  \\\n0           False          False           True        True      False   \n1           False          False           True       False      False   \n2           False          False           True       False      False   \n3           False          False           True       False      False   \n4           False          False           True       False      False   \n\n   patroller  user  bureaucrat  interface-admin  sysop  \n0       True  True       False            False  False  \n1      False  True       False            False  False  \n2      False  True        True            False   True  \n3      False  True       False            False  False  \n4      False  True       False            False  False  ",
      "text/html": "<div>\n<style scoped>\n    .dataframe tbody tr th:only-of-type {\n        vertical-align: middle;\n    }\n\n    .dataframe tbody tr th {\n        vertical-align: top;\n    }\n\n    .dataframe thead th {\n        text-align: right;\n    }\n</style>\n<table border=\"1\" class=\"dataframe\">\n  <thead>\n    <tr style=\"text-align: right;\">\n      <th></th>\n      <th>userid</th>\n      <th>name</th>\n      <th>editcount</th>\n      <th>registration</th>\n      <th>gender</th>\n      <th>checkuser</th>\n      <th>ipblock-exempt</th>\n      <th>autopatrolled</th>\n      <th>autoconfirmed</th>\n      <th>rollbacker</th>\n      <th>oversight</th>\n      <th>patroller</th>\n      <th>user</th>\n      <th>bureaucrat</th>\n      <th>interface-admin</th>\n      <th>sysop</th>\n    </tr>\n  </thead>\n  <tbody>\n    <tr>\n      <th>0</th>\n      <td>1122788</td>\n      <td>Hprmedina</td>\n      <td>29182</td>\n      <td>2009-06-21T04:23:57Z</td>\n      <td>male</td>\n      <td>False</td>\n      <td>False</td>\n      <td>False</td>\n      <td>True</td>\n      <td>True</td>\n      <td>False</td>\n      <td>True</td>\n      <td>True</td>\n      <td>False</td>\n      <td>False</td>\n      <td>False</td>\n    </tr>\n    <tr>\n      <th>1</th>\n      <td>80935</td>\n      <td>Paintman</td>\n      <td>30550</td>\n      <td>None</td>\n      <td>unknown</td>\n      <td>False</td>\n      <td>False</td>\n      <td>False</td>\n      <td>True</td>\n      <td>False</td>\n      <td>False</td>\n      <td>False</td>\n      <td>True</td>\n      <td>False</td>\n      <td>False</td>\n      <td>False</td>\n    </tr>\n    <tr>\n      <th>2</th>\n      <td>32328</td>\n      <td>Taichi</td>\n      <td>125624</td>\n      <td>None</td>\n      <td>male</td>\n      <td>False</td>\n      <td>False</td>\n      <td>False</td>\n      <td>True</td>\n      <td>False</td>\n      <td>False</td>\n      <td>False</td>\n      <td>True</td>\n      <td>True</td>\n      <td>False</td>\n      <td>True</td>\n    </tr>\n    <tr>\n      <th>3</th>\n      <td>2545358</td>\n      <td>Addbot</td>\n      <td>305587</td>\n      <td>2013-03-01T15:57:34Z</td>\n      <td>unknown</td>\n      <td>False</td>\n      <td>False</td>\n      <td>False</td>\n      <td>True</td>\n      <td>False</td>\n      <td>False</td>\n      <td>False</td>\n      <td>True</td>\n      <td>False</td>\n      <td>False</td>\n      <td>False</td>\n    </tr>\n    <tr>\n      <th>4</th>\n      <td>305784</td>\n      <td>Belgrano</td>\n      <td>20752</td>\n      <td>2007-02-09T14:08:22Z</td>\n      <td>male</td>\n      <td>False</td>\n      <td>False</td>\n      <td>False</td>\n      <td>True</td>\n      <td>False</td>\n      <td>False</td>\n      <td>False</td>\n      <td>True</td>\n      <td>False</td>\n      <td>False</td>\n      <td>False</td>\n    </tr>\n  </tbody>\n</table>\n</div>"
     },
     "metadata": {},
     "execution_count": 44
    }
   ],
   "source": [
    "group_types = list(set([j for i in user_info_df['groups'].dropna().values for j in i]) - set(['*']))\n",
    "#_ix = user_info_df['groups'].dropna().index\n",
    "#subgroup = user_info_df.ix[_ix]\n",
    "\n",
    "for group in group_types:\n",
    "    user_info_df[group] = user_info_df['groups'].apply(lambda x:group in x)\n",
    "\n",
    "user_info_cleaned_df = user_info_df[[i for i in user_info_df.columns if i not in ['groups','*']]]\n",
    "user_info_cleaned_df.to_csv('user_info_es.csv',encoding='utf8')\n",
    "user_info_cleaned_df.head()"
   ]
  },
  {
   "cell_type": "code",
   "execution_count": 45,
   "metadata": {
    "tags": []
   },
   "outputs": [
    {
     "output_type": "stream",
     "name": "stdout",
     "text": "No bots!\n"
    }
   ],
   "source": [
    "try:\n",
    "    bots_test = user_info_cleaned_df[user_info_cleaned_df['bot'] == True]['name'].values\n",
    "    print(bots_test)\n",
    "except KeyError:\n",
    "    print(\"No bots!\")"
   ]
  },
  {
   "cell_type": "code",
   "execution_count": 46,
   "metadata": {},
   "outputs": [
    {
     "output_type": "execute_result",
     "data": {
      "text/plain": "<matplotlib.axes._subplots.AxesSubplot at 0x22f88deeb80>"
     },
     "metadata": {},
     "execution_count": 46
    },
    {
     "output_type": "display_data",
     "data": {
      "text/plain": "<Figure size 216x432 with 1 Axes>",
      "image/svg+xml": "<?xml version=\"1.0\" encoding=\"utf-8\" standalone=\"no\"?>\r\n<!DOCTYPE svg PUBLIC \"-//W3C//DTD SVG 1.1//EN\"\r\n  \"http://www.w3.org/Graphics/SVG/1.1/DTD/svg11.dtd\">\r\n<!-- Created with matplotlib (https://matplotlib.org/) -->\r\n<svg height=\"359.86pt\" version=\"1.1\" viewBox=\"0 0 265.988697 359.86\" width=\"265.988697pt\" xmlns=\"http://www.w3.org/2000/svg\" xmlns:xlink=\"http://www.w3.org/1999/xlink\">\r\n <defs>\r\n  <style type=\"text/css\">\r\n*{stroke-linecap:butt;stroke-linejoin:round;}\r\n  </style>\r\n </defs>\r\n <g id=\"figure_1\">\r\n  <g id=\"patch_1\">\r\n   <path d=\"M 0 359.86 \r\nL 265.988697 359.86 \r\nL 265.988697 0 \r\nL 0 0 \r\nz\r\n\" style=\"fill:#ffffff;\"/>\r\n  </g>\r\n  <g id=\"axes_1\">\r\n   <g id=\"patch_2\">\r\n    <path d=\"M 83.115625 333.36 \r\nL 250.515625 333.36 \r\nL 250.515625 7.2 \r\nL 83.115625 7.2 \r\nz\r\n\" style=\"fill:#ffffff;\"/>\r\n   </g>\r\n   <g id=\"matplotlib.axis_1\">\r\n    <g id=\"xtick_1\">\r\n     <g id=\"line2d_1\">\r\n      <path clip-path=\"url(#p0eb28ef5a1)\" d=\"M 125.777633 333.36 \r\nL 125.777633 7.2 \r\n\" style=\"fill:none;stroke:#cccccc;stroke-linecap:round;stroke-width:0.8;\"/>\r\n     </g>\r\n     <g id=\"text_1\">\r\n      <!-- $\\mathdefault{10^{-3}}$ -->\r\n      <defs>\r\n       <path d=\"M 37.25 0 \r\nL 28.46875 0 \r\nL 28.46875 56 \r\nQ 25.296875 52.984375 20.140625 49.953125 \r\nQ 14.984375 46.921875 10.890625 45.40625 \r\nL 10.890625 53.90625 \r\nQ 18.265625 57.375 23.78125 62.296875 \r\nQ 29.296875 67.234375 31.59375 71.875 \r\nL 37.25 71.875 \r\nz\r\n\" id=\"ArialMT-49\"/>\r\n       <path d=\"M 4.15625 35.296875 \r\nQ 4.15625 48 6.765625 55.734375 \r\nQ 9.375 63.484375 14.515625 67.671875 \r\nQ 19.671875 71.875 27.484375 71.875 \r\nQ 33.25 71.875 37.59375 69.546875 \r\nQ 41.9375 67.234375 44.765625 62.859375 \r\nQ 47.609375 58.5 49.21875 52.21875 \r\nQ 50.828125 45.953125 50.828125 35.296875 \r\nQ 50.828125 22.703125 48.234375 14.96875 \r\nQ 45.65625 7.234375 40.5 3 \r\nQ 35.359375 -1.21875 27.484375 -1.21875 \r\nQ 17.140625 -1.21875 11.234375 6.203125 \r\nQ 4.15625 15.140625 4.15625 35.296875 \r\nz\r\nM 13.1875 35.296875 \r\nQ 13.1875 17.671875 17.3125 11.828125 \r\nQ 21.4375 6 27.484375 6 \r\nQ 33.546875 6 37.671875 11.859375 \r\nQ 41.796875 17.71875 41.796875 35.296875 \r\nQ 41.796875 52.984375 37.671875 58.78125 \r\nQ 33.546875 64.59375 27.390625 64.59375 \r\nQ 21.34375 64.59375 17.71875 59.46875 \r\nQ 13.1875 52.9375 13.1875 35.296875 \r\nz\r\n\" id=\"ArialMT-48\"/>\r\n       <path d=\"M 52.828125 31.203125 \r\nL 5.5625 31.203125 \r\nL 5.5625 39.40625 \r\nL 52.828125 39.40625 \r\nz\r\n\" id=\"ArialMT-8722\"/>\r\n       <path d=\"M 4.203125 18.890625 \r\nL 12.984375 20.0625 \r\nQ 14.5 12.59375 18.140625 9.296875 \r\nQ 21.78125 6 27 6 \r\nQ 33.203125 6 37.46875 10.296875 \r\nQ 41.75 14.59375 41.75 20.953125 \r\nQ 41.75 27 37.796875 30.921875 \r\nQ 33.84375 34.859375 27.734375 34.859375 \r\nQ 25.25 34.859375 21.53125 33.890625 \r\nL 22.515625 41.609375 \r\nQ 23.390625 41.5 23.921875 41.5 \r\nQ 29.546875 41.5 34.03125 44.421875 \r\nQ 38.53125 47.359375 38.53125 53.46875 \r\nQ 38.53125 58.296875 35.25 61.46875 \r\nQ 31.984375 64.65625 26.8125 64.65625 \r\nQ 21.6875 64.65625 18.265625 61.421875 \r\nQ 14.84375 58.203125 13.875 51.765625 \r\nL 5.078125 53.328125 \r\nQ 6.6875 62.15625 12.390625 67.015625 \r\nQ 18.109375 71.875 26.609375 71.875 \r\nQ 32.46875 71.875 37.390625 69.359375 \r\nQ 42.328125 66.84375 44.9375 62.5 \r\nQ 47.5625 58.15625 47.5625 53.265625 \r\nQ 47.5625 48.640625 45.0625 44.828125 \r\nQ 42.578125 41.015625 37.703125 38.765625 \r\nQ 44.046875 37.3125 47.5625 32.6875 \r\nQ 51.078125 28.078125 51.078125 21.140625 \r\nQ 51.078125 11.765625 44.234375 5.25 \r\nQ 37.40625 -1.265625 26.953125 -1.265625 \r\nQ 17.53125 -1.265625 11.296875 4.34375 \r\nQ 5.078125 9.96875 4.203125 18.890625 \r\nz\r\n\" id=\"ArialMT-51\"/>\r\n      </defs>\r\n      <g style=\"fill:#262626;\" transform=\"translate(115.877633 350.6725)scale(0.1 -0.1)\">\r\n       <use transform=\"translate(0 0.99375)\" xlink:href=\"#ArialMT-49\"/>\r\n       <use transform=\"translate(55.615234 0.99375)\" xlink:href=\"#ArialMT-48\"/>\r\n       <use transform=\"translate(112.972813 70.6875)scale(0.7)\" xlink:href=\"#ArialMT-8722\"/>\r\n       <use transform=\"translate(153.851719 70.6875)scale(0.7)\" xlink:href=\"#ArialMT-51\"/>\r\n      </g>\r\n     </g>\r\n    </g>\r\n    <g id=\"xtick_2\">\r\n     <g id=\"line2d_2\">\r\n      <path clip-path=\"url(#p0eb28ef5a1)\" d=\"M 187.333165 333.36 \r\nL 187.333165 7.2 \r\n\" style=\"fill:none;stroke:#cccccc;stroke-linecap:round;stroke-width:0.8;\"/>\r\n     </g>\r\n     <g id=\"text_2\">\r\n      <!-- $\\mathdefault{10^{-2}}$ -->\r\n      <defs>\r\n       <path d=\"M 50.34375 8.453125 \r\nL 50.34375 0 \r\nL 3.03125 0 \r\nQ 2.9375 3.171875 4.046875 6.109375 \r\nQ 5.859375 10.9375 9.828125 15.625 \r\nQ 13.8125 20.3125 21.34375 26.46875 \r\nQ 33.015625 36.03125 37.109375 41.625 \r\nQ 41.21875 47.21875 41.21875 52.203125 \r\nQ 41.21875 57.421875 37.46875 61 \r\nQ 33.734375 64.59375 27.734375 64.59375 \r\nQ 21.390625 64.59375 17.578125 60.78125 \r\nQ 13.765625 56.984375 13.71875 50.25 \r\nL 4.6875 51.171875 \r\nQ 5.609375 61.28125 11.65625 66.578125 \r\nQ 17.71875 71.875 27.9375 71.875 \r\nQ 38.234375 71.875 44.234375 66.15625 \r\nQ 50.25 60.453125 50.25 52 \r\nQ 50.25 47.703125 48.484375 43.546875 \r\nQ 46.734375 39.40625 42.65625 34.8125 \r\nQ 38.578125 30.21875 29.109375 22.21875 \r\nQ 21.1875 15.578125 18.9375 13.203125 \r\nQ 16.703125 10.84375 15.234375 8.453125 \r\nz\r\n\" id=\"ArialMT-50\"/>\r\n      </defs>\r\n      <g style=\"fill:#262626;\" transform=\"translate(177.433165 350.6725)scale(0.1 -0.1)\">\r\n       <use transform=\"translate(0 0.99375)\" xlink:href=\"#ArialMT-49\"/>\r\n       <use transform=\"translate(55.615234 0.99375)\" xlink:href=\"#ArialMT-48\"/>\r\n       <use transform=\"translate(112.972813 70.6875)scale(0.7)\" xlink:href=\"#ArialMT-8722\"/>\r\n       <use transform=\"translate(153.851719 70.6875)scale(0.7)\" xlink:href=\"#ArialMT-50\"/>\r\n      </g>\r\n     </g>\r\n    </g>\r\n    <g id=\"xtick_3\">\r\n     <g id=\"line2d_3\">\r\n      <path clip-path=\"url(#p0eb28ef5a1)\" d=\"M 248.888697 333.36 \r\nL 248.888697 7.2 \r\n\" style=\"fill:none;stroke:#cccccc;stroke-linecap:round;stroke-width:0.8;\"/>\r\n     </g>\r\n     <g id=\"text_3\">\r\n      <!-- $\\mathdefault{10^{-1}}$ -->\r\n      <g style=\"fill:#262626;\" transform=\"translate(238.988697 350.6725)scale(0.1 -0.1)\">\r\n       <use transform=\"translate(0 0.99375)\" xlink:href=\"#ArialMT-49\"/>\r\n       <use transform=\"translate(55.615234 0.99375)\" xlink:href=\"#ArialMT-48\"/>\r\n       <use transform=\"translate(112.972813 70.6875)scale(0.7)\" xlink:href=\"#ArialMT-8722\"/>\r\n       <use transform=\"translate(153.851719 70.6875)scale(0.7)\" xlink:href=\"#ArialMT-49\"/>\r\n      </g>\r\n     </g>\r\n    </g>\r\n    <g id=\"xtick_4\"/>\r\n    <g id=\"xtick_5\"/>\r\n    <g id=\"xtick_6\"/>\r\n    <g id=\"xtick_7\"/>\r\n    <g id=\"xtick_8\"/>\r\n    <g id=\"xtick_9\"/>\r\n    <g id=\"xtick_10\"/>\r\n    <g id=\"xtick_11\"/>\r\n    <g id=\"xtick_12\"/>\r\n    <g id=\"xtick_13\"/>\r\n    <g id=\"xtick_14\"/>\r\n    <g id=\"xtick_15\"/>\r\n    <g id=\"xtick_16\"/>\r\n    <g id=\"xtick_17\"/>\r\n    <g id=\"xtick_18\"/>\r\n    <g id=\"xtick_19\"/>\r\n    <g id=\"xtick_20\"/>\r\n    <g id=\"xtick_21\"/>\r\n    <g id=\"xtick_22\"/>\r\n    <g id=\"xtick_23\"/>\r\n    <g id=\"xtick_24\"/>\r\n    <g id=\"xtick_25\"/>\r\n    <g id=\"xtick_26\"/>\r\n   </g>\r\n   <g id=\"matplotlib.axis_2\">\r\n    <g id=\"ytick_1\">\r\n     <g id=\"line2d_4\">\r\n      <path clip-path=\"url(#p0eb28ef5a1)\" d=\"M 83.115625 318.534545 \r\nL 250.515625 318.534545 \r\n\" style=\"fill:none;stroke:#cccccc;stroke-linecap:round;stroke-width:0.8;\"/>\r\n     </g>\r\n     <g id=\"text_4\">\r\n      <!-- oversight -->\r\n      <defs>\r\n       <path d=\"M 3.328125 25.921875 \r\nQ 3.328125 40.328125 11.328125 47.265625 \r\nQ 18.015625 53.03125 27.640625 53.03125 \r\nQ 38.328125 53.03125 45.109375 46.015625 \r\nQ 51.90625 39.015625 51.90625 26.65625 \r\nQ 51.90625 16.65625 48.90625 10.90625 \r\nQ 45.90625 5.171875 40.15625 2 \r\nQ 34.421875 -1.171875 27.640625 -1.171875 \r\nQ 16.75 -1.171875 10.03125 5.8125 \r\nQ 3.328125 12.796875 3.328125 25.921875 \r\nz\r\nM 12.359375 25.921875 \r\nQ 12.359375 15.96875 16.703125 11.015625 \r\nQ 21.046875 6.0625 27.640625 6.0625 \r\nQ 34.1875 6.0625 38.53125 11.03125 \r\nQ 42.875 16.015625 42.875 26.21875 \r\nQ 42.875 35.84375 38.5 40.796875 \r\nQ 34.125 45.75 27.640625 45.75 \r\nQ 21.046875 45.75 16.703125 40.8125 \r\nQ 12.359375 35.890625 12.359375 25.921875 \r\nz\r\n\" id=\"ArialMT-111\"/>\r\n       <path d=\"M 21 0 \r\nL 1.265625 51.859375 \r\nL 10.546875 51.859375 \r\nL 21.6875 20.796875 \r\nQ 23.484375 15.765625 25 10.359375 \r\nQ 26.171875 14.453125 28.265625 20.21875 \r\nL 39.796875 51.859375 \r\nL 48.828125 51.859375 \r\nL 29.203125 0 \r\nz\r\n\" id=\"ArialMT-118\"/>\r\n       <path d=\"M 42.09375 16.703125 \r\nL 51.171875 15.578125 \r\nQ 49.03125 7.625 43.21875 3.21875 \r\nQ 37.40625 -1.171875 28.375 -1.171875 \r\nQ 17 -1.171875 10.328125 5.828125 \r\nQ 3.65625 12.84375 3.65625 25.484375 \r\nQ 3.65625 38.578125 10.390625 45.796875 \r\nQ 17.140625 53.03125 27.875 53.03125 \r\nQ 38.28125 53.03125 44.875 45.953125 \r\nQ 51.46875 38.875 51.46875 26.03125 \r\nQ 51.46875 25.25 51.421875 23.6875 \r\nL 12.75 23.6875 \r\nQ 13.234375 15.140625 17.578125 10.59375 \r\nQ 21.921875 6.0625 28.421875 6.0625 \r\nQ 33.25 6.0625 36.671875 8.59375 \r\nQ 40.09375 11.140625 42.09375 16.703125 \r\nz\r\nM 13.234375 30.90625 \r\nL 42.1875 30.90625 \r\nQ 41.609375 37.453125 38.875 40.71875 \r\nQ 34.671875 45.796875 27.984375 45.796875 \r\nQ 21.921875 45.796875 17.796875 41.75 \r\nQ 13.671875 37.703125 13.234375 30.90625 \r\nz\r\n\" id=\"ArialMT-101\"/>\r\n       <path d=\"M 6.5 0 \r\nL 6.5 51.859375 \r\nL 14.40625 51.859375 \r\nL 14.40625 44 \r\nQ 17.4375 49.515625 20 51.265625 \r\nQ 22.5625 53.03125 25.640625 53.03125 \r\nQ 30.078125 53.03125 34.671875 50.203125 \r\nL 31.640625 42.046875 \r\nQ 28.421875 43.953125 25.203125 43.953125 \r\nQ 22.3125 43.953125 20.015625 42.21875 \r\nQ 17.71875 40.484375 16.75 37.40625 \r\nQ 15.28125 32.71875 15.28125 27.15625 \r\nL 15.28125 0 \r\nz\r\n\" id=\"ArialMT-114\"/>\r\n       <path d=\"M 3.078125 15.484375 \r\nL 11.765625 16.84375 \r\nQ 12.5 11.625 15.84375 8.84375 \r\nQ 19.1875 6.0625 25.203125 6.0625 \r\nQ 31.25 6.0625 34.171875 8.515625 \r\nQ 37.109375 10.984375 37.109375 14.3125 \r\nQ 37.109375 17.28125 34.515625 19 \r\nQ 32.71875 20.171875 25.53125 21.96875 \r\nQ 15.875 24.421875 12.140625 26.203125 \r\nQ 8.40625 27.984375 6.46875 31.125 \r\nQ 4.546875 34.28125 4.546875 38.09375 \r\nQ 4.546875 41.546875 6.125 44.5 \r\nQ 7.71875 47.46875 10.453125 49.421875 \r\nQ 12.5 50.921875 16.03125 51.96875 \r\nQ 19.578125 53.03125 23.640625 53.03125 \r\nQ 29.734375 53.03125 34.34375 51.265625 \r\nQ 38.96875 49.515625 41.15625 46.5 \r\nQ 43.359375 43.5 44.1875 38.484375 \r\nL 35.59375 37.3125 \r\nQ 35.015625 41.3125 32.203125 43.546875 \r\nQ 29.390625 45.796875 24.265625 45.796875 \r\nQ 18.21875 45.796875 15.625 43.796875 \r\nQ 13.03125 41.796875 13.03125 39.109375 \r\nQ 13.03125 37.40625 14.109375 36.03125 \r\nQ 15.1875 34.625 17.484375 33.6875 \r\nQ 18.796875 33.203125 25.25 31.453125 \r\nQ 34.578125 28.953125 38.25 27.359375 \r\nQ 41.9375 25.78125 44.03125 22.75 \r\nQ 46.140625 19.734375 46.140625 15.234375 \r\nQ 46.140625 10.84375 43.578125 6.953125 \r\nQ 41.015625 3.078125 36.171875 0.953125 \r\nQ 31.34375 -1.171875 25.25 -1.171875 \r\nQ 15.140625 -1.171875 9.84375 3.03125 \r\nQ 4.546875 7.234375 3.078125 15.484375 \r\nz\r\n\" id=\"ArialMT-115\"/>\r\n       <path d=\"M 6.640625 61.46875 \r\nL 6.640625 71.578125 \r\nL 15.4375 71.578125 \r\nL 15.4375 61.46875 \r\nz\r\nM 6.640625 0 \r\nL 6.640625 51.859375 \r\nL 15.4375 51.859375 \r\nL 15.4375 0 \r\nz\r\n\" id=\"ArialMT-105\"/>\r\n       <path d=\"M 4.984375 -4.296875 \r\nL 13.53125 -5.5625 \r\nQ 14.0625 -9.515625 16.5 -11.328125 \r\nQ 19.78125 -13.765625 25.4375 -13.765625 \r\nQ 31.546875 -13.765625 34.859375 -11.328125 \r\nQ 38.1875 -8.890625 39.359375 -4.5 \r\nQ 40.046875 -1.8125 39.984375 6.78125 \r\nQ 34.234375 0 25.640625 0 \r\nQ 14.9375 0 9.078125 7.71875 \r\nQ 3.21875 15.4375 3.21875 26.21875 \r\nQ 3.21875 33.640625 5.90625 39.90625 \r\nQ 8.59375 46.1875 13.6875 49.609375 \r\nQ 18.796875 53.03125 25.6875 53.03125 \r\nQ 34.859375 53.03125 40.828125 45.609375 \r\nL 40.828125 51.859375 \r\nL 48.921875 51.859375 \r\nL 48.921875 7.03125 \r\nQ 48.921875 -5.078125 46.453125 -10.125 \r\nQ 44 -15.1875 38.640625 -18.109375 \r\nQ 33.296875 -21.046875 25.484375 -21.046875 \r\nQ 16.21875 -21.046875 10.5 -16.875 \r\nQ 4.78125 -12.703125 4.984375 -4.296875 \r\nz\r\nM 12.25 26.859375 \r\nQ 12.25 16.65625 16.296875 11.96875 \r\nQ 20.359375 7.28125 26.46875 7.28125 \r\nQ 32.515625 7.28125 36.609375 11.9375 \r\nQ 40.71875 16.609375 40.71875 26.5625 \r\nQ 40.71875 36.078125 36.5 40.90625 \r\nQ 32.28125 45.75 26.3125 45.75 \r\nQ 20.453125 45.75 16.34375 40.984375 \r\nQ 12.25 36.234375 12.25 26.859375 \r\nz\r\n\" id=\"ArialMT-103\"/>\r\n       <path d=\"M 6.59375 0 \r\nL 6.59375 71.578125 \r\nL 15.375 71.578125 \r\nL 15.375 45.90625 \r\nQ 21.53125 53.03125 30.90625 53.03125 \r\nQ 36.671875 53.03125 40.921875 50.75 \r\nQ 45.171875 48.484375 47 44.484375 \r\nQ 48.828125 40.484375 48.828125 32.859375 \r\nL 48.828125 0 \r\nL 40.046875 0 \r\nL 40.046875 32.859375 \r\nQ 40.046875 39.453125 37.1875 42.453125 \r\nQ 34.328125 45.453125 29.109375 45.453125 \r\nQ 25.203125 45.453125 21.75 43.421875 \r\nQ 18.3125 41.40625 16.84375 37.9375 \r\nQ 15.375 34.46875 15.375 28.375 \r\nL 15.375 0 \r\nz\r\n\" id=\"ArialMT-104\"/>\r\n       <path d=\"M 25.78125 7.859375 \r\nL 27.046875 0.09375 \r\nQ 23.34375 -0.6875 20.40625 -0.6875 \r\nQ 15.625 -0.6875 12.984375 0.828125 \r\nQ 10.359375 2.34375 9.28125 4.8125 \r\nQ 8.203125 7.28125 8.203125 15.1875 \r\nL 8.203125 45.015625 \r\nL 1.765625 45.015625 \r\nL 1.765625 51.859375 \r\nL 8.203125 51.859375 \r\nL 8.203125 64.703125 \r\nL 16.9375 69.96875 \r\nL 16.9375 51.859375 \r\nL 25.78125 51.859375 \r\nL 25.78125 45.015625 \r\nL 16.9375 45.015625 \r\nL 16.9375 14.703125 \r\nQ 16.9375 10.9375 17.40625 9.859375 \r\nQ 17.875 8.796875 18.921875 8.15625 \r\nQ 19.96875 7.515625 21.921875 7.515625 \r\nQ 23.390625 7.515625 25.78125 7.859375 \r\nz\r\n\" id=\"ArialMT-116\"/>\r\n      </defs>\r\n      <g style=\"fill:#262626;\" transform=\"translate(35.542188 322.113452)scale(0.1 -0.1)\">\r\n       <use xlink:href=\"#ArialMT-111\"/>\r\n       <use x=\"55.615234\" xlink:href=\"#ArialMT-118\"/>\r\n       <use x=\"105.615234\" xlink:href=\"#ArialMT-101\"/>\r\n       <use x=\"161.230469\" xlink:href=\"#ArialMT-114\"/>\r\n       <use x=\"194.53125\" xlink:href=\"#ArialMT-115\"/>\r\n       <use x=\"244.53125\" xlink:href=\"#ArialMT-105\"/>\r\n       <use x=\"266.748047\" xlink:href=\"#ArialMT-103\"/>\r\n       <use x=\"322.363281\" xlink:href=\"#ArialMT-104\"/>\r\n       <use x=\"377.978516\" xlink:href=\"#ArialMT-116\"/>\r\n      </g>\r\n     </g>\r\n    </g>\r\n    <g id=\"ytick_2\">\r\n     <g id=\"line2d_5\">\r\n      <path clip-path=\"url(#p0eb28ef5a1)\" d=\"M 83.115625 288.883636 \r\nL 250.515625 288.883636 \r\n\" style=\"fill:none;stroke:#cccccc;stroke-linecap:round;stroke-width:0.8;\"/>\r\n     </g>\r\n     <g id=\"text_5\">\r\n      <!-- interface-admin -->\r\n      <defs>\r\n       <path d=\"M 6.59375 0 \r\nL 6.59375 51.859375 \r\nL 14.5 51.859375 \r\nL 14.5 44.484375 \r\nQ 20.21875 53.03125 31 53.03125 \r\nQ 35.6875 53.03125 39.625 51.34375 \r\nQ 43.5625 49.65625 45.515625 46.921875 \r\nQ 47.46875 44.1875 48.25 40.4375 \r\nQ 48.734375 37.984375 48.734375 31.890625 \r\nL 48.734375 0 \r\nL 39.9375 0 \r\nL 39.9375 31.546875 \r\nQ 39.9375 36.921875 38.90625 39.578125 \r\nQ 37.890625 42.234375 35.28125 43.8125 \r\nQ 32.671875 45.40625 29.15625 45.40625 \r\nQ 23.53125 45.40625 19.453125 41.84375 \r\nQ 15.375 38.28125 15.375 28.328125 \r\nL 15.375 0 \r\nz\r\n\" id=\"ArialMT-110\"/>\r\n       <path d=\"M 8.6875 0 \r\nL 8.6875 45.015625 \r\nL 0.921875 45.015625 \r\nL 0.921875 51.859375 \r\nL 8.6875 51.859375 \r\nL 8.6875 57.375 \r\nQ 8.6875 62.59375 9.625 65.140625 \r\nQ 10.890625 68.5625 14.078125 70.671875 \r\nQ 17.28125 72.796875 23.046875 72.796875 \r\nQ 26.765625 72.796875 31.25 71.921875 \r\nL 29.9375 64.265625 \r\nQ 27.203125 64.75 24.75 64.75 \r\nQ 20.75 64.75 19.09375 63.03125 \r\nQ 17.4375 61.328125 17.4375 56.640625 \r\nL 17.4375 51.859375 \r\nL 27.546875 51.859375 \r\nL 27.546875 45.015625 \r\nL 17.4375 45.015625 \r\nL 17.4375 0 \r\nz\r\n\" id=\"ArialMT-102\"/>\r\n       <path d=\"M 40.4375 6.390625 \r\nQ 35.546875 2.25 31.03125 0.53125 \r\nQ 26.515625 -1.171875 21.34375 -1.171875 \r\nQ 12.796875 -1.171875 8.203125 3 \r\nQ 3.609375 7.171875 3.609375 13.671875 \r\nQ 3.609375 17.484375 5.34375 20.625 \r\nQ 7.078125 23.78125 9.890625 25.6875 \r\nQ 12.703125 27.59375 16.21875 28.5625 \r\nQ 18.796875 29.25 24.03125 29.890625 \r\nQ 34.671875 31.15625 39.703125 32.90625 \r\nQ 39.75 34.71875 39.75 35.203125 \r\nQ 39.75 40.578125 37.25 42.78125 \r\nQ 33.890625 45.75 27.25 45.75 \r\nQ 21.046875 45.75 18.09375 43.578125 \r\nQ 15.140625 41.40625 13.71875 35.890625 \r\nL 5.125 37.0625 \r\nQ 6.296875 42.578125 8.984375 45.96875 \r\nQ 11.671875 49.359375 16.75 51.1875 \r\nQ 21.828125 53.03125 28.515625 53.03125 \r\nQ 35.15625 53.03125 39.296875 51.46875 \r\nQ 43.453125 49.90625 45.40625 47.53125 \r\nQ 47.359375 45.171875 48.140625 41.546875 \r\nQ 48.578125 39.3125 48.578125 33.453125 \r\nL 48.578125 21.734375 \r\nQ 48.578125 9.46875 49.140625 6.21875 \r\nQ 49.703125 2.984375 51.375 0 \r\nL 42.1875 0 \r\nQ 40.828125 2.734375 40.4375 6.390625 \r\nz\r\nM 39.703125 26.03125 \r\nQ 34.90625 24.078125 25.34375 22.703125 \r\nQ 19.921875 21.921875 17.671875 20.9375 \r\nQ 15.4375 19.96875 14.203125 18.09375 \r\nQ 12.984375 16.21875 12.984375 13.921875 \r\nQ 12.984375 10.40625 15.640625 8.0625 \r\nQ 18.3125 5.71875 23.4375 5.71875 \r\nQ 28.515625 5.71875 32.46875 7.9375 \r\nQ 36.421875 10.15625 38.28125 14.015625 \r\nQ 39.703125 17 39.703125 22.796875 \r\nz\r\n\" id=\"ArialMT-97\"/>\r\n       <path d=\"M 40.4375 19 \r\nL 49.078125 17.875 \r\nQ 47.65625 8.9375 41.8125 3.875 \r\nQ 35.984375 -1.171875 27.484375 -1.171875 \r\nQ 16.84375 -1.171875 10.375 5.78125 \r\nQ 3.90625 12.75 3.90625 25.734375 \r\nQ 3.90625 34.125 6.6875 40.421875 \r\nQ 9.46875 46.734375 15.15625 49.875 \r\nQ 20.84375 53.03125 27.546875 53.03125 \r\nQ 35.984375 53.03125 41.359375 48.75 \r\nQ 46.734375 44.484375 48.25 36.625 \r\nL 39.703125 35.296875 \r\nQ 38.484375 40.53125 35.375 43.15625 \r\nQ 32.28125 45.796875 27.875 45.796875 \r\nQ 21.234375 45.796875 17.078125 41.03125 \r\nQ 12.9375 36.28125 12.9375 25.984375 \r\nQ 12.9375 15.53125 16.9375 10.796875 \r\nQ 20.953125 6.0625 27.390625 6.0625 \r\nQ 32.5625 6.0625 36.03125 9.234375 \r\nQ 39.5 12.40625 40.4375 19 \r\nz\r\n\" id=\"ArialMT-99\"/>\r\n       <path d=\"M 3.171875 21.484375 \r\nL 3.171875 30.328125 \r\nL 30.171875 30.328125 \r\nL 30.171875 21.484375 \r\nz\r\n\" id=\"ArialMT-45\"/>\r\n       <path d=\"M 40.234375 0 \r\nL 40.234375 6.546875 \r\nQ 35.296875 -1.171875 25.734375 -1.171875 \r\nQ 19.53125 -1.171875 14.328125 2.25 \r\nQ 9.125 5.671875 6.265625 11.796875 \r\nQ 3.421875 17.921875 3.421875 25.875 \r\nQ 3.421875 33.640625 6 39.96875 \r\nQ 8.59375 46.296875 13.765625 49.65625 \r\nQ 18.953125 53.03125 25.34375 53.03125 \r\nQ 30.03125 53.03125 33.6875 51.046875 \r\nQ 37.359375 49.078125 39.65625 45.90625 \r\nL 39.65625 71.578125 \r\nL 48.390625 71.578125 \r\nL 48.390625 0 \r\nz\r\nM 12.453125 25.875 \r\nQ 12.453125 15.921875 16.640625 10.984375 \r\nQ 20.84375 6.0625 26.5625 6.0625 \r\nQ 32.328125 6.0625 36.34375 10.765625 \r\nQ 40.375 15.484375 40.375 25.140625 \r\nQ 40.375 35.796875 36.265625 40.765625 \r\nQ 32.171875 45.75 26.171875 45.75 \r\nQ 20.3125 45.75 16.375 40.96875 \r\nQ 12.453125 36.1875 12.453125 25.875 \r\nz\r\n\" id=\"ArialMT-100\"/>\r\n       <path d=\"M 6.59375 0 \r\nL 6.59375 51.859375 \r\nL 14.453125 51.859375 \r\nL 14.453125 44.578125 \r\nQ 16.890625 48.390625 20.9375 50.703125 \r\nQ 25 53.03125 30.171875 53.03125 \r\nQ 35.9375 53.03125 39.625 50.640625 \r\nQ 43.3125 48.25 44.828125 43.953125 \r\nQ 50.984375 53.03125 60.84375 53.03125 \r\nQ 68.5625 53.03125 72.703125 48.75 \r\nQ 76.859375 44.484375 76.859375 35.59375 \r\nL 76.859375 0 \r\nL 68.109375 0 \r\nL 68.109375 32.671875 \r\nQ 68.109375 37.9375 67.25 40.25 \r\nQ 66.40625 42.578125 64.15625 43.984375 \r\nQ 61.921875 45.40625 58.890625 45.40625 \r\nQ 53.421875 45.40625 49.796875 41.765625 \r\nQ 46.1875 38.140625 46.1875 30.125 \r\nL 46.1875 0 \r\nL 37.40625 0 \r\nL 37.40625 33.6875 \r\nQ 37.40625 39.546875 35.25 42.46875 \r\nQ 33.109375 45.40625 28.21875 45.40625 \r\nQ 24.515625 45.40625 21.359375 43.453125 \r\nQ 18.21875 41.5 16.796875 37.734375 \r\nQ 15.375 33.984375 15.375 26.90625 \r\nL 15.375 0 \r\nz\r\n\" id=\"ArialMT-109\"/>\r\n      </defs>\r\n      <g style=\"fill:#262626;\" transform=\"translate(7.2 292.462543)scale(0.1 -0.1)\">\r\n       <use xlink:href=\"#ArialMT-105\"/>\r\n       <use x=\"22.216797\" xlink:href=\"#ArialMT-110\"/>\r\n       <use x=\"77.832031\" xlink:href=\"#ArialMT-116\"/>\r\n       <use x=\"105.615234\" xlink:href=\"#ArialMT-101\"/>\r\n       <use x=\"161.230469\" xlink:href=\"#ArialMT-114\"/>\r\n       <use x=\"194.53125\" xlink:href=\"#ArialMT-102\"/>\r\n       <use x=\"222.314453\" xlink:href=\"#ArialMT-97\"/>\r\n       <use x=\"277.929688\" xlink:href=\"#ArialMT-99\"/>\r\n       <use x=\"327.929688\" xlink:href=\"#ArialMT-101\"/>\r\n       <use x=\"383.544922\" xlink:href=\"#ArialMT-45\"/>\r\n       <use x=\"416.845703\" xlink:href=\"#ArialMT-97\"/>\r\n       <use x=\"472.460938\" xlink:href=\"#ArialMT-100\"/>\r\n       <use x=\"528.076172\" xlink:href=\"#ArialMT-109\"/>\r\n       <use x=\"611.376953\" xlink:href=\"#ArialMT-105\"/>\r\n       <use x=\"633.59375\" xlink:href=\"#ArialMT-110\"/>\r\n      </g>\r\n     </g>\r\n    </g>\r\n    <g id=\"ytick_3\">\r\n     <g id=\"line2d_6\">\r\n      <path clip-path=\"url(#p0eb28ef5a1)\" d=\"M 83.115625 259.232727 \r\nL 250.515625 259.232727 \r\n\" style=\"fill:none;stroke:#cccccc;stroke-linecap:round;stroke-width:0.8;\"/>\r\n     </g>\r\n     <g id=\"text_6\">\r\n      <!-- checkuser -->\r\n      <defs>\r\n       <path d=\"M 6.640625 0 \r\nL 6.640625 71.578125 \r\nL 15.4375 71.578125 \r\nL 15.4375 30.765625 \r\nL 36.234375 51.859375 \r\nL 47.609375 51.859375 \r\nL 27.78125 32.625 \r\nL 49.609375 0 \r\nL 38.765625 0 \r\nL 21.625 26.515625 \r\nL 15.4375 20.5625 \r\nL 15.4375 0 \r\nz\r\n\" id=\"ArialMT-107\"/>\r\n       <path d=\"M 40.578125 0 \r\nL 40.578125 7.625 \r\nQ 34.515625 -1.171875 24.125 -1.171875 \r\nQ 19.53125 -1.171875 15.546875 0.578125 \r\nQ 11.578125 2.34375 9.640625 5 \r\nQ 7.71875 7.671875 6.9375 11.53125 \r\nQ 6.390625 14.109375 6.390625 19.734375 \r\nL 6.390625 51.859375 \r\nL 15.1875 51.859375 \r\nL 15.1875 23.09375 \r\nQ 15.1875 16.21875 15.71875 13.8125 \r\nQ 16.546875 10.359375 19.234375 8.375 \r\nQ 21.921875 6.390625 25.875 6.390625 \r\nQ 29.828125 6.390625 33.296875 8.421875 \r\nQ 36.765625 10.453125 38.203125 13.9375 \r\nQ 39.65625 17.4375 39.65625 24.078125 \r\nL 39.65625 51.859375 \r\nL 48.4375 51.859375 \r\nL 48.4375 0 \r\nz\r\n\" id=\"ArialMT-117\"/>\r\n      </defs>\r\n      <g style=\"fill:#262626;\" transform=\"translate(30.542188 262.811634)scale(0.1 -0.1)\">\r\n       <use xlink:href=\"#ArialMT-99\"/>\r\n       <use x=\"50\" xlink:href=\"#ArialMT-104\"/>\r\n       <use x=\"105.615234\" xlink:href=\"#ArialMT-101\"/>\r\n       <use x=\"161.230469\" xlink:href=\"#ArialMT-99\"/>\r\n       <use x=\"211.230469\" xlink:href=\"#ArialMT-107\"/>\r\n       <use x=\"261.230469\" xlink:href=\"#ArialMT-117\"/>\r\n       <use x=\"316.845703\" xlink:href=\"#ArialMT-115\"/>\r\n       <use x=\"366.845703\" xlink:href=\"#ArialMT-101\"/>\r\n       <use x=\"422.460938\" xlink:href=\"#ArialMT-114\"/>\r\n      </g>\r\n     </g>\r\n    </g>\r\n    <g id=\"ytick_4\">\r\n     <g id=\"line2d_7\">\r\n      <path clip-path=\"url(#p0eb28ef5a1)\" d=\"M 83.115625 229.581818 \r\nL 250.515625 229.581818 \r\n\" style=\"fill:none;stroke:#cccccc;stroke-linecap:round;stroke-width:0.8;\"/>\r\n     </g>\r\n     <g id=\"text_7\">\r\n      <!-- ipblock-exempt -->\r\n      <defs>\r\n       <path d=\"M 6.59375 -19.875 \r\nL 6.59375 51.859375 \r\nL 14.59375 51.859375 \r\nL 14.59375 45.125 \r\nQ 17.4375 49.078125 21 51.046875 \r\nQ 24.5625 53.03125 29.640625 53.03125 \r\nQ 36.28125 53.03125 41.359375 49.609375 \r\nQ 46.4375 46.1875 49.015625 39.953125 \r\nQ 51.609375 33.734375 51.609375 26.3125 \r\nQ 51.609375 18.359375 48.75 11.984375 \r\nQ 45.90625 5.609375 40.453125 2.21875 \r\nQ 35.015625 -1.171875 29 -1.171875 \r\nQ 24.609375 -1.171875 21.109375 0.6875 \r\nQ 17.625 2.546875 15.375 5.375 \r\nL 15.375 -19.875 \r\nz\r\nM 14.546875 25.640625 \r\nQ 14.546875 15.625 18.59375 10.84375 \r\nQ 22.65625 6.0625 28.421875 6.0625 \r\nQ 34.28125 6.0625 38.453125 11.015625 \r\nQ 42.625 15.96875 42.625 26.375 \r\nQ 42.625 36.28125 38.546875 41.203125 \r\nQ 34.46875 46.140625 28.8125 46.140625 \r\nQ 23.1875 46.140625 18.859375 40.890625 \r\nQ 14.546875 35.640625 14.546875 25.640625 \r\nz\r\n\" id=\"ArialMT-112\"/>\r\n       <path d=\"M 14.703125 0 \r\nL 6.546875 0 \r\nL 6.546875 71.578125 \r\nL 15.328125 71.578125 \r\nL 15.328125 46.046875 \r\nQ 20.90625 53.03125 29.546875 53.03125 \r\nQ 34.328125 53.03125 38.59375 51.09375 \r\nQ 42.875 49.171875 45.625 45.671875 \r\nQ 48.390625 42.1875 49.953125 37.25 \r\nQ 51.515625 32.328125 51.515625 26.703125 \r\nQ 51.515625 13.375 44.921875 6.09375 \r\nQ 38.328125 -1.171875 29.109375 -1.171875 \r\nQ 19.921875 -1.171875 14.703125 6.5 \r\nz\r\nM 14.59375 26.3125 \r\nQ 14.59375 17 17.140625 12.84375 \r\nQ 21.296875 6.0625 28.375 6.0625 \r\nQ 34.125 6.0625 38.328125 11.0625 \r\nQ 42.53125 16.0625 42.53125 25.984375 \r\nQ 42.53125 36.140625 38.5 40.96875 \r\nQ 34.46875 45.796875 28.765625 45.796875 \r\nQ 23 45.796875 18.796875 40.796875 \r\nQ 14.59375 35.796875 14.59375 26.3125 \r\nz\r\n\" id=\"ArialMT-98\"/>\r\n       <path d=\"M 6.390625 0 \r\nL 6.390625 71.578125 \r\nL 15.1875 71.578125 \r\nL 15.1875 0 \r\nz\r\n\" id=\"ArialMT-108\"/>\r\n       <path d=\"M 0.734375 0 \r\nL 19.671875 26.953125 \r\nL 2.15625 51.859375 \r\nL 13.140625 51.859375 \r\nL 21.09375 39.703125 \r\nQ 23.34375 36.234375 24.703125 33.890625 \r\nQ 26.859375 37.109375 28.65625 39.59375 \r\nL 37.40625 51.859375 \r\nL 47.90625 51.859375 \r\nL 29.984375 27.4375 \r\nL 49.265625 0 \r\nL 38.484375 0 \r\nL 27.828125 16.109375 \r\nL 25 20.453125 \r\nL 11.375 0 \r\nz\r\n\" id=\"ArialMT-120\"/>\r\n      </defs>\r\n      <g style=\"fill:#262626;\" transform=\"translate(8.86875 233.160724)scale(0.1 -0.1)\">\r\n       <use xlink:href=\"#ArialMT-105\"/>\r\n       <use x=\"22.216797\" xlink:href=\"#ArialMT-112\"/>\r\n       <use x=\"77.832031\" xlink:href=\"#ArialMT-98\"/>\r\n       <use x=\"133.447266\" xlink:href=\"#ArialMT-108\"/>\r\n       <use x=\"155.664062\" xlink:href=\"#ArialMT-111\"/>\r\n       <use x=\"211.279297\" xlink:href=\"#ArialMT-99\"/>\r\n       <use x=\"261.279297\" xlink:href=\"#ArialMT-107\"/>\r\n       <use x=\"311.279297\" xlink:href=\"#ArialMT-45\"/>\r\n       <use x=\"344.580078\" xlink:href=\"#ArialMT-101\"/>\r\n       <use x=\"400.195312\" xlink:href=\"#ArialMT-120\"/>\r\n       <use x=\"450.195312\" xlink:href=\"#ArialMT-101\"/>\r\n       <use x=\"505.810547\" xlink:href=\"#ArialMT-109\"/>\r\n       <use x=\"589.111328\" xlink:href=\"#ArialMT-112\"/>\r\n       <use x=\"644.726562\" xlink:href=\"#ArialMT-116\"/>\r\n      </g>\r\n     </g>\r\n    </g>\r\n    <g id=\"ytick_5\">\r\n     <g id=\"line2d_8\">\r\n      <path clip-path=\"url(#p0eb28ef5a1)\" d=\"M 83.115625 199.930909 \r\nL 250.515625 199.930909 \r\n\" style=\"fill:none;stroke:#cccccc;stroke-linecap:round;stroke-width:0.8;\"/>\r\n     </g>\r\n     <g id=\"text_8\">\r\n      <!-- bureaucrat -->\r\n      <g style=\"fill:#262626;\" transform=\"translate(28.3125 203.509815)scale(0.1 -0.1)\">\r\n       <use xlink:href=\"#ArialMT-98\"/>\r\n       <use x=\"55.615234\" xlink:href=\"#ArialMT-117\"/>\r\n       <use x=\"111.230469\" xlink:href=\"#ArialMT-114\"/>\r\n       <use x=\"144.53125\" xlink:href=\"#ArialMT-101\"/>\r\n       <use x=\"200.146484\" xlink:href=\"#ArialMT-97\"/>\r\n       <use x=\"255.761719\" xlink:href=\"#ArialMT-117\"/>\r\n       <use x=\"311.376953\" xlink:href=\"#ArialMT-99\"/>\r\n       <use x=\"361.376953\" xlink:href=\"#ArialMT-114\"/>\r\n       <use x=\"394.677734\" xlink:href=\"#ArialMT-97\"/>\r\n       <use x=\"450.292969\" xlink:href=\"#ArialMT-116\"/>\r\n      </g>\r\n     </g>\r\n    </g>\r\n    <g id=\"ytick_6\">\r\n     <g id=\"line2d_9\">\r\n      <path clip-path=\"url(#p0eb28ef5a1)\" d=\"M 83.115625 170.28 \r\nL 250.515625 170.28 \r\n\" style=\"fill:none;stroke:#cccccc;stroke-linecap:round;stroke-width:0.8;\"/>\r\n     </g>\r\n     <g id=\"text_9\">\r\n      <!-- sysop -->\r\n      <defs>\r\n       <path d=\"M 6.203125 -19.96875 \r\nL 5.21875 -11.71875 \r\nQ 8.109375 -12.5 10.25 -12.5 \r\nQ 13.1875 -12.5 14.9375 -11.515625 \r\nQ 16.703125 -10.546875 17.828125 -8.796875 \r\nQ 18.65625 -7.46875 20.515625 -2.25 \r\nQ 20.75 -1.515625 21.296875 -0.09375 \r\nL 1.609375 51.859375 \r\nL 11.078125 51.859375 \r\nL 21.875 21.828125 \r\nQ 23.96875 16.109375 25.640625 9.8125 \r\nQ 27.15625 15.875 29.25 21.625 \r\nL 40.328125 51.859375 \r\nL 49.125 51.859375 \r\nL 29.390625 -0.875 \r\nQ 26.21875 -9.421875 24.46875 -12.640625 \r\nQ 22.125 -17 19.09375 -19.015625 \r\nQ 16.0625 -21.046875 11.859375 -21.046875 \r\nQ 9.328125 -21.046875 6.203125 -19.96875 \r\nz\r\n\" id=\"ArialMT-121\"/>\r\n      </defs>\r\n      <g style=\"fill:#262626;\" transform=\"translate(49.99375 173.800312)scale(0.1 -0.1)\">\r\n       <use xlink:href=\"#ArialMT-115\"/>\r\n       <use x=\"50\" xlink:href=\"#ArialMT-121\"/>\r\n       <use x=\"100\" xlink:href=\"#ArialMT-115\"/>\r\n       <use x=\"150\" xlink:href=\"#ArialMT-111\"/>\r\n       <use x=\"205.615234\" xlink:href=\"#ArialMT-112\"/>\r\n      </g>\r\n     </g>\r\n    </g>\r\n    <g id=\"ytick_7\">\r\n     <g id=\"line2d_10\">\r\n      <path clip-path=\"url(#p0eb28ef5a1)\" d=\"M 83.115625 140.629091 \r\nL 250.515625 140.629091 \r\n\" style=\"fill:none;stroke:#cccccc;stroke-linecap:round;stroke-width:0.8;\"/>\r\n     </g>\r\n     <g id=\"text_10\">\r\n      <!-- patroller -->\r\n      <g style=\"fill:#262626;\" transform=\"translate(39.990625 144.207997)scale(0.1 -0.1)\">\r\n       <use xlink:href=\"#ArialMT-112\"/>\r\n       <use x=\"55.615234\" xlink:href=\"#ArialMT-97\"/>\r\n       <use x=\"111.230469\" xlink:href=\"#ArialMT-116\"/>\r\n       <use x=\"139.013672\" xlink:href=\"#ArialMT-114\"/>\r\n       <use x=\"172.314453\" xlink:href=\"#ArialMT-111\"/>\r\n       <use x=\"227.929688\" xlink:href=\"#ArialMT-108\"/>\r\n       <use x=\"250.146484\" xlink:href=\"#ArialMT-108\"/>\r\n       <use x=\"272.363281\" xlink:href=\"#ArialMT-101\"/>\r\n       <use x=\"327.978516\" xlink:href=\"#ArialMT-114\"/>\r\n      </g>\r\n     </g>\r\n    </g>\r\n    <g id=\"ytick_8\">\r\n     <g id=\"line2d_11\">\r\n      <path clip-path=\"url(#p0eb28ef5a1)\" d=\"M 83.115625 110.978182 \r\nL 250.515625 110.978182 \r\n\" style=\"fill:none;stroke:#cccccc;stroke-linecap:round;stroke-width:0.8;\"/>\r\n     </g>\r\n     <g id=\"text_11\">\r\n      <!-- autopatrolled -->\r\n      <g style=\"fill:#262626;\" transform=\"translate(18.298438 114.557088)scale(0.1 -0.1)\">\r\n       <use xlink:href=\"#ArialMT-97\"/>\r\n       <use x=\"55.615234\" xlink:href=\"#ArialMT-117\"/>\r\n       <use x=\"111.230469\" xlink:href=\"#ArialMT-116\"/>\r\n       <use x=\"139.013672\" xlink:href=\"#ArialMT-111\"/>\r\n       <use x=\"194.628906\" xlink:href=\"#ArialMT-112\"/>\r\n       <use x=\"250.244141\" xlink:href=\"#ArialMT-97\"/>\r\n       <use x=\"305.859375\" xlink:href=\"#ArialMT-116\"/>\r\n       <use x=\"333.642578\" xlink:href=\"#ArialMT-114\"/>\r\n       <use x=\"366.943359\" xlink:href=\"#ArialMT-111\"/>\r\n       <use x=\"422.558594\" xlink:href=\"#ArialMT-108\"/>\r\n       <use x=\"444.775391\" xlink:href=\"#ArialMT-108\"/>\r\n       <use x=\"466.992188\" xlink:href=\"#ArialMT-101\"/>\r\n       <use x=\"522.607422\" xlink:href=\"#ArialMT-100\"/>\r\n      </g>\r\n     </g>\r\n    </g>\r\n    <g id=\"ytick_9\">\r\n     <g id=\"line2d_12\">\r\n      <path clip-path=\"url(#p0eb28ef5a1)\" d=\"M 83.115625 81.327273 \r\nL 250.515625 81.327273 \r\n\" style=\"fill:none;stroke:#cccccc;stroke-linecap:round;stroke-width:0.8;\"/>\r\n     </g>\r\n     <g id=\"text_12\">\r\n      <!-- rollbacker -->\r\n      <g style=\"fill:#262626;\" transform=\"translate(32.76875 84.906179)scale(0.1 -0.1)\">\r\n       <use xlink:href=\"#ArialMT-114\"/>\r\n       <use x=\"33.300781\" xlink:href=\"#ArialMT-111\"/>\r\n       <use x=\"88.916016\" xlink:href=\"#ArialMT-108\"/>\r\n       <use x=\"111.132812\" xlink:href=\"#ArialMT-108\"/>\r\n       <use x=\"133.349609\" xlink:href=\"#ArialMT-98\"/>\r\n       <use x=\"188.964844\" xlink:href=\"#ArialMT-97\"/>\r\n       <use x=\"244.580078\" xlink:href=\"#ArialMT-99\"/>\r\n       <use x=\"294.580078\" xlink:href=\"#ArialMT-107\"/>\r\n       <use x=\"344.580078\" xlink:href=\"#ArialMT-101\"/>\r\n       <use x=\"400.195312\" xlink:href=\"#ArialMT-114\"/>\r\n      </g>\r\n     </g>\r\n    </g>\r\n    <g id=\"ytick_10\">\r\n     <g id=\"line2d_13\">\r\n      <path clip-path=\"url(#p0eb28ef5a1)\" d=\"M 83.115625 51.676364 \r\nL 250.515625 51.676364 \r\n\" style=\"fill:none;stroke:#cccccc;stroke-linecap:round;stroke-width:0.8;\"/>\r\n     </g>\r\n     <g id=\"text_13\">\r\n      <!-- autoconfirmed -->\r\n      <g style=\"fill:#262626;\" transform=\"translate(12.751563 55.25527)scale(0.1 -0.1)\">\r\n       <use xlink:href=\"#ArialMT-97\"/>\r\n       <use x=\"55.615234\" xlink:href=\"#ArialMT-117\"/>\r\n       <use x=\"111.230469\" xlink:href=\"#ArialMT-116\"/>\r\n       <use x=\"139.013672\" xlink:href=\"#ArialMT-111\"/>\r\n       <use x=\"194.628906\" xlink:href=\"#ArialMT-99\"/>\r\n       <use x=\"244.628906\" xlink:href=\"#ArialMT-111\"/>\r\n       <use x=\"300.244141\" xlink:href=\"#ArialMT-110\"/>\r\n       <use x=\"355.859375\" xlink:href=\"#ArialMT-102\"/>\r\n       <use x=\"383.642578\" xlink:href=\"#ArialMT-105\"/>\r\n       <use x=\"405.859375\" xlink:href=\"#ArialMT-114\"/>\r\n       <use x=\"439.160156\" xlink:href=\"#ArialMT-109\"/>\r\n       <use x=\"522.460938\" xlink:href=\"#ArialMT-101\"/>\r\n       <use x=\"578.076172\" xlink:href=\"#ArialMT-100\"/>\r\n      </g>\r\n     </g>\r\n    </g>\r\n    <g id=\"ytick_11\">\r\n     <g id=\"line2d_14\">\r\n      <path clip-path=\"url(#p0eb28ef5a1)\" d=\"M 83.115625 22.025455 \r\nL 250.515625 22.025455 \r\n\" style=\"fill:none;stroke:#cccccc;stroke-linecap:round;stroke-width:0.8;\"/>\r\n     </g>\r\n     <g id=\"text_14\">\r\n      <!-- user -->\r\n      <g style=\"fill:#262626;\" transform=\"translate(56.664063 25.604361)scale(0.1 -0.1)\">\r\n       <use xlink:href=\"#ArialMT-117\"/>\r\n       <use x=\"55.615234\" xlink:href=\"#ArialMT-115\"/>\r\n       <use x=\"105.615234\" xlink:href=\"#ArialMT-101\"/>\r\n       <use x=\"161.230469\" xlink:href=\"#ArialMT-114\"/>\r\n      </g>\r\n     </g>\r\n    </g>\r\n   </g>\r\n   <g id=\"patch_3\">\r\n    <path clip-path=\"url(#p0eb28ef5a1)\" d=\"M -61245.087735 325.947273 \r\nL 90.724716 325.947273 \r\nL 90.724716 311.121818 \r\nL -61245.087735 311.121818 \r\nz\r\n\" style=\"fill:#1f77b4;stroke:#ffffff;stroke-linejoin:miter;\"/>\r\n   </g>\r\n   <g id=\"patch_4\">\r\n    <path clip-path=\"url(#p0eb28ef5a1)\" d=\"M -61245.087735 296.296364 \r\nL 90.724716 296.296364 \r\nL 90.724716 281.470909 \r\nL -61245.087735 281.470909 \r\nz\r\n\" style=\"fill:#1f77b4;stroke:#ffffff;stroke-linejoin:miter;\"/>\r\n   </g>\r\n   <g id=\"patch_5\">\r\n    <path clip-path=\"url(#p0eb28ef5a1)\" d=\"M -61245.087735 266.645455 \r\nL 98.415386 266.645455 \r\nL 98.415386 251.82 \r\nL -61245.087735 251.82 \r\nz\r\n\" style=\"fill:#1f77b4;stroke:#ffffff;stroke-linejoin:miter;\"/>\r\n   </g>\r\n   <g id=\"patch_6\">\r\n    <path clip-path=\"url(#p0eb28ef5a1)\" d=\"M -61245.087735 236.994545 \r\nL 125.458744 236.994545 \r\nL 125.458744 222.169091 \r\nL -61245.087735 222.169091 \r\nz\r\n\" style=\"fill:#1f77b4;stroke:#ffffff;stroke-linejoin:miter;\"/>\r\n   </g>\r\n   <g id=\"patch_7\">\r\n    <path clip-path=\"url(#p0eb28ef5a1)\" d=\"M -61245.087735 207.343636 \r\nL 171.252191 207.343636 \r\nL 171.252191 192.518182 \r\nL -61245.087735 192.518182 \r\nz\r\n\" style=\"fill:#1f77b4;stroke:#ffffff;stroke-linejoin:miter;\"/>\r\n   </g>\r\n   <g id=\"patch_8\">\r\n    <path clip-path=\"url(#p0eb28ef5a1)\" d=\"M -61245.087735 177.692727 \r\nL 171.252191 177.692727 \r\nL 171.252191 162.867273 \r\nL -61245.087735 162.867273 \r\nz\r\n\" style=\"fill:#1f77b4;stroke:#ffffff;stroke-linejoin:miter;\"/>\r\n   </g>\r\n   <g id=\"patch_9\">\r\n    <path clip-path=\"url(#p0eb28ef5a1)\" d=\"M -61245.087735 148.041818 \r\nL 191.88832 148.041818 \r\nL 191.88832 133.216364 \r\nL -61245.087735 133.216364 \r\nz\r\n\" style=\"fill:#1f77b4;stroke:#ffffff;stroke-linejoin:miter;\"/>\r\n   </g>\r\n   <g id=\"patch_10\">\r\n    <path clip-path=\"url(#p0eb28ef5a1)\" d=\"M -61245.087735 118.390909 \r\nL 194.583155 118.390909 \r\nL 194.583155 103.565455 \r\nL -61245.087735 103.565455 \r\nz\r\n\" style=\"fill:#1f77b4;stroke:#ffffff;stroke-linejoin:miter;\"/>\r\n   </g>\r\n   <g id=\"patch_11\">\r\n    <path clip-path=\"url(#p0eb28ef5a1)\" d=\"M -61245.087735 88.74 \r\nL 204.679908 88.74 \r\nL 204.679908 73.914545 \r\nL -61245.087735 73.914545 \r\nz\r\n\" style=\"fill:#1f77b4;stroke:#ffffff;stroke-linejoin:miter;\"/>\r\n   </g>\r\n   <g id=\"patch_12\">\r\n    <path clip-path=\"url(#p0eb28ef5a1)\" d=\"M -61245.087735 59.089091 \r\nL 242.298935 59.089091 \r\nL 242.298935 44.263636 \r\nL -61245.087735 44.263636 \r\nz\r\n\" style=\"fill:#1f77b4;stroke:#ffffff;stroke-linejoin:miter;\"/>\r\n   </g>\r\n   <g id=\"patch_13\">\r\n    <path clip-path=\"url(#p0eb28ef5a1)\" d=\"M -61245.087735 29.438182 \r\nL 242.906534 29.438182 \r\nL 242.906534 14.612727 \r\nL -61245.087735 14.612727 \r\nz\r\n\" style=\"fill:#1f77b4;stroke:#ffffff;stroke-linejoin:miter;\"/>\r\n   </g>\r\n   <g id=\"patch_14\">\r\n    <path d=\"M 83.115625 333.36 \r\nL 83.115625 7.2 \r\n\" style=\"fill:none;stroke:#cccccc;stroke-linecap:square;stroke-linejoin:miter;stroke-width:0.8;\"/>\r\n   </g>\r\n   <g id=\"patch_15\">\r\n    <path d=\"M 250.515625 333.36 \r\nL 250.515625 7.2 \r\n\" style=\"fill:none;stroke:#cccccc;stroke-linecap:square;stroke-linejoin:miter;stroke-width:0.8;\"/>\r\n   </g>\r\n   <g id=\"patch_16\">\r\n    <path d=\"M 83.115625 333.36 \r\nL 250.515625 333.36 \r\n\" style=\"fill:none;stroke:#cccccc;stroke-linecap:square;stroke-linejoin:miter;stroke-width:0.8;\"/>\r\n   </g>\r\n   <g id=\"patch_17\">\r\n    <path d=\"M 83.115625 7.2 \r\nL 250.515625 7.2 \r\n\" style=\"fill:none;stroke:#cccccc;stroke-linecap:square;stroke-linejoin:miter;stroke-width:0.8;\"/>\r\n   </g>\r\n  </g>\r\n </g>\r\n <defs>\r\n  <clipPath id=\"p0eb28ef5a1\">\r\n   <rect height=\"326.16\" width=\"167.4\" x=\"83.115625\" y=\"7.2\"/>\r\n  </clipPath>\r\n </defs>\r\n</svg>\r\n",
      "image/png": "[encoded data removed]"
     },
     "metadata": {}
    }
   ],
   "source": [
    "_s = (user_info_cleaned_df[group_types].sum()/11132.).sort_values()\n",
    "_s.plot(kind='barh',logx=True,figsize=(3,6))"
   ]
  },
  {
   "cell_type": "markdown",
   "metadata": {},
   "source": [
    "### French language edition - user processing"
   ]
  },
  {
   "cell_type": "code",
   "execution_count": 129,
   "metadata": {
    "tags": []
   },
   "outputs": [
    {
     "output_type": "stream",
     "name": "stdout",
     "text": "1303\n['Lotus 50']\n     userid       name  editcount          registration  \\\n0  550436.0     Nouill   165503.0  2009-02-16T16:35:40Z   \n1  460796.0  Racconish    70657.0  2008-09-28T14:37:15Z   \n2  517206.0   Azurfrog   148408.0  2008-12-27T19:47:13Z   \n3   13782.0    Apokrif    57669.0                  None   \n4  621253.0     Lomita   506383.0  2009-06-15T11:45:47Z   \n\n                                              groups   gender missing  \n0            [*, user, autoconfirmed, autopatrolled]  unknown     NaN  \n1  [rollbacker, *, user, autoconfirmed, autopatro...  unknown     NaN  \n2     [sysop, *, user, autoconfirmed, autopatrolled]     male     NaN  \n3  [ipblock-exempt, *, user, autoconfirmed, autop...  unknown     NaN  \n4  [abusefilter, oversight, sysop, *, user, autoc...  unknown     NaN  \n1302 1 0\nLotus 50\n{'batchcomplete': '', 'query': {'pages': {'13517001': {'pageid': 13517001, 'ns': 2, 'title': 'Utilisateur:Lotus 50', 'links': [{'ns': 2, 'title': 'Utilisatrice:Mas003'}]}}}}\nLotus 50 has a link on missing user page\n1302 1 0\n[{'userid': 1989239, 'name': 'Mas003', 'editcount': 17509, 'registration': '2014-10-29T21:30:52Z', 'groups': ['*', 'user', 'autoconfirmed', 'autopatrolled'], 'gender': 'female'}]\n"
    }
   ],
   "source": [
    "#fr - df of the top users\n",
    "user_info = get_user_info(list(top_users_fr.index),endpoint='fr.wikipedia.org/w/api.php')\n",
    "print(len(user_info))\n",
    "\n",
    "_df0 = pd.DataFrame(user_info)\n",
    "nonmissing_users = _df0[~_df0['editcount'].isnull()]['name'].values\n",
    "missing_users = _df0[_df0['editcount'].isnull()]['name'].values\n",
    "print(missing_users)\n",
    "\n",
    "no_page_users = list()\n",
    "print(_df0.head())\n",
    "\n",
    "print(len(list(nonmissing_users)),len(list(missing_users)),len(list(no_page_users)))\n",
    "\n",
    "name_redirects = {}\n",
    "for missing_user in missing_users:\n",
    "    # Utilisateur / Utilisatrice\n",
    "    links_on_missing = get_links(missing_user,endpoint='fr.wikipedia.org/w/api.php',userword='Utilisateur')\n",
    "    if len(links_on_missing) == 0:\n",
    "        print(missing_user + \" has no link on missing user page\")\n",
    "        no_page_users.append(missing_user)\n",
    "    else:\n",
    "        print(missing_user + \" has a link on missing user page\")\n",
    "        redirected_name = [i for i in links_on_missing if 'Utilisateur:' in i]\n",
    "        redirected_name_1 = [i for i in links_on_missing if 'Utilisatrice:' in i]\n",
    "        if missing_user == 'Lotus 50':\n",
    "            name_redirects[missing_user] = 'Utilisatrice:Mas003'\n",
    "            continue\n",
    "        if len(redirected_name) == 0:\n",
    "            print(\"there is no page\")\n",
    "            no_page_users.append(missing_user)\n",
    "        else:\n",
    "            print(\"name redirect\")\n",
    "            name_redirects[missing_user] = redirected_name[0]\n",
    "\n",
    "missing_user_info = get_user_info(list(name_redirects.values()),endpoint='fr.wikipedia.org/w/api.php')\n",
    "print(len(list(nonmissing_users)),len(missing_user_info),len(no_page_users))\n",
    "\n",
    "with open('name_redirects_fr.json','w',encoding='utf8') as f:\n",
    "    json.dump(name_redirects,f)\n",
    "\n",
    "print(missing_user_info)"
   ]
  },
  {
   "cell_type": "code",
   "execution_count": 75,
   "metadata": {
    "tags": []
   },
   "outputs": [
    {
     "output_type": "stream",
     "name": "stdout",
     "text": "1303\n0\n"
    }
   ],
   "source": [
    "# apparently there are no missing users\n",
    "_df0 = pd.DataFrame(user_info)\n",
    "_df1 = _df0[~_df0['name'].isin(missing_users)]\n",
    "_df2 = pd.DataFrame(missing_user_info)\n",
    "user_info_df = pd.concat([_df1,_df2])\n",
    "print(len(user_info_df))\n",
    "print(len(no_page_users))"
   ]
  },
  {
   "cell_type": "code",
   "execution_count": 76,
   "metadata": {},
   "outputs": [
    {
     "output_type": "execute_result",
     "data": {
      "text/plain": "   userid       name  editcount          registration   gender  abusefilter  \\\n0  550436     Nouill     165472  2009-02-16T16:35:40Z  unknown        False   \n1  460796  Racconish      70616  2008-09-28T14:37:15Z  unknown        False   \n2  517206   Azurfrog     148408  2008-12-27T19:47:13Z     male        False   \n3   13782    Apokrif      57652                  None  unknown        False   \n4  621253     Lomita     506336  2009-06-15T11:45:47Z  unknown         True   \n\n   checkuser  ipblock-exempt  autopatrolled  autoconfirmed  accountcreator  \\\n0      False           False           True           True           False   \n1      False           False           True           True           False   \n2      False           False           True           True           False   \n3      False            True           True           True           False   \n4      False           False           True           True           False   \n\n   rollbacker  oversight  user  bureaucrat  transwiki  interface-admin  sysop  \n0       False      False  True       False      False            False  False  \n1        True      False  True       False      False            False  False  \n2       False      False  True       False      False            False   True  \n3       False      False  True       False      False            False  False  \n4       False       True  True       False      False            False   True  ",
      "text/html": "<div>\n<style scoped>\n    .dataframe tbody tr th:only-of-type {\n        vertical-align: middle;\n    }\n\n    .dataframe tbody tr th {\n        vertical-align: top;\n    }\n\n    .dataframe thead th {\n        text-align: right;\n    }\n</style>\n<table border=\"1\" class=\"dataframe\">\n  <thead>\n    <tr style=\"text-align: right;\">\n      <th></th>\n      <th>userid</th>\n      <th>name</th>\n      <th>editcount</th>\n      <th>registration</th>\n      <th>gender</th>\n      <th>abusefilter</th>\n      <th>checkuser</th>\n      <th>ipblock-exempt</th>\n      <th>autopatrolled</th>\n      <th>autoconfirmed</th>\n      <th>accountcreator</th>\n      <th>rollbacker</th>\n      <th>oversight</th>\n      <th>user</th>\n      <th>bureaucrat</th>\n      <th>transwiki</th>\n      <th>interface-admin</th>\n      <th>sysop</th>\n    </tr>\n  </thead>\n  <tbody>\n    <tr>\n      <th>0</th>\n      <td>550436</td>\n      <td>Nouill</td>\n      <td>165472</td>\n      <td>2009-02-16T16:35:40Z</td>\n      <td>unknown</td>\n      <td>False</td>\n      <td>False</td>\n      <td>False</td>\n      <td>True</td>\n      <td>True</td>\n      <td>False</td>\n      <td>False</td>\n      <td>False</td>\n      <td>True</td>\n      <td>False</td>\n      <td>False</td>\n      <td>False</td>\n      <td>False</td>\n    </tr>\n    <tr>\n      <th>1</th>\n      <td>460796</td>\n      <td>Racconish</td>\n      <td>70616</td>\n      <td>2008-09-28T14:37:15Z</td>\n      <td>unknown</td>\n      <td>False</td>\n      <td>False</td>\n      <td>False</td>\n      <td>True</td>\n      <td>True</td>\n      <td>False</td>\n      <td>True</td>\n      <td>False</td>\n      <td>True</td>\n      <td>False</td>\n      <td>False</td>\n      <td>False</td>\n      <td>False</td>\n    </tr>\n    <tr>\n      <th>2</th>\n      <td>517206</td>\n      <td>Azurfrog</td>\n      <td>148408</td>\n      <td>2008-12-27T19:47:13Z</td>\n      <td>male</td>\n      <td>False</td>\n      <td>False</td>\n      <td>False</td>\n      <td>True</td>\n      <td>True</td>\n      <td>False</td>\n      <td>False</td>\n      <td>False</td>\n      <td>True</td>\n      <td>False</td>\n      <td>False</td>\n      <td>False</td>\n      <td>True</td>\n    </tr>\n    <tr>\n      <th>3</th>\n      <td>13782</td>\n      <td>Apokrif</td>\n      <td>57652</td>\n      <td>None</td>\n      <td>unknown</td>\n      <td>False</td>\n      <td>False</td>\n      <td>True</td>\n      <td>True</td>\n      <td>True</td>\n      <td>False</td>\n      <td>False</td>\n      <td>False</td>\n      <td>True</td>\n      <td>False</td>\n      <td>False</td>\n      <td>False</td>\n      <td>False</td>\n    </tr>\n    <tr>\n      <th>4</th>\n      <td>621253</td>\n      <td>Lomita</td>\n      <td>506336</td>\n      <td>2009-06-15T11:45:47Z</td>\n      <td>unknown</td>\n      <td>True</td>\n      <td>False</td>\n      <td>False</td>\n      <td>True</td>\n      <td>True</td>\n      <td>False</td>\n      <td>False</td>\n      <td>True</td>\n      <td>True</td>\n      <td>False</td>\n      <td>False</td>\n      <td>False</td>\n      <td>True</td>\n    </tr>\n  </tbody>\n</table>\n</div>"
     },
     "metadata": {},
     "execution_count": 76
    }
   ],
   "source": [
    "group_types = list(set([j for i in user_info_df['groups'].dropna().values for j in i]) - set(['*']))\n",
    "#_ix = user_info_df['groups'].dropna().index\n",
    "#subgroup = user_info_df.ix[_ix]\n",
    "\n",
    "for group in group_types:\n",
    "    user_info_df[group] = user_info_df['groups'].apply(lambda x:group in x)\n",
    "\n",
    "user_info_cleaned_df = user_info_df[[i for i in user_info_df.columns if i not in ['groups','*']]]\n",
    "user_info_cleaned_df.to_csv('user_info_fr.csv',encoding='utf8')\n",
    "user_info_cleaned_df.head()"
   ]
  },
  {
   "cell_type": "code",
   "execution_count": 77,
   "metadata": {
    "tags": []
   },
   "outputs": [
    {
     "output_type": "stream",
     "name": "stdout",
     "text": "No bots!\n"
    }
   ],
   "source": [
    "try:\n",
    "    bots_test = user_info_cleaned_df[user_info_cleaned_df['bot'] == True]['name'].values\n",
    "    print(bots_test)\n",
    "except KeyError:\n",
    "    print(\"No bots!\")"
   ]
  },
  {
   "cell_type": "code",
   "execution_count": 78,
   "metadata": {},
   "outputs": [
    {
     "output_type": "execute_result",
     "data": {
      "text/plain": "<matplotlib.axes._subplots.AxesSubplot at 0x22f896ab880>"
     },
     "metadata": {},
     "execution_count": 78
    },
    {
     "output_type": "display_data",
     "data": {
      "text/plain": "<Figure size 216x432 with 1 Axes>",
      "image/svg+xml": "<?xml version=\"1.0\" encoding=\"utf-8\" standalone=\"no\"?>\r\n<!DOCTYPE svg PUBLIC \"-//W3C//DTD SVG 1.1//EN\"\r\n  \"http://www.w3.org/Graphics/SVG/1.1/DTD/svg11.dtd\">\r\n<!-- Created with matplotlib (https://matplotlib.org/) -->\r\n<svg height=\"359.86pt\" version=\"1.1\" viewBox=\"0 0 257.715625 359.86\" width=\"257.715625pt\" xmlns=\"http://www.w3.org/2000/svg\" xmlns:xlink=\"http://www.w3.org/1999/xlink\">\r\n <defs>\r\n  <style type=\"text/css\">\r\n*{stroke-linecap:butt;stroke-linejoin:round;}\r\n  </style>\r\n </defs>\r\n <g id=\"figure_1\">\r\n  <g id=\"patch_1\">\r\n   <path d=\"M 0 359.86 \r\nL 257.715625 359.86 \r\nL 257.715625 0 \r\nL 0 0 \r\nz\r\n\" style=\"fill:#ffffff;\"/>\r\n  </g>\r\n  <g id=\"axes_1\">\r\n   <g id=\"patch_2\">\r\n    <path d=\"M 83.115625 333.36 \r\nL 250.515625 333.36 \r\nL 250.515625 7.2 \r\nL 83.115625 7.2 \r\nz\r\n\" style=\"fill:#ffffff;\"/>\r\n   </g>\r\n   <g id=\"matplotlib.axis_1\">\r\n    <g id=\"xtick_1\">\r\n     <g id=\"line2d_1\">\r\n      <path clip-path=\"url(#pe7b4442bba)\" d=\"M 93.000068 333.36 \r\nL 93.000068 7.2 \r\n\" style=\"fill:none;stroke:#cccccc;stroke-linecap:round;stroke-width:0.8;\"/>\r\n     </g>\r\n     <g id=\"text_1\">\r\n      <!-- $\\mathdefault{10^{-4}}$ -->\r\n      <defs>\r\n       <path d=\"M 37.25 0 \r\nL 28.46875 0 \r\nL 28.46875 56 \r\nQ 25.296875 52.984375 20.140625 49.953125 \r\nQ 14.984375 46.921875 10.890625 45.40625 \r\nL 10.890625 53.90625 \r\nQ 18.265625 57.375 23.78125 62.296875 \r\nQ 29.296875 67.234375 31.59375 71.875 \r\nL 37.25 71.875 \r\nz\r\n\" id=\"ArialMT-49\"/>\r\n       <path d=\"M 4.15625 35.296875 \r\nQ 4.15625 48 6.765625 55.734375 \r\nQ 9.375 63.484375 14.515625 67.671875 \r\nQ 19.671875 71.875 27.484375 71.875 \r\nQ 33.25 71.875 37.59375 69.546875 \r\nQ 41.9375 67.234375 44.765625 62.859375 \r\nQ 47.609375 58.5 49.21875 52.21875 \r\nQ 50.828125 45.953125 50.828125 35.296875 \r\nQ 50.828125 22.703125 48.234375 14.96875 \r\nQ 45.65625 7.234375 40.5 3 \r\nQ 35.359375 -1.21875 27.484375 -1.21875 \r\nQ 17.140625 -1.21875 11.234375 6.203125 \r\nQ 4.15625 15.140625 4.15625 35.296875 \r\nz\r\nM 13.1875 35.296875 \r\nQ 13.1875 17.671875 17.3125 11.828125 \r\nQ 21.4375 6 27.484375 6 \r\nQ 33.546875 6 37.671875 11.859375 \r\nQ 41.796875 17.71875 41.796875 35.296875 \r\nQ 41.796875 52.984375 37.671875 58.78125 \r\nQ 33.546875 64.59375 27.390625 64.59375 \r\nQ 21.34375 64.59375 17.71875 59.46875 \r\nQ 13.1875 52.9375 13.1875 35.296875 \r\nz\r\n\" id=\"ArialMT-48\"/>\r\n       <path d=\"M 52.828125 31.203125 \r\nL 5.5625 31.203125 \r\nL 5.5625 39.40625 \r\nL 52.828125 39.40625 \r\nz\r\n\" id=\"ArialMT-8722\"/>\r\n       <path d=\"M 32.328125 0 \r\nL 32.328125 17.140625 \r\nL 1.265625 17.140625 \r\nL 1.265625 25.203125 \r\nL 33.9375 71.578125 \r\nL 41.109375 71.578125 \r\nL 41.109375 25.203125 \r\nL 50.78125 25.203125 \r\nL 50.78125 17.140625 \r\nL 41.109375 17.140625 \r\nL 41.109375 0 \r\nz\r\nM 32.328125 25.203125 \r\nL 32.328125 57.46875 \r\nL 9.90625 25.203125 \r\nz\r\n\" id=\"ArialMT-52\"/>\r\n      </defs>\r\n      <g style=\"fill:#262626;\" transform=\"translate(83.100068 350.5725)scale(0.1 -0.1)\">\r\n       <use transform=\"translate(0 0.201563)\" xlink:href=\"#ArialMT-49\"/>\r\n       <use transform=\"translate(55.615234 0.201563)\" xlink:href=\"#ArialMT-48\"/>\r\n       <use transform=\"translate(112.972813 69.895313)scale(0.7)\" xlink:href=\"#ArialMT-8722\"/>\r\n       <use transform=\"translate(153.851719 69.895313)scale(0.7)\" xlink:href=\"#ArialMT-52\"/>\r\n      </g>\r\n     </g>\r\n    </g>\r\n    <g id=\"xtick_2\">\r\n     <g id=\"line2d_2\">\r\n      <path clip-path=\"url(#pe7b4442bba)\" d=\"M 141.855456 333.36 \r\nL 141.855456 7.2 \r\n\" style=\"fill:none;stroke:#cccccc;stroke-linecap:round;stroke-width:0.8;\"/>\r\n     </g>\r\n     <g id=\"text_2\">\r\n      <!-- $\\mathdefault{10^{-3}}$ -->\r\n      <defs>\r\n       <path d=\"M 4.203125 18.890625 \r\nL 12.984375 20.0625 \r\nQ 14.5 12.59375 18.140625 9.296875 \r\nQ 21.78125 6 27 6 \r\nQ 33.203125 6 37.46875 10.296875 \r\nQ 41.75 14.59375 41.75 20.953125 \r\nQ 41.75 27 37.796875 30.921875 \r\nQ 33.84375 34.859375 27.734375 34.859375 \r\nQ 25.25 34.859375 21.53125 33.890625 \r\nL 22.515625 41.609375 \r\nQ 23.390625 41.5 23.921875 41.5 \r\nQ 29.546875 41.5 34.03125 44.421875 \r\nQ 38.53125 47.359375 38.53125 53.46875 \r\nQ 38.53125 58.296875 35.25 61.46875 \r\nQ 31.984375 64.65625 26.8125 64.65625 \r\nQ 21.6875 64.65625 18.265625 61.421875 \r\nQ 14.84375 58.203125 13.875 51.765625 \r\nL 5.078125 53.328125 \r\nQ 6.6875 62.15625 12.390625 67.015625 \r\nQ 18.109375 71.875 26.609375 71.875 \r\nQ 32.46875 71.875 37.390625 69.359375 \r\nQ 42.328125 66.84375 44.9375 62.5 \r\nQ 47.5625 58.15625 47.5625 53.265625 \r\nQ 47.5625 48.640625 45.0625 44.828125 \r\nQ 42.578125 41.015625 37.703125 38.765625 \r\nQ 44.046875 37.3125 47.5625 32.6875 \r\nQ 51.078125 28.078125 51.078125 21.140625 \r\nQ 51.078125 11.765625 44.234375 5.25 \r\nQ 37.40625 -1.265625 26.953125 -1.265625 \r\nQ 17.53125 -1.265625 11.296875 4.34375 \r\nQ 5.078125 9.96875 4.203125 18.890625 \r\nz\r\n\" id=\"ArialMT-51\"/>\r\n      </defs>\r\n      <g style=\"fill:#262626;\" transform=\"translate(131.955456 350.6725)scale(0.1 -0.1)\">\r\n       <use transform=\"translate(0 0.99375)\" xlink:href=\"#ArialMT-49\"/>\r\n       <use transform=\"translate(55.615234 0.99375)\" xlink:href=\"#ArialMT-48\"/>\r\n       <use transform=\"translate(112.972813 70.6875)scale(0.7)\" xlink:href=\"#ArialMT-8722\"/>\r\n       <use transform=\"translate(153.851719 70.6875)scale(0.7)\" xlink:href=\"#ArialMT-51\"/>\r\n      </g>\r\n     </g>\r\n    </g>\r\n    <g id=\"xtick_3\">\r\n     <g id=\"line2d_3\">\r\n      <path clip-path=\"url(#pe7b4442bba)\" d=\"M 190.710844 333.36 \r\nL 190.710844 7.2 \r\n\" style=\"fill:none;stroke:#cccccc;stroke-linecap:round;stroke-width:0.8;\"/>\r\n     </g>\r\n     <g id=\"text_3\">\r\n      <!-- $\\mathdefault{10^{-2}}$ -->\r\n      <defs>\r\n       <path d=\"M 50.34375 8.453125 \r\nL 50.34375 0 \r\nL 3.03125 0 \r\nQ 2.9375 3.171875 4.046875 6.109375 \r\nQ 5.859375 10.9375 9.828125 15.625 \r\nQ 13.8125 20.3125 21.34375 26.46875 \r\nQ 33.015625 36.03125 37.109375 41.625 \r\nQ 41.21875 47.21875 41.21875 52.203125 \r\nQ 41.21875 57.421875 37.46875 61 \r\nQ 33.734375 64.59375 27.734375 64.59375 \r\nQ 21.390625 64.59375 17.578125 60.78125 \r\nQ 13.765625 56.984375 13.71875 50.25 \r\nL 4.6875 51.171875 \r\nQ 5.609375 61.28125 11.65625 66.578125 \r\nQ 17.71875 71.875 27.9375 71.875 \r\nQ 38.234375 71.875 44.234375 66.15625 \r\nQ 50.25 60.453125 50.25 52 \r\nQ 50.25 47.703125 48.484375 43.546875 \r\nQ 46.734375 39.40625 42.65625 34.8125 \r\nQ 38.578125 30.21875 29.109375 22.21875 \r\nQ 21.1875 15.578125 18.9375 13.203125 \r\nQ 16.703125 10.84375 15.234375 8.453125 \r\nz\r\n\" id=\"ArialMT-50\"/>\r\n      </defs>\r\n      <g style=\"fill:#262626;\" transform=\"translate(180.810844 350.6725)scale(0.1 -0.1)\">\r\n       <use transform=\"translate(0 0.99375)\" xlink:href=\"#ArialMT-49\"/>\r\n       <use transform=\"translate(55.615234 0.99375)\" xlink:href=\"#ArialMT-48\"/>\r\n       <use transform=\"translate(112.972813 70.6875)scale(0.7)\" xlink:href=\"#ArialMT-8722\"/>\r\n       <use transform=\"translate(153.851719 70.6875)scale(0.7)\" xlink:href=\"#ArialMT-50\"/>\r\n      </g>\r\n     </g>\r\n    </g>\r\n    <g id=\"xtick_4\">\r\n     <g id=\"line2d_4\">\r\n      <path clip-path=\"url(#pe7b4442bba)\" d=\"M 239.566232 333.36 \r\nL 239.566232 7.2 \r\n\" style=\"fill:none;stroke:#cccccc;stroke-linecap:round;stroke-width:0.8;\"/>\r\n     </g>\r\n     <g id=\"text_4\">\r\n      <!-- $\\mathdefault{10^{-1}}$ -->\r\n      <g style=\"fill:#262626;\" transform=\"translate(229.666232 350.6725)scale(0.1 -0.1)\">\r\n       <use transform=\"translate(0 0.99375)\" xlink:href=\"#ArialMT-49\"/>\r\n       <use transform=\"translate(55.615234 0.99375)\" xlink:href=\"#ArialMT-48\"/>\r\n       <use transform=\"translate(112.972813 70.6875)scale(0.7)\" xlink:href=\"#ArialMT-8722\"/>\r\n       <use transform=\"translate(153.851719 70.6875)scale(0.7)\" xlink:href=\"#ArialMT-49\"/>\r\n      </g>\r\n     </g>\r\n    </g>\r\n    <g id=\"xtick_5\"/>\r\n    <g id=\"xtick_6\"/>\r\n    <g id=\"xtick_7\"/>\r\n    <g id=\"xtick_8\"/>\r\n    <g id=\"xtick_9\"/>\r\n    <g id=\"xtick_10\"/>\r\n    <g id=\"xtick_11\"/>\r\n    <g id=\"xtick_12\"/>\r\n    <g id=\"xtick_13\"/>\r\n    <g id=\"xtick_14\"/>\r\n    <g id=\"xtick_15\"/>\r\n    <g id=\"xtick_16\"/>\r\n    <g id=\"xtick_17\"/>\r\n    <g id=\"xtick_18\"/>\r\n    <g id=\"xtick_19\"/>\r\n    <g id=\"xtick_20\"/>\r\n    <g id=\"xtick_21\"/>\r\n    <g id=\"xtick_22\"/>\r\n    <g id=\"xtick_23\"/>\r\n    <g id=\"xtick_24\"/>\r\n    <g id=\"xtick_25\"/>\r\n    <g id=\"xtick_26\"/>\r\n    <g id=\"xtick_27\"/>\r\n    <g id=\"xtick_28\"/>\r\n    <g id=\"xtick_29\"/>\r\n    <g id=\"xtick_30\"/>\r\n    <g id=\"xtick_31\"/>\r\n   </g>\r\n   <g id=\"matplotlib.axis_2\">\r\n    <g id=\"ytick_1\">\r\n     <g id=\"line2d_5\">\r\n      <path clip-path=\"url(#pe7b4442bba)\" d=\"M 83.115625 320.815385 \r\nL 250.515625 320.815385 \r\n\" style=\"fill:none;stroke:#cccccc;stroke-linecap:round;stroke-width:0.8;\"/>\r\n     </g>\r\n     <g id=\"text_5\">\r\n      <!-- transwiki -->\r\n      <defs>\r\n       <path d=\"M 25.78125 7.859375 \r\nL 27.046875 0.09375 \r\nQ 23.34375 -0.6875 20.40625 -0.6875 \r\nQ 15.625 -0.6875 12.984375 0.828125 \r\nQ 10.359375 2.34375 9.28125 4.8125 \r\nQ 8.203125 7.28125 8.203125 15.1875 \r\nL 8.203125 45.015625 \r\nL 1.765625 45.015625 \r\nL 1.765625 51.859375 \r\nL 8.203125 51.859375 \r\nL 8.203125 64.703125 \r\nL 16.9375 69.96875 \r\nL 16.9375 51.859375 \r\nL 25.78125 51.859375 \r\nL 25.78125 45.015625 \r\nL 16.9375 45.015625 \r\nL 16.9375 14.703125 \r\nQ 16.9375 10.9375 17.40625 9.859375 \r\nQ 17.875 8.796875 18.921875 8.15625 \r\nQ 19.96875 7.515625 21.921875 7.515625 \r\nQ 23.390625 7.515625 25.78125 7.859375 \r\nz\r\n\" id=\"ArialMT-116\"/>\r\n       <path d=\"M 6.5 0 \r\nL 6.5 51.859375 \r\nL 14.40625 51.859375 \r\nL 14.40625 44 \r\nQ 17.4375 49.515625 20 51.265625 \r\nQ 22.5625 53.03125 25.640625 53.03125 \r\nQ 30.078125 53.03125 34.671875 50.203125 \r\nL 31.640625 42.046875 \r\nQ 28.421875 43.953125 25.203125 43.953125 \r\nQ 22.3125 43.953125 20.015625 42.21875 \r\nQ 17.71875 40.484375 16.75 37.40625 \r\nQ 15.28125 32.71875 15.28125 27.15625 \r\nL 15.28125 0 \r\nz\r\n\" id=\"ArialMT-114\"/>\r\n       <path d=\"M 40.4375 6.390625 \r\nQ 35.546875 2.25 31.03125 0.53125 \r\nQ 26.515625 -1.171875 21.34375 -1.171875 \r\nQ 12.796875 -1.171875 8.203125 3 \r\nQ 3.609375 7.171875 3.609375 13.671875 \r\nQ 3.609375 17.484375 5.34375 20.625 \r\nQ 7.078125 23.78125 9.890625 25.6875 \r\nQ 12.703125 27.59375 16.21875 28.5625 \r\nQ 18.796875 29.25 24.03125 29.890625 \r\nQ 34.671875 31.15625 39.703125 32.90625 \r\nQ 39.75 34.71875 39.75 35.203125 \r\nQ 39.75 40.578125 37.25 42.78125 \r\nQ 33.890625 45.75 27.25 45.75 \r\nQ 21.046875 45.75 18.09375 43.578125 \r\nQ 15.140625 41.40625 13.71875 35.890625 \r\nL 5.125 37.0625 \r\nQ 6.296875 42.578125 8.984375 45.96875 \r\nQ 11.671875 49.359375 16.75 51.1875 \r\nQ 21.828125 53.03125 28.515625 53.03125 \r\nQ 35.15625 53.03125 39.296875 51.46875 \r\nQ 43.453125 49.90625 45.40625 47.53125 \r\nQ 47.359375 45.171875 48.140625 41.546875 \r\nQ 48.578125 39.3125 48.578125 33.453125 \r\nL 48.578125 21.734375 \r\nQ 48.578125 9.46875 49.140625 6.21875 \r\nQ 49.703125 2.984375 51.375 0 \r\nL 42.1875 0 \r\nQ 40.828125 2.734375 40.4375 6.390625 \r\nz\r\nM 39.703125 26.03125 \r\nQ 34.90625 24.078125 25.34375 22.703125 \r\nQ 19.921875 21.921875 17.671875 20.9375 \r\nQ 15.4375 19.96875 14.203125 18.09375 \r\nQ 12.984375 16.21875 12.984375 13.921875 \r\nQ 12.984375 10.40625 15.640625 8.0625 \r\nQ 18.3125 5.71875 23.4375 5.71875 \r\nQ 28.515625 5.71875 32.46875 7.9375 \r\nQ 36.421875 10.15625 38.28125 14.015625 \r\nQ 39.703125 17 39.703125 22.796875 \r\nz\r\n\" id=\"ArialMT-97\"/>\r\n       <path d=\"M 6.59375 0 \r\nL 6.59375 51.859375 \r\nL 14.5 51.859375 \r\nL 14.5 44.484375 \r\nQ 20.21875 53.03125 31 53.03125 \r\nQ 35.6875 53.03125 39.625 51.34375 \r\nQ 43.5625 49.65625 45.515625 46.921875 \r\nQ 47.46875 44.1875 48.25 40.4375 \r\nQ 48.734375 37.984375 48.734375 31.890625 \r\nL 48.734375 0 \r\nL 39.9375 0 \r\nL 39.9375 31.546875 \r\nQ 39.9375 36.921875 38.90625 39.578125 \r\nQ 37.890625 42.234375 35.28125 43.8125 \r\nQ 32.671875 45.40625 29.15625 45.40625 \r\nQ 23.53125 45.40625 19.453125 41.84375 \r\nQ 15.375 38.28125 15.375 28.328125 \r\nL 15.375 0 \r\nz\r\n\" id=\"ArialMT-110\"/>\r\n       <path d=\"M 3.078125 15.484375 \r\nL 11.765625 16.84375 \r\nQ 12.5 11.625 15.84375 8.84375 \r\nQ 19.1875 6.0625 25.203125 6.0625 \r\nQ 31.25 6.0625 34.171875 8.515625 \r\nQ 37.109375 10.984375 37.109375 14.3125 \r\nQ 37.109375 17.28125 34.515625 19 \r\nQ 32.71875 20.171875 25.53125 21.96875 \r\nQ 15.875 24.421875 12.140625 26.203125 \r\nQ 8.40625 27.984375 6.46875 31.125 \r\nQ 4.546875 34.28125 4.546875 38.09375 \r\nQ 4.546875 41.546875 6.125 44.5 \r\nQ 7.71875 47.46875 10.453125 49.421875 \r\nQ 12.5 50.921875 16.03125 51.96875 \r\nQ 19.578125 53.03125 23.640625 53.03125 \r\nQ 29.734375 53.03125 34.34375 51.265625 \r\nQ 38.96875 49.515625 41.15625 46.5 \r\nQ 43.359375 43.5 44.1875 38.484375 \r\nL 35.59375 37.3125 \r\nQ 35.015625 41.3125 32.203125 43.546875 \r\nQ 29.390625 45.796875 24.265625 45.796875 \r\nQ 18.21875 45.796875 15.625 43.796875 \r\nQ 13.03125 41.796875 13.03125 39.109375 \r\nQ 13.03125 37.40625 14.109375 36.03125 \r\nQ 15.1875 34.625 17.484375 33.6875 \r\nQ 18.796875 33.203125 25.25 31.453125 \r\nQ 34.578125 28.953125 38.25 27.359375 \r\nQ 41.9375 25.78125 44.03125 22.75 \r\nQ 46.140625 19.734375 46.140625 15.234375 \r\nQ 46.140625 10.84375 43.578125 6.953125 \r\nQ 41.015625 3.078125 36.171875 0.953125 \r\nQ 31.34375 -1.171875 25.25 -1.171875 \r\nQ 15.140625 -1.171875 9.84375 3.03125 \r\nQ 4.546875 7.234375 3.078125 15.484375 \r\nz\r\n\" id=\"ArialMT-115\"/>\r\n       <path d=\"M 16.15625 0 \r\nL 0.296875 51.859375 \r\nL 9.375 51.859375 \r\nL 17.625 21.921875 \r\nL 20.703125 10.796875 \r\nQ 20.90625 11.625 23.390625 21.484375 \r\nL 31.640625 51.859375 \r\nL 40.671875 51.859375 \r\nL 48.4375 21.78125 \r\nL 51.03125 11.859375 \r\nL 54 21.875 \r\nL 62.890625 51.859375 \r\nL 71.4375 51.859375 \r\nL 55.21875 0 \r\nL 46.09375 0 \r\nL 37.84375 31.0625 \r\nL 35.84375 39.890625 \r\nL 25.34375 0 \r\nz\r\n\" id=\"ArialMT-119\"/>\r\n       <path d=\"M 6.640625 61.46875 \r\nL 6.640625 71.578125 \r\nL 15.4375 71.578125 \r\nL 15.4375 61.46875 \r\nz\r\nM 6.640625 0 \r\nL 6.640625 51.859375 \r\nL 15.4375 51.859375 \r\nL 15.4375 0 \r\nz\r\n\" id=\"ArialMT-105\"/>\r\n       <path d=\"M 6.640625 0 \r\nL 6.640625 71.578125 \r\nL 15.4375 71.578125 \r\nL 15.4375 30.765625 \r\nL 36.234375 51.859375 \r\nL 47.609375 51.859375 \r\nL 27.78125 32.625 \r\nL 49.609375 0 \r\nL 38.765625 0 \r\nL 21.625 26.515625 \r\nL 15.4375 20.5625 \r\nL 15.4375 0 \r\nz\r\n\" id=\"ArialMT-107\"/>\r\n      </defs>\r\n      <g style=\"fill:#262626;\" transform=\"translate(37.220313 324.394291)scale(0.1 -0.1)\">\r\n       <use xlink:href=\"#ArialMT-116\"/>\r\n       <use x=\"27.783203\" xlink:href=\"#ArialMT-114\"/>\r\n       <use x=\"61.083984\" xlink:href=\"#ArialMT-97\"/>\r\n       <use x=\"116.699219\" xlink:href=\"#ArialMT-110\"/>\r\n       <use x=\"172.314453\" xlink:href=\"#ArialMT-115\"/>\r\n       <use x=\"222.314453\" xlink:href=\"#ArialMT-119\"/>\r\n       <use x=\"294.53125\" xlink:href=\"#ArialMT-105\"/>\r\n       <use x=\"316.748047\" xlink:href=\"#ArialMT-107\"/>\r\n       <use x=\"366.748047\" xlink:href=\"#ArialMT-105\"/>\r\n      </g>\r\n     </g>\r\n    </g>\r\n    <g id=\"ytick_2\">\r\n     <g id=\"line2d_6\">\r\n      <path clip-path=\"url(#pe7b4442bba)\" d=\"M 83.115625 295.726154 \r\nL 250.515625 295.726154 \r\n\" style=\"fill:none;stroke:#cccccc;stroke-linecap:round;stroke-width:0.8;\"/>\r\n     </g>\r\n     <g id=\"text_6\">\r\n      <!-- checkuser -->\r\n      <defs>\r\n       <path d=\"M 40.4375 19 \r\nL 49.078125 17.875 \r\nQ 47.65625 8.9375 41.8125 3.875 \r\nQ 35.984375 -1.171875 27.484375 -1.171875 \r\nQ 16.84375 -1.171875 10.375 5.78125 \r\nQ 3.90625 12.75 3.90625 25.734375 \r\nQ 3.90625 34.125 6.6875 40.421875 \r\nQ 9.46875 46.734375 15.15625 49.875 \r\nQ 20.84375 53.03125 27.546875 53.03125 \r\nQ 35.984375 53.03125 41.359375 48.75 \r\nQ 46.734375 44.484375 48.25 36.625 \r\nL 39.703125 35.296875 \r\nQ 38.484375 40.53125 35.375 43.15625 \r\nQ 32.28125 45.796875 27.875 45.796875 \r\nQ 21.234375 45.796875 17.078125 41.03125 \r\nQ 12.9375 36.28125 12.9375 25.984375 \r\nQ 12.9375 15.53125 16.9375 10.796875 \r\nQ 20.953125 6.0625 27.390625 6.0625 \r\nQ 32.5625 6.0625 36.03125 9.234375 \r\nQ 39.5 12.40625 40.4375 19 \r\nz\r\n\" id=\"ArialMT-99\"/>\r\n       <path d=\"M 6.59375 0 \r\nL 6.59375 71.578125 \r\nL 15.375 71.578125 \r\nL 15.375 45.90625 \r\nQ 21.53125 53.03125 30.90625 53.03125 \r\nQ 36.671875 53.03125 40.921875 50.75 \r\nQ 45.171875 48.484375 47 44.484375 \r\nQ 48.828125 40.484375 48.828125 32.859375 \r\nL 48.828125 0 \r\nL 40.046875 0 \r\nL 40.046875 32.859375 \r\nQ 40.046875 39.453125 37.1875 42.453125 \r\nQ 34.328125 45.453125 29.109375 45.453125 \r\nQ 25.203125 45.453125 21.75 43.421875 \r\nQ 18.3125 41.40625 16.84375 37.9375 \r\nQ 15.375 34.46875 15.375 28.375 \r\nL 15.375 0 \r\nz\r\n\" id=\"ArialMT-104\"/>\r\n       <path d=\"M 42.09375 16.703125 \r\nL 51.171875 15.578125 \r\nQ 49.03125 7.625 43.21875 3.21875 \r\nQ 37.40625 -1.171875 28.375 -1.171875 \r\nQ 17 -1.171875 10.328125 5.828125 \r\nQ 3.65625 12.84375 3.65625 25.484375 \r\nQ 3.65625 38.578125 10.390625 45.796875 \r\nQ 17.140625 53.03125 27.875 53.03125 \r\nQ 38.28125 53.03125 44.875 45.953125 \r\nQ 51.46875 38.875 51.46875 26.03125 \r\nQ 51.46875 25.25 51.421875 23.6875 \r\nL 12.75 23.6875 \r\nQ 13.234375 15.140625 17.578125 10.59375 \r\nQ 21.921875 6.0625 28.421875 6.0625 \r\nQ 33.25 6.0625 36.671875 8.59375 \r\nQ 40.09375 11.140625 42.09375 16.703125 \r\nz\r\nM 13.234375 30.90625 \r\nL 42.1875 30.90625 \r\nQ 41.609375 37.453125 38.875 40.71875 \r\nQ 34.671875 45.796875 27.984375 45.796875 \r\nQ 21.921875 45.796875 17.796875 41.75 \r\nQ 13.671875 37.703125 13.234375 30.90625 \r\nz\r\n\" id=\"ArialMT-101\"/>\r\n       <path d=\"M 40.578125 0 \r\nL 40.578125 7.625 \r\nQ 34.515625 -1.171875 24.125 -1.171875 \r\nQ 19.53125 -1.171875 15.546875 0.578125 \r\nQ 11.578125 2.34375 9.640625 5 \r\nQ 7.71875 7.671875 6.9375 11.53125 \r\nQ 6.390625 14.109375 6.390625 19.734375 \r\nL 6.390625 51.859375 \r\nL 15.1875 51.859375 \r\nL 15.1875 23.09375 \r\nQ 15.1875 16.21875 15.71875 13.8125 \r\nQ 16.546875 10.359375 19.234375 8.375 \r\nQ 21.921875 6.390625 25.875 6.390625 \r\nQ 29.828125 6.390625 33.296875 8.421875 \r\nQ 36.765625 10.453125 38.203125 13.9375 \r\nQ 39.65625 17.4375 39.65625 24.078125 \r\nL 39.65625 51.859375 \r\nL 48.4375 51.859375 \r\nL 48.4375 0 \r\nz\r\n\" id=\"ArialMT-117\"/>\r\n      </defs>\r\n      <g style=\"fill:#262626;\" transform=\"translate(30.542188 299.30506)scale(0.1 -0.1)\">\r\n       <use xlink:href=\"#ArialMT-99\"/>\r\n       <use x=\"50\" xlink:href=\"#ArialMT-104\"/>\r\n       <use x=\"105.615234\" xlink:href=\"#ArialMT-101\"/>\r\n       <use x=\"161.230469\" xlink:href=\"#ArialMT-99\"/>\r\n       <use x=\"211.230469\" xlink:href=\"#ArialMT-107\"/>\r\n       <use x=\"261.230469\" xlink:href=\"#ArialMT-117\"/>\r\n       <use x=\"316.845703\" xlink:href=\"#ArialMT-115\"/>\r\n       <use x=\"366.845703\" xlink:href=\"#ArialMT-101\"/>\r\n       <use x=\"422.460938\" xlink:href=\"#ArialMT-114\"/>\r\n      </g>\r\n     </g>\r\n    </g>\r\n    <g id=\"ytick_3\">\r\n     <g id=\"line2d_7\">\r\n      <path clip-path=\"url(#pe7b4442bba)\" d=\"M 83.115625 270.636923 \r\nL 250.515625 270.636923 \r\n\" style=\"fill:none;stroke:#cccccc;stroke-linecap:round;stroke-width:0.8;\"/>\r\n     </g>\r\n     <g id=\"text_7\">\r\n      <!-- oversight -->\r\n      <defs>\r\n       <path d=\"M 3.328125 25.921875 \r\nQ 3.328125 40.328125 11.328125 47.265625 \r\nQ 18.015625 53.03125 27.640625 53.03125 \r\nQ 38.328125 53.03125 45.109375 46.015625 \r\nQ 51.90625 39.015625 51.90625 26.65625 \r\nQ 51.90625 16.65625 48.90625 10.90625 \r\nQ 45.90625 5.171875 40.15625 2 \r\nQ 34.421875 -1.171875 27.640625 -1.171875 \r\nQ 16.75 -1.171875 10.03125 5.8125 \r\nQ 3.328125 12.796875 3.328125 25.921875 \r\nz\r\nM 12.359375 25.921875 \r\nQ 12.359375 15.96875 16.703125 11.015625 \r\nQ 21.046875 6.0625 27.640625 6.0625 \r\nQ 34.1875 6.0625 38.53125 11.03125 \r\nQ 42.875 16.015625 42.875 26.21875 \r\nQ 42.875 35.84375 38.5 40.796875 \r\nQ 34.125 45.75 27.640625 45.75 \r\nQ 21.046875 45.75 16.703125 40.8125 \r\nQ 12.359375 35.890625 12.359375 25.921875 \r\nz\r\n\" id=\"ArialMT-111\"/>\r\n       <path d=\"M 21 0 \r\nL 1.265625 51.859375 \r\nL 10.546875 51.859375 \r\nL 21.6875 20.796875 \r\nQ 23.484375 15.765625 25 10.359375 \r\nQ 26.171875 14.453125 28.265625 20.21875 \r\nL 39.796875 51.859375 \r\nL 48.828125 51.859375 \r\nL 29.203125 0 \r\nz\r\n\" id=\"ArialMT-118\"/>\r\n       <path d=\"M 4.984375 -4.296875 \r\nL 13.53125 -5.5625 \r\nQ 14.0625 -9.515625 16.5 -11.328125 \r\nQ 19.78125 -13.765625 25.4375 -13.765625 \r\nQ 31.546875 -13.765625 34.859375 -11.328125 \r\nQ 38.1875 -8.890625 39.359375 -4.5 \r\nQ 40.046875 -1.8125 39.984375 6.78125 \r\nQ 34.234375 0 25.640625 0 \r\nQ 14.9375 0 9.078125 7.71875 \r\nQ 3.21875 15.4375 3.21875 26.21875 \r\nQ 3.21875 33.640625 5.90625 39.90625 \r\nQ 8.59375 46.1875 13.6875 49.609375 \r\nQ 18.796875 53.03125 25.6875 53.03125 \r\nQ 34.859375 53.03125 40.828125 45.609375 \r\nL 40.828125 51.859375 \r\nL 48.921875 51.859375 \r\nL 48.921875 7.03125 \r\nQ 48.921875 -5.078125 46.453125 -10.125 \r\nQ 44 -15.1875 38.640625 -18.109375 \r\nQ 33.296875 -21.046875 25.484375 -21.046875 \r\nQ 16.21875 -21.046875 10.5 -16.875 \r\nQ 4.78125 -12.703125 4.984375 -4.296875 \r\nz\r\nM 12.25 26.859375 \r\nQ 12.25 16.65625 16.296875 11.96875 \r\nQ 20.359375 7.28125 26.46875 7.28125 \r\nQ 32.515625 7.28125 36.609375 11.9375 \r\nQ 40.71875 16.609375 40.71875 26.5625 \r\nQ 40.71875 36.078125 36.5 40.90625 \r\nQ 32.28125 45.75 26.3125 45.75 \r\nQ 20.453125 45.75 16.34375 40.984375 \r\nQ 12.25 36.234375 12.25 26.859375 \r\nz\r\n\" id=\"ArialMT-103\"/>\r\n      </defs>\r\n      <g style=\"fill:#262626;\" transform=\"translate(35.542188 274.215829)scale(0.1 -0.1)\">\r\n       <use xlink:href=\"#ArialMT-111\"/>\r\n       <use x=\"55.615234\" xlink:href=\"#ArialMT-118\"/>\r\n       <use x=\"105.615234\" xlink:href=\"#ArialMT-101\"/>\r\n       <use x=\"161.230469\" xlink:href=\"#ArialMT-114\"/>\r\n       <use x=\"194.53125\" xlink:href=\"#ArialMT-115\"/>\r\n       <use x=\"244.53125\" xlink:href=\"#ArialMT-105\"/>\r\n       <use x=\"266.748047\" xlink:href=\"#ArialMT-103\"/>\r\n       <use x=\"322.363281\" xlink:href=\"#ArialMT-104\"/>\r\n       <use x=\"377.978516\" xlink:href=\"#ArialMT-116\"/>\r\n      </g>\r\n     </g>\r\n    </g>\r\n    <g id=\"ytick_4\">\r\n     <g id=\"line2d_8\">\r\n      <path clip-path=\"url(#pe7b4442bba)\" d=\"M 83.115625 245.547692 \r\nL 250.515625 245.547692 \r\n\" style=\"fill:none;stroke:#cccccc;stroke-linecap:round;stroke-width:0.8;\"/>\r\n     </g>\r\n     <g id=\"text_8\">\r\n      <!-- bureaucrat -->\r\n      <defs>\r\n       <path d=\"M 14.703125 0 \r\nL 6.546875 0 \r\nL 6.546875 71.578125 \r\nL 15.328125 71.578125 \r\nL 15.328125 46.046875 \r\nQ 20.90625 53.03125 29.546875 53.03125 \r\nQ 34.328125 53.03125 38.59375 51.09375 \r\nQ 42.875 49.171875 45.625 45.671875 \r\nQ 48.390625 42.1875 49.953125 37.25 \r\nQ 51.515625 32.328125 51.515625 26.703125 \r\nQ 51.515625 13.375 44.921875 6.09375 \r\nQ 38.328125 -1.171875 29.109375 -1.171875 \r\nQ 19.921875 -1.171875 14.703125 6.5 \r\nz\r\nM 14.59375 26.3125 \r\nQ 14.59375 17 17.140625 12.84375 \r\nQ 21.296875 6.0625 28.375 6.0625 \r\nQ 34.125 6.0625 38.328125 11.0625 \r\nQ 42.53125 16.0625 42.53125 25.984375 \r\nQ 42.53125 36.140625 38.5 40.96875 \r\nQ 34.46875 45.796875 28.765625 45.796875 \r\nQ 23 45.796875 18.796875 40.796875 \r\nQ 14.59375 35.796875 14.59375 26.3125 \r\nz\r\n\" id=\"ArialMT-98\"/>\r\n      </defs>\r\n      <g style=\"fill:#262626;\" transform=\"translate(28.3125 249.126599)scale(0.1 -0.1)\">\r\n       <use xlink:href=\"#ArialMT-98\"/>\r\n       <use x=\"55.615234\" xlink:href=\"#ArialMT-117\"/>\r\n       <use x=\"111.230469\" xlink:href=\"#ArialMT-114\"/>\r\n       <use x=\"144.53125\" xlink:href=\"#ArialMT-101\"/>\r\n       <use x=\"200.146484\" xlink:href=\"#ArialMT-97\"/>\r\n       <use x=\"255.761719\" xlink:href=\"#ArialMT-117\"/>\r\n       <use x=\"311.376953\" xlink:href=\"#ArialMT-99\"/>\r\n       <use x=\"361.376953\" xlink:href=\"#ArialMT-114\"/>\r\n       <use x=\"394.677734\" xlink:href=\"#ArialMT-97\"/>\r\n       <use x=\"450.292969\" xlink:href=\"#ArialMT-116\"/>\r\n      </g>\r\n     </g>\r\n    </g>\r\n    <g id=\"ytick_5\">\r\n     <g id=\"line2d_9\">\r\n      <path clip-path=\"url(#pe7b4442bba)\" d=\"M 83.115625 220.458462 \r\nL 250.515625 220.458462 \r\n\" style=\"fill:none;stroke:#cccccc;stroke-linecap:round;stroke-width:0.8;\"/>\r\n     </g>\r\n     <g id=\"text_9\">\r\n      <!-- interface-admin -->\r\n      <defs>\r\n       <path d=\"M 8.6875 0 \r\nL 8.6875 45.015625 \r\nL 0.921875 45.015625 \r\nL 0.921875 51.859375 \r\nL 8.6875 51.859375 \r\nL 8.6875 57.375 \r\nQ 8.6875 62.59375 9.625 65.140625 \r\nQ 10.890625 68.5625 14.078125 70.671875 \r\nQ 17.28125 72.796875 23.046875 72.796875 \r\nQ 26.765625 72.796875 31.25 71.921875 \r\nL 29.9375 64.265625 \r\nQ 27.203125 64.75 24.75 64.75 \r\nQ 20.75 64.75 19.09375 63.03125 \r\nQ 17.4375 61.328125 17.4375 56.640625 \r\nL 17.4375 51.859375 \r\nL 27.546875 51.859375 \r\nL 27.546875 45.015625 \r\nL 17.4375 45.015625 \r\nL 17.4375 0 \r\nz\r\n\" id=\"ArialMT-102\"/>\r\n       <path d=\"M 3.171875 21.484375 \r\nL 3.171875 30.328125 \r\nL 30.171875 30.328125 \r\nL 30.171875 21.484375 \r\nz\r\n\" id=\"ArialMT-45\"/>\r\n       <path d=\"M 40.234375 0 \r\nL 40.234375 6.546875 \r\nQ 35.296875 -1.171875 25.734375 -1.171875 \r\nQ 19.53125 -1.171875 14.328125 2.25 \r\nQ 9.125 5.671875 6.265625 11.796875 \r\nQ 3.421875 17.921875 3.421875 25.875 \r\nQ 3.421875 33.640625 6 39.96875 \r\nQ 8.59375 46.296875 13.765625 49.65625 \r\nQ 18.953125 53.03125 25.34375 53.03125 \r\nQ 30.03125 53.03125 33.6875 51.046875 \r\nQ 37.359375 49.078125 39.65625 45.90625 \r\nL 39.65625 71.578125 \r\nL 48.390625 71.578125 \r\nL 48.390625 0 \r\nz\r\nM 12.453125 25.875 \r\nQ 12.453125 15.921875 16.640625 10.984375 \r\nQ 20.84375 6.0625 26.5625 6.0625 \r\nQ 32.328125 6.0625 36.34375 10.765625 \r\nQ 40.375 15.484375 40.375 25.140625 \r\nQ 40.375 35.796875 36.265625 40.765625 \r\nQ 32.171875 45.75 26.171875 45.75 \r\nQ 20.3125 45.75 16.375 40.96875 \r\nQ 12.453125 36.1875 12.453125 25.875 \r\nz\r\n\" id=\"ArialMT-100\"/>\r\n       <path d=\"M 6.59375 0 \r\nL 6.59375 51.859375 \r\nL 14.453125 51.859375 \r\nL 14.453125 44.578125 \r\nQ 16.890625 48.390625 20.9375 50.703125 \r\nQ 25 53.03125 30.171875 53.03125 \r\nQ 35.9375 53.03125 39.625 50.640625 \r\nQ 43.3125 48.25 44.828125 43.953125 \r\nQ 50.984375 53.03125 60.84375 53.03125 \r\nQ 68.5625 53.03125 72.703125 48.75 \r\nQ 76.859375 44.484375 76.859375 35.59375 \r\nL 76.859375 0 \r\nL 68.109375 0 \r\nL 68.109375 32.671875 \r\nQ 68.109375 37.9375 67.25 40.25 \r\nQ 66.40625 42.578125 64.15625 43.984375 \r\nQ 61.921875 45.40625 58.890625 45.40625 \r\nQ 53.421875 45.40625 49.796875 41.765625 \r\nQ 46.1875 38.140625 46.1875 30.125 \r\nL 46.1875 0 \r\nL 37.40625 0 \r\nL 37.40625 33.6875 \r\nQ 37.40625 39.546875 35.25 42.46875 \r\nQ 33.109375 45.40625 28.21875 45.40625 \r\nQ 24.515625 45.40625 21.359375 43.453125 \r\nQ 18.21875 41.5 16.796875 37.734375 \r\nQ 15.375 33.984375 15.375 26.90625 \r\nL 15.375 0 \r\nz\r\n\" id=\"ArialMT-109\"/>\r\n      </defs>\r\n      <g style=\"fill:#262626;\" transform=\"translate(7.2 224.037368)scale(0.1 -0.1)\">\r\n       <use xlink:href=\"#ArialMT-105\"/>\r\n       <use x=\"22.216797\" xlink:href=\"#ArialMT-110\"/>\r\n       <use x=\"77.832031\" xlink:href=\"#ArialMT-116\"/>\r\n       <use x=\"105.615234\" xlink:href=\"#ArialMT-101\"/>\r\n       <use x=\"161.230469\" xlink:href=\"#ArialMT-114\"/>\r\n       <use x=\"194.53125\" xlink:href=\"#ArialMT-102\"/>\r\n       <use x=\"222.314453\" xlink:href=\"#ArialMT-97\"/>\r\n       <use x=\"277.929688\" xlink:href=\"#ArialMT-99\"/>\r\n       <use x=\"327.929688\" xlink:href=\"#ArialMT-101\"/>\r\n       <use x=\"383.544922\" xlink:href=\"#ArialMT-45\"/>\r\n       <use x=\"416.845703\" xlink:href=\"#ArialMT-97\"/>\r\n       <use x=\"472.460938\" xlink:href=\"#ArialMT-100\"/>\r\n       <use x=\"528.076172\" xlink:href=\"#ArialMT-109\"/>\r\n       <use x=\"611.376953\" xlink:href=\"#ArialMT-105\"/>\r\n       <use x=\"633.59375\" xlink:href=\"#ArialMT-110\"/>\r\n      </g>\r\n     </g>\r\n    </g>\r\n    <g id=\"ytick_6\">\r\n     <g id=\"line2d_10\">\r\n      <path clip-path=\"url(#pe7b4442bba)\" d=\"M 83.115625 195.369231 \r\nL 250.515625 195.369231 \r\n\" style=\"fill:none;stroke:#cccccc;stroke-linecap:round;stroke-width:0.8;\"/>\r\n     </g>\r\n     <g id=\"text_10\">\r\n      <!-- accountcreator -->\r\n      <g style=\"fill:#262626;\" transform=\"translate(9.973438 198.948137)scale(0.1 -0.1)\">\r\n       <use xlink:href=\"#ArialMT-97\"/>\r\n       <use x=\"55.615234\" xlink:href=\"#ArialMT-99\"/>\r\n       <use x=\"105.615234\" xlink:href=\"#ArialMT-99\"/>\r\n       <use x=\"155.615234\" xlink:href=\"#ArialMT-111\"/>\r\n       <use x=\"211.230469\" xlink:href=\"#ArialMT-117\"/>\r\n       <use x=\"266.845703\" xlink:href=\"#ArialMT-110\"/>\r\n       <use x=\"322.460938\" xlink:href=\"#ArialMT-116\"/>\r\n       <use x=\"350.244141\" xlink:href=\"#ArialMT-99\"/>\r\n       <use x=\"400.244141\" xlink:href=\"#ArialMT-114\"/>\r\n       <use x=\"433.544922\" xlink:href=\"#ArialMT-101\"/>\r\n       <use x=\"489.160156\" xlink:href=\"#ArialMT-97\"/>\r\n       <use x=\"544.775391\" xlink:href=\"#ArialMT-116\"/>\r\n       <use x=\"572.558594\" xlink:href=\"#ArialMT-111\"/>\r\n       <use x=\"628.173828\" xlink:href=\"#ArialMT-114\"/>\r\n      </g>\r\n     </g>\r\n    </g>\r\n    <g id=\"ytick_7\">\r\n     <g id=\"line2d_11\">\r\n      <path clip-path=\"url(#pe7b4442bba)\" d=\"M 83.115625 170.28 \r\nL 250.515625 170.28 \r\n\" style=\"fill:none;stroke:#cccccc;stroke-linecap:round;stroke-width:0.8;\"/>\r\n     </g>\r\n     <g id=\"text_11\">\r\n      <!-- abusefilter -->\r\n      <defs>\r\n       <path d=\"M 6.390625 0 \r\nL 6.390625 71.578125 \r\nL 15.1875 71.578125 \r\nL 15.1875 0 \r\nz\r\n\" id=\"ArialMT-108\"/>\r\n      </defs>\r\n      <g style=\"fill:#262626;\" transform=\"translate(29.98125 173.858906)scale(0.1 -0.1)\">\r\n       <use xlink:href=\"#ArialMT-97\"/>\r\n       <use x=\"55.615234\" xlink:href=\"#ArialMT-98\"/>\r\n       <use x=\"111.230469\" xlink:href=\"#ArialMT-117\"/>\r\n       <use x=\"166.845703\" xlink:href=\"#ArialMT-115\"/>\r\n       <use x=\"216.845703\" xlink:href=\"#ArialMT-101\"/>\r\n       <use x=\"272.460938\" xlink:href=\"#ArialMT-102\"/>\r\n       <use x=\"300.244141\" xlink:href=\"#ArialMT-105\"/>\r\n       <use x=\"322.460938\" xlink:href=\"#ArialMT-108\"/>\r\n       <use x=\"344.677734\" xlink:href=\"#ArialMT-116\"/>\r\n       <use x=\"372.460938\" xlink:href=\"#ArialMT-101\"/>\r\n       <use x=\"428.076172\" xlink:href=\"#ArialMT-114\"/>\r\n      </g>\r\n     </g>\r\n    </g>\r\n    <g id=\"ytick_8\">\r\n     <g id=\"line2d_12\">\r\n      <path clip-path=\"url(#pe7b4442bba)\" d=\"M 83.115625 145.190769 \r\nL 250.515625 145.190769 \r\n\" style=\"fill:none;stroke:#cccccc;stroke-linecap:round;stroke-width:0.8;\"/>\r\n     </g>\r\n     <g id=\"text_12\">\r\n      <!-- ipblock-exempt -->\r\n      <defs>\r\n       <path d=\"M 6.59375 -19.875 \r\nL 6.59375 51.859375 \r\nL 14.59375 51.859375 \r\nL 14.59375 45.125 \r\nQ 17.4375 49.078125 21 51.046875 \r\nQ 24.5625 53.03125 29.640625 53.03125 \r\nQ 36.28125 53.03125 41.359375 49.609375 \r\nQ 46.4375 46.1875 49.015625 39.953125 \r\nQ 51.609375 33.734375 51.609375 26.3125 \r\nQ 51.609375 18.359375 48.75 11.984375 \r\nQ 45.90625 5.609375 40.453125 2.21875 \r\nQ 35.015625 -1.171875 29 -1.171875 \r\nQ 24.609375 -1.171875 21.109375 0.6875 \r\nQ 17.625 2.546875 15.375 5.375 \r\nL 15.375 -19.875 \r\nz\r\nM 14.546875 25.640625 \r\nQ 14.546875 15.625 18.59375 10.84375 \r\nQ 22.65625 6.0625 28.421875 6.0625 \r\nQ 34.28125 6.0625 38.453125 11.015625 \r\nQ 42.625 15.96875 42.625 26.375 \r\nQ 42.625 36.28125 38.546875 41.203125 \r\nQ 34.46875 46.140625 28.8125 46.140625 \r\nQ 23.1875 46.140625 18.859375 40.890625 \r\nQ 14.546875 35.640625 14.546875 25.640625 \r\nz\r\n\" id=\"ArialMT-112\"/>\r\n       <path d=\"M 0.734375 0 \r\nL 19.671875 26.953125 \r\nL 2.15625 51.859375 \r\nL 13.140625 51.859375 \r\nL 21.09375 39.703125 \r\nQ 23.34375 36.234375 24.703125 33.890625 \r\nQ 26.859375 37.109375 28.65625 39.59375 \r\nL 37.40625 51.859375 \r\nL 47.90625 51.859375 \r\nL 29.984375 27.4375 \r\nL 49.265625 0 \r\nL 38.484375 0 \r\nL 27.828125 16.109375 \r\nL 25 20.453125 \r\nL 11.375 0 \r\nz\r\n\" id=\"ArialMT-120\"/>\r\n      </defs>\r\n      <g style=\"fill:#262626;\" transform=\"translate(8.86875 148.769675)scale(0.1 -0.1)\">\r\n       <use xlink:href=\"#ArialMT-105\"/>\r\n       <use x=\"22.216797\" xlink:href=\"#ArialMT-112\"/>\r\n       <use x=\"77.832031\" xlink:href=\"#ArialMT-98\"/>\r\n       <use x=\"133.447266\" xlink:href=\"#ArialMT-108\"/>\r\n       <use x=\"155.664062\" xlink:href=\"#ArialMT-111\"/>\r\n       <use x=\"211.279297\" xlink:href=\"#ArialMT-99\"/>\r\n       <use x=\"261.279297\" xlink:href=\"#ArialMT-107\"/>\r\n       <use x=\"311.279297\" xlink:href=\"#ArialMT-45\"/>\r\n       <use x=\"344.580078\" xlink:href=\"#ArialMT-101\"/>\r\n       <use x=\"400.195312\" xlink:href=\"#ArialMT-120\"/>\r\n       <use x=\"450.195312\" xlink:href=\"#ArialMT-101\"/>\r\n       <use x=\"505.810547\" xlink:href=\"#ArialMT-109\"/>\r\n       <use x=\"589.111328\" xlink:href=\"#ArialMT-112\"/>\r\n       <use x=\"644.726562\" xlink:href=\"#ArialMT-116\"/>\r\n      </g>\r\n     </g>\r\n    </g>\r\n    <g id=\"ytick_9\">\r\n     <g id=\"line2d_13\">\r\n      <path clip-path=\"url(#pe7b4442bba)\" d=\"M 83.115625 120.101538 \r\nL 250.515625 120.101538 \r\n\" style=\"fill:none;stroke:#cccccc;stroke-linecap:round;stroke-width:0.8;\"/>\r\n     </g>\r\n     <g id=\"text_13\">\r\n      <!-- rollbacker -->\r\n      <g style=\"fill:#262626;\" transform=\"translate(32.76875 123.680445)scale(0.1 -0.1)\">\r\n       <use xlink:href=\"#ArialMT-114\"/>\r\n       <use x=\"33.300781\" xlink:href=\"#ArialMT-111\"/>\r\n       <use x=\"88.916016\" xlink:href=\"#ArialMT-108\"/>\r\n       <use x=\"111.132812\" xlink:href=\"#ArialMT-108\"/>\r\n       <use x=\"133.349609\" xlink:href=\"#ArialMT-98\"/>\r\n       <use x=\"188.964844\" xlink:href=\"#ArialMT-97\"/>\r\n       <use x=\"244.580078\" xlink:href=\"#ArialMT-99\"/>\r\n       <use x=\"294.580078\" xlink:href=\"#ArialMT-107\"/>\r\n       <use x=\"344.580078\" xlink:href=\"#ArialMT-101\"/>\r\n       <use x=\"400.195312\" xlink:href=\"#ArialMT-114\"/>\r\n      </g>\r\n     </g>\r\n    </g>\r\n    <g id=\"ytick_10\">\r\n     <g id=\"line2d_14\">\r\n      <path clip-path=\"url(#pe7b4442bba)\" d=\"M 83.115625 95.012308 \r\nL 250.515625 95.012308 \r\n\" style=\"fill:none;stroke:#cccccc;stroke-linecap:round;stroke-width:0.8;\"/>\r\n     </g>\r\n     <g id=\"text_14\">\r\n      <!-- sysop -->\r\n      <defs>\r\n       <path d=\"M 6.203125 -19.96875 \r\nL 5.21875 -11.71875 \r\nQ 8.109375 -12.5 10.25 -12.5 \r\nQ 13.1875 -12.5 14.9375 -11.515625 \r\nQ 16.703125 -10.546875 17.828125 -8.796875 \r\nQ 18.65625 -7.46875 20.515625 -2.25 \r\nQ 20.75 -1.515625 21.296875 -0.09375 \r\nL 1.609375 51.859375 \r\nL 11.078125 51.859375 \r\nL 21.875 21.828125 \r\nQ 23.96875 16.109375 25.640625 9.8125 \r\nQ 27.15625 15.875 29.25 21.625 \r\nL 40.328125 51.859375 \r\nL 49.125 51.859375 \r\nL 29.390625 -0.875 \r\nQ 26.21875 -9.421875 24.46875 -12.640625 \r\nQ 22.125 -17 19.09375 -19.015625 \r\nQ 16.0625 -21.046875 11.859375 -21.046875 \r\nQ 9.328125 -21.046875 6.203125 -19.96875 \r\nz\r\n\" id=\"ArialMT-121\"/>\r\n      </defs>\r\n      <g style=\"fill:#262626;\" transform=\"translate(49.99375 98.53262)scale(0.1 -0.1)\">\r\n       <use xlink:href=\"#ArialMT-115\"/>\r\n       <use x=\"50\" xlink:href=\"#ArialMT-121\"/>\r\n       <use x=\"100\" xlink:href=\"#ArialMT-115\"/>\r\n       <use x=\"150\" xlink:href=\"#ArialMT-111\"/>\r\n       <use x=\"205.615234\" xlink:href=\"#ArialMT-112\"/>\r\n      </g>\r\n     </g>\r\n    </g>\r\n    <g id=\"ytick_11\">\r\n     <g id=\"line2d_15\">\r\n      <path clip-path=\"url(#pe7b4442bba)\" d=\"M 83.115625 69.923077 \r\nL 250.515625 69.923077 \r\n\" style=\"fill:none;stroke:#cccccc;stroke-linecap:round;stroke-width:0.8;\"/>\r\n     </g>\r\n     <g id=\"text_15\">\r\n      <!-- autopatrolled -->\r\n      <g style=\"fill:#262626;\" transform=\"translate(18.298438 73.501983)scale(0.1 -0.1)\">\r\n       <use xlink:href=\"#ArialMT-97\"/>\r\n       <use x=\"55.615234\" xlink:href=\"#ArialMT-117\"/>\r\n       <use x=\"111.230469\" xlink:href=\"#ArialMT-116\"/>\r\n       <use x=\"139.013672\" xlink:href=\"#ArialMT-111\"/>\r\n       <use x=\"194.628906\" xlink:href=\"#ArialMT-112\"/>\r\n       <use x=\"250.244141\" xlink:href=\"#ArialMT-97\"/>\r\n       <use x=\"305.859375\" xlink:href=\"#ArialMT-116\"/>\r\n       <use x=\"333.642578\" xlink:href=\"#ArialMT-114\"/>\r\n       <use x=\"366.943359\" xlink:href=\"#ArialMT-111\"/>\r\n       <use x=\"422.558594\" xlink:href=\"#ArialMT-108\"/>\r\n       <use x=\"444.775391\" xlink:href=\"#ArialMT-108\"/>\r\n       <use x=\"466.992188\" xlink:href=\"#ArialMT-101\"/>\r\n       <use x=\"522.607422\" xlink:href=\"#ArialMT-100\"/>\r\n      </g>\r\n     </g>\r\n    </g>\r\n    <g id=\"ytick_12\">\r\n     <g id=\"line2d_16\">\r\n      <path clip-path=\"url(#pe7b4442bba)\" d=\"M 83.115625 44.833846 \r\nL 250.515625 44.833846 \r\n\" style=\"fill:none;stroke:#cccccc;stroke-linecap:round;stroke-width:0.8;\"/>\r\n     </g>\r\n     <g id=\"text_16\">\r\n      <!-- autoconfirmed -->\r\n      <g style=\"fill:#262626;\" transform=\"translate(12.751563 48.412752)scale(0.1 -0.1)\">\r\n       <use xlink:href=\"#ArialMT-97\"/>\r\n       <use x=\"55.615234\" xlink:href=\"#ArialMT-117\"/>\r\n       <use x=\"111.230469\" xlink:href=\"#ArialMT-116\"/>\r\n       <use x=\"139.013672\" xlink:href=\"#ArialMT-111\"/>\r\n       <use x=\"194.628906\" xlink:href=\"#ArialMT-99\"/>\r\n       <use x=\"244.628906\" xlink:href=\"#ArialMT-111\"/>\r\n       <use x=\"300.244141\" xlink:href=\"#ArialMT-110\"/>\r\n       <use x=\"355.859375\" xlink:href=\"#ArialMT-102\"/>\r\n       <use x=\"383.642578\" xlink:href=\"#ArialMT-105\"/>\r\n       <use x=\"405.859375\" xlink:href=\"#ArialMT-114\"/>\r\n       <use x=\"439.160156\" xlink:href=\"#ArialMT-109\"/>\r\n       <use x=\"522.460938\" xlink:href=\"#ArialMT-101\"/>\r\n       <use x=\"578.076172\" xlink:href=\"#ArialMT-100\"/>\r\n      </g>\r\n     </g>\r\n    </g>\r\n    <g id=\"ytick_13\">\r\n     <g id=\"line2d_17\">\r\n      <path clip-path=\"url(#pe7b4442bba)\" d=\"M 83.115625 19.744615 \r\nL 250.515625 19.744615 \r\n\" style=\"fill:none;stroke:#cccccc;stroke-linecap:round;stroke-width:0.8;\"/>\r\n     </g>\r\n     <g id=\"text_17\">\r\n      <!-- user -->\r\n      <g style=\"fill:#262626;\" transform=\"translate(56.664063 23.323522)scale(0.1 -0.1)\">\r\n       <use xlink:href=\"#ArialMT-117\"/>\r\n       <use x=\"55.615234\" xlink:href=\"#ArialMT-115\"/>\r\n       <use x=\"105.615234\" xlink:href=\"#ArialMT-101\"/>\r\n       <use x=\"161.230469\" xlink:href=\"#ArialMT-114\"/>\r\n      </g>\r\n     </g>\r\n    </g>\r\n   </g>\r\n   <g id=\"patch_3\">\r\n    <path clip-path=\"url(#pe7b4442bba)\" d=\"M -48566.96643 327.087692 \r\nL 90.724716 327.087692 \r\nL 90.724716 314.543077 \r\nL -48566.96643 314.543077 \r\nz\r\n\" style=\"fill:#1f77b4;stroke:#ffffff;stroke-linejoin:miter;\"/>\r\n   </g>\r\n   <g id=\"patch_4\">\r\n    <path clip-path=\"url(#pe7b4442bba)\" d=\"M -48566.96643 301.998462 \r\nL 124.873167 301.998462 \r\nL 124.873167 289.453846 \r\nL -48566.96643 289.453846 \r\nz\r\n\" style=\"fill:#1f77b4;stroke:#ffffff;stroke-linejoin:miter;\"/>\r\n   </g>\r\n   <g id=\"patch_5\">\r\n    <path clip-path=\"url(#pe7b4442bba)\" d=\"M -48566.96643 276.909231 \r\nL 124.873167 276.909231 \r\nL 124.873167 264.364615 \r\nL -48566.96643 264.364615 \r\nz\r\n\" style=\"fill:#1f77b4;stroke:#ffffff;stroke-linejoin:miter;\"/>\r\n   </g>\r\n   <g id=\"patch_6\">\r\n    <path clip-path=\"url(#pe7b4442bba)\" d=\"M -48566.96643 251.82 \r\nL 128.741597 251.82 \r\nL 128.741597 239.275385 \r\nL -48566.96643 239.275385 \r\nz\r\n\" style=\"fill:#1f77b4;stroke:#ffffff;stroke-linejoin:miter;\"/>\r\n   </g>\r\n   <g id=\"patch_7\">\r\n    <path clip-path=\"url(#pe7b4442bba)\" d=\"M -48566.96643 226.730769 \r\nL 145.146851 226.730769 \r\nL 145.146851 214.186154 \r\nL -48566.96643 214.186154 \r\nz\r\n\" style=\"fill:#1f77b4;stroke:#ffffff;stroke-linejoin:miter;\"/>\r\n   </g>\r\n   <g id=\"patch_8\">\r\n    <path clip-path=\"url(#pe7b4442bba)\" d=\"M -48566.96643 201.641538 \r\nL 148.183111 201.641538 \r\nL 148.183111 189.096923 \r\nL -48566.96643 189.096923 \r\nz\r\n\" style=\"fill:#1f77b4;stroke:#ffffff;stroke-linejoin:miter;\"/>\r\n   </g>\r\n   <g id=\"patch_9\">\r\n    <path clip-path=\"url(#pe7b4442bba)\" d=\"M -48566.96643 176.552308 \r\nL 166.160759 176.552308 \r\nL 166.160759 164.007692 \r\nL -48566.96643 164.007692 \r\nz\r\n\" style=\"fill:#1f77b4;stroke:#ffffff;stroke-linejoin:miter;\"/>\r\n   </g>\r\n   <g id=\"patch_10\">\r\n    <path clip-path=\"url(#pe7b4442bba)\" d=\"M -48566.96643 151.463077 \r\nL 170.02919 151.463077 \r\nL 170.02919 138.918462 \r\nL -48566.96643 138.918462 \r\nz\r\n\" style=\"fill:#1f77b4;stroke:#ffffff;stroke-linejoin:miter;\"/>\r\n   </g>\r\n   <g id=\"patch_11\">\r\n    <path clip-path=\"url(#pe7b4442bba)\" d=\"M -48566.96643 126.373846 \r\nL 170.528451 126.373846 \r\nL 170.528451 113.829231 \r\nL -48566.96643 113.829231 \r\nz\r\n\" style=\"fill:#1f77b4;stroke:#ffffff;stroke-linejoin:miter;\"/>\r\n   </g>\r\n   <g id=\"patch_12\">\r\n    <path clip-path=\"url(#pe7b4442bba)\" d=\"M -48566.96643 101.284615 \r\nL 194.645246 101.284615 \r\nL 194.645246 88.74 \r\nL -48566.96643 88.74 \r\nz\r\n\" style=\"fill:#1f77b4;stroke:#ffffff;stroke-linejoin:miter;\"/>\r\n   </g>\r\n   <g id=\"patch_13\">\r\n    <path clip-path=\"url(#pe7b4442bba)\" d=\"M -48566.96643 76.195385 \r\nL 241.510023 76.195385 \r\nL 241.510023 63.650769 \r\nL -48566.96643 63.650769 \r\nz\r\n\" style=\"fill:#1f77b4;stroke:#ffffff;stroke-linejoin:miter;\"/>\r\n   </g>\r\n   <g id=\"patch_14\">\r\n    <path clip-path=\"url(#pe7b4442bba)\" d=\"M -48566.96643 51.106154 \r\nL 242.906534 51.106154 \r\nL 242.906534 38.561538 \r\nL -48566.96643 38.561538 \r\nz\r\n\" style=\"fill:#1f77b4;stroke:#ffffff;stroke-linejoin:miter;\"/>\r\n   </g>\r\n   <g id=\"patch_15\">\r\n    <path clip-path=\"url(#pe7b4442bba)\" d=\"M -48566.96643 26.016923 \r\nL 242.906534 26.016923 \r\nL 242.906534 13.472308 \r\nL -48566.96643 13.472308 \r\nz\r\n\" style=\"fill:#1f77b4;stroke:#ffffff;stroke-linejoin:miter;\"/>\r\n   </g>\r\n   <g id=\"patch_16\">\r\n    <path d=\"M 83.115625 333.36 \r\nL 83.115625 7.2 \r\n\" style=\"fill:none;stroke:#cccccc;stroke-linecap:square;stroke-linejoin:miter;stroke-width:0.8;\"/>\r\n   </g>\r\n   <g id=\"patch_17\">\r\n    <path d=\"M 250.515625 333.36 \r\nL 250.515625 7.2 \r\n\" style=\"fill:none;stroke:#cccccc;stroke-linecap:square;stroke-linejoin:miter;stroke-width:0.8;\"/>\r\n   </g>\r\n   <g id=\"patch_18\">\r\n    <path d=\"M 83.115625 333.36 \r\nL 250.515625 333.36 \r\n\" style=\"fill:none;stroke:#cccccc;stroke-linecap:square;stroke-linejoin:miter;stroke-width:0.8;\"/>\r\n   </g>\r\n   <g id=\"patch_19\">\r\n    <path d=\"M 83.115625 7.2 \r\nL 250.515625 7.2 \r\n\" style=\"fill:none;stroke:#cccccc;stroke-linecap:square;stroke-linejoin:miter;stroke-width:0.8;\"/>\r\n   </g>\r\n  </g>\r\n </g>\r\n <defs>\r\n  <clipPath id=\"pe7b4442bba\">\r\n   <rect height=\"326.16\" width=\"167.4\" x=\"83.115625\" y=\"7.2\"/>\r\n  </clipPath>\r\n </defs>\r\n</svg>\r\n",
      "image/png": "[encoded data removed]"
     },
     "metadata": {}
    }
   ],
   "source": [
    "_s = (user_info_cleaned_df[group_types].sum()/11132.).sort_values()\n",
    "_s.plot(kind='barh',logx=True,figsize=(3,6))"
   ]
  },
  {
   "cell_type": "markdown",
   "metadata": {},
   "source": [
    "### Japanese language edition - user processing"
   ]
  },
  {
   "cell_type": "code",
   "execution_count": 79,
   "metadata": {
    "tags": []
   },
   "outputs": [
    {
     "output_type": "stream",
     "name": "stdout",
     "text": "1243\n1243 0 0\n1243 0 0\n"
    }
   ],
   "source": [
    "#ja - df of the top users\n",
    "user_info = get_user_info(list(top_users_ja.index),endpoint='ja.wikipedia.org/w/api.php')\n",
    "print(len(user_info))\n",
    "\n",
    "_df0 = pd.DataFrame(user_info)\n",
    "nonmissing_users = _df0[~_df0['editcount'].isnull()]['name'].values\n",
    "missing_users = _df0[_df0['editcount'].isnull()]['name'].values\n",
    "no_page_users = list()\n",
    "\n",
    "print(len(list(nonmissing_users)),len(list(missing_users)),len(list(no_page_users)))\n",
    "\n",
    "name_redirects = {} \n",
    "for missing_user in missing_users:\n",
    "    links_on_missing = get_links(missing_user,endpoint='ja.wikipedia.org/w/api.php',userword='利用者')\n",
    "    if len(links_on_missing) == 0:\n",
    "        no_page_users.append(missing_user)\n",
    "    else:\n",
    "        redirected_name = [i for i in links_on_missing if '利用者:' in i]\n",
    "        if len(redirected_name) == 0:\n",
    "            no_page_users.append(missing_user)\n",
    "        else:\n",
    "            name_redirects[missing_user] = redirected_name[0]\n",
    "\n",
    "missing_user_info = get_user_info(list(name_redirects.values()),endpoint='ja.wikipedia.org/w/api.php')\n",
    "print(len(list(nonmissing_users)),len(missing_user_info),len(no_page_users))\n",
    "\n",
    "with open('name_redirects_ja.json','w',encoding='utf8') as f:\n",
    "    json.dump(name_redirects,f)"
   ]
  },
  {
   "cell_type": "code",
   "execution_count": 80,
   "metadata": {
    "tags": []
   },
   "outputs": [
    {
     "output_type": "stream",
     "name": "stdout",
     "text": "1243\n0\n"
    }
   ],
   "source": [
    "# apparently there are no missing users\n",
    "_df0 = pd.DataFrame(user_info)\n",
    "_df1 = _df0[~_df0['name'].isin(missing_users)]\n",
    "_df2 = pd.DataFrame(missing_user_info)\n",
    "user_info_df = pd.concat([_df1,_df2])\n",
    "print(len(user_info_df))\n",
    "print(len(no_page_users))"
   ]
  },
  {
   "cell_type": "code",
   "execution_count": 81,
   "metadata": {},
   "outputs": [
    {
     "output_type": "execute_result",
     "data": {
      "text/plain": "   userid          name  editcount          registration   gender  \\\n0    1601          Kurz      10949                  None     male   \n1   34929        Aotake      15157                  None  unknown   \n2  631644      タバコはマーダー      20583  2012-06-09T02:42:00Z  unknown   \n3    1881          Miya      32403                  None   female   \n4  263159  Penn Station      60184  2008-11-23T08:06:06Z  unknown   \n\n   abusefilter  checkuser  ipblock-exempt  autoconfirmed  oversight  \\\n0        False      False           False           True      False   \n1        False      False           False           True      False   \n2        False      False           False           True      False   \n3         True      False           False           True      False   \n4         True       True           False           True       True   \n\n   eliminator  rollbacker  extendedconfirmed  user  bureaucrat  \\\n0       False       False               True  True       False   \n1       False       False               True  True       False   \n2       False       False              False  True       False   \n3       False       False              False  True       False   \n4       False       False              False  True        True   \n\n   interface-admin  sysop  \n0            False  False  \n1            False  False  \n2            False  False  \n3            False   True  \n4             True   True  ",
      "text/html": "<div>\n<style scoped>\n    .dataframe tbody tr th:only-of-type {\n        vertical-align: middle;\n    }\n\n    .dataframe tbody tr th {\n        vertical-align: top;\n    }\n\n    .dataframe thead th {\n        text-align: right;\n    }\n</style>\n<table border=\"1\" class=\"dataframe\">\n  <thead>\n    <tr style=\"text-align: right;\">\n      <th></th>\n      <th>userid</th>\n      <th>name</th>\n      <th>editcount</th>\n      <th>registration</th>\n      <th>gender</th>\n      <th>abusefilter</th>\n      <th>checkuser</th>\n      <th>ipblock-exempt</th>\n      <th>autoconfirmed</th>\n      <th>oversight</th>\n      <th>eliminator</th>\n      <th>rollbacker</th>\n      <th>extendedconfirmed</th>\n      <th>user</th>\n      <th>bureaucrat</th>\n      <th>interface-admin</th>\n      <th>sysop</th>\n    </tr>\n  </thead>\n  <tbody>\n    <tr>\n      <th>0</th>\n      <td>1601</td>\n      <td>Kurz</td>\n      <td>10949</td>\n      <td>None</td>\n      <td>male</td>\n      <td>False</td>\n      <td>False</td>\n      <td>False</td>\n      <td>True</td>\n      <td>False</td>\n      <td>False</td>\n      <td>False</td>\n      <td>True</td>\n      <td>True</td>\n      <td>False</td>\n      <td>False</td>\n      <td>False</td>\n    </tr>\n    <tr>\n      <th>1</th>\n      <td>34929</td>\n      <td>Aotake</td>\n      <td>15157</td>\n      <td>None</td>\n      <td>unknown</td>\n      <td>False</td>\n      <td>False</td>\n      <td>False</td>\n      <td>True</td>\n      <td>False</td>\n      <td>False</td>\n      <td>False</td>\n      <td>True</td>\n      <td>True</td>\n      <td>False</td>\n      <td>False</td>\n      <td>False</td>\n    </tr>\n    <tr>\n      <th>2</th>\n      <td>631644</td>\n      <td>タバコはマーダー</td>\n      <td>20583</td>\n      <td>2012-06-09T02:42:00Z</td>\n      <td>unknown</td>\n      <td>False</td>\n      <td>False</td>\n      <td>False</td>\n      <td>True</td>\n      <td>False</td>\n      <td>False</td>\n      <td>False</td>\n      <td>False</td>\n      <td>True</td>\n      <td>False</td>\n      <td>False</td>\n      <td>False</td>\n    </tr>\n    <tr>\n      <th>3</th>\n      <td>1881</td>\n      <td>Miya</td>\n      <td>32403</td>\n      <td>None</td>\n      <td>female</td>\n      <td>True</td>\n      <td>False</td>\n      <td>False</td>\n      <td>True</td>\n      <td>False</td>\n      <td>False</td>\n      <td>False</td>\n      <td>False</td>\n      <td>True</td>\n      <td>False</td>\n      <td>False</td>\n      <td>True</td>\n    </tr>\n    <tr>\n      <th>4</th>\n      <td>263159</td>\n      <td>Penn Station</td>\n      <td>60184</td>\n      <td>2008-11-23T08:06:06Z</td>\n      <td>unknown</td>\n      <td>True</td>\n      <td>True</td>\n      <td>False</td>\n      <td>True</td>\n      <td>True</td>\n      <td>False</td>\n      <td>False</td>\n      <td>False</td>\n      <td>True</td>\n      <td>True</td>\n      <td>True</td>\n      <td>True</td>\n    </tr>\n  </tbody>\n</table>\n</div>"
     },
     "metadata": {},
     "execution_count": 81
    }
   ],
   "source": [
    "group_types = list(set([j for i in user_info_df['groups'].dropna().values for j in i]) - set(['*']))\n",
    "#_ix = user_info_df['groups'].dropna().index\n",
    "#subgroup = user_info_df.ix[_ix]\n",
    "\n",
    "for group in group_types:\n",
    "    user_info_df[group] = user_info_df['groups'].apply(lambda x:group in x)\n",
    "\n",
    "user_info_cleaned_df = user_info_df[[i for i in user_info_df.columns if i not in ['groups','*']]]\n",
    "user_info_cleaned_df.to_csv('user_info_ja.csv',encoding='utf8')\n",
    "user_info_cleaned_df.head()"
   ]
  },
  {
   "cell_type": "code",
   "execution_count": 82,
   "metadata": {
    "tags": []
   },
   "outputs": [
    {
     "output_type": "stream",
     "name": "stdout",
     "text": "No bots!\n"
    }
   ],
   "source": [
    "try:\n",
    "    bots_test = user_info_cleaned_df[user_info_cleaned_df['bot'] == True]['name'].values\n",
    "    print(bots_test)\n",
    "except KeyError:\n",
    "    print(\"No bots!\")"
   ]
  },
  {
   "cell_type": "code",
   "execution_count": 83,
   "metadata": {},
   "outputs": [
    {
     "output_type": "execute_result",
     "data": {
      "text/plain": "<matplotlib.axes._subplots.AxesSubplot at 0x22f892612b0>"
     },
     "metadata": {},
     "execution_count": 83
    },
    {
     "output_type": "display_data",
     "data": {
      "text/plain": "<Figure size 216x432 with 1 Axes>",
      "image/svg+xml": "<?xml version=\"1.0\" encoding=\"utf-8\" standalone=\"no\"?>\r\n<!DOCTYPE svg PUBLIC \"-//W3C//DTD SVG 1.1//EN\"\r\n  \"http://www.w3.org/Graphics/SVG/1.1/DTD/svg11.dtd\">\r\n<!-- Created with matplotlib (https://matplotlib.org/) -->\r\n<svg height=\"359.86pt\" version=\"1.1\" viewBox=\"0 0 273.846875 359.86\" width=\"273.846875pt\" xmlns=\"http://www.w3.org/2000/svg\" xmlns:xlink=\"http://www.w3.org/1999/xlink\">\r\n <defs>\r\n  <style type=\"text/css\">\r\n*{stroke-linecap:butt;stroke-linejoin:round;}\r\n  </style>\r\n </defs>\r\n <g id=\"figure_1\">\r\n  <g id=\"patch_1\">\r\n   <path d=\"M 0 359.86 \r\nL 273.846875 359.86 \r\nL 273.846875 0 \r\nL 0 0 \r\nz\r\n\" style=\"fill:#ffffff;\"/>\r\n  </g>\r\n  <g id=\"axes_1\">\r\n   <g id=\"patch_2\">\r\n    <path d=\"M 99.246875 333.36 \r\nL 266.646875 333.36 \r\nL 266.646875 7.2 \r\nL 99.246875 7.2 \r\nz\r\n\" style=\"fill:#ffffff;\"/>\r\n   </g>\r\n   <g id=\"matplotlib.axis_1\">\r\n    <g id=\"xtick_1\">\r\n     <g id=\"line2d_1\">\r\n      <path clip-path=\"url(#p69724dc21b)\" d=\"M 109.146371 333.36 \r\nL 109.146371 7.2 \r\n\" style=\"fill:none;stroke:#cccccc;stroke-linecap:round;stroke-width:0.8;\"/>\r\n     </g>\r\n     <g id=\"text_1\">\r\n      <!-- $\\mathdefault{10^{-4}}$ -->\r\n      <defs>\r\n       <path d=\"M 37.25 0 \r\nL 28.46875 0 \r\nL 28.46875 56 \r\nQ 25.296875 52.984375 20.140625 49.953125 \r\nQ 14.984375 46.921875 10.890625 45.40625 \r\nL 10.890625 53.90625 \r\nQ 18.265625 57.375 23.78125 62.296875 \r\nQ 29.296875 67.234375 31.59375 71.875 \r\nL 37.25 71.875 \r\nz\r\n\" id=\"ArialMT-49\"/>\r\n       <path d=\"M 4.15625 35.296875 \r\nQ 4.15625 48 6.765625 55.734375 \r\nQ 9.375 63.484375 14.515625 67.671875 \r\nQ 19.671875 71.875 27.484375 71.875 \r\nQ 33.25 71.875 37.59375 69.546875 \r\nQ 41.9375 67.234375 44.765625 62.859375 \r\nQ 47.609375 58.5 49.21875 52.21875 \r\nQ 50.828125 45.953125 50.828125 35.296875 \r\nQ 50.828125 22.703125 48.234375 14.96875 \r\nQ 45.65625 7.234375 40.5 3 \r\nQ 35.359375 -1.21875 27.484375 -1.21875 \r\nQ 17.140625 -1.21875 11.234375 6.203125 \r\nQ 4.15625 15.140625 4.15625 35.296875 \r\nz\r\nM 13.1875 35.296875 \r\nQ 13.1875 17.671875 17.3125 11.828125 \r\nQ 21.4375 6 27.484375 6 \r\nQ 33.546875 6 37.671875 11.859375 \r\nQ 41.796875 17.71875 41.796875 35.296875 \r\nQ 41.796875 52.984375 37.671875 58.78125 \r\nQ 33.546875 64.59375 27.390625 64.59375 \r\nQ 21.34375 64.59375 17.71875 59.46875 \r\nQ 13.1875 52.9375 13.1875 35.296875 \r\nz\r\n\" id=\"ArialMT-48\"/>\r\n       <path d=\"M 52.828125 31.203125 \r\nL 5.5625 31.203125 \r\nL 5.5625 39.40625 \r\nL 52.828125 39.40625 \r\nz\r\n\" id=\"ArialMT-8722\"/>\r\n       <path d=\"M 32.328125 0 \r\nL 32.328125 17.140625 \r\nL 1.265625 17.140625 \r\nL 1.265625 25.203125 \r\nL 33.9375 71.578125 \r\nL 41.109375 71.578125 \r\nL 41.109375 25.203125 \r\nL 50.78125 25.203125 \r\nL 50.78125 17.140625 \r\nL 41.109375 17.140625 \r\nL 41.109375 0 \r\nz\r\nM 32.328125 25.203125 \r\nL 32.328125 57.46875 \r\nL 9.90625 25.203125 \r\nz\r\n\" id=\"ArialMT-52\"/>\r\n      </defs>\r\n      <g style=\"fill:#262626;\" transform=\"translate(99.246371 350.5725)scale(0.1 -0.1)\">\r\n       <use transform=\"translate(0 0.201563)\" xlink:href=\"#ArialMT-49\"/>\r\n       <use transform=\"translate(55.615234 0.201563)\" xlink:href=\"#ArialMT-48\"/>\r\n       <use transform=\"translate(112.972813 69.895313)scale(0.7)\" xlink:href=\"#ArialMT-8722\"/>\r\n       <use transform=\"translate(153.851719 69.895313)scale(0.7)\" xlink:href=\"#ArialMT-52\"/>\r\n      </g>\r\n     </g>\r\n    </g>\r\n    <g id=\"xtick_2\">\r\n     <g id=\"line2d_2\">\r\n      <path clip-path=\"url(#p69724dc21b)\" d=\"M 158.324991 333.36 \r\nL 158.324991 7.2 \r\n\" style=\"fill:none;stroke:#cccccc;stroke-linecap:round;stroke-width:0.8;\"/>\r\n     </g>\r\n     <g id=\"text_2\">\r\n      <!-- $\\mathdefault{10^{-3}}$ -->\r\n      <defs>\r\n       <path d=\"M 4.203125 18.890625 \r\nL 12.984375 20.0625 \r\nQ 14.5 12.59375 18.140625 9.296875 \r\nQ 21.78125 6 27 6 \r\nQ 33.203125 6 37.46875 10.296875 \r\nQ 41.75 14.59375 41.75 20.953125 \r\nQ 41.75 27 37.796875 30.921875 \r\nQ 33.84375 34.859375 27.734375 34.859375 \r\nQ 25.25 34.859375 21.53125 33.890625 \r\nL 22.515625 41.609375 \r\nQ 23.390625 41.5 23.921875 41.5 \r\nQ 29.546875 41.5 34.03125 44.421875 \r\nQ 38.53125 47.359375 38.53125 53.46875 \r\nQ 38.53125 58.296875 35.25 61.46875 \r\nQ 31.984375 64.65625 26.8125 64.65625 \r\nQ 21.6875 64.65625 18.265625 61.421875 \r\nQ 14.84375 58.203125 13.875 51.765625 \r\nL 5.078125 53.328125 \r\nQ 6.6875 62.15625 12.390625 67.015625 \r\nQ 18.109375 71.875 26.609375 71.875 \r\nQ 32.46875 71.875 37.390625 69.359375 \r\nQ 42.328125 66.84375 44.9375 62.5 \r\nQ 47.5625 58.15625 47.5625 53.265625 \r\nQ 47.5625 48.640625 45.0625 44.828125 \r\nQ 42.578125 41.015625 37.703125 38.765625 \r\nQ 44.046875 37.3125 47.5625 32.6875 \r\nQ 51.078125 28.078125 51.078125 21.140625 \r\nQ 51.078125 11.765625 44.234375 5.25 \r\nQ 37.40625 -1.265625 26.953125 -1.265625 \r\nQ 17.53125 -1.265625 11.296875 4.34375 \r\nQ 5.078125 9.96875 4.203125 18.890625 \r\nz\r\n\" id=\"ArialMT-51\"/>\r\n      </defs>\r\n      <g style=\"fill:#262626;\" transform=\"translate(148.424991 350.6725)scale(0.1 -0.1)\">\r\n       <use transform=\"translate(0 0.99375)\" xlink:href=\"#ArialMT-49\"/>\r\n       <use transform=\"translate(55.615234 0.99375)\" xlink:href=\"#ArialMT-48\"/>\r\n       <use transform=\"translate(112.972813 70.6875)scale(0.7)\" xlink:href=\"#ArialMT-8722\"/>\r\n       <use transform=\"translate(153.851719 70.6875)scale(0.7)\" xlink:href=\"#ArialMT-51\"/>\r\n      </g>\r\n     </g>\r\n    </g>\r\n    <g id=\"xtick_3\">\r\n     <g id=\"line2d_3\">\r\n      <path clip-path=\"url(#p69724dc21b)\" d=\"M 207.50361 333.36 \r\nL 207.50361 7.2 \r\n\" style=\"fill:none;stroke:#cccccc;stroke-linecap:round;stroke-width:0.8;\"/>\r\n     </g>\r\n     <g id=\"text_3\">\r\n      <!-- $\\mathdefault{10^{-2}}$ -->\r\n      <defs>\r\n       <path d=\"M 50.34375 8.453125 \r\nL 50.34375 0 \r\nL 3.03125 0 \r\nQ 2.9375 3.171875 4.046875 6.109375 \r\nQ 5.859375 10.9375 9.828125 15.625 \r\nQ 13.8125 20.3125 21.34375 26.46875 \r\nQ 33.015625 36.03125 37.109375 41.625 \r\nQ 41.21875 47.21875 41.21875 52.203125 \r\nQ 41.21875 57.421875 37.46875 61 \r\nQ 33.734375 64.59375 27.734375 64.59375 \r\nQ 21.390625 64.59375 17.578125 60.78125 \r\nQ 13.765625 56.984375 13.71875 50.25 \r\nL 4.6875 51.171875 \r\nQ 5.609375 61.28125 11.65625 66.578125 \r\nQ 17.71875 71.875 27.9375 71.875 \r\nQ 38.234375 71.875 44.234375 66.15625 \r\nQ 50.25 60.453125 50.25 52 \r\nQ 50.25 47.703125 48.484375 43.546875 \r\nQ 46.734375 39.40625 42.65625 34.8125 \r\nQ 38.578125 30.21875 29.109375 22.21875 \r\nQ 21.1875 15.578125 18.9375 13.203125 \r\nQ 16.703125 10.84375 15.234375 8.453125 \r\nz\r\n\" id=\"ArialMT-50\"/>\r\n      </defs>\r\n      <g style=\"fill:#262626;\" transform=\"translate(197.60361 350.6725)scale(0.1 -0.1)\">\r\n       <use transform=\"translate(0 0.99375)\" xlink:href=\"#ArialMT-49\"/>\r\n       <use transform=\"translate(55.615234 0.99375)\" xlink:href=\"#ArialMT-48\"/>\r\n       <use transform=\"translate(112.972813 70.6875)scale(0.7)\" xlink:href=\"#ArialMT-8722\"/>\r\n       <use transform=\"translate(153.851719 70.6875)scale(0.7)\" xlink:href=\"#ArialMT-50\"/>\r\n      </g>\r\n     </g>\r\n    </g>\r\n    <g id=\"xtick_4\">\r\n     <g id=\"line2d_4\">\r\n      <path clip-path=\"url(#p69724dc21b)\" d=\"M 256.68223 333.36 \r\nL 256.68223 7.2 \r\n\" style=\"fill:none;stroke:#cccccc;stroke-linecap:round;stroke-width:0.8;\"/>\r\n     </g>\r\n     <g id=\"text_4\">\r\n      <!-- $\\mathdefault{10^{-1}}$ -->\r\n      <g style=\"fill:#262626;\" transform=\"translate(246.78223 350.6725)scale(0.1 -0.1)\">\r\n       <use transform=\"translate(0 0.99375)\" xlink:href=\"#ArialMT-49\"/>\r\n       <use transform=\"translate(55.615234 0.99375)\" xlink:href=\"#ArialMT-48\"/>\r\n       <use transform=\"translate(112.972813 70.6875)scale(0.7)\" xlink:href=\"#ArialMT-8722\"/>\r\n       <use transform=\"translate(153.851719 70.6875)scale(0.7)\" xlink:href=\"#ArialMT-49\"/>\r\n      </g>\r\n     </g>\r\n    </g>\r\n    <g id=\"xtick_5\"/>\r\n    <g id=\"xtick_6\"/>\r\n    <g id=\"xtick_7\"/>\r\n    <g id=\"xtick_8\"/>\r\n    <g id=\"xtick_9\"/>\r\n    <g id=\"xtick_10\"/>\r\n    <g id=\"xtick_11\"/>\r\n    <g id=\"xtick_12\"/>\r\n    <g id=\"xtick_13\"/>\r\n    <g id=\"xtick_14\"/>\r\n    <g id=\"xtick_15\"/>\r\n    <g id=\"xtick_16\"/>\r\n    <g id=\"xtick_17\"/>\r\n    <g id=\"xtick_18\"/>\r\n    <g id=\"xtick_19\"/>\r\n    <g id=\"xtick_20\"/>\r\n    <g id=\"xtick_21\"/>\r\n    <g id=\"xtick_22\"/>\r\n    <g id=\"xtick_23\"/>\r\n    <g id=\"xtick_24\"/>\r\n    <g id=\"xtick_25\"/>\r\n    <g id=\"xtick_26\"/>\r\n    <g id=\"xtick_27\"/>\r\n    <g id=\"xtick_28\"/>\r\n    <g id=\"xtick_29\"/>\r\n    <g id=\"xtick_30\"/>\r\n    <g id=\"xtick_31\"/>\r\n   </g>\r\n   <g id=\"matplotlib.axis_2\">\r\n    <g id=\"ytick_1\">\r\n     <g id=\"line2d_5\">\r\n      <path clip-path=\"url(#p69724dc21b)\" d=\"M 99.246875 319.77 \r\nL 266.646875 319.77 \r\n\" style=\"fill:none;stroke:#cccccc;stroke-linecap:round;stroke-width:0.8;\"/>\r\n     </g>\r\n     <g id=\"text_5\">\r\n      <!-- rollbacker -->\r\n      <defs>\r\n       <path d=\"M 6.5 0 \r\nL 6.5 51.859375 \r\nL 14.40625 51.859375 \r\nL 14.40625 44 \r\nQ 17.4375 49.515625 20 51.265625 \r\nQ 22.5625 53.03125 25.640625 53.03125 \r\nQ 30.078125 53.03125 34.671875 50.203125 \r\nL 31.640625 42.046875 \r\nQ 28.421875 43.953125 25.203125 43.953125 \r\nQ 22.3125 43.953125 20.015625 42.21875 \r\nQ 17.71875 40.484375 16.75 37.40625 \r\nQ 15.28125 32.71875 15.28125 27.15625 \r\nL 15.28125 0 \r\nz\r\n\" id=\"ArialMT-114\"/>\r\n       <path d=\"M 3.328125 25.921875 \r\nQ 3.328125 40.328125 11.328125 47.265625 \r\nQ 18.015625 53.03125 27.640625 53.03125 \r\nQ 38.328125 53.03125 45.109375 46.015625 \r\nQ 51.90625 39.015625 51.90625 26.65625 \r\nQ 51.90625 16.65625 48.90625 10.90625 \r\nQ 45.90625 5.171875 40.15625 2 \r\nQ 34.421875 -1.171875 27.640625 -1.171875 \r\nQ 16.75 -1.171875 10.03125 5.8125 \r\nQ 3.328125 12.796875 3.328125 25.921875 \r\nz\r\nM 12.359375 25.921875 \r\nQ 12.359375 15.96875 16.703125 11.015625 \r\nQ 21.046875 6.0625 27.640625 6.0625 \r\nQ 34.1875 6.0625 38.53125 11.03125 \r\nQ 42.875 16.015625 42.875 26.21875 \r\nQ 42.875 35.84375 38.5 40.796875 \r\nQ 34.125 45.75 27.640625 45.75 \r\nQ 21.046875 45.75 16.703125 40.8125 \r\nQ 12.359375 35.890625 12.359375 25.921875 \r\nz\r\n\" id=\"ArialMT-111\"/>\r\n       <path d=\"M 6.390625 0 \r\nL 6.390625 71.578125 \r\nL 15.1875 71.578125 \r\nL 15.1875 0 \r\nz\r\n\" id=\"ArialMT-108\"/>\r\n       <path d=\"M 14.703125 0 \r\nL 6.546875 0 \r\nL 6.546875 71.578125 \r\nL 15.328125 71.578125 \r\nL 15.328125 46.046875 \r\nQ 20.90625 53.03125 29.546875 53.03125 \r\nQ 34.328125 53.03125 38.59375 51.09375 \r\nQ 42.875 49.171875 45.625 45.671875 \r\nQ 48.390625 42.1875 49.953125 37.25 \r\nQ 51.515625 32.328125 51.515625 26.703125 \r\nQ 51.515625 13.375 44.921875 6.09375 \r\nQ 38.328125 -1.171875 29.109375 -1.171875 \r\nQ 19.921875 -1.171875 14.703125 6.5 \r\nz\r\nM 14.59375 26.3125 \r\nQ 14.59375 17 17.140625 12.84375 \r\nQ 21.296875 6.0625 28.375 6.0625 \r\nQ 34.125 6.0625 38.328125 11.0625 \r\nQ 42.53125 16.0625 42.53125 25.984375 \r\nQ 42.53125 36.140625 38.5 40.96875 \r\nQ 34.46875 45.796875 28.765625 45.796875 \r\nQ 23 45.796875 18.796875 40.796875 \r\nQ 14.59375 35.796875 14.59375 26.3125 \r\nz\r\n\" id=\"ArialMT-98\"/>\r\n       <path d=\"M 40.4375 6.390625 \r\nQ 35.546875 2.25 31.03125 0.53125 \r\nQ 26.515625 -1.171875 21.34375 -1.171875 \r\nQ 12.796875 -1.171875 8.203125 3 \r\nQ 3.609375 7.171875 3.609375 13.671875 \r\nQ 3.609375 17.484375 5.34375 20.625 \r\nQ 7.078125 23.78125 9.890625 25.6875 \r\nQ 12.703125 27.59375 16.21875 28.5625 \r\nQ 18.796875 29.25 24.03125 29.890625 \r\nQ 34.671875 31.15625 39.703125 32.90625 \r\nQ 39.75 34.71875 39.75 35.203125 \r\nQ 39.75 40.578125 37.25 42.78125 \r\nQ 33.890625 45.75 27.25 45.75 \r\nQ 21.046875 45.75 18.09375 43.578125 \r\nQ 15.140625 41.40625 13.71875 35.890625 \r\nL 5.125 37.0625 \r\nQ 6.296875 42.578125 8.984375 45.96875 \r\nQ 11.671875 49.359375 16.75 51.1875 \r\nQ 21.828125 53.03125 28.515625 53.03125 \r\nQ 35.15625 53.03125 39.296875 51.46875 \r\nQ 43.453125 49.90625 45.40625 47.53125 \r\nQ 47.359375 45.171875 48.140625 41.546875 \r\nQ 48.578125 39.3125 48.578125 33.453125 \r\nL 48.578125 21.734375 \r\nQ 48.578125 9.46875 49.140625 6.21875 \r\nQ 49.703125 2.984375 51.375 0 \r\nL 42.1875 0 \r\nQ 40.828125 2.734375 40.4375 6.390625 \r\nz\r\nM 39.703125 26.03125 \r\nQ 34.90625 24.078125 25.34375 22.703125 \r\nQ 19.921875 21.921875 17.671875 20.9375 \r\nQ 15.4375 19.96875 14.203125 18.09375 \r\nQ 12.984375 16.21875 12.984375 13.921875 \r\nQ 12.984375 10.40625 15.640625 8.0625 \r\nQ 18.3125 5.71875 23.4375 5.71875 \r\nQ 28.515625 5.71875 32.46875 7.9375 \r\nQ 36.421875 10.15625 38.28125 14.015625 \r\nQ 39.703125 17 39.703125 22.796875 \r\nz\r\n\" id=\"ArialMT-97\"/>\r\n       <path d=\"M 40.4375 19 \r\nL 49.078125 17.875 \r\nQ 47.65625 8.9375 41.8125 3.875 \r\nQ 35.984375 -1.171875 27.484375 -1.171875 \r\nQ 16.84375 -1.171875 10.375 5.78125 \r\nQ 3.90625 12.75 3.90625 25.734375 \r\nQ 3.90625 34.125 6.6875 40.421875 \r\nQ 9.46875 46.734375 15.15625 49.875 \r\nQ 20.84375 53.03125 27.546875 53.03125 \r\nQ 35.984375 53.03125 41.359375 48.75 \r\nQ 46.734375 44.484375 48.25 36.625 \r\nL 39.703125 35.296875 \r\nQ 38.484375 40.53125 35.375 43.15625 \r\nQ 32.28125 45.796875 27.875 45.796875 \r\nQ 21.234375 45.796875 17.078125 41.03125 \r\nQ 12.9375 36.28125 12.9375 25.984375 \r\nQ 12.9375 15.53125 16.9375 10.796875 \r\nQ 20.953125 6.0625 27.390625 6.0625 \r\nQ 32.5625 6.0625 36.03125 9.234375 \r\nQ 39.5 12.40625 40.4375 19 \r\nz\r\n\" id=\"ArialMT-99\"/>\r\n       <path d=\"M 6.640625 0 \r\nL 6.640625 71.578125 \r\nL 15.4375 71.578125 \r\nL 15.4375 30.765625 \r\nL 36.234375 51.859375 \r\nL 47.609375 51.859375 \r\nL 27.78125 32.625 \r\nL 49.609375 0 \r\nL 38.765625 0 \r\nL 21.625 26.515625 \r\nL 15.4375 20.5625 \r\nL 15.4375 0 \r\nz\r\n\" id=\"ArialMT-107\"/>\r\n       <path d=\"M 42.09375 16.703125 \r\nL 51.171875 15.578125 \r\nQ 49.03125 7.625 43.21875 3.21875 \r\nQ 37.40625 -1.171875 28.375 -1.171875 \r\nQ 17 -1.171875 10.328125 5.828125 \r\nQ 3.65625 12.84375 3.65625 25.484375 \r\nQ 3.65625 38.578125 10.390625 45.796875 \r\nQ 17.140625 53.03125 27.875 53.03125 \r\nQ 38.28125 53.03125 44.875 45.953125 \r\nQ 51.46875 38.875 51.46875 26.03125 \r\nQ 51.46875 25.25 51.421875 23.6875 \r\nL 12.75 23.6875 \r\nQ 13.234375 15.140625 17.578125 10.59375 \r\nQ 21.921875 6.0625 28.421875 6.0625 \r\nQ 33.25 6.0625 36.671875 8.59375 \r\nQ 40.09375 11.140625 42.09375 16.703125 \r\nz\r\nM 13.234375 30.90625 \r\nL 42.1875 30.90625 \r\nQ 41.609375 37.453125 38.875 40.71875 \r\nQ 34.671875 45.796875 27.984375 45.796875 \r\nQ 21.921875 45.796875 17.796875 41.75 \r\nQ 13.671875 37.703125 13.234375 30.90625 \r\nz\r\n\" id=\"ArialMT-101\"/>\r\n      </defs>\r\n      <g style=\"fill:#262626;\" transform=\"translate(48.9 323.348906)scale(0.1 -0.1)\">\r\n       <use xlink:href=\"#ArialMT-114\"/>\r\n       <use x=\"33.300781\" xlink:href=\"#ArialMT-111\"/>\r\n       <use x=\"88.916016\" xlink:href=\"#ArialMT-108\"/>\r\n       <use x=\"111.132812\" xlink:href=\"#ArialMT-108\"/>\r\n       <use x=\"133.349609\" xlink:href=\"#ArialMT-98\"/>\r\n       <use x=\"188.964844\" xlink:href=\"#ArialMT-97\"/>\r\n       <use x=\"244.580078\" xlink:href=\"#ArialMT-99\"/>\r\n       <use x=\"294.580078\" xlink:href=\"#ArialMT-107\"/>\r\n       <use x=\"344.580078\" xlink:href=\"#ArialMT-101\"/>\r\n       <use x=\"400.195312\" xlink:href=\"#ArialMT-114\"/>\r\n      </g>\r\n     </g>\r\n    </g>\r\n    <g id=\"ytick_2\">\r\n     <g id=\"line2d_6\">\r\n      <path clip-path=\"url(#p69724dc21b)\" d=\"M 99.246875 292.59 \r\nL 266.646875 292.59 \r\n\" style=\"fill:none;stroke:#cccccc;stroke-linecap:round;stroke-width:0.8;\"/>\r\n     </g>\r\n     <g id=\"text_6\">\r\n      <!-- eliminator -->\r\n      <defs>\r\n       <path d=\"M 6.640625 61.46875 \r\nL 6.640625 71.578125 \r\nL 15.4375 71.578125 \r\nL 15.4375 61.46875 \r\nz\r\nM 6.640625 0 \r\nL 6.640625 51.859375 \r\nL 15.4375 51.859375 \r\nL 15.4375 0 \r\nz\r\n\" id=\"ArialMT-105\"/>\r\n       <path d=\"M 6.59375 0 \r\nL 6.59375 51.859375 \r\nL 14.453125 51.859375 \r\nL 14.453125 44.578125 \r\nQ 16.890625 48.390625 20.9375 50.703125 \r\nQ 25 53.03125 30.171875 53.03125 \r\nQ 35.9375 53.03125 39.625 50.640625 \r\nQ 43.3125 48.25 44.828125 43.953125 \r\nQ 50.984375 53.03125 60.84375 53.03125 \r\nQ 68.5625 53.03125 72.703125 48.75 \r\nQ 76.859375 44.484375 76.859375 35.59375 \r\nL 76.859375 0 \r\nL 68.109375 0 \r\nL 68.109375 32.671875 \r\nQ 68.109375 37.9375 67.25 40.25 \r\nQ 66.40625 42.578125 64.15625 43.984375 \r\nQ 61.921875 45.40625 58.890625 45.40625 \r\nQ 53.421875 45.40625 49.796875 41.765625 \r\nQ 46.1875 38.140625 46.1875 30.125 \r\nL 46.1875 0 \r\nL 37.40625 0 \r\nL 37.40625 33.6875 \r\nQ 37.40625 39.546875 35.25 42.46875 \r\nQ 33.109375 45.40625 28.21875 45.40625 \r\nQ 24.515625 45.40625 21.359375 43.453125 \r\nQ 18.21875 41.5 16.796875 37.734375 \r\nQ 15.375 33.984375 15.375 26.90625 \r\nL 15.375 0 \r\nz\r\n\" id=\"ArialMT-109\"/>\r\n       <path d=\"M 6.59375 0 \r\nL 6.59375 51.859375 \r\nL 14.5 51.859375 \r\nL 14.5 44.484375 \r\nQ 20.21875 53.03125 31 53.03125 \r\nQ 35.6875 53.03125 39.625 51.34375 \r\nQ 43.5625 49.65625 45.515625 46.921875 \r\nQ 47.46875 44.1875 48.25 40.4375 \r\nQ 48.734375 37.984375 48.734375 31.890625 \r\nL 48.734375 0 \r\nL 39.9375 0 \r\nL 39.9375 31.546875 \r\nQ 39.9375 36.921875 38.90625 39.578125 \r\nQ 37.890625 42.234375 35.28125 43.8125 \r\nQ 32.671875 45.40625 29.15625 45.40625 \r\nQ 23.53125 45.40625 19.453125 41.84375 \r\nQ 15.375 38.28125 15.375 28.328125 \r\nL 15.375 0 \r\nz\r\n\" id=\"ArialMT-110\"/>\r\n       <path d=\"M 25.78125 7.859375 \r\nL 27.046875 0.09375 \r\nQ 23.34375 -0.6875 20.40625 -0.6875 \r\nQ 15.625 -0.6875 12.984375 0.828125 \r\nQ 10.359375 2.34375 9.28125 4.8125 \r\nQ 8.203125 7.28125 8.203125 15.1875 \r\nL 8.203125 45.015625 \r\nL 1.765625 45.015625 \r\nL 1.765625 51.859375 \r\nL 8.203125 51.859375 \r\nL 8.203125 64.703125 \r\nL 16.9375 69.96875 \r\nL 16.9375 51.859375 \r\nL 25.78125 51.859375 \r\nL 25.78125 45.015625 \r\nL 16.9375 45.015625 \r\nL 16.9375 14.703125 \r\nQ 16.9375 10.9375 17.40625 9.859375 \r\nQ 17.875 8.796875 18.921875 8.15625 \r\nQ 19.96875 7.515625 21.921875 7.515625 \r\nQ 23.390625 7.515625 25.78125 7.859375 \r\nz\r\n\" id=\"ArialMT-116\"/>\r\n      </defs>\r\n      <g style=\"fill:#262626;\" transform=\"translate(48.9 296.168906)scale(0.1 -0.1)\">\r\n       <use xlink:href=\"#ArialMT-101\"/>\r\n       <use x=\"55.615234\" xlink:href=\"#ArialMT-108\"/>\r\n       <use x=\"77.832031\" xlink:href=\"#ArialMT-105\"/>\r\n       <use x=\"100.048828\" xlink:href=\"#ArialMT-109\"/>\r\n       <use x=\"183.349609\" xlink:href=\"#ArialMT-105\"/>\r\n       <use x=\"205.566406\" xlink:href=\"#ArialMT-110\"/>\r\n       <use x=\"261.181641\" xlink:href=\"#ArialMT-97\"/>\r\n       <use x=\"316.796875\" xlink:href=\"#ArialMT-116\"/>\r\n       <use x=\"344.580078\" xlink:href=\"#ArialMT-111\"/>\r\n       <use x=\"400.195312\" xlink:href=\"#ArialMT-114\"/>\r\n      </g>\r\n     </g>\r\n    </g>\r\n    <g id=\"ytick_3\">\r\n     <g id=\"line2d_7\">\r\n      <path clip-path=\"url(#p69724dc21b)\" d=\"M 99.246875 265.41 \r\nL 266.646875 265.41 \r\n\" style=\"fill:none;stroke:#cccccc;stroke-linecap:round;stroke-width:0.8;\"/>\r\n     </g>\r\n     <g id=\"text_7\">\r\n      <!-- ipblock-exempt -->\r\n      <defs>\r\n       <path d=\"M 6.59375 -19.875 \r\nL 6.59375 51.859375 \r\nL 14.59375 51.859375 \r\nL 14.59375 45.125 \r\nQ 17.4375 49.078125 21 51.046875 \r\nQ 24.5625 53.03125 29.640625 53.03125 \r\nQ 36.28125 53.03125 41.359375 49.609375 \r\nQ 46.4375 46.1875 49.015625 39.953125 \r\nQ 51.609375 33.734375 51.609375 26.3125 \r\nQ 51.609375 18.359375 48.75 11.984375 \r\nQ 45.90625 5.609375 40.453125 2.21875 \r\nQ 35.015625 -1.171875 29 -1.171875 \r\nQ 24.609375 -1.171875 21.109375 0.6875 \r\nQ 17.625 2.546875 15.375 5.375 \r\nL 15.375 -19.875 \r\nz\r\nM 14.546875 25.640625 \r\nQ 14.546875 15.625 18.59375 10.84375 \r\nQ 22.65625 6.0625 28.421875 6.0625 \r\nQ 34.28125 6.0625 38.453125 11.015625 \r\nQ 42.625 15.96875 42.625 26.375 \r\nQ 42.625 36.28125 38.546875 41.203125 \r\nQ 34.46875 46.140625 28.8125 46.140625 \r\nQ 23.1875 46.140625 18.859375 40.890625 \r\nQ 14.546875 35.640625 14.546875 25.640625 \r\nz\r\n\" id=\"ArialMT-112\"/>\r\n       <path d=\"M 3.171875 21.484375 \r\nL 3.171875 30.328125 \r\nL 30.171875 30.328125 \r\nL 30.171875 21.484375 \r\nz\r\n\" id=\"ArialMT-45\"/>\r\n       <path d=\"M 0.734375 0 \r\nL 19.671875 26.953125 \r\nL 2.15625 51.859375 \r\nL 13.140625 51.859375 \r\nL 21.09375 39.703125 \r\nQ 23.34375 36.234375 24.703125 33.890625 \r\nQ 26.859375 37.109375 28.65625 39.59375 \r\nL 37.40625 51.859375 \r\nL 47.90625 51.859375 \r\nL 29.984375 27.4375 \r\nL 49.265625 0 \r\nL 38.484375 0 \r\nL 27.828125 16.109375 \r\nL 25 20.453125 \r\nL 11.375 0 \r\nz\r\n\" id=\"ArialMT-120\"/>\r\n      </defs>\r\n      <g style=\"fill:#262626;\" transform=\"translate(25 268.988906)scale(0.1 -0.1)\">\r\n       <use xlink:href=\"#ArialMT-105\"/>\r\n       <use x=\"22.216797\" xlink:href=\"#ArialMT-112\"/>\r\n       <use x=\"77.832031\" xlink:href=\"#ArialMT-98\"/>\r\n       <use x=\"133.447266\" xlink:href=\"#ArialMT-108\"/>\r\n       <use x=\"155.664062\" xlink:href=\"#ArialMT-111\"/>\r\n       <use x=\"211.279297\" xlink:href=\"#ArialMT-99\"/>\r\n       <use x=\"261.279297\" xlink:href=\"#ArialMT-107\"/>\r\n       <use x=\"311.279297\" xlink:href=\"#ArialMT-45\"/>\r\n       <use x=\"344.580078\" xlink:href=\"#ArialMT-101\"/>\r\n       <use x=\"400.195312\" xlink:href=\"#ArialMT-120\"/>\r\n       <use x=\"450.195312\" xlink:href=\"#ArialMT-101\"/>\r\n       <use x=\"505.810547\" xlink:href=\"#ArialMT-109\"/>\r\n       <use x=\"589.111328\" xlink:href=\"#ArialMT-112\"/>\r\n       <use x=\"644.726562\" xlink:href=\"#ArialMT-116\"/>\r\n      </g>\r\n     </g>\r\n    </g>\r\n    <g id=\"ytick_4\">\r\n     <g id=\"line2d_8\">\r\n      <path clip-path=\"url(#p69724dc21b)\" d=\"M 99.246875 238.23 \r\nL 266.646875 238.23 \r\n\" style=\"fill:none;stroke:#cccccc;stroke-linecap:round;stroke-width:0.8;\"/>\r\n     </g>\r\n     <g id=\"text_8\">\r\n      <!-- oversight -->\r\n      <defs>\r\n       <path d=\"M 21 0 \r\nL 1.265625 51.859375 \r\nL 10.546875 51.859375 \r\nL 21.6875 20.796875 \r\nQ 23.484375 15.765625 25 10.359375 \r\nQ 26.171875 14.453125 28.265625 20.21875 \r\nL 39.796875 51.859375 \r\nL 48.828125 51.859375 \r\nL 29.203125 0 \r\nz\r\n\" id=\"ArialMT-118\"/>\r\n       <path d=\"M 3.078125 15.484375 \r\nL 11.765625 16.84375 \r\nQ 12.5 11.625 15.84375 8.84375 \r\nQ 19.1875 6.0625 25.203125 6.0625 \r\nQ 31.25 6.0625 34.171875 8.515625 \r\nQ 37.109375 10.984375 37.109375 14.3125 \r\nQ 37.109375 17.28125 34.515625 19 \r\nQ 32.71875 20.171875 25.53125 21.96875 \r\nQ 15.875 24.421875 12.140625 26.203125 \r\nQ 8.40625 27.984375 6.46875 31.125 \r\nQ 4.546875 34.28125 4.546875 38.09375 \r\nQ 4.546875 41.546875 6.125 44.5 \r\nQ 7.71875 47.46875 10.453125 49.421875 \r\nQ 12.5 50.921875 16.03125 51.96875 \r\nQ 19.578125 53.03125 23.640625 53.03125 \r\nQ 29.734375 53.03125 34.34375 51.265625 \r\nQ 38.96875 49.515625 41.15625 46.5 \r\nQ 43.359375 43.5 44.1875 38.484375 \r\nL 35.59375 37.3125 \r\nQ 35.015625 41.3125 32.203125 43.546875 \r\nQ 29.390625 45.796875 24.265625 45.796875 \r\nQ 18.21875 45.796875 15.625 43.796875 \r\nQ 13.03125 41.796875 13.03125 39.109375 \r\nQ 13.03125 37.40625 14.109375 36.03125 \r\nQ 15.1875 34.625 17.484375 33.6875 \r\nQ 18.796875 33.203125 25.25 31.453125 \r\nQ 34.578125 28.953125 38.25 27.359375 \r\nQ 41.9375 25.78125 44.03125 22.75 \r\nQ 46.140625 19.734375 46.140625 15.234375 \r\nQ 46.140625 10.84375 43.578125 6.953125 \r\nQ 41.015625 3.078125 36.171875 0.953125 \r\nQ 31.34375 -1.171875 25.25 -1.171875 \r\nQ 15.140625 -1.171875 9.84375 3.03125 \r\nQ 4.546875 7.234375 3.078125 15.484375 \r\nz\r\n\" id=\"ArialMT-115\"/>\r\n       <path d=\"M 4.984375 -4.296875 \r\nL 13.53125 -5.5625 \r\nQ 14.0625 -9.515625 16.5 -11.328125 \r\nQ 19.78125 -13.765625 25.4375 -13.765625 \r\nQ 31.546875 -13.765625 34.859375 -11.328125 \r\nQ 38.1875 -8.890625 39.359375 -4.5 \r\nQ 40.046875 -1.8125 39.984375 6.78125 \r\nQ 34.234375 0 25.640625 0 \r\nQ 14.9375 0 9.078125 7.71875 \r\nQ 3.21875 15.4375 3.21875 26.21875 \r\nQ 3.21875 33.640625 5.90625 39.90625 \r\nQ 8.59375 46.1875 13.6875 49.609375 \r\nQ 18.796875 53.03125 25.6875 53.03125 \r\nQ 34.859375 53.03125 40.828125 45.609375 \r\nL 40.828125 51.859375 \r\nL 48.921875 51.859375 \r\nL 48.921875 7.03125 \r\nQ 48.921875 -5.078125 46.453125 -10.125 \r\nQ 44 -15.1875 38.640625 -18.109375 \r\nQ 33.296875 -21.046875 25.484375 -21.046875 \r\nQ 16.21875 -21.046875 10.5 -16.875 \r\nQ 4.78125 -12.703125 4.984375 -4.296875 \r\nz\r\nM 12.25 26.859375 \r\nQ 12.25 16.65625 16.296875 11.96875 \r\nQ 20.359375 7.28125 26.46875 7.28125 \r\nQ 32.515625 7.28125 36.609375 11.9375 \r\nQ 40.71875 16.609375 40.71875 26.5625 \r\nQ 40.71875 36.078125 36.5 40.90625 \r\nQ 32.28125 45.75 26.3125 45.75 \r\nQ 20.453125 45.75 16.34375 40.984375 \r\nQ 12.25 36.234375 12.25 26.859375 \r\nz\r\n\" id=\"ArialMT-103\"/>\r\n       <path d=\"M 6.59375 0 \r\nL 6.59375 71.578125 \r\nL 15.375 71.578125 \r\nL 15.375 45.90625 \r\nQ 21.53125 53.03125 30.90625 53.03125 \r\nQ 36.671875 53.03125 40.921875 50.75 \r\nQ 45.171875 48.484375 47 44.484375 \r\nQ 48.828125 40.484375 48.828125 32.859375 \r\nL 48.828125 0 \r\nL 40.046875 0 \r\nL 40.046875 32.859375 \r\nQ 40.046875 39.453125 37.1875 42.453125 \r\nQ 34.328125 45.453125 29.109375 45.453125 \r\nQ 25.203125 45.453125 21.75 43.421875 \r\nQ 18.3125 41.40625 16.84375 37.9375 \r\nQ 15.375 34.46875 15.375 28.375 \r\nL 15.375 0 \r\nz\r\n\" id=\"ArialMT-104\"/>\r\n      </defs>\r\n      <g style=\"fill:#262626;\" transform=\"translate(51.673437 241.808906)scale(0.1 -0.1)\">\r\n       <use xlink:href=\"#ArialMT-111\"/>\r\n       <use x=\"55.615234\" xlink:href=\"#ArialMT-118\"/>\r\n       <use x=\"105.615234\" xlink:href=\"#ArialMT-101\"/>\r\n       <use x=\"161.230469\" xlink:href=\"#ArialMT-114\"/>\r\n       <use x=\"194.53125\" xlink:href=\"#ArialMT-115\"/>\r\n       <use x=\"244.53125\" xlink:href=\"#ArialMT-105\"/>\r\n       <use x=\"266.748047\" xlink:href=\"#ArialMT-103\"/>\r\n       <use x=\"322.363281\" xlink:href=\"#ArialMT-104\"/>\r\n       <use x=\"377.978516\" xlink:href=\"#ArialMT-116\"/>\r\n      </g>\r\n     </g>\r\n    </g>\r\n    <g id=\"ytick_5\">\r\n     <g id=\"line2d_9\">\r\n      <path clip-path=\"url(#p69724dc21b)\" d=\"M 99.246875 211.05 \r\nL 266.646875 211.05 \r\n\" style=\"fill:none;stroke:#cccccc;stroke-linecap:round;stroke-width:0.8;\"/>\r\n     </g>\r\n     <g id=\"text_9\">\r\n      <!-- checkuser -->\r\n      <defs>\r\n       <path d=\"M 40.578125 0 \r\nL 40.578125 7.625 \r\nQ 34.515625 -1.171875 24.125 -1.171875 \r\nQ 19.53125 -1.171875 15.546875 0.578125 \r\nQ 11.578125 2.34375 9.640625 5 \r\nQ 7.71875 7.671875 6.9375 11.53125 \r\nQ 6.390625 14.109375 6.390625 19.734375 \r\nL 6.390625 51.859375 \r\nL 15.1875 51.859375 \r\nL 15.1875 23.09375 \r\nQ 15.1875 16.21875 15.71875 13.8125 \r\nQ 16.546875 10.359375 19.234375 8.375 \r\nQ 21.921875 6.390625 25.875 6.390625 \r\nQ 29.828125 6.390625 33.296875 8.421875 \r\nQ 36.765625 10.453125 38.203125 13.9375 \r\nQ 39.65625 17.4375 39.65625 24.078125 \r\nL 39.65625 51.859375 \r\nL 48.4375 51.859375 \r\nL 48.4375 0 \r\nz\r\n\" id=\"ArialMT-117\"/>\r\n      </defs>\r\n      <g style=\"fill:#262626;\" transform=\"translate(46.673437 214.628906)scale(0.1 -0.1)\">\r\n       <use xlink:href=\"#ArialMT-99\"/>\r\n       <use x=\"50\" xlink:href=\"#ArialMT-104\"/>\r\n       <use x=\"105.615234\" xlink:href=\"#ArialMT-101\"/>\r\n       <use x=\"161.230469\" xlink:href=\"#ArialMT-99\"/>\r\n       <use x=\"211.230469\" xlink:href=\"#ArialMT-107\"/>\r\n       <use x=\"261.230469\" xlink:href=\"#ArialMT-117\"/>\r\n       <use x=\"316.845703\" xlink:href=\"#ArialMT-115\"/>\r\n       <use x=\"366.845703\" xlink:href=\"#ArialMT-101\"/>\r\n       <use x=\"422.460938\" xlink:href=\"#ArialMT-114\"/>\r\n      </g>\r\n     </g>\r\n    </g>\r\n    <g id=\"ytick_6\">\r\n     <g id=\"line2d_10\">\r\n      <path clip-path=\"url(#p69724dc21b)\" d=\"M 99.246875 183.87 \r\nL 266.646875 183.87 \r\n\" style=\"fill:none;stroke:#cccccc;stroke-linecap:round;stroke-width:0.8;\"/>\r\n     </g>\r\n     <g id=\"text_10\">\r\n      <!-- bureaucrat -->\r\n      <g style=\"fill:#262626;\" transform=\"translate(44.44375 187.448906)scale(0.1 -0.1)\">\r\n       <use xlink:href=\"#ArialMT-98\"/>\r\n       <use x=\"55.615234\" xlink:href=\"#ArialMT-117\"/>\r\n       <use x=\"111.230469\" xlink:href=\"#ArialMT-114\"/>\r\n       <use x=\"144.53125\" xlink:href=\"#ArialMT-101\"/>\r\n       <use x=\"200.146484\" xlink:href=\"#ArialMT-97\"/>\r\n       <use x=\"255.761719\" xlink:href=\"#ArialMT-117\"/>\r\n       <use x=\"311.376953\" xlink:href=\"#ArialMT-99\"/>\r\n       <use x=\"361.376953\" xlink:href=\"#ArialMT-114\"/>\r\n       <use x=\"394.677734\" xlink:href=\"#ArialMT-97\"/>\r\n       <use x=\"450.292969\" xlink:href=\"#ArialMT-116\"/>\r\n      </g>\r\n     </g>\r\n    </g>\r\n    <g id=\"ytick_7\">\r\n     <g id=\"line2d_11\">\r\n      <path clip-path=\"url(#p69724dc21b)\" d=\"M 99.246875 156.69 \r\nL 266.646875 156.69 \r\n\" style=\"fill:none;stroke:#cccccc;stroke-linecap:round;stroke-width:0.8;\"/>\r\n     </g>\r\n     <g id=\"text_11\">\r\n      <!-- interface-admin -->\r\n      <defs>\r\n       <path d=\"M 8.6875 0 \r\nL 8.6875 45.015625 \r\nL 0.921875 45.015625 \r\nL 0.921875 51.859375 \r\nL 8.6875 51.859375 \r\nL 8.6875 57.375 \r\nQ 8.6875 62.59375 9.625 65.140625 \r\nQ 10.890625 68.5625 14.078125 70.671875 \r\nQ 17.28125 72.796875 23.046875 72.796875 \r\nQ 26.765625 72.796875 31.25 71.921875 \r\nL 29.9375 64.265625 \r\nQ 27.203125 64.75 24.75 64.75 \r\nQ 20.75 64.75 19.09375 63.03125 \r\nQ 17.4375 61.328125 17.4375 56.640625 \r\nL 17.4375 51.859375 \r\nL 27.546875 51.859375 \r\nL 27.546875 45.015625 \r\nL 17.4375 45.015625 \r\nL 17.4375 0 \r\nz\r\n\" id=\"ArialMT-102\"/>\r\n       <path d=\"M 40.234375 0 \r\nL 40.234375 6.546875 \r\nQ 35.296875 -1.171875 25.734375 -1.171875 \r\nQ 19.53125 -1.171875 14.328125 2.25 \r\nQ 9.125 5.671875 6.265625 11.796875 \r\nQ 3.421875 17.921875 3.421875 25.875 \r\nQ 3.421875 33.640625 6 39.96875 \r\nQ 8.59375 46.296875 13.765625 49.65625 \r\nQ 18.953125 53.03125 25.34375 53.03125 \r\nQ 30.03125 53.03125 33.6875 51.046875 \r\nQ 37.359375 49.078125 39.65625 45.90625 \r\nL 39.65625 71.578125 \r\nL 48.390625 71.578125 \r\nL 48.390625 0 \r\nz\r\nM 12.453125 25.875 \r\nQ 12.453125 15.921875 16.640625 10.984375 \r\nQ 20.84375 6.0625 26.5625 6.0625 \r\nQ 32.328125 6.0625 36.34375 10.765625 \r\nQ 40.375 15.484375 40.375 25.140625 \r\nQ 40.375 35.796875 36.265625 40.765625 \r\nQ 32.171875 45.75 26.171875 45.75 \r\nQ 20.3125 45.75 16.375 40.96875 \r\nQ 12.453125 36.1875 12.453125 25.875 \r\nz\r\n\" id=\"ArialMT-100\"/>\r\n      </defs>\r\n      <g style=\"fill:#262626;\" transform=\"translate(23.33125 160.268906)scale(0.1 -0.1)\">\r\n       <use xlink:href=\"#ArialMT-105\"/>\r\n       <use x=\"22.216797\" xlink:href=\"#ArialMT-110\"/>\r\n       <use x=\"77.832031\" xlink:href=\"#ArialMT-116\"/>\r\n       <use x=\"105.615234\" xlink:href=\"#ArialMT-101\"/>\r\n       <use x=\"161.230469\" xlink:href=\"#ArialMT-114\"/>\r\n       <use x=\"194.53125\" xlink:href=\"#ArialMT-102\"/>\r\n       <use x=\"222.314453\" xlink:href=\"#ArialMT-97\"/>\r\n       <use x=\"277.929688\" xlink:href=\"#ArialMT-99\"/>\r\n       <use x=\"327.929688\" xlink:href=\"#ArialMT-101\"/>\r\n       <use x=\"383.544922\" xlink:href=\"#ArialMT-45\"/>\r\n       <use x=\"416.845703\" xlink:href=\"#ArialMT-97\"/>\r\n       <use x=\"472.460938\" xlink:href=\"#ArialMT-100\"/>\r\n       <use x=\"528.076172\" xlink:href=\"#ArialMT-109\"/>\r\n       <use x=\"611.376953\" xlink:href=\"#ArialMT-105\"/>\r\n       <use x=\"633.59375\" xlink:href=\"#ArialMT-110\"/>\r\n      </g>\r\n     </g>\r\n    </g>\r\n    <g id=\"ytick_8\">\r\n     <g id=\"line2d_12\">\r\n      <path clip-path=\"url(#p69724dc21b)\" d=\"M 99.246875 129.51 \r\nL 266.646875 129.51 \r\n\" style=\"fill:none;stroke:#cccccc;stroke-linecap:round;stroke-width:0.8;\"/>\r\n     </g>\r\n     <g id=\"text_12\">\r\n      <!-- abusefilter -->\r\n      <g style=\"fill:#262626;\" transform=\"translate(46.1125 133.088906)scale(0.1 -0.1)\">\r\n       <use xlink:href=\"#ArialMT-97\"/>\r\n       <use x=\"55.615234\" xlink:href=\"#ArialMT-98\"/>\r\n       <use x=\"111.230469\" xlink:href=\"#ArialMT-117\"/>\r\n       <use x=\"166.845703\" xlink:href=\"#ArialMT-115\"/>\r\n       <use x=\"216.845703\" xlink:href=\"#ArialMT-101\"/>\r\n       <use x=\"272.460938\" xlink:href=\"#ArialMT-102\"/>\r\n       <use x=\"300.244141\" xlink:href=\"#ArialMT-105\"/>\r\n       <use x=\"322.460938\" xlink:href=\"#ArialMT-108\"/>\r\n       <use x=\"344.677734\" xlink:href=\"#ArialMT-116\"/>\r\n       <use x=\"372.460938\" xlink:href=\"#ArialMT-101\"/>\r\n       <use x=\"428.076172\" xlink:href=\"#ArialMT-114\"/>\r\n      </g>\r\n     </g>\r\n    </g>\r\n    <g id=\"ytick_9\">\r\n     <g id=\"line2d_13\">\r\n      <path clip-path=\"url(#p69724dc21b)\" d=\"M 99.246875 102.33 \r\nL 266.646875 102.33 \r\n\" style=\"fill:none;stroke:#cccccc;stroke-linecap:round;stroke-width:0.8;\"/>\r\n     </g>\r\n     <g id=\"text_13\">\r\n      <!-- sysop -->\r\n      <defs>\r\n       <path d=\"M 6.203125 -19.96875 \r\nL 5.21875 -11.71875 \r\nQ 8.109375 -12.5 10.25 -12.5 \r\nQ 13.1875 -12.5 14.9375 -11.515625 \r\nQ 16.703125 -10.546875 17.828125 -8.796875 \r\nQ 18.65625 -7.46875 20.515625 -2.25 \r\nQ 20.75 -1.515625 21.296875 -0.09375 \r\nL 1.609375 51.859375 \r\nL 11.078125 51.859375 \r\nL 21.875 21.828125 \r\nQ 23.96875 16.109375 25.640625 9.8125 \r\nQ 27.15625 15.875 29.25 21.625 \r\nL 40.328125 51.859375 \r\nL 49.125 51.859375 \r\nL 29.390625 -0.875 \r\nQ 26.21875 -9.421875 24.46875 -12.640625 \r\nQ 22.125 -17 19.09375 -19.015625 \r\nQ 16.0625 -21.046875 11.859375 -21.046875 \r\nQ 9.328125 -21.046875 6.203125 -19.96875 \r\nz\r\n\" id=\"ArialMT-121\"/>\r\n      </defs>\r\n      <g style=\"fill:#262626;\" transform=\"translate(66.125 105.850312)scale(0.1 -0.1)\">\r\n       <use xlink:href=\"#ArialMT-115\"/>\r\n       <use x=\"50\" xlink:href=\"#ArialMT-121\"/>\r\n       <use x=\"100\" xlink:href=\"#ArialMT-115\"/>\r\n       <use x=\"150\" xlink:href=\"#ArialMT-111\"/>\r\n       <use x=\"205.615234\" xlink:href=\"#ArialMT-112\"/>\r\n      </g>\r\n     </g>\r\n    </g>\r\n    <g id=\"ytick_10\">\r\n     <g id=\"line2d_14\">\r\n      <path clip-path=\"url(#p69724dc21b)\" d=\"M 99.246875 75.15 \r\nL 266.646875 75.15 \r\n\" style=\"fill:none;stroke:#cccccc;stroke-linecap:round;stroke-width:0.8;\"/>\r\n     </g>\r\n     <g id=\"text_14\">\r\n      <!-- extendedconfirmed -->\r\n      <g style=\"fill:#262626;\" transform=\"translate(7.2 78.728906)scale(0.1 -0.1)\">\r\n       <use xlink:href=\"#ArialMT-101\"/>\r\n       <use x=\"55.615234\" xlink:href=\"#ArialMT-120\"/>\r\n       <use x=\"105.615234\" xlink:href=\"#ArialMT-116\"/>\r\n       <use x=\"133.398438\" xlink:href=\"#ArialMT-101\"/>\r\n       <use x=\"189.013672\" xlink:href=\"#ArialMT-110\"/>\r\n       <use x=\"244.628906\" xlink:href=\"#ArialMT-100\"/>\r\n       <use x=\"300.244141\" xlink:href=\"#ArialMT-101\"/>\r\n       <use x=\"355.859375\" xlink:href=\"#ArialMT-100\"/>\r\n       <use x=\"411.474609\" xlink:href=\"#ArialMT-99\"/>\r\n       <use x=\"461.474609\" xlink:href=\"#ArialMT-111\"/>\r\n       <use x=\"517.089844\" xlink:href=\"#ArialMT-110\"/>\r\n       <use x=\"572.705078\" xlink:href=\"#ArialMT-102\"/>\r\n       <use x=\"600.488281\" xlink:href=\"#ArialMT-105\"/>\r\n       <use x=\"622.705078\" xlink:href=\"#ArialMT-114\"/>\r\n       <use x=\"656.005859\" xlink:href=\"#ArialMT-109\"/>\r\n       <use x=\"739.306641\" xlink:href=\"#ArialMT-101\"/>\r\n       <use x=\"794.921875\" xlink:href=\"#ArialMT-100\"/>\r\n      </g>\r\n     </g>\r\n    </g>\r\n    <g id=\"ytick_11\">\r\n     <g id=\"line2d_15\">\r\n      <path clip-path=\"url(#p69724dc21b)\" d=\"M 99.246875 47.97 \r\nL 266.646875 47.97 \r\n\" style=\"fill:none;stroke:#cccccc;stroke-linecap:round;stroke-width:0.8;\"/>\r\n     </g>\r\n     <g id=\"text_15\">\r\n      <!-- autoconfirmed -->\r\n      <g style=\"fill:#262626;\" transform=\"translate(28.882812 51.548906)scale(0.1 -0.1)\">\r\n       <use xlink:href=\"#ArialMT-97\"/>\r\n       <use x=\"55.615234\" xlink:href=\"#ArialMT-117\"/>\r\n       <use x=\"111.230469\" xlink:href=\"#ArialMT-116\"/>\r\n       <use x=\"139.013672\" xlink:href=\"#ArialMT-111\"/>\r\n       <use x=\"194.628906\" xlink:href=\"#ArialMT-99\"/>\r\n       <use x=\"244.628906\" xlink:href=\"#ArialMT-111\"/>\r\n       <use x=\"300.244141\" xlink:href=\"#ArialMT-110\"/>\r\n       <use x=\"355.859375\" xlink:href=\"#ArialMT-102\"/>\r\n       <use x=\"383.642578\" xlink:href=\"#ArialMT-105\"/>\r\n       <use x=\"405.859375\" xlink:href=\"#ArialMT-114\"/>\r\n       <use x=\"439.160156\" xlink:href=\"#ArialMT-109\"/>\r\n       <use x=\"522.460938\" xlink:href=\"#ArialMT-101\"/>\r\n       <use x=\"578.076172\" xlink:href=\"#ArialMT-100\"/>\r\n      </g>\r\n     </g>\r\n    </g>\r\n    <g id=\"ytick_12\">\r\n     <g id=\"line2d_16\">\r\n      <path clip-path=\"url(#p69724dc21b)\" d=\"M 99.246875 20.79 \r\nL 266.646875 20.79 \r\n\" style=\"fill:none;stroke:#cccccc;stroke-linecap:round;stroke-width:0.8;\"/>\r\n     </g>\r\n     <g id=\"text_16\">\r\n      <!-- user -->\r\n      <g style=\"fill:#262626;\" transform=\"translate(72.795312 24.368906)scale(0.1 -0.1)\">\r\n       <use xlink:href=\"#ArialMT-117\"/>\r\n       <use x=\"55.615234\" xlink:href=\"#ArialMT-115\"/>\r\n       <use x=\"105.615234\" xlink:href=\"#ArialMT-101\"/>\r\n       <use x=\"161.230469\" xlink:href=\"#ArialMT-114\"/>\r\n      </g>\r\n     </g>\r\n    </g>\r\n   </g>\r\n   <g id=\"patch_3\">\r\n    <path clip-path=\"url(#p69724dc21b)\" d=\"M -48872.758648 326.565 \r\nL 106.855966 326.565 \r\nL 106.855966 312.975 \r\nL -48872.758648 312.975 \r\nz\r\n\" style=\"fill:#1f77b4;stroke:#ffffff;stroke-linejoin:miter;\"/>\r\n   </g>\r\n   <g id=\"patch_4\">\r\n    <path clip-path=\"url(#p69724dc21b)\" d=\"M -48872.758648 299.385 \r\nL 121.660206 299.385 \r\nL 121.660206 285.795 \r\nL -48872.758648 285.795 \r\nz\r\n\" style=\"fill:#1f77b4;stroke:#ffffff;stroke-linejoin:miter;\"/>\r\n   </g>\r\n   <g id=\"patch_5\">\r\n    <path clip-path=\"url(#p69724dc21b)\" d=\"M -48872.758648 272.205 \r\nL 136.464445 272.205 \r\nL 136.464445 258.615 \r\nL -48872.758648 258.615 \r\nz\r\n\" style=\"fill:#1f77b4;stroke:#ffffff;stroke-linejoin:miter;\"/>\r\n   </g>\r\n   <g id=\"patch_6\">\r\n    <path clip-path=\"url(#p69724dc21b)\" d=\"M -48872.758648 245.025 \r\nL 136.464445 245.025 \r\nL 136.464445 231.435 \r\nL -48872.758648 231.435 \r\nz\r\n\" style=\"fill:#1f77b4;stroke:#ffffff;stroke-linejoin:miter;\"/>\r\n   </g>\r\n   <g id=\"patch_7\">\r\n    <path clip-path=\"url(#p69724dc21b)\" d=\"M -48872.758648 217.845 \r\nL 141.230346 217.845 \r\nL 141.230346 204.255 \r\nL -48872.758648 204.255 \r\nz\r\n\" style=\"fill:#1f77b4;stroke:#ffffff;stroke-linejoin:miter;\"/>\r\n   </g>\r\n   <g id=\"patch_8\">\r\n    <path clip-path=\"url(#p69724dc21b)\" d=\"M -48872.758648 190.665 \r\nL 141.230346 190.665 \r\nL 141.230346 177.075 \r\nL -48872.758648 177.075 \r\nz\r\n\" style=\"fill:#1f77b4;stroke:#ffffff;stroke-linejoin:miter;\"/>\r\n   </g>\r\n   <g id=\"patch_9\">\r\n    <path clip-path=\"url(#p69724dc21b)\" d=\"M -48872.758648 163.485 \r\nL 159.92861 163.485 \r\nL 159.92861 149.895 \r\nL -48872.758648 149.895 \r\nz\r\n\" style=\"fill:#1f77b4;stroke:#ffffff;stroke-linejoin:miter;\"/>\r\n   </g>\r\n   <g id=\"patch_10\">\r\n    <path clip-path=\"url(#p69724dc21b)\" d=\"M -48872.758648 136.305 \r\nL 178.0252 136.305 \r\nL 178.0252 122.715 \r\nL -48872.758648 122.715 \r\nz\r\n\" style=\"fill:#1f77b4;stroke:#ffffff;stroke-linejoin:miter;\"/>\r\n   </g>\r\n   <g id=\"patch_11\">\r\n    <path clip-path=\"url(#p69724dc21b)\" d=\"M -48872.758648 109.125 \r\nL 183.977962 109.125 \r\nL 183.977962 95.535 \r\nL -48872.758648 95.535 \r\nz\r\n\" style=\"fill:#1f77b4;stroke:#ffffff;stroke-linejoin:miter;\"/>\r\n   </g>\r\n   <g id=\"patch_12\">\r\n    <path clip-path=\"url(#p69724dc21b)\" d=\"M -48872.758648 81.945 \r\nL 231.96972 81.945 \r\nL 231.96972 68.355 \r\nL -48872.758648 68.355 \r\nz\r\n\" style=\"fill:#1f77b4;stroke:#ffffff;stroke-linejoin:miter;\"/>\r\n   </g>\r\n   <g id=\"patch_13\">\r\n    <path clip-path=\"url(#p69724dc21b)\" d=\"M -48872.758648 54.765 \r\nL 258.899879 54.765 \r\nL 258.899879 41.175 \r\nL -48872.758648 41.175 \r\nz\r\n\" style=\"fill:#1f77b4;stroke:#ffffff;stroke-linejoin:miter;\"/>\r\n   </g>\r\n   <g id=\"patch_14\">\r\n    <path clip-path=\"url(#p69724dc21b)\" d=\"M -48872.758648 27.585 \r\nL 259.037784 27.585 \r\nL 259.037784 13.995 \r\nL -48872.758648 13.995 \r\nz\r\n\" style=\"fill:#1f77b4;stroke:#ffffff;stroke-linejoin:miter;\"/>\r\n   </g>\r\n   <g id=\"patch_15\">\r\n    <path d=\"M 99.246875 333.36 \r\nL 99.246875 7.2 \r\n\" style=\"fill:none;stroke:#cccccc;stroke-linecap:square;stroke-linejoin:miter;stroke-width:0.8;\"/>\r\n   </g>\r\n   <g id=\"patch_16\">\r\n    <path d=\"M 266.646875 333.36 \r\nL 266.646875 7.2 \r\n\" style=\"fill:none;stroke:#cccccc;stroke-linecap:square;stroke-linejoin:miter;stroke-width:0.8;\"/>\r\n   </g>\r\n   <g id=\"patch_17\">\r\n    <path d=\"M 99.246875 333.36 \r\nL 266.646875 333.36 \r\n\" style=\"fill:none;stroke:#cccccc;stroke-linecap:square;stroke-linejoin:miter;stroke-width:0.8;\"/>\r\n   </g>\r\n   <g id=\"patch_18\">\r\n    <path d=\"M 99.246875 7.2 \r\nL 266.646875 7.2 \r\n\" style=\"fill:none;stroke:#cccccc;stroke-linecap:square;stroke-linejoin:miter;stroke-width:0.8;\"/>\r\n   </g>\r\n  </g>\r\n </g>\r\n <defs>\r\n  <clipPath id=\"p69724dc21b\">\r\n   <rect height=\"326.16\" width=\"167.4\" x=\"99.246875\" y=\"7.2\"/>\r\n  </clipPath>\r\n </defs>\r\n</svg>\r\n",
      "image/png": "[encoded data removed]"
     },
     "metadata": {}
    }
   ],
   "source": [
    "_s = (user_info_cleaned_df[group_types].sum()/11132.).sort_values()\n",
    "_s.plot(kind='barh',logx=True,figsize=(3,6))"
   ]
  },
  {
   "cell_type": "markdown",
   "metadata": {},
   "source": [
    "## Starts and ends"
   ]
  },
  {
   "cell_type": "markdown",
   "metadata": {},
   "source": [
    "First, we compute a few starts and ends: first rule revision for that editor A in language edition X + their last rule revision (in 2019)."
   ]
  },
  {
   "cell_type": "code",
   "execution_count": null,
   "metadata": {},
   "outputs": [],
   "source": [
    "# Load the things we exported\n"
   ]
  },
  {
   "cell_type": "code",
   "execution_count": 84,
   "metadata": {},
   "outputs": [],
   "source": [
    "def get_user_contributions(usernames,endpoint,start,end):\n",
    "    '''\n",
    "    https://www.mediawiki.org/wiki/API:Usercontribs\n",
    "    '''\n",
    "    #if type(usernames) != list:\n",
    "    #    raise ValueError('Usernames is not a list')\n",
    "\n",
    "    query_params = {'action': 'query',\n",
    "                    'format':'json',\n",
    "                    'list': 'usercontribs',\n",
    "                    #'ucprop':'ids|timestamp|title|comment|',\n",
    "                    'ucstart':start,\n",
    "                    'ucend':end,\n",
    "                    'ucdir':'newer',\n",
    "                    'uclimit':500}\n",
    "    query_url = \"https://{}\".format(endpoint)\n",
    "\n",
    "    user_contributions = list()\n",
    "    \n",
    "    if len(usernames) <= 50:\n",
    "        query_params['ucuser'] = ''.join(usernames)\n",
    "        json_response = requests.get(url = query_url, params = query_params).json()\n",
    "        #print(json_response)\n",
    "        user_contributions = json_response['query']['usercontribs']\n",
    "    else:\n",
    "        for chunk in chunks(usernames,50):\n",
    "            query_params['ucuser'] = ''.join(chunk)\n",
    "            json_response = requests.get(url = query_url, params = query_params).json()\n",
    "            for i in json_response['query']['usercontribs']:\n",
    "                user_contributions.append(i)\n",
    "\n",
    "    while True:\n",
    "        if 'continue' in json_response:\n",
    "            query_continue_params = deepcopy(query_params)\n",
    "            query_continue_params['uccontinue'] = json_response['continue']['uccontinue']\n",
    "            #print(query_continue_params)\n",
    "            json_response = requests.get(url = query_url, params = query_continue_params).json()\n",
    "            if 'usercontribs' in json_response['query']:\n",
    "                for i in json_response['query']['usercontribs']:\n",
    "                    user_contributions.append(i)\n",
    "        else:\n",
    "            break\n",
    "\n",
    "    return pd.DataFrame(user_contributions)"
   ]
  },
  {
   "cell_type": "code",
   "execution_count": 85,
   "metadata": {
    "tags": []
   },
   "outputs": [
    {
     "output_type": "stream",
     "name": "stdout",
     "text": "{'user': 'SMcCandlish', 'revs': 19004, 'pages': 356, 'ts_min': Timestamp('2006-02-23 20:59:57+0000', tz='UTC'), 'ts_max': Timestamp('2020-07-25 03:40:39+0000', tz='UTC')}\nSMcCandlish\n(164830, 15)\n"
    }
   ],
   "source": [
    "# test get_user_contributions\n",
    "_records = top_users_en.reset_index().to_dict('records')[:10]\n",
    "\n",
    "start = (_records[0]['ts_min'] - np.timedelta64(28,'D')).isoformat()\n",
    "end = (_records[0]['ts_max'] + np.timedelta64(28,'D')).isoformat()\n",
    "\n",
    "print(_records[0])\n",
    "print(_records[0]['user'])\n",
    "\n",
    "_temp = get_user_contributions(_records[0]['user'],start=start,end=end,endpoint='en.wikipedia.org/w/api.php')\n",
    "print(_temp.shape)"
   ]
  },
  {
   "cell_type": "code",
   "execution_count": 86,
   "metadata": {
    "tags": []
   },
   "outputs": [
    {
     "output_type": "stream",
     "name": "stdout",
     "text": "userid         user  pageid     revid  parentid  ...   size  new  top  \\\n0  378390  SMcCandlish  302902  38252711  27318018  ...   1667  NaN  NaN   \n1  378390  SMcCandlish  465885  38440036  34757743  ...    647  NaN  NaN   \n2  378390  SMcCandlish  735538  38893537  37448499  ...   9056  NaN  NaN   \n3  378390  SMcCandlish   42737  39431396  37964548  ...  10381  NaN  NaN   \n4  378390  SMcCandlish   50023  39435508  39210217  ...  36268  NaN  NaN   \n\n  texthidden suppressed  \n0        NaN        NaN  \n1        NaN        NaN  \n2        NaN        NaN  \n3        NaN        NaN  \n4        NaN        NaN  \n\n[5 rows x 15 columns]\n"
    }
   ],
   "source": [
    "pd.set_option('display.max_columns',10)\n",
    "print(_temp.head())"
   ]
  },
  {
   "cell_type": "markdown",
   "metadata": {},
   "source": [
    "Getting user contributions of the top users now, and grabbing the first set of revisions and last set of revisions in their editing history"
   ]
  },
  {
   "cell_type": "code",
   "execution_count": 88,
   "metadata": {
    "tags": [
     "outputPrepend"
    ]
   },
   "outputs": [
    {
     "output_type": "stream",
     "name": "stdout",
     "text": "d\n!!!endrevs 13277:IfYouDoIfYouDon't failed\n!!!endrevs 13278:Tbtkorg failed\n!!!endrevs 13279:Idyllic press failed\n!!!endrevs 13280:Ivan Pozdeev failed\n!!!endrevs 13281:CFynn failed\n!!!endrevs 13282:Afaber012 failed\n!!!endrevs 13283:Jahaza failed\n!!!endrevs 13284:Jagislaqroo failed\n!!!endrevs 13285:StuartBrady failed\n!!!endrevs 13286:StuartDouglas failed\n!!!endrevs 13287:StuartH failed\n!!!endrevs 13288:Stude62 failed\n!!!endrevs 13289:Jacquerie27 failed\n!!!endrevs 13290:Jackytar failed\n!!!endrevs 13291:Stultiwikia failed\n!!!endrevs 13292:Jackftwist failed\n!!!endrevs 13293:Jackfirst failed\n!!!endrevs 13294:Störm failed\n!!!endrevs 13295:JackTheVicar failed\n!!!endrevs 13296:Subsume failed\n!!!endrevs 13297:Subtropical-man failed\n!!!endrevs 13298:Subzerosmokerain failed\n!!!endrevs 13299:Agent008 failed\n!!!endrevs 13300:Sue Wallace failed\n!!!endrevs 13301:Sugarbat failed\n!!!endrevs 13302:Sumahoy failed\n!!!endrevs 13303:Sumbuddi failed\n!!!endrevs 13304:C mon failed\n!!!endrevs 13305:Summichum failed\n!!!endrevs 13306:Sumsum2010 failed\n!!!endrevs 13307:C-Kobold failed\n!!!endrevs 13308:SunCountryGuy01 failed\n!!!endrevs 13309:Jaguar failed\n!!!endrevs 13310:Jake95 failed\n!!!endrevs 13311:CFLeon failed\n!!!endrevs 13312:Jamcib~enwiki failed\n!!!endrevs 13313:Stigmatella aurantiaca failed\n!!!endrevs 13314:Jason from nyc failed\n!!!endrevs 13315:Stillnotelf failed\n!!!endrevs 13316:Jason Rees failed\n!!!endrevs 13317:Stinglehammer failed\n!!!endrevs 13318:Stismail failed\n!!!endrevs 13319:Jasepl failed\n!!!endrevs 13320:Jaroslavleff failed\n!!!endrevs 13321:Jarmihi failed\n!!!endrevs 13322:Jarhed failed\n!!!endrevs 13323:Janipinku88 failed\n!!!endrevs 13324:Jane Peppler failed\n!!!endrevs 13325:Jan van Male failed\n!!!endrevs 13326:Jamiebijania failed\n!!!endrevs 13327:BusriderSF2015 failed\n!!!endrevs 13328:JamieJones failed\n!!!endrevs 13329:JamesBurns failed\n!!!endrevs 13330:Stratosphere failed\n!!!endrevs 13331:Strausszek failed\n!!!endrevs 13332:JamesA failed\n!!!endrevs 13333:Strawberryjampot failed\n!!!endrevs 13334:Street Mob failed\n!!!endrevs 13335:Butros failed\n!!!endrevs 13336:James J. Lambden failed\n!!!endrevs 13337:Jamdav86 failed\n!!!endrevs 13338:JWilz12345 failed\n!!!endrevs 13339:Sunderland06 failed\n!!!endrevs 13340:JTdale failed\n!!!endrevs 13341:Sunnyou31 failed\n!!!endrevs 13342:Sushiya failed\n!!!endrevs 13343:JCaesar failed\n!!!endrevs 13344:JBrown23 failed\n!!!endrevs 13345:JBC3 failed\n!!!endrevs 13346:SvNH failed\n!!!endrevs 13347:JAF1970 failed\n!!!endrevs 13348:J44xm failed\n!!!endrevs 13349:J293339 failed\n!!!endrevs 13350:AfricaTanz failed\n!!!endrevs 13351:SwanSZ failed\n!!!endrevs 13352:J. Spencer failed\n!!!endrevs 13353:J man708 failed\n!!!endrevs 13354:J T Price failed\n!!!endrevs 13355:Sweet6970 failed\n!!!endrevs 13356:CDRL102 failed\n!!!endrevs 13357:SwirlBoy39 failed\n!!!endrevs 13358:Izzynn failed\n!!!endrevs 13359:Swliv failed\n!!!endrevs 13360:AfadsBad failed\n!!!endrevs 13361:Iztwoz failed\n!!!endrevs 13362:Izehar failed\n!!!endrevs 13363:Sycthos failed\n!!!endrevs 13364:CFIF failed\n!!!endrevs 13365:Sylviecyn failed\n!!!endrevs 13366:Iveagh Gardens failed\n!!!endrevs 13367:JFD failed\n!!!endrevs 13368:Sushisurprise failed\n!!!endrevs 13369:C2A06 failed\n!!!endrevs 13370:Superiority failed\n!!!endrevs 13371:Agamemnon2 failed\n!!!endrevs 13372:Againme failed\n!!!endrevs 13373:Supcmd failed\n!!!endrevs 13374:JOGU NARSING RAO failed\n!!!endrevs 13375:JNicklow failed\n!!!endrevs 13376:JMiall failed\n!!!endrevs 13377:JMalky failed\n!!!endrevs 13378:JMP EAX failed\n!!!endrevs 13379:SuperSucker failed\n!!!endrevs 13380:JLogan failed\n!!!endrevs 13381:SuperX9 failed\n!!!endrevs 13382:C.Syde65 failed\n!!!endrevs 13383:Afterbrunel failed\n!!!endrevs 13384:JJada failed\n!!!endrevs 13385:Supparluca failed\n!!!endrevs 13386:Supplicant failed\n!!!endrevs 13387:JJL failed\n!!!endrevs 13388:Supriadiadi72 failed\n!!!endrevs 13389:JHP failed\n!!!endrevs 13390:Surajt88 failed\n!!!endrevs 13391:Suresh sher failed\n!!!endrevs 13392:Surlywombat failed\n!!!endrevs 13393:Afv2006 failed\n!!!endrevs 13394:JGVR failed\n!!!endrevs 13395:Albrozdude failed\n!!!endrevs 13396:Alcaios failed\n!!!endrevs 13397:Jpbowen failed\n!!!endrevs 13398:LakeKayak failed\n!!!endrevs 13399:Lady6String failed\n!!!endrevs 13400:Lady154 failed\n!!!endrevs 13401:Laddiebuck failed\n!!!endrevs 13402:LactoseTI failed\n!!!endrevs 13403:LaTeeDa failed\n!!!endrevs 13404:Scoobydunk failed\n!!!endrevs 13405:Scootey failed\n!!!endrevs 13406:Scotian62 failed\n!!!endrevs 13407:LGA failed\n!!!endrevs 13408:Blue520 failed\n!!!endrevs 13409:LDHan failed\n!!!endrevs 13410:LDHLontz failed\n!!!endrevs 13411:AlmostFrancis failed\n!!!endrevs 13412:L.T.G failed\n!!!endrevs 13413:ScottW failed\n!!!endrevs 13414:L-Zwei failed\n!!!endrevs 13415:KyuuA4 failed\n!!!endrevs 13416:Scottyoak2 failed\n!!!endrevs 13417:Kyteto failed\n!!!endrevs 13418:Kylet failed\n!!!endrevs 13419:Kylesenior failed\n!!!endrevs 13420:Kylekieran failed\n!!!endrevs 13421:Scratchsamples failed\n!!!endrevs 13422:Kyle failed\n!!!endrevs 13423:Scribner failed\n!!!endrevs 13424:Lajbi failed\n!!!endrevs 13425:Lam-ang failed\n!!!endrevs 13426:Bluemask failed\n!!!endrevs 13427:Lampernist failed\n!!!endrevs 13428:Altermike failed\n!!!endrevs 13429:Lds failed\n!!!endrevs 13430:Sb617 failed\n!!!endrevs 13431:Lcgarcia failed\n!!!endrevs 13432:Lazar Taxon failed\n!!!endrevs 13433:Lawrence King failed\n!!!endrevs 13434:Lawofone failed\n!!!endrevs 13435:Sbwoodside failed\n!!!endrevs 13436:Lawilkin failed\n!!!endrevs 13437:Laura1822 failed\n!!!endrevs 13438:Laufersweden failed\n!!!endrevs 13439:Laudaka failed\n!!!endrevs 13440:LatinoMuslim failed\n!!!endrevs 13441:LaserLegs failed\n!!!endrevs 13442:Blood Red Sandman failed\n!!!endrevs 13443:LarryMac failed\n!!!endrevs 13444:Bloodzombie failed\n!!!endrevs 13445:Blowdart failed\n!!!endrevs 13446:Lapsed Pacifist failed\n!!!endrevs 13447:Lapinmies failed\n!!!endrevs 13448:Alpheus failed\n!!!endrevs 13449:Lapin rossignol failed\n!!!endrevs 13450:Lapablo failed\n!!!endrevs 13451:Landen99 failed\n!!!endrevs 13452:Alphama failed\n!!!endrevs 13453:Kyk failed\n!!!endrevs 13454:Scumbag failed\n!!!endrevs 13455:Komdori failed\n!!!endrevs 13456:Bob Burkhardt failed\n!!!endrevs 13457:Krakatoa failed\n!!!endrevs 13458:SemiDot failed\n!!!endrevs 13459:Semiprivatemusings failed\n!!!endrevs 13460:Semitones failed\n!!!endrevs 13461:Kprateek88 failed\n!!!endrevs 13462:Semmendinger failed\n!!!endrevs 13463:Semorrison failed\n!!!endrevs 13464:Alksub failed\n!!!endrevs 13465:Bob Stein - VisiBone failed\n!!!endrevs 13466:SenMar failed\n!!!endrevs 13467:Seniortrend failed\n!!!endrevs 13468:Senor Cuete failed\n!!!endrevs 13469:Senpaiottolo failed\n!!!endrevs 13470:Kosm1fent failed\n!!!endrevs 13471:Korky Day failed\n!!!endrevs 13472:Korax1214 failed\n!!!endrevs 13473:Sepa failed\n!!!endrevs 13474:Separa failed\n!!!endrevs 13475:Sephia karta failed\n!!!endrevs 13476:Bobamnertiopsis failed\n!!!endrevs 13477:Kopf1988 failed\n!!!endrevs 13478:KoolerStill failed\n!!!endrevs 13479:Konstock failed\n!!!endrevs 13480:KonradG failed\n!!!endrevs 13481:Konrad West failed\n!!!endrevs 13482:Sellyme failed\n!!!endrevs 13483:Kranar drogin failed\n!!!endrevs 13484:Scuro failed\n!!!endrevs 13485:Sekicho failed\n!!!endrevs 13486:Kvn8907 failed\n!!!endrevs 13487:Kurzon failed\n!!!endrevs 13488:Kurtmj93 failed\n!!!endrevs 13489:Seabhcan failed\n!!!endrevs 13490:Seameetsmountain failed\n!!!endrevs 13491:Kumarules failed\n!!!endrevs 13492:Kumagoro-42 failed\n!!!endrevs 13493:Seasalt failed\n!!!endrevs 13494:Seaserpent85 failed\n!!!endrevs 13495:Seattle Skier failed\n!!!endrevs 13496:KuatofKDY failed\n!!!endrevs 13497:KuHEJx3LCb failed\n!!!endrevs 13498:Allreet failed\n!!!endrevs 13499:Ktlynch failed\n!!!endrevs 13500:Kslays failed\n!!!endrevs 13501:Ksero failed\n!!!endrevs 13502:Krychek failed\n!!!endrevs 13503:Secfan failed\n!!!endrevs 13504:Kross failed\n!!!endrevs 13505:Secrecy failed\n!!!endrevs 13506:Kristinwt failed\n!!!endrevs 13507:Kravdraa Ulb failed\n!!!endrevs 13508:Seegoon failed\n!!!endrevs 13509:BoP failed\n!!!endrevs 13510:Seinfreak37 failed\n!!!endrevs 13511:Leahtwosaints failed\n!!!endrevs 13512:Saveus failed\n!!!endrevs 13513:Lecen failed\n!!!endrevs 13514:Saini.roonie failed\n!!!endrevs 13515:Sajoch failed\n!!!endrevs 13516:Amit6 failed\n!!!endrevs 13517:Salamurai failed\n!!!endrevs 13518:Salavat failed\n!!!endrevs 13519:Salimfadhley failed\n!!!endrevs 13520:Ljcrabs failed\n!!!endrevs 13521:BlackAmerican failed\n!!!endrevs 13522:LivinRealGüd failed\n!!!endrevs 13523:Salman01 failed\n!!!endrevs 13524:Littlecat456 failed\n!!!endrevs 13525:Saltmarsh failed\n!!!endrevs 13526:Blackbackground failed\n!!!endrevs 13527:Amicon failed\n!!!endrevs 13528:Little Professor failed\n!!!endrevs 13529:Sam Barsoom failed\n!!!endrevs 13530:Lithopsian failed\n!!!endrevs 13531:Lithoderm failed\n!!!endrevs 13532:LiteraryMaven failed\n!!!endrevs 13533:AmericanDad86 failed\n!!!endrevs 13534:Lisa failed\n!!!endrevs 13535:LiphradicusEpicus failed\n!!!endrevs 13536:Blackbox77 failed\n!!!endrevs 13537:Ling.Nut2 failed\n!!!endrevs 13538:Blackcats failed\n!!!endrevs 13539:Lincoln Josh failed\n!!!endrevs 13540:Llew Mawr failed\n!!!endrevs 13541:Saikano failed\n!!!endrevs 13542:Lechonero failed\n!!!endrevs 13543:Sahuagin failed\n!!!endrevs 13544:Lopullinen failed\n!!!endrevs 13545:Lopsidedvendetta failed\n!!!endrevs 13546:Anakinjmt failed\n!!!endrevs 13547:SS49 failed\n!!!endrevs 13548:SSS108 failed\n!!!endrevs 13549:SSSB failed\n!!!endrevs 13550:ST15RMwikipedia failed\n!!!endrevs 13551:Loonymonkey failed\n!!!endrevs 13552:LookyUppy failed\n!!!endrevs 13553:SWM failed\n!!!endrevs 13554:LondonStatto failed\n!!!endrevs 13555:Sabena Rani Gupta failed\n!!!endrevs 13556:LokiTheLiar failed\n!!!endrevs 13557:Logos failed\n!!!endrevs 13558:SacredDragonX failed\n!!!endrevs 13559:Logofat de Chichirez failed\n!!!endrevs 13560:Loginnigol failed\n!!!endrevs 13561:Logical 1 failed\n!!!endrevs 13562:Loganmstarr failed\n!!!endrevs 13563:Bjwebb failed\n!!!endrevs 13564:Lode Runner failed\n!!!endrevs 13565:Lobojo failed\n!!!endrevs 13566:Sagaciousuk failed\n!!!endrevs 13567:Black Flag failed\n!!!endrevs 13568:Sagittarian Milky Way failed\n!!!endrevs 13569:Limitedexpresstrain failed\n!!!endrevs 13570:Liliana-60 failed\n!!!endrevs 13571:Amcfreely failed\n!!!endrevs 13572:Likebox failed\n!!!endrevs 13573:Santoscompositor failed\n!!!endrevs 13574:Santtus failed\n!!!endrevs 13575:Leopold B. Stotch failed\n!!!endrevs 13576:Sarah fides failed\n!!!endrevs 13577:LeoLi1234 failed\n!!!endrevs 13578:Leo DeVeaux failed\n!!!endrevs 13579:Sarahj2107 failed\n!!!endrevs 13580:Saranghae honey failed\n!!!endrevs 13581:Lenticel failed\n!!!endrevs 13582:Sarenne failed\n!!!endrevs 13583:Lemmey failed\n!!!endrevs 13584:Leland McInnes failed\n!!!endrevs 13585:Lekoman failed\n!!!endrevs 13586:Saruman-the-white failed\n!!!endrevs 13587:Leithp failed\n!!!endrevs 13588:LegolasGreenleaf failed\n!!!endrevs 13589:Sasha Callahan failed\n!!!endrevs 13590:Legis failed\n!!!endrevs 13591:Sashazlv failed\n!!!endrevs 13592:Legion fi failed\n!!!endrevs 13593:Legeres failed\n!!!endrevs 13594:Blazinglight failed\n!!!endrevs 13595:Bleddynefans failed\n!!!endrevs 13596:Leeborkman failed\n!!!endrevs 13597:Bletch failed\n!!!endrevs 13598:Letdorf failed\n!!!endrevs 13599:Lethargilistic failed\n!!!endrevs 13600:Sangrolu failed\n!!!endrevs 13601:Samulili failed\n!!!endrevs 13602:Blackenzyme failed\n!!!endrevs 13603:SameerKhan failed\n!!!endrevs 13604:Lightspeedx failed\n!!!endrevs 13605:Samiharris failed\n!!!endrevs 13606:Blackngold29 failed\n!!!endrevs 13607:Lightning BOLT! failed\n!!!endrevs 13608:SammyMajed failed\n!!!endrevs 13609:Amccann421 failed\n!!!endrevs 13610:Samsungalon1122 failed\n!!!endrevs 13611:Samuel Erau failed\n!!!endrevs 13612:Liface failed\n!!!endrevs 13613:Liangent failed\n!!!endrevs 13614:Amaccormack failed\n!!!endrevs 13615:LiangHH failed\n!!!endrevs 13616:SanchiTachi failed\n!!!endrevs 13617:Sancho Mandoval failed\n!!!endrevs 13618:Lhb1239 failed\n!!!endrevs 13619:Lguipontes failed\n!!!endrevs 13620:Lgh failed\n!!!endrevs 13621:Lfwlfw failed\n!!!endrevs 13622:LexWorld failed\n!!!endrevs 13623:Sandra Yin failed\n!!!endrevs 13624:Amake failed\n!!!endrevs 13625:Sanglahi86 failed\n!!!endrevs 13626:Aliter failed\n!!!endrevs 13627:Alistairjh failed\n!!!endrevs 13628:JrFace failed\n!!!endrevs 13629:Born on Setons failed\n!!!endrevs 13630:Sinuhe failed\n!!!endrevs 13631:Kant Lavar failed\n!!!endrevs 13632:Kangna failed\n!!!endrevs 13633:Sir Cumference failed\n!!!endrevs 13634:Kangie failed\n!!!endrevs 13635:SirBruce failed\n!!!endrevs 13636:SirChan failed\n!!!endrevs 13637:Alexander Gieg failed\n!!!endrevs 13638:Kamila 064 failed\n!!!endrevs 13639:Siradia failed\n!!!endrevs 13640:Kamikaze failed\n!!!endrevs 13641:SiriusB failed\n!!!endrevs 13642:Kamek98 failed\n!!!endrevs 13643:Kallemax failed\n!!!endrevs 13644:Kalkat2008 failed\n!!!endrevs 13645:AlexWolfx failed\n!!!endrevs 13646:Kalimi failed\n!!!endrevs 13647:Kalika Dham Majhau failed\n!!!endrevs 13648:Kalidasa 777 failed\n!!!endrevs 13649:Sixtyninefourtyninefourtyfoureleven failed\n!!!endrevs 13650:Kaleb arn failed\n!!!endrevs 13651:Kaldosh failed\n!!!endrevs 13652:Kakurady failed\n!!!endrevs 13653:AlexJ failed\n!!!endrevs 13654:Kaiserb failed\n!!!endrevs 13655:Kante4 failed\n!!!endrevs 13656:Alexcalamaro failed\n!!!endrevs 13657:Skapur failed\n!!!endrevs 13658:SineWave failed\n!!!endrevs 13659:Katie Ryan A failed\n!!!endrevs 13660:Kateshortforbob failed\n!!!endrevs 13661:Alexis Ivanov failed\n!!!endrevs 13662:Simmaren failed\n!!!endrevs 13663:Kaszeta failed\n!!!endrevs 13664:Kaspazes failed\n!!!endrevs 13665:Simon D M failed\n!!!endrevs 13666:Simon Shek failed\n!!!endrevs 13667:Karunyans failed\n!!!endrevs 13668:Alexei Kouprianov failed\n!!!endrevs 13669:Karol Langner failed\n!!!endrevs 13670:Karn-b failed\n!!!endrevs 13671:Simonkoldyk failed\n!!!endrevs 13672:Karlww failed\n!!!endrevs 13673:Simonxag failed\n!!!endrevs 13674:Simple Bob failed\n!!!endrevs 13675:Simple Sarah failed\n!!!endrevs 13676:KarlM failed\n!!!endrevs 13677:Simplicius failed\n!!!endrevs 13678:Alexd~enwiki failed\n!!!endrevs 13679:Simpson H failed\n!!!endrevs 13680:SimulacrumCaputosis failed\n!!!endrevs 13681:Simultaneous movement failed\n!!!endrevs 13682:Simxp failed\n!!!endrevs 13683:Karek failed\n!!!endrevs 13684:Kaiba failed\n!!!endrevs 13685:Kahooper failed\n!!!endrevs 13686:SergioGeorgini failed\n!!!endrevs 13687:Brad7777 failed\n!!!endrevs 13688:Sleddog116 failed\n!!!endrevs 13689:Sleepaholic failed\n!!!endrevs 13690:Justinc failed\n!!!endrevs 13691:Sleske failed\n!!!endrevs 13692:Justanothersgwikieditor failed\n!!!endrevs 13693:JustPhil failed\n!!!endrevs 13694:Slim five failed\n!!!endrevs 13695:Bradcro failed\n!!!endrevs 13696:Junjunone failed\n!!!endrevs 13697:Ale2006 failed\n!!!endrevs 13698:Julzes failed\n!!!endrevs 13699:Slywriter failed\n!!!endrevs 13700:Bradford44 failed\n!!!endrevs 13701:Jules.LT failed\n!!!endrevs 13702:Alduin2000 failed\n!!!endrevs 13703:Jujutacular failed\n!!!endrevs 13704:Brain Before Life failed\n!!!endrevs 13705:BrainMarble failed\n!!!endrevs 13706:Jtpaladin failed\n!!!endrevs 13707:Smartie960 failed\n!!!endrevs 13708:Smartiger failed\n!!!endrevs 13709:Aldie failed\n!!!endrevs 13710:Jtbobwaysf failed\n!!!endrevs 13711:Brakerock failed\n!!!endrevs 13712:Jrcrin001 failed\n!!!endrevs 13713:Justito failed\n!!!endrevs 13714:Juzhong failed\n!!!endrevs 13715:Alex1111 failed\n!!!endrevs 13716:Jvpwiki failed\n!!!endrevs 13717:Sketchee failed\n!!!endrevs 13718:Borsoka failed\n!!!endrevs 13719:Kafka Liz failed\n!!!endrevs 13720:Boruch Baum failed\n!!!endrevs 13721:Kabin Veerapan failed\n!!!endrevs 13722:Kaartic failed\n!!!endrevs 13723:KTTdestroyer failed\n!!!endrevs 13724:Bosley John Bosley failed\n!!!endrevs 13725:KPbIC failed\n!!!endrevs 13726:Alex of Canada failed\n!!!endrevs 13727:Skvery failed\n!!!endrevs 13728:Bouchecl failed\n!!!endrevs 13729:KConWiki failed\n!!!endrevs 13730:Skybunny failed\n!!!endrevs 13731:KANYABIGEGA Silas failed\n!!!endrevs 13732:Bourbons3 failed\n!!!endrevs 13733:K. Annoyomous failed\n!!!endrevs 13734:Jørgen88 failed\n!!!endrevs 13735:Boxter1977 failed\n!!!endrevs 13736:SlamDiego failed\n!!!endrevs 13737:Jyril failed\n!!!endrevs 13738:Slaporte (WMF) failed\n!!!endrevs 13739:Jxn failed\n!!!endrevs 13740:Slarre failed\n!!!endrevs 13741:Jwri7474 failed\n!!!endrevs 13742:Silivrenion failed\n!!!endrevs 13743:SilentC failed\n!!!endrevs 13744:Kavas failed\n!!!endrevs 13745:Shaggorama failed\n!!!endrevs 13746:Shahidulislam failed\n!!!endrevs 13747:ShakataGaNai failed\n!!!endrevs 13748:Shakehandsman failed\n!!!endrevs 13749:Kjetilho failed\n!!!endrevs 13750:ShakingSpirit failed\n!!!endrevs 13751:Kjet failed\n!!!endrevs 13752:AliciaZag13 failed\n!!!endrevs 13753:Kiwipete failed\n!!!endrevs 13754:Shanedidona failed\n!!!endrevs 13755:Kitty bear failed\n!!!endrevs 13756:Kiteinthewind failed\n!!!endrevs 13757:Kitchen roll failed\n!!!endrevs 13758:Shannon bohle failed\n!!!endrevs 13759:Kiss 398 not failed\n!!!endrevs 13760:Kirrages failed\n!!!endrevs 13761:Bods1973 failed\n!!!endrevs 13762:Sharper failed\n!!!endrevs 13763:Sharpner failed\n!!!endrevs 13764:KirbyMeister failed\n!!!endrevs 13765:Shaunsinclair3 failed\n!!!endrevs 13766:Shawisland failed\n!!!endrevs 13767:Kiore failed\n!!!endrevs 13768:Shayl failed\n!!!endrevs 13769:Alialiac failed\n!!!endrevs 13770:Kingofafrica9111 failed\n!!!endrevs 13771:Shahab failed\n!!!endrevs 13772:Bobnorwal failed\n!!!endrevs 13773:Silas Ropac failed\n!!!endrevs 13774:Shadowx214 failed\n!!!endrevs 13775:Alirezatavazo failed\n!!!endrevs 13776:Kokoro20 failed\n!!!endrevs 13777:Alirezakomaji failed\n!!!endrevs 13778:Kody1492 failed\n!!!endrevs 13779:Alii h failed\n!!!endrevs 13780:Koala Tea Of Mercy failed\n!!!endrevs 13781:KnuxD failed\n!!!endrevs 13782:Knowledgeum failed\n!!!endrevs 13783:SethAllen623 failed\n!!!endrevs 13784:Bobby fletcher failed\n!!!endrevs 13785:KnowBuddy failed\n!!!endrevs 13786:Settleman failed\n!!!endrevs 13787:Knotwork failed\n!!!endrevs 13788:Seventyfiveyears failed\n!!!endrevs 13789:Knight of Ashitaka failed\n!!!endrevs 13790:Kmzayeem failed\n!!!endrevs 13791:Sfarney failed\n!!!endrevs 13792:Sgrayban failed\n!!!endrevs 13793:Shaddim failed\n!!!endrevs 13794:Shadow Hog failed\n!!!endrevs 13795:Kkawohl failed\n!!!endrevs 13796:Shadow4dark failed\n!!!endrevs 13797:ShadowRangerRIT failed\n!!!endrevs 13798:Alien4 failed\n!!!endrevs 13799:Shadowssettle failed\n!!!endrevs 13800:Bogger failed\n!!!endrevs 13801:Kindzmarauli failed\n!!!endrevs 13802:Boinger failed\n!!!endrevs 13803:Killing sparrows failed\n!!!endrevs 13804:Kennethtennyson failed\n!!!endrevs 13805:Kennethmac2000 failed\n!!!endrevs 13806:Kennethaw88 failed\n!!!endrevs 13807:Kenneaal failed\n!!!endrevs 13808:Shshshsh failed\n!!!endrevs 13809:Bookgrrl failed\n!!!endrevs 13810:Shuki failed\n!!!endrevs 13811:Shultz failed\n!!!endrevs 13812:Kellymoat failed\n!!!endrevs 13813:Bookscale failed\n!!!endrevs 13814:Bookworm857158367 failed\n!!!endrevs 13815:Keivan.f failed\n!!!endrevs 13816:Shyranoe failed\n!!!endrevs 13817:SiIIyLiIIyPiIIy failed\n!!!endrevs 13818:Sid 3050 failed\n!!!endrevs 13819:Keith McClary failed\n!!!endrevs 13820:Siddiqui failed\n!!!endrevs 13821:Keesiewonder failed\n!!!endrevs 13822:Kcornwall failed\n!!!endrevs 13823:Sigehelmus failed\n!!!endrevs 13824:Sighola2 failed\n!!!endrevs 13825:SigmaEpsilon failed\n!!!endrevs 13826:Kazemita1 failed\n!!!endrevs 13827:KayEss failed\n!!!endrevs 13828:Sikon failed\n!!!endrevs 13829:BoogerD failed\n!!!endrevs 13830:Ketil failed\n!!!endrevs 13831:Showtime2009 failed\n!!!endrevs 13832:Khalid hassani failed\n!!!endrevs 13833:Killervogel5 failed\n!!!endrevs 13834:SheriffIsInTown failed\n!!!endrevs 13835:Kiki Rebeouf failed\n!!!endrevs 13836:Kiersta failed\n!!!endrevs 13837:Shhhhwwww!! failed\n!!!endrevs 13838:Kiatdd failed\n!!!endrevs 13839:Kiand failed\n!!!endrevs 13840:Shinhan failed\n!!!endrevs 13841:Alfakim failed\n!!!endrevs 13842:Shinylucario failed\n!!!endrevs 13843:Khaydock failed\n!!!endrevs 13844:Khaalnou failed\n!!!endrevs 13845:Boo1210 failed\n!!!endrevs 13846:Shmget failed\n!!!endrevs 13847:Shmuel failed\n!!!endrevs 13848:Shniken failed\n!!!endrevs 13849:Bondolo failed\n!!!endrevs 13850:BonesBrigade failed\n!!!endrevs 13851:Shocking Blue failed\n!!!endrevs 13852:Boneymau failed\n!!!endrevs 13853:Alexsanderson83 failed\n!!!endrevs 13854:Shojo failed\n!!!endrevs 13855:Bonzai273 failed\n!!!endrevs 13856:Alexmar983 failed\n!!!endrevs 13857:Jeff Song failed\n"
    }
   ],
   "source": [
    "# en\n",
    "_records = top_users_en.reset_index().to_dict('records')\n",
    "\n",
    "if not os.path.isdir('./user_start_en'):\n",
    "    os.mkdir('./user_start_en')\n",
    "if not os.path.isdir('./user_end_en'):\n",
    "    os.mkdir('./user_end_en')\n",
    "\n",
    "for i,user_dict in enumerate(_records):\n",
    "    try:\n",
    "        # start\n",
    "        start = (user_dict['ts_min'] - np.timedelta64(28,'D')).isoformat()\n",
    "        end = (user_dict['ts_min'] + np.timedelta64(28,'D')).isoformat()\n",
    "        _df = get_user_contributions(user_dict['user'],endpoint='en.wikipedia.org/w/api.php',start=start,end=end)\n",
    "        _df.to_csv('./user_start_en/user_start_{0}.tsv'.format(i),sep='\\t',encoding='utf8')\n",
    "    except KeyboardInterrupt:\n",
    "        raise\n",
    "    except:\n",
    "        print(u'!!!startrevs {}:{} failed'.format(i,user_dict['user']))\n",
    "        pass\n",
    "\n",
    "for i,user_dict in enumerate(_records):\n",
    "    try:\n",
    "        # end\n",
    "        start = (user_dict['ts_max'] - np.timedelta64(28,'D')).isoformat()\n",
    "        end = (user_dict['ts_max'] + np.timedelta64(28,'D')).isoformat()\n",
    "        _df = get_user_contributions(user_dict['user'],endpoint='en.wikipedia.org/w/api.php',start=start,end=end)\n",
    "        _df.to_csv('./user_end_en/user_end_{0}.tsv'.format(i),sep='\\t',encoding='utf8')\n",
    "    except KeyboardInterrupt:\n",
    "        raise\n",
    "    except:\n",
    "        print(u'!!!endrevs {}:{} failed'.format(i,user_dict['user']))\n",
    "        pass"
   ]
  },
  {
   "cell_type": "code",
   "execution_count": 89,
   "metadata": {
    "tags": []
   },
   "outputs": [
    {
     "output_type": "stream",
     "name": "stdout",
     "text": "!!!startrevs 0:DerHexer failed\n!!!startrevs 1:Elian failed\n!!!startrevs 2:Matthiasb failed\n!!!startrevs 3:Cepheiden failed\n!!!startrevs 4:W!B: failed\n!!!startrevs 5:Wiegels failed\n!!!startrevs 6:Sebmol failed\n!!!startrevs 7:PerfektesChaos failed\n!!!startrevs 8:Lómelinde failed\n!!!startrevs 9:Rax failed\n!!!startrevs 10:Asthma failed\n!!!startrevs 11:Eneas failed\n!!!startrevs 12:Benatrevqre failed\n!!!startrevs 13:Ziko failed\n!!!startrevs 14:Southpark failed\n!!!startrevs 15:Geitost failed\n!!!startrevs 16:SDB failed\n!!!startrevs 17:Harry8 failed\n!!!startrevs 18:Tilla failed\n!!!startrevs 19:Magiers failed\n!!!startrevs 20:Carbidfischer failed\n!!!startrevs 21:HaeB failed\n!!!startrevs 22:Gestumblindi failed\n!!!startrevs 23:Kh80 failed\n!!!startrevs 24:Fossa failed\n!!!startrevs 25:Verzettelung failed\n!!!startrevs 26:Ralf Roletschek failed\n!!!startrevs 27:JakobVoss failed\n!!!startrevs 28:Ulrich.fuchs failed\n!!!startrevs 29:Tolanor failed\n!!!startrevs 30:Rosenkohl failed\n!!!startrevs 31:Gunther failed\n!!!startrevs 32:XenonX3 failed\n!!!startrevs 33:Stern failed\n!!!startrevs 34:Flominator failed\n!!!startrevs 35:Matt1971 failed\n!!!startrevs 36:TheK failed\n!!!startrevs 37:Lustiger seth failed\n!!!startrevs 38:Sicherlich failed\n!!!startrevs 39:P. Birken failed\n!!!startrevs 40:Inkowik failed\n!!!startrevs 41:23.144186.42 failed\n!!!startrevs 42:Tsor failed\n!!!startrevs 43:Androl failed\n!!!startrevs 44:H-stt failed\n!!!startrevs 45:KaiMartin failed\n!!!startrevs 46:Grip99 failed\n!!!startrevs 47:BurghardRichter failed\n!!!startrevs 48:Oliver S.Y. failed\n!!!startrevs 49:Dealerofsalvation failed\n!!!startrevs 50:Kurt Jansson failed\n!!!startrevs 51:Achim Raschka failed\n!!!startrevs 52:Church of emacs failed\n!!!startrevs 53:Sokonbud failed\n!!!startrevs 54:-jkb- failed\n!!!startrevs 55:Hæggis failed\n!!!startrevs 56:Carbenium failed\n!!!startrevs 57:Berlin-Jurist failed\n!!!startrevs 58:Entlinkt failed\n!!!startrevs 59:Sargoth failed\n!!!startrevs 60:Leyo failed\n!!!startrevs 61:Chaddy failed\n!!!startrevs 62:Stefan64 failed\n!!!startrevs 63:Phi failed\n!!!startrevs 64:Seewolf failed\n!!!startrevs 65:Jón failed\n!!!startrevs 66:WolfgangRieger failed\n!!!startrevs 67:Bdk failed\n!!!startrevs 68:D failed\n!!!startrevs 69:AndreasPraefcke failed\n!!!startrevs 70:Itti failed\n!!!startrevs 71:Jergen failed\n!!!startrevs 72:Unscheinbar failed\n!!!startrevs 73:Katimpe failed\n!!!startrevs 74:Baumanns failed\n!!!startrevs 75:Finanzer failed\n!!!startrevs 76:Chrislb failed\n!!!startrevs 77:LKD failed\n!!!startrevs 78:Stefan Knauf failed\n!!!startrevs 79:Jpp failed\n!!!startrevs 80:TMg failed\n!!!startrevs 81:Pjacobi failed\n!!!startrevs 82:Itu failed\n!!!startrevs 83:Schnargel failed\n!!!startrevs 84:Marcus Cyron failed\n!!!startrevs 85:Otberg failed\n!!!startrevs 86:Carol.Christiansen failed\n!!!startrevs 87:Markus Bärlocher failed\n!!!startrevs 88:Perrak failed\n!!!startrevs 89:Nerd failed\n!!!startrevs 90:Liberal Freemason failed\n!!!startrevs 91:Karsten11 failed\n!!!startrevs 92:Reinhard Kraasch failed\n!!!startrevs 93:Siehe-auch-Löscher failed\n!!!startrevs 94:FBE2005 failed\n!!!startrevs 95:Minderbinder failed\n!!!startrevs 96:Alnilam failed\n!!!startrevs 97:Diwas failed\n!!!startrevs 98:Löschfix failed\n!!!startrevs 99:Armin P. failed\n!!!startrevs 100:PDD failed\n!!!startrevs 101:Filzstift failed\n!!!startrevs 102:ParaDox failed\n!!!startrevs 103:Jesi failed\n!!!startrevs 104:Jivee Blau failed\n!!!startrevs 105:Harro von Wuff failed\n!!!startrevs 106:Der-Wir-Ing failed\n!!!startrevs 107:Prüm failed\n!!!startrevs 108:Complex failed\n!!!startrevs 109:Port(u*o)s failed\n!!!startrevs 110:Felix Stember failed\n!!!startrevs 111:Olag failed\n!!!startrevs 112:Fristu failed\n!!!startrevs 113:Liesel failed\n!!!startrevs 114:Chricho failed\n!!!startrevs 115:Syrcro failed\n!!!startrevs 116:PM3 failed\n!!!startrevs 117:Simplicius failed\n!!!startrevs 118:Nicor failed\n!!!startrevs 119:Millbart failed\n!!!startrevs 120:KnightMove failed\n!!!startrevs 121:Gamma failed\n!!!startrevs 122:Chemiewikibm failed\n!!!startrevs 123:Grim.fandango failed\n!!!startrevs 124:Sprachpfleger failed\n!!!startrevs 125:Harry Canyon failed\n!!!startrevs 126:Peter Gröbner failed\n!!!startrevs 127:Nb failed\n!!!startrevs 128:Head failed\n!!!startrevs 129:FordPrefect42 failed\n!!!startrevs 130:Geisslr failed\n!!!startrevs 131:ChristianErtl failed\n!!!startrevs 132:Neitram failed\n!!!startrevs 133:Bestoernesto failed\n!!!startrevs 134:Erzbischof failed\n!!!startrevs 135:MBq failed\n!!!startrevs 136:Mazbln failed\n!!!startrevs 137:Mnh failed\n!!!startrevs 138:WissensDürster failed\n!!!startrevs 139:BLueFiSH.as failed\n!!!startrevs 140:Logograph failed\n!!!startrevs 141:Ohrnwuzler failed\n!!!startrevs 142:Pitichinaccio failed\n!!!startrevs 143:WinfriedSchneider failed\n!!!startrevs 144:Nicola failed\n!!!startrevs 145:Abderitestatos failed\n!!!startrevs 146:Nina failed\n!!!startrevs 147:Steak failed\n!!!startrevs 148:He3nry failed\n!!!startrevs 149:Fomafix failed\n!!!startrevs 150:Aka failed\n!!!startrevs 151:GS failed\n!!!startrevs 152:Kolja21 failed\n!!!startrevs 153:Engie failed\n!!!startrevs 154:RokerHRO failed\n!!!startrevs 155:Regi51 failed\n!!!startrevs 156:Ca$e failed\n!!!startrevs 157:Zipferlak failed\n!!!startrevs 158:Nothere failed\n!!!startrevs 159:Polarlys failed\n!!!startrevs 160:Perhelion failed\n!!!startrevs 161:DaB. failed\n!!!startrevs 162:Martin-vogel failed\n!!!startrevs 163:Hadhuey failed\n!!!startrevs 164:Aloiswuest failed\n"
    }
   ],
   "source": [
    "# de\n",
    "_records = top_users_de.reset_index().to_dict('records')\n",
    "\n",
    "if not os.path.isdir('./user_start_de'):\n",
    "    os.mkdir('./user_start_de')\n",
    "if not os.path.isdir('./user_end_de'):\n",
    "    os.mkdir('./user_end_de')\n",
    "\n",
    "for i,user_dict in enumerate(_records):\n",
    "    try:\n",
    "        # start\n",
    "        start = (user_dict['ts_min'] - np.timedelta64(28,'D')).isoformat()\n",
    "        end = (user_dict['ts_min'] + np.timedelta64(28,'D')).isoformat()\n",
    "        _df = get_user_contributions(user_dict['user'],endpoint='de.wikipedia.org/w/api.php',start=start,end=end)\n",
    "        _df.to_csv('./user_start_de/user_start_{0}.tsv'.format(i),sep='\\t',encoding='utf8')\n",
    "    except KeyboardInterrupt:\n",
    "        raise\n",
    "    except:\n",
    "        print(u'!!!startrevs {}:{} failed'.format(i,user_dict['user']))\n",
    "        pass\n",
    "\n",
    "for i,user_dict in enumerate(_records):\n",
    "    try:\n",
    "        # end\n",
    "        start = (user_dict['ts_max'] - np.timedelta64(28,'D')).isoformat()\n",
    "        end = (user_dict['ts_max'] + np.timedelta64(28,'D')).isoformat()\n",
    "        _df = get_user_contributions(user_dict['user'],endpoint='de.wikipedia.org/w/api.php',start=start,end=end)\n",
    "        _df.to_csv('./user_end_de/user_end_{0}.tsv'.format(i),sep='\\t',encoding='utf8')\n",
    "    except KeyboardInterrupt:\n",
    "        raise\n",
    "    except:\n",
    "        print(u'!!!endrevs {}:{} failed'.format(i,user_dict['user']))\n",
    "        pass"
   ]
  },
  {
   "cell_type": "code",
   "execution_count": 132,
   "metadata": {},
   "outputs": [],
   "source": [
    "# fixing the failed ones\n",
    "# de start revs 0 - 165\n",
    "_records = top_users_de.reset_index().to_dict('records')[:165]\n",
    "\n",
    "for i,user_dict in enumerate(_records):\n",
    "    try:\n",
    "        # start\n",
    "        start = (user_dict['ts_min'] - np.timedelta64(28,'D')).isoformat()\n",
    "        end = (user_dict['ts_min'] + np.timedelta64(28,'D')).isoformat()\n",
    "        _df = get_user_contributions(user_dict['user'],endpoint='de.wikipedia.org/w/api.php',start=start,end=end)\n",
    "        _df.to_csv('./user_start_de/user_start_{0}.tsv'.format(i),sep='\\t',encoding='utf8')\n",
    "    except KeyboardInterrupt:\n",
    "        raise\n",
    "    except:\n",
    "        print(u'!!!startrevs {}:{} failed'.format(i,user_dict['user']))\n",
    "        pass\n"
   ]
  },
  {
   "cell_type": "code",
   "execution_count": 135,
   "metadata": {},
   "outputs": [],
   "source": [
    "# fixing the failed ones\n",
    "# enstart revs 12760 - ...\n",
    "_records = top_users_en.reset_index().to_dict('records')[:1100]\n",
    "\n",
    "if not os.path.isdir('./user_start_en'):\n",
    "    os.mkdir('./user_start_en')\n",
    "if not os.path.isdir('./user_end_en'):\n",
    "    os.mkdir('./user_end_en')\n",
    "\n",
    "for i,user_dict in enumerate(_records):\n",
    "    try:\n",
    "        # start\n",
    "        start = (user_dict['ts_min'] - np.timedelta64(28,'D')).isoformat()\n",
    "        end = (user_dict['ts_min'] + np.timedelta64(28,'D')).isoformat()\n",
    "        _df = get_user_contributions(user_dict['user'],endpoint='en.wikipedia.org/w/api.php',start=start,end=end)\n",
    "        _df.to_csv('./user_start_en/user_start_{0}.tsv'.format(i),sep='\\t',encoding='utf8')\n",
    "    except KeyboardInterrupt:\n",
    "        raise\n",
    "    except:\n",
    "        print(u'!!!startrevs {}:{} failed'.format(i,user_dict['user']))\n",
    "        pass"
   ]
  },
  {
   "cell_type": "code",
   "execution_count": 136,
   "metadata": {},
   "outputs": [],
   "source": [
    "# fixing the failed ones\n",
    "# enstart revs 12760 - ...\n",
    "_records = top_users_en.reset_index().to_dict('records')[12760:]\n",
    "\n",
    "if not os.path.isdir('./user_start_en'):\n",
    "    os.mkdir('./user_start_en')\n",
    "if not os.path.isdir('./user_end_en'):\n",
    "    os.mkdir('./user_end_en')\n",
    "\n",
    "for i,user_dict in enumerate(_records):\n",
    "    try:\n",
    "        # start\n",
    "        start = (user_dict['ts_min'] - np.timedelta64(28,'D')).isoformat()\n",
    "        end = (user_dict['ts_min'] + np.timedelta64(28,'D')).isoformat()\n",
    "        _df = get_user_contributions(user_dict['user'],endpoint='en.wikipedia.org/w/api.php',start=start,end=end)\n",
    "        _df.to_csv('./user_start_en/user_start_{0}.tsv'.format(i+12760),sep='\\t',encoding='utf8')\n",
    "    except KeyboardInterrupt:\n",
    "        raise\n",
    "    except:\n",
    "        print(u'!!!startrevs {}:{} failed'.format(i,user_dict['user']))\n",
    "        pass"
   ]
  },
  {
   "cell_type": "code",
   "execution_count": 137,
   "metadata": {},
   "outputs": [],
   "source": [
    "# fixing the failed ones\n",
    "# en end revs 9 - ...\n",
    "_records = top_users_en.reset_index().to_dict('records')[9:]\n",
    "\n",
    "for i,user_dict in enumerate(_records):\n",
    "    try:\n",
    "        # end\n",
    "        start = (user_dict['ts_max'] - np.timedelta64(28,'D')).isoformat()\n",
    "        end = (user_dict['ts_max'] + np.timedelta64(28,'D')).isoformat()\n",
    "        _df = get_user_contributions(user_dict['user'],endpoint='en.wikipedia.org/w/api.php',start=start,end=end)\n",
    "        _df.to_csv('./user_end_en/user_end_{0}.tsv'.format(i+9),sep='\\t',encoding='utf8')\n",
    "    except KeyboardInterrupt:\n",
    "        raise\n",
    "    except:\n",
    "        print(u'!!!endrevs {}:{} failed'.format(i,user_dict['user']))\n",
    "        pass"
   ]
  },
  {
   "cell_type": "code",
   "execution_count": 90,
   "metadata": {
    "tags": []
   },
   "outputs": [],
   "source": [
    "# es\n",
    "_records = top_users_es.reset_index().to_dict('records')\n",
    "\n",
    "if not os.path.isdir('./user_start_es'):\n",
    "    os.mkdir('./user_start_es')\n",
    "if not os.path.isdir('./user_end_es'):\n",
    "    os.mkdir('./user_end_es')\n",
    "\n",
    "for i,user_dict in enumerate(_records):\n",
    "    try:\n",
    "        # start\n",
    "        start = (user_dict['ts_min'] - np.timedelta64(28,'D')).isoformat()\n",
    "        end = (user_dict['ts_min'] + np.timedelta64(28,'D')).isoformat()\n",
    "        _df = get_user_contributions(user_dict['user'],endpoint='es.wikipedia.org/w/api.php',start=start,end=end)\n",
    "        _df.to_csv('./user_start_es/user_start_{0}.tsv'.format(i),sep='\\t',encoding='utf8')\n",
    "    except KeyboardInterrupt:\n",
    "        raise\n",
    "    except:\n",
    "        print(u'!!!startrevs {}:{} failed'.format(i,user_dict['user']))\n",
    "        pass\n",
    "\n",
    "for i,user_dict in enumerate(_records):\n",
    "    try:\n",
    "        # end\n",
    "        start = (user_dict['ts_max'] - np.timedelta64(28,'D')).isoformat()\n",
    "        end = (user_dict['ts_max'] + np.timedelta64(28,'D')).isoformat()\n",
    "        _df = get_user_contributions(user_dict['user'],endpoint='es.wikipedia.org/w/api.php',start=start,end=end)\n",
    "        _df.to_csv('./user_end_es/user_end_{0}.tsv'.format(i),sep='\\t',encoding='utf8')\n",
    "    except KeyboardInterrupt:\n",
    "        raise\n",
    "    except:\n",
    "        print(u'!!!endrevs {}:{} failed'.format(i,user_dict['user']))\n",
    "        pass"
   ]
  },
  {
   "cell_type": "code",
   "execution_count": 130,
   "metadata": {},
   "outputs": [],
   "source": [
    "#fr\n",
    "_records = top_users_fr.reset_index().to_dict('records')\n",
    "\n",
    "if not os.path.isdir('./user_start_fr'):\n",
    "    os.mkdir('./user_start_fr')\n",
    "if not os.path.isdir('./user_end_fr'):\n",
    "    os.mkdir('./user_end_fr')\n",
    "\n",
    "for i,user_dict in enumerate(_records):\n",
    "    try:\n",
    "        # start\n",
    "        start = (user_dict['ts_min'] - np.timedelta64(28,'D')).isoformat()\n",
    "        end = (user_dict['ts_min'] + np.timedelta64(28,'D')).isoformat()\n",
    "        _df = get_user_contributions(user_dict['user'],endpoint='fr.wikipedia.org/w/api.php',start=start,end=end)\n",
    "        _df.to_csv('./user_start_fr/user_start_{0}.tsv'.format(i),sep='\\t',encoding='utf8')\n",
    "    except KeyboardInterrupt:\n",
    "        raise\n",
    "    except:\n",
    "        print(u'!!!startrevs {}:{} failed'.format(i,user_dict['user']))\n",
    "        pass\n",
    "\n",
    "for i,user_dict in enumerate(_records):\n",
    "    try:\n",
    "        # end\n",
    "        start = (user_dict['ts_max'] - np.timedelta64(28,'D')).isoformat()\n",
    "        end = (user_dict['ts_max'] + np.timedelta64(28,'D')).isoformat()\n",
    "        _df = get_user_contributions(user_dict['user'],endpoint='fr.wikipedia.org/w/api.php',start=start,end=end)\n",
    "        _df.to_csv('./user_end_fr/user_end_{0}.tsv'.format(i),sep='\\t',encoding='utf8')\n",
    "    except KeyboardInterrupt:\n",
    "        raise\n",
    "    except:\n",
    "        print(u'!!!endrevs {}:{} failed'.format(i,user_dict['user']))\n",
    "        pass"
   ]
  },
  {
   "cell_type": "code",
   "execution_count": 92,
   "metadata": {},
   "outputs": [],
   "source": [
    "#ja\n",
    "_records = top_users_ja.reset_index().to_dict('records')\n",
    "\n",
    "if not os.path.isdir('./user_start_ja'):\n",
    "    os.mkdir('./user_start_ja')\n",
    "if not os.path.isdir('./user_end_ja'):\n",
    "    os.mkdir('./user_end_ja')\n",
    "\n",
    "for i,user_dict in enumerate(_records):\n",
    "    try:\n",
    "        # start\n",
    "        start = (user_dict['ts_min'] - np.timedelta64(28,'D')).isoformat()\n",
    "        end = (user_dict['ts_min'] + np.timedelta64(28,'D')).isoformat()\n",
    "        _df = get_user_contributions(user_dict['user'],endpoint='ja.wikipedia.org/w/api.php',start=start,end=end)\n",
    "        _df.to_csv('./user_start_ja/user_start_{0}.tsv'.format(i),sep='\\t',encoding='utf8')\n",
    "    except KeyboardInterrupt:\n",
    "        raise\n",
    "    except:\n",
    "        print(u'!!!startrevs {}:{} failed'.format(i,user_dict['user']))\n",
    "        pass\n",
    "\n",
    "for i,user_dict in enumerate(_records):\n",
    "    try:\n",
    "        # end\n",
    "        start = (user_dict['ts_max'] - np.timedelta64(28,'D')).isoformat()\n",
    "        end = (user_dict['ts_max'] + np.timedelta64(28,'D')).isoformat()\n",
    "        _df = get_user_contributions(user_dict['user'],endpoint='ja.wikipedia.org/w/api.php',start=start,end=end)\n",
    "        _df.to_csv('./user_end_ja/user_end_{0}.tsv'.format(i),sep='\\t',encoding='utf8')\n",
    "    except KeyboardInterrupt:\n",
    "        raise\n",
    "    except:\n",
    "        print(u'!!!endrevs {}:{} failed'.format(i,user_dict['user']))\n",
    "        pass"
   ]
  },
  {
   "cell_type": "markdown",
   "metadata": {},
   "source": [
    "This cleans and combines user revisions (start)"
   ]
  },
  {
   "cell_type": "code",
   "execution_count": 138,
   "metadata": {
    "tags": []
   },
   "outputs": [
    {
     "output_type": "execute_result",
     "data": {
      "text/plain": "        userid      user  pageid    revid  parentid  ...  texthidden  \\\n726644   87382  移動用アカウント    3859  8734275   6157322  ...         NaN   \n726645   87382  移動用アカウント  293216  8750637   8749654  ...         NaN   \n726646   87382  移動用アカウント  758617  8750638         0  ...         NaN   \n726647   87382  移動用アカウント    8292  8750648   8748829  ...         NaN   \n726648   87382  移動用アカウント  293216  8750787   8750637  ...         NaN   \n\n       commenthidden suppressed        date  year  \n726644           NaN        NaN  2006-11-08  2006  \n726645           NaN        NaN  2006-11-09  2006  \n726646           NaN        NaN  2006-11-09  2006  \n726647           NaN        NaN  2006-11-09  2006  \n726648           NaN        NaN  2006-11-09  2006  \n\n[5 rows x 18 columns]",
      "text/html": "<div>\n<style scoped>\n    .dataframe tbody tr th:only-of-type {\n        vertical-align: middle;\n    }\n\n    .dataframe tbody tr th {\n        vertical-align: top;\n    }\n\n    .dataframe thead th {\n        text-align: right;\n    }\n</style>\n<table border=\"1\" class=\"dataframe\">\n  <thead>\n    <tr style=\"text-align: right;\">\n      <th></th>\n      <th>userid</th>\n      <th>user</th>\n      <th>pageid</th>\n      <th>revid</th>\n      <th>parentid</th>\n      <th>...</th>\n      <th>texthidden</th>\n      <th>commenthidden</th>\n      <th>suppressed</th>\n      <th>date</th>\n      <th>year</th>\n    </tr>\n  </thead>\n  <tbody>\n    <tr>\n      <th>726644</th>\n      <td>87382</td>\n      <td>移動用アカウント</td>\n      <td>3859</td>\n      <td>8734275</td>\n      <td>6157322</td>\n      <td>...</td>\n      <td>NaN</td>\n      <td>NaN</td>\n      <td>NaN</td>\n      <td>2006-11-08</td>\n      <td>2006</td>\n    </tr>\n    <tr>\n      <th>726645</th>\n      <td>87382</td>\n      <td>移動用アカウント</td>\n      <td>293216</td>\n      <td>8750637</td>\n      <td>8749654</td>\n      <td>...</td>\n      <td>NaN</td>\n      <td>NaN</td>\n      <td>NaN</td>\n      <td>2006-11-09</td>\n      <td>2006</td>\n    </tr>\n    <tr>\n      <th>726646</th>\n      <td>87382</td>\n      <td>移動用アカウント</td>\n      <td>758617</td>\n      <td>8750638</td>\n      <td>0</td>\n      <td>...</td>\n      <td>NaN</td>\n      <td>NaN</td>\n      <td>NaN</td>\n      <td>2006-11-09</td>\n      <td>2006</td>\n    </tr>\n    <tr>\n      <th>726647</th>\n      <td>87382</td>\n      <td>移動用アカウント</td>\n      <td>8292</td>\n      <td>8750648</td>\n      <td>8748829</td>\n      <td>...</td>\n      <td>NaN</td>\n      <td>NaN</td>\n      <td>NaN</td>\n      <td>2006-11-09</td>\n      <td>2006</td>\n    </tr>\n    <tr>\n      <th>726648</th>\n      <td>87382</td>\n      <td>移動用アカウント</td>\n      <td>293216</td>\n      <td>8750787</td>\n      <td>8750637</td>\n      <td>...</td>\n      <td>NaN</td>\n      <td>NaN</td>\n      <td>NaN</td>\n      <td>2006-11-09</td>\n      <td>2006</td>\n    </tr>\n  </tbody>\n</table>\n<p>5 rows × 18 columns</p>\n</div>"
     },
     "metadata": {},
     "execution_count": 138
    }
   ],
   "source": [
    "# for each language edition, clean and combine \n",
    "\n",
    "_datadir = './user_start_ja/'\n",
    "# from brian's code:\n",
    "user_start_dict = dict()\n",
    "for filename in [i for i in os.listdir(_datadir) if 'tsv' in i and 'user' in i and 'start' in i]:\n",
    "    _df = pd.read_csv(_datadir + filename,sep='\\t',encoding='utf8',index_col=0)\n",
    "    user_start_dict[filename[:-4]] = _df\n",
    "user_start_rev_df = pd.concat(user_start_dict.values()).reset_index(drop=True)\n",
    "user_start_rev_df['timestamp'] = pd.to_datetime(user_start_rev_df['timestamp'])\n",
    "user_start_rev_df['date'] = user_start_rev_df['timestamp'].apply(lambda x:x.date())\n",
    "user_start_rev_df['year'] = user_start_rev_df['date'].apply(lambda x:x.year)\n",
    "user_start_rev_df.to_csv('user_start_revisions_ja.tsv',sep='\\t',encoding='utf8')\n",
    "user_start_rev_df.tail()"
   ]
  },
  {
   "cell_type": "code",
   "execution_count": 139,
   "metadata": {},
   "outputs": [
    {
     "output_type": "execute_result",
     "data": {
      "text/plain": "           userid      user    pageid      revid   parentid  ...  texthidden  \\\n13577345  1761937  Instinct   3997995  199148373  199128898  ...         NaN   \n13577346  1761937  Instinct  16284542  199148561  198757228  ...         NaN   \n13577347  1761937  Instinct  16284542  199148705  199148561  ...         NaN   \n13577348  1761937  Instinct  16284542  199149676  199148705  ...         NaN   \n13577349  1761937  Instinct  16344472  199149907  198994853  ...         NaN   \n\n         commenthidden suppressed        date  year  \n13577345           NaN        NaN  2008-03-18  2008  \n13577346           NaN        NaN  2008-03-18  2008  \n13577347           NaN        NaN  2008-03-18  2008  \n13577348           NaN        NaN  2008-03-18  2008  \n13577349           NaN        NaN  2008-03-18  2008  \n\n[5 rows x 18 columns]",
      "text/html": "<div>\n<style scoped>\n    .dataframe tbody tr th:only-of-type {\n        vertical-align: middle;\n    }\n\n    .dataframe tbody tr th {\n        vertical-align: top;\n    }\n\n    .dataframe thead th {\n        text-align: right;\n    }\n</style>\n<table border=\"1\" class=\"dataframe\">\n  <thead>\n    <tr style=\"text-align: right;\">\n      <th></th>\n      <th>userid</th>\n      <th>user</th>\n      <th>pageid</th>\n      <th>revid</th>\n      <th>parentid</th>\n      <th>...</th>\n      <th>texthidden</th>\n      <th>commenthidden</th>\n      <th>suppressed</th>\n      <th>date</th>\n      <th>year</th>\n    </tr>\n  </thead>\n  <tbody>\n    <tr>\n      <th>13577345</th>\n      <td>1761937</td>\n      <td>Instinct</td>\n      <td>3997995</td>\n      <td>199148373</td>\n      <td>199128898</td>\n      <td>...</td>\n      <td>NaN</td>\n      <td>NaN</td>\n      <td>NaN</td>\n      <td>2008-03-18</td>\n      <td>2008</td>\n    </tr>\n    <tr>\n      <th>13577346</th>\n      <td>1761937</td>\n      <td>Instinct</td>\n      <td>16284542</td>\n      <td>199148561</td>\n      <td>198757228</td>\n      <td>...</td>\n      <td>NaN</td>\n      <td>NaN</td>\n      <td>NaN</td>\n      <td>2008-03-18</td>\n      <td>2008</td>\n    </tr>\n    <tr>\n      <th>13577347</th>\n      <td>1761937</td>\n      <td>Instinct</td>\n      <td>16284542</td>\n      <td>199148705</td>\n      <td>199148561</td>\n      <td>...</td>\n      <td>NaN</td>\n      <td>NaN</td>\n      <td>NaN</td>\n      <td>2008-03-18</td>\n      <td>2008</td>\n    </tr>\n    <tr>\n      <th>13577348</th>\n      <td>1761937</td>\n      <td>Instinct</td>\n      <td>16284542</td>\n      <td>199149676</td>\n      <td>199148705</td>\n      <td>...</td>\n      <td>NaN</td>\n      <td>NaN</td>\n      <td>NaN</td>\n      <td>2008-03-18</td>\n      <td>2008</td>\n    </tr>\n    <tr>\n      <th>13577349</th>\n      <td>1761937</td>\n      <td>Instinct</td>\n      <td>16344472</td>\n      <td>199149907</td>\n      <td>198994853</td>\n      <td>...</td>\n      <td>NaN</td>\n      <td>NaN</td>\n      <td>NaN</td>\n      <td>2008-03-18</td>\n      <td>2008</td>\n    </tr>\n  </tbody>\n</table>\n<p>5 rows × 18 columns</p>\n</div>"
     },
     "metadata": {},
     "execution_count": 139
    }
   ],
   "source": [
    "_datadir = './user_start_en/'\n",
    "# from brian's code:\n",
    "user_start_dict = dict()\n",
    "for filename in [i for i in os.listdir(_datadir) if 'tsv' in i and 'user' in i and 'start' in i]:\n",
    "    _df = pd.read_csv(_datadir + filename,sep='\\t',encoding='utf8',index_col=0)\n",
    "    user_start_dict[filename[:-4]] = _df\n",
    "user_start_rev_df = pd.concat(user_start_dict.values()).reset_index(drop=True)\n",
    "user_start_rev_df['timestamp'] = pd.to_datetime(user_start_rev_df['timestamp'])\n",
    "user_start_rev_df['date'] = user_start_rev_df['timestamp'].apply(lambda x:x.date())\n",
    "user_start_rev_df['year'] = user_start_rev_df['date'].apply(lambda x:x.year)\n",
    "user_start_rev_df.to_csv('user_start_revisions_en.tsv',sep='\\t',encoding='utf8')\n",
    "user_start_rev_df.tail()"
   ]
  },
  {
   "cell_type": "code",
   "execution_count": 140,
   "metadata": {},
   "outputs": [
    {
     "output_type": "execute_result",
     "data": {
      "text/plain": "         userid           user   pageid     revid  parentid  ...  texthidden  \\\n1166231  114003  Fidelmoquegua  1222480  11899959  11899912  ...         NaN   \n1166232  114003  Fidelmoquegua  1222484  11899968         0  ...         NaN   \n1166233  114003  Fidelmoquegua   515488  11900046  11898805  ...         NaN   \n1166234  114003  Fidelmoquegua   726599  11900114  11897597  ...         NaN   \n1166235  114003  Fidelmoquegua  1226530  11945962         0  ...         NaN   \n\n        suppressed commenthidden        date  year  \n1166231        NaN           NaN  2007-10-08  2007  \n1166232        NaN           NaN  2007-10-08  2007  \n1166233        NaN           NaN  2007-10-08  2007  \n1166234        NaN           NaN  2007-10-08  2007  \n1166235        NaN           NaN  2007-10-09  2007  \n\n[5 rows x 18 columns]",
      "text/html": "<div>\n<style scoped>\n    .dataframe tbody tr th:only-of-type {\n        vertical-align: middle;\n    }\n\n    .dataframe tbody tr th {\n        vertical-align: top;\n    }\n\n    .dataframe thead th {\n        text-align: right;\n    }\n</style>\n<table border=\"1\" class=\"dataframe\">\n  <thead>\n    <tr style=\"text-align: right;\">\n      <th></th>\n      <th>userid</th>\n      <th>user</th>\n      <th>pageid</th>\n      <th>revid</th>\n      <th>parentid</th>\n      <th>...</th>\n      <th>texthidden</th>\n      <th>suppressed</th>\n      <th>commenthidden</th>\n      <th>date</th>\n      <th>year</th>\n    </tr>\n  </thead>\n  <tbody>\n    <tr>\n      <th>1166231</th>\n      <td>114003</td>\n      <td>Fidelmoquegua</td>\n      <td>1222480</td>\n      <td>11899959</td>\n      <td>11899912</td>\n      <td>...</td>\n      <td>NaN</td>\n      <td>NaN</td>\n      <td>NaN</td>\n      <td>2007-10-08</td>\n      <td>2007</td>\n    </tr>\n    <tr>\n      <th>1166232</th>\n      <td>114003</td>\n      <td>Fidelmoquegua</td>\n      <td>1222484</td>\n      <td>11899968</td>\n      <td>0</td>\n      <td>...</td>\n      <td>NaN</td>\n      <td>NaN</td>\n      <td>NaN</td>\n      <td>2007-10-08</td>\n      <td>2007</td>\n    </tr>\n    <tr>\n      <th>1166233</th>\n      <td>114003</td>\n      <td>Fidelmoquegua</td>\n      <td>515488</td>\n      <td>11900046</td>\n      <td>11898805</td>\n      <td>...</td>\n      <td>NaN</td>\n      <td>NaN</td>\n      <td>NaN</td>\n      <td>2007-10-08</td>\n      <td>2007</td>\n    </tr>\n    <tr>\n      <th>1166234</th>\n      <td>114003</td>\n      <td>Fidelmoquegua</td>\n      <td>726599</td>\n      <td>11900114</td>\n      <td>11897597</td>\n      <td>...</td>\n      <td>NaN</td>\n      <td>NaN</td>\n      <td>NaN</td>\n      <td>2007-10-08</td>\n      <td>2007</td>\n    </tr>\n    <tr>\n      <th>1166235</th>\n      <td>114003</td>\n      <td>Fidelmoquegua</td>\n      <td>1226530</td>\n      <td>11945962</td>\n      <td>0</td>\n      <td>...</td>\n      <td>NaN</td>\n      <td>NaN</td>\n      <td>NaN</td>\n      <td>2007-10-09</td>\n      <td>2007</td>\n    </tr>\n  </tbody>\n</table>\n<p>5 rows × 18 columns</p>\n</div>"
     },
     "metadata": {},
     "execution_count": 140
    }
   ],
   "source": [
    "_datadir = './user_start_es/'\n",
    "# from brian's code:\n",
    "user_start_dict = dict()\n",
    "for filename in [i for i in os.listdir(_datadir) if 'tsv' in i and 'user' in i and 'start' in i]:\n",
    "    _df = pd.read_csv(_datadir + filename,sep='\\t',encoding='utf8',index_col=0)\n",
    "    user_start_dict[filename[:-4]] = _df\n",
    "user_start_rev_df = pd.concat(user_start_dict.values()).reset_index(drop=True)\n",
    "user_start_rev_df['timestamp'] = pd.to_datetime(user_start_rev_df['timestamp'])\n",
    "user_start_rev_df['date'] = user_start_rev_df['timestamp'].apply(lambda x:x.date())\n",
    "user_start_rev_df['year'] = user_start_rev_df['date'].apply(lambda x:x.year)\n",
    "user_start_rev_df.to_csv('user_start_revisions_es.tsv',sep='\\t',encoding='utf8')\n",
    "user_start_rev_df.tail()"
   ]
  },
  {
   "cell_type": "code",
   "execution_count": 141,
   "metadata": {},
   "outputs": [
    {
     "output_type": "execute_result",
     "data": {
      "text/plain": "         userid    user  pageid    revid  parentid  ...  suppressed top  \\\n2108178   14995  Marbot  891691  9130612   8803288  ...         NaN NaN   \n2108179   14995  Marbot  917671  9130686         0  ...         NaN NaN   \n2108180   14995  Marbot  874031  9130714   8803312  ...         NaN NaN   \n2108181   14995  Marbot  917671  9131267   9130686  ...         NaN NaN   \n2108182   14995  Marbot  629083  9131975   8982695  ...         NaN NaN   \n\n        commenthidden        date  year  \n2108178           NaN  2005-09-07  2005  \n2108179           NaN  2005-09-07  2005  \n2108180           NaN  2005-09-07  2005  \n2108181           NaN  2005-09-07  2005  \n2108182           NaN  2005-09-07  2005  \n\n[5 rows x 18 columns]",
      "text/html": "<div>\n<style scoped>\n    .dataframe tbody tr th:only-of-type {\n        vertical-align: middle;\n    }\n\n    .dataframe tbody tr th {\n        vertical-align: top;\n    }\n\n    .dataframe thead th {\n        text-align: right;\n    }\n</style>\n<table border=\"1\" class=\"dataframe\">\n  <thead>\n    <tr style=\"text-align: right;\">\n      <th></th>\n      <th>userid</th>\n      <th>user</th>\n      <th>pageid</th>\n      <th>revid</th>\n      <th>parentid</th>\n      <th>...</th>\n      <th>suppressed</th>\n      <th>top</th>\n      <th>commenthidden</th>\n      <th>date</th>\n      <th>year</th>\n    </tr>\n  </thead>\n  <tbody>\n    <tr>\n      <th>2108178</th>\n      <td>14995</td>\n      <td>Marbot</td>\n      <td>891691</td>\n      <td>9130612</td>\n      <td>8803288</td>\n      <td>...</td>\n      <td>NaN</td>\n      <td>NaN</td>\n      <td>NaN</td>\n      <td>2005-09-07</td>\n      <td>2005</td>\n    </tr>\n    <tr>\n      <th>2108179</th>\n      <td>14995</td>\n      <td>Marbot</td>\n      <td>917671</td>\n      <td>9130686</td>\n      <td>0</td>\n      <td>...</td>\n      <td>NaN</td>\n      <td>NaN</td>\n      <td>NaN</td>\n      <td>2005-09-07</td>\n      <td>2005</td>\n    </tr>\n    <tr>\n      <th>2108180</th>\n      <td>14995</td>\n      <td>Marbot</td>\n      <td>874031</td>\n      <td>9130714</td>\n      <td>8803312</td>\n      <td>...</td>\n      <td>NaN</td>\n      <td>NaN</td>\n      <td>NaN</td>\n      <td>2005-09-07</td>\n      <td>2005</td>\n    </tr>\n    <tr>\n      <th>2108181</th>\n      <td>14995</td>\n      <td>Marbot</td>\n      <td>917671</td>\n      <td>9131267</td>\n      <td>9130686</td>\n      <td>...</td>\n      <td>NaN</td>\n      <td>NaN</td>\n      <td>NaN</td>\n      <td>2005-09-07</td>\n      <td>2005</td>\n    </tr>\n    <tr>\n      <th>2108182</th>\n      <td>14995</td>\n      <td>Marbot</td>\n      <td>629083</td>\n      <td>9131975</td>\n      <td>8982695</td>\n      <td>...</td>\n      <td>NaN</td>\n      <td>NaN</td>\n      <td>NaN</td>\n      <td>2005-09-07</td>\n      <td>2005</td>\n    </tr>\n  </tbody>\n</table>\n<p>5 rows × 18 columns</p>\n</div>"
     },
     "metadata": {},
     "execution_count": 141
    }
   ],
   "source": [
    "_datadir = './user_start_de/'\n",
    "# from brian's code:\n",
    "user_start_dict = dict()\n",
    "for filename in [i for i in os.listdir(_datadir) if 'tsv' in i and 'user' in i and 'start' in i]:\n",
    "    _df = pd.read_csv(_datadir + filename,sep='\\t',encoding='utf8',index_col=0)\n",
    "    user_start_dict[filename[:-4]] = _df\n",
    "user_start_rev_df = pd.concat(user_start_dict.values()).reset_index(drop=True)\n",
    "user_start_rev_df['timestamp'] = pd.to_datetime(user_start_rev_df['timestamp'])\n",
    "user_start_rev_df['date'] = user_start_rev_df['timestamp'].apply(lambda x:x.date())\n",
    "user_start_rev_df['year'] = user_start_rev_df['date'].apply(lambda x:x.year)\n",
    "user_start_rev_df.to_csv('user_start_revisions_de.tsv',sep='\\t',encoding='utf8')\n",
    "user_start_rev_df.tail()"
   ]
  },
  {
   "cell_type": "code",
   "execution_count": 142,
   "metadata": {},
   "outputs": [
    {
     "output_type": "execute_result",
     "data": {
      "text/plain": "          userid          user   pageid      revid   parentid  ...  \\\n1477297  1629939  YotaMoteuchi  9576089  120653949  120653937  ...   \n1477298  1629939  YotaMoteuchi  9576103  120665359  120551919  ...   \n1477299  1629939  YotaMoteuchi    39437  120700589  120597667  ...   \n1477300  1629939  YotaMoteuchi    28095  120702323  120607616  ...   \n1477301  1629939  YotaMoteuchi    28095  120708343  120702323  ...   \n\n         texthidden commenthidden suppressed        date  year  \n1477297         NaN           NaN        NaN  2015-11-20  2015  \n1477298         NaN           NaN        NaN  2015-11-21  2015  \n1477299         NaN           NaN        NaN  2015-11-22  2015  \n1477300         NaN           NaN        NaN  2015-11-22  2015  \n1477301         NaN           NaN        NaN  2015-11-22  2015  \n\n[5 rows x 18 columns]",
      "text/html": "<div>\n<style scoped>\n    .dataframe tbody tr th:only-of-type {\n        vertical-align: middle;\n    }\n\n    .dataframe tbody tr th {\n        vertical-align: top;\n    }\n\n    .dataframe thead th {\n        text-align: right;\n    }\n</style>\n<table border=\"1\" class=\"dataframe\">\n  <thead>\n    <tr style=\"text-align: right;\">\n      <th></th>\n      <th>userid</th>\n      <th>user</th>\n      <th>pageid</th>\n      <th>revid</th>\n      <th>parentid</th>\n      <th>...</th>\n      <th>texthidden</th>\n      <th>commenthidden</th>\n      <th>suppressed</th>\n      <th>date</th>\n      <th>year</th>\n    </tr>\n  </thead>\n  <tbody>\n    <tr>\n      <th>1477297</th>\n      <td>1629939</td>\n      <td>YotaMoteuchi</td>\n      <td>9576089</td>\n      <td>120653949</td>\n      <td>120653937</td>\n      <td>...</td>\n      <td>NaN</td>\n      <td>NaN</td>\n      <td>NaN</td>\n      <td>2015-11-20</td>\n      <td>2015</td>\n    </tr>\n    <tr>\n      <th>1477298</th>\n      <td>1629939</td>\n      <td>YotaMoteuchi</td>\n      <td>9576103</td>\n      <td>120665359</td>\n      <td>120551919</td>\n      <td>...</td>\n      <td>NaN</td>\n      <td>NaN</td>\n      <td>NaN</td>\n      <td>2015-11-21</td>\n      <td>2015</td>\n    </tr>\n    <tr>\n      <th>1477299</th>\n      <td>1629939</td>\n      <td>YotaMoteuchi</td>\n      <td>39437</td>\n      <td>120700589</td>\n      <td>120597667</td>\n      <td>...</td>\n      <td>NaN</td>\n      <td>NaN</td>\n      <td>NaN</td>\n      <td>2015-11-22</td>\n      <td>2015</td>\n    </tr>\n    <tr>\n      <th>1477300</th>\n      <td>1629939</td>\n      <td>YotaMoteuchi</td>\n      <td>28095</td>\n      <td>120702323</td>\n      <td>120607616</td>\n      <td>...</td>\n      <td>NaN</td>\n      <td>NaN</td>\n      <td>NaN</td>\n      <td>2015-11-22</td>\n      <td>2015</td>\n    </tr>\n    <tr>\n      <th>1477301</th>\n      <td>1629939</td>\n      <td>YotaMoteuchi</td>\n      <td>28095</td>\n      <td>120708343</td>\n      <td>120702323</td>\n      <td>...</td>\n      <td>NaN</td>\n      <td>NaN</td>\n      <td>NaN</td>\n      <td>2015-11-22</td>\n      <td>2015</td>\n    </tr>\n  </tbody>\n</table>\n<p>5 rows × 18 columns</p>\n</div>"
     },
     "metadata": {},
     "execution_count": 142
    }
   ],
   "source": [
    "_datadir = './user_start_fr/'\n",
    "# from brian's code:\n",
    "user_start_dict = dict()\n",
    "for filename in [i for i in os.listdir(_datadir) if 'tsv' in i and 'user' in i and 'start' in i]:\n",
    "    _df = pd.read_csv(_datadir + filename,sep='\\t',encoding='utf8',index_col=0)\n",
    "    user_start_dict[filename[:-4]] = _df\n",
    "user_start_rev_df = pd.concat(user_start_dict.values()).reset_index(drop=True)\n",
    "user_start_rev_df['timestamp'] = pd.to_datetime(user_start_rev_df['timestamp'])\n",
    "user_start_rev_df['date'] = user_start_rev_df['timestamp'].apply(lambda x:x.date())\n",
    "user_start_rev_df['year'] = user_start_rev_df['date'].apply(lambda x:x.year)\n",
    "user_start_rev_df.to_csv('user_start_revisions_fr.tsv',sep='\\t',encoding='utf8')\n",
    "user_start_rev_df.tail()"
   ]
  },
  {
   "cell_type": "markdown",
   "metadata": {},
   "source": [
    "## Exported and/or on disk\n",
    "... things we need for analysis to disk. For each language edition:\n",
    "- all revisions for rule / rule talk pages\n",
    "- all users, top users\n",
    "    - all of their revisions to the rule pages (subset from all revisions)\n",
    "- all bots, top bots\n",
    "    - all of their revisions to the rule pages (subset from all revisions)\n",
    "- all ip editors, top ip editors\n",
    "    - all of their revisions to the rule pages (subset from all revisions)"
   ]
  },
  {
   "cell_type": "code",
   "execution_count": 113,
   "metadata": {
    "tags": []
   },
   "outputs": [
    {
     "output_type": "stream",
     "name": "stdout",
     "text": "13858\n      userid                                    name  editcount registration  \\\n1628     NaN                               PeeJay2K3        NaN          NaN   \n1750     NaN                         142.160.131.202        NaN          NaN   \n4000     NaN                          195.40.200.146        NaN          NaN   \n4450     NaN                            67.14.236.50        NaN          NaN   \n4500     NaN                           142.160.89.97        NaN          NaN   \n5113     NaN                                      GT        NaN          NaN   \n6300     NaN                          174.141.182.82        NaN          NaN   \n6301     NaN                            174.3.98.236        NaN          NaN   \n6550     NaN                            62.178.100.7        NaN          NaN   \n7600     NaN  2601:586:4405:38E6:8C10:AED4:7F56:22F5        NaN          NaN   \n\n     groups gender missing invalid  \n1628    NaN    NaN             NaN  \n1750    NaN    NaN     NaN          \n4000    NaN    NaN     NaN          \n4450    NaN    NaN     NaN          \n4500    NaN    NaN     NaN          \n5113    NaN    NaN             NaN  \n6300    NaN    NaN     NaN          \n6301    NaN    NaN     NaN          \n6550    NaN    NaN     NaN          \n7600    NaN    NaN     NaN          \n"
    }
   ],
   "source": [
    "# checking if there really are no missing ones in non-english wikipedias\n",
    "\n",
    "user_info = get_user_info(list(top_users_en.index),endpoint='en.wikipedia.org/w/api.php')\n",
    "print(len(user_info))\n",
    "\n",
    "_df0 = pd.DataFrame(user_info)\n",
    "_sorted = _df0.sort_values( by='editcount', ascending=True, na_position='first' )\n",
    "print(_sorted.head(10))\n"
   ]
  },
  {
   "cell_type": "code",
   "execution_count": 119,
   "metadata": {
    "tags": []
   },
   "outputs": [
    {
     "output_type": "stream",
     "name": "stdout",
     "text": "890\n      userid                       name  editcount          registration  \\\n439  4850052                      Edgar          0  2017-12-12T20:19:33Z   \n835   361659                  Palomasoy          3  2007-04-09T17:00:40Z   \n862  1152097                     Ansoni          4  2009-07-19T19:15:18Z   \n753   175070            Afroditax100pre          5  2006-07-04T21:07:49Z   \n743   104196          Guillecaballero 4          6  2006-02-28T17:18:00Z   \n754   241183            Walter dolorier          6  2006-10-22T04:28:08Z   \n848  5707282  Keily Sofía Ruano Guevara         11  2020-01-25T17:18:13Z   \n881   331077                  Saidverse         12  2007-03-10T20:35:13Z   \n831  5162986             Desconocido 12         13  2018-09-24T20:28:54Z   \n742   894475                    Neolari         13  2008-11-22T14:41:14Z   \n\n        groups   gender  \n439  [*, user]  unknown  \n835  [*, user]  unknown  \n862  [*, user]  unknown  \n753  [*, user]  unknown  \n743  [*, user]  unknown  \n754  [*, user]  unknown  \n848  [*, user]  unknown  \n881  [*, user]  unknown  \n831  [*, user]  unknown  \n742  [*, user]  unknown  \n"
    }
   ],
   "source": [
    "user_info = get_user_info(list(top_users_es.index),endpoint='es.wikipedia.org/w/api.php')\n",
    "print(len(user_info))\n",
    "\n",
    "_df0 = pd.DataFrame(user_info)\n",
    "_sorted = _df0.sort_values( by='editcount', ascending=True, na_position='first' )\n",
    "print(_sorted.head(10))"
   ]
  },
  {
   "cell_type": "code",
   "execution_count": 120,
   "metadata": {
    "tags": []
   },
   "outputs": [
    {
     "output_type": "stream",
     "name": "stdout",
     "text": "[]\n"
    }
   ],
   "source": [
    "missing_users = _df0[_df0['editcount'].isnull()]['name'].values\n",
    "print(missing_users)"
   ]
  },
  {
   "cell_type": "code",
   "execution_count": 116,
   "metadata": {
    "tags": []
   },
   "outputs": [
    {
     "output_type": "stream",
     "name": "stdout",
     "text": "3024\n       userid                    name  editcount          registration  \\\n2766  2807580                Melsaran          0  2017-12-13T11:22:07Z   \n2273  1215965            Cambalachero          2  2011-04-26T18:00:55Z   \n2563  3044657             Pongsug1150          3  2018-10-22T21:56:30Z   \n2676   568702              PhilKnight          4  2008-06-07T20:57:14Z   \n2499   202918                   Dilos          5  2006-03-25T13:23:02Z   \n2498  2381259               Dilchdran          5  2016-03-09T10:17:31Z   \n2526   574601               Visari123          5  2008-06-20T21:45:44Z   \n2578  1353068                Q2012J05          6  2012-01-05T20:39:43Z   \n2439   122959               BurkhardS          6                  None   \n2966   609108             SMcCandlish          6  2008-09-08T15:57:20Z   \n2825  1332384               Seifghazi          7  2011-11-25T17:12:55Z   \n1288  2320227   Ich mache Seiten leer          8  2015-12-12T13:11:50Z   \n2259   497195           Azeton~dewiki          9  2008-01-04T13:15:15Z   \n2325   101529                 Werbung         11                  None   \n2386   445279                   5uenf         11  2007-08-30T18:57:46Z   \n2342   166879                  SuperS         11  2005-12-25T21:22:49Z   \n2256   295484                  Agovis         14  2006-10-28T17:26:51Z   \n2415    47776           Andlan~dewiki         15                  None   \n2833   836359          Serpentserpent         15  2009-09-25T17:40:15Z   \n1173   555395       Lasst den quatsch         16  2008-05-09T06:03:50Z   \n933   1126673          Bunu yapacağım         20  2010-12-13T00:57:31Z   \n2926  1198601                  RüHeRi         20  2011-03-27T14:35:41Z   \n2546  1722524                  Deodoc         21  2013-08-27T18:51:38Z   \n2405  2379398  Bundesagentur für Bobo         27  2016-03-06T16:45:38Z   \n2246   929756            Einheit 2367         30  2010-02-09T16:15:22Z   \n\n                        groups   gender  \n2766  [*, user, autoconfirmed]  unknown  \n2273  [*, user, autoconfirmed]  unknown  \n2563  [*, user, autoconfirmed]  unknown  \n2676  [*, user, autoconfirmed]  unknown  \n2499  [*, user, autoconfirmed]  unknown  \n2498  [*, user, autoconfirmed]  unknown  \n2526  [*, user, autoconfirmed]  unknown  \n2578  [*, user, autoconfirmed]  unknown  \n2439  [*, user, autoconfirmed]  unknown  \n2966  [*, user, autoconfirmed]     male  \n2825  [*, user, autoconfirmed]  unknown  \n1288  [*, user, autoconfirmed]  unknown  \n2259  [*, user, autoconfirmed]  unknown  \n2325  [*, user, autoconfirmed]  unknown  \n2386  [*, user, autoconfirmed]  unknown  \n2342  [*, user, autoconfirmed]  unknown  \n2256  [*, user, autoconfirmed]  unknown  \n2415  [*, user, autoconfirmed]  unknown  \n2833  [*, user, autoconfirmed]  unknown  \n1173  [*, user, autoconfirmed]  unknown  \n933   [*, user, autoconfirmed]  unknown  \n2926  [*, user, autoconfirmed]  unknown  \n2546  [*, user, autoconfirmed]  unknown  \n2405  [*, user, autoconfirmed]  unknown  \n2246  [*, user, autoconfirmed]  unknown  \n"
    }
   ],
   "source": [
    "user_info = get_user_info(list(top_users_de.index),endpoint='de.wikipedia.org/w/api.php')\n",
    "print(len(user_info))\n",
    "\n",
    "_df0 = pd.DataFrame(user_info)\n",
    "_sorted = _df0.sort_values( by='editcount', ascending=True, na_position='first' )\n",
    "print(_sorted.head(25))"
   ]
  },
  {
   "cell_type": "code",
   "execution_count": 122,
   "metadata": {
    "tags": []
   },
   "outputs": [
    {
     "output_type": "stream",
     "name": "stdout",
     "text": "1303\n         userid           name  editcount          registration  \\\n297         NaN       Lotus 50        NaN                   NaN   \n895   2253514.0           Buzz        0.0  2015-06-09T23:05:48Z   \n365   2978977.0  (Former user)        0.0  2017-12-12T19:27:36Z   \n1297   407746.0   Bambambigolo        1.0  2008-06-03T19:13:13Z   \n1271  3519916.0     Jeanevan12        4.0  2019-07-13T07:01:23Z   \n\n                        groups   gender missing  \n297                        NaN      NaN          \n895   [*, user, autoconfirmed]  unknown     NaN  \n365   [*, user, autoconfirmed]  unknown     NaN  \n1297  [*, user, autoconfirmed]  unknown     NaN  \n1271  [*, user, autoconfirmed]  unknown     NaN  \n"
    }
   ],
   "source": [
    "user_info = get_user_info(list(top_users_fr.index),endpoint='fr.wikipedia.org/w/api.php')\n",
    "print(len(user_info))\n",
    "\n",
    "_df0 = pd.DataFrame(user_info)\n",
    "_sorted = _df0.sort_values( by='editcount', ascending=True, na_position='first' )\n",
    "print(_sorted.head(5))"
   ]
  },
  {
   "cell_type": "code",
   "execution_count": 123,
   "metadata": {
    "tags": []
   },
   "outputs": [
    {
     "output_type": "stream",
     "name": "stdout",
     "text": "['Lotus 50']\n"
    }
   ],
   "source": [
    "missing_users = _df0[_df0['editcount'].isnull()]['name'].values\n",
    "print(missing_users)"
   ]
  },
  {
   "cell_type": "code",
   "execution_count": 121,
   "metadata": {
    "tags": []
   },
   "outputs": [
    {
     "output_type": "stream",
     "name": "stdout",
     "text": "1243\n       userid            name  editcount          registration  \\\n1171   161703          ツカジーニー          2  2007-10-04T23:50:13Z   \n781   1504861          내세요를ㅠ논          6  2019-06-23T08:55:05Z   \n1181   218980    Foppard22311          7  2008-06-10T00:00:08Z   \n1199    11153             ジンボ          7                  None   \n1202   338934           アイボリー          7  2009-08-17T04:53:01Z   \n501   1677727       金沢のバスオタ 1          8  2020-07-24T05:19:45Z   \n1056   685981         Sasa-tr          8  2012-12-04T00:38:42Z   \n1006    93752           神崎ゆきや          8  2006-11-11T04:02:38Z   \n811    134667       プロ猿ファー・ゴル         10  2007-05-27T05:57:53Z   \n974    361602      Everystory         11  2009-11-02T12:50:15Z   \n855     78958      Shortshift         13  2006-08-31T17:22:09Z   \n981    672397           高橋 ヒロ         13  2012-10-21T01:19:53Z   \n1189  1006357          ポイポイ青年         14  2015-08-16T01:26:17Z   \n1200  1306856          Igojin         14  2018-02-16T10:49:01Z   \n1223   961190         Nakki51         17  2015-04-12T22:24:34Z   \n1030   787059        RRBDDSKI         17  2013-11-07T04:24:02Z   \n541   1174589         ウィキっ子です         19  2017-01-20T06:49:36Z   \n741    214516           のくたーん         20  2008-05-23T05:28:35Z   \n1051       77            Attu         21                  None   \n1034  1038519           長坂てつや         23  2015-11-27T16:33:35Z   \n985    207300  2ch-pDTBpptWjg         24  2008-04-21T06:41:04Z   \n1050  1625322             金口進         26  2020-04-04T18:32:21Z   \n1187   230648     GoliGollila         32  2008-07-30T06:38:31Z   \n1152    91997          Masden         33  2006-11-02T04:14:18Z   \n1081   554105   Wakayama plan         33  2011-09-14T05:55:40Z   \n\n                        groups   gender  \n1171                 [*, user]  unknown  \n781                  [*, user]  unknown  \n1181                 [*, user]  unknown  \n1199                 [*, user]  unknown  \n1202                 [*, user]  unknown  \n501                  [*, user]  unknown  \n1056                 [*, user]  unknown  \n1006                 [*, user]  unknown  \n811   [*, user, autoconfirmed]  unknown  \n974   [*, user, autoconfirmed]  unknown  \n855   [*, user, autoconfirmed]  unknown  \n981   [*, user, autoconfirmed]  unknown  \n1189  [*, user, autoconfirmed]     male  \n1200  [*, user, autoconfirmed]  unknown  \n1223  [*, user, autoconfirmed]  unknown  \n1030  [*, user, autoconfirmed]  unknown  \n541   [*, user, autoconfirmed]  unknown  \n741   [*, user, autoconfirmed]  unknown  \n1051  [*, user, autoconfirmed]  unknown  \n1034  [*, user, autoconfirmed]  unknown  \n985   [*, user, autoconfirmed]  unknown  \n1050  [*, user, autoconfirmed]  unknown  \n1187  [*, user, autoconfirmed]  unknown  \n1152  [*, user, autoconfirmed]  unknown  \n1081  [*, user, autoconfirmed]  unknown  \n"
    }
   ],
   "source": [
    "user_info = get_user_info(list(top_users_ja.index),endpoint='ja.wikipedia.org/w/api.php')\n",
    "print(len(user_info))\n",
    "\n",
    "_df0 = pd.DataFrame(user_info)\n",
    "_sorted = _df0.sort_values( by='editcount', ascending=True, na_position='first' )\n",
    "print(_sorted.head(25))"
   ]
  },
  {
   "cell_type": "code",
   "execution_count": null,
   "metadata": {},
   "outputs": [],
   "source": []
  }
 ],
 "metadata": {
  "kernelspec": {
   "display_name": "Python 3.8.2 64-bit",
   "language": "python",
   "name": "python_defaultSpec_1596663271547"
  },
  "language_info": {
   "codemirror_mode": {
    "name": "ipython",
    "version": 3
   },
   "file_extension": ".py",
   "mimetype": "text/x-python",
   "name": "python",
   "nbconvert_exporter": "python",
   "pygments_lexer": "ipython3",
   "version": "3.5.2"
  }
 },
 "nbformat": 4,
 "nbformat_minor": 4
}