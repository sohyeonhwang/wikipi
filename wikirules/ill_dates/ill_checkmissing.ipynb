{
 "metadata": {
  "language_info": {
   "codemirror_mode": {
    "name": "ipython",
    "version": 3
   },
   "file_extension": ".py",
   "mimetype": "text/x-python",
   "name": "python",
   "nbconvert_exporter": "python",
   "pygments_lexer": "ipython3",
   "version": "3.8.2-final"
  },
  "orig_nbformat": 2,
  "kernelspec": {
   "name": "python_defaultSpec_1599258695280",
   "display_name": "Python 3.8.2 64-bit"
  }
 },
 "nbformat": 4,
 "nbformat_minor": 2,
 "cells": [
  {
   "cell_type": "markdown",
   "metadata": {},
   "source": [
    "# Find the list of missing dates"
   ]
  },
  {
   "cell_type": "code",
   "execution_count": 1,
   "metadata": {},
   "outputs": [],
   "source": [
    "import json\n",
    "import pandas as pd\n",
    "import numpy as np\n",
    "from pathlib import Path\n",
    "import requests"
   ]
  },
  {
   "cell_type": "code",
   "execution_count": 2,
   "metadata": {},
   "outputs": [],
   "source": [
    "def get_interlanguage_links(page_title, endpoint='en.wikipedia.org/w/api.php', redirects=1, multicore_dict=None):\n",
    "    \"\"\"\n",
    "    Returns:\n",
    "    langlink_dict - a dictionary keyed by lang codes and page title as values\n",
    "    \"\"\"\n",
    "\n",
    "    query_url = \"https://{0}\".format(endpoint)\n",
    "    query_params = {}\n",
    "    query_params['action'] = 'query'\n",
    "    query_params['prop'] = 'langlinks'\n",
    "    query_params['titles'] = page_title\n",
    "    query_params['redirects'] = redirects\n",
    "    query_params['llprop'] = 'autonym|langname'\n",
    "    query_params['lllimit'] = 500\n",
    "    query_params['format'] = 'json'\n",
    "    query_params['formatversion'] = 2\n",
    "    json_response = requests.get(url=query_url,params=query_params).json()\n",
    "    #print(json_response)\n",
    "\n",
    "    interlanguage_link_dict = dict()\n",
    "    start_lang = endpoint.split('.')[0]\n",
    "    #print(json_response['query']['pages'][0])\n",
    "    if 'title' in json_response['query']['pages'][0]:\n",
    "        final_title = json_response['query']['pages'][0]['title']\n",
    "        interlanguage_link_dict[start_lang] = final_title\n",
    "    else:\n",
    "        final_title = page_title\n",
    "        interlanguage_link_dict[start_lang] = final_title\n",
    "\n",
    "    if 'langlinks' in json_response['query']['pages'][0]:\n",
    "        langlink_dict = json_response['query']['pages'][0]['langlinks']\n",
    "\n",
    "        for d in langlink_dict:\n",
    "            lang = d['lang']\n",
    "            title = d['title']\n",
    "            interlanguage_link_dict[lang] = title\n",
    "\n",
    "    if multicore_dict is None:\n",
    "        return {final_title:interlanguage_link_dict}\n",
    "    else:\n",
    "        multicore_dict[final_title] = interlanguage_link_dict\n",
    "\n",
    "def get_ills_aslist(langlinks_dict):\n",
    "    '''\n",
    "    Takes in the langlinks dict and returns a dictionary that has page titles as keys and a list of ILL language codes as values.\n",
    "    '''\n",
    "    ill_list = dict()\n",
    "    for pagekey in langlinks_dict.keys():\n",
    "        _temp = list()\n",
    "        for langkey in langlinks_dict[pagekey].keys():\n",
    "            _temp.append(langkey)\n",
    "        ill_list[pagekey] = _temp\n",
    "    return ill_list\n"
   ]
  },
  {
   "cell_type": "code",
   "execution_count": 3,
   "metadata": {},
   "outputs": [],
   "source": [
    "# load all the lists of rules\n",
    "rules_df_de = pd.read_csv(Path(os.getcwd()).parent / \"dewiki.tsv\",sep=\"\\t\",header=None)\n",
    "rules_df_en = pd.read_csv(Path(os.getcwd()).parent / \"enwiki.tsv\",sep=\"\\t\",header=None)\n",
    "rules_df_es = pd.read_csv(Path(os.getcwd()).parent / \"eswiki.tsv\",sep=\"\\t\",header=None)\n",
    "rules_df_fr = pd.read_csv(Path(os.getcwd()).parent / \"frwiki.tsv\",sep=\"\\t\",header=None)\n",
    "rules_df_ja = pd.read_csv(Path(os.getcwd()).parent / \"jawiki.tsv\",sep=\"\\t\",header=None)"
   ]
  },
  {
   "cell_type": "code",
   "execution_count": 4,
   "metadata": {},
   "outputs": [],
   "source": [
    "interlanguagelinks = dict()\n",
    "interlanguagelinks_aslist = dict()"
   ]
  },
  {
   "cell_type": "markdown",
   "metadata": {},
   "source": [
    "## Set up structures"
   ]
  },
  {
   "cell_type": "code",
   "execution_count": 5,
   "metadata": {
    "tags": []
   },
   "outputs": [],
   "source": [
    "# de\n",
    "rules_df_de = rules_df_de.rename(columns={0: \"NA\", 1: \"links\",2:\"titles\"})\n",
    "\n",
    "pagetitles = rules_df_de[\"titles\"].tolist()\n",
    "\n",
    "endpoint = \"{}.wikipedia.org/w/api.php\".format('de')\n",
    "temp = {}\n",
    "for p in sorted(pagetitles):\n",
    "    temp.update(get_interlanguage_links(p,endpoint))\n",
    "    try:\n",
    "        temp.update(get_interlanguage_links(p,endpoint))\n",
    "    except KeyboardInterrupt:\n",
    "        break\n",
    "    except:\n",
    "        print('!!! FAILED > {}'.format(p))\n",
    "        pass\n",
    "\n",
    "interlanguagelinks['de'] = temp"
   ]
  },
  {
   "cell_type": "code",
   "execution_count": 6,
   "metadata": {},
   "outputs": [],
   "source": [
    "interlanguagelinks_aslist['de'] = get_ills_aslist(interlanguagelinks['de'])"
   ]
  },
  {
   "cell_type": "code",
   "execution_count": 7,
   "metadata": {
    "tags": []
   },
   "outputs": [],
   "source": [
    "# en\n",
    "rules_df_en = rules_df_en.rename(columns={0: \"NA\", 1: \"links\",2:\"titles\"})\n",
    "\n",
    "pagetitles = rules_df_en[\"titles\"].tolist()\n",
    "\n",
    "endpoint = \"{}.wikipedia.org/w/api.php\".format('en')\n",
    "temp = {}\n",
    "for p in sorted(pagetitles):\n",
    "    temp.update(get_interlanguage_links(p,endpoint))\n",
    "    try:\n",
    "        temp.update(get_interlanguage_links(p,endpoint))\n",
    "    except KeyboardInterrupt:\n",
    "        break\n",
    "    except:\n",
    "        print('!!! FAILED > {}'.format(p))\n",
    "        pass\n",
    "\n",
    "interlanguagelinks['en'] = temp"
   ]
  },
  {
   "cell_type": "code",
   "execution_count": 8,
   "metadata": {},
   "outputs": [],
   "source": [
    "# es\n",
    "rules_df_es = rules_df_es.rename(columns={0: \"NA\", 1: \"links\",2:\"titles\"})\n",
    "\n",
    "pagetitles = rules_df_es[\"titles\"].tolist()\n",
    "\n",
    "endpoint = \"{}.wikipedia.org/w/api.php\".format('es')\n",
    "temp = {}\n",
    "for p in sorted(pagetitles):\n",
    "    temp.update(get_interlanguage_links(p,endpoint))\n",
    "    try:\n",
    "        temp.update(get_interlanguage_links(p,endpoint))\n",
    "    except KeyboardInterrupt:\n",
    "        break\n",
    "    except:\n",
    "        print('!!! FAILED > {}'.format(p))\n",
    "        pass\n",
    "\n",
    "interlanguagelinks['es'] = temp"
   ]
  },
  {
   "cell_type": "code",
   "execution_count": 9,
   "metadata": {},
   "outputs": [],
   "source": [
    "# fr\n",
    "rules_df_fr = rules_df_fr.rename(columns={0: \"NA\", 1: \"links\",2:\"titles\"})\n",
    "\n",
    "pagetitles = rules_df_fr[\"titles\"].tolist()\n",
    "\n",
    "endpoint = \"{}.wikipedia.org/w/api.php\".format('fr')\n",
    "temp = {}\n",
    "for p in sorted(pagetitles):\n",
    "    temp.update(get_interlanguage_links(p,endpoint))\n",
    "    try:\n",
    "        temp.update(get_interlanguage_links(p,endpoint))\n",
    "    except KeyboardInterrupt:\n",
    "        break\n",
    "    except:\n",
    "        print('!!! FAILED > {}'.format(p))\n",
    "        pass\n",
    "\n",
    "interlanguagelinks['fr'] = temp"
   ]
  },
  {
   "cell_type": "code",
   "execution_count": 10,
   "metadata": {},
   "outputs": [],
   "source": [
    "# ja\n",
    "rules_df_ja = rules_df_ja.rename(columns={0: \"NA\", 1: \"links\",2:\"titles\"})\n",
    "\n",
    "pagetitles = rules_df_ja[\"titles\"].tolist()\n",
    "\n",
    "endpoint = \"{}.wikipedia.org/w/api.php\".format('ja')\n",
    "temp = {}\n",
    "for p in sorted(pagetitles):\n",
    "    temp.update(get_interlanguage_links(p,endpoint))\n",
    "    try:\n",
    "        temp.update(get_interlanguage_links(p,endpoint))\n",
    "    except KeyboardInterrupt:\n",
    "        break\n",
    "    except:\n",
    "        print('!!! FAILED > {}'.format(p))\n",
    "        pass\n",
    "\n",
    "interlanguagelinks['ja'] = temp"
   ]
  },
  {
   "cell_type": "code",
   "execution_count": 11,
   "metadata": {},
   "outputs": [],
   "source": [
    "interlanguagelinks_aslist['en'] = get_ills_aslist(interlanguagelinks['en'])\n",
    "interlanguagelinks_aslist['es'] = get_ills_aslist(interlanguagelinks['es'])\n",
    "interlanguagelinks_aslist['fr'] = get_ills_aslist(interlanguagelinks['fr'])\n",
    "interlanguagelinks_aslist['ja'] = get_ills_aslist(interlanguagelinks['ja'])"
   ]
  },
  {
   "cell_type": "markdown",
   "metadata": {},
   "source": [
    "## Which rules are ILL on all five?"
   ]
  },
  {
   "cell_type": "code",
   "execution_count": 12,
   "metadata": {},
   "outputs": [
    {
     "output_type": "execute_result",
     "data": {
      "text/plain": "es, règles et recommandations de Wikipédia': ['fr',\n  'ar',\n  'azb',\n  'bn',\n  'ckb',\n  'en',\n  'fa',\n  'gl',\n  'hr',\n  'ja',\n  'ko',\n  'min',\n  'ml',\n  'ms',\n  'nl',\n  'pt',\n  'ru',\n  'tr',\n  'uk',\n  'vi',\n  'wuu',\n  'zh',\n  'zh-yue'],\n 'Wikipédia:Liens externes': ['fr',\n  'ar',\n  'bg',\n  'bn',\n  'ca',\n  'ckb',\n  'cs',\n  'da',\n  'de',\n  'el',\n  'en',\n  'eo',\n  'es',\n  'fa',\n  'fi',\n  'gl',\n  'gu',\n  'he',\n  'hi',\n  'hr',\n  'hy',\n  'id',\n  'it',\n  'ja',\n  'kk',\n  'ko',\n  'lt',\n  'min',\n  'mk',\n  'ms',\n  'ne',\n  'nl',\n  'no',\n  'oc',\n  'pl',\n  'pt',\n  'ro',\n  'ru',\n  'sh',\n  'si',\n  'simple',\n  'sk',\n  'sl',\n  'sr',\n  'sv',\n  'ta',\n  'te',\n  'tg',\n  'th',\n  'tr',\n  'uk',\n  'vi',\n  'yi',\n  'zh'],\n 'Wikipédia:Liens internes': ['fr',\n  'ang',\n  'ar',\n  'bg',\n  'bn',\n  'ca',\n  'ckb',\n  'cs',\n  'cy',\n  'da',\n  'el',\n  'en',\n  'es',\n  'et',\n  'fa',\n  'gl',\n  'ha',\n  'he',\n  'hi',\n  'hr',\n  'hu',\n  'is',\n  'it',\n  'ja',\n  'ka',\n  'ko',\n  'lb',\n  'lv',\n  'ms',\n  'mt',\n  'my',\n  'ne',\n  'nl',\n  'no',\n  'or',\n  'ps',\n  'pt',\n  'ro',\n  'sc',\n  'sco',\n  'sh',\n  'shn',\n  'sk',\n  'sl',\n  'so',\n  'sr',\n  'sw',\n  'ta',\n  'te',\n  'th',\n  'ts',\n  'ur',\n  'vi',\n  'zh',\n  'zh-yue'],\n 'Wikipédia:Liens vers les portails': ['fr'],\n \"Wikipédia:Limitez l'usage de la couleur dans les articles\": ['fr',\n  'ar',\n  'en',\n  'sv'],\n 'Wikipédia:Liste des critères spécifiques de notoriété': ['fr'],\n 'Wikipédia:Masqueur de modifications': ['fr',\n  'ar',\n  'ary',\n  'arz',\n  'az',\n  'azb',\n  'bh',\n  'bs',\n  'de',\n  'en',\n  'es',\n  'fa',\n  'fi',\n  'he',\n  'hi',\n  'id',\n  'ig',\n  'it',\n  'ja',\n  'km',\n  'ko',\n  'ne',\n  'nl',\n  'pl',\n  'pt',\n  'ro',\n  'roa-tara',\n  'ru',\n  'si',\n  'simple',\n  'sr',\n  'sv',\n  'th',\n  'tr',\n  'uz',\n  'vi',\n  'zh'],\n 'Wikipédia:Mise en forme des images': ['fr',\n  'af',\n  'bg',\n  'bs',\n  'de',\n  'en',\n  'hr',\n  'id',\n  'ja',\n  'ro',\n  'sh',\n  'sl',\n  'tl',\n  'zh'],\n 'Wikipédia:Mobile': ['fr',\n  'als',\n  'ar',\n  'da',\n  'de',\n  'el',\n  'en',\n  'eo',\n  'fi',\n  'he',\n  'hu',\n  'it',\n  'ja',\n  'ko',\n  'no',\n  'or',\n  'pt',\n  'ro',\n  'si',\n  'sl',\n  'th',\n  'wuu',\n  'zh'],\n \"Wikipédia:N'hésitez pas !\": ['fr',\n  'af',\n  'als',\n  'ar',\n  'as',\n  'az',\n  'azb',\n  'ba',\n  'bar',\n  'be',\n  'be-x-old',\n  'bg',\n  'bn',\n  'bs',\n  'ca',\n  'ce',\n  'ckb',\n  'cs',\n  'cy',\n  'da',\n  'de',\n  'el',\n  'en',\n  'eo',\n  'es',\n  'et',\n  'fa',\n  'fi',\n  'fy',\n  'gan',\n  'gl',\n  'he',\n  'hr',\n  'hu',\n  'hy',\n  'ia',\n  'id',\n  'inh',\n  'it',\n  'ja',\n  'jv',\n  'ka',\n  'kk',\n  'ko',\n  'lt',\n  'min',\n  'mk',\n  'ml',\n  'ms',\n  'my',\n  'nl',\n  'no',\n  'pl',\n  'pt',\n  'ro',\n  'ru',\n  'sco',\n  'sh',\n  'shn',\n  'si',\n  'simple',\n  'sk',\n  'sl',\n  'sr',\n  'su',\n  'sv',\n  'ta',\n  'te',\n  'th',\n  'tl',\n  'tr',\n  'uk',\n  'ur',\n  'uz',\n  'vi',\n  'yi',\n  'yo',\n  'zh',\n  'zh-yue'],\n 'Wikipédia:Ne jouez pas au con !': ['fr',\n  'cs',\n  'en',\n  'es',\n  'hu',\n  'ms',\n  'nl',\n  'pt',\n  'ru',\n  'simple',\n  'sl',\n  'sv',\n  'tr'],\n 'Wikipédia:Ne mordez pas les nouveaux': ['fr',\n  'ar',\n  'as',\n  'az',\n  'azb',\n  'be-x-old',\n  'bg',\n  'bn',\n  'br',\n  'bs',\n  'ca',\n  'ce',\n  'ckb',\n  'cs',\n  'da',\n  'de',\n  'el',\n  'en',\n  'eo',\n  'es',\n  'fa',\n  'fi',\n  'gl',\n  'hi',\n  'hr',\n  'hu',\n  'hy',\n  'id',\n  'it',\n  'ja',\n  'jv',\n  'ka',\n  'ko',\n  'map-bms',\n  'min',\n  'mk',\n  'ml',\n  'ms',\n  'my',\n  'nap',\n  'nl',\n  'no',\n  'pl',\n  'pt',\n  'ro',\n  'ru',\n  'sco',\n  'sh',\n  'simple',\n  'sk',\n  'sr',\n  'sv',\n  'ta',\n  'te',\n  'th',\n  'tr',\n  'uk',\n  'ur',\n  'vi',\n  'zh',\n  'zh-classical',\n  'zh-yue'],\n 'Wikipédia:Ne pas désorganiser Wikipédia pour une argumentation personnelle': ['fr',\n  'als',\n  'ar',\n  'as',\n  'azb',\n  'be',\n  'be-x-old',\n  'bg',\n  'bn',\n  'ckb',\n  'cs',\n  'da',\n  'de',\n  'el',\n  'en',\n  'eo',\n  'es',\n  'fa',\n  'fi',\n  'gl',\n  'he',\n  'hi',\n  'hr',\n  'hu',\n  'id',\n  'it',\n  'ja',\n  'ko',\n  'lt',\n  'mk',\n  'ms',\n  'nl',\n  'no',\n  'pl',\n  'pt',\n  'ro',\n  'ru',\n  'simple',\n  'sk',\n  'sr',\n  'sv',\n  'tr',\n  'tt',\n  'uk',\n  'vi',\n  'zh'],\n 'Wikipédia:Neutralité de point de vue': ['fr',\n  'af',\n  'am',\n  'an',\n  'ar',\n  'as',\n  'ast',\n  'az',\n  'azb',\n  'ba',\n  'be',\n  'be-x-old',\n  'bg',\n  'bh',\n  'bn',\n  'br',\n  'bs',\n  'ca',\n  'ce',\n  'chr',\n  'ckb',\n  'co',\n  'cs',\n  'csb',\n  'cy',\n  'da',\n  'de',\n  'diq',\n  'el',\n  'en',\n  'eo',\n  'es',\n  'et',\n  'eu',\n  'fa',\n  'fi',\n  'fiu-vro',\n  'fy',\n  'gl',\n  'glk',\n  'gu',\n  'ha',\n  'he',\n  'hi',\n  'hr',\n  'hsb',\n  'hu',\n  'hy',\n  'ia',\n  'id',\n  'ig',\n  'is',\n  'it',\n  'ja',\n  'jv',\n  'ka',\n  'kk',\n  'kl',\n  'kn',\n  'ko',\n  'lb',\n  'ln',\n  'lt',\n  'map-bms',\n  'mg',\n  'min',\n  'mk',\n  'ml',\n  'mn',\n  'mr',\n  'ms',\n  'mzn',\n  'nap',\n  'ne',\n  'nl',\n  'nn',\n  'no',\n  'oc',\n  'or',\n  'pa',\n  'pl',\n  'pt',\n  'qu',\n  'rmy',\n  'ro',\n  'ru',\n  'sah',\n  'scn',\n  'sco',\n  'sd',\n  'sh',\n  'si',\n  'simple',\n  'sk',\n  'sl',\n  'sq',\n  'sr',\n  'su',\n  'sv',\n  'sw',\n  'szl',\n  'ta',\n  'te',\n  'tg',\n  'th',\n  'tk',\n  'tl',\n  'tr',\n  'tt',\n  'uk',\n  'ur',\n  'uz',\n  'vec',\n  'vi',\n  'yi',\n  'zh',\n  'zh-min-nan',\n  'zh-yue'],\n \"Wikipédia:Nom d'utilisateur\": ['fr',\n  'ar',\n  'ast',\n  'av',\n  'azb',\n  'bg',\n  'bh',\n  'bn',\n  'bs',\n  'ca',\n  'ckb',\n  'cs',\n  'da',\n  'el',\n  'en',\n  'eo',\n  'es',\n  'et',\n  'eu',\n  'fa',\n  'fi',\n  'gl',\n  'gu',\n  'hi',\n  'hr',\n  'hsb',\n  'hu',\n  'hy',\n  'ia',\n  'id',\n  'ilo',\n  'is',\n  'it',\n  'ja',\n  'jv',\n  'kg',\n  'kk',\n  'ko',\n  'la',\n  'mk',\n  'ml',\n  'mn',\n  'mr',\n  'ms',\n  'my',\n  'ne',\n  'nl',\n  'or',\n  'pl',\n  'ps',\n  'ro',\n  'roa-tara',\n  'ru',\n  'sd',\n  'sh',\n  'si',\n  'simple',\n  'sk',\n  'sl',\n  'so',\n  'sq',\n  'sr',\n  'su',\n  'sv',\n  'ta',\n  'te',\n  'th',\n  'tr',\n  'uk',\n  'ur',\n  'vi',\n  'wuu',\n  'zh',\n  'zh-yue'],\n \"Wikipédia:Nom d'utilisateur connu\": ['fr', 'de', 'en'],\n 'Wikipédia:Notoriété': ['fr',\n  'af',\n  'am',\n  'an',\n  'ar',\n  'arz',\n  'as',\n  'az',\n  'azb',\n  'be',\n  'be-x-old',\n  'bg',\n  'bh',\n  'bn',\n  'bs',\n  'ca',\n  'ckb',\n  'cs',\n  'cy',\n  'da',\n  'de',\n  'el',\n  'en',\n  'eo',\n  'es',\n  'et',\n  'fa',\n  'fi',\n  'gl',\n  'glk',\n  'gu',\n  'he',\n  'hi',\n  'hr',\n  'hu',\n  'hy',\n  'id',\n  'is',\n  'it',\n  'ja',\n  'jv',\n  'ka',\n  'kk',\n  'ko',\n  'la',\n  'lb',\n  'lt',\n  'lv',\n  'min',\n  'mk',\n  'ml',\n  'mr',\n  'ms',\n  'my',\n  'nds',\n  'ne',\n  'nl',\n  'no',\n  'oc',\n  'or',\n  'pl',\n  'pt',\n  'ro',\n  'ru',\n  'sa',\n  'sah',\n  'scn',\n  'sd',\n  'sh',\n  'si',\n  'simple',\n  'sk',\n  'sl',\n  'sq',\n  'sr',\n  'sv',\n  'ta',\n  'te',\n  'tg',\n  'th',\n  'tk',\n  'tr',\n  'tt',\n  'uk',\n  'ur',\n  'uz',\n  'vec',\n  'vi',\n  'yi',\n  'zh',\n  'zh-yue'],\n 'Wikipédia:Notoriété dans le domaine de la pornographie': ['fr', 'he', 'hu'],\n 'Wikipédia:Notoriété dans le football': ['fr',\n  'az',\n  'el',\n  'en',\n  'fa',\n  'he',\n  'it',\n  'pl',\n  'ro',\n  'ru',\n  'uk',\n  'zh'],\n 'Wikipédia:Notoriété de la musique': ['fr',\n  'ar',\n  'az',\n  'bn',\n  'cs',\n  'da',\n  'el',\n  'en',\n  'es',\n  'fa',\n  'fi',\n  'he',\n  'hu',\n  'hy',\n  'id',\n  'is',\n  'it',\n  'ja',\n  'ko',\n  'ms',\n  'nl',\n  'pt',\n  'ru',\n  'simple',\n  'sr',\n  'sv',\n  'th',\n  'tr',\n  'vi',\n  'zh'],\n 'Wikipédia:Notoriété des arts visuels': ['fr'],\n 'Wikipédia:Notoriété des entreprises, sociétés et produits': ['fr',\n  'af',\n  'ar',\n  'arz',\n  'az',\n  'bg',\n  'bn',\n  'ca',\n  'cs',\n  'da',\n  'el',\n  'en',\n  'es',\n  'fa',\n  'hu',\n  'id',\n  'it',\n  'ja',\n  'ko',\n  'lt',\n  'nl',\n  'pl',\n  'pt',\n  'ru',\n  'sr',\n  'th',\n  'tr',\n  'uk',\n  'vi',\n  'zh'],\n 'Wikipédia:Notoriété des fanzines': ['fr'],\n 'Wikipédia:Notoriété des jeux de société': ['fr', 'en', 'th', 'tr', 'zh'],\n 'Wikipédia:Notoriété des personnalités politiques': ['fr', 'it'],\n 'Wikipédia:Notoriété des personnes': ['fr',\n  'ar',\n  'arz',\n  'az',\n  'ba',\n  'be',\n  'be-x-old',\n  'bg',\n  'bn',\n  'ca',\n  'ce',\n  'cs',\n  'da',\n  'el',\n  'en',\n  'es',\n  'fa',\n  'gu',\n  'he',\n  'hi',\n  'hy',\n  'id',\n  'is',\n  'it',\n  'ja',\n  'ko',\n  'lt',\n  'ml',\n  'my',\n  'nl',\n  'or',\n  'pt',\n  'ro',\n  'ru',\n  'sah',\n  'si',\n  'simple',\n  'sk',\n  'sr',\n  'ta',\n  'tg',\n  'th',\n  'tr',\n  'uk',\n  'uz',\n  'vi',\n  'zh'],\n 'Wikipédia:Notoriété des sites web': ['fr',\n  'ar',\n  'arz',\n  'az',\n  'bg',\n  'bn',\n  'cs',\n  'de',\n  'el',\n  'en',\n  'fa',\n  'hu',\n  'id',\n  'ja',\n  'ko',\n  'ml',\n  'pl',\n  'pt',\n  'ru',\n  'si',\n  'sr',\n  'th',\n  'tr',\n  'uk',\n  'vi',\n  'zh'],\n 'Wikipédia:Notoriété des sportifs': ['fr',\n  'az',\n  'bn',\n  'de',\n  'el',\n  'en',\n  'es',\n  'fa',\n  'ko',\n  'pt',\n  'uk'],\n 'Wikipédia:Notoriété des événements': ['fr',\n  'az',\n  'bg',\n  'bn',\n  'cs',\n  'en',\n  'fa',\n  'ja',\n  'ko',\n  'ml',\n  'pt',\n  'ru',\n  'ta',\n  'th',\n  'uk',\n  'vi',\n  'zh'],\n 'Wikipédia:Notoriété des œuvres de fiction': ['fr',\n  'ar',\n  'en',\n  'hu',\n  'ja',\n  'pl',\n  'pt',\n  'ru',\n  'sr',\n  'uk',\n  'zh'],\n 'Wikipédia:Nouveau départ': ['fr',\n  'en',\n  'fa',\n  'ja',\n  'ko',\n  'pt',\n  'ro',\n  'sr',\n  'tr',\n  'ur',\n  'vi'],\n 'Wikipédia:Néologisme': ['fr', 'en', 'eo', 'id', 'ru', 'sr'],\n 'Wikipédia:Pantin': ['fr', 'en'],\n \"Wikipédia:Pas d'attaque personnelle\": ['fr',\n  'af',\n  'als',\n  'ar',\n  'as',\n  'az',\n  'azb',\n  'be',\n  'be-x-old',\n  'bg',\n  'bn',\n  'br',\n  'bs',\n  'ce',\n  'ceb',\n  'ckb',\n  'cs',\n  'da',\n  'de',\n  'el',\n  'en',\n  'eo',\n  'es',\n  'fa',\n  'fi',\n  'gl',\n  'hi',\n  'hr',\n  'hu',\n  'hy',\n  'id',\n  'ilo',\n  'is',\n  'it',\n  'ja',\n  'jv',\n  'ka',\n  'ko',\n  'lv',\n  'mk',\n  'ml',\n  'mr',\n  'ms',\n  'mt',\n  'nl',\n  'no',\n  'pl',\n  'pt',\n  'ro',\n  'ru',\n  'sah',\n  'sco',\n  'sh',\n  'si',\n  'simple',\n  'sk',\n  'sl',\n  'sq',\n  'sr',\n  'sv',\n  'ta',\n  'te',\n  'tg',\n  'th',\n  'tr',\n  'uk',\n  'ur',\n  'vi',\n  'yi',\n  'zh',\n  'zh-yue'],\n 'Wikipédia:Pas de menace de poursuites judiciaires': ['fr',\n  'ar',\n  'az',\n  'azb',\n  'bg',\n  'bn',\n  'chr',\n  'ckb',\n  'cs',\n  'da',\n  'en',\n  'es',\n  'fa',\n  'gl',\n  'he',\n  'hr',\n  'hu',\n  'id',\n  'is',\n  'it',\n  'ja',\n  'ko',\n  'lt',\n  'mk',\n  'ml',\n  'my',\n  'nl',\n  'pt',\n  'ru',\n  'simple',\n  'sk',\n  'sl',\n  'sr',\n  'sv',\n  'ta',\n  'te',\n  'th',\n  'tr',\n  'ur',\n  'vi',\n  'zh'],\n 'Wikipédia:Principe de moindre surprise': ['fr', 'en'],\n 'Wikipédia:Principes fondateurs': ['fr',\n  'af',\n  'als',\n  'ang',\n  'ar',\n  'arz',\n  'as',\n  'ast',\n  'az',\n  'azb',\n  'ba',\n  'bar',\n  'be',\n  'be-x-old',\n  'bg',\n  'bh',\n  'bjn',\n  'bn',\n  'br',\n  'bs',\n  'bxr',\n  'ca',\n  'ckb',\n  'cs',\n  'cy',\n  'da',\n  'de',\n  'diq',\n  'dv',\n  'el',\n  'en',\n  'eo',\n  'es',\n  'eu',\n  'fa',\n  'fi',\n  'fur',\n  'gcr',\n  'gl',\n  'glk',\n  'gor',\n  'gu',\n  'ha',\n  'hi',\n  'hr',\n  'hu',\n  'hy',\n  'ia',\n  'id',\n  'inh',\n  'is',\n  'it',\n  'ja',\n  'jv',\n  'ka',\n  'kk',\n  'ko',\n  'ku',\n  'lad',\n  'lmo',\n  'lo',\n  'lt',\n  'lv',\n  'mai',\n  'map-bms',\n  'mg',\n  'min',\n  'mk',\n  'ml',\n  'mn',\n  'mnw',\n  'mr',\n  'ms',\n  'mt',\n  'mwl',\n  'my',\n  'mzn',\n  'nap',\n  'ne',\n  'new',\n  'nl',\n  'nn',\n  'no',\n  'oc',\n  'olo',\n  'or',\n  'pa',\n  'pl',\n  'pnt',\n  'ps',\n  'pt',\n  'qu',\n  'ro',\n  'roa-tara',\n  'ru',\n  'rue',\n  'sa',\n  'sah',\n  'sc',\n  'sco',\n  'sd',\n  'sh',\n  'shn',\n  'si',\n  'simple',\n  'sk',\n  'sl',\n  'so',\n  'sq',\n  'sr',\n  'su',\n  'sv',\n  'szl',\n  'ta',\n  'te',\n  'tg',\n  'th',\n  'tpi',\n  'tr',\n  'tt',\n  'uk',\n  'ur',\n  'uz',\n  'vi',\n  'war',\n  'xmf',\n  'yi',\n  'zh',\n  'zh-classical',\n  'zh-yue'],\n 'Wikipédia:Protection': ['fr'],\n 'Wikipédia:Restriction thématique': ['fr', 'en', 'es'],\n 'Wikipédia:Règle des trois révocations': ['fr',\n  'ar',\n  'az',\n  'azb',\n  'be',\n  'be-x-old',\n  'bg',\n  'ca',\n  'cs',\n  'el',\n  'en',\n  'eo',\n  'es',\n  'fa',\n  'glk',\n  'he',\n  'hu',\n  'id',\n  'it',\n  'ja',\n  'jv',\n  'mk',\n  'ml',\n  'nl',\n  'pl',\n  'pt',\n  'ro',\n  'ru',\n  'sr',\n  'sv',\n  'te',\n  'tr',\n  'uk',\n  'vi',\n  'yi',\n  'zh'],\n 'Wikipédia:Règles de savoir-vivre': ['fr'],\n 'Wikipédia:Règles et recommandations': ['fr',\n  'af',\n  'am',\n  'ar',\n  'arz',\n  'as',\n  'av',\n  'az',\n  'azb',\n  'ba',\n  'be',\n  'be-x-old',\n  'bg',\n  'bh',\n  'bjn',\n  'bn',\n  'br',\n  'bs',\n  'ca',\n  'ce',\n  'ckb',\n  'cs',\n  'cy',\n  'da',\n  'de',\n  'el',\n  'en',\n  'eo',\n  'es',\n  'eu',\n  'fa',\n  'fi',\n  'ga',\n  'gl',\n  'glk',\n  'gor',\n  'he',\n  'hi',\n  'hr',\n  'hsb',\n  'hu',\n  'hy',\n  'ia',\n  'id',\n  'inh',\n  'is',\n  'it',\n  'ja',\n  'ka',\n  'kk',\n  'kl',\n  'kn',\n  'ko',\n  'ku',\n  'ky',\n  'lb',\n  'mai',\n  'min',\n  'mk',\n  'ml',\n  'ms',\n  'mzn',\n  'nap',\n  'ne',\n  'nl',\n  'nn',\n  'no',\n  'nv',\n  'pl',\n  'ps',\n  'pt',\n  'rmy',\n  'ro',\n  'ru',\n  'scn',\n  'sco',\n  'sd',\n  'sh',\n  'si',\n  'simple',\n  'sk',\n  'sl',\n  'sq',\n  'sr',\n  'su',\n  'sv',\n  'ta',\n  'tg',\n  'th',\n  'tr',\n  'tt',\n  'udm',\n  'uk',\n  'ur',\n  'uz',\n  'vi',\n  'yi',\n  'zh',\n  'zh-yue'],\n 'Wikipédia:Résolution de conflit': ['fr',\n  'af',\n  'am',\n  'ar',\n  'as',\n  'az',\n  'azb',\n  'be',\n  'be-x-old',\n  'bg',\n  'bn',\n  'br',\n  'ca',\n  'ckb',\n  'cs',\n  'de',\n  'el',\n  'en',\n  'fa',\n  'he',\n  'hr',\n  'hu',\n  'id',\n  'is',\n  'it',\n  'ja',\n  'ka',\n  'ko',\n  'lt',\n  'min',\n  'mk',\n  'ml',\n  'ms',\n  'nl',\n  'or',\n  'pl',\n  'pt',\n  'ro',\n  'ru',\n  'sah',\n  'scn',\n  'si',\n  'simple',\n  'sk',\n  'sq',\n  'sr',\n  'sv',\n  'te',\n  'th',\n  'tr',\n  'tt',\n  'uk',\n  'ur',\n  'vi',\n  'zh'],\n 'Wikipédia:Résumé introductif': ['fr',\n  'as',\n  'bn',\n  'ca',\n  'ckb',\n  'cs',\n  'cy',\n  'da',\n  'el',\n  'en',\n  'es',\n  'eu',\n  'fa',\n  'hi',\n  'hu',\n  'id',\n  'it',\n  'ja',\n  'jv',\n  'ko',\n  'la',\n  'min',\n  'ne',\n  'pt',\n  'ru',\n  'su',\n  'sv',\n  'tr',\n  'uk',\n  'ur',\n  'zh'],\n 'Wikipédia:Révocateur': ['fr',\n  'ar',\n  'arz',\n  'az',\n  'azb',\n  'bn',\n  'ca',\n  'ce',\n  'ckb',\n  'da',\n  'el',\n  'en',\n  'es',\n  'fa',\n  'fi',\n  'gu',\n  'hi',\n  'hr',\n  'id',\n  'it',\n  'ja',\n  'kk',\n  'ko',\n  'ml',\n  'ne',\n  'pl',\n  'pt',\n  'ru',\n  'sco',\n  'sd',\n  'si',\n  'simple',\n  'sk',\n  'sr',\n  'sv',\n  'ta',\n  'tg',\n  'uk',\n  'ur',\n  'vi',\n  'yo',\n  'zh',\n  'zh-yue'],\n 'Wikipédia:Scission de contenu': ['fr',\n  'af',\n  'ar',\n  'azb',\n  'en',\n  'fa',\n  'id',\n  'kk',\n  'no',\n  'ru',\n  'zh'],\n 'Wikipédia:Sections anecdotiques': ['fr',\n  'en',\n  'es',\n  'he',\n  'it',\n  'ja',\n  'lt',\n  'ms',\n  'pt',\n  'ru',\n  'sv',\n  'zh'],\n 'Wikipédia:Semi-protection': ['fr',\n  'az',\n  'ce',\n  'de',\n  'en',\n  'es',\n  'fa',\n  'fi',\n  'ja',\n  'ru',\n  'uk',\n  'zh',\n  'zh-yue'],\n 'Wikipédia:Semi-protection étendue': ['fr', 'en', 'ja'],\n 'Wikipédia:Sources primaires, secondaires et tertiaires': ['fr', 'en', 'fa'],\n 'Wikipédia:Sous-page': ['fr',\n  'als',\n  'ar',\n  'arz',\n  'azb',\n  'bg',\n  'bh',\n  'bn',\n  'ckb',\n  'de',\n  'diq',\n  'en',\n  'eo',\n  'et',\n  'fa',\n  'gu',\n  'he',\n  'hr',\n  'hu',\n  'id',\n  'it',\n  'ja',\n  'jv',\n  'ko',\n  'mk',\n  'ms',\n  'no',\n  'pl',\n  'pt',\n  'ru',\n  'sd',\n  'sh',\n  'simple',\n  'sl',\n  'sr',\n  'su',\n  'sv',\n  'tr',\n  'uk',\n  'vi',\n  'wuu',\n  'zh',\n  'zh-yue'],\n 'Wikipédia:Style encyclopédique': ['fr',\n  'hyw',\n  'lt',\n  'oc',\n  'ru',\n  'rue',\n  'sk'],\n 'Wikipédia:Supposer la bonne foi': ['fr',\n  'af',\n  'als',\n  'ar',\n  'as',\n  'az',\n  'azb',\n  'ba',\n  'bar',\n  'be',\n  'be-x-old',\n  'bg',\n  'bn',\n  'br',\n  'ca',\n  'ce',\n  'ckb',\n  'cs',\n  'da',\n  'de',\n  'el',\n  'en',\n  'eo',\n  'es',\n  'fa',\n  'fi',\n  'gl',\n  'he',\n  'hi',\n  'hr',\n  'hu',\n  'hy',\n  'ia',\n  'id',\n  'ilo',\n  'it',\n  'ja',\n  'jv',\n  'ko',\n  'lt',\n  'min',\n  'mk',\n  'ml',\n  'mr',\n  'ms',\n  'nds-nl',\n  'nl',\n  'no',\n  'pl',\n  'pt',\n  'ro',\n  'ru',\n  'sco',\n  'sh',\n  'si',\n  'simple',\n  'sk',\n  'sq',\n  'sr',\n  'sv',\n  'ta',\n  'te',\n  'th',\n  'tl',\n  'tr',\n  'tt',\n  'uk',\n  'ur',\n  'uz',\n  'vi',\n  'yi',\n  'zh',\n  'zh-yue'],\n 'Wikipédia:Termes à utiliser avec précaution': ['fr',\n  'ar',\n  'ast',\n  'az',\n  'be-x-old',\n  'bg',\n  'br',\n  'bs',\n  'ca',\n  'cs',\n  'de',\n  'en',\n  'eo',\n  'es',\n  'fa',\n  'fi',\n  'gan',\n  'gl',\n  'he',\n  'hu',\n  'ia',\n  'id',\n  'it',\n  'ja',\n  'ko',\n  'ms',\n  'nl',\n  'no',\n  'pl',\n  'pt',\n  'ro',\n  'ru',\n  'si',\n  'simple',\n  'sk',\n  'sr',\n  'sv',\n  'ta',\n  'th',\n  'tr',\n  'uk',\n  'ur',\n  'vi',\n  'wuu',\n  'zh',\n  'zh-yue'],\n 'Wikipédia:Résumé de modification': ['fr',\n  'als',\n  'ang',\n  'ar',\n  'as',\n  'az',\n  'azb',\n  'bg',\n  'bh',\n  'bn',\n  'ca',\n  'ckb',\n  'cs',\n  'da',\n  'de',\n  'el',\n  'en',\n  'eo',\n  'fa',\n  'fi',\n  'gl',\n  'he',\n  'hr',\n  'hu',\n  'id',\n  'ilo',\n  'is',\n  'it',\n  'ja',\n  'jv',\n  'ka',\n  'kk',\n  'ko',\n  'mr',\n  'ms',\n  'nl',\n  'nn',\n  'no',\n  'or',\n  'pl',\n  'pt',\n  'ro',\n  'ru',\n  'sd',\n  'se',\n  'sh',\n  'simple',\n  'sk',\n  'sl',\n  'sr',\n  'sv',\n  'ta',\n  'te',\n  'th',\n  'tr',\n  'uk',\n  'ur',\n  'vi',\n  'yi',\n  'zh',\n  'zh-yue'],\n 'Wikipédia:Traduction automatique': ['fr', 'ta'],\n 'Wikipédia:Transcription des langues indiennes': ['fr'],\n 'Wikipédia:Transcription du chinois': ['fr',\n  'cs',\n  'de',\n  'en',\n  'it',\n  'lb',\n  'pt',\n  'uk'],\n 'Wikipédia:Transcription du japonais': ['fr',\n  'ar',\n  'cs',\n  'de',\n  'en',\n  'es',\n  'fa',\n  'lb',\n  'pt',\n  'ru',\n  'uk',\n  'zh'],\n 'Wikipédia:Travaux inédits': ['fr',\n  'af',\n  'als',\n  'ar',\n  'as',\n  'az',\n  'bar',\n  'be',\n  'be-x-old',\n  'bg',\n  'bh',\n  'bn',\n  'bs',\n  'ca',\n  'ckb',\n  'cs',\n  'da',\n  'de',\n  'el',\n  'en',\n  'eo',\n  'es',\n  'fa',\n  'fi',\n  'gl',\n  'gu',\n  'hi',\n  'hu',\n  'hy',\n  'id',\n  'ilo',\n  'is',\n  'it',\n  'ja',\n  'jv',\n  'ka',\n  'kk',\n  'kn',\n  'ko',\n  'lt',\n  'min',\n  'mk',\n  'ml',\n  'ms',\n  'mzn',\n  'ne',\n  'nl',\n  'nn',\n  'no',\n  'pl',\n  'pt',\n  'ro',\n  'ru',\n  'scn',\n  'sco',\n  'sh',\n  'si',\n  'simple',\n  'sk',\n  'sl',\n  'sq',\n  'sr',\n  'sv',\n  'ta',\n  'te',\n  'tg',\n  'th',\n  'tk',\n  'tr',\n  'tt',\n  'uk',\n  'ur',\n  'vi',\n  'yi',\n  'zh'],\n 'Wikipédia:Sources de presse': ['fr', 'azb', 'fa'],\n 'Wikipédia:Utilisation de données Wikidata dans les articles': ['fr'],\n 'Wikipédia:Vandalisme': ['fr',\n  'af',\n  'als',\n  'ang',\n  'ar',\n  'arz',\n  'as',\n  'ast',\n  'az',\n  'azb',\n  'be',\n  'be-x-old',\n  'bg',\n  'bjn',\n  'bn',\n  'bs',\n  'bxr',\n  'ca',\n  'ce',\n  'ceb',\n  'chr',\n  'ckb',\n  'cs',\n  'da',\n  'de',\n  'diq',\n  'el',\n  'en',\n  'eo',\n  'es',\n  'et',\n  'eu',\n  'fa',\n  'fi',\n  'fo',\n  'gl',\n  'gn',\n  'he',\n  'hi',\n  'hr',\n  'hsb',\n  'hu',\n  'hy',\n  'id',\n  'ilo',\n  'is',\n  'it',\n  'ja',\n  'jv',\n  'ka',\n  'kk',\n  'km',\n  'ko',\n  'la',\n  'lb',\n  'lt',\n  'ltg',\n  'lv',\n  'mk',\n  'ml',\n  'mn',\n  'ms',\n  'nds-nl',\n  'ne',\n  'nl',\n  'nn',\n  'no',\n  'oc',\n  'pl',\n  'pt',\n  'qu',\n  'ro',\n  'ru',\n  'scn',\n  'sco',\n  'sd',\n  'se',\n  'sh',\n  'simple',\n  'sk',\n  'sl',\n  'sr',\n  'sv',\n  'sw',\n  'te',\n  'tg',\n  'th',\n  'tl',\n  'tr',\n  'tt',\n  'uk',\n  'ur',\n  'uz',\n  'vec',\n  'vi',\n  'vls',\n  'yi',\n  'zh',\n  'zh-classical',\n  'zh-yue'],\n 'Wikipédia:Vérifiabilité': ['fr',\n  'ar',\n  'as',\n  'ast',\n  'az',\n  'azb',\n  'be',\n  'be-x-old',\n  'bg',\n  'bh',\n  'bn',\n  'bs',\n  'ca',\n  'ckb',\n  'cs',\n  'cy',\n  'da',\n  'de',\n  'el',\n  'en',\n  'eo',\n  'es',\n  'et',\n  'eu',\n  'fa',\n  'fi',\n  'gl',\n  'glk',\n  'gu',\n  'ha',\n  'hi',\n  'hr',\n  'hu',\n  'hy',\n  'ia',\n  'id',\n  'ilo',\n  'is',\n  'it',\n  'ja',\n  'ka',\n  'kk',\n  'kn',\n  'ko',\n  'ku',\n  'la',\n  'lt',\n  'min',\n  'mk',\n  'ml',\n  'ms',\n  'my',\n  'nap',\n  'ne',\n  'nl',\n  'no',\n  'or',\n  'pa',\n  'pl',\n  'ps',\n  'pt',\n  'ro',\n  'ru',\n  'rue',\n  'scn',\n  'sco',\n  'sd',\n  'sh',\n  'si',\n  'simple',\n  'sk',\n  'sl',\n  'sq',\n  'sr',\n  'sv',\n  'ta',\n  'te',\n  'tg',\n  'th',\n  'tk',\n  'tr',\n  'tt',\n  'uk',\n  'ur',\n  'vi',\n  'yi',\n  'zh',\n  'zh-yue'],\n 'Wikipédia:Wikipédia est une encyclopédie': ['fr',\n  'ar',\n  'bh',\n  'ckb',\n  'cs',\n  'el',\n  'en',\n  'eo',\n  'id',\n  'ko',\n  'pnb',\n  'ro',\n  'si',\n  'sk',\n  'vi',\n  'zh'],\n \"Wikipédia:Wikipédia n'est pas un dictionnaire\": ['fr',\n  'ar',\n  'as',\n  'az',\n  'azb',\n  'br',\n  'ckb',\n  'de',\n  'el',\n  'en',\n  'es',\n  'fa',\n  'fi',\n  'hu',\n  'ia',\n  'it',\n  'ja',\n  'ka',\n  'ko',\n  'ne',\n  'pt',\n  'ro',\n  'ru',\n  'scn',\n  'simple',\n  'sl',\n  'tg',\n  'tr',\n  'ur',\n  'vec',\n  'vi',\n  'zh',\n  'zh-yue'],\n 'Wikipédia:Étiquette': ['fr',\n  'als',\n  'ar',\n  'ast',\n  'az',\n  'azb',\n  'bar',\n  'be',\n  'be-x-old',\n  'bg',\n  'bn',\n  'ca',\n  'ckb',\n  'cs',\n  'da',\n  'de',\n  'en',\n  'eo',\n  'es',\n  'fa',\n  'fi',\n  'fy',\n  'gl',\n  'he',\n  'hi',\n  'hr',\n  'hu',\n  'hy',\n  'ia',\n  'id',\n  'is',\n  'it',\n  'ja',\n  'jv',\n  'ka',\n  'ko',\n  'map-bms',\n  'mk',\n  'ml',\n  'ms',\n  'mt',\n  'nap',\n  'nl',\n  'no',\n  'pl',\n  'pt',\n  'ro',\n  'ru',\n  'rue',\n  'sat',\n  'scn',\n  'sh',\n  'si',\n  'sk',\n  'sl',\n  'sr',\n  'su',\n  'sv',\n  'ta',\n  'te',\n  'th',\n  'tr',\n  'tt',\n  'uk',\n  'ur',\n  'vec',\n  'vi',\n  'yi',\n  'zh']}"
     },
     "metadata": {},
     "execution_count": 12
    }
   ],
   "source": [
    "interlanguagelinks_aslist['fr']"
   ]
  },
  {
   "cell_type": "markdown",
   "metadata": {},
   "source": [
    "## Find missing links for the five language editions"
   ]
  },
  {
   "cell_type": "code",
   "execution_count": 12,
   "metadata": {},
   "outputs": [],
   "source": [
    "missinglinks = dict()"
   ]
  },
  {
   "cell_type": "code",
   "execution_count": 13,
   "metadata": {},
   "outputs": [],
   "source": [
    "langs = ['de','en','fr','es','ja']"
   ]
  },
  {
   "cell_type": "code",
   "execution_count": 14,
   "metadata": {
    "tags": [
     "outputPrepend"
    ]
   },
   "outputs": [
    {
     "output_type": "stream",
     "name": "stdout",
     "text": "pedia:Interessenkonflikt#Eigendarstellung', 'ru:Википедия:Автобиографии']\nWikipedia:自著作物の持ち込み\n['ca', 'en', 'fr', 'is', 'ko', 'sr', 'th', 'vi', 'zh']\n['en:Wikipedia:Donating copyrighted materials', 'is:Wikipedia:Gefa höfundaréttarvarin gögn', 'vi:Wikipedia:Hiến các tài liệu có bản quyền', 'zh:Wikipedia:捐赠版权材料', 'sr:Википедија:Донирање материјала са ауторским правима', 'ko:위키백과:자신의 저작물 기부하기']\nWikipedia:自著作物の持ち込み/削除依頼を出されたら\n[]\n[]\nWikipedia:色の使用\n[]\n[]\nWikipedia:荒らし\n['af', 'als', 'ang', 'ar', 'arz', 'as', 'ast', 'az', 'azb', 'be', 'be-x-old', 'bg', 'bjn', 'bn', 'bs', 'bxr', 'ca', 'ce', 'ceb', 'chr', 'ckb', 'cs', 'da', 'de', 'diq', 'el', 'en', 'eo', 'es', 'et', 'eu', 'fa', 'fi', 'fo', 'fr', 'gl', 'gn', 'he', 'hi', 'hr', 'hsb', 'hu', 'hy', 'id', 'ilo', 'is', 'it', 'jv', 'ka', 'kk', 'km', 'ko', 'la', 'lb', 'lt', 'ltg', 'lv', 'mk', 'ml', 'mn', 'ms', 'nds-nl', 'ne', 'nl', 'nn', 'no', 'oc', 'pl', 'pt', 'qu', 'ro', 'ru', 'scn', 'sco', 'sd', 'se', 'sh', 'simple', 'sk', 'sl', 'sr', 'sv', 'sw', 'te', 'tg', 'th', 'tl', 'tr', 'tt', 'uk', 'ur', 'uz', 'vec', 'vi', 'vls', 'yi', 'zh', 'zh-classical', 'zh-yue']\n['fi:Wikipedia:Vandalismin_löytäminen', 'ko:위키백과:반달행위', 'ca:Viquipèdia:Vandalisme', 'de:Wikipedia:Vandalismus', 'en:Wikipedia:Vandalism', 'el:Βικιπαίδεια:Βανδαλισμός', 'fr:Wikipedia:Vandalisme', 'hu:Wikipédia:Vandalizmus', 'nl:Wikipedia:Vandalisme', 'nn:Wikipedia:Hærverk', 'pl:Wikipedia:Wandalizm', 'pt:Wikipedia:Vandalismo', 'ru:Википедия:Вандализм', 'fi:Wikipedia:Vandalismi', 'sk:Wikipedia:Vandalizmus', 'sv:Wikipedia:Klottersanering', 'tr:Vikipedi:Vandalizm', 'zh:Wikipedia:破坏', 'es:Wikipedia:Vandalismo', 'ar:ويكيبيديا:تخريب', 'bg:Уикипедия:Вандализъм', 'bs:Wikipedia:Vandalizam', 'cs:Wikipedie:Vandalismus', 'eo:Vikipedio:Vandalismo', 'fa:ویکی\\u200cپدیا:خرابکاری', 'fr:Wikipédia:Vandalisme', 'he:ויקיפדיה:טיפול בהשחתה', 'hr:Wikipedija:Vandalizam', 'id:Wikipedia:Vandalisme', 'it:Wikipedia:Gestione del vandalismo', 'ka:ვიკიპედია:ვანდალიზმი', 'ko:위키백과:문서 훼손', 'lb:Wikipedia:Vandalismus', 'ms:Wikipedia:Laku musnah', 'no:Wikipedia:Vandalisme', 'ro:Wikipedia:Vandalism', 'sk:Wikipédia:Vandalizmus', 'sl:Wikipedija:Ravnanje z vandalizmom', 'uk:Вікіпедія:Вандалізм', 'yi:װיקיפּעדיע:וואנדאליזם']\nWikipedia:著作権\n['af', 'als', 'an', 'ar', 'arz', 'as', 'ast', 'av', 'az', 'ba', 'be', 'be-x-old', 'bg', 'bn', 'bo', 'br', 'bs', 'ca', 'ce', 'ceb', 'cs', 'cy', 'da', 'de', 'diq', 'el', 'en', 'eo', 'es', 'et', 'eu', 'fa', 'ff', 'fi', 'fiu-vro', 'fr', 'ga', 'gan', 'gl', 'gu', 'he', 'hi', 'hu', 'hy', 'ia', 'id', 'ilo', 'inh', 'is', 'it', 'ka', 'kk', 'kl', 'ko', 'ksh', 'ku', 'lb', 'li', 'lij', 'lmo', 'lt', 'lv', 'mg', 'mi', 'mk', 'ml', 'mr', 'ms', 'my', 'mzn', 'nap', 'nds', 'nds-nl', 'new', 'nl', 'nn', 'no', 'or', 'os', 'pl', 'ps', 'pt', 'qu', 'rmy', 'ro', 'roa-tara', 'ru', 'sah', 'scn', 'sco', 'si', 'simple', 'sk', 'sl', 'so', 'sq', 'sr', 'su', 'sv', 'ta', 'te', 'tet', 'tg', 'th', 'tl', 'tpi', 'tr', 'tt', 'udm', 'uk', 'ur', 'uz', 'vec', 'vi', 'vo', 'wa', 'wuu', 'yi', 'zh', 'zh-min-nan', 'zh-yue']\n['af:Wikipedia:Kopiereg', \"an:Wikipedia:Dreitos d'autor\", 'ar:ويكيبيديا:حقوق النشر', \"ast:Uiquipedia:Derechos d'autor\", 'be-x-old:Вікіпэдыя:Аўтарскія правы', 'bg:Уикипедия:Авторско право', 'br:Wikipedia:Gwirioù aozer (Copyright)', \"ca:Viquipèdia:Drets d'autor\", 'cs:Wikipedie:Autorské právo', 'da:Wikipedia:Ophavsret', 'de:Wikipedia:Lizenzbestimmungen', 'en:Wikipedia:Copyrights', 'eo:Vikipedio:Kopirajto', 'es:Wikipedia:Derechos de autor', 'et:Vikipeedia:Autoriõigused', 'eu:Wikipedia:Egilearen eskubideak', 'fa:ویکی\\u200cپدیا:حق تکثیر', 'fi:Wikipedia:Tekijänoikeudet', \"fr:Wikipédia:Droit d'auteur\", 'ga:Vicipéid:Cóipchearta', 'gu:વિકિપીડિયા:પ્રકાશનાધિકાર', 'he:ויקיפדיה:זכויות יוצרים', 'hu:Wikipédia:Szerzői jogok', 'id:Wikipedia:Hak cipta', 'is:Wikipedia:Almennur fyrirvari', 'it:Wikipedia:Copyright', 'ko:위키백과:저작권', 'lb:Wikipedia:Copyright', 'li:Wikipedia:Auteursrechte', 'mk:Википедија:Авторски права', 'nl:Wikipedia:Auteursrechten', 'no:Wikipedia:Opphavsrett', 'os:Википеди:Авторон бар', 'pl:Wikipedia:Prawa autorskie', 'pt:Wikipedia:Direitos de autor', 'ru:Википедия:Авторские права', 'simple:Wikipedia:Copyrights', 'sl:Wikipedija:Avtorske pravice', 'sr:Википедија:Ауторско право', 'su:Wikipedia:Hak cipta', 'sv:Wikipedia:Upphovsrätt', 'th:วิกิพีเดีย:ลิขสิทธิ์', 'tr:Vikipedi:Telif hakları', 'uk:Вікіпедія:Авторські права', 'vi:Wikipedia:Quyền tác giả', 'wa:Wikipedia:Abondroets', 'yi:װיקיפּעדיע:קאפירעכטן', 'zh:Wikipedia:版权信息', 'arz:Wikipedia:حقوق النسخ', 'bo:Wikipedia:Copyrights', 'bs:Wikipedia:Autorska prava', 'ceb:Wikipedia:Katungod sa pagpatik', 'ff:Wikipedia:Copyrights', 'fiu-vro:Wikipedia:Copyrights', 'gl:Wikipedia:Copyrights', 'hi:विकिपीडिया:Copyrights', 'ka:ვიკიპედია:საავტორო უფლებები', 'kk:Уикипедия:Ауторлық құқықтар', 'lij:Wikipedia:Copyrights', 'lt:Vikipedija:Copyrights', 'mg:Wikipedia:Copyrights', 'mi:Wikipedia:Manatārua', 'ml:വിക്കിപീഡിയ:പകര്\\u200dപ്പവകാശം', 'mr:विकिपीडिया:कायदा आणि प्रताधिकारमुक्ती प्रकल्प', 'my:Wikipedia:Copyrights', 'ro:Wikipedia:Drepturi de autor', 'roa-tara:Wikipedia:Copyrights', 'si:Wikipedia:කර්තෘ හිමිකම්', 'sq:Wikipedia:Të drejta autori', 'te:వికీపీడియా:కాపీహక్కులు', 'tet:Wikipedia:Copyrights', 'tg:Википедиа:Copyrights', 'tl:Wikipedia:Karapatang-ari', 'vo:Vükiped:Kopiedagitäts', 'zh-min-nan:Wikipedia:Tù-chok-koân', 'arz:ويكيبيديا:حقوق النسخ', 'ku:Alîkarî:Mafên telîfê', 'qu:Wikipidiya:Ruraqpa hayñin', 'ar:ويكيبيديا:حقوق التأليف والنشر', 'bn:উইকিপেডিয়া:কপিরাইট', 'be:Вікіпедыя:Аўтарскія правы', 'gl:Wikipedia:Dereitos de autor', 'lt:Vikipedija:Autorinės teisės', 'lv:Vikipēdija:Autortiesības', 'kl:Wikipedia:Piginnittussaatitaaneq', 'el:Βικιπαίδεια:Πνευματικά δικαιώματα', \"ca:Viquipèdia:Condicions d'ús\", 'si:විකිපීඩියා:කර්තෘ හිමිකම්', 'bn:উইকিপিডিয়া:কপিরাইট', 'eo:Vikipedio:Aŭtorrajto', 'cy:Wicipedia:Hawlfraint', 'hi:विकिपीडिया:प्रकाशनाधिकार', 'pt:Wikipédia:Direitos de autor', 'kk:Уикипедия:Авторлық құқықтар', 'as:ৱিকিপিডিয়া:স্বত্বাধিকাৰ', 'ml:വിക്കിപീഡിയ:പകർപ്പവകാശം', 'as:ৱিকিপিডিয়া:কপিৰাইট', 'eu:Wikipedia:Egile eskubideak', 'lt:Vikipedija:Autorių teisės', 'qu:Wikipedia:Ruraqpa hayñin', 'is:Wikipedia:Höfundaréttur']\nWikipedia:著作権/20080630迄\n[]\n[]\nWikipedia:著作権/2008年7月13日までの文書対象\n[]\n[]\nWikipedia:著作権/履歴の保存\n[]\n[]\nWikipedia:表記ガイド\n['bg', 'ca', 'cs', 'de', 'en', 'fa', 'fr', 'ia', 'ko', 'lb', 'zh']\n['de:Wikipedia:Typografie', 'fr:Wikipédia:Conventions typographiques', 'en:Wikipedia:Manual of Style', 'ca:Viquipèdia:Convencions tipogràfiques', 'lb:Wikipedia:Typographie', 'en:Wikipedia:Manual of Style/Text formatting', 'fa:ویکی\\u200cپدیا:شیوه\\u200cنامه قالب\\u200cبندی متون', 'zh:Wikipedia:格式手冊 (文字格式)']\nWikipedia:表記ガイド/放送関連および配信関連\n[]\n[]\nWikipedia:言葉を濁さない\n['ar', 'ast', 'az', 'be-x-old', 'bg', 'br', 'bs', 'ca', 'cs', 'de', 'en', 'eo', 'es', 'fa', 'fi', 'fr', 'gan', 'gl', 'he', 'hu', 'ia', 'id', 'it', 'ko', 'ms', 'nl', 'no', 'pl', 'pt', 'ro', 'ru', 'si', 'simple', 'sk', 'sr', 'sv', 'ta', 'th', 'tr', 'uk', 'ur', 'vi', 'wuu', 'zh', 'zh-yue']\n['en:Wikipedia:Avoid weasel terms', 'ia:Wikipedia:Evita terminos evasive', 'en:Wikipedia:Avoid weasel words', 'fi:Wikipedia:Kerro kuka tekee', 'fr:Wikipédia:Contenu évasif', 'hu:Wikipédia:Hivatkozz és fogalmazz pontosan', 'en:Wikipedia:Avoid_weasel_words', 'fi:Wikipedia:Kerro_kuka_tekee', 'fr:Wikipédia:Contenu_évasif', 'hu:Wikipédia:Hivatkozz_és_fogalmazz_pontosan', 'ia:Wikipedia:Evita_terminos_evasive', 'cs:Wikipedie:Vyhněte se vyhýbavým slovům', 'fa:ویکی\\u200cپدیا:از الفاظ طفره\\u200cآمیز بپرهیزید', 'it:Wikipedia:Evasività', 'zh:Wikipedia:不要模稜兩可', 'id:Wikipedia:Hindari penyamaran opini', 'pl:Wikipedia:Unikaj wyrażeń zwodniczych', 'sk:Wikipédia:Vyhnite sa vyhýbavým slovám', 'ru:Википедия:Избегайте неопределённых слов', 'uk:Вікіпедія:Слова-паразити', 'br:Wikipedia:Kaoz dispis ha diasur', 'ko:위키백과:애매한 표현을 삼가 주세요', 'ko:위키백과:모호한 표현을 삼가 주세요', 'ca:Viquipèdia:Contingut evasiu', 'de:Wikipedia:Vermeide hohle Phrasen', 'ms:Wikipedia:Elakkan pengucapan yang samar-samar', 'ro:Wikipedia:Formulări evazive', 'ta:விக்கிப்பீடியா:மழுப்பலான சொற்களை தவிர்த்தல்', 'sr:Википедија:Избјегавајте неодређене тврдње', 'hu:Wikipédia:Hivatkozz és fogalmazz pontosan!', 'he:ויקיפדיה:כיצד להימנע מחמקמקילים', 'simple:Wikipedia:Avoid weasel words', 'ru:Википедия:Избегайте неопределённых выражений', 'en:Citation Needed (band)', 'zh:来源请求', 'zh-tw:來源請求', 'ar:ويكيبيديا:تجنب التعابير المبهمة', 'nl:Wikipedia:Vermijd holle frasen', 'no:Wikipedia:Unngå unnvikende uttrykk', 'sv:Wikipedia:Undvik vessleord', 'th:วิกิพีเดีย:หลีกเลี่ยงถ้อยคำคลุมเครือ', 'sv:Wikipedia:Undvik försåtliga referenser', 'en:Wikipedia:Manual of Style (words to watch)#Unsupported attributions', 'pt:Wikipedia:Evite termos vagos', 'en:Wikipedia:Manual of Style/Words to watch#Unsupported attributions', 'pt:Wikipédia:Evite termos vagos']\nWikipedia:記事どうしをつなぐ\n['af', 'ar', 'arz', 'az', 'ba', 'be', 'bg', 'ca', 'ckb', 'de', 'en', 'fa', 'fi', 'hy', 'id', 'lt', 'mn', 'ms', 'nl', 'or', 'pl', 'pt', 'ru', 'sah', 'sl', 'th', 'tr', 'uk', 'zh']\n['en:Wikipedia:Build the web', 'en:Wikipedia:Avoid_making_your_articles_orphans', \"en:Wikipedia:Don't use external links where we'll want Wikipedia links\", 'en:Wikipedia:Build_the_web', 'id:Wikipedia:Bangun jaringan halaman', 'zh:Wikipedia:構築網路', 'ms:Wikipedia:Bina web', 'fa:ویکی\\u200cپدیا:وب را بسازید', 'en:Wikipedia:Manual of Style (links)', 'fa:ویکی\\u200cپدیا:شیوه\\u200cنامه (پیوند)', 'ms:Wikipedia:Manual gaya penulisan (pautan)', 'pl:Wikipedia:Tworzenie linków na Wikipedii', 'pt:Wikipedia:Livro de estilo/Ligações', 'fi:Wikipedia:Tyyliopas/Linkit', 'tr:Vikipedi:Stil rehberi (bağlantı)', 'zh:Wikipedia:格式手册 (链接)', 'en:Wikipedia:Linking', 'fi:Ohje:Linkit', 'lt:Vikipedija:Vidinės nuorodos', 'en:Wikipedia:Manual of Style/Linking']\nWikipedia:記事の所有権\n['als', 'ar', 'as', 'azb', 'bg', 'bn', 'br', 'ckb', 'cs', 'de', 'en', 'es', 'fa', 'fi', 'fr', 'gl', 'he', 'hr', 'hu', 'id', 'is', 'kk', 'ko', 'lt', 'mk', 'ml', 'mr', 'ms', 'pl', 'pt', 'ru', 'sh', 'si', 'simple', 'sr', 'sv', 'te', 'th', 'tr', 'tt', 'ur', 'vi', 'zh']\n['en:Wikipedia:Ownership of articles', 'bg:Уикипедия:Право на собственост върху статии', 'cs:Wikipedie:Vlastnění článků', 'he:ויקיפדיה:בעלות על ערכים', 'id:Wikipedia:Kepemilikan artikel', 'sv:Wikipedia:Ägarskap', 'tr:Vikipedi:Maddelerin mülkiyeti', 'vi:Wikipedia:Sở hữu bài viết', 'zh:Wikipedia:条目的所有权', 'ar:ويكيبيديا:ملكية المقالات', 'sr:Википедија:Власништво над чланцима', 'sv:Wikipedia:Ägarskap av artiklar', 'is:Wikipedia:Eignun greina', 'lt:Wikipedia:Nuosavybė', 'es:Wikipedia:Propiedad de los artículos', 'hr:Wikipedija:Vlasništvo nad člancima', 'pt:Wikipedia:Propriedade dos artigos', 'de:Wikipedia:Eigentum an Artikeln', 'hu:Wikipédia:A szócikkeknek nincs tulajdonosuk', 'sh:Wikipedia:Vlasništvo nad člancima', 'lt:Vikipedija:Nuosavybė', 'simple:Wikipedia:Ownership of articles', 'fa:ویکی\\u200cپدیا:مالکیت مقالات', 'mk:Википедија:Сопствеништво на статии', 'fr:Wikipédia:Appropriation des articles', 'pl:Wikipedia:Czyją własnością są artykuły', 'th:วิกิพีเดีย:ความเป็นเจ้าของบทความในวิกิพีเดีย', 'ru:Википедия:Собственность на статьи', 'bn:উইকিপিডিয়া:নিবন্ধের মালিকানা', 'fa:ویکی\\u200cپدیا:مالکیت نوشتارها', 'fa:ویکی\\u200cپدیا:مالکیت مقاله\\u200cها', 'th:วิกิพีเดีย:ความเป็นเจ้าของบทความ', 'as:ৱিকিপিডিয়া:প্ৰৱন্ধৰ অধিকাৰিতা', 'pt:Wikipédia:Propriedade dos artigos', 'as:ৱিকিপিডিয়া:প্ৰবন্ধৰ অধিকাৰিতা', \"br:Wikipedia:Perc'henniezh\", 'kk:Уикипедия:Мақала — бұл бірлескен жұмыс', \"fr:Wikipédia:Appropriation d'un article\", 'ur:منصوبہ:ملکیت مضامین']\nWikipedia:記事名の付け方\n['af', 'als', 'ar', 'as', 'ast', 'az', 'azb', 'bar', 'be', 'be-x-old', 'bg', 'bh', 'bn', 'ca', 'ceb', 'ckb', 'cs', 'cv', 'cy', 'da', 'de', 'diq', 'el', 'en', 'eo', 'es', 'et', 'fa', 'fi', 'fo', 'fr', 'gl', 'he', 'hi', 'hr', 'hu', 'hy', 'ia', 'id', 'inh', 'is', 'it', 'jv', 'ka', 'kk', 'ko', 'la', 'lb', 'lt', 'lv', 'min', 'mk', 'ml', 'ms', 'mt', 'my', 'nds', 'ne', 'nl', 'nn', 'no', 'or', 'pl', 'pt', 'qu', 'ro', 'ru', 'rue', 'sa', 'sah', 'scn', 'sd', 'sh', 'shn', 'si', 'sk', 'sl', 'sq', 'sr', 'sv', 'ta', 'tg', 'th', 'tl', 'tr', 'tt', 'uk', 'ur', 'uz', 'vec', 'vi', 'wuu', 'xal', 'yi', 'zh', 'zh-yue']\n['da:Wikipedia:Navngivning', 'en:Wikipedia:Naming conventions', 'sv:Wikipedia:Namngivning', 'en:Wikipedia:Naming conventions][[sv:Wikipedia:Namngivning', 'cs:Wikipedie:Název článku', 'de:Wikipedia:Namenskonventionen', 'eo:Vikipedio:Nomoj de titoloj', 'es:Wikipedia:Convenciones de títulos', 'fr:Wikipédia:Conventions de nommage', 'ro:Wikipedia:Convenţii pentru denumiri', 'zh-cn:Wikipedia:命名常规', 'zh-tw:Wikipedia:命名常規', 'lb:Wikipedia:Nennung', 'sl:Wikipedija:Dogovori o poimenovanjih', 'be:&#1042;&#1110;&#1082;&#1110;&#1087;&#1101;&#1076;&#1099;&#1103;:&#1055;&#1072;&#1075;&#1072;&#1076;&#1085;&#1077;&#1085;&#1100;&#1085;&#1110; &#1087;&#1072; &#1085;&#1072;&#1079;&#1074;&#1072;&#1093; &#1072;&#1088;&#1090;&#1099;&#1082;&#1091;&#1083;&#1072;&#1118;', 'ca:Viquipèdia:Anomenant pàgines', 'it:Wikipedia:Convenzioni_di_nomenclatura', 'ms:Wikipedia:Cara pemilihan nama', 'no:Wikipedia:Navnekonvensjoner', 'pt:Wikipedia:Convenções para nomes', 'ru:&#1042;&#1080;&#1082;&#1080;&#1087;&#1077;&#1076;&#1080;&#1103;:&#1048;&#1084;&#1077;&#1085;&#1086;&#1074;&#1072;&#1085;&#1080;&#1077; &#1089;&#1090;&#1072;&#1090;&#1077;&#1081;', 'be:Вікіпэдыя:Пагадненьні_па_назвах_артыкулаў', 'ca:Viquipèdia:Anomenant_pàgines', 'cs:Wikipedie:Název_článku', 'en:Wikipedia:Naming_conventions', 'eo:Vikipedio:Nomoj_de_titoloj', 'es:Wikipedia:Convenciones_de_títulos', 'fr:Wikipédia:Conventions_de_nommage', 'ms:Wikipedia:Cara_pemilihan_nama', 'pt:Wikipedia:Convenções_para_nomes', 'ro:Wikipedia:Convenţii_pentru_denumiri', 'ru:Википедия:Именование_статей', 'sl:Wikipedija:Dogovori_o_poimenovanjih', 'zh:Wikipedia:命名常规', 'be:Вікіпэдыя:Пагадненьні па назвах артыкулаў', 'ca:Viquipèdia:Anomenar pàgines', 'fr:Wikipédia:Conventions sur les titres', 'he:ויקיפדיה:מתן שם לערך', 'hu:Wikipédia:Elnevezési szokások', 'id:Wikipedia:Pedoman pemberian nama artikel', 'it:Aiuto:Convenzioni di nomenclatura', 'ko:위키백과:제목 선택하기', 'nl:Wikipedia:Het benoemen van een pagina', 'pt:Wikipedia:Convenção de nomenclatura', 'ru:Википедия:Именование статей', 'sk:Wikipédia:Konvencie pre názvoslovie', 'ta:விக்கிபீடியா:பெயரிடல் மரபு', 'th:วิกิพีเดีย:หลักการตั้งชื่อบทความ', 'uk:Вікіпедія:Іменування статей', 'vi:Wikipedia:Cách đặt tên trang', 'af:Wikipedia:Titelriglyne', 'he:ויקיפדיה:איך לתת שם לערך', 'tl:Wikipedia:Mga kombensyon sa pagsusulat ng mga artikulo', 'th:วิกิพีเดีย:หลักการตั้งชื่อ', 'fa:ویکی\\u200cپدیا:قواعد نام\\u200cگذاری', 'lb:Wikipedia:Nummkonventiounen', 'mk:Википедија:Именување на статии', 'ms:Wikipedia:Kelaziman penamaan tajuk rencana', 'sl:Wikipedija:Dogovori o poimenovanju', 'ta:Wikipedia:பெயரிடல் மரபு', 'vi:Wikipedia:Tên bài', 'ca:Viquipèdia:Anomenar_pàgines', 'fa:ویکی\\u200cپدیا:قواعد_نام\\u200cگذاری', 'fr:Wikipédia:Conventions_sur_les_titres', 'he:ויקיפדיה:מתן_שם_לערך', 'hu:Wikipédia:Elnevezési_szokások', 'id:Wikipedia:Pedoman_pemberian_nama_artikel', 'it:Aiuto:Convenzioni_di_nomenclatura', 'ko:위키백과:제목_선택하기', 'mk:Википедија:Именување_на_статии', 'ms:Wikipedia:Kelaziman_penamaan_tajuk_rencana', 'nl:Wikipedia:Het_benoemen_van_een_pagina', 'pt:Wikipedia:Convenção_de_nomenclatura', 'sk:Wikipédia:Konvencie_pre_názvoslovie', 'sl:Wikipedija:Dogovori_o_poimenovanju', 'ta:Wikipedia:பெயரிடல்_மரபு', 'tl:Wikipedia:Mga_kombensyon_sa_pagsusulat_ng_mga_artikulo', 'uk:Вікіпедія:Іменування_статей', 'vi:Wikipedia:Tên_bài', \"mt:Għajnuna:Konvenzjonijiet ta' nomenklatura\", 'ia:Wikipedia:Conventiones de nomenclatura', 'nl:Wikipedia:Benoemen van een pagina', 'ro:Wikipedia:Titluri', 'be-x-old:Вікіпэдыя:Пагадненьні па назвах артыкулаў', 'ka:ვიკიპედია:გვერდების სახელები', 'ia:Wikipedia:Conventiones_de_nomenclatura', 'ka:ვიკიპედია:გვერდების_სახელები', \"mt:Għajnuna:Konvenzjonijiet_ta'_nomenklatura\", 'nl:Wikipedia:Benoemen_van_een_pagina', 'az:Vikipediya:Məqalə adları', 'cv:Википеди:Статьясене ят парасси', 'lt:Wikipedia:Vardinimo taisyklės', 'lv:Wikipedia:Nosaukumu veidošana', \"mt:Help:(Għajnuna) Konvenzjonijiet ta' nomenklatura\", 'qu:Wikipidiya:Qillqa suti', 'yi:הילף:נאמען פון ארטקיל', 'be:Вікіпедыя:Найменне артыкулаў', 'tl:Wikipedia:Mga kumbensyon sa pagsusulat ng mga artikulo', 'ast:Uiquipedia:Convenciones de nomenclatura', 'ar:ويكيبيديا:تسمية المقالات', 'eo:Vikipedio:Titoloj de artikoloj', 'jv:Wikipedia:Paugeran maringi nami artikel', 'lv:Vikipēdija:Nosaukumu veidošana', 'sah:Википедия:Ыстатыйаны ааттааһын', 'sah:Бикипиидийэ:Ыстатыйаны ааттааһын', 'ta:விக்கிப்பீடியா:பெயரிடல் மரபு', 'tr:Vikipedi:Adlandırma kuralları', 'uz:Vikipediya:Maqolalarga nom berish', 'uz:Vikipediya:Maqolalarni nomlash', 'zh-yue:Wikipedia:Naming conventions', 'bg:Уикипедия:Правила за наименуване', 'el:Βικιπαίδεια:Ονοματοδοσία σελίδων', 'lt:Vikipedija:Vardinimo taisyklės', 'mk:Википедија:Конвенции за именување', 'zh-yue:Wikipedia:標題習慣', 'yi:װיקיפּעדיע:נאמען פון ארטיקל', 'id:Wikipedia:Pedoman penamaan', 'fi:Wikipedia:Nimeämiskäytäntö', 'fo:Wikipedia:Navngeving', 'en:Wikipedia:Article titles']\nWikipedia:記事名の付け方/ヨーロッパ貴族の記事名\n[]\n[]\nWikipedia:記事名の付け方/日本の皇族\n[]\n[]\nWikipedia:記事名の付け方/鉄道\n['de']\n[]\nWikipedia:説明責任\n['bg', 'en', 'id']\n['en:Wikipedia:Accountability']\nWikipedia:論争の解決\n['af', 'am', 'ar', 'as', 'az', 'azb', 'be', 'be-x-old', 'bg', 'bn', 'br', 'ca', 'ckb', 'cs', 'de', 'el', 'en', 'fa', 'fr', 'he', 'hr', 'hu', 'id', 'is', 'it', 'ka', 'ko', 'lt', 'min', 'mk', 'ml', 'ms', 'nl', 'or', 'pl', 'pt', 'ro', 'ru', 'sah', 'scn', 'si', 'simple', 'sk', 'sq', 'sr', 'sv', 'te', 'th', 'tr', 'tt', 'uk', 'ur', 'vi', 'zh']\n['nl:Wikipedia:Conflictoplossing', 'en:Wikipedia:Conflict resolution', 'zh:Wikipedia:争论的解决', 'cs:Wikipedie:Řešení konfliktů', 'fr:Wikipédia:Résolution de conflit', 'sv:Wikipedia:Konfliktlösning', 'vi:Wikipedia:Gi&#7843;i quy&#7871;t mâu thu&#7851;n', 'cs:Wikipedie:Řešení_konfliktů', 'en:Wikipedia:Resolving disputes', 'fr:Wikipédia:Résolution_de_conflit', 'nl:Wikipedia:Conflictafhandeling', 'ru:Википедия:Разрешение_конфликтов', 'vi:Wikipedia:Giải_quyết_mâu_thuẫn', 'pt:Wikipedia:Como_resolver_disputas', 'it:Wikipedia:Risoluzione dei conflitti', 'pt:Wikipedia:Como resolver disputas', 'ro:Wikipedia:Rezolvarea disputelor', 'ru:Википедия:Разрешение конфликтов', 'vi:Wikipedia:Giải quyết mâu thuẫn', 'hr:Wikipedija:Rješavanje sporova', 'id:Wikipedia:Penyelesaian perselisihan', 'sk:Wikipédia:Riešenie konfliktov', 'sv:Wikipedia:Konflikthantering', 'ar:ويكيبيديا:حل الخلاف', 'bg:Уикипедия:Разрешаване на спорове', 'br:Wikipedia:Argerzhadur evit diskoulmañ tabutoù', 'en:Wikipedia:Dispute resolution', 'tr:Vikipedi:Anlaşmazlıkların giderilmesi', 'uk:Вікіпедія:Вирішення конфліктів', 'fa:ویکی\\u200cپدیا:حل اختلاف', 'ko:위키백과:분쟁 해결', 'ms:Wikipedia:Penyelesaian pertikaian', 'hu:Wikipédia:Vitarendezés', 'af:Wikipedia:Geskilbeslegting', 'am:Wikipedia:Resolving disputes', 'ca:Viquipèdia:Resolució de conflictes', 'ar:ويكيبيديا:حل النزاع', 'lt:Wikipedia:Konfliktas', 'te:వికీపీడియా:వివాద పరిష్కారం', 'lt:Vikipedija:Konfliktų sprendimas', 'simple:Wikipedia:Solving disputes', 'mk:Википедија:Разрешување на спорови', 'ml:വിക്കിപീഡിയ:തര്\\u200dക്കപരിഹാരം', 'pl:Wikipedia:Rozwiązywanie konfliktów', 'de:Wikipedia:Konflikte']\nWikipedia:過剰なカテゴリ\n['en', 'es', 'fa', 'ko', 'uk', 'zh']\n['es:Wikipedia:Sobrecategorización', 'uk:Вікіпедія:Надлишкова категоризація']\nWikipedia:過剰な内容の整理\n['en']\n[]\nWikipedia:関連作品\n[]\n[]\nWikipedia:関連項目\n['en']\n['en:Wikipedia:See also']\nWikipedia:雑多な内容を箇条書きした節を避ける\n['en', 'es', 'fi', 'fr', 'he', 'it', 'lt', 'ms', 'pt', 'ru', 'sv', 'zh']\n['en:Wikipedia:Avoid trivia sections', 'en:Wikipedia:Trivia sections', 'he:ויקיפדיה:הימנעו מפסקאות טריוויה', 'sv:Wikipedia:Kuriosa', 'ru:Википедия:Раздел «интересные факты»', 'zh:Wikipedia:瑣碎章節', 'it:Wikipedia:Svuota la sezione curiosità', 'es:Wikipedia:Secciones de curiosidades', 'fi:Ohje:Artikkelin rakenne#Triviaosiot', 'fr:Wikipédia:Sections anecdotiques', 'lt:Vikipedija:Įvairenybės', 'ms:Wikipedia:Bahagian trivia', 'pt:Wikipedia:Seções de curiosidades', 'en:Wikipedia:Manual of Style (trivia sections)', 'sv:Wikipedia:Kuriosaavsnitt', 'en:Wikipedia:Manual of Style/Trivia sections']\nプロジェクト:キリスト教/キリスト教の記事名と用語表記のガイドライン\n[]\n[]\nプロジェクト:フィクション/登場人物と設定の記述\n[]\n[]\n"
    }
   ],
   "source": [
    "for lang in langs:\n",
    "    print(lang)\n",
    "    missinglinks[lang] = dict()\n",
    "    with open('interlanguagelinks_dates_{}.json'.format(lang),'r') as f:\n",
    "        data = json.load(f)\n",
    "\n",
    "        for rule in data:\n",
    "            print(rule)\n",
    "            #print(data[rule])\n",
    "            missinglinks[lang][rule] = list()\n",
    "\n",
    "            # the interlanguage links that this page has\n",
    "            _ills = interlanguagelinks_aslist[lang][rule]\n",
    "            if lang in _ills:\n",
    "                _ills.remove(lang)\n",
    "            print(_ills)\n",
    "\n",
    "            # the keys we have dates for \n",
    "            foundkeys = list(data[rule].keys())\n",
    "            print(foundkeys)\n",
    "\n",
    "            otherlangs = ['de','en','fr','es','ja']\n",
    "            otherlangs.remove(lang)\n",
    "\n",
    "            _ills_asfullname = ['{}:{}'.format(key,value) for (key,value) in interlanguagelinks[lang][rule].items() if key in otherlangs]\n",
    "\n",
    "            for linkname in _ills_asfullname:\n",
    "                if linkname not in foundkeys:\n",
    "                    missinglinks[lang][rule].append(linkname)\n"
   ]
  },
  {
   "cell_type": "code",
   "execution_count": 15,
   "metadata": {},
   "outputs": [
    {
     "output_type": "execute_result",
     "data": {
      "text/plain": "['de:Wikipedia:Namenskonventionen/Schienenfahrzeuge']"
     },
     "metadata": {},
     "execution_count": 15
    }
   ],
   "source": [
    "missinglinks['ja']['Wikipedia:記事名の付け方/鉄道']"
   ]
  },
  {
   "cell_type": "code",
   "execution_count": 16,
   "metadata": {},
   "outputs": [],
   "source": [
    "missinglinks_cleaned = dict()"
   ]
  },
  {
   "cell_type": "code",
   "execution_count": 17,
   "metadata": {
    "tags": []
   },
   "outputs": [],
   "source": [
    "for _lang in missinglinks:\n",
    "    missinglinks_cleaned[_lang] = dict()\n",
    "    for _rule in missinglinks[_lang]:\n",
    "        if (len(missinglinks[_lang][_rule])!=0):\n",
    "            # delete the rule pages that don't have missing links\n",
    "            #missinglinks[_lang].pop(_rule, None)\n",
    "            missinglinks_cleaned[_lang][_rule] = missinglinks[_lang][_rule]"
   ]
  },
  {
   "cell_type": "code",
   "execution_count": 24,
   "metadata": {
    "tags": [
     "outputPrepend"
    ]
   },
   "outputs": [
    {
     "output_type": "stream",
     "name": "stdout",
     "text": " 'Wikipedia:Etiquette': ['fr:Wikipédia:Étiquette'], 'Wikipedia:External links': ['ja:Wikipedia:外部リンク'], 'Wikipedia:Fringe theories': ['es:Wikipedia:Teoría marginal', 'fr:Wikipédia:Théorie controversée'], 'Wikipedia:Gaming the system': ['fr:Wikipédia:Jouer avec les principes, règles et recommandations de Wikipédia', 'ja:Wikipedia:規則の悪用'], 'Wikipedia:IP block exemption': ['es:Wikipedia:Exentos de bloqueo a IP'], 'Wikipedia:Identifying reliable sources (medicine)': ['ja:Wikipedia:信頼できる情報源 (医学)'], 'Wikipedia:Image use policy': [\"fr:Wikipédia:Conventions d'utilisation des images\"], 'Wikipedia:Images': ['es:Wikipedia:Imágenes', 'fr:Aide:Images'], 'Wikipedia:Interface administrators': ['de:Wikipedia:Benutzeroberflächenadministratoren', 'es:Wikipedia:Administradores de interfaz', \"fr:Wikipédia:Administrateur d'interface\", 'ja:Wikipedia:インターフェース管理者'], 'Wikipedia:Libel': ['fr:Wikipédia:Diffamation'], 'Wikipedia:Make technical articles understandable': ['ja:Wikipedia:専門的な記事も分かり易く'], 'Wikipedia:Manual of Style': ['de:Wikipedia:Formatierung'], 'Wikipedia:Manual of Style/Abbreviations': ['es:Wikipedia:Manual de estilo/Abreviaturas'], 'Wikipedia:Manual of Style/Accessibility': ['de:Hilfe:Textgestaltung/Barrierefreiheit'], 'Wikipedia:Manual of Style/Biography': ['es:Wikipedia:Manual de estilo/Biografías', 'fr:Projet:Biographie/Structure des articles'], 'Wikipedia:Manual of Style/Capital letters': ['fr:Usage des majuscules en français lorsque le spécifique est un adjectif'], 'Wikipedia:Manual of Style/Comics': ['de:Wikipedia:Richtlinien Comics'], 'Wikipedia:Manual of Style/Disambiguation pages': ['es:Wikipedia:Manual de estilo/Páginas de desambiguación'], 'Wikipedia:Manual of Style/Film': ['fr:Wikipédia:Conventions filmographiques', 'ja:プロジェクト:映画/映画作品スタイルガイド'], 'Wikipedia:Manual of Style/Icons': ['ja:Wikipedia:アイコン'], 'Wikipedia:Manual of Style/Japan-related articles': ['es:Wikipedia:Manual de estilo/Artículos relacionados con Japón'], 'Wikipedia:Manual of Style/Korea-related articles': ['es:Wikipedia:Manual de estilo/Artículos relacionados con Corea'], 'Wikipedia:Manual of Style/Layout': ['de:Wikipedia:Formatvorlage/Musterartikel'], 'Wikipedia:Manual of Style/Medicine-related articles': ['fr:Wikipédia:Conventions de style (articles sur des sujets medicaux)'], 'Wikipedia:Manual of Style/Music': ['de:Wikipedia:Redaktion Musik/Leitfaden Musikartikel', 'es:Wikipedia:Manual de estilo/Música'], 'Wikipedia:Manual of Style/Novels': ['de:Wikipedia:Richtlinien Literarische Werke'], 'Wikipedia:Manual of Style/Spelling': ['fr:Aide:Orthographe'], 'Wikipedia:Manual of Style/Tables': ['ja:Wikipedia:スタイルマニュアル (表)'], 'Wikipedia:Manual of Style/Trademarks': ['es:Wikipedia:Manual de estilo/Marcas'], 'Wikipedia:Manual of Style/Trivia sections': ['es:Wikipedia:Manual de estilo/Secciones de curiosidades'], 'Wikipedia:Manual of Style/Video games': ['de:Wikipedia:Richtlinien Computerspiele', 'es:Wikiproyecto:Videojuegos/Normas'], 'Wikipedia:Manual of Style/Visual arts': ['de:Wikipedia:Richtlinien bildende Kunst', 'es:Wikipedia:Convención sobre fuentes de relevancia para artistas plásticos contemporáneos'], 'Wikipedia:Manual of Style/Words to watch': ['de:Wikipedia:Vermeide hohle Phrasen', 'es:Wikipedia:Palabras a evitar', 'ja:Wikipedia:言葉を濁さない'], 'Wikipedia:Manual of Style/Writing about fiction': ['fr:Wikipédia:Conventions sur les œuvres de fiction', 'ja:Wikipedia:スタイルマニュアル (フィクション関連)'], 'Wikipedia:Naming conventions (Chinese)': ['fr:Wikipédia:Transcription du chinois'], 'Wikipedia:Naming conventions (Greek)': ['es:Wikipedia:Transliteración/Griego'], 'Wikipedia:Naming conventions (aircraft)': ['de:Portal:Luftfahrt/Namenskonventionen'], 'Wikipedia:Naming conventions (companies)': [\"fr:Wikipédia:Conventions concernant les titres d'entreprises\"], 'Wikipedia:Naming conventions (geographic names)': ['es:Wikipedia:Topónimos de España'], 'Wikipedia:Naming conventions (technical restrictions)': ['de:Hilfe:Seitenname'], 'Wikipedia:New pages patrol/Reviewers': ['es:Wikipedia:Verificadores'], 'Wikipedia:Non-U.S. copyrights': ['ja:Wikipedia:アメリカ合衆国以外の国と地域で公表された著作物の著作権について'], 'Wikipedia:Non-free content': ['es:Wikipedia:Sobre el uso legítimo'], 'Wikipedia:Notability': ['fr:Wikipédia:Notoriété', 'ja:Wikipedia:独立記事作成の目安'], 'Wikipedia:Notability (books)': ['ja:Wikipedia:特筆性 (書籍)'], 'Wikipedia:Notability (events)': ['fr:Wikipédia:Notoriété des événements', 'ja:Wikipedia:特筆性 (事件)'], 'Wikipedia:Notability (geographic features)': ['fr:Wikipédia:Notoriété des lieux géographiques'], 'Wikipedia:Notability (music)': ['es:Wikiproyecto:Wikipedia/Políticas/IdeasRelevancia/en música'], 'Wikipedia:Notability (sports)': ['de:Portal:Sport/Relevanzkriterien Mannschaftssport', 'es:Wikiproyecto:Wikipedia/Políticas/IdeasRelevancia/en deportes'], 'Wikipedia:Oversight': ['es:Wikipedia:Supresores'], 'Wikipedia:Ownership of content': [\"fr:Wikipédia:Appropriation d'un article\"], 'Wikipedia:Paid-contribution disclosure': ['es:Wikipedia:Ediciones remuneradas', 'fr:Wikipédia:Contributions rémunérées', 'ja:Wikipedia:有償の寄稿の開示'], 'Wikipedia:Plagiarism': ['ja:Wikipedia:剽窃'], 'Wikipedia:Policies and guidelines': ['fr:Wikipédia:Règles et recommandations'], 'Wikipedia:Protection policy': ['fr:Wikipédia:Niveaux de protection'], 'Wikipedia:Record charts': ['de:Wikipedia:Formatvorlage Charts', 'fr:Wikipédia:Classement musical'], 'Wikipedia:Red link': ['fr:Aide:Liens rouges'], 'Wikipedia:Redirect': ['fr:Wikipédia:Redirections'], 'Wikipedia:Reliable sources': ['fr:Wikipédia:Sources fiables'], 'Wikipedia:Responding to threats of harm': [\"fr:Wikipédia:Que faire en cas d'urgence ?\"], 'Wikipedia:Reusing Wikipedia content': ['ja:Wikipedia:ウィキペディアを二次利用する'], 'Wikipedia:Reviewing pending changes': ['de:Wikipedia:Gesichtete Versionen'], 'Wikipedia:Revision deletion': [\"fr:Wikipédia:Demande de purge d'historique\"], 'Wikipedia:Rollback': ['fr:Wikipédia:Révocateur'], 'Wikipedia:Soft redirect': ['es:Ayuda:Redirección suave'], 'Wikipedia:Stub': ['de:Wikipedia:Lückenhaft'], 'Wikipedia:Summary style': ['ja:Wikipedia:サマリースタイル'], 'Wikipedia:Talk page guidelines': ['de:Wikipedia:Diskussionsseiten', 'ja:Wikipedia:ノートページのガイドライン'], 'Wikipedia:Userboxes': ['fr:Wikipédia:Boîte utilisateur'], 'Wikipedia:Wikipedia is not a dictionary': ['ja:Wikipedia:ウィキペディアは辞書ではありません']}\n{'Wikipédia:Contributions rémunérées': ['en:Wikipedia:Paid-contribution disclosure', 'es:Wikipedia:Ediciones remuneradas', 'ja:Wikipedia:有償の寄稿の開示'], 'Wikipédia:AbuseFilter': ['de:Wikipedia:Bearbeitungsfilter', 'en:Wikipedia:Edit filter', 'es:Wikipedia:Filtro de ediciones', 'ja:Wikipedia:編集フィルター'], 'Wikipédia:Actions administratives (WMF)': ['de:Wikipedia:Office Action', 'en:Wikipedia:Office actions', 'ja:Wikipedia:事務局行動'], 'Wikipédia:Autobiographie': ['ja:Wikipedia:自分自身の記事'], 'Wikipédia:Blocage en écriture': ['de:Wikipedia:Benutzersperrung'], 'Wikipédia:Citation': ['de:Wikipedia:Zitate', 'ja:Wikipedia:著作権で保護されている文章等の引用に関する方針'], 'Wikipédia:Citez vos sources': ['de:Wikipedia:Zitierregeln'], \"Wikipédia:Conflit d'intérêts\": ['en:Wikipedia:Conflict of interest', 'es:Wikipedia:Conflicto de interés'], \"Wikipédia:Contestation du statut d'administrateur\": ['en:Wikipedia:Requests for de-adminship'], 'Wikipédia:Conventions bibliographiques': ['en:Help:Overview of referencing styles'], 'Wikipédia:Conventions concernant les nombres': ['en:Wikipedia:Manual of Style/Dates and numbers'], 'Wikipédia:Conventions de plan': ['de:Wikipedia:Formatvorlage/Musterartikel'], 'Wikipédia:Conventions de style': ['de:Wikipedia:Formatierung'], 'Wikipédia:Conventions filmographiques': ['en:Wikipedia:Manual of Style/Film', 'ja:プロジェクト:映画/映画作品スタイルガイド'], 'Wikipédia:Critères spécifiques de notoriété': ['en:Wikipedia:Subject-specific guidelines proposal'], 'Wikipédia:Discuter au lieu de voter': ['de:Wikipedia:Nimm nicht an Abstimmungen teil'], \"Wikipédia:Droit d'auteur\": ['de:Wikipedia:Urheberrechte beachten'], \"Wikipédia:Exceptions au droit d'auteur\": ['en:Wikipedia:Non-free content criteria', 'ja:Wikipedia:フリーでないコンテントの使用基準'], 'Wikipédia:Faux-nez': ['en:Wikipedia:Sockpuppetry'], 'Wikipédia:Harcèlement': ['en:Wikipedia:Harassment', 'es:Wikipedia:Acoso'], 'Wikipédia:Interprétation créative des règles': ['de:Wikipedia:Ignoriere alle Regeln', 'en:Wikipedia:Ignore all rules', 'es:Wikipedia:Ignora las normas'], 'Wikipédia:Jouer avec les principes, règles et recommandations de Wikipédia': ['ja:Wikipedia:規則の悪用'], 'Wikipédia:Liens externes': ['ja:Wikipedia:外部リンク'], 'Wikipédia:Liens internes': ['en:Wikipedia:Tutorial (historical)/Wikipedia links'], 'Wikipédia:Mise en forme des images': ['en:Wikipedia:Picture tutorial'], 'Wikipédia:Mobile': ['de:Wikipedia:Unterwegs', 'en:Help:Mobile access', 'ja:Help:携帯端末でのアクセス'], \"Wikipédia:N'hésitez pas !\": ['es:Wikipedia:Sé valiente al editar páginas'], 'Wikipédia:Ne jouez pas au con !': [\"en:Wikipedia:Don't be a jerk\", 'es:Wikipedia:No seas estúpido'], \"Wikipédia:Nom d'utilisateur connu\": ['de:Wikipedia:Benutzerverifizierung'], 'Wikipédia:Notoriété': ['de:Wikipedia:Relevanzkriterien', 'en:Wikipedia:Notability', 'es:Wikipedia:Artículos sin relevancia aparente', 'ja:Wikipedia:独立記事作成の目安'], 'Wikipédia:Notoriété dans le football': ['en:Wikipedia:WikiProject Football/Notability'], 'Wikipédia:Notoriété de la musique': ['es:Wikiproyecto:Wikipedia/Políticas/IdeasRelevancia/en música'], 'Wikipédia:Notoriété des jeux de société': ['en:Wikipedia:Notability (video games)'], 'Wikipédia:Notoriété des sportifs': ['de:Portal:Sport/Relevanzkriterien Mannschaftssport', 'en:Wikipedia:Notability (sports)', 'es:Wikiproyecto:Wikipedia/Políticas/IdeasRelevancia/en deportes'], 'Wikipédia:Notoriété des événements': ['en:Wikipedia:Notability (events)', 'ja:Wikipedia:特筆性 (事件)'], 'Wikipédia:Nouveau départ': ['en:Wikipedia:Clean start', 'ja:Wikipedia:再出発の方針'], 'Wikipédia:Pantin': ['en:Wikipedia:Sock puppetry#Meatpuppetry'], 'Wikipédia:Restriction thématique': ['en:Wikipedia:Banning policy#Topic ban'], 'Wikipédia:Règle des trois révocations': ['ja:Wikipedia:スリー・リバート・ルール'], 'Wikipédia:Révocateur': ['en:Wikipedia:Rollback', 'es:Wikipedia:Reversores', 'ja:Wikipedia:巻き戻し者'], 'Wikipédia:Sections anecdotiques': ['en:Wikipedia:Manual of Style/Trivia sections', 'es:Wikipedia:Manual de estilo/Secciones de curiosidades'], 'Wikipédia:Semi-protection': ['de:Wikipedia:Pressemitteilungen/FAQ Semi-protection policy', 'en:Wikipedia:Rough guide to semi-protection', 'es:Wikipedia:Semiprotección de páginas'], 'Wikipédia:Semi-protection étendue': ['en:Wikipedia:Rough guide to extended confirmed protection', 'ja:Wikipedia:拡張半保護の方針'], 'Wikipédia:Sources primaires, secondaires et tertiaires': ['en:Wikipedia:Identifying and using primary sources'], 'Wikipédia:Supposer la bonne foi': ['de:Wikipedia:Geh von guten Absichten aus', 'es:Wikipedia:Presume buena fe'], 'Wikipédia:Termes à utiliser avec précaution': ['de:Wikipedia:Vermeide hohle Phrasen', 'en:Wikipedia:Manual of Style/Words to watch', 'ja:Wikipedia:言葉を濁さない'], 'Wikipédia:Résumé de modification': ['de:Hilfe:Zusammenfassung und Quellen', 'en:Help:Edit summary', 'ja:Help:要約欄'], 'Wikipédia:Transcription du chinois': ['de:Wikipedia:Namenskonventionen/Chinesisch', 'en:Wikipedia:Naming conventions (Chinese)'], 'Wikipédia:Transcription du japonais': ['es:Wikipedia:Manual de estilo/Artículos relacionados con Japón'], \"Wikipédia:Wikipédia n'est pas un dictionnaire\": ['ja:Wikipedia:ウィキペディアは辞書ではありません'], 'Wikipédia:Étiquette': ['de:Wikipedia:Wikiquette', 'es:Wikipedia:Etiqueta', 'ja:Wikipedia:エチケット']}\n{'Wikipedia:Administradores de interfaz': ['de:Wikipedia:Benutzeroberflächenadministratoren', 'en:Wikipedia:Interface administrators', \"fr:Wikipédia:Administrateur d'interface\", 'ja:Wikipedia:インターフェース管理者'], 'Wikipedia:Artículos sin relevancia aparente': ['fr:Wikipédia:Notoriété', 'ja:Wikipedia:独立記事作成の目安'], 'Wikipedia:Autobiografía': ['ja:Wikipedia:自分自身の記事'], 'Wikipedia:Candidaturas a bibliotecario': ['de:Wikipedia:Kandidaturen'], 'Wikipedia:Conflicto de interés': [\"fr:Wikipédia:Conflit d'intérêts\"], 'Wikipedia:Convención sobre fuentes de relevancia para artistas plásticos contemporáneos': ['de:Wikipedia:Richtlinien bildende Kunst', 'en:Wikipedia:Manual of Style/Visual arts'], 'Wikipedia:Creadores de cuentas': ['en:Wikipedia:Account creator', 'fr:Wikipédia:Créateur de comptes', 'ja:Wikipedia:アカウント作成者'], 'Wikipedia:Cuenta de propósito particular': ['fr:Wikipédia:Compte à objet unique'], 'Wikipedia:Derechos de autor': ['de:Wikipedia:Urheberrechte beachten'], 'Wikipedia:Documentación de las plantillas de mantenimiento': ['de:Hilfe:Vorlagendokumentation', 'en:Wikipedia:Template documentation', 'fr:Aide:Documentation de modèle', 'ja:Help:テンプレートの説明文'], 'Wikipedia:Encuestas': ['de:Wikipedia:Umfragen', 'en:Wikipedia:Survey', 'fr:Wikipédia:Sondage'], 'Wikipedia:Enlaces externos': ['ja:Wikipedia:外部リンク'], 'Wikipedia:Esbozo': ['de:Wikipedia:Lückenhaft'], 'Wikipedia:Estructura de un artículo': ['de:Wikipedia:Formatvorlage/Musterartikel'], 'Wikipedia:Etiqueta': ['fr:Wikipédia:Étiquette'], 'Wikipedia:Etiquetas de usuario': ['fr:Wikipédia:Boîte utilisateur'], 'Wikipedia:Manual de estilo': ['de:Wikipedia:Formatierung'], 'Wikipedia:Manual de estilo/Biografías': ['de:Wikipedia:Formatvorlage Biografie', 'en:Wikipedia:Manual of Style/Biography', 'fr:Projet:Biographie/Structure des articles', 'ja:Wikipedia:スタイルマニュアル (人物伝)'], 'Wikipedia:Manual de estilo/Marcas': ['en:Wikipedia:Manual of Style/Trademarks'], 'Wikipedia:Manual de estilo/Música': ['de:Wikipedia:Redaktion Musik/Leitfaden Musikartikel', 'en:Wikipedia:Manual of Style/Music'], 'Wikipedia:Manual de estilo/Secciones de curiosidades': ['ja:Wikipedia:雑多な内容を箇条書きした節を避ける'], 'Wikipedia:Plantillas de navegación': ['en:Wikipedia:Navigation template', 'fr:Aide:Palette de navigation', 'ja:Wikipedia:ナビゲーションテンプレート'], 'Wikipedia:Política de borrado': ['fr:Wikipédia:Pages à supprimer/Aide'], 'Wikipedia:Política de bots': ['en:Wikipedia:Bot policy'], 'Wikipedia:Política de protección': ['fr:Wikipédia:Niveaux de protection'], 'Wikipedia:Política de uso de imágenes': [\"fr:Wikipédia:Conventions d'utilisation des images\"], 'Wikipedia:Políticas y convenciones': ['fr:Wikipédia:Règles et recommandations'], 'Wikipedia:Por favor aclarar': ['en:Wikipedia:Please clarify', 'fr:Aide:Préciser un fait'], 'Wikipedia:Propiedad de los artículos': ['en:Wikipedia:Ownership of content'], 'Wikipedia:Proselitismo': ['ja:Wikipedia:勧誘行為'], 'Wikipedia:Páginas de discusión': ['de:Hilfe:Diskussionsseiten', 'en:Help:Talk pages', 'fr:Aide:Discussion'], 'Wikipedia:Qué es un artículo bueno': ['ja:Wikipedia:Good article criteria'], 'Wikipedia:Qué es un artículo destacado': ['fr:Wikipédia:Contenus de qualité/Règles', 'ja:Wikipedia:秀逸な記事/秀逸な記事の目安'], 'Wikipedia:Referencias': ['de:Wikipedia:Zitierregeln'], 'Wikipedia:Regla de las tres reversiones': ['ja:Wikipedia:スリー・リバート・ルール'], 'Wikipedia:Revalidación de bibliotecarios': ['en:Wikipedia:Requests for de-adminship'], 'Wikipedia:Reversores': ['fr:Wikipédia:Révocateur'], 'Wikipedia:Semiprotección de páginas': ['de:Wikipedia:Pressemitteilungen/FAQ Semi-protection policy', 'en:Wikipedia:Rough guide to semi-protection', 'fr:Wikipédia:Semi-protection'], 'Wikipedia:Topónimos de España': ['en:Wikipedia:Naming conventions (geographic names)'], 'Wikipedia:Transliteración y transcripción': ['en:Wikipedia:Romanization', 'fr:Wikipédia:Romanisation'], 'Wikipedia:Usa el sentido común': ['ja:Wikipedia:常識なんてない'], 'Wikipedia:Usuarios títeres': ['en:Wikipedia:Sockpuppetry'], 'Wikipedia:Verificadores': ['en:Wikipedia:New pages patrol/Reviewers'], 'Wikipedia:Votaciones': ['en:Wikipedia:Voting', 'ja:Wikipedia:投票'], 'Wikipedia:Véase también': ['de:Wikipedia:Assoziative Verweise'], 'Wikipedia:Wikipedia no es un diccionario': ['ja:Wikipedia:ウィキペディアは辞書ではありません']}\n{'Wikipedia:IPブロック適用除外': ['en:Wikipedia:IP block exemption', 'es:Wikipedia:Exentos de bloqueo a IP'], 'Wikipedia:すぐに古くなる表現は使わない': ['fr:Aide:Quand'], 'Wikipedia:アイコン': ['en:Wikipedia:Manual of Style/Icons'], 'Wikipedia:アカウント作成者': ['en:Wikipedia:Account creator', 'es:Wikipedia:Creadores de cuentas', 'fr:Wikipédia:Créateur de comptes'], 'Wikipedia:インターフェース管理者': ['de:Wikipedia:Benutzeroberflächenadministratoren', 'en:Wikipedia:Interface administrators', 'es:Wikipedia:Administradores de interfaz', \"fr:Wikipédia:Administrateur d'interface\"], 'Wikipedia:エチケット': ['fr:Wikipédia:Étiquette'], 'Wikipedia:オーバーサイトの方針': ['de:Wikipedia:Oversight', 'en:Wikipedia:Oversight', 'fr:Wikipédia:Masqueur de modifications'], 'Wikipedia:オーバーサイト依頼': ['de:Wikipedia:Oversight/Kontakt', 'en:Wikipedia:Requests for oversight'], 'Wikipedia:サマリースタイル': ['en:Wikipedia:Summary style'], 'Wikipedia:スタイルマニュアル': ['de:Wikipedia:Formatierung'], 'Wikipedia:スタイルマニュアル (フィクション関連)': ['de:Wikipedia:Richtlinien Fiktives', 'en:Wikipedia:Manual of Style/Writing about fiction', 'fr:Wikipédia:Conventions sur les œuvres de fiction'], 'Wikipedia:スタイルマニュアル (レイアウト)': ['de:Wikipedia:Formatvorlage/Musterartikel'], 'Wikipedia:スタイルマニュアル (人物伝)': ['en:Wikipedia:Manual of Style/Biography', 'es:Wikipedia:Manual de estilo/Biografías', 'fr:Projet:Biographie/Structure des articles'], 'Wikipedia:ハットノート': ['en:Wikipedia:Hatnote'], 'Wikipedia:ページの分割と統合': ['de:Hilfe:Artikel zusammenführen', 'es:Wikipedia:Fusiones'], 'Wikipedia:ページの編集は大胆に': ['es:Wikipedia:Sé valiente al editar páginas'], 'Wikipedia:リダイレクト': ['fr:Wikipédia:Redirections'], 'Wikipedia:五本の柱': ['es:Wikipedia:Los cinco pilares'], 'Wikipedia:保護の方針': ['es:Wikipedia:Política de protección', 'fr:Wikipédia:Niveaux de protection'], 'Wikipedia:児童・生徒の方々へ': ['en:Wikipedia:Guidance for younger editors', 'es:Wikipedia:Guía para los más pequeños'], 'Wikipedia:出典を明記する': ['de:Wikipedia:Zitierregeln'], 'Wikipedia:削除の方針': ['fr:Wikipédia:Pages à supprimer/Aide'], 'Wikipedia:削除者': ['es:Wikipedia:Propuesta de política sobre eliminadores'], 'Wikipedia:半保護の方針': ['de:Wikipedia:Pressemitteilungen/FAQ Semi-protection policy', 'en:Wikipedia:Rough guide to semi-protection', 'es:Wikipedia:Semiprotección de páginas', 'fr:Wikipédia:Semi-protection'], 'Wikipedia:各日のスタイルガイド': ['en:Wikipedia:Days of the year'], 'Wikipedia:外部リンク': ['de:Wikipedia:Weblinks', 'en:Wikipedia:External links'], 'Wikipedia:多重アカウント': ['en:Wikipedia:Sockpuppetry'], 'Wikipedia:巻き戻し者': ['es:Wikipedia:Reversores', 'fr:Wikipédia:Révocateur'], 'Wikipedia:影響が特に大きいテンプレート': ['en:Wikipedia:High-risk templates'], 'Wikipedia:復帰の方針': ['en:Wikipedia:Deletion policy#Deletion review'], 'Wikipedia:投稿ブロックの方針': ['de:Wikipedia:Benutzersperrung'], 'Wikipedia:拡張半保護の方針': ['en:Wikipedia:Rough guide to extended confirmed protection', 'fr:Wikipédia:Semi-protection étendue'], 'Wikipedia:方針とガイドライン': ['fr:Wikipédia:Règles et recommandations'], 'Wikipedia:有償の寄稿の開示': ['en:Wikipedia:Paid-contribution disclosure', 'es:Wikipedia:Ediciones remuneradas', 'fr:Wikipédia:Contributions rémunérées'], 'Wikipedia:法的な脅迫をしない': ['en:Wikipedia:No legal threats'], 'Wikipedia:特筆性 (音楽)': ['es:Wikiproyecto:Wikipedia/Políticas/IdeasRelevancia/en música'], 'Wikipedia:独立記事作成の目安': ['de:Wikipedia:Relevanzkriterien', 'fr:Wikipédia:Notoriété'], 'Wikipedia:画像利用の方針': [\"fr:Wikipédia:Conventions d'utilisation des images\"], 'Wikipedia:管理者の解任': ['en:Wikipedia:Removing administrator rights', 'fr:Wikipédia:Administrateur/Problème'], 'Wikipedia:翻訳のガイドライン': ['es:Wikipedia:Traducciones'], 'Wikipedia:腕ずくで解決しようとしない': ['en:Wikipedia:Do not disrupt Wikipedia to illustrate a point', 'fr:Wikipédia:Ne pas désorganiser Wikipédia pour une argumentation personnelle'], 'Wikipedia:自著作物の持ち込み': ['fr:Aide:Republication/Auteur'], 'Wikipedia:著作権': ['de:Wikipedia:Urheberrechte beachten'], 'Wikipedia:言葉を濁さない': ['es:Wikipedia:Palabras a evitar', 'fr:Wikipédia:Termes à utiliser avec précaution'], 'Wikipedia:記事どうしをつなぐ': ['de:Wikipedia:Verlinken'], 'Wikipedia:記事の所有権': ['en:Wikipedia:Ownership of content'], 'Wikipedia:記事名の付け方/鉄道': ['de:Wikipedia:Namenskonventionen/Schienenfahrzeuge'], 'Wikipedia:過剰なカテゴリ': ['en:Wikipedia:Overcategorization'], 'Wikipedia:過剰な内容の整理': ['en:Wikipedia:Handling trivia'], 'Wikipedia:雑多な内容を箇条書きした節を避ける': ['es:Wikipedia:Manual de estilo/Secciones de curiosidades']}\n"
    }
   ],
   "source": [
    "for x in missinglinks_cleaned:\n",
    "    print(missinglinks_cleaned[x])"
   ]
  },
  {
   "cell_type": "code",
   "execution_count": 26,
   "metadata": {
    "tags": []
   },
   "outputs": [
    {
     "output_type": "stream",
     "name": "stdout",
     "text": "de\nen\nfr\nes\nja\n"
    }
   ],
   "source": [
    "#export for ellie\n",
    "for _lang in missinglinks_cleaned:\n",
    "    print(_lang)\n",
    "    with open('missinglinks_{}.txt'.format(_lang),'w',encoding=\"utf-8\") as f:\n",
    "        for _rule in missinglinks_cleaned[_lang]:\n",
    "            f.write('{}\\n'.format(_rule))\n",
    "            for _link in missinglinks_cleaned[_lang][_rule]:\n",
    "                #print(str(_link).encode(\"utf-8\"))\n",
    "                f.write('\\t{}\\n'.format(_link))\n",
    "            f.write('\\n')"
   ]
  },
  {
   "cell_type": "markdown",
   "metadata": {},
   "source": [
    "## Missing links (all ILLs, not just the 5 languages)"
   ]
  },
  {
   "cell_type": "code",
   "execution_count": null,
   "metadata": {},
   "outputs": [],
   "source": [
    "missinglinks_all = dict()"
   ]
  }
 ]
}